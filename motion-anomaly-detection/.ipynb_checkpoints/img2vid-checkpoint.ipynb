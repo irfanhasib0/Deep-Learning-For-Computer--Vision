{
 "cells": [
  {
   "cell_type": "code",
   "execution_count": 5,
   "id": "e1063288-a609-4cb1-8cc9-fa354228a06f",
   "metadata": {},
   "outputs": [
    {
     "ename": "ValueError",
     "evalue": "too many values to unpack (expected 2)",
     "output_type": "error",
     "traceback": [
      "\u001b[0;31m---------------------------------------------------------------------------\u001b[0m",
      "\u001b[0;31mValueError\u001b[0m                                Traceback (most recent call last)",
      "Cell \u001b[0;32mIn[5], line 10\u001b[0m\n\u001b[1;32m      8\u001b[0m result \u001b[38;5;241m=\u001b[39m cv2\u001b[38;5;241m.\u001b[39mVideoWriter(\u001b[38;5;124m'\u001b[39m\u001b[38;5;124m/home/irfan/Desktop/Data/MOT20/train/MOT20-01/img1.avi\u001b[39m\u001b[38;5;124m'\u001b[39m, cv2\u001b[38;5;241m.\u001b[39mVideoWriter_fourcc(\u001b[38;5;241m*\u001b[39m\u001b[38;5;124m'\u001b[39m\u001b[38;5;124mMJPG\u001b[39m\u001b[38;5;124m'\u001b[39m), \u001b[38;5;241m25\u001b[39m, size) \n\u001b[1;32m      9\u001b[0m \u001b[38;5;28;01mfor\u001b[39;00m file \u001b[38;5;129;01min\u001b[39;00m files: \n\u001b[0;32m---> 10\u001b[0m     ret, frame \u001b[38;5;241m=\u001b[39m cv2\u001b[38;5;241m.\u001b[39mimread(file) \n\u001b[1;32m     12\u001b[0m     \u001b[38;5;28;01mif\u001b[39;00m ret \u001b[38;5;241m==\u001b[39m \u001b[38;5;28;01mTrue\u001b[39;00m: \n\u001b[1;32m     14\u001b[0m         result\u001b[38;5;241m.\u001b[39mwrite(frame) \n",
      "\u001b[0;31mValueError\u001b[0m: too many values to unpack (expected 2)"
     ]
    }
   ],
   "source": [
    "import cv2 \n",
    "import glob\n",
    "\n",
    "files = glob.glob('/home/irfan/Desktop/Data/MOT20/train/MOT20-01/img1/*')\n",
    "frame = cv2.imread(files[0])\n",
    "size  = (frame.shape[:-1]) \n",
    "\n",
    "result = cv2.VideoWriter('/home/irfan/Desktop/Data/MOT20/train/MOT20-01/img1.avi', cv2.VideoWriter_fourcc(*'MJPG'), 25, size) \n",
    "for file in files: \n",
    "    frame = cv2.imread(file) \n",
    "\n",
    "    \n",
    "    result.write(frame) \n",
    "    '''\n",
    "    cv2.imshow('Frame', frame) \n",
    "\n",
    "    if cv2.waitKey(1) & 0xFF == ord('s'): \n",
    "        break\n",
    "    '''\n",
    "    \n",
    "video.release() \n",
    "result.release() \n",
    "cv2.destroyAllWindows() \n",
    "\n",
    "print(\"The video was successfully saved\") \n"
   ]
  },
  {
   "cell_type": "code",
   "execution_count": 8,
   "id": "29ac6974-d0ad-4f0e-a421-d2f9d942d4a6",
   "metadata": {},
   "outputs": [],
   "source": [
    "res = cv2.imread(file) "
   ]
  },
  {
   "cell_type": "code",
   "execution_count": 9,
   "id": "9d6b75c3-8378-4a78-9f9c-9409220edd35",
   "metadata": {},
   "outputs": [
    {
     "data": {
      "text/plain": [
       "(1080, 1920, 3)"
      ]
     },
     "execution_count": 9,
     "metadata": {},
     "output_type": "execute_result"
    }
   ],
   "source": [
    "res.shape"
   ]
  },
  {
   "cell_type": "code",
   "execution_count": null,
   "id": "95310b8a-6e47-4e1d-b62f-6451b1255b02",
   "metadata": {},
   "outputs": [],
   "source": []
  }
 ],
 "metadata": {
  "kernelspec": {
   "display_name": "python_38",
   "language": "python",
   "name": "python_38"
  },
  "language_info": {
   "codemirror_mode": {
    "name": "ipython",
    "version": 3
   },
   "file_extension": ".py",
   "mimetype": "text/x-python",
   "name": "python",
   "nbconvert_exporter": "python",
   "pygments_lexer": "ipython3",
   "version": "3.8.10"
  }
 },
 "nbformat": 4,
 "nbformat_minor": 5
}
