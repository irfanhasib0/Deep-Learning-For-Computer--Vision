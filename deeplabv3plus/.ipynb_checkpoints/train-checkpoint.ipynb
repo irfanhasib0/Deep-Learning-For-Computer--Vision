{
 "cells": [
  {
   "cell_type": "code",
   "execution_count": 1,
   "id": "ba3bb487-ec76-41a3-b97a-05ecf2bf7ab1",
   "metadata": {
    "scrolled": true,
    "tags": []
   },
   "outputs": [
    {
     "name": "stdout",
     "output_type": "stream",
     "text": [
      "Device: cuda\n",
      "/home/irfan/Desktop/Data/VOCtrainval_11-May-2012/VOCdevkit/VOC2012\n",
      "/home/irfan/Desktop/Data/VOCtrainval_11-May-2012/VOCdevkit/VOC2012\n",
      "Dataset: voc, Train set: 1464, Val set: 1449\n",
      "[!] Retrain\n"
     ]
    },
    {
     "name": "stderr",
     "output_type": "stream",
     "text": [
      "/home/irfan/Desktop/Code/Linux-IO/python_38/lib/python3.8/site-packages/torchvision/transforms/functional.py:417: UserWarning: Argument 'interpolation' of type int is deprecated since 0.13 and will be removed in 0.15. Please use InterpolationMode enum.\n",
      "  warnings.warn(\n",
      "/home/irfan/Desktop/Code/Linux-IO/python_38/lib/python3.8/site-packages/torchvision/transforms/functional.py:417: UserWarning: Argument 'interpolation' of type int is deprecated since 0.13 and will be removed in 0.15. Please use InterpolationMode enum.\n",
      "  warnings.warn(\n"
     ]
    },
    {
     "name": "stdout",
     "output_type": "stream",
     "text": [
      "Epoch 1, Itrs 10/30000, Loss=2.205890\n",
      "Epoch 1, Itrs 20/30000, Loss=1.901858\n",
      "Epoch 1, Itrs 30/30000, Loss=1.520020\n",
      "Epoch 1, Itrs 40/30000, Loss=1.275033\n",
      "Epoch 1, Itrs 50/30000, Loss=1.144743\n",
      "Epoch 1, Itrs 60/30000, Loss=1.173431\n",
      "Epoch 1, Itrs 70/30000, Loss=1.187438\n",
      "Epoch 1, Itrs 80/30000, Loss=0.969259\n",
      "Epoch 1, Itrs 90/30000, Loss=1.068519\n",
      "Epoch 1, Itrs 100/30000, Loss=1.045613\n",
      "Model saved as checkpoints/latest_deeplabv3plus_mobilenet_voc_os16.pth\n",
      "validation...\n"
     ]
    },
    {
     "name": "stderr",
     "output_type": "stream",
     "text": [
      "1449it [00:29, 49.48it/s]\n"
     ]
    },
    {
     "name": "stdout",
     "output_type": "stream",
     "text": [
      "\n",
      "Overall Acc: 0.786099\n",
      "Mean Acc: 0.323944\n",
      "FreqW Acc: 0.671203\n",
      "Mean IoU: 0.220988\n",
      "\n",
      "Model saved as checkpoints/best_deeplabv3plus_mobilenet_voc_os16.pth\n",
      "Epoch 1, Itrs 110/30000, Loss=0.977696\n",
      "Epoch 1, Itrs 120/30000, Loss=1.062680\n",
      "Epoch 1, Itrs 130/30000, Loss=0.945614\n",
      "Epoch 1, Itrs 140/30000, Loss=1.160699\n",
      "Epoch 1, Itrs 150/30000, Loss=1.070337\n",
      "Epoch 1, Itrs 160/30000, Loss=1.160323\n",
      "Epoch 1, Itrs 170/30000, Loss=0.955402\n",
      "Epoch 1, Itrs 180/30000, Loss=0.969656\n"
     ]
    },
    {
     "name": "stderr",
     "output_type": "stream",
     "text": [
      "/home/irfan/Desktop/Code/Linux-IO/python_38/lib/python3.8/site-packages/torchvision/transforms/functional.py:417: UserWarning: Argument 'interpolation' of type int is deprecated since 0.13 and will be removed in 0.15. Please use InterpolationMode enum.\n",
      "  warnings.warn(\n",
      "/home/irfan/Desktop/Code/Linux-IO/python_38/lib/python3.8/site-packages/torchvision/transforms/functional.py:417: UserWarning: Argument 'interpolation' of type int is deprecated since 0.13 and will be removed in 0.15. Please use InterpolationMode enum.\n",
      "  warnings.warn(\n"
     ]
    },
    {
     "name": "stdout",
     "output_type": "stream",
     "text": [
      "Epoch 2, Itrs 190/30000, Loss=1.011022\n",
      "Epoch 2, Itrs 200/30000, Loss=0.829223\n",
      "Model saved as checkpoints/latest_deeplabv3plus_mobilenet_voc_os16.pth\n",
      "validation...\n"
     ]
    },
    {
     "name": "stderr",
     "output_type": "stream",
     "text": [
      "1449it [00:31, 46.21it/s]\n"
     ]
    },
    {
     "name": "stdout",
     "output_type": "stream",
     "text": [
      "\n",
      "Overall Acc: 0.817726\n",
      "Mean Acc: 0.365300\n",
      "FreqW Acc: 0.691617\n",
      "Mean IoU: 0.292977\n",
      "\n",
      "Model saved as checkpoints/best_deeplabv3plus_mobilenet_voc_os16.pth\n",
      "Epoch 2, Itrs 210/30000, Loss=0.722534\n",
      "Epoch 2, Itrs 220/30000, Loss=1.125346\n",
      "Epoch 2, Itrs 230/30000, Loss=0.754738\n",
      "Epoch 2, Itrs 240/30000, Loss=0.733517\n",
      "Epoch 2, Itrs 250/30000, Loss=0.764044\n",
      "Epoch 2, Itrs 260/30000, Loss=0.868816\n",
      "Epoch 2, Itrs 270/30000, Loss=0.788485\n",
      "Epoch 2, Itrs 280/30000, Loss=0.799486\n",
      "Epoch 2, Itrs 290/30000, Loss=0.851149\n",
      "Epoch 2, Itrs 300/30000, Loss=0.672945\n",
      "Model saved as checkpoints/latest_deeplabv3plus_mobilenet_voc_os16.pth\n",
      "validation...\n"
     ]
    },
    {
     "name": "stderr",
     "output_type": "stream",
     "text": [
      "1449it [00:34, 41.57it/s]\n"
     ]
    },
    {
     "name": "stdout",
     "output_type": "stream",
     "text": [
      "\n",
      "Overall Acc: 0.826052\n",
      "Mean Acc: 0.502019\n",
      "FreqW Acc: 0.727499\n",
      "Mean IoU: 0.370697\n",
      "\n",
      "Model saved as checkpoints/best_deeplabv3plus_mobilenet_voc_os16.pth\n",
      "Epoch 2, Itrs 310/30000, Loss=0.518520\n",
      "Epoch 2, Itrs 320/30000, Loss=0.711163\n",
      "Epoch 2, Itrs 330/30000, Loss=0.859526\n",
      "Epoch 2, Itrs 340/30000, Loss=0.741890\n",
      "Epoch 2, Itrs 350/30000, Loss=0.747536\n",
      "Epoch 2, Itrs 360/30000, Loss=1.043136\n"
     ]
    },
    {
     "name": "stderr",
     "output_type": "stream",
     "text": [
      "/home/irfan/Desktop/Code/Linux-IO/python_38/lib/python3.8/site-packages/torchvision/transforms/functional.py:417: UserWarning: Argument 'interpolation' of type int is deprecated since 0.13 and will be removed in 0.15. Please use InterpolationMode enum.\n",
      "  warnings.warn(\n",
      "/home/irfan/Desktop/Code/Linux-IO/python_38/lib/python3.8/site-packages/torchvision/transforms/functional.py:417: UserWarning: Argument 'interpolation' of type int is deprecated since 0.13 and will be removed in 0.15. Please use InterpolationMode enum.\n",
      "  warnings.warn(\n"
     ]
    },
    {
     "name": "stdout",
     "output_type": "stream",
     "text": [
      "Epoch 3, Itrs 370/30000, Loss=0.699834\n",
      "Epoch 3, Itrs 380/30000, Loss=0.769415\n",
      "Epoch 3, Itrs 390/30000, Loss=0.759056\n",
      "Epoch 3, Itrs 400/30000, Loss=1.035663\n",
      "Model saved as checkpoints/latest_deeplabv3plus_mobilenet_voc_os16.pth\n",
      "validation...\n"
     ]
    },
    {
     "name": "stderr",
     "output_type": "stream",
     "text": [
      "1449it [00:37, 38.52it/s]\n"
     ]
    },
    {
     "name": "stdout",
     "output_type": "stream",
     "text": [
      "\n",
      "Overall Acc: 0.811057\n",
      "Mean Acc: 0.517459\n",
      "FreqW Acc: 0.716631\n",
      "Mean IoU: 0.377250\n",
      "\n",
      "Model saved as checkpoints/best_deeplabv3plus_mobilenet_voc_os16.pth\n",
      "Epoch 3, Itrs 410/30000, Loss=0.727359\n",
      "Epoch 3, Itrs 420/30000, Loss=0.656133\n",
      "Epoch 3, Itrs 430/30000, Loss=0.603982\n",
      "Epoch 3, Itrs 440/30000, Loss=0.745984\n",
      "Epoch 3, Itrs 450/30000, Loss=0.772483\n",
      "Epoch 3, Itrs 460/30000, Loss=0.541606\n",
      "Epoch 3, Itrs 470/30000, Loss=0.772766\n",
      "Epoch 3, Itrs 480/30000, Loss=0.909828\n",
      "Epoch 3, Itrs 490/30000, Loss=0.711780\n",
      "Epoch 3, Itrs 500/30000, Loss=0.833714\n",
      "Model saved as checkpoints/latest_deeplabv3plus_mobilenet_voc_os16.pth\n",
      "validation...\n"
     ]
    },
    {
     "name": "stderr",
     "output_type": "stream",
     "text": [
      "1449it [00:40, 35.94it/s]\n"
     ]
    },
    {
     "name": "stdout",
     "output_type": "stream",
     "text": [
      "\n",
      "Overall Acc: 0.842804\n",
      "Mean Acc: 0.617007\n",
      "FreqW Acc: 0.748221\n",
      "Mean IoU: 0.439266\n",
      "\n",
      "Model saved as checkpoints/best_deeplabv3plus_mobilenet_voc_os16.pth\n",
      "Epoch 3, Itrs 510/30000, Loss=0.866564\n",
      "Epoch 3, Itrs 520/30000, Loss=0.782183\n",
      "Epoch 3, Itrs 530/30000, Loss=0.745726\n",
      "Epoch 3, Itrs 540/30000, Loss=0.951090\n"
     ]
    },
    {
     "name": "stderr",
     "output_type": "stream",
     "text": [
      "/home/irfan/Desktop/Code/Linux-IO/python_38/lib/python3.8/site-packages/torchvision/transforms/functional.py:417: UserWarning: Argument 'interpolation' of type int is deprecated since 0.13 and will be removed in 0.15. Please use InterpolationMode enum.\n",
      "  warnings.warn(\n",
      "/home/irfan/Desktop/Code/Linux-IO/python_38/lib/python3.8/site-packages/torchvision/transforms/functional.py:417: UserWarning: Argument 'interpolation' of type int is deprecated since 0.13 and will be removed in 0.15. Please use InterpolationMode enum.\n",
      "  warnings.warn(\n"
     ]
    },
    {
     "name": "stdout",
     "output_type": "stream",
     "text": [
      "Epoch 4, Itrs 550/30000, Loss=0.669846\n",
      "Epoch 4, Itrs 560/30000, Loss=0.807388\n",
      "Epoch 4, Itrs 570/30000, Loss=0.610103\n",
      "Epoch 4, Itrs 580/30000, Loss=0.586290\n",
      "Epoch 4, Itrs 590/30000, Loss=0.744392\n",
      "Epoch 4, Itrs 600/30000, Loss=0.657794\n",
      "Model saved as checkpoints/latest_deeplabv3plus_mobilenet_voc_os16.pth\n",
      "validation...\n"
     ]
    },
    {
     "name": "stderr",
     "output_type": "stream",
     "text": [
      "1449it [00:40, 35.56it/s]\n"
     ]
    },
    {
     "name": "stdout",
     "output_type": "stream",
     "text": [
      "\n",
      "Overall Acc: 0.811919\n",
      "Mean Acc: 0.548697\n",
      "FreqW Acc: 0.714365\n",
      "Mean IoU: 0.374630\n",
      "\n",
      "Epoch 4, Itrs 610/30000, Loss=0.698302\n",
      "Epoch 4, Itrs 620/30000, Loss=0.667098\n",
      "Epoch 4, Itrs 630/30000, Loss=0.614721\n",
      "Epoch 4, Itrs 640/30000, Loss=0.701381\n",
      "Epoch 4, Itrs 650/30000, Loss=0.604944\n",
      "Epoch 4, Itrs 660/30000, Loss=0.801547\n",
      "Epoch 4, Itrs 670/30000, Loss=0.669645\n",
      "Epoch 4, Itrs 680/30000, Loss=0.808866\n",
      "Epoch 4, Itrs 690/30000, Loss=0.670116\n",
      "Epoch 4, Itrs 700/30000, Loss=0.605156\n",
      "Model saved as checkpoints/latest_deeplabv3plus_mobilenet_voc_os16.pth\n",
      "validation...\n"
     ]
    },
    {
     "name": "stderr",
     "output_type": "stream",
     "text": [
      "1449it [00:42, 34.17it/s]\n"
     ]
    },
    {
     "name": "stdout",
     "output_type": "stream",
     "text": [
      "\n",
      "Overall Acc: 0.855026\n",
      "Mean Acc: 0.571194\n",
      "FreqW Acc: 0.760225\n",
      "Mean IoU: 0.443090\n",
      "\n",
      "Model saved as checkpoints/best_deeplabv3plus_mobilenet_voc_os16.pth\n",
      "Epoch 4, Itrs 710/30000, Loss=0.698868\n",
      "Epoch 4, Itrs 720/30000, Loss=0.630628\n",
      "Epoch 4, Itrs 730/30000, Loss=0.605239\n"
     ]
    },
    {
     "name": "stderr",
     "output_type": "stream",
     "text": [
      "/home/irfan/Desktop/Code/Linux-IO/python_38/lib/python3.8/site-packages/torchvision/transforms/functional.py:417: UserWarning: Argument 'interpolation' of type int is deprecated since 0.13 and will be removed in 0.15. Please use InterpolationMode enum.\n",
      "  warnings.warn(\n",
      "/home/irfan/Desktop/Code/Linux-IO/python_38/lib/python3.8/site-packages/torchvision/transforms/functional.py:417: UserWarning: Argument 'interpolation' of type int is deprecated since 0.13 and will be removed in 0.15. Please use InterpolationMode enum.\n",
      "  warnings.warn(\n"
     ]
    },
    {
     "name": "stdout",
     "output_type": "stream",
     "text": [
      "Epoch 5, Itrs 740/30000, Loss=0.782815\n",
      "Epoch 5, Itrs 750/30000, Loss=0.674828\n",
      "Epoch 5, Itrs 760/30000, Loss=0.493697\n",
      "Epoch 5, Itrs 770/30000, Loss=0.849630\n",
      "Epoch 5, Itrs 780/30000, Loss=0.663116\n",
      "Epoch 5, Itrs 790/30000, Loss=0.712633\n",
      "Epoch 5, Itrs 800/30000, Loss=0.851721\n",
      "Model saved as checkpoints/latest_deeplabv3plus_mobilenet_voc_os16.pth\n",
      "validation...\n"
     ]
    },
    {
     "name": "stderr",
     "output_type": "stream",
     "text": [
      "1449it [00:43, 33.41it/s]\n"
     ]
    },
    {
     "name": "stdout",
     "output_type": "stream",
     "text": [
      "\n",
      "Overall Acc: 0.851521\n",
      "Mean Acc: 0.582852\n",
      "FreqW Acc: 0.759173\n",
      "Mean IoU: 0.447581\n",
      "\n",
      "Model saved as checkpoints/best_deeplabv3plus_mobilenet_voc_os16.pth\n",
      "Epoch 5, Itrs 810/30000, Loss=0.600734\n",
      "Epoch 5, Itrs 820/30000, Loss=0.700676\n",
      "Epoch 5, Itrs 830/30000, Loss=0.627909\n",
      "Epoch 5, Itrs 840/30000, Loss=0.630524\n",
      "Epoch 5, Itrs 850/30000, Loss=0.702301\n",
      "Epoch 5, Itrs 860/30000, Loss=0.661575\n",
      "Epoch 5, Itrs 870/30000, Loss=0.659091\n",
      "Epoch 5, Itrs 880/30000, Loss=0.526040\n",
      "Epoch 5, Itrs 890/30000, Loss=0.530235\n",
      "Epoch 5, Itrs 900/30000, Loss=0.642625\n",
      "Model saved as checkpoints/latest_deeplabv3plus_mobilenet_voc_os16.pth\n",
      "validation...\n"
     ]
    },
    {
     "name": "stderr",
     "output_type": "stream",
     "text": [
      "1449it [00:43, 33.39it/s]\n"
     ]
    },
    {
     "name": "stdout",
     "output_type": "stream",
     "text": [
      "\n",
      "Overall Acc: 0.867046\n",
      "Mean Acc: 0.558128\n",
      "FreqW Acc: 0.771137\n",
      "Mean IoU: 0.458508\n",
      "\n",
      "Model saved as checkpoints/best_deeplabv3plus_mobilenet_voc_os16.pth\n",
      "Epoch 5, Itrs 910/30000, Loss=0.675064\n"
     ]
    },
    {
     "name": "stderr",
     "output_type": "stream",
     "text": [
      "/home/irfan/Desktop/Code/Linux-IO/python_38/lib/python3.8/site-packages/torchvision/transforms/functional.py:417: UserWarning: Argument 'interpolation' of type int is deprecated since 0.13 and will be removed in 0.15. Please use InterpolationMode enum.\n",
      "  warnings.warn(\n",
      "/home/irfan/Desktop/Code/Linux-IO/python_38/lib/python3.8/site-packages/torchvision/transforms/functional.py:417: UserWarning: Argument 'interpolation' of type int is deprecated since 0.13 and will be removed in 0.15. Please use InterpolationMode enum.\n",
      "  warnings.warn(\n"
     ]
    },
    {
     "name": "stdout",
     "output_type": "stream",
     "text": [
      "Epoch 6, Itrs 920/30000, Loss=0.581226\n",
      "Epoch 6, Itrs 930/30000, Loss=0.573403\n",
      "Epoch 6, Itrs 940/30000, Loss=0.597094\n",
      "Epoch 6, Itrs 950/30000, Loss=0.580692\n",
      "Epoch 6, Itrs 960/30000, Loss=0.756777\n",
      "Epoch 6, Itrs 970/30000, Loss=0.521757\n",
      "Epoch 6, Itrs 980/30000, Loss=0.656100\n",
      "Epoch 6, Itrs 990/30000, Loss=0.551606\n",
      "Epoch 6, Itrs 1000/30000, Loss=0.531019\n",
      "Model saved as checkpoints/latest_deeplabv3plus_mobilenet_voc_os16.pth\n",
      "validation...\n"
     ]
    },
    {
     "name": "stderr",
     "output_type": "stream",
     "text": [
      "1449it [01:03, 22.98it/s]\n"
     ]
    },
    {
     "name": "stdout",
     "output_type": "stream",
     "text": [
      "\n",
      "Overall Acc: 0.857354\n",
      "Mean Acc: 0.631673\n",
      "FreqW Acc: 0.766960\n",
      "Mean IoU: 0.469954\n",
      "\n",
      "Model saved as checkpoints/best_deeplabv3plus_mobilenet_voc_os16.pth\n",
      "Epoch 6, Itrs 1010/30000, Loss=0.506697\n",
      "Epoch 6, Itrs 1020/30000, Loss=0.669812\n",
      "Epoch 6, Itrs 1030/30000, Loss=0.650483\n",
      "Epoch 6, Itrs 1040/30000, Loss=0.562851\n",
      "Epoch 6, Itrs 1050/30000, Loss=0.551657\n",
      "Epoch 6, Itrs 1060/30000, Loss=0.611441\n",
      "Epoch 6, Itrs 1070/30000, Loss=0.560746\n",
      "Epoch 6, Itrs 1080/30000, Loss=0.730659\n",
      "Epoch 6, Itrs 1090/30000, Loss=0.738057\n"
     ]
    },
    {
     "name": "stderr",
     "output_type": "stream",
     "text": [
      "/home/irfan/Desktop/Code/Linux-IO/python_38/lib/python3.8/site-packages/torchvision/transforms/functional.py:417: UserWarning: Argument 'interpolation' of type int is deprecated since 0.13 and will be removed in 0.15. Please use InterpolationMode enum.\n",
      "  warnings.warn(\n",
      "/home/irfan/Desktop/Code/Linux-IO/python_38/lib/python3.8/site-packages/torchvision/transforms/functional.py:417: UserWarning: Argument 'interpolation' of type int is deprecated since 0.13 and will be removed in 0.15. Please use InterpolationMode enum.\n",
      "  warnings.warn(\n"
     ]
    },
    {
     "name": "stdout",
     "output_type": "stream",
     "text": [
      "Epoch 7, Itrs 1100/30000, Loss=0.618939\n",
      "Model saved as checkpoints/latest_deeplabv3plus_mobilenet_voc_os16.pth\n",
      "validation...\n"
     ]
    },
    {
     "name": "stderr",
     "output_type": "stream",
     "text": [
      "1449it [01:11, 20.28it/s]\n"
     ]
    },
    {
     "name": "stdout",
     "output_type": "stream",
     "text": [
      "\n",
      "Overall Acc: 0.862507\n",
      "Mean Acc: 0.568721\n",
      "FreqW Acc: 0.766608\n",
      "Mean IoU: 0.460668\n",
      "\n",
      "Epoch 7, Itrs 1110/30000, Loss=0.506326\n",
      "Epoch 7, Itrs 1120/30000, Loss=0.578314\n",
      "Epoch 7, Itrs 1130/30000, Loss=0.646819\n",
      "Epoch 7, Itrs 1140/30000, Loss=0.600567\n",
      "Epoch 7, Itrs 1150/30000, Loss=0.602498\n",
      "Epoch 7, Itrs 1160/30000, Loss=0.482231\n",
      "Epoch 7, Itrs 1170/30000, Loss=0.581169\n",
      "Epoch 7, Itrs 1180/30000, Loss=0.653244\n",
      "Epoch 7, Itrs 1190/30000, Loss=0.627210\n",
      "Epoch 7, Itrs 1200/30000, Loss=0.615032\n",
      "Model saved as checkpoints/latest_deeplabv3plus_mobilenet_voc_os16.pth\n",
      "validation...\n"
     ]
    },
    {
     "name": "stderr",
     "output_type": "stream",
     "text": [
      "1449it [01:05, 22.18it/s]\n"
     ]
    },
    {
     "name": "stdout",
     "output_type": "stream",
     "text": [
      "\n",
      "Overall Acc: 0.863275\n",
      "Mean Acc: 0.609404\n",
      "FreqW Acc: 0.771082\n",
      "Mean IoU: 0.478638\n",
      "\n",
      "Model saved as checkpoints/best_deeplabv3plus_mobilenet_voc_os16.pth\n",
      "Epoch 7, Itrs 1210/30000, Loss=0.561607\n",
      "Epoch 7, Itrs 1220/30000, Loss=0.539837\n",
      "Epoch 7, Itrs 1230/30000, Loss=0.488799\n",
      "Epoch 7, Itrs 1240/30000, Loss=0.484606\n",
      "Epoch 7, Itrs 1250/30000, Loss=0.482505\n",
      "Epoch 7, Itrs 1260/30000, Loss=0.545888\n",
      "Epoch 7, Itrs 1270/30000, Loss=0.504692\n",
      "Epoch 7, Itrs 1280/30000, Loss=0.606648\n"
     ]
    },
    {
     "name": "stderr",
     "output_type": "stream",
     "text": [
      "/home/irfan/Desktop/Code/Linux-IO/python_38/lib/python3.8/site-packages/torchvision/transforms/functional.py:417: UserWarning: Argument 'interpolation' of type int is deprecated since 0.13 and will be removed in 0.15. Please use InterpolationMode enum.\n",
      "  warnings.warn(\n",
      "/home/irfan/Desktop/Code/Linux-IO/python_38/lib/python3.8/site-packages/torchvision/transforms/functional.py:417: UserWarning: Argument 'interpolation' of type int is deprecated since 0.13 and will be removed in 0.15. Please use InterpolationMode enum.\n",
      "  warnings.warn(\n"
     ]
    },
    {
     "name": "stdout",
     "output_type": "stream",
     "text": [
      "Epoch 8, Itrs 1290/30000, Loss=0.548875\n",
      "Epoch 8, Itrs 1300/30000, Loss=0.691866\n",
      "Model saved as checkpoints/latest_deeplabv3plus_mobilenet_voc_os16.pth\n",
      "validation...\n"
     ]
    },
    {
     "name": "stderr",
     "output_type": "stream",
     "text": [
      "1449it [01:07, 21.41it/s]\n"
     ]
    },
    {
     "name": "stdout",
     "output_type": "stream",
     "text": [
      "\n",
      "Overall Acc: 0.819686\n",
      "Mean Acc: 0.694521\n",
      "FreqW Acc: 0.738408\n",
      "Mean IoU: 0.484381\n",
      "\n",
      "Model saved as checkpoints/best_deeplabv3plus_mobilenet_voc_os16.pth\n",
      "Epoch 8, Itrs 1310/30000, Loss=0.499462\n",
      "Epoch 8, Itrs 1320/30000, Loss=0.552982\n",
      "Epoch 8, Itrs 1330/30000, Loss=0.568633\n",
      "Epoch 8, Itrs 1340/30000, Loss=0.465694\n",
      "Epoch 8, Itrs 1350/30000, Loss=0.631194\n",
      "Epoch 8, Itrs 1360/30000, Loss=0.569666\n",
      "Epoch 8, Itrs 1370/30000, Loss=0.794282\n",
      "Epoch 8, Itrs 1380/30000, Loss=0.572162\n",
      "Epoch 8, Itrs 1390/30000, Loss=0.710181\n",
      "Epoch 8, Itrs 1400/30000, Loss=0.686522\n",
      "Model saved as checkpoints/latest_deeplabv3plus_mobilenet_voc_os16.pth\n",
      "validation...\n"
     ]
    },
    {
     "name": "stderr",
     "output_type": "stream",
     "text": [
      "1449it [01:07, 21.35it/s]\n"
     ]
    },
    {
     "name": "stdout",
     "output_type": "stream",
     "text": [
      "\n",
      "Overall Acc: 0.861794\n",
      "Mean Acc: 0.672313\n",
      "FreqW Acc: 0.776862\n",
      "Mean IoU: 0.503302\n",
      "\n",
      "Model saved as checkpoints/best_deeplabv3plus_mobilenet_voc_os16.pth\n",
      "Epoch 8, Itrs 1410/30000, Loss=0.625048\n",
      "Epoch 8, Itrs 1420/30000, Loss=0.394901\n",
      "Epoch 8, Itrs 1430/30000, Loss=0.674403\n",
      "Epoch 8, Itrs 1440/30000, Loss=0.584236\n",
      "Epoch 8, Itrs 1450/30000, Loss=0.609418\n",
      "Epoch 8, Itrs 1460/30000, Loss=0.519667\n"
     ]
    },
    {
     "name": "stderr",
     "output_type": "stream",
     "text": [
      "/home/irfan/Desktop/Code/Linux-IO/python_38/lib/python3.8/site-packages/torchvision/transforms/functional.py:417: UserWarning: Argument 'interpolation' of type int is deprecated since 0.13 and will be removed in 0.15. Please use InterpolationMode enum.\n",
      "  warnings.warn(\n",
      "/home/irfan/Desktop/Code/Linux-IO/python_38/lib/python3.8/site-packages/torchvision/transforms/functional.py:417: UserWarning: Argument 'interpolation' of type int is deprecated since 0.13 and will be removed in 0.15. Please use InterpolationMode enum.\n",
      "  warnings.warn(\n"
     ]
    },
    {
     "name": "stdout",
     "output_type": "stream",
     "text": [
      "Epoch 9, Itrs 1470/30000, Loss=0.634790\n",
      "Epoch 9, Itrs 1480/30000, Loss=0.525040\n",
      "Epoch 9, Itrs 1490/30000, Loss=0.496918\n",
      "Epoch 9, Itrs 1500/30000, Loss=0.513684\n",
      "Model saved as checkpoints/latest_deeplabv3plus_mobilenet_voc_os16.pth\n",
      "validation...\n"
     ]
    },
    {
     "name": "stderr",
     "output_type": "stream",
     "text": [
      "1449it [00:43, 33.08it/s]\n"
     ]
    },
    {
     "name": "stdout",
     "output_type": "stream",
     "text": [
      "\n",
      "Overall Acc: 0.868722\n",
      "Mean Acc: 0.581371\n",
      "FreqW Acc: 0.775994\n",
      "Mean IoU: 0.484661\n",
      "\n",
      "Epoch 9, Itrs 1510/30000, Loss=0.428949\n",
      "Epoch 9, Itrs 1520/30000, Loss=0.347959\n",
      "Epoch 9, Itrs 1530/30000, Loss=0.580871\n",
      "Epoch 9, Itrs 1540/30000, Loss=0.374853\n",
      "Epoch 9, Itrs 1550/30000, Loss=0.473576\n",
      "Epoch 9, Itrs 1560/30000, Loss=0.660444\n",
      "Epoch 9, Itrs 1570/30000, Loss=0.616421\n",
      "Epoch 9, Itrs 1580/30000, Loss=0.469424\n",
      "Epoch 9, Itrs 1590/30000, Loss=0.569541\n",
      "Epoch 9, Itrs 1600/30000, Loss=0.639958\n",
      "Model saved as checkpoints/latest_deeplabv3plus_mobilenet_voc_os16.pth\n",
      "validation...\n"
     ]
    },
    {
     "name": "stderr",
     "output_type": "stream",
     "text": [
      "1449it [00:45, 31.67it/s]\n"
     ]
    },
    {
     "name": "stdout",
     "output_type": "stream",
     "text": [
      "\n",
      "Overall Acc: 0.861185\n",
      "Mean Acc: 0.684572\n",
      "FreqW Acc: 0.777718\n",
      "Mean IoU: 0.510616\n",
      "\n",
      "Model saved as checkpoints/best_deeplabv3plus_mobilenet_voc_os16.pth\n",
      "Epoch 9, Itrs 1610/30000, Loss=0.544526\n",
      "Epoch 9, Itrs 1620/30000, Loss=0.472766\n",
      "Epoch 9, Itrs 1630/30000, Loss=0.432382\n",
      "Epoch 9, Itrs 1640/30000, Loss=0.558486\n"
     ]
    },
    {
     "name": "stderr",
     "output_type": "stream",
     "text": [
      "/home/irfan/Desktop/Code/Linux-IO/python_38/lib/python3.8/site-packages/torchvision/transforms/functional.py:417: UserWarning: Argument 'interpolation' of type int is deprecated since 0.13 and will be removed in 0.15. Please use InterpolationMode enum.\n",
      "  warnings.warn(\n",
      "/home/irfan/Desktop/Code/Linux-IO/python_38/lib/python3.8/site-packages/torchvision/transforms/functional.py:417: UserWarning: Argument 'interpolation' of type int is deprecated since 0.13 and will be removed in 0.15. Please use InterpolationMode enum.\n",
      "  warnings.warn(\n"
     ]
    },
    {
     "name": "stdout",
     "output_type": "stream",
     "text": [
      "Epoch 10, Itrs 1650/30000, Loss=0.604708\n",
      "Epoch 10, Itrs 1660/30000, Loss=0.456989\n",
      "Epoch 10, Itrs 1670/30000, Loss=0.626885\n",
      "Epoch 10, Itrs 1680/30000, Loss=0.443744\n",
      "Epoch 10, Itrs 1690/30000, Loss=0.482113\n",
      "Epoch 10, Itrs 1700/30000, Loss=0.570878\n",
      "Model saved as checkpoints/latest_deeplabv3plus_mobilenet_voc_os16.pth\n",
      "validation...\n"
     ]
    },
    {
     "name": "stderr",
     "output_type": "stream",
     "text": [
      "1449it [00:44, 32.79it/s]\n"
     ]
    },
    {
     "name": "stdout",
     "output_type": "stream",
     "text": [
      "\n",
      "Overall Acc: 0.864840\n",
      "Mean Acc: 0.678909\n",
      "FreqW Acc: 0.781097\n",
      "Mean IoU: 0.512164\n",
      "\n",
      "Model saved as checkpoints/best_deeplabv3plus_mobilenet_voc_os16.pth\n",
      "Epoch 10, Itrs 1710/30000, Loss=0.483950\n",
      "Epoch 10, Itrs 1720/30000, Loss=0.384499\n",
      "Epoch 10, Itrs 1730/30000, Loss=0.612608\n",
      "Epoch 10, Itrs 1740/30000, Loss=0.438909\n",
      "Epoch 10, Itrs 1750/30000, Loss=0.502912\n",
      "Epoch 10, Itrs 1760/30000, Loss=0.584051\n",
      "Epoch 10, Itrs 1770/30000, Loss=0.528660\n",
      "Epoch 10, Itrs 1780/30000, Loss=0.676208\n",
      "Epoch 10, Itrs 1790/30000, Loss=0.488558\n",
      "Epoch 10, Itrs 1800/30000, Loss=0.634456\n",
      "Model saved as checkpoints/latest_deeplabv3plus_mobilenet_voc_os16.pth\n",
      "validation...\n"
     ]
    },
    {
     "name": "stderr",
     "output_type": "stream",
     "text": [
      "1449it [00:47, 30.66it/s]\n"
     ]
    },
    {
     "name": "stdout",
     "output_type": "stream",
     "text": [
      "\n",
      "Overall Acc: 0.866347\n",
      "Mean Acc: 0.628342\n",
      "FreqW Acc: 0.775535\n",
      "Mean IoU: 0.504156\n",
      "\n",
      "Epoch 10, Itrs 1810/30000, Loss=0.429295\n",
      "Epoch 10, Itrs 1820/30000, Loss=0.475298\n",
      "Epoch 10, Itrs 1830/30000, Loss=0.452287\n"
     ]
    },
    {
     "name": "stderr",
     "output_type": "stream",
     "text": [
      "/home/irfan/Desktop/Code/Linux-IO/python_38/lib/python3.8/site-packages/torchvision/transforms/functional.py:417: UserWarning: Argument 'interpolation' of type int is deprecated since 0.13 and will be removed in 0.15. Please use InterpolationMode enum.\n",
      "  warnings.warn(\n",
      "/home/irfan/Desktop/Code/Linux-IO/python_38/lib/python3.8/site-packages/torchvision/transforms/functional.py:417: UserWarning: Argument 'interpolation' of type int is deprecated since 0.13 and will be removed in 0.15. Please use InterpolationMode enum.\n",
      "  warnings.warn(\n"
     ]
    },
    {
     "name": "stdout",
     "output_type": "stream",
     "text": [
      "Epoch 11, Itrs 1840/30000, Loss=0.526300\n",
      "Epoch 11, Itrs 1850/30000, Loss=0.398303\n",
      "Epoch 11, Itrs 1860/30000, Loss=0.611855\n",
      "Epoch 11, Itrs 1870/30000, Loss=0.579871\n",
      "Epoch 11, Itrs 1880/30000, Loss=0.549917\n",
      "Epoch 11, Itrs 1890/30000, Loss=0.463619\n",
      "Epoch 11, Itrs 1900/30000, Loss=0.675995\n",
      "Model saved as checkpoints/latest_deeplabv3plus_mobilenet_voc_os16.pth\n",
      "validation...\n"
     ]
    },
    {
     "name": "stderr",
     "output_type": "stream",
     "text": [
      "1449it [00:45, 31.74it/s]\n"
     ]
    },
    {
     "name": "stdout",
     "output_type": "stream",
     "text": [
      "\n",
      "Overall Acc: 0.855158\n",
      "Mean Acc: 0.648283\n",
      "FreqW Acc: 0.768097\n",
      "Mean IoU: 0.496095\n",
      "\n",
      "Epoch 11, Itrs 1910/30000, Loss=0.438813\n",
      "Epoch 11, Itrs 1920/30000, Loss=0.578982\n",
      "Epoch 11, Itrs 1930/30000, Loss=0.577051\n",
      "Epoch 11, Itrs 1940/30000, Loss=0.432723\n",
      "Epoch 11, Itrs 1950/30000, Loss=0.401770\n",
      "Epoch 11, Itrs 1960/30000, Loss=0.538890\n",
      "Epoch 11, Itrs 1970/30000, Loss=0.603816\n",
      "Epoch 11, Itrs 1980/30000, Loss=0.543735\n",
      "Epoch 11, Itrs 1990/30000, Loss=0.555599\n",
      "Epoch 11, Itrs 2000/30000, Loss=0.499803\n",
      "Model saved as checkpoints/latest_deeplabv3plus_mobilenet_voc_os16.pth\n",
      "validation...\n"
     ]
    },
    {
     "name": "stderr",
     "output_type": "stream",
     "text": [
      "1449it [00:42, 34.41it/s]\n"
     ]
    },
    {
     "name": "stdout",
     "output_type": "stream",
     "text": [
      "\n",
      "Overall Acc: 0.865054\n",
      "Mean Acc: 0.681107\n",
      "FreqW Acc: 0.781406\n",
      "Mean IoU: 0.524171\n",
      "\n",
      "Model saved as checkpoints/best_deeplabv3plus_mobilenet_voc_os16.pth\n",
      "Epoch 11, Itrs 2010/30000, Loss=0.693616\n"
     ]
    },
    {
     "name": "stderr",
     "output_type": "stream",
     "text": [
      "/home/irfan/Desktop/Code/Linux-IO/python_38/lib/python3.8/site-packages/torchvision/transforms/functional.py:417: UserWarning: Argument 'interpolation' of type int is deprecated since 0.13 and will be removed in 0.15. Please use InterpolationMode enum.\n",
      "  warnings.warn(\n",
      "/home/irfan/Desktop/Code/Linux-IO/python_38/lib/python3.8/site-packages/torchvision/transforms/functional.py:417: UserWarning: Argument 'interpolation' of type int is deprecated since 0.13 and will be removed in 0.15. Please use InterpolationMode enum.\n",
      "  warnings.warn(\n"
     ]
    },
    {
     "name": "stdout",
     "output_type": "stream",
     "text": [
      "Epoch 12, Itrs 2020/30000, Loss=0.402865\n",
      "Epoch 12, Itrs 2030/30000, Loss=0.506194\n",
      "Epoch 12, Itrs 2040/30000, Loss=0.506731\n",
      "Epoch 12, Itrs 2050/30000, Loss=0.456926\n",
      "Epoch 12, Itrs 2060/30000, Loss=0.484404\n",
      "Epoch 12, Itrs 2070/30000, Loss=0.442050\n",
      "Epoch 12, Itrs 2080/30000, Loss=0.407847\n",
      "Epoch 12, Itrs 2090/30000, Loss=0.519803\n",
      "Epoch 12, Itrs 2100/30000, Loss=0.534975\n",
      "Model saved as checkpoints/latest_deeplabv3plus_mobilenet_voc_os16.pth\n",
      "validation...\n"
     ]
    },
    {
     "name": "stderr",
     "output_type": "stream",
     "text": [
      "1449it [00:44, 32.75it/s]\n"
     ]
    },
    {
     "name": "stdout",
     "output_type": "stream",
     "text": [
      "\n",
      "Overall Acc: 0.872520\n",
      "Mean Acc: 0.665999\n",
      "FreqW Acc: 0.788329\n",
      "Mean IoU: 0.521837\n",
      "\n",
      "Epoch 12, Itrs 2110/30000, Loss=0.450493\n",
      "Epoch 12, Itrs 2120/30000, Loss=0.452520\n",
      "Epoch 12, Itrs 2130/30000, Loss=0.558395\n",
      "Epoch 12, Itrs 2140/30000, Loss=0.575832\n",
      "Epoch 12, Itrs 2150/30000, Loss=0.426300\n",
      "Epoch 12, Itrs 2160/30000, Loss=0.440058\n",
      "Epoch 12, Itrs 2170/30000, Loss=0.549653\n",
      "Epoch 12, Itrs 2180/30000, Loss=0.419624\n",
      "Epoch 12, Itrs 2190/30000, Loss=0.581991\n"
     ]
    },
    {
     "name": "stderr",
     "output_type": "stream",
     "text": [
      "/home/irfan/Desktop/Code/Linux-IO/python_38/lib/python3.8/site-packages/torchvision/transforms/functional.py:417: UserWarning: Argument 'interpolation' of type int is deprecated since 0.13 and will be removed in 0.15. Please use InterpolationMode enum.\n",
      "  warnings.warn(\n",
      "/home/irfan/Desktop/Code/Linux-IO/python_38/lib/python3.8/site-packages/torchvision/transforms/functional.py:417: UserWarning: Argument 'interpolation' of type int is deprecated since 0.13 and will be removed in 0.15. Please use InterpolationMode enum.\n",
      "  warnings.warn(\n"
     ]
    },
    {
     "name": "stdout",
     "output_type": "stream",
     "text": [
      "Epoch 13, Itrs 2200/30000, Loss=0.549420\n",
      "Model saved as checkpoints/latest_deeplabv3plus_mobilenet_voc_os16.pth\n",
      "validation...\n"
     ]
    },
    {
     "name": "stderr",
     "output_type": "stream",
     "text": [
      "1449it [00:46, 31.32it/s]\n"
     ]
    },
    {
     "name": "stdout",
     "output_type": "stream",
     "text": [
      "\n",
      "Overall Acc: 0.851835\n",
      "Mean Acc: 0.705060\n",
      "FreqW Acc: 0.768601\n",
      "Mean IoU: 0.510525\n",
      "\n",
      "Epoch 13, Itrs 2210/30000, Loss=0.416116\n",
      "Epoch 13, Itrs 2220/30000, Loss=0.499989\n",
      "Epoch 13, Itrs 2230/30000, Loss=0.486589\n",
      "Epoch 13, Itrs 2240/30000, Loss=0.479576\n",
      "Epoch 13, Itrs 2250/30000, Loss=0.419983\n",
      "Epoch 13, Itrs 2260/30000, Loss=0.435995\n",
      "Epoch 13, Itrs 2270/30000, Loss=0.426407\n",
      "Epoch 13, Itrs 2280/30000, Loss=0.427538\n",
      "Epoch 13, Itrs 2290/30000, Loss=0.393400\n",
      "Epoch 13, Itrs 2300/30000, Loss=0.467095\n",
      "Model saved as checkpoints/latest_deeplabv3plus_mobilenet_voc_os16.pth\n",
      "validation...\n"
     ]
    },
    {
     "name": "stderr",
     "output_type": "stream",
     "text": [
      "1449it [00:47, 30.23it/s]\n"
     ]
    },
    {
     "name": "stdout",
     "output_type": "stream",
     "text": [
      "\n",
      "Overall Acc: 0.876303\n",
      "Mean Acc: 0.655680\n",
      "FreqW Acc: 0.794517\n",
      "Mean IoU: 0.539340\n",
      "\n",
      "Model saved as checkpoints/best_deeplabv3plus_mobilenet_voc_os16.pth\n",
      "Epoch 13, Itrs 2310/30000, Loss=0.619015\n",
      "Epoch 13, Itrs 2320/30000, Loss=0.529895\n",
      "Epoch 13, Itrs 2330/30000, Loss=0.592903\n",
      "Epoch 13, Itrs 2340/30000, Loss=0.497428\n",
      "Epoch 13, Itrs 2350/30000, Loss=0.422246\n",
      "Epoch 13, Itrs 2360/30000, Loss=0.618072\n",
      "Epoch 13, Itrs 2370/30000, Loss=0.430367\n"
     ]
    },
    {
     "name": "stderr",
     "output_type": "stream",
     "text": [
      "/home/irfan/Desktop/Code/Linux-IO/python_38/lib/python3.8/site-packages/torchvision/transforms/functional.py:417: UserWarning: Argument 'interpolation' of type int is deprecated since 0.13 and will be removed in 0.15. Please use InterpolationMode enum.\n",
      "  warnings.warn(\n",
      "/home/irfan/Desktop/Code/Linux-IO/python_38/lib/python3.8/site-packages/torchvision/transforms/functional.py:417: UserWarning: Argument 'interpolation' of type int is deprecated since 0.13 and will be removed in 0.15. Please use InterpolationMode enum.\n",
      "  warnings.warn(\n"
     ]
    },
    {
     "name": "stdout",
     "output_type": "stream",
     "text": [
      "Epoch 14, Itrs 2380/30000, Loss=0.566468\n",
      "Epoch 14, Itrs 2390/30000, Loss=0.503198\n",
      "Epoch 14, Itrs 2400/30000, Loss=0.423447\n",
      "Model saved as checkpoints/latest_deeplabv3plus_mobilenet_voc_os16.pth\n",
      "validation...\n"
     ]
    },
    {
     "name": "stderr",
     "output_type": "stream",
     "text": [
      "1449it [00:49, 29.49it/s]\n"
     ]
    },
    {
     "name": "stdout",
     "output_type": "stream",
     "text": [
      "\n",
      "Overall Acc: 0.853005\n",
      "Mean Acc: 0.700925\n",
      "FreqW Acc: 0.771118\n",
      "Mean IoU: 0.514919\n",
      "\n",
      "Epoch 14, Itrs 2410/30000, Loss=0.460490\n",
      "Epoch 14, Itrs 2420/30000, Loss=0.545123\n",
      "Epoch 14, Itrs 2430/30000, Loss=0.385143\n",
      "Epoch 14, Itrs 2440/30000, Loss=0.527988\n",
      "Epoch 14, Itrs 2450/30000, Loss=0.542935\n",
      "Epoch 14, Itrs 2460/30000, Loss=0.471056\n",
      "Epoch 14, Itrs 2470/30000, Loss=0.516212\n",
      "Epoch 14, Itrs 2480/30000, Loss=0.632355\n",
      "Epoch 14, Itrs 2490/30000, Loss=0.468676\n",
      "Epoch 14, Itrs 2500/30000, Loss=0.445650\n",
      "Model saved as checkpoints/latest_deeplabv3plus_mobilenet_voc_os16.pth\n",
      "validation...\n"
     ]
    },
    {
     "name": "stderr",
     "output_type": "stream",
     "text": [
      "1449it [00:48, 30.14it/s]\n"
     ]
    },
    {
     "name": "stdout",
     "output_type": "stream",
     "text": [
      "\n",
      "Overall Acc: 0.869837\n",
      "Mean Acc: 0.655587\n",
      "FreqW Acc: 0.783989\n",
      "Mean IoU: 0.507998\n",
      "\n",
      "Epoch 14, Itrs 2510/30000, Loss=0.356968\n",
      "Epoch 14, Itrs 2520/30000, Loss=0.417962\n",
      "Epoch 14, Itrs 2530/30000, Loss=0.565093\n",
      "Epoch 14, Itrs 2540/30000, Loss=0.503604\n",
      "Epoch 14, Itrs 2550/30000, Loss=0.532616\n",
      "Epoch 14, Itrs 2560/30000, Loss=0.423426\n"
     ]
    },
    {
     "name": "stderr",
     "output_type": "stream",
     "text": [
      "/home/irfan/Desktop/Code/Linux-IO/python_38/lib/python3.8/site-packages/torchvision/transforms/functional.py:417: UserWarning: Argument 'interpolation' of type int is deprecated since 0.13 and will be removed in 0.15. Please use InterpolationMode enum.\n",
      "  warnings.warn(\n",
      "/home/irfan/Desktop/Code/Linux-IO/python_38/lib/python3.8/site-packages/torchvision/transforms/functional.py:417: UserWarning: Argument 'interpolation' of type int is deprecated since 0.13 and will be removed in 0.15. Please use InterpolationMode enum.\n",
      "  warnings.warn(\n"
     ]
    },
    {
     "name": "stdout",
     "output_type": "stream",
     "text": [
      "Epoch 15, Itrs 2570/30000, Loss=0.503300\n",
      "Epoch 15, Itrs 2580/30000, Loss=0.419721\n",
      "Epoch 15, Itrs 2590/30000, Loss=0.605303\n",
      "Epoch 15, Itrs 2600/30000, Loss=0.477311\n",
      "Model saved as checkpoints/latest_deeplabv3plus_mobilenet_voc_os16.pth\n",
      "validation...\n"
     ]
    },
    {
     "name": "stderr",
     "output_type": "stream",
     "text": [
      "1449it [00:49, 29.18it/s]\n"
     ]
    },
    {
     "name": "stdout",
     "output_type": "stream",
     "text": [
      "\n",
      "Overall Acc: 0.869699\n",
      "Mean Acc: 0.659191\n",
      "FreqW Acc: 0.783750\n",
      "Mean IoU: 0.514103\n",
      "\n",
      "Epoch 15, Itrs 2610/30000, Loss=0.554333\n",
      "Epoch 15, Itrs 2620/30000, Loss=0.390176\n",
      "Epoch 15, Itrs 2630/30000, Loss=0.621330\n",
      "Epoch 15, Itrs 2640/30000, Loss=0.361630\n",
      "Epoch 15, Itrs 2650/30000, Loss=0.475316\n",
      "Epoch 15, Itrs 2660/30000, Loss=0.524997\n",
      "Epoch 15, Itrs 2670/30000, Loss=0.480788\n",
      "Epoch 15, Itrs 2680/30000, Loss=0.391292\n",
      "Epoch 15, Itrs 2690/30000, Loss=0.415561\n",
      "Epoch 15, Itrs 2700/30000, Loss=0.474414\n",
      "Model saved as checkpoints/latest_deeplabv3plus_mobilenet_voc_os16.pth\n",
      "validation...\n"
     ]
    },
    {
     "name": "stderr",
     "output_type": "stream",
     "text": [
      "1449it [00:49, 29.18it/s]\n"
     ]
    },
    {
     "name": "stdout",
     "output_type": "stream",
     "text": [
      "\n",
      "Overall Acc: 0.885406\n",
      "Mean Acc: 0.691098\n",
      "FreqW Acc: 0.804557\n",
      "Mean IoU: 0.554183\n",
      "\n",
      "Model saved as checkpoints/best_deeplabv3plus_mobilenet_voc_os16.pth\n",
      "Epoch 15, Itrs 2710/30000, Loss=0.471025\n",
      "Epoch 15, Itrs 2720/30000, Loss=0.490328\n",
      "Epoch 15, Itrs 2730/30000, Loss=0.657646\n",
      "Epoch 15, Itrs 2740/30000, Loss=0.564846\n"
     ]
    },
    {
     "name": "stderr",
     "output_type": "stream",
     "text": [
      "/home/irfan/Desktop/Code/Linux-IO/python_38/lib/python3.8/site-packages/torchvision/transforms/functional.py:417: UserWarning: Argument 'interpolation' of type int is deprecated since 0.13 and will be removed in 0.15. Please use InterpolationMode enum.\n",
      "  warnings.warn(\n",
      "/home/irfan/Desktop/Code/Linux-IO/python_38/lib/python3.8/site-packages/torchvision/transforms/functional.py:417: UserWarning: Argument 'interpolation' of type int is deprecated since 0.13 and will be removed in 0.15. Please use InterpolationMode enum.\n",
      "  warnings.warn(\n"
     ]
    },
    {
     "name": "stdout",
     "output_type": "stream",
     "text": [
      "Epoch 16, Itrs 2750/30000, Loss=0.610784\n",
      "Epoch 16, Itrs 2760/30000, Loss=0.411405\n",
      "Epoch 16, Itrs 2770/30000, Loss=0.416484\n",
      "Epoch 16, Itrs 2780/30000, Loss=0.396399\n",
      "Epoch 16, Itrs 2790/30000, Loss=0.493468\n",
      "Epoch 16, Itrs 2800/30000, Loss=0.480311\n",
      "Model saved as checkpoints/latest_deeplabv3plus_mobilenet_voc_os16.pth\n",
      "validation...\n"
     ]
    },
    {
     "name": "stderr",
     "output_type": "stream",
     "text": [
      "1449it [01:07, 21.59it/s]\n"
     ]
    },
    {
     "name": "stdout",
     "output_type": "stream",
     "text": [
      "\n",
      "Overall Acc: 0.860524\n",
      "Mean Acc: 0.691156\n",
      "FreqW Acc: 0.776208\n",
      "Mean IoU: 0.512162\n",
      "\n",
      "Epoch 16, Itrs 2810/30000, Loss=0.447051\n",
      "Epoch 16, Itrs 2820/30000, Loss=0.499104\n",
      "Epoch 16, Itrs 2830/30000, Loss=0.506432\n",
      "Epoch 16, Itrs 2840/30000, Loss=0.428934\n",
      "Epoch 16, Itrs 2850/30000, Loss=0.399517\n",
      "Epoch 16, Itrs 2860/30000, Loss=0.412254\n",
      "Epoch 16, Itrs 2870/30000, Loss=0.464375\n",
      "Epoch 16, Itrs 2880/30000, Loss=0.512154\n",
      "Epoch 16, Itrs 2890/30000, Loss=0.591192\n",
      "Epoch 16, Itrs 2900/30000, Loss=0.448792\n",
      "Model saved as checkpoints/latest_deeplabv3plus_mobilenet_voc_os16.pth\n",
      "validation...\n"
     ]
    },
    {
     "name": "stderr",
     "output_type": "stream",
     "text": [
      "1449it [00:45, 31.57it/s]\n"
     ]
    },
    {
     "name": "stdout",
     "output_type": "stream",
     "text": [
      "\n",
      "Overall Acc: 0.871474\n",
      "Mean Acc: 0.681727\n",
      "FreqW Acc: 0.792027\n",
      "Mean IoU: 0.537338\n",
      "\n",
      "Epoch 16, Itrs 2910/30000, Loss=0.473427\n",
      "Epoch 16, Itrs 2920/30000, Loss=0.501512\n"
     ]
    },
    {
     "name": "stderr",
     "output_type": "stream",
     "text": [
      "/home/irfan/Desktop/Code/Linux-IO/python_38/lib/python3.8/site-packages/torchvision/transforms/functional.py:417: UserWarning: Argument 'interpolation' of type int is deprecated since 0.13 and will be removed in 0.15. Please use InterpolationMode enum.\n",
      "  warnings.warn(\n",
      "/home/irfan/Desktop/Code/Linux-IO/python_38/lib/python3.8/site-packages/torchvision/transforms/functional.py:417: UserWarning: Argument 'interpolation' of type int is deprecated since 0.13 and will be removed in 0.15. Please use InterpolationMode enum.\n",
      "  warnings.warn(\n"
     ]
    },
    {
     "name": "stdout",
     "output_type": "stream",
     "text": [
      "Epoch 17, Itrs 2930/30000, Loss=0.451386\n",
      "Epoch 17, Itrs 2940/30000, Loss=0.400365\n",
      "Epoch 17, Itrs 2950/30000, Loss=0.456172\n",
      "Epoch 17, Itrs 2960/30000, Loss=0.349215\n",
      "Epoch 17, Itrs 2970/30000, Loss=0.608774\n",
      "Epoch 17, Itrs 2980/30000, Loss=0.544889\n",
      "Epoch 17, Itrs 2990/30000, Loss=0.496111\n",
      "Epoch 17, Itrs 3000/30000, Loss=0.442344\n",
      "Model saved as checkpoints/latest_deeplabv3plus_mobilenet_voc_os16.pth\n",
      "validation...\n"
     ]
    },
    {
     "name": "stderr",
     "output_type": "stream",
     "text": [
      "1449it [00:47, 30.55it/s]\n"
     ]
    },
    {
     "name": "stdout",
     "output_type": "stream",
     "text": [
      "\n",
      "Overall Acc: 0.878759\n",
      "Mean Acc: 0.687220\n",
      "FreqW Acc: 0.795869\n",
      "Mean IoU: 0.549601\n",
      "\n",
      "Epoch 17, Itrs 3010/30000, Loss=0.441009\n",
      "Epoch 17, Itrs 3020/30000, Loss=0.402712\n",
      "Epoch 17, Itrs 3030/30000, Loss=0.532528\n",
      "Epoch 17, Itrs 3040/30000, Loss=0.449810\n",
      "Epoch 17, Itrs 3050/30000, Loss=0.483773\n",
      "Epoch 17, Itrs 3060/30000, Loss=0.478720\n",
      "Epoch 17, Itrs 3070/30000, Loss=0.451783\n",
      "Epoch 17, Itrs 3080/30000, Loss=0.457327\n",
      "Epoch 17, Itrs 3090/30000, Loss=0.359432\n",
      "Epoch 17, Itrs 3100/30000, Loss=0.439434\n",
      "Model saved as checkpoints/latest_deeplabv3plus_mobilenet_voc_os16.pth\n",
      "validation...\n"
     ]
    },
    {
     "name": "stderr",
     "output_type": "stream",
     "text": [
      "1449it [00:48, 30.04it/s]\n"
     ]
    },
    {
     "name": "stdout",
     "output_type": "stream",
     "text": [
      "\n",
      "Overall Acc: 0.884501\n",
      "Mean Acc: 0.675400\n",
      "FreqW Acc: 0.803347\n",
      "Mean IoU: 0.551696\n",
      "\n",
      "Epoch 17, Itrs 3110/30000, Loss=0.576325\n"
     ]
    },
    {
     "name": "stderr",
     "output_type": "stream",
     "text": [
      "/home/irfan/Desktop/Code/Linux-IO/python_38/lib/python3.8/site-packages/torchvision/transforms/functional.py:417: UserWarning: Argument 'interpolation' of type int is deprecated since 0.13 and will be removed in 0.15. Please use InterpolationMode enum.\n",
      "  warnings.warn(\n",
      "/home/irfan/Desktop/Code/Linux-IO/python_38/lib/python3.8/site-packages/torchvision/transforms/functional.py:417: UserWarning: Argument 'interpolation' of type int is deprecated since 0.13 and will be removed in 0.15. Please use InterpolationMode enum.\n",
      "  warnings.warn(\n"
     ]
    },
    {
     "name": "stdout",
     "output_type": "stream",
     "text": [
      "Epoch 18, Itrs 3120/30000, Loss=0.424304\n",
      "Epoch 18, Itrs 3130/30000, Loss=0.328149\n",
      "Epoch 18, Itrs 3140/30000, Loss=0.453117\n",
      "Epoch 18, Itrs 3150/30000, Loss=0.373983\n",
      "Epoch 18, Itrs 3160/30000, Loss=0.437637\n",
      "Epoch 18, Itrs 3170/30000, Loss=0.345659\n",
      "Epoch 18, Itrs 3180/30000, Loss=0.353956\n",
      "Epoch 18, Itrs 3190/30000, Loss=0.386320\n",
      "Epoch 18, Itrs 3200/30000, Loss=0.416589\n",
      "Model saved as checkpoints/latest_deeplabv3plus_mobilenet_voc_os16.pth\n",
      "validation...\n"
     ]
    },
    {
     "name": "stderr",
     "output_type": "stream",
     "text": [
      "1449it [00:49, 29.14it/s]\n"
     ]
    },
    {
     "name": "stdout",
     "output_type": "stream",
     "text": [
      "\n",
      "Overall Acc: 0.877709\n",
      "Mean Acc: 0.704791\n",
      "FreqW Acc: 0.797217\n",
      "Mean IoU: 0.548076\n",
      "\n",
      "Epoch 18, Itrs 3210/30000, Loss=0.368891\n",
      "Epoch 18, Itrs 3220/30000, Loss=0.467592\n",
      "Epoch 18, Itrs 3230/30000, Loss=0.493197\n",
      "Epoch 18, Itrs 3240/30000, Loss=0.405341\n",
      "Epoch 18, Itrs 3250/30000, Loss=0.385420\n",
      "Epoch 18, Itrs 3260/30000, Loss=0.510974\n",
      "Epoch 18, Itrs 3270/30000, Loss=0.381517\n",
      "Epoch 18, Itrs 3280/30000, Loss=0.470420\n",
      "Epoch 18, Itrs 3290/30000, Loss=0.383084\n"
     ]
    },
    {
     "name": "stderr",
     "output_type": "stream",
     "text": [
      "/home/irfan/Desktop/Code/Linux-IO/python_38/lib/python3.8/site-packages/torchvision/transforms/functional.py:417: UserWarning: Argument 'interpolation' of type int is deprecated since 0.13 and will be removed in 0.15. Please use InterpolationMode enum.\n",
      "  warnings.warn(\n",
      "/home/irfan/Desktop/Code/Linux-IO/python_38/lib/python3.8/site-packages/torchvision/transforms/functional.py:417: UserWarning: Argument 'interpolation' of type int is deprecated since 0.13 and will be removed in 0.15. Please use InterpolationMode enum.\n",
      "  warnings.warn(\n"
     ]
    },
    {
     "name": "stdout",
     "output_type": "stream",
     "text": [
      "Epoch 19, Itrs 3300/30000, Loss=0.622195\n",
      "Model saved as checkpoints/latest_deeplabv3plus_mobilenet_voc_os16.pth\n",
      "validation...\n"
     ]
    },
    {
     "name": "stderr",
     "output_type": "stream",
     "text": [
      "1449it [00:51, 28.41it/s]\n"
     ]
    },
    {
     "name": "stdout",
     "output_type": "stream",
     "text": [
      "\n",
      "Overall Acc: 0.879689\n",
      "Mean Acc: 0.707433\n",
      "FreqW Acc: 0.798994\n",
      "Mean IoU: 0.547719\n",
      "\n",
      "Epoch 19, Itrs 3310/30000, Loss=0.401800\n",
      "Epoch 19, Itrs 3320/30000, Loss=0.429365\n",
      "Epoch 19, Itrs 3330/30000, Loss=0.418542\n",
      "Epoch 19, Itrs 3340/30000, Loss=0.389568\n",
      "Epoch 19, Itrs 3350/30000, Loss=0.377336\n",
      "Epoch 19, Itrs 3360/30000, Loss=0.383249\n",
      "Epoch 19, Itrs 3370/30000, Loss=0.415297\n",
      "Epoch 19, Itrs 3380/30000, Loss=0.369254\n",
      "Epoch 19, Itrs 3390/30000, Loss=0.507976\n",
      "Epoch 19, Itrs 3400/30000, Loss=0.509002\n",
      "Model saved as checkpoints/latest_deeplabv3plus_mobilenet_voc_os16.pth\n",
      "validation...\n"
     ]
    },
    {
     "name": "stderr",
     "output_type": "stream",
     "text": [
      "1449it [00:50, 28.52it/s]\n"
     ]
    },
    {
     "name": "stdout",
     "output_type": "stream",
     "text": [
      "\n",
      "Overall Acc: 0.858797\n",
      "Mean Acc: 0.714981\n",
      "FreqW Acc: 0.779142\n",
      "Mean IoU: 0.524199\n",
      "\n",
      "Epoch 19, Itrs 3410/30000, Loss=0.413783\n",
      "Epoch 19, Itrs 3420/30000, Loss=0.364981\n",
      "Epoch 19, Itrs 3430/30000, Loss=0.567213\n",
      "Epoch 19, Itrs 3440/30000, Loss=0.384988\n",
      "Epoch 19, Itrs 3450/30000, Loss=0.365912\n",
      "Epoch 19, Itrs 3460/30000, Loss=0.354229\n",
      "Epoch 19, Itrs 3470/30000, Loss=0.433410\n"
     ]
    },
    {
     "name": "stderr",
     "output_type": "stream",
     "text": [
      "/home/irfan/Desktop/Code/Linux-IO/python_38/lib/python3.8/site-packages/torchvision/transforms/functional.py:417: UserWarning: Argument 'interpolation' of type int is deprecated since 0.13 and will be removed in 0.15. Please use InterpolationMode enum.\n",
      "  warnings.warn(\n",
      "/home/irfan/Desktop/Code/Linux-IO/python_38/lib/python3.8/site-packages/torchvision/transforms/functional.py:417: UserWarning: Argument 'interpolation' of type int is deprecated since 0.13 and will be removed in 0.15. Please use InterpolationMode enum.\n",
      "  warnings.warn(\n"
     ]
    },
    {
     "name": "stdout",
     "output_type": "stream",
     "text": [
      "Epoch 20, Itrs 3480/30000, Loss=0.323557\n",
      "Epoch 20, Itrs 3490/30000, Loss=0.412022\n",
      "Epoch 20, Itrs 3500/30000, Loss=0.485304\n",
      "Model saved as checkpoints/latest_deeplabv3plus_mobilenet_voc_os16.pth\n",
      "validation...\n"
     ]
    },
    {
     "name": "stderr",
     "output_type": "stream",
     "text": [
      "1449it [00:54, 26.36it/s]\n"
     ]
    },
    {
     "name": "stdout",
     "output_type": "stream",
     "text": [
      "\n",
      "Overall Acc: 0.875842\n",
      "Mean Acc: 0.698041\n",
      "FreqW Acc: 0.796828\n",
      "Mean IoU: 0.546065\n",
      "\n",
      "Epoch 20, Itrs 3510/30000, Loss=0.378125\n",
      "Epoch 20, Itrs 3520/30000, Loss=0.440310\n",
      "Epoch 20, Itrs 3530/30000, Loss=0.514161\n",
      "Epoch 20, Itrs 3540/30000, Loss=0.346816\n",
      "Epoch 20, Itrs 3550/30000, Loss=0.371906\n",
      "Epoch 20, Itrs 3560/30000, Loss=0.459550\n",
      "Epoch 20, Itrs 3570/30000, Loss=0.448881\n",
      "Epoch 20, Itrs 3580/30000, Loss=0.395802\n",
      "Epoch 20, Itrs 3590/30000, Loss=0.386006\n",
      "Epoch 20, Itrs 3600/30000, Loss=0.382698\n",
      "Model saved as checkpoints/latest_deeplabv3plus_mobilenet_voc_os16.pth\n",
      "validation...\n"
     ]
    },
    {
     "name": "stderr",
     "output_type": "stream",
     "text": [
      "1449it [00:51, 28.03it/s]\n"
     ]
    },
    {
     "name": "stdout",
     "output_type": "stream",
     "text": [
      "\n",
      "Overall Acc: 0.879491\n",
      "Mean Acc: 0.700920\n",
      "FreqW Acc: 0.800213\n",
      "Mean IoU: 0.558113\n",
      "\n",
      "Model saved as checkpoints/best_deeplabv3plus_mobilenet_voc_os16.pth\n",
      "Epoch 20, Itrs 3610/30000, Loss=0.321105\n",
      "Epoch 20, Itrs 3620/30000, Loss=0.515006\n",
      "Epoch 20, Itrs 3630/30000, Loss=0.443760\n",
      "Epoch 20, Itrs 3640/30000, Loss=0.468017\n",
      "Epoch 20, Itrs 3650/30000, Loss=0.360844\n",
      "Epoch 20, Itrs 3660/30000, Loss=0.345751\n"
     ]
    },
    {
     "name": "stderr",
     "output_type": "stream",
     "text": [
      "/home/irfan/Desktop/Code/Linux-IO/python_38/lib/python3.8/site-packages/torchvision/transforms/functional.py:417: UserWarning: Argument 'interpolation' of type int is deprecated since 0.13 and will be removed in 0.15. Please use InterpolationMode enum.\n",
      "  warnings.warn(\n",
      "/home/irfan/Desktop/Code/Linux-IO/python_38/lib/python3.8/site-packages/torchvision/transforms/functional.py:417: UserWarning: Argument 'interpolation' of type int is deprecated since 0.13 and will be removed in 0.15. Please use InterpolationMode enum.\n",
      "  warnings.warn(\n"
     ]
    },
    {
     "name": "stdout",
     "output_type": "stream",
     "text": [
      "Epoch 21, Itrs 3670/30000, Loss=0.336899\n",
      "Epoch 21, Itrs 3680/30000, Loss=0.385502\n",
      "Epoch 21, Itrs 3690/30000, Loss=0.399888\n",
      "Epoch 21, Itrs 3700/30000, Loss=0.387091\n",
      "Model saved as checkpoints/latest_deeplabv3plus_mobilenet_voc_os16.pth\n",
      "validation...\n"
     ]
    },
    {
     "name": "stderr",
     "output_type": "stream",
     "text": [
      "1449it [00:48, 29.57it/s]\n"
     ]
    },
    {
     "name": "stdout",
     "output_type": "stream",
     "text": [
      "\n",
      "Overall Acc: 0.888795\n",
      "Mean Acc: 0.707433\n",
      "FreqW Acc: 0.811213\n",
      "Mean IoU: 0.571538\n",
      "\n",
      "Model saved as checkpoints/best_deeplabv3plus_mobilenet_voc_os16.pth\n",
      "Epoch 21, Itrs 3710/30000, Loss=0.406934\n",
      "Epoch 21, Itrs 3720/30000, Loss=0.356757\n",
      "Epoch 21, Itrs 3730/30000, Loss=0.391589\n",
      "Epoch 21, Itrs 3740/30000, Loss=0.370637\n",
      "Epoch 21, Itrs 3750/30000, Loss=0.465640\n",
      "Epoch 21, Itrs 3760/30000, Loss=0.477964\n",
      "Epoch 21, Itrs 3770/30000, Loss=0.426987\n",
      "Epoch 21, Itrs 3780/30000, Loss=0.532999\n",
      "Epoch 21, Itrs 3790/30000, Loss=0.383827\n",
      "Epoch 21, Itrs 3800/30000, Loss=0.316852\n",
      "Model saved as checkpoints/latest_deeplabv3plus_mobilenet_voc_os16.pth\n",
      "validation...\n"
     ]
    },
    {
     "name": "stderr",
     "output_type": "stream",
     "text": [
      "1449it [00:50, 28.53it/s]\n"
     ]
    },
    {
     "name": "stdout",
     "output_type": "stream",
     "text": [
      "\n",
      "Overall Acc: 0.867347\n",
      "Mean Acc: 0.610743\n",
      "FreqW Acc: 0.778079\n",
      "Mean IoU: 0.496133\n",
      "\n",
      "Epoch 21, Itrs 3810/30000, Loss=0.470832\n",
      "Epoch 21, Itrs 3820/30000, Loss=0.342164\n",
      "Epoch 21, Itrs 3830/30000, Loss=0.482522\n",
      "Epoch 21, Itrs 3840/30000, Loss=0.395776\n"
     ]
    },
    {
     "name": "stderr",
     "output_type": "stream",
     "text": [
      "/home/irfan/Desktop/Code/Linux-IO/python_38/lib/python3.8/site-packages/torchvision/transforms/functional.py:417: UserWarning: Argument 'interpolation' of type int is deprecated since 0.13 and will be removed in 0.15. Please use InterpolationMode enum.\n",
      "  warnings.warn(\n",
      "/home/irfan/Desktop/Code/Linux-IO/python_38/lib/python3.8/site-packages/torchvision/transforms/functional.py:417: UserWarning: Argument 'interpolation' of type int is deprecated since 0.13 and will be removed in 0.15. Please use InterpolationMode enum.\n",
      "  warnings.warn(\n"
     ]
    },
    {
     "name": "stdout",
     "output_type": "stream",
     "text": [
      "Epoch 22, Itrs 3850/30000, Loss=0.344463\n",
      "Epoch 22, Itrs 3860/30000, Loss=0.534024\n",
      "Epoch 22, Itrs 3870/30000, Loss=0.507356\n",
      "Epoch 22, Itrs 3880/30000, Loss=0.391695\n",
      "Epoch 22, Itrs 3890/30000, Loss=0.364472\n",
      "Epoch 22, Itrs 3900/30000, Loss=0.398080\n",
      "Model saved as checkpoints/latest_deeplabv3plus_mobilenet_voc_os16.pth\n",
      "validation...\n"
     ]
    },
    {
     "name": "stderr",
     "output_type": "stream",
     "text": [
      "1449it [00:51, 28.23it/s]\n"
     ]
    },
    {
     "name": "stdout",
     "output_type": "stream",
     "text": [
      "\n",
      "Overall Acc: 0.881473\n",
      "Mean Acc: 0.635618\n",
      "FreqW Acc: 0.796705\n",
      "Mean IoU: 0.527878\n",
      "\n",
      "Epoch 22, Itrs 3910/30000, Loss=0.464583\n",
      "Epoch 22, Itrs 3920/30000, Loss=0.378385\n",
      "Epoch 22, Itrs 3930/30000, Loss=0.316453\n",
      "Epoch 22, Itrs 3940/30000, Loss=0.431872\n",
      "Epoch 22, Itrs 3950/30000, Loss=0.313072\n",
      "Epoch 22, Itrs 3960/30000, Loss=0.366365\n",
      "Epoch 22, Itrs 3970/30000, Loss=0.403684\n",
      "Epoch 22, Itrs 3980/30000, Loss=0.443067\n",
      "Epoch 22, Itrs 3990/30000, Loss=0.471807\n",
      "Epoch 22, Itrs 4000/30000, Loss=0.378133\n",
      "Model saved as checkpoints/latest_deeplabv3plus_mobilenet_voc_os16.pth\n",
      "validation...\n"
     ]
    },
    {
     "name": "stderr",
     "output_type": "stream",
     "text": [
      "1449it [00:53, 26.88it/s]\n"
     ]
    },
    {
     "name": "stdout",
     "output_type": "stream",
     "text": [
      "\n",
      "Overall Acc: 0.861001\n",
      "Mean Acc: 0.677111\n",
      "FreqW Acc: 0.780850\n",
      "Mean IoU: 0.524328\n",
      "\n",
      "Epoch 22, Itrs 4010/30000, Loss=0.430896\n",
      "Epoch 22, Itrs 4020/30000, Loss=0.400091\n"
     ]
    },
    {
     "name": "stderr",
     "output_type": "stream",
     "text": [
      "/home/irfan/Desktop/Code/Linux-IO/python_38/lib/python3.8/site-packages/torchvision/transforms/functional.py:417: UserWarning: Argument 'interpolation' of type int is deprecated since 0.13 and will be removed in 0.15. Please use InterpolationMode enum.\n",
      "  warnings.warn(\n",
      "/home/irfan/Desktop/Code/Linux-IO/python_38/lib/python3.8/site-packages/torchvision/transforms/functional.py:417: UserWarning: Argument 'interpolation' of type int is deprecated since 0.13 and will be removed in 0.15. Please use InterpolationMode enum.\n",
      "  warnings.warn(\n"
     ]
    },
    {
     "name": "stdout",
     "output_type": "stream",
     "text": [
      "Epoch 23, Itrs 4030/30000, Loss=0.450580\n",
      "Epoch 23, Itrs 4040/30000, Loss=0.328371\n",
      "Epoch 23, Itrs 4050/30000, Loss=0.490281\n",
      "Epoch 23, Itrs 4060/30000, Loss=0.376857\n",
      "Epoch 23, Itrs 4070/30000, Loss=0.450037\n",
      "Epoch 23, Itrs 4080/30000, Loss=0.379928\n",
      "Epoch 23, Itrs 4090/30000, Loss=0.428830\n",
      "Epoch 23, Itrs 4100/30000, Loss=0.442124\n",
      "Model saved as checkpoints/latest_deeplabv3plus_mobilenet_voc_os16.pth\n",
      "validation...\n"
     ]
    },
    {
     "name": "stderr",
     "output_type": "stream",
     "text": [
      "1449it [00:54, 26.62it/s]\n"
     ]
    },
    {
     "name": "stdout",
     "output_type": "stream",
     "text": [
      "\n",
      "Overall Acc: 0.880848\n",
      "Mean Acc: 0.667254\n",
      "FreqW Acc: 0.799702\n",
      "Mean IoU: 0.539214\n",
      "\n",
      "Epoch 23, Itrs 4110/30000, Loss=0.312564\n",
      "Epoch 23, Itrs 4120/30000, Loss=0.378373\n",
      "Epoch 23, Itrs 4130/30000, Loss=0.429830\n",
      "Epoch 23, Itrs 4140/30000, Loss=0.337551\n",
      "Epoch 23, Itrs 4150/30000, Loss=0.371598\n",
      "Epoch 23, Itrs 4160/30000, Loss=0.398295\n",
      "Epoch 23, Itrs 4170/30000, Loss=0.412365\n",
      "Epoch 23, Itrs 4180/30000, Loss=0.395631\n",
      "Epoch 23, Itrs 4190/30000, Loss=0.405486\n",
      "Epoch 23, Itrs 4200/30000, Loss=0.351225\n",
      "Model saved as checkpoints/latest_deeplabv3plus_mobilenet_voc_os16.pth\n",
      "validation...\n"
     ]
    },
    {
     "name": "stderr",
     "output_type": "stream",
     "text": [
      "1449it [00:56, 25.62it/s]\n"
     ]
    },
    {
     "name": "stdout",
     "output_type": "stream",
     "text": [
      "\n",
      "Overall Acc: 0.885538\n",
      "Mean Acc: 0.690005\n",
      "FreqW Acc: 0.806554\n",
      "Mean IoU: 0.556399\n",
      "\n"
     ]
    },
    {
     "name": "stderr",
     "output_type": "stream",
     "text": [
      "/home/irfan/Desktop/Code/Linux-IO/python_38/lib/python3.8/site-packages/torchvision/transforms/functional.py:417: UserWarning: Argument 'interpolation' of type int is deprecated since 0.13 and will be removed in 0.15. Please use InterpolationMode enum.\n",
      "  warnings.warn(\n",
      "/home/irfan/Desktop/Code/Linux-IO/python_38/lib/python3.8/site-packages/torchvision/transforms/functional.py:417: UserWarning: Argument 'interpolation' of type int is deprecated since 0.13 and will be removed in 0.15. Please use InterpolationMode enum.\n",
      "  warnings.warn(\n"
     ]
    },
    {
     "name": "stdout",
     "output_type": "stream",
     "text": [
      "Epoch 24, Itrs 4210/30000, Loss=0.489365\n",
      "Epoch 24, Itrs 4220/30000, Loss=0.364125\n",
      "Epoch 24, Itrs 4230/30000, Loss=0.501225\n",
      "Epoch 24, Itrs 4240/30000, Loss=0.414489\n",
      "Epoch 24, Itrs 4250/30000, Loss=0.393352\n",
      "Epoch 24, Itrs 4260/30000, Loss=0.396737\n",
      "Epoch 24, Itrs 4270/30000, Loss=0.380442\n",
      "Epoch 24, Itrs 4280/30000, Loss=0.404966\n",
      "Epoch 24, Itrs 4290/30000, Loss=0.433424\n",
      "Epoch 24, Itrs 4300/30000, Loss=0.499700\n",
      "Model saved as checkpoints/latest_deeplabv3plus_mobilenet_voc_os16.pth\n",
      "validation...\n"
     ]
    },
    {
     "name": "stderr",
     "output_type": "stream",
     "text": [
      "1449it [00:52, 27.36it/s]\n"
     ]
    },
    {
     "name": "stdout",
     "output_type": "stream",
     "text": [
      "\n",
      "Overall Acc: 0.866936\n",
      "Mean Acc: 0.716500\n",
      "FreqW Acc: 0.789055\n",
      "Mean IoU: 0.535591\n",
      "\n",
      "Epoch 24, Itrs 4310/30000, Loss=0.358389\n",
      "Epoch 24, Itrs 4320/30000, Loss=0.399986\n",
      "Epoch 24, Itrs 4330/30000, Loss=0.314826\n",
      "Epoch 24, Itrs 4340/30000, Loss=0.326602\n",
      "Epoch 24, Itrs 4350/30000, Loss=0.338065\n",
      "Epoch 24, Itrs 4360/30000, Loss=0.425371\n",
      "Epoch 24, Itrs 4370/30000, Loss=0.338581\n",
      "Epoch 24, Itrs 4380/30000, Loss=0.369345\n",
      "Epoch 24, Itrs 4390/30000, Loss=0.326120\n"
     ]
    },
    {
     "name": "stderr",
     "output_type": "stream",
     "text": [
      "/home/irfan/Desktop/Code/Linux-IO/python_38/lib/python3.8/site-packages/torchvision/transforms/functional.py:417: UserWarning: Argument 'interpolation' of type int is deprecated since 0.13 and will be removed in 0.15. Please use InterpolationMode enum.\n",
      "  warnings.warn(\n",
      "/home/irfan/Desktop/Code/Linux-IO/python_38/lib/python3.8/site-packages/torchvision/transforms/functional.py:417: UserWarning: Argument 'interpolation' of type int is deprecated since 0.13 and will be removed in 0.15. Please use InterpolationMode enum.\n",
      "  warnings.warn(\n"
     ]
    },
    {
     "name": "stdout",
     "output_type": "stream",
     "text": [
      "Epoch 25, Itrs 4400/30000, Loss=0.404887\n",
      "Model saved as checkpoints/latest_deeplabv3plus_mobilenet_voc_os16.pth\n",
      "validation...\n"
     ]
    },
    {
     "name": "stderr",
     "output_type": "stream",
     "text": [
      "1449it [00:55, 26.19it/s]\n"
     ]
    },
    {
     "name": "stdout",
     "output_type": "stream",
     "text": [
      "\n",
      "Overall Acc: 0.887155\n",
      "Mean Acc: 0.633767\n",
      "FreqW Acc: 0.802383\n",
      "Mean IoU: 0.536849\n",
      "\n",
      "Epoch 25, Itrs 4410/30000, Loss=0.389724\n",
      "Epoch 25, Itrs 4420/30000, Loss=0.340547\n",
      "Epoch 25, Itrs 4430/30000, Loss=0.465340\n",
      "Epoch 25, Itrs 4440/30000, Loss=0.294410\n",
      "Epoch 25, Itrs 4450/30000, Loss=0.341133\n",
      "Epoch 25, Itrs 4460/30000, Loss=0.368377\n",
      "Epoch 25, Itrs 4470/30000, Loss=0.388331\n",
      "Epoch 25, Itrs 4480/30000, Loss=0.341026\n",
      "Epoch 25, Itrs 4490/30000, Loss=0.374161\n",
      "Epoch 25, Itrs 4500/30000, Loss=0.402398\n",
      "Model saved as checkpoints/latest_deeplabv3plus_mobilenet_voc_os16.pth\n",
      "validation...\n"
     ]
    },
    {
     "name": "stderr",
     "output_type": "stream",
     "text": [
      "1449it [00:56, 25.69it/s]\n"
     ]
    },
    {
     "name": "stdout",
     "output_type": "stream",
     "text": [
      "\n",
      "Overall Acc: 0.876949\n",
      "Mean Acc: 0.698790\n",
      "FreqW Acc: 0.799543\n",
      "Mean IoU: 0.552910\n",
      "\n",
      "Epoch 25, Itrs 4510/30000, Loss=0.384743\n",
      "Epoch 25, Itrs 4520/30000, Loss=0.393969\n",
      "Epoch 25, Itrs 4530/30000, Loss=0.374809\n",
      "Epoch 25, Itrs 4540/30000, Loss=0.346879\n",
      "Epoch 25, Itrs 4550/30000, Loss=0.514702\n",
      "Epoch 25, Itrs 4560/30000, Loss=0.373200\n",
      "Epoch 25, Itrs 4570/30000, Loss=0.379265\n"
     ]
    },
    {
     "name": "stderr",
     "output_type": "stream",
     "text": [
      "/home/irfan/Desktop/Code/Linux-IO/python_38/lib/python3.8/site-packages/torchvision/transforms/functional.py:417: UserWarning: Argument 'interpolation' of type int is deprecated since 0.13 and will be removed in 0.15. Please use InterpolationMode enum.\n",
      "  warnings.warn(\n",
      "/home/irfan/Desktop/Code/Linux-IO/python_38/lib/python3.8/site-packages/torchvision/transforms/functional.py:417: UserWarning: Argument 'interpolation' of type int is deprecated since 0.13 and will be removed in 0.15. Please use InterpolationMode enum.\n",
      "  warnings.warn(\n"
     ]
    },
    {
     "name": "stdout",
     "output_type": "stream",
     "text": [
      "Epoch 26, Itrs 4580/30000, Loss=0.286800\n",
      "Epoch 26, Itrs 4590/30000, Loss=0.321639\n",
      "Epoch 26, Itrs 4600/30000, Loss=0.432521\n",
      "Model saved as checkpoints/latest_deeplabv3plus_mobilenet_voc_os16.pth\n",
      "validation...\n"
     ]
    },
    {
     "name": "stderr",
     "output_type": "stream",
     "text": [
      "1449it [00:57, 25.27it/s]\n"
     ]
    },
    {
     "name": "stdout",
     "output_type": "stream",
     "text": [
      "\n",
      "Overall Acc: 0.889686\n",
      "Mean Acc: 0.721561\n",
      "FreqW Acc: 0.813268\n",
      "Mean IoU: 0.576246\n",
      "\n",
      "Model saved as checkpoints/best_deeplabv3plus_mobilenet_voc_os16.pth\n",
      "Epoch 26, Itrs 4610/30000, Loss=0.362831\n",
      "Epoch 26, Itrs 4620/30000, Loss=0.407280\n",
      "Epoch 26, Itrs 4630/30000, Loss=0.354970\n",
      "Epoch 26, Itrs 4640/30000, Loss=0.338313\n",
      "Epoch 26, Itrs 4650/30000, Loss=0.307120\n",
      "Epoch 26, Itrs 4660/30000, Loss=0.295911\n",
      "Epoch 26, Itrs 4670/30000, Loss=0.346422\n",
      "Epoch 26, Itrs 4680/30000, Loss=0.401886\n",
      "Epoch 26, Itrs 4690/30000, Loss=0.340429\n",
      "Epoch 26, Itrs 4700/30000, Loss=0.320187\n",
      "Model saved as checkpoints/latest_deeplabv3plus_mobilenet_voc_os16.pth\n",
      "validation...\n"
     ]
    },
    {
     "name": "stderr",
     "output_type": "stream",
     "text": [
      "1449it [00:55, 25.89it/s]\n"
     ]
    },
    {
     "name": "stdout",
     "output_type": "stream",
     "text": [
      "\n",
      "Overall Acc: 0.883401\n",
      "Mean Acc: 0.704276\n",
      "FreqW Acc: 0.804648\n",
      "Mean IoU: 0.557515\n",
      "\n",
      "Epoch 26, Itrs 4710/30000, Loss=0.354709\n",
      "Epoch 26, Itrs 4720/30000, Loss=0.332444\n",
      "Epoch 26, Itrs 4730/30000, Loss=0.476026\n",
      "Epoch 26, Itrs 4740/30000, Loss=0.325980\n",
      "Epoch 26, Itrs 4750/30000, Loss=0.314128\n"
     ]
    },
    {
     "name": "stderr",
     "output_type": "stream",
     "text": [
      "/home/irfan/Desktop/Code/Linux-IO/python_38/lib/python3.8/site-packages/torchvision/transforms/functional.py:417: UserWarning: Argument 'interpolation' of type int is deprecated since 0.13 and will be removed in 0.15. Please use InterpolationMode enum.\n",
      "  warnings.warn(\n",
      "/home/irfan/Desktop/Code/Linux-IO/python_38/lib/python3.8/site-packages/torchvision/transforms/functional.py:417: UserWarning: Argument 'interpolation' of type int is deprecated since 0.13 and will be removed in 0.15. Please use InterpolationMode enum.\n",
      "  warnings.warn(\n"
     ]
    },
    {
     "name": "stdout",
     "output_type": "stream",
     "text": [
      "Epoch 27, Itrs 4760/30000, Loss=0.332045\n",
      "Epoch 27, Itrs 4770/30000, Loss=0.394066\n",
      "Epoch 27, Itrs 4780/30000, Loss=0.428633\n",
      "Epoch 27, Itrs 4790/30000, Loss=0.462381\n",
      "Epoch 27, Itrs 4800/30000, Loss=0.318014\n",
      "Model saved as checkpoints/latest_deeplabv3plus_mobilenet_voc_os16.pth\n",
      "validation...\n"
     ]
    },
    {
     "name": "stderr",
     "output_type": "stream",
     "text": [
      "1449it [00:54, 26.35it/s]\n"
     ]
    },
    {
     "name": "stdout",
     "output_type": "stream",
     "text": [
      "\n",
      "Overall Acc: 0.884335\n",
      "Mean Acc: 0.670096\n",
      "FreqW Acc: 0.801453\n",
      "Mean IoU: 0.548724\n",
      "\n",
      "Epoch 27, Itrs 4810/30000, Loss=0.286502\n",
      "Epoch 27, Itrs 4820/30000, Loss=0.410088\n",
      "Epoch 27, Itrs 4830/30000, Loss=0.409171\n",
      "Epoch 27, Itrs 4840/30000, Loss=0.285377\n",
      "Epoch 27, Itrs 4850/30000, Loss=0.378500\n",
      "Epoch 27, Itrs 4860/30000, Loss=0.355200\n",
      "Epoch 27, Itrs 4870/30000, Loss=0.540036\n",
      "Epoch 27, Itrs 4880/30000, Loss=0.367257\n",
      "Epoch 27, Itrs 4890/30000, Loss=0.391671\n",
      "Epoch 27, Itrs 4900/30000, Loss=0.397102\n",
      "Model saved as checkpoints/latest_deeplabv3plus_mobilenet_voc_os16.pth\n",
      "validation...\n"
     ]
    },
    {
     "name": "stderr",
     "output_type": "stream",
     "text": [
      "1449it [00:54, 26.45it/s]\n"
     ]
    },
    {
     "name": "stdout",
     "output_type": "stream",
     "text": [
      "\n",
      "Overall Acc: 0.882948\n",
      "Mean Acc: 0.670932\n",
      "FreqW Acc: 0.802436\n",
      "Mean IoU: 0.542705\n",
      "\n",
      "Epoch 27, Itrs 4910/30000, Loss=0.273374\n",
      "Epoch 27, Itrs 4920/30000, Loss=0.314365\n",
      "Epoch 27, Itrs 4930/30000, Loss=0.313277\n",
      "Epoch 27, Itrs 4940/30000, Loss=0.349029\n"
     ]
    },
    {
     "name": "stderr",
     "output_type": "stream",
     "text": [
      "/home/irfan/Desktop/Code/Linux-IO/python_38/lib/python3.8/site-packages/torchvision/transforms/functional.py:417: UserWarning: Argument 'interpolation' of type int is deprecated since 0.13 and will be removed in 0.15. Please use InterpolationMode enum.\n",
      "  warnings.warn(\n",
      "/home/irfan/Desktop/Code/Linux-IO/python_38/lib/python3.8/site-packages/torchvision/transforms/functional.py:417: UserWarning: Argument 'interpolation' of type int is deprecated since 0.13 and will be removed in 0.15. Please use InterpolationMode enum.\n",
      "  warnings.warn(\n"
     ]
    },
    {
     "name": "stdout",
     "output_type": "stream",
     "text": [
      "Epoch 28, Itrs 4950/30000, Loss=0.324513\n",
      "Epoch 28, Itrs 4960/30000, Loss=0.384072\n",
      "Epoch 28, Itrs 4970/30000, Loss=0.355180\n",
      "Epoch 28, Itrs 4980/30000, Loss=0.355213\n",
      "Epoch 28, Itrs 4990/30000, Loss=0.403048\n",
      "Epoch 28, Itrs 5000/30000, Loss=0.354989\n",
      "Model saved as checkpoints/latest_deeplabv3plus_mobilenet_voc_os16.pth\n",
      "validation...\n"
     ]
    },
    {
     "name": "stderr",
     "output_type": "stream",
     "text": [
      "1449it [00:58, 24.74it/s]\n"
     ]
    },
    {
     "name": "stdout",
     "output_type": "stream",
     "text": [
      "\n",
      "Overall Acc: 0.880599\n",
      "Mean Acc: 0.678474\n",
      "FreqW Acc: 0.798528\n",
      "Mean IoU: 0.541432\n",
      "\n",
      "Epoch 28, Itrs 5010/30000, Loss=0.283669\n",
      "Epoch 28, Itrs 5020/30000, Loss=0.303825\n",
      "Epoch 28, Itrs 5030/30000, Loss=0.354474\n",
      "Epoch 28, Itrs 5040/30000, Loss=0.273535\n",
      "Epoch 28, Itrs 5050/30000, Loss=0.301158\n",
      "Epoch 28, Itrs 5060/30000, Loss=0.483313\n",
      "Epoch 28, Itrs 5070/30000, Loss=0.372616\n",
      "Epoch 28, Itrs 5080/30000, Loss=0.384289\n",
      "Epoch 28, Itrs 5090/30000, Loss=0.390859\n",
      "Epoch 28, Itrs 5100/30000, Loss=0.295879\n",
      "Model saved as checkpoints/latest_deeplabv3plus_mobilenet_voc_os16.pth\n",
      "validation...\n"
     ]
    },
    {
     "name": "stderr",
     "output_type": "stream",
     "text": [
      "1449it [01:00, 23.84it/s]\n"
     ]
    },
    {
     "name": "stdout",
     "output_type": "stream",
     "text": [
      "\n",
      "Overall Acc: 0.881946\n",
      "Mean Acc: 0.664794\n",
      "FreqW Acc: 0.801968\n",
      "Mean IoU: 0.543775\n",
      "\n",
      "Epoch 28, Itrs 5110/30000, Loss=0.376587\n",
      "Epoch 28, Itrs 5120/30000, Loss=0.335001\n"
     ]
    },
    {
     "name": "stderr",
     "output_type": "stream",
     "text": [
      "/home/irfan/Desktop/Code/Linux-IO/python_38/lib/python3.8/site-packages/torchvision/transforms/functional.py:417: UserWarning: Argument 'interpolation' of type int is deprecated since 0.13 and will be removed in 0.15. Please use InterpolationMode enum.\n",
      "  warnings.warn(\n",
      "/home/irfan/Desktop/Code/Linux-IO/python_38/lib/python3.8/site-packages/torchvision/transforms/functional.py:417: UserWarning: Argument 'interpolation' of type int is deprecated since 0.13 and will be removed in 0.15. Please use InterpolationMode enum.\n",
      "  warnings.warn(\n"
     ]
    },
    {
     "name": "stdout",
     "output_type": "stream",
     "text": [
      "Epoch 29, Itrs 5130/30000, Loss=0.382195\n",
      "Epoch 29, Itrs 5140/30000, Loss=0.295375\n",
      "Epoch 29, Itrs 5150/30000, Loss=0.326112\n",
      "Epoch 29, Itrs 5160/30000, Loss=0.280661\n",
      "Epoch 29, Itrs 5170/30000, Loss=0.390274\n",
      "Epoch 29, Itrs 5180/30000, Loss=0.362689\n",
      "Epoch 29, Itrs 5190/30000, Loss=0.389302\n",
      "Epoch 29, Itrs 5200/30000, Loss=0.346933\n",
      "Model saved as checkpoints/latest_deeplabv3plus_mobilenet_voc_os16.pth\n",
      "validation...\n"
     ]
    },
    {
     "name": "stderr",
     "output_type": "stream",
     "text": [
      "1449it [00:56, 25.54it/s]\n"
     ]
    },
    {
     "name": "stdout",
     "output_type": "stream",
     "text": [
      "\n",
      "Overall Acc: 0.883928\n",
      "Mean Acc: 0.701674\n",
      "FreqW Acc: 0.802349\n",
      "Mean IoU: 0.555720\n",
      "\n",
      "Epoch 29, Itrs 5210/30000, Loss=0.297078\n",
      "Epoch 29, Itrs 5220/30000, Loss=0.378548\n",
      "Epoch 29, Itrs 5230/30000, Loss=0.310859\n",
      "Epoch 29, Itrs 5240/30000, Loss=0.461321\n",
      "Epoch 29, Itrs 5250/30000, Loss=0.343313\n",
      "Epoch 29, Itrs 5260/30000, Loss=0.320863\n",
      "Epoch 29, Itrs 5270/30000, Loss=0.371400\n",
      "Epoch 29, Itrs 5280/30000, Loss=0.349076\n",
      "Epoch 29, Itrs 5290/30000, Loss=0.282388\n",
      "Epoch 29, Itrs 5300/30000, Loss=0.321687\n",
      "Model saved as checkpoints/latest_deeplabv3plus_mobilenet_voc_os16.pth\n",
      "validation...\n"
     ]
    },
    {
     "name": "stderr",
     "output_type": "stream",
     "text": [
      "1449it [00:57, 25.27it/s]\n"
     ]
    },
    {
     "name": "stdout",
     "output_type": "stream",
     "text": [
      "\n",
      "Overall Acc: 0.877741\n",
      "Mean Acc: 0.714346\n",
      "FreqW Acc: 0.800472\n",
      "Mean IoU: 0.557199\n",
      "\n"
     ]
    },
    {
     "name": "stderr",
     "output_type": "stream",
     "text": [
      "/home/irfan/Desktop/Code/Linux-IO/python_38/lib/python3.8/site-packages/torchvision/transforms/functional.py:417: UserWarning: Argument 'interpolation' of type int is deprecated since 0.13 and will be removed in 0.15. Please use InterpolationMode enum.\n",
      "  warnings.warn(\n",
      "/home/irfan/Desktop/Code/Linux-IO/python_38/lib/python3.8/site-packages/torchvision/transforms/functional.py:417: UserWarning: Argument 'interpolation' of type int is deprecated since 0.13 and will be removed in 0.15. Please use InterpolationMode enum.\n",
      "  warnings.warn(\n"
     ]
    },
    {
     "name": "stdout",
     "output_type": "stream",
     "text": [
      "Epoch 30, Itrs 5310/30000, Loss=0.350513\n",
      "Epoch 30, Itrs 5320/30000, Loss=0.430763\n",
      "Epoch 30, Itrs 5330/30000, Loss=0.424772\n",
      "Epoch 30, Itrs 5340/30000, Loss=0.286262\n",
      "Epoch 30, Itrs 5350/30000, Loss=0.308784\n",
      "Epoch 30, Itrs 5360/30000, Loss=0.301871\n",
      "Epoch 30, Itrs 5370/30000, Loss=0.355941\n",
      "Epoch 30, Itrs 5380/30000, Loss=0.269629\n",
      "Epoch 30, Itrs 5390/30000, Loss=0.307285\n",
      "Epoch 30, Itrs 5400/30000, Loss=0.264090\n",
      "Model saved as checkpoints/latest_deeplabv3plus_mobilenet_voc_os16.pth\n",
      "validation...\n"
     ]
    },
    {
     "name": "stderr",
     "output_type": "stream",
     "text": [
      "1449it [00:58, 24.91it/s]\n"
     ]
    },
    {
     "name": "stdout",
     "output_type": "stream",
     "text": [
      "\n",
      "Overall Acc: 0.883771\n",
      "Mean Acc: 0.702656\n",
      "FreqW Acc: 0.806298\n",
      "Mean IoU: 0.562227\n",
      "\n",
      "Epoch 30, Itrs 5410/30000, Loss=0.370384\n",
      "Epoch 30, Itrs 5420/30000, Loss=0.486655\n",
      "Epoch 30, Itrs 5430/30000, Loss=0.429614\n",
      "Epoch 30, Itrs 5440/30000, Loss=0.320809\n",
      "Epoch 30, Itrs 5450/30000, Loss=0.567946\n",
      "Epoch 30, Itrs 5460/30000, Loss=0.324759\n",
      "Epoch 30, Itrs 5470/30000, Loss=0.262795\n",
      "Epoch 30, Itrs 5480/30000, Loss=0.413363\n",
      "Epoch 30, Itrs 5490/30000, Loss=0.331985\n"
     ]
    },
    {
     "name": "stderr",
     "output_type": "stream",
     "text": [
      "/home/irfan/Desktop/Code/Linux-IO/python_38/lib/python3.8/site-packages/torchvision/transforms/functional.py:417: UserWarning: Argument 'interpolation' of type int is deprecated since 0.13 and will be removed in 0.15. Please use InterpolationMode enum.\n",
      "  warnings.warn(\n",
      "/home/irfan/Desktop/Code/Linux-IO/python_38/lib/python3.8/site-packages/torchvision/transforms/functional.py:417: UserWarning: Argument 'interpolation' of type int is deprecated since 0.13 and will be removed in 0.15. Please use InterpolationMode enum.\n",
      "  warnings.warn(\n"
     ]
    },
    {
     "name": "stdout",
     "output_type": "stream",
     "text": [
      "Epoch 31, Itrs 5500/30000, Loss=0.345998\n",
      "Model saved as checkpoints/latest_deeplabv3plus_mobilenet_voc_os16.pth\n",
      "validation...\n"
     ]
    },
    {
     "name": "stderr",
     "output_type": "stream",
     "text": [
      "1449it [00:58, 24.57it/s]\n"
     ]
    },
    {
     "name": "stdout",
     "output_type": "stream",
     "text": [
      "\n",
      "Overall Acc: 0.879275\n",
      "Mean Acc: 0.700891\n",
      "FreqW Acc: 0.801903\n",
      "Mean IoU: 0.556614\n",
      "\n",
      "Epoch 31, Itrs 5510/30000, Loss=0.355021\n",
      "Epoch 31, Itrs 5520/30000, Loss=0.301912\n",
      "Epoch 31, Itrs 5530/30000, Loss=0.337940\n",
      "Epoch 31, Itrs 5540/30000, Loss=0.293248\n",
      "Epoch 31, Itrs 5550/30000, Loss=0.355385\n",
      "Epoch 31, Itrs 5560/30000, Loss=0.235893\n",
      "Epoch 31, Itrs 5570/30000, Loss=0.347496\n",
      "Epoch 31, Itrs 5580/30000, Loss=0.336523\n",
      "Epoch 31, Itrs 5590/30000, Loss=0.343751\n",
      "Epoch 31, Itrs 5600/30000, Loss=0.331662\n",
      "Model saved as checkpoints/latest_deeplabv3plus_mobilenet_voc_os16.pth\n",
      "validation...\n"
     ]
    },
    {
     "name": "stderr",
     "output_type": "stream",
     "text": [
      "1449it [01:04, 22.41it/s]\n"
     ]
    },
    {
     "name": "stdout",
     "output_type": "stream",
     "text": [
      "\n",
      "Overall Acc: 0.885462\n",
      "Mean Acc: 0.696351\n",
      "FreqW Acc: 0.807722\n",
      "Mean IoU: 0.566773\n",
      "\n",
      "Epoch 31, Itrs 5610/30000, Loss=0.285457\n",
      "Epoch 31, Itrs 5620/30000, Loss=0.316470\n",
      "Epoch 31, Itrs 5630/30000, Loss=0.397263\n",
      "Epoch 31, Itrs 5640/30000, Loss=0.376060\n",
      "Epoch 31, Itrs 5650/30000, Loss=0.348793\n",
      "Epoch 31, Itrs 5660/30000, Loss=0.325663\n",
      "Epoch 31, Itrs 5670/30000, Loss=0.274106\n"
     ]
    },
    {
     "name": "stderr",
     "output_type": "stream",
     "text": [
      "/home/irfan/Desktop/Code/Linux-IO/python_38/lib/python3.8/site-packages/torchvision/transforms/functional.py:417: UserWarning: Argument 'interpolation' of type int is deprecated since 0.13 and will be removed in 0.15. Please use InterpolationMode enum.\n",
      "  warnings.warn(\n",
      "/home/irfan/Desktop/Code/Linux-IO/python_38/lib/python3.8/site-packages/torchvision/transforms/functional.py:417: UserWarning: Argument 'interpolation' of type int is deprecated since 0.13 and will be removed in 0.15. Please use InterpolationMode enum.\n",
      "  warnings.warn(\n"
     ]
    },
    {
     "name": "stdout",
     "output_type": "stream",
     "text": [
      "Epoch 32, Itrs 5680/30000, Loss=0.281707\n",
      "Epoch 32, Itrs 5690/30000, Loss=0.370897\n",
      "Epoch 32, Itrs 5700/30000, Loss=0.341054\n",
      "Model saved as checkpoints/latest_deeplabv3plus_mobilenet_voc_os16.pth\n",
      "validation...\n"
     ]
    },
    {
     "name": "stderr",
     "output_type": "stream",
     "text": [
      "1449it [00:58, 24.69it/s]\n"
     ]
    },
    {
     "name": "stdout",
     "output_type": "stream",
     "text": [
      "\n",
      "Overall Acc: 0.885043\n",
      "Mean Acc: 0.704767\n",
      "FreqW Acc: 0.808628\n",
      "Mean IoU: 0.564261\n",
      "\n",
      "Epoch 32, Itrs 5710/30000, Loss=0.348065\n",
      "Epoch 32, Itrs 5720/30000, Loss=0.292994\n",
      "Epoch 32, Itrs 5730/30000, Loss=0.383499\n",
      "Epoch 32, Itrs 5740/30000, Loss=0.265564\n",
      "Epoch 32, Itrs 5750/30000, Loss=0.312295\n",
      "Epoch 32, Itrs 5760/30000, Loss=0.299876\n",
      "Epoch 32, Itrs 5770/30000, Loss=0.290143\n",
      "Epoch 32, Itrs 5780/30000, Loss=0.279264\n",
      "Epoch 32, Itrs 5790/30000, Loss=0.270754\n",
      "Epoch 32, Itrs 5800/30000, Loss=0.448185\n",
      "Model saved as checkpoints/latest_deeplabv3plus_mobilenet_voc_os16.pth\n",
      "validation...\n"
     ]
    },
    {
     "name": "stderr",
     "output_type": "stream",
     "text": [
      "1449it [00:59, 24.28it/s]\n"
     ]
    },
    {
     "name": "stdout",
     "output_type": "stream",
     "text": [
      "\n",
      "Overall Acc: 0.887365\n",
      "Mean Acc: 0.686892\n",
      "FreqW Acc: 0.807963\n",
      "Mean IoU: 0.561939\n",
      "\n",
      "Epoch 32, Itrs 5810/30000, Loss=0.320722\n",
      "Epoch 32, Itrs 5820/30000, Loss=0.433455\n",
      "Epoch 32, Itrs 5830/30000, Loss=0.360460\n",
      "Epoch 32, Itrs 5840/30000, Loss=0.314246\n",
      "Epoch 32, Itrs 5850/30000, Loss=0.376717\n"
     ]
    },
    {
     "name": "stderr",
     "output_type": "stream",
     "text": [
      "/home/irfan/Desktop/Code/Linux-IO/python_38/lib/python3.8/site-packages/torchvision/transforms/functional.py:417: UserWarning: Argument 'interpolation' of type int is deprecated since 0.13 and will be removed in 0.15. Please use InterpolationMode enum.\n",
      "  warnings.warn(\n",
      "/home/irfan/Desktop/Code/Linux-IO/python_38/lib/python3.8/site-packages/torchvision/transforms/functional.py:417: UserWarning: Argument 'interpolation' of type int is deprecated since 0.13 and will be removed in 0.15. Please use InterpolationMode enum.\n",
      "  warnings.warn(\n"
     ]
    },
    {
     "name": "stdout",
     "output_type": "stream",
     "text": [
      "Epoch 33, Itrs 5860/30000, Loss=0.394721\n",
      "Epoch 33, Itrs 5870/30000, Loss=0.336112\n",
      "Epoch 33, Itrs 5880/30000, Loss=0.342869\n",
      "Epoch 33, Itrs 5890/30000, Loss=0.282076\n",
      "Epoch 33, Itrs 5900/30000, Loss=0.390316\n",
      "Model saved as checkpoints/latest_deeplabv3plus_mobilenet_voc_os16.pth\n",
      "validation...\n"
     ]
    },
    {
     "name": "stderr",
     "output_type": "stream",
     "text": [
      "1449it [01:01, 23.47it/s]\n"
     ]
    },
    {
     "name": "stdout",
     "output_type": "stream",
     "text": [
      "\n",
      "Overall Acc: 0.887790\n",
      "Mean Acc: 0.634636\n",
      "FreqW Acc: 0.803211\n",
      "Mean IoU: 0.548394\n",
      "\n",
      "Epoch 33, Itrs 5910/30000, Loss=0.305008\n",
      "Epoch 33, Itrs 5920/30000, Loss=0.399167\n",
      "Epoch 33, Itrs 5930/30000, Loss=0.431934\n",
      "Epoch 33, Itrs 5940/30000, Loss=0.366288\n",
      "Epoch 33, Itrs 5950/30000, Loss=0.323986\n",
      "Epoch 33, Itrs 5960/30000, Loss=0.272166\n",
      "Epoch 33, Itrs 5970/30000, Loss=0.371312\n",
      "Epoch 33, Itrs 5980/30000, Loss=0.323989\n",
      "Epoch 33, Itrs 5990/30000, Loss=0.355605\n",
      "Epoch 33, Itrs 6000/30000, Loss=0.345063\n",
      "Model saved as checkpoints/latest_deeplabv3plus_mobilenet_voc_os16.pth\n",
      "validation...\n"
     ]
    },
    {
     "name": "stderr",
     "output_type": "stream",
     "text": [
      "1449it [00:59, 24.35it/s]\n"
     ]
    },
    {
     "name": "stdout",
     "output_type": "stream",
     "text": [
      "\n",
      "Overall Acc: 0.884302\n",
      "Mean Acc: 0.696916\n",
      "FreqW Acc: 0.805928\n",
      "Mean IoU: 0.566047\n",
      "\n",
      "Epoch 33, Itrs 6010/30000, Loss=0.298581\n",
      "Epoch 33, Itrs 6020/30000, Loss=0.395180\n",
      "Epoch 33, Itrs 6030/30000, Loss=0.297279\n"
     ]
    },
    {
     "name": "stderr",
     "output_type": "stream",
     "text": [
      "/home/irfan/Desktop/Code/Linux-IO/python_38/lib/python3.8/site-packages/torchvision/transforms/functional.py:417: UserWarning: Argument 'interpolation' of type int is deprecated since 0.13 and will be removed in 0.15. Please use InterpolationMode enum.\n",
      "  warnings.warn(\n",
      "/home/irfan/Desktop/Code/Linux-IO/python_38/lib/python3.8/site-packages/torchvision/transforms/functional.py:417: UserWarning: Argument 'interpolation' of type int is deprecated since 0.13 and will be removed in 0.15. Please use InterpolationMode enum.\n",
      "  warnings.warn(\n"
     ]
    },
    {
     "name": "stdout",
     "output_type": "stream",
     "text": [
      "Epoch 34, Itrs 6040/30000, Loss=0.309916\n",
      "Epoch 34, Itrs 6050/30000, Loss=0.338665\n",
      "Epoch 34, Itrs 6060/30000, Loss=0.344617\n",
      "Epoch 34, Itrs 6070/30000, Loss=0.278162\n",
      "Epoch 34, Itrs 6080/30000, Loss=0.307743\n",
      "Epoch 34, Itrs 6090/30000, Loss=0.335490\n",
      "Epoch 34, Itrs 6100/30000, Loss=0.282918\n",
      "Model saved as checkpoints/latest_deeplabv3plus_mobilenet_voc_os16.pth\n",
      "validation...\n"
     ]
    },
    {
     "name": "stderr",
     "output_type": "stream",
     "text": [
      "1449it [00:59, 24.50it/s]\n"
     ]
    },
    {
     "name": "stdout",
     "output_type": "stream",
     "text": [
      "\n",
      "Overall Acc: 0.887463\n",
      "Mean Acc: 0.696618\n",
      "FreqW Acc: 0.810367\n",
      "Mean IoU: 0.563379\n",
      "\n",
      "Epoch 34, Itrs 6110/30000, Loss=0.424489\n",
      "Epoch 34, Itrs 6120/30000, Loss=0.316636\n",
      "Epoch 34, Itrs 6130/30000, Loss=0.314384\n",
      "Epoch 34, Itrs 6140/30000, Loss=0.347362\n",
      "Epoch 34, Itrs 6150/30000, Loss=0.310515\n",
      "Epoch 34, Itrs 6160/30000, Loss=0.376855\n",
      "Epoch 34, Itrs 6170/30000, Loss=0.381433\n",
      "Epoch 34, Itrs 6180/30000, Loss=0.340122\n",
      "Epoch 34, Itrs 6190/30000, Loss=0.430318\n",
      "Epoch 34, Itrs 6200/30000, Loss=0.355896\n",
      "Model saved as checkpoints/latest_deeplabv3plus_mobilenet_voc_os16.pth\n",
      "validation...\n"
     ]
    },
    {
     "name": "stderr",
     "output_type": "stream",
     "text": [
      "1449it [01:04, 22.46it/s]\n"
     ]
    },
    {
     "name": "stdout",
     "output_type": "stream",
     "text": [
      "\n",
      "Overall Acc: 0.883947\n",
      "Mean Acc: 0.663383\n",
      "FreqW Acc: 0.803156\n",
      "Mean IoU: 0.546149\n",
      "\n",
      "Epoch 34, Itrs 6210/30000, Loss=0.296599\n",
      "Epoch 34, Itrs 6220/30000, Loss=0.346785\n"
     ]
    },
    {
     "name": "stderr",
     "output_type": "stream",
     "text": [
      "/home/irfan/Desktop/Code/Linux-IO/python_38/lib/python3.8/site-packages/torchvision/transforms/functional.py:417: UserWarning: Argument 'interpolation' of type int is deprecated since 0.13 and will be removed in 0.15. Please use InterpolationMode enum.\n",
      "  warnings.warn(\n",
      "/home/irfan/Desktop/Code/Linux-IO/python_38/lib/python3.8/site-packages/torchvision/transforms/functional.py:417: UserWarning: Argument 'interpolation' of type int is deprecated since 0.13 and will be removed in 0.15. Please use InterpolationMode enum.\n",
      "  warnings.warn(\n"
     ]
    },
    {
     "name": "stdout",
     "output_type": "stream",
     "text": [
      "Epoch 35, Itrs 6230/30000, Loss=0.337192\n",
      "Epoch 35, Itrs 6240/30000, Loss=0.466605\n",
      "Epoch 35, Itrs 6250/30000, Loss=0.370236\n",
      "Epoch 35, Itrs 6260/30000, Loss=0.345914\n",
      "Epoch 35, Itrs 6270/30000, Loss=0.272021\n",
      "Epoch 35, Itrs 6280/30000, Loss=0.359595\n",
      "Epoch 35, Itrs 6290/30000, Loss=0.345873\n",
      "Epoch 35, Itrs 6300/30000, Loss=0.273886\n",
      "Model saved as checkpoints/latest_deeplabv3plus_mobilenet_voc_os16.pth\n",
      "validation...\n"
     ]
    },
    {
     "name": "stderr",
     "output_type": "stream",
     "text": [
      "1449it [01:01, 23.56it/s]\n"
     ]
    },
    {
     "name": "stdout",
     "output_type": "stream",
     "text": [
      "\n",
      "Overall Acc: 0.889175\n",
      "Mean Acc: 0.678088\n",
      "FreqW Acc: 0.808584\n",
      "Mean IoU: 0.558158\n",
      "\n",
      "Epoch 35, Itrs 6310/30000, Loss=0.427027\n",
      "Epoch 35, Itrs 6320/30000, Loss=0.290787\n",
      "Epoch 35, Itrs 6330/30000, Loss=0.360085\n",
      "Epoch 35, Itrs 6340/30000, Loss=0.280909\n",
      "Epoch 35, Itrs 6350/30000, Loss=0.326272\n",
      "Epoch 35, Itrs 6360/30000, Loss=0.293161\n",
      "Epoch 35, Itrs 6370/30000, Loss=0.253586\n",
      "Epoch 35, Itrs 6380/30000, Loss=0.320425\n",
      "Epoch 35, Itrs 6390/30000, Loss=0.380893\n",
      "Epoch 35, Itrs 6400/30000, Loss=0.385843\n",
      "Model saved as checkpoints/latest_deeplabv3plus_mobilenet_voc_os16.pth\n",
      "validation...\n"
     ]
    },
    {
     "name": "stderr",
     "output_type": "stream",
     "text": [
      "1449it [01:04, 22.33it/s]\n"
     ]
    },
    {
     "name": "stdout",
     "output_type": "stream",
     "text": [
      "\n",
      "Overall Acc: 0.887709\n",
      "Mean Acc: 0.694683\n",
      "FreqW Acc: 0.811491\n",
      "Mean IoU: 0.566904\n",
      "\n"
     ]
    },
    {
     "name": "stderr",
     "output_type": "stream",
     "text": [
      "/home/irfan/Desktop/Code/Linux-IO/python_38/lib/python3.8/site-packages/torchvision/transforms/functional.py:417: UserWarning: Argument 'interpolation' of type int is deprecated since 0.13 and will be removed in 0.15. Please use InterpolationMode enum.\n",
      "  warnings.warn(\n",
      "/home/irfan/Desktop/Code/Linux-IO/python_38/lib/python3.8/site-packages/torchvision/transforms/functional.py:417: UserWarning: Argument 'interpolation' of type int is deprecated since 0.13 and will be removed in 0.15. Please use InterpolationMode enum.\n",
      "  warnings.warn(\n"
     ]
    },
    {
     "name": "stdout",
     "output_type": "stream",
     "text": [
      "Epoch 36, Itrs 6410/30000, Loss=0.349275\n",
      "Epoch 36, Itrs 6420/30000, Loss=0.301680\n",
      "Epoch 36, Itrs 6430/30000, Loss=0.330830\n",
      "Epoch 36, Itrs 6440/30000, Loss=0.388911\n",
      "Epoch 36, Itrs 6450/30000, Loss=0.308303\n",
      "Epoch 36, Itrs 6460/30000, Loss=0.388160\n",
      "Epoch 36, Itrs 6470/30000, Loss=0.363697\n",
      "Epoch 36, Itrs 6480/30000, Loss=0.452539\n",
      "Epoch 36, Itrs 6490/30000, Loss=0.381998\n",
      "Epoch 36, Itrs 6500/30000, Loss=0.313938\n",
      "Model saved as checkpoints/latest_deeplabv3plus_mobilenet_voc_os16.pth\n",
      "validation...\n"
     ]
    },
    {
     "name": "stderr",
     "output_type": "stream",
     "text": [
      "1449it [01:03, 22.87it/s]\n"
     ]
    },
    {
     "name": "stdout",
     "output_type": "stream",
     "text": [
      "\n",
      "Overall Acc: 0.883170\n",
      "Mean Acc: 0.701885\n",
      "FreqW Acc: 0.804303\n",
      "Mean IoU: 0.559112\n",
      "\n",
      "Epoch 36, Itrs 6510/30000, Loss=0.305260\n",
      "Epoch 36, Itrs 6520/30000, Loss=0.266008\n",
      "Epoch 36, Itrs 6530/30000, Loss=0.381377\n",
      "Epoch 36, Itrs 6540/30000, Loss=0.325071\n",
      "Epoch 36, Itrs 6550/30000, Loss=0.323863\n",
      "Epoch 36, Itrs 6560/30000, Loss=0.309226\n",
      "Epoch 36, Itrs 6570/30000, Loss=0.271522\n",
      "Epoch 36, Itrs 6580/30000, Loss=0.412692\n"
     ]
    },
    {
     "name": "stderr",
     "output_type": "stream",
     "text": [
      "/home/irfan/Desktop/Code/Linux-IO/python_38/lib/python3.8/site-packages/torchvision/transforms/functional.py:417: UserWarning: Argument 'interpolation' of type int is deprecated since 0.13 and will be removed in 0.15. Please use InterpolationMode enum.\n",
      "  warnings.warn(\n",
      "/home/irfan/Desktop/Code/Linux-IO/python_38/lib/python3.8/site-packages/torchvision/transforms/functional.py:417: UserWarning: Argument 'interpolation' of type int is deprecated since 0.13 and will be removed in 0.15. Please use InterpolationMode enum.\n",
      "  warnings.warn(\n"
     ]
    },
    {
     "name": "stdout",
     "output_type": "stream",
     "text": [
      "Epoch 37, Itrs 6590/30000, Loss=0.271050\n",
      "Epoch 37, Itrs 6600/30000, Loss=0.331252\n",
      "Model saved as checkpoints/latest_deeplabv3plus_mobilenet_voc_os16.pth\n",
      "validation...\n"
     ]
    },
    {
     "name": "stderr",
     "output_type": "stream",
     "text": [
      "1449it [00:58, 24.77it/s]\n"
     ]
    },
    {
     "name": "stdout",
     "output_type": "stream",
     "text": [
      "\n",
      "Overall Acc: 0.895743\n",
      "Mean Acc: 0.689916\n",
      "FreqW Acc: 0.818684\n",
      "Mean IoU: 0.579603\n",
      "\n",
      "Model saved as checkpoints/best_deeplabv3plus_mobilenet_voc_os16.pth\n",
      "Epoch 37, Itrs 6610/30000, Loss=0.307028\n",
      "Epoch 37, Itrs 6620/30000, Loss=0.444021\n",
      "Epoch 37, Itrs 6630/30000, Loss=0.255301\n",
      "Epoch 37, Itrs 6640/30000, Loss=0.352754\n",
      "Epoch 37, Itrs 6650/30000, Loss=0.366567\n",
      "Epoch 37, Itrs 6660/30000, Loss=0.294669\n",
      "Epoch 37, Itrs 6670/30000, Loss=0.353729\n",
      "Epoch 37, Itrs 6680/30000, Loss=0.334805\n",
      "Epoch 37, Itrs 6690/30000, Loss=0.394605\n",
      "Epoch 37, Itrs 6700/30000, Loss=0.313132\n",
      "Model saved as checkpoints/latest_deeplabv3plus_mobilenet_voc_os16.pth\n",
      "validation...\n"
     ]
    },
    {
     "name": "stderr",
     "output_type": "stream",
     "text": [
      "1449it [01:03, 22.82it/s]\n"
     ]
    },
    {
     "name": "stdout",
     "output_type": "stream",
     "text": [
      "\n",
      "Overall Acc: 0.884956\n",
      "Mean Acc: 0.675381\n",
      "FreqW Acc: 0.805528\n",
      "Mean IoU: 0.552159\n",
      "\n",
      "Epoch 37, Itrs 6710/30000, Loss=0.269998\n",
      "Epoch 37, Itrs 6720/30000, Loss=0.254926\n",
      "Epoch 37, Itrs 6730/30000, Loss=0.289849\n",
      "Epoch 37, Itrs 6740/30000, Loss=0.331130\n",
      "Epoch 37, Itrs 6750/30000, Loss=0.325971\n",
      "Epoch 37, Itrs 6760/30000, Loss=0.373001\n",
      "Epoch 37, Itrs 6770/30000, Loss=0.240621\n"
     ]
    },
    {
     "name": "stderr",
     "output_type": "stream",
     "text": [
      "/home/irfan/Desktop/Code/Linux-IO/python_38/lib/python3.8/site-packages/torchvision/transforms/functional.py:417: UserWarning: Argument 'interpolation' of type int is deprecated since 0.13 and will be removed in 0.15. Please use InterpolationMode enum.\n",
      "  warnings.warn(\n",
      "/home/irfan/Desktop/Code/Linux-IO/python_38/lib/python3.8/site-packages/torchvision/transforms/functional.py:417: UserWarning: Argument 'interpolation' of type int is deprecated since 0.13 and will be removed in 0.15. Please use InterpolationMode enum.\n",
      "  warnings.warn(\n"
     ]
    },
    {
     "name": "stdout",
     "output_type": "stream",
     "text": [
      "Epoch 38, Itrs 6780/30000, Loss=0.442127\n",
      "Epoch 38, Itrs 6790/30000, Loss=0.368088\n",
      "Epoch 38, Itrs 6800/30000, Loss=0.337074\n",
      "Model saved as checkpoints/latest_deeplabv3plus_mobilenet_voc_os16.pth\n",
      "validation...\n"
     ]
    },
    {
     "name": "stderr",
     "output_type": "stream",
     "text": [
      "1449it [01:01, 23.58it/s]\n"
     ]
    },
    {
     "name": "stdout",
     "output_type": "stream",
     "text": [
      "\n",
      "Overall Acc: 0.890962\n",
      "Mean Acc: 0.704718\n",
      "FreqW Acc: 0.814059\n",
      "Mean IoU: 0.578948\n",
      "\n",
      "Epoch 38, Itrs 6810/30000, Loss=0.279877\n",
      "Epoch 38, Itrs 6820/30000, Loss=0.382991\n",
      "Epoch 38, Itrs 6830/30000, Loss=0.469801\n",
      "Epoch 38, Itrs 6840/30000, Loss=0.365169\n",
      "Epoch 38, Itrs 6850/30000, Loss=0.321986\n",
      "Epoch 38, Itrs 6860/30000, Loss=0.350558\n",
      "Epoch 38, Itrs 6870/30000, Loss=0.302364\n",
      "Epoch 38, Itrs 6880/30000, Loss=0.300998\n",
      "Epoch 38, Itrs 6890/30000, Loss=0.323278\n",
      "Epoch 38, Itrs 6900/30000, Loss=0.292457\n",
      "Model saved as checkpoints/latest_deeplabv3plus_mobilenet_voc_os16.pth\n",
      "validation...\n"
     ]
    },
    {
     "name": "stderr",
     "output_type": "stream",
     "text": [
      "1449it [01:01, 23.73it/s]\n"
     ]
    },
    {
     "name": "stdout",
     "output_type": "stream",
     "text": [
      "\n",
      "Overall Acc: 0.886641\n",
      "Mean Acc: 0.679186\n",
      "FreqW Acc: 0.805560\n",
      "Mean IoU: 0.556470\n",
      "\n",
      "Epoch 38, Itrs 6910/30000, Loss=0.268808\n",
      "Epoch 38, Itrs 6920/30000, Loss=0.380116\n",
      "Epoch 38, Itrs 6930/30000, Loss=0.340597\n",
      "Epoch 38, Itrs 6940/30000, Loss=0.328713\n",
      "Epoch 38, Itrs 6950/30000, Loss=0.278101\n"
     ]
    },
    {
     "name": "stderr",
     "output_type": "stream",
     "text": [
      "/home/irfan/Desktop/Code/Linux-IO/python_38/lib/python3.8/site-packages/torchvision/transforms/functional.py:417: UserWarning: Argument 'interpolation' of type int is deprecated since 0.13 and will be removed in 0.15. Please use InterpolationMode enum.\n",
      "  warnings.warn(\n",
      "/home/irfan/Desktop/Code/Linux-IO/python_38/lib/python3.8/site-packages/torchvision/transforms/functional.py:417: UserWarning: Argument 'interpolation' of type int is deprecated since 0.13 and will be removed in 0.15. Please use InterpolationMode enum.\n",
      "  warnings.warn(\n"
     ]
    },
    {
     "name": "stdout",
     "output_type": "stream",
     "text": [
      "Epoch 39, Itrs 6960/30000, Loss=0.274083\n",
      "Epoch 39, Itrs 6970/30000, Loss=0.242261\n",
      "Epoch 39, Itrs 6980/30000, Loss=0.258226\n",
      "Epoch 39, Itrs 6990/30000, Loss=0.307463\n",
      "Epoch 39, Itrs 7000/30000, Loss=0.320386\n",
      "Model saved as checkpoints/latest_deeplabv3plus_mobilenet_voc_os16.pth\n",
      "validation...\n"
     ]
    },
    {
     "name": "stderr",
     "output_type": "stream",
     "text": [
      "1449it [01:05, 22.02it/s]\n"
     ]
    },
    {
     "name": "stdout",
     "output_type": "stream",
     "text": [
      "\n",
      "Overall Acc: 0.894515\n",
      "Mean Acc: 0.702061\n",
      "FreqW Acc: 0.819852\n",
      "Mean IoU: 0.579434\n",
      "\n",
      "Epoch 39, Itrs 7010/30000, Loss=0.268864\n",
      "Epoch 39, Itrs 7020/30000, Loss=0.305406\n",
      "Epoch 39, Itrs 7030/30000, Loss=0.267630\n",
      "Epoch 39, Itrs 7040/30000, Loss=0.305707\n",
      "Epoch 39, Itrs 7050/30000, Loss=0.441518\n",
      "Epoch 39, Itrs 7060/30000, Loss=0.274239\n",
      "Epoch 39, Itrs 7070/30000, Loss=0.317752\n",
      "Epoch 39, Itrs 7080/30000, Loss=0.316777\n",
      "Epoch 39, Itrs 7090/30000, Loss=0.328846\n",
      "Epoch 39, Itrs 7100/30000, Loss=0.257028\n",
      "Model saved as checkpoints/latest_deeplabv3plus_mobilenet_voc_os16.pth\n",
      "validation...\n"
     ]
    },
    {
     "name": "stderr",
     "output_type": "stream",
     "text": [
      "1449it [01:02, 23.37it/s]\n"
     ]
    },
    {
     "name": "stdout",
     "output_type": "stream",
     "text": [
      "\n",
      "Overall Acc: 0.892319\n",
      "Mean Acc: 0.681545\n",
      "FreqW Acc: 0.814966\n",
      "Mean IoU: 0.576820\n",
      "\n",
      "Epoch 39, Itrs 7110/30000, Loss=0.320051\n",
      "Epoch 39, Itrs 7120/30000, Loss=0.308274\n",
      "Epoch 39, Itrs 7130/30000, Loss=0.315594\n"
     ]
    },
    {
     "name": "stderr",
     "output_type": "stream",
     "text": [
      "/home/irfan/Desktop/Code/Linux-IO/python_38/lib/python3.8/site-packages/torchvision/transforms/functional.py:417: UserWarning: Argument 'interpolation' of type int is deprecated since 0.13 and will be removed in 0.15. Please use InterpolationMode enum.\n",
      "  warnings.warn(\n",
      "/home/irfan/Desktop/Code/Linux-IO/python_38/lib/python3.8/site-packages/torchvision/transforms/functional.py:417: UserWarning: Argument 'interpolation' of type int is deprecated since 0.13 and will be removed in 0.15. Please use InterpolationMode enum.\n",
      "  warnings.warn(\n"
     ]
    },
    {
     "name": "stdout",
     "output_type": "stream",
     "text": [
      "Epoch 40, Itrs 7140/30000, Loss=0.341929\n",
      "Epoch 40, Itrs 7150/30000, Loss=0.246236\n",
      "Epoch 40, Itrs 7160/30000, Loss=0.246570\n",
      "Epoch 40, Itrs 7170/30000, Loss=0.282217\n",
      "Epoch 40, Itrs 7180/30000, Loss=0.310261\n",
      "Epoch 40, Itrs 7190/30000, Loss=0.275580\n",
      "Epoch 40, Itrs 7200/30000, Loss=0.307858\n",
      "Model saved as checkpoints/latest_deeplabv3plus_mobilenet_voc_os16.pth\n",
      "validation...\n"
     ]
    },
    {
     "name": "stderr",
     "output_type": "stream",
     "text": [
      "1449it [00:59, 24.40it/s]\n"
     ]
    },
    {
     "name": "stdout",
     "output_type": "stream",
     "text": [
      "\n",
      "Overall Acc: 0.895891\n",
      "Mean Acc: 0.704721\n",
      "FreqW Acc: 0.821068\n",
      "Mean IoU: 0.590465\n",
      "\n",
      "Model saved as checkpoints/best_deeplabv3plus_mobilenet_voc_os16.pth\n",
      "Epoch 40, Itrs 7210/30000, Loss=0.350609\n",
      "Epoch 40, Itrs 7220/30000, Loss=0.369859\n",
      "Epoch 40, Itrs 7230/30000, Loss=0.253696\n",
      "Epoch 40, Itrs 7240/30000, Loss=0.337996\n",
      "Epoch 40, Itrs 7250/30000, Loss=0.353002\n",
      "Epoch 40, Itrs 7260/30000, Loss=0.261592\n",
      "Epoch 40, Itrs 7270/30000, Loss=0.297113\n",
      "Epoch 40, Itrs 7280/30000, Loss=0.356064\n",
      "Epoch 40, Itrs 7290/30000, Loss=0.276278\n",
      "Epoch 40, Itrs 7300/30000, Loss=0.388681\n",
      "Model saved as checkpoints/latest_deeplabv3plus_mobilenet_voc_os16.pth\n",
      "validation...\n"
     ]
    },
    {
     "name": "stderr",
     "output_type": "stream",
     "text": [
      "1449it [01:03, 22.80it/s]\n"
     ]
    },
    {
     "name": "stdout",
     "output_type": "stream",
     "text": [
      "\n",
      "Overall Acc: 0.893131\n",
      "Mean Acc: 0.697204\n",
      "FreqW Acc: 0.816803\n",
      "Mean IoU: 0.574740\n",
      "\n",
      "Epoch 40, Itrs 7310/30000, Loss=0.314690\n",
      "Epoch 40, Itrs 7320/30000, Loss=0.297347\n"
     ]
    },
    {
     "name": "stderr",
     "output_type": "stream",
     "text": [
      "/home/irfan/Desktop/Code/Linux-IO/python_38/lib/python3.8/site-packages/torchvision/transforms/functional.py:417: UserWarning: Argument 'interpolation' of type int is deprecated since 0.13 and will be removed in 0.15. Please use InterpolationMode enum.\n",
      "  warnings.warn(\n",
      "/home/irfan/Desktop/Code/Linux-IO/python_38/lib/python3.8/site-packages/torchvision/transforms/functional.py:417: UserWarning: Argument 'interpolation' of type int is deprecated since 0.13 and will be removed in 0.15. Please use InterpolationMode enum.\n",
      "  warnings.warn(\n"
     ]
    },
    {
     "name": "stdout",
     "output_type": "stream",
     "text": [
      "Epoch 41, Itrs 7330/30000, Loss=0.264617\n",
      "Epoch 41, Itrs 7340/30000, Loss=0.339762\n",
      "Epoch 41, Itrs 7350/30000, Loss=0.311657\n",
      "Epoch 41, Itrs 7360/30000, Loss=0.293367\n",
      "Epoch 41, Itrs 7370/30000, Loss=0.300028\n",
      "Epoch 41, Itrs 7380/30000, Loss=0.218092\n",
      "Epoch 41, Itrs 7390/30000, Loss=0.244876\n",
      "Epoch 41, Itrs 7400/30000, Loss=0.321298\n",
      "Model saved as checkpoints/latest_deeplabv3plus_mobilenet_voc_os16.pth\n",
      "validation...\n"
     ]
    },
    {
     "name": "stderr",
     "output_type": "stream",
     "text": [
      "1449it [01:03, 22.79it/s]\n"
     ]
    },
    {
     "name": "stdout",
     "output_type": "stream",
     "text": [
      "\n",
      "Overall Acc: 0.896820\n",
      "Mean Acc: 0.725593\n",
      "FreqW Acc: 0.824634\n",
      "Mean IoU: 0.598400\n",
      "\n",
      "Model saved as checkpoints/best_deeplabv3plus_mobilenet_voc_os16.pth\n",
      "Epoch 41, Itrs 7410/30000, Loss=0.267640\n",
      "Epoch 41, Itrs 7420/30000, Loss=0.242828\n",
      "Epoch 41, Itrs 7430/30000, Loss=0.338450\n",
      "Epoch 41, Itrs 7440/30000, Loss=0.271881\n",
      "Epoch 41, Itrs 7450/30000, Loss=0.304135\n",
      "Epoch 41, Itrs 7460/30000, Loss=0.305002\n",
      "Epoch 41, Itrs 7470/30000, Loss=0.323667\n",
      "Epoch 41, Itrs 7480/30000, Loss=0.399361\n",
      "Epoch 41, Itrs 7490/30000, Loss=0.372036\n",
      "Epoch 41, Itrs 7500/30000, Loss=0.269427\n",
      "Model saved as checkpoints/latest_deeplabv3plus_mobilenet_voc_os16.pth\n",
      "validation...\n"
     ]
    },
    {
     "name": "stderr",
     "output_type": "stream",
     "text": [
      "1449it [01:01, 23.57it/s]\n"
     ]
    },
    {
     "name": "stdout",
     "output_type": "stream",
     "text": [
      "\n",
      "Overall Acc: 0.876521\n",
      "Mean Acc: 0.699283\n",
      "FreqW Acc: 0.798590\n",
      "Mean IoU: 0.548602\n",
      "\n"
     ]
    },
    {
     "name": "stderr",
     "output_type": "stream",
     "text": [
      "/home/irfan/Desktop/Code/Linux-IO/python_38/lib/python3.8/site-packages/torchvision/transforms/functional.py:417: UserWarning: Argument 'interpolation' of type int is deprecated since 0.13 and will be removed in 0.15. Please use InterpolationMode enum.\n",
      "  warnings.warn(\n",
      "/home/irfan/Desktop/Code/Linux-IO/python_38/lib/python3.8/site-packages/torchvision/transforms/functional.py:417: UserWarning: Argument 'interpolation' of type int is deprecated since 0.13 and will be removed in 0.15. Please use InterpolationMode enum.\n",
      "  warnings.warn(\n"
     ]
    },
    {
     "name": "stdout",
     "output_type": "stream",
     "text": [
      "Epoch 42, Itrs 7510/30000, Loss=0.233832\n",
      "Epoch 42, Itrs 7520/30000, Loss=0.285348\n",
      "Epoch 42, Itrs 7530/30000, Loss=0.229400\n",
      "Epoch 42, Itrs 7540/30000, Loss=0.355908\n",
      "Epoch 42, Itrs 7550/30000, Loss=0.301759\n",
      "Epoch 42, Itrs 7560/30000, Loss=0.339824\n",
      "Epoch 42, Itrs 7570/30000, Loss=0.312435\n",
      "Epoch 42, Itrs 7580/30000, Loss=0.284141\n",
      "Epoch 42, Itrs 7590/30000, Loss=0.360441\n",
      "Epoch 42, Itrs 7600/30000, Loss=0.254221\n",
      "Model saved as checkpoints/latest_deeplabv3plus_mobilenet_voc_os16.pth\n",
      "validation...\n"
     ]
    },
    {
     "name": "stderr",
     "output_type": "stream",
     "text": [
      "1449it [01:02, 23.09it/s]\n"
     ]
    },
    {
     "name": "stdout",
     "output_type": "stream",
     "text": [
      "\n",
      "Overall Acc: 0.882314\n",
      "Mean Acc: 0.702007\n",
      "FreqW Acc: 0.806792\n",
      "Mean IoU: 0.568742\n",
      "\n",
      "Epoch 42, Itrs 7610/30000, Loss=0.289395\n",
      "Epoch 42, Itrs 7620/30000, Loss=0.299412\n",
      "Epoch 42, Itrs 7630/30000, Loss=0.301729\n",
      "Epoch 42, Itrs 7640/30000, Loss=0.277730\n",
      "Epoch 42, Itrs 7650/30000, Loss=0.267836\n",
      "Epoch 42, Itrs 7660/30000, Loss=0.267724\n",
      "Epoch 42, Itrs 7670/30000, Loss=0.278475\n",
      "Epoch 42, Itrs 7680/30000, Loss=0.226285\n"
     ]
    },
    {
     "name": "stderr",
     "output_type": "stream",
     "text": [
      "/home/irfan/Desktop/Code/Linux-IO/python_38/lib/python3.8/site-packages/torchvision/transforms/functional.py:417: UserWarning: Argument 'interpolation' of type int is deprecated since 0.13 and will be removed in 0.15. Please use InterpolationMode enum.\n",
      "  warnings.warn(\n",
      "/home/irfan/Desktop/Code/Linux-IO/python_38/lib/python3.8/site-packages/torchvision/transforms/functional.py:417: UserWarning: Argument 'interpolation' of type int is deprecated since 0.13 and will be removed in 0.15. Please use InterpolationMode enum.\n",
      "  warnings.warn(\n"
     ]
    },
    {
     "name": "stdout",
     "output_type": "stream",
     "text": [
      "Epoch 43, Itrs 7690/30000, Loss=0.228093\n",
      "Epoch 43, Itrs 7700/30000, Loss=0.281269\n",
      "Model saved as checkpoints/latest_deeplabv3plus_mobilenet_voc_os16.pth\n",
      "validation...\n"
     ]
    },
    {
     "name": "stderr",
     "output_type": "stream",
     "text": [
      "1449it [01:01, 23.44it/s]\n"
     ]
    },
    {
     "name": "stdout",
     "output_type": "stream",
     "text": [
      "\n",
      "Overall Acc: 0.893431\n",
      "Mean Acc: 0.694556\n",
      "FreqW Acc: 0.819750\n",
      "Mean IoU: 0.588417\n",
      "\n",
      "Epoch 43, Itrs 7710/30000, Loss=0.249680\n",
      "Epoch 43, Itrs 7720/30000, Loss=0.331494\n",
      "Epoch 43, Itrs 7730/30000, Loss=0.209312\n",
      "Epoch 43, Itrs 7740/30000, Loss=0.328231\n",
      "Epoch 43, Itrs 7750/30000, Loss=0.383374\n",
      "Epoch 43, Itrs 7760/30000, Loss=0.391706\n",
      "Epoch 43, Itrs 7770/30000, Loss=0.320042\n",
      "Epoch 43, Itrs 7780/30000, Loss=0.409427\n",
      "Epoch 43, Itrs 7790/30000, Loss=0.318400\n",
      "Epoch 43, Itrs 7800/30000, Loss=0.266183\n",
      "Model saved as checkpoints/latest_deeplabv3plus_mobilenet_voc_os16.pth\n",
      "validation...\n"
     ]
    },
    {
     "name": "stderr",
     "output_type": "stream",
     "text": [
      "1449it [01:02, 23.25it/s]\n"
     ]
    },
    {
     "name": "stdout",
     "output_type": "stream",
     "text": [
      "\n",
      "Overall Acc: 0.893023\n",
      "Mean Acc: 0.701386\n",
      "FreqW Acc: 0.818747\n",
      "Mean IoU: 0.584118\n",
      "\n",
      "Epoch 43, Itrs 7810/30000, Loss=0.236536\n",
      "Epoch 43, Itrs 7820/30000, Loss=0.300904\n",
      "Epoch 43, Itrs 7830/30000, Loss=0.255063\n",
      "Epoch 43, Itrs 7840/30000, Loss=0.258937\n",
      "Epoch 43, Itrs 7850/30000, Loss=0.252925\n",
      "Epoch 43, Itrs 7860/30000, Loss=0.270438\n"
     ]
    },
    {
     "name": "stderr",
     "output_type": "stream",
     "text": [
      "/home/irfan/Desktop/Code/Linux-IO/python_38/lib/python3.8/site-packages/torchvision/transforms/functional.py:417: UserWarning: Argument 'interpolation' of type int is deprecated since 0.13 and will be removed in 0.15. Please use InterpolationMode enum.\n",
      "  warnings.warn(\n",
      "/home/irfan/Desktop/Code/Linux-IO/python_38/lib/python3.8/site-packages/torchvision/transforms/functional.py:417: UserWarning: Argument 'interpolation' of type int is deprecated since 0.13 and will be removed in 0.15. Please use InterpolationMode enum.\n",
      "  warnings.warn(\n"
     ]
    },
    {
     "name": "stdout",
     "output_type": "stream",
     "text": [
      "Epoch 44, Itrs 7870/30000, Loss=0.323272\n",
      "Epoch 44, Itrs 7880/30000, Loss=0.416567\n",
      "Epoch 44, Itrs 7890/30000, Loss=0.335414\n",
      "Epoch 44, Itrs 7900/30000, Loss=0.281440\n",
      "Model saved as checkpoints/latest_deeplabv3plus_mobilenet_voc_os16.pth\n",
      "validation...\n"
     ]
    },
    {
     "name": "stderr",
     "output_type": "stream",
     "text": [
      "1449it [01:04, 22.41it/s]\n"
     ]
    },
    {
     "name": "stdout",
     "output_type": "stream",
     "text": [
      "\n",
      "Overall Acc: 0.887003\n",
      "Mean Acc: 0.676239\n",
      "FreqW Acc: 0.808445\n",
      "Mean IoU: 0.558666\n",
      "\n",
      "Epoch 44, Itrs 7910/30000, Loss=0.320398\n",
      "Epoch 44, Itrs 7920/30000, Loss=0.314254\n",
      "Epoch 44, Itrs 7930/30000, Loss=0.236875\n",
      "Epoch 44, Itrs 7940/30000, Loss=0.367851\n",
      "Epoch 44, Itrs 7950/30000, Loss=0.305678\n",
      "Epoch 44, Itrs 7960/30000, Loss=0.377500\n",
      "Epoch 44, Itrs 7970/30000, Loss=0.292003\n",
      "Epoch 44, Itrs 7980/30000, Loss=0.307559\n",
      "Epoch 44, Itrs 7990/30000, Loss=0.305556\n",
      "Epoch 44, Itrs 8000/30000, Loss=0.312814\n",
      "Model saved as checkpoints/latest_deeplabv3plus_mobilenet_voc_os16.pth\n",
      "validation...\n"
     ]
    },
    {
     "name": "stderr",
     "output_type": "stream",
     "text": [
      "1449it [01:04, 22.56it/s]\n"
     ]
    },
    {
     "name": "stdout",
     "output_type": "stream",
     "text": [
      "\n",
      "Overall Acc: 0.896080\n",
      "Mean Acc: 0.684981\n",
      "FreqW Acc: 0.818541\n",
      "Mean IoU: 0.584846\n",
      "\n",
      "Epoch 44, Itrs 8010/30000, Loss=0.214023\n",
      "Epoch 44, Itrs 8020/30000, Loss=0.323968\n",
      "Epoch 44, Itrs 8030/30000, Loss=0.323112\n",
      "Epoch 44, Itrs 8040/30000, Loss=0.287178\n",
      "Epoch 44, Itrs 8050/30000, Loss=0.268332\n"
     ]
    },
    {
     "name": "stderr",
     "output_type": "stream",
     "text": [
      "/home/irfan/Desktop/Code/Linux-IO/python_38/lib/python3.8/site-packages/torchvision/transforms/functional.py:417: UserWarning: Argument 'interpolation' of type int is deprecated since 0.13 and will be removed in 0.15. Please use InterpolationMode enum.\n",
      "  warnings.warn(\n",
      "/home/irfan/Desktop/Code/Linux-IO/python_38/lib/python3.8/site-packages/torchvision/transforms/functional.py:417: UserWarning: Argument 'interpolation' of type int is deprecated since 0.13 and will be removed in 0.15. Please use InterpolationMode enum.\n",
      "  warnings.warn(\n"
     ]
    },
    {
     "name": "stdout",
     "output_type": "stream",
     "text": [
      "Epoch 45, Itrs 8060/30000, Loss=0.300609\n",
      "Epoch 45, Itrs 8070/30000, Loss=0.234235\n",
      "Epoch 45, Itrs 8080/30000, Loss=0.241087\n",
      "Epoch 45, Itrs 8090/30000, Loss=0.231438\n",
      "Epoch 45, Itrs 8100/30000, Loss=0.258620\n",
      "Model saved as checkpoints/latest_deeplabv3plus_mobilenet_voc_os16.pth\n",
      "validation...\n"
     ]
    },
    {
     "name": "stderr",
     "output_type": "stream",
     "text": [
      "1449it [01:01, 23.54it/s]\n"
     ]
    },
    {
     "name": "stdout",
     "output_type": "stream",
     "text": [
      "\n",
      "Overall Acc: 0.897869\n",
      "Mean Acc: 0.710664\n",
      "FreqW Acc: 0.824082\n",
      "Mean IoU: 0.598296\n",
      "\n",
      "Epoch 45, Itrs 8110/30000, Loss=0.276022\n",
      "Epoch 45, Itrs 8120/30000, Loss=0.237081\n",
      "Epoch 45, Itrs 8130/30000, Loss=0.348907\n",
      "Epoch 45, Itrs 8140/30000, Loss=0.287442\n",
      "Epoch 45, Itrs 8150/30000, Loss=0.324077\n",
      "Epoch 45, Itrs 8160/30000, Loss=0.225919\n",
      "Epoch 45, Itrs 8170/30000, Loss=0.260206\n",
      "Epoch 45, Itrs 8180/30000, Loss=0.353196\n",
      "Epoch 45, Itrs 8190/30000, Loss=0.290537\n",
      "Epoch 45, Itrs 8200/30000, Loss=0.265122\n",
      "Model saved as checkpoints/latest_deeplabv3plus_mobilenet_voc_os16.pth\n",
      "validation...\n"
     ]
    },
    {
     "name": "stderr",
     "output_type": "stream",
     "text": [
      "1449it [01:03, 22.98it/s]\n"
     ]
    },
    {
     "name": "stdout",
     "output_type": "stream",
     "text": [
      "\n",
      "Overall Acc: 0.892369\n",
      "Mean Acc: 0.723459\n",
      "FreqW Acc: 0.817972\n",
      "Mean IoU: 0.586602\n",
      "\n",
      "Epoch 45, Itrs 8210/30000, Loss=0.313308\n",
      "Epoch 45, Itrs 8220/30000, Loss=0.270154\n",
      "Epoch 45, Itrs 8230/30000, Loss=0.268458\n"
     ]
    },
    {
     "name": "stderr",
     "output_type": "stream",
     "text": [
      "/home/irfan/Desktop/Code/Linux-IO/python_38/lib/python3.8/site-packages/torchvision/transforms/functional.py:417: UserWarning: Argument 'interpolation' of type int is deprecated since 0.13 and will be removed in 0.15. Please use InterpolationMode enum.\n",
      "  warnings.warn(\n",
      "/home/irfan/Desktop/Code/Linux-IO/python_38/lib/python3.8/site-packages/torchvision/transforms/functional.py:417: UserWarning: Argument 'interpolation' of type int is deprecated since 0.13 and will be removed in 0.15. Please use InterpolationMode enum.\n",
      "  warnings.warn(\n"
     ]
    },
    {
     "name": "stdout",
     "output_type": "stream",
     "text": [
      "Epoch 46, Itrs 8240/30000, Loss=0.309867\n",
      "Epoch 46, Itrs 8250/30000, Loss=0.376480\n",
      "Epoch 46, Itrs 8260/30000, Loss=0.373836\n",
      "Epoch 46, Itrs 8270/30000, Loss=0.271471\n",
      "Epoch 46, Itrs 8280/30000, Loss=0.288463\n",
      "Epoch 46, Itrs 8290/30000, Loss=0.285552\n",
      "Epoch 46, Itrs 8300/30000, Loss=0.349485\n",
      "Model saved as checkpoints/latest_deeplabv3plus_mobilenet_voc_os16.pth\n",
      "validation...\n"
     ]
    },
    {
     "name": "stderr",
     "output_type": "stream",
     "text": [
      "1449it [01:04, 22.58it/s]\n"
     ]
    },
    {
     "name": "stdout",
     "output_type": "stream",
     "text": [
      "\n",
      "Overall Acc: 0.892907\n",
      "Mean Acc: 0.699084\n",
      "FreqW Acc: 0.816798\n",
      "Mean IoU: 0.585049\n",
      "\n",
      "Epoch 46, Itrs 8310/30000, Loss=0.295318\n",
      "Epoch 46, Itrs 8320/30000, Loss=0.278462\n",
      "Epoch 46, Itrs 8330/30000, Loss=0.366268\n",
      "Epoch 46, Itrs 8340/30000, Loss=0.229517\n",
      "Epoch 46, Itrs 8350/30000, Loss=0.289474\n",
      "Epoch 46, Itrs 8360/30000, Loss=0.225248\n",
      "Epoch 46, Itrs 8370/30000, Loss=0.269076\n",
      "Epoch 46, Itrs 8380/30000, Loss=0.230434\n",
      "Epoch 46, Itrs 8390/30000, Loss=0.272542\n",
      "Epoch 46, Itrs 8400/30000, Loss=0.215972\n",
      "Model saved as checkpoints/latest_deeplabv3plus_mobilenet_voc_os16.pth\n",
      "validation...\n"
     ]
    },
    {
     "name": "stderr",
     "output_type": "stream",
     "text": [
      "1449it [01:01, 23.51it/s]\n"
     ]
    },
    {
     "name": "stdout",
     "output_type": "stream",
     "text": [
      "\n",
      "Overall Acc: 0.897587\n",
      "Mean Acc: 0.714119\n",
      "FreqW Acc: 0.824613\n",
      "Mean IoU: 0.597429\n",
      "\n",
      "Epoch 46, Itrs 8410/30000, Loss=0.289422\n"
     ]
    },
    {
     "name": "stderr",
     "output_type": "stream",
     "text": [
      "/home/irfan/Desktop/Code/Linux-IO/python_38/lib/python3.8/site-packages/torchvision/transforms/functional.py:417: UserWarning: Argument 'interpolation' of type int is deprecated since 0.13 and will be removed in 0.15. Please use InterpolationMode enum.\n",
      "  warnings.warn(\n",
      "/home/irfan/Desktop/Code/Linux-IO/python_38/lib/python3.8/site-packages/torchvision/transforms/functional.py:417: UserWarning: Argument 'interpolation' of type int is deprecated since 0.13 and will be removed in 0.15. Please use InterpolationMode enum.\n",
      "  warnings.warn(\n"
     ]
    },
    {
     "name": "stdout",
     "output_type": "stream",
     "text": [
      "Epoch 47, Itrs 8420/30000, Loss=0.315395\n",
      "Epoch 47, Itrs 8430/30000, Loss=0.326476\n",
      "Epoch 47, Itrs 8440/30000, Loss=0.277935\n",
      "Epoch 47, Itrs 8450/30000, Loss=0.426642\n",
      "Epoch 47, Itrs 8460/30000, Loss=0.284184\n",
      "Epoch 47, Itrs 8470/30000, Loss=0.296392\n",
      "Epoch 47, Itrs 8480/30000, Loss=0.289003\n",
      "Epoch 47, Itrs 8490/30000, Loss=0.235598\n",
      "Epoch 47, Itrs 8500/30000, Loss=0.268353\n",
      "Model saved as checkpoints/latest_deeplabv3plus_mobilenet_voc_os16.pth\n",
      "validation...\n"
     ]
    },
    {
     "name": "stderr",
     "output_type": "stream",
     "text": [
      "1449it [00:58, 24.83it/s]\n"
     ]
    },
    {
     "name": "stdout",
     "output_type": "stream",
     "text": [
      "\n",
      "Overall Acc: 0.893263\n",
      "Mean Acc: 0.677611\n",
      "FreqW Acc: 0.814973\n",
      "Mean IoU: 0.576510\n",
      "\n",
      "Epoch 47, Itrs 8510/30000, Loss=0.217786\n",
      "Epoch 47, Itrs 8520/30000, Loss=0.250371\n",
      "Epoch 47, Itrs 8530/30000, Loss=0.344347\n",
      "Epoch 47, Itrs 8540/30000, Loss=0.247474\n",
      "Epoch 47, Itrs 8550/30000, Loss=0.265955\n",
      "Epoch 47, Itrs 8560/30000, Loss=0.251262\n",
      "Epoch 47, Itrs 8570/30000, Loss=0.310951\n",
      "Epoch 47, Itrs 8580/30000, Loss=0.316467\n",
      "Epoch 47, Itrs 8590/30000, Loss=0.325932\n",
      "Epoch 47, Itrs 8600/30000, Loss=0.272271\n",
      "Model saved as checkpoints/latest_deeplabv3plus_mobilenet_voc_os16.pth\n",
      "validation...\n"
     ]
    },
    {
     "name": "stderr",
     "output_type": "stream",
     "text": [
      "1449it [00:59, 24.21it/s]\n"
     ]
    },
    {
     "name": "stdout",
     "output_type": "stream",
     "text": [
      "\n",
      "Overall Acc: 0.890657\n",
      "Mean Acc: 0.712290\n",
      "FreqW Acc: 0.817881\n",
      "Mean IoU: 0.586390\n",
      "\n"
     ]
    },
    {
     "name": "stderr",
     "output_type": "stream",
     "text": [
      "/home/irfan/Desktop/Code/Linux-IO/python_38/lib/python3.8/site-packages/torchvision/transforms/functional.py:417: UserWarning: Argument 'interpolation' of type int is deprecated since 0.13 and will be removed in 0.15. Please use InterpolationMode enum.\n",
      "  warnings.warn(\n",
      "/home/irfan/Desktop/Code/Linux-IO/python_38/lib/python3.8/site-packages/torchvision/transforms/functional.py:417: UserWarning: Argument 'interpolation' of type int is deprecated since 0.13 and will be removed in 0.15. Please use InterpolationMode enum.\n",
      "  warnings.warn(\n"
     ]
    },
    {
     "name": "stdout",
     "output_type": "stream",
     "text": [
      "Epoch 48, Itrs 8610/30000, Loss=0.290111\n",
      "Epoch 48, Itrs 8620/30000, Loss=0.209100\n",
      "Epoch 48, Itrs 8630/30000, Loss=0.237570\n",
      "Epoch 48, Itrs 8640/30000, Loss=0.238093\n",
      "Epoch 48, Itrs 8650/30000, Loss=0.397803\n",
      "Epoch 48, Itrs 8660/30000, Loss=0.267599\n",
      "Epoch 48, Itrs 8670/30000, Loss=0.233042\n",
      "Epoch 48, Itrs 8680/30000, Loss=0.333196\n",
      "Epoch 48, Itrs 8690/30000, Loss=0.328346\n",
      "Epoch 48, Itrs 8700/30000, Loss=0.287665\n",
      "Model saved as checkpoints/latest_deeplabv3plus_mobilenet_voc_os16.pth\n",
      "validation...\n"
     ]
    },
    {
     "name": "stderr",
     "output_type": "stream",
     "text": [
      "1449it [01:03, 22.91it/s]\n"
     ]
    },
    {
     "name": "stdout",
     "output_type": "stream",
     "text": [
      "\n",
      "Overall Acc: 0.891536\n",
      "Mean Acc: 0.708334\n",
      "FreqW Acc: 0.816624\n",
      "Mean IoU: 0.582621\n",
      "\n",
      "Epoch 48, Itrs 8710/30000, Loss=0.271084\n",
      "Epoch 48, Itrs 8720/30000, Loss=0.318717\n",
      "Epoch 48, Itrs 8730/30000, Loss=0.372088\n",
      "Epoch 48, Itrs 8740/30000, Loss=0.277687\n",
      "Epoch 48, Itrs 8750/30000, Loss=0.378701\n",
      "Epoch 48, Itrs 8760/30000, Loss=0.320326\n",
      "Epoch 48, Itrs 8770/30000, Loss=0.273299\n",
      "Epoch 48, Itrs 8780/30000, Loss=0.258478\n"
     ]
    },
    {
     "name": "stderr",
     "output_type": "stream",
     "text": [
      "/home/irfan/Desktop/Code/Linux-IO/python_38/lib/python3.8/site-packages/torchvision/transforms/functional.py:417: UserWarning: Argument 'interpolation' of type int is deprecated since 0.13 and will be removed in 0.15. Please use InterpolationMode enum.\n",
      "  warnings.warn(\n",
      "/home/irfan/Desktop/Code/Linux-IO/python_38/lib/python3.8/site-packages/torchvision/transforms/functional.py:417: UserWarning: Argument 'interpolation' of type int is deprecated since 0.13 and will be removed in 0.15. Please use InterpolationMode enum.\n",
      "  warnings.warn(\n"
     ]
    },
    {
     "name": "stdout",
     "output_type": "stream",
     "text": [
      "Epoch 49, Itrs 8790/30000, Loss=0.272475\n",
      "Epoch 49, Itrs 8800/30000, Loss=0.251727\n",
      "Model saved as checkpoints/latest_deeplabv3plus_mobilenet_voc_os16.pth\n",
      "validation...\n"
     ]
    },
    {
     "name": "stderr",
     "output_type": "stream",
     "text": [
      "1449it [01:04, 22.57it/s]\n"
     ]
    },
    {
     "name": "stdout",
     "output_type": "stream",
     "text": [
      "\n",
      "Overall Acc: 0.891543\n",
      "Mean Acc: 0.710106\n",
      "FreqW Acc: 0.816532\n",
      "Mean IoU: 0.586027\n",
      "\n",
      "Epoch 49, Itrs 8810/30000, Loss=0.230693\n",
      "Epoch 49, Itrs 8820/30000, Loss=0.251610\n",
      "Epoch 49, Itrs 8830/30000, Loss=0.351742\n",
      "Epoch 49, Itrs 8840/30000, Loss=0.321650\n",
      "Epoch 49, Itrs 8850/30000, Loss=0.279628\n",
      "Epoch 49, Itrs 8860/30000, Loss=0.399253\n",
      "Epoch 49, Itrs 8870/30000, Loss=0.313417\n",
      "Epoch 49, Itrs 8880/30000, Loss=0.219727\n",
      "Epoch 49, Itrs 8890/30000, Loss=0.241681\n",
      "Epoch 49, Itrs 8900/30000, Loss=0.368304\n",
      "Model saved as checkpoints/latest_deeplabv3plus_mobilenet_voc_os16.pth\n",
      "validation...\n"
     ]
    },
    {
     "name": "stderr",
     "output_type": "stream",
     "text": [
      "1449it [01:02, 23.33it/s]\n"
     ]
    },
    {
     "name": "stdout",
     "output_type": "stream",
     "text": [
      "\n",
      "Overall Acc: 0.892215\n",
      "Mean Acc: 0.676044\n",
      "FreqW Acc: 0.813939\n",
      "Mean IoU: 0.567100\n",
      "\n",
      "Epoch 49, Itrs 8910/30000, Loss=0.318293\n",
      "Epoch 49, Itrs 8920/30000, Loss=0.292495\n",
      "Epoch 49, Itrs 8930/30000, Loss=0.235840\n",
      "Epoch 49, Itrs 8940/30000, Loss=0.241599\n",
      "Epoch 49, Itrs 8950/30000, Loss=0.275093\n",
      "Epoch 49, Itrs 8960/30000, Loss=0.306697\n"
     ]
    },
    {
     "name": "stderr",
     "output_type": "stream",
     "text": [
      "/home/irfan/Desktop/Code/Linux-IO/python_38/lib/python3.8/site-packages/torchvision/transforms/functional.py:417: UserWarning: Argument 'interpolation' of type int is deprecated since 0.13 and will be removed in 0.15. Please use InterpolationMode enum.\n",
      "  warnings.warn(\n",
      "/home/irfan/Desktop/Code/Linux-IO/python_38/lib/python3.8/site-packages/torchvision/transforms/functional.py:417: UserWarning: Argument 'interpolation' of type int is deprecated since 0.13 and will be removed in 0.15. Please use InterpolationMode enum.\n",
      "  warnings.warn(\n"
     ]
    },
    {
     "name": "stdout",
     "output_type": "stream",
     "text": [
      "Epoch 50, Itrs 8970/30000, Loss=0.337301\n",
      "Epoch 50, Itrs 8980/30000, Loss=0.240671\n",
      "Epoch 50, Itrs 8990/30000, Loss=0.208170\n",
      "Epoch 50, Itrs 9000/30000, Loss=0.381414\n",
      "Model saved as checkpoints/latest_deeplabv3plus_mobilenet_voc_os16.pth\n",
      "validation...\n"
     ]
    },
    {
     "name": "stderr",
     "output_type": "stream",
     "text": [
      "1449it [01:05, 22.12it/s]\n"
     ]
    },
    {
     "name": "stdout",
     "output_type": "stream",
     "text": [
      "\n",
      "Overall Acc: 0.889980\n",
      "Mean Acc: 0.697723\n",
      "FreqW Acc: 0.814430\n",
      "Mean IoU: 0.579633\n",
      "\n",
      "Epoch 50, Itrs 9010/30000, Loss=0.233595\n",
      "Epoch 50, Itrs 9020/30000, Loss=0.362390\n",
      "Epoch 50, Itrs 9030/30000, Loss=0.323575\n",
      "Epoch 50, Itrs 9040/30000, Loss=0.275573\n",
      "Epoch 50, Itrs 9050/30000, Loss=0.278068\n",
      "Epoch 50, Itrs 9060/30000, Loss=0.429536\n",
      "Epoch 50, Itrs 9070/30000, Loss=0.340088\n",
      "Epoch 50, Itrs 9080/30000, Loss=0.294817\n",
      "Epoch 50, Itrs 9090/30000, Loss=0.228594\n",
      "Epoch 50, Itrs 9100/30000, Loss=0.222509\n",
      "Model saved as checkpoints/latest_deeplabv3plus_mobilenet_voc_os16.pth\n",
      "validation...\n"
     ]
    },
    {
     "name": "stderr",
     "output_type": "stream",
     "text": [
      "1449it [01:02, 23.36it/s]\n"
     ]
    },
    {
     "name": "stdout",
     "output_type": "stream",
     "text": [
      "\n",
      "Overall Acc: 0.887021\n",
      "Mean Acc: 0.638212\n",
      "FreqW Acc: 0.801637\n",
      "Mean IoU: 0.549337\n",
      "\n",
      "Epoch 50, Itrs 9110/30000, Loss=0.310252\n",
      "Epoch 50, Itrs 9120/30000, Loss=0.340745\n",
      "Epoch 50, Itrs 9130/30000, Loss=0.225799\n",
      "Epoch 50, Itrs 9140/30000, Loss=0.257435\n",
      "Epoch 50, Itrs 9150/30000, Loss=0.270559\n"
     ]
    },
    {
     "name": "stderr",
     "output_type": "stream",
     "text": [
      "/home/irfan/Desktop/Code/Linux-IO/python_38/lib/python3.8/site-packages/torchvision/transforms/functional.py:417: UserWarning: Argument 'interpolation' of type int is deprecated since 0.13 and will be removed in 0.15. Please use InterpolationMode enum.\n",
      "  warnings.warn(\n",
      "/home/irfan/Desktop/Code/Linux-IO/python_38/lib/python3.8/site-packages/torchvision/transforms/functional.py:417: UserWarning: Argument 'interpolation' of type int is deprecated since 0.13 and will be removed in 0.15. Please use InterpolationMode enum.\n",
      "  warnings.warn(\n"
     ]
    },
    {
     "name": "stdout",
     "output_type": "stream",
     "text": [
      "Epoch 51, Itrs 9160/30000, Loss=0.235449\n",
      "Epoch 51, Itrs 9170/30000, Loss=0.328707\n",
      "Epoch 51, Itrs 9180/30000, Loss=0.275194\n",
      "Epoch 51, Itrs 9190/30000, Loss=0.207484\n",
      "Epoch 51, Itrs 9200/30000, Loss=0.226640\n",
      "Model saved as checkpoints/latest_deeplabv3plus_mobilenet_voc_os16.pth\n",
      "validation...\n"
     ]
    },
    {
     "name": "stderr",
     "output_type": "stream",
     "text": [
      "1449it [01:08, 21.17it/s]\n"
     ]
    },
    {
     "name": "stdout",
     "output_type": "stream",
     "text": [
      "\n",
      "Overall Acc: 0.895715\n",
      "Mean Acc: 0.661196\n",
      "FreqW Acc: 0.816096\n",
      "Mean IoU: 0.575336\n",
      "\n",
      "Epoch 51, Itrs 9210/30000, Loss=0.270371\n",
      "Epoch 51, Itrs 9220/30000, Loss=0.303149\n",
      "Epoch 51, Itrs 9230/30000, Loss=0.290370\n",
      "Epoch 51, Itrs 9240/30000, Loss=0.299676\n",
      "Epoch 51, Itrs 9250/30000, Loss=0.312055\n",
      "Epoch 51, Itrs 9260/30000, Loss=0.299700\n",
      "Epoch 51, Itrs 9270/30000, Loss=0.258333\n",
      "Epoch 51, Itrs 9280/30000, Loss=0.234270\n",
      "Epoch 51, Itrs 9290/30000, Loss=0.293668\n",
      "Epoch 51, Itrs 9300/30000, Loss=0.266742\n",
      "Model saved as checkpoints/latest_deeplabv3plus_mobilenet_voc_os16.pth\n",
      "validation...\n"
     ]
    },
    {
     "name": "stderr",
     "output_type": "stream",
     "text": [
      "1449it [00:58, 24.76it/s]\n"
     ]
    },
    {
     "name": "stdout",
     "output_type": "stream",
     "text": [
      "\n",
      "Overall Acc: 0.894632\n",
      "Mean Acc: 0.690329\n",
      "FreqW Acc: 0.818804\n",
      "Mean IoU: 0.579195\n",
      "\n",
      "Epoch 51, Itrs 9310/30000, Loss=0.319900\n",
      "Epoch 51, Itrs 9320/30000, Loss=0.233455\n",
      "Epoch 51, Itrs 9330/30000, Loss=0.274168\n"
     ]
    },
    {
     "name": "stderr",
     "output_type": "stream",
     "text": [
      "/home/irfan/Desktop/Code/Linux-IO/python_38/lib/python3.8/site-packages/torchvision/transforms/functional.py:417: UserWarning: Argument 'interpolation' of type int is deprecated since 0.13 and will be removed in 0.15. Please use InterpolationMode enum.\n",
      "  warnings.warn(\n",
      "/home/irfan/Desktop/Code/Linux-IO/python_38/lib/python3.8/site-packages/torchvision/transforms/functional.py:417: UserWarning: Argument 'interpolation' of type int is deprecated since 0.13 and will be removed in 0.15. Please use InterpolationMode enum.\n",
      "  warnings.warn(\n"
     ]
    },
    {
     "name": "stdout",
     "output_type": "stream",
     "text": [
      "Epoch 52, Itrs 9340/30000, Loss=0.245575\n",
      "Epoch 52, Itrs 9350/30000, Loss=0.311952\n",
      "Epoch 52, Itrs 9360/30000, Loss=0.221361\n",
      "Epoch 52, Itrs 9370/30000, Loss=0.318201\n",
      "Epoch 52, Itrs 9380/30000, Loss=0.249327\n",
      "Epoch 52, Itrs 9390/30000, Loss=0.312890\n",
      "Epoch 52, Itrs 9400/30000, Loss=0.441143\n",
      "Model saved as checkpoints/latest_deeplabv3plus_mobilenet_voc_os16.pth\n",
      "validation...\n"
     ]
    },
    {
     "name": "stderr",
     "output_type": "stream",
     "text": [
      "1449it [01:02, 23.29it/s]\n"
     ]
    },
    {
     "name": "stdout",
     "output_type": "stream",
     "text": [
      "\n",
      "Overall Acc: 0.887864\n",
      "Mean Acc: 0.694998\n",
      "FreqW Acc: 0.813040\n",
      "Mean IoU: 0.573369\n",
      "\n",
      "Epoch 52, Itrs 9410/30000, Loss=0.426995\n",
      "Epoch 52, Itrs 9420/30000, Loss=0.335417\n",
      "Epoch 52, Itrs 9430/30000, Loss=0.393438\n",
      "Epoch 52, Itrs 9440/30000, Loss=0.349780\n",
      "Epoch 52, Itrs 9450/30000, Loss=0.316490\n",
      "Epoch 52, Itrs 9460/30000, Loss=0.226650\n",
      "Epoch 52, Itrs 9470/30000, Loss=0.306496\n",
      "Epoch 52, Itrs 9480/30000, Loss=0.249605\n",
      "Epoch 52, Itrs 9490/30000, Loss=0.242553\n",
      "Epoch 52, Itrs 9500/30000, Loss=0.270007\n",
      "Model saved as checkpoints/latest_deeplabv3plus_mobilenet_voc_os16.pth\n",
      "validation...\n"
     ]
    },
    {
     "name": "stderr",
     "output_type": "stream",
     "text": [
      "1449it [01:01, 23.67it/s]\n"
     ]
    },
    {
     "name": "stdout",
     "output_type": "stream",
     "text": [
      "\n",
      "Overall Acc: 0.893630\n",
      "Mean Acc: 0.671614\n",
      "FreqW Acc: 0.816729\n",
      "Mean IoU: 0.573010\n",
      "\n",
      "Epoch 52, Itrs 9510/30000, Loss=0.213120\n"
     ]
    },
    {
     "name": "stderr",
     "output_type": "stream",
     "text": [
      "/home/irfan/Desktop/Code/Linux-IO/python_38/lib/python3.8/site-packages/torchvision/transforms/functional.py:417: UserWarning: Argument 'interpolation' of type int is deprecated since 0.13 and will be removed in 0.15. Please use InterpolationMode enum.\n",
      "  warnings.warn(\n",
      "/home/irfan/Desktop/Code/Linux-IO/python_38/lib/python3.8/site-packages/torchvision/transforms/functional.py:417: UserWarning: Argument 'interpolation' of type int is deprecated since 0.13 and will be removed in 0.15. Please use InterpolationMode enum.\n",
      "  warnings.warn(\n"
     ]
    },
    {
     "name": "stdout",
     "output_type": "stream",
     "text": [
      "Epoch 53, Itrs 9520/30000, Loss=0.249137\n",
      "Epoch 53, Itrs 9530/30000, Loss=0.220686\n",
      "Epoch 53, Itrs 9540/30000, Loss=0.234005\n",
      "Epoch 53, Itrs 9550/30000, Loss=0.229098\n",
      "Epoch 53, Itrs 9560/30000, Loss=0.307102\n",
      "Epoch 53, Itrs 9570/30000, Loss=0.264495\n",
      "Epoch 53, Itrs 9580/30000, Loss=0.229118\n",
      "Epoch 53, Itrs 9590/30000, Loss=0.210994\n",
      "Epoch 53, Itrs 9600/30000, Loss=0.230826\n",
      "Model saved as checkpoints/latest_deeplabv3plus_mobilenet_voc_os16.pth\n",
      "validation...\n"
     ]
    },
    {
     "name": "stderr",
     "output_type": "stream",
     "text": [
      "1449it [01:03, 22.75it/s]\n"
     ]
    },
    {
     "name": "stdout",
     "output_type": "stream",
     "text": [
      "\n",
      "Overall Acc: 0.898099\n",
      "Mean Acc: 0.712699\n",
      "FreqW Acc: 0.824737\n",
      "Mean IoU: 0.599754\n",
      "\n",
      "Model saved as checkpoints/best_deeplabv3plus_mobilenet_voc_os16.pth\n",
      "Epoch 53, Itrs 9610/30000, Loss=0.356536\n",
      "Epoch 53, Itrs 9620/30000, Loss=0.288742\n",
      "Epoch 53, Itrs 9630/30000, Loss=0.269537\n",
      "Epoch 53, Itrs 9640/30000, Loss=0.243080\n",
      "Epoch 53, Itrs 9650/30000, Loss=0.236032\n",
      "Epoch 53, Itrs 9660/30000, Loss=0.175652\n",
      "Epoch 53, Itrs 9670/30000, Loss=0.279039\n",
      "Epoch 53, Itrs 9680/30000, Loss=0.240622\n",
      "Epoch 53, Itrs 9690/30000, Loss=0.225571\n"
     ]
    },
    {
     "name": "stderr",
     "output_type": "stream",
     "text": [
      "/home/irfan/Desktop/Code/Linux-IO/python_38/lib/python3.8/site-packages/torchvision/transforms/functional.py:417: UserWarning: Argument 'interpolation' of type int is deprecated since 0.13 and will be removed in 0.15. Please use InterpolationMode enum.\n",
      "  warnings.warn(\n",
      "/home/irfan/Desktop/Code/Linux-IO/python_38/lib/python3.8/site-packages/torchvision/transforms/functional.py:417: UserWarning: Argument 'interpolation' of type int is deprecated since 0.13 and will be removed in 0.15. Please use InterpolationMode enum.\n",
      "  warnings.warn(\n"
     ]
    },
    {
     "name": "stdout",
     "output_type": "stream",
     "text": [
      "Epoch 54, Itrs 9700/30000, Loss=0.277582\n",
      "Model saved as checkpoints/latest_deeplabv3plus_mobilenet_voc_os16.pth\n",
      "validation...\n"
     ]
    },
    {
     "name": "stderr",
     "output_type": "stream",
     "text": [
      "1449it [00:58, 24.58it/s]\n"
     ]
    },
    {
     "name": "stdout",
     "output_type": "stream",
     "text": [
      "\n",
      "Overall Acc: 0.888994\n",
      "Mean Acc: 0.700761\n",
      "FreqW Acc: 0.815349\n",
      "Mean IoU: 0.584503\n",
      "\n",
      "Epoch 54, Itrs 9710/30000, Loss=0.267109\n",
      "Epoch 54, Itrs 9720/30000, Loss=0.250052\n",
      "Epoch 54, Itrs 9730/30000, Loss=0.248713\n",
      "Epoch 54, Itrs 9740/30000, Loss=0.313594\n",
      "Epoch 54, Itrs 9750/30000, Loss=0.197189\n",
      "Epoch 54, Itrs 9760/30000, Loss=0.210157\n",
      "Epoch 54, Itrs 9770/30000, Loss=0.221383\n",
      "Epoch 54, Itrs 9780/30000, Loss=0.287999\n",
      "Epoch 54, Itrs 9790/30000, Loss=0.280383\n",
      "Epoch 54, Itrs 9800/30000, Loss=0.303729\n",
      "Model saved as checkpoints/latest_deeplabv3plus_mobilenet_voc_os16.pth\n",
      "validation...\n"
     ]
    },
    {
     "name": "stderr",
     "output_type": "stream",
     "text": [
      "1449it [01:00, 23.96it/s]\n"
     ]
    },
    {
     "name": "stdout",
     "output_type": "stream",
     "text": [
      "\n",
      "Overall Acc: 0.897539\n",
      "Mean Acc: 0.685869\n",
      "FreqW Acc: 0.820297\n",
      "Mean IoU: 0.588906\n",
      "\n",
      "Epoch 54, Itrs 9810/30000, Loss=0.271639\n",
      "Epoch 54, Itrs 9820/30000, Loss=0.239442\n",
      "Epoch 54, Itrs 9830/30000, Loss=0.238586\n",
      "Epoch 54, Itrs 9840/30000, Loss=0.290927\n",
      "Epoch 54, Itrs 9850/30000, Loss=0.235044\n",
      "Epoch 54, Itrs 9860/30000, Loss=0.272799\n",
      "Epoch 54, Itrs 9870/30000, Loss=0.266159\n",
      "Epoch 54, Itrs 9880/30000, Loss=0.240478\n"
     ]
    },
    {
     "name": "stderr",
     "output_type": "stream",
     "text": [
      "/home/irfan/Desktop/Code/Linux-IO/python_38/lib/python3.8/site-packages/torchvision/transforms/functional.py:417: UserWarning: Argument 'interpolation' of type int is deprecated since 0.13 and will be removed in 0.15. Please use InterpolationMode enum.\n",
      "  warnings.warn(\n",
      "/home/irfan/Desktop/Code/Linux-IO/python_38/lib/python3.8/site-packages/torchvision/transforms/functional.py:417: UserWarning: Argument 'interpolation' of type int is deprecated since 0.13 and will be removed in 0.15. Please use InterpolationMode enum.\n",
      "  warnings.warn(\n"
     ]
    },
    {
     "name": "stdout",
     "output_type": "stream",
     "text": [
      "Epoch 55, Itrs 9890/30000, Loss=0.275540\n",
      "Epoch 55, Itrs 9900/30000, Loss=0.200858\n",
      "Model saved as checkpoints/latest_deeplabv3plus_mobilenet_voc_os16.pth\n",
      "validation...\n"
     ]
    },
    {
     "name": "stderr",
     "output_type": "stream",
     "text": [
      "1449it [01:02, 23.15it/s]\n"
     ]
    },
    {
     "name": "stdout",
     "output_type": "stream",
     "text": [
      "\n",
      "Overall Acc: 0.894447\n",
      "Mean Acc: 0.676050\n",
      "FreqW Acc: 0.816364\n",
      "Mean IoU: 0.580805\n",
      "\n",
      "Epoch 55, Itrs 9910/30000, Loss=0.240633\n",
      "Epoch 55, Itrs 9920/30000, Loss=0.259972\n",
      "Epoch 55, Itrs 9930/30000, Loss=0.253994\n",
      "Epoch 55, Itrs 9940/30000, Loss=0.355038\n",
      "Epoch 55, Itrs 9950/30000, Loss=0.243948\n",
      "Epoch 55, Itrs 9960/30000, Loss=0.201378\n",
      "Epoch 55, Itrs 9970/30000, Loss=0.242926\n",
      "Epoch 55, Itrs 9980/30000, Loss=0.224433\n",
      "Epoch 55, Itrs 9990/30000, Loss=0.260249\n",
      "Epoch 55, Itrs 10000/30000, Loss=0.364335\n",
      "Model saved as checkpoints/latest_deeplabv3plus_mobilenet_voc_os16.pth\n",
      "validation...\n"
     ]
    },
    {
     "name": "stderr",
     "output_type": "stream",
     "text": [
      "1449it [01:00, 23.83it/s]\n"
     ]
    },
    {
     "name": "stdout",
     "output_type": "stream",
     "text": [
      "\n",
      "Overall Acc: 0.894540\n",
      "Mean Acc: 0.695810\n",
      "FreqW Acc: 0.818813\n",
      "Mean IoU: 0.586571\n",
      "\n",
      "Epoch 55, Itrs 10010/30000, Loss=0.283118\n",
      "Epoch 55, Itrs 10020/30000, Loss=0.431446\n",
      "Epoch 55, Itrs 10030/30000, Loss=0.333812\n",
      "Epoch 55, Itrs 10040/30000, Loss=0.282832\n",
      "Epoch 55, Itrs 10050/30000, Loss=0.181995\n",
      "Epoch 55, Itrs 10060/30000, Loss=0.287511\n"
     ]
    },
    {
     "name": "stderr",
     "output_type": "stream",
     "text": [
      "/home/irfan/Desktop/Code/Linux-IO/python_38/lib/python3.8/site-packages/torchvision/transforms/functional.py:417: UserWarning: Argument 'interpolation' of type int is deprecated since 0.13 and will be removed in 0.15. Please use InterpolationMode enum.\n",
      "  warnings.warn(\n",
      "/home/irfan/Desktop/Code/Linux-IO/python_38/lib/python3.8/site-packages/torchvision/transforms/functional.py:417: UserWarning: Argument 'interpolation' of type int is deprecated since 0.13 and will be removed in 0.15. Please use InterpolationMode enum.\n",
      "  warnings.warn(\n"
     ]
    },
    {
     "name": "stdout",
     "output_type": "stream",
     "text": [
      "Epoch 56, Itrs 10070/30000, Loss=0.190071\n",
      "Epoch 56, Itrs 10080/30000, Loss=0.244453\n",
      "Epoch 56, Itrs 10090/30000, Loss=0.221072\n",
      "Epoch 56, Itrs 10100/30000, Loss=0.281043\n",
      "Model saved as checkpoints/latest_deeplabv3plus_mobilenet_voc_os16.pth\n",
      "validation...\n"
     ]
    },
    {
     "name": "stderr",
     "output_type": "stream",
     "text": [
      "1449it [00:59, 24.31it/s]\n"
     ]
    },
    {
     "name": "stdout",
     "output_type": "stream",
     "text": [
      "\n",
      "Overall Acc: 0.895249\n",
      "Mean Acc: 0.699817\n",
      "FreqW Acc: 0.820614\n",
      "Mean IoU: 0.584272\n",
      "\n",
      "Epoch 56, Itrs 10110/30000, Loss=0.298465\n",
      "Epoch 56, Itrs 10120/30000, Loss=0.281595\n",
      "Epoch 56, Itrs 10130/30000, Loss=0.205532\n",
      "Epoch 56, Itrs 10140/30000, Loss=0.318059\n",
      "Epoch 56, Itrs 10150/30000, Loss=0.218016\n",
      "Epoch 56, Itrs 10160/30000, Loss=0.229712\n",
      "Epoch 56, Itrs 10170/30000, Loss=0.262185\n",
      "Epoch 56, Itrs 10180/30000, Loss=0.266436\n",
      "Epoch 56, Itrs 10190/30000, Loss=0.300866\n",
      "Epoch 56, Itrs 10200/30000, Loss=0.232439\n",
      "Model saved as checkpoints/latest_deeplabv3plus_mobilenet_voc_os16.pth\n",
      "validation...\n"
     ]
    },
    {
     "name": "stderr",
     "output_type": "stream",
     "text": [
      "1449it [01:02, 23.31it/s]\n"
     ]
    },
    {
     "name": "stdout",
     "output_type": "stream",
     "text": [
      "\n",
      "Overall Acc: 0.896179\n",
      "Mean Acc: 0.680979\n",
      "FreqW Acc: 0.820906\n",
      "Mean IoU: 0.580478\n",
      "\n",
      "Epoch 56, Itrs 10210/30000, Loss=0.288077\n",
      "Epoch 56, Itrs 10220/30000, Loss=0.188298\n",
      "Epoch 56, Itrs 10230/30000, Loss=0.363450\n",
      "Epoch 56, Itrs 10240/30000, Loss=0.213442\n"
     ]
    },
    {
     "name": "stderr",
     "output_type": "stream",
     "text": [
      "/home/irfan/Desktop/Code/Linux-IO/python_38/lib/python3.8/site-packages/torchvision/transforms/functional.py:417: UserWarning: Argument 'interpolation' of type int is deprecated since 0.13 and will be removed in 0.15. Please use InterpolationMode enum.\n",
      "  warnings.warn(\n",
      "/home/irfan/Desktop/Code/Linux-IO/python_38/lib/python3.8/site-packages/torchvision/transforms/functional.py:417: UserWarning: Argument 'interpolation' of type int is deprecated since 0.13 and will be removed in 0.15. Please use InterpolationMode enum.\n",
      "  warnings.warn(\n"
     ]
    },
    {
     "name": "stdout",
     "output_type": "stream",
     "text": [
      "Epoch 57, Itrs 10250/30000, Loss=0.237324\n",
      "Epoch 57, Itrs 10260/30000, Loss=0.227960\n",
      "Epoch 57, Itrs 10270/30000, Loss=0.263435\n",
      "Epoch 57, Itrs 10280/30000, Loss=0.171319\n",
      "Epoch 57, Itrs 10290/30000, Loss=0.207913\n",
      "Epoch 57, Itrs 10300/30000, Loss=0.208331\n",
      "Model saved as checkpoints/latest_deeplabv3plus_mobilenet_voc_os16.pth\n",
      "validation...\n"
     ]
    },
    {
     "name": "stderr",
     "output_type": "stream",
     "text": [
      "1449it [01:00, 23.99it/s]\n"
     ]
    },
    {
     "name": "stdout",
     "output_type": "stream",
     "text": [
      "\n",
      "Overall Acc: 0.897439\n",
      "Mean Acc: 0.710538\n",
      "FreqW Acc: 0.824043\n",
      "Mean IoU: 0.597084\n",
      "\n",
      "Epoch 57, Itrs 10310/30000, Loss=0.174693\n",
      "Epoch 57, Itrs 10320/30000, Loss=0.234578\n",
      "Epoch 57, Itrs 10330/30000, Loss=0.282868\n",
      "Epoch 57, Itrs 10340/30000, Loss=0.298506\n",
      "Epoch 57, Itrs 10350/30000, Loss=0.289924\n",
      "Epoch 57, Itrs 10360/30000, Loss=0.278620\n",
      "Epoch 57, Itrs 10370/30000, Loss=0.227864\n",
      "Epoch 57, Itrs 10380/30000, Loss=0.292607\n",
      "Epoch 57, Itrs 10390/30000, Loss=0.289391\n",
      "Epoch 57, Itrs 10400/30000, Loss=0.261052\n",
      "Model saved as checkpoints/latest_deeplabv3plus_mobilenet_voc_os16.pth\n",
      "validation...\n"
     ]
    },
    {
     "name": "stderr",
     "output_type": "stream",
     "text": [
      "1449it [01:02, 23.07it/s]\n"
     ]
    },
    {
     "name": "stdout",
     "output_type": "stream",
     "text": [
      "\n",
      "Overall Acc: 0.892693\n",
      "Mean Acc: 0.712285\n",
      "FreqW Acc: 0.819158\n",
      "Mean IoU: 0.589479\n",
      "\n",
      "Epoch 57, Itrs 10410/30000, Loss=0.217729\n",
      "Epoch 57, Itrs 10420/30000, Loss=0.242462\n",
      "Epoch 57, Itrs 10430/30000, Loss=0.244910\n"
     ]
    },
    {
     "name": "stderr",
     "output_type": "stream",
     "text": [
      "/home/irfan/Desktop/Code/Linux-IO/python_38/lib/python3.8/site-packages/torchvision/transforms/functional.py:417: UserWarning: Argument 'interpolation' of type int is deprecated since 0.13 and will be removed in 0.15. Please use InterpolationMode enum.\n",
      "  warnings.warn(\n",
      "/home/irfan/Desktop/Code/Linux-IO/python_38/lib/python3.8/site-packages/torchvision/transforms/functional.py:417: UserWarning: Argument 'interpolation' of type int is deprecated since 0.13 and will be removed in 0.15. Please use InterpolationMode enum.\n",
      "  warnings.warn(\n"
     ]
    },
    {
     "name": "stdout",
     "output_type": "stream",
     "text": [
      "Epoch 58, Itrs 10440/30000, Loss=0.339570\n",
      "Epoch 58, Itrs 10450/30000, Loss=0.235358\n",
      "Epoch 58, Itrs 10460/30000, Loss=0.236623\n",
      "Epoch 58, Itrs 10470/30000, Loss=0.237956\n",
      "Epoch 58, Itrs 10480/30000, Loss=0.361028\n",
      "Epoch 58, Itrs 10490/30000, Loss=0.200472\n",
      "Epoch 58, Itrs 10500/30000, Loss=0.200326\n",
      "Model saved as checkpoints/latest_deeplabv3plus_mobilenet_voc_os16.pth\n",
      "validation...\n"
     ]
    },
    {
     "name": "stderr",
     "output_type": "stream",
     "text": [
      "1449it [00:58, 24.71it/s]\n"
     ]
    },
    {
     "name": "stdout",
     "output_type": "stream",
     "text": [
      "\n",
      "Overall Acc: 0.894820\n",
      "Mean Acc: 0.706815\n",
      "FreqW Acc: 0.819983\n",
      "Mean IoU: 0.590904\n",
      "\n",
      "Epoch 58, Itrs 10510/30000, Loss=0.361792\n",
      "Epoch 58, Itrs 10520/30000, Loss=0.263346\n",
      "Epoch 58, Itrs 10530/30000, Loss=0.265259\n",
      "Epoch 58, Itrs 10540/30000, Loss=0.248213\n",
      "Epoch 58, Itrs 10550/30000, Loss=0.234366\n",
      "Epoch 58, Itrs 10560/30000, Loss=0.264528\n",
      "Epoch 58, Itrs 10570/30000, Loss=0.245519\n",
      "Epoch 58, Itrs 10580/30000, Loss=0.253451\n",
      "Epoch 58, Itrs 10590/30000, Loss=0.228431\n",
      "Epoch 58, Itrs 10600/30000, Loss=0.230701\n",
      "Model saved as checkpoints/latest_deeplabv3plus_mobilenet_voc_os16.pth\n",
      "validation...\n"
     ]
    },
    {
     "name": "stderr",
     "output_type": "stream",
     "text": [
      "1449it [00:58, 24.61it/s]\n"
     ]
    },
    {
     "name": "stdout",
     "output_type": "stream",
     "text": [
      "\n",
      "Overall Acc: 0.899817\n",
      "Mean Acc: 0.685098\n",
      "FreqW Acc: 0.823528\n",
      "Mean IoU: 0.592549\n",
      "\n",
      "Epoch 58, Itrs 10610/30000, Loss=0.250535\n"
     ]
    },
    {
     "name": "stderr",
     "output_type": "stream",
     "text": [
      "/home/irfan/Desktop/Code/Linux-IO/python_38/lib/python3.8/site-packages/torchvision/transforms/functional.py:417: UserWarning: Argument 'interpolation' of type int is deprecated since 0.13 and will be removed in 0.15. Please use InterpolationMode enum.\n",
      "  warnings.warn(\n",
      "/home/irfan/Desktop/Code/Linux-IO/python_38/lib/python3.8/site-packages/torchvision/transforms/functional.py:417: UserWarning: Argument 'interpolation' of type int is deprecated since 0.13 and will be removed in 0.15. Please use InterpolationMode enum.\n",
      "  warnings.warn(\n"
     ]
    },
    {
     "name": "stdout",
     "output_type": "stream",
     "text": [
      "Epoch 59, Itrs 10620/30000, Loss=0.226590\n",
      "Epoch 59, Itrs 10630/30000, Loss=0.198849\n",
      "Epoch 59, Itrs 10640/30000, Loss=0.299197\n",
      "Epoch 59, Itrs 10650/30000, Loss=0.225478\n",
      "Epoch 59, Itrs 10660/30000, Loss=0.263792\n",
      "Epoch 59, Itrs 10670/30000, Loss=0.303256\n",
      "Epoch 59, Itrs 10680/30000, Loss=0.245122\n",
      "Epoch 59, Itrs 10690/30000, Loss=0.330721\n",
      "Epoch 59, Itrs 10700/30000, Loss=0.262822\n",
      "Model saved as checkpoints/latest_deeplabv3plus_mobilenet_voc_os16.pth\n",
      "validation...\n"
     ]
    },
    {
     "name": "stderr",
     "output_type": "stream",
     "text": [
      "1449it [00:59, 24.19it/s]\n"
     ]
    },
    {
     "name": "stdout",
     "output_type": "stream",
     "text": [
      "\n",
      "Overall Acc: 0.893754\n",
      "Mean Acc: 0.692658\n",
      "FreqW Acc: 0.817807\n",
      "Mean IoU: 0.579714\n",
      "\n",
      "Epoch 59, Itrs 10710/30000, Loss=0.157638\n",
      "Epoch 59, Itrs 10720/30000, Loss=0.181642\n",
      "Epoch 59, Itrs 10730/30000, Loss=0.196792\n",
      "Epoch 59, Itrs 10740/30000, Loss=0.199169\n",
      "Epoch 59, Itrs 10750/30000, Loss=0.307568\n",
      "Epoch 59, Itrs 10760/30000, Loss=0.296289\n",
      "Epoch 59, Itrs 10770/30000, Loss=0.242598\n",
      "Epoch 59, Itrs 10780/30000, Loss=0.353294\n",
      "Epoch 59, Itrs 10790/30000, Loss=0.355149\n"
     ]
    },
    {
     "name": "stderr",
     "output_type": "stream",
     "text": [
      "/home/irfan/Desktop/Code/Linux-IO/python_38/lib/python3.8/site-packages/torchvision/transforms/functional.py:417: UserWarning: Argument 'interpolation' of type int is deprecated since 0.13 and will be removed in 0.15. Please use InterpolationMode enum.\n",
      "  warnings.warn(\n",
      "/home/irfan/Desktop/Code/Linux-IO/python_38/lib/python3.8/site-packages/torchvision/transforms/functional.py:417: UserWarning: Argument 'interpolation' of type int is deprecated since 0.13 and will be removed in 0.15. Please use InterpolationMode enum.\n",
      "  warnings.warn(\n"
     ]
    },
    {
     "name": "stdout",
     "output_type": "stream",
     "text": [
      "Epoch 60, Itrs 10800/30000, Loss=0.212225\n",
      "Model saved as checkpoints/latest_deeplabv3plus_mobilenet_voc_os16.pth\n",
      "validation...\n"
     ]
    },
    {
     "name": "stderr",
     "output_type": "stream",
     "text": [
      "1449it [01:02, 23.34it/s]\n"
     ]
    },
    {
     "name": "stdout",
     "output_type": "stream",
     "text": [
      "\n",
      "Overall Acc: 0.890190\n",
      "Mean Acc: 0.695260\n",
      "FreqW Acc: 0.814131\n",
      "Mean IoU: 0.579068\n",
      "\n",
      "Epoch 60, Itrs 10810/30000, Loss=0.282409\n",
      "Epoch 60, Itrs 10820/30000, Loss=0.328962\n",
      "Epoch 60, Itrs 10830/30000, Loss=0.204832\n",
      "Epoch 60, Itrs 10840/30000, Loss=0.190524\n",
      "Epoch 60, Itrs 10850/30000, Loss=0.251603\n",
      "Epoch 60, Itrs 10860/30000, Loss=0.288072\n",
      "Epoch 60, Itrs 10870/30000, Loss=0.283948\n",
      "Epoch 60, Itrs 10880/30000, Loss=0.275555\n",
      "Epoch 60, Itrs 10890/30000, Loss=0.210745\n",
      "Epoch 60, Itrs 10900/30000, Loss=0.326166\n",
      "Model saved as checkpoints/latest_deeplabv3plus_mobilenet_voc_os16.pth\n",
      "validation...\n"
     ]
    },
    {
     "name": "stderr",
     "output_type": "stream",
     "text": [
      "1449it [00:57, 25.35it/s]\n"
     ]
    },
    {
     "name": "stdout",
     "output_type": "stream",
     "text": [
      "\n",
      "Overall Acc: 0.894436\n",
      "Mean Acc: 0.691239\n",
      "FreqW Acc: 0.818800\n",
      "Mean IoU: 0.585936\n",
      "\n",
      "Epoch 60, Itrs 10910/30000, Loss=0.366529\n",
      "Epoch 60, Itrs 10920/30000, Loss=0.228176\n",
      "Epoch 60, Itrs 10930/30000, Loss=0.241296\n",
      "Epoch 60, Itrs 10940/30000, Loss=0.276615\n",
      "Epoch 60, Itrs 10950/30000, Loss=0.268288\n",
      "Epoch 60, Itrs 10960/30000, Loss=0.381227\n",
      "Epoch 60, Itrs 10970/30000, Loss=0.300893\n",
      "Epoch 60, Itrs 10980/30000, Loss=0.267592\n"
     ]
    },
    {
     "name": "stderr",
     "output_type": "stream",
     "text": [
      "/home/irfan/Desktop/Code/Linux-IO/python_38/lib/python3.8/site-packages/torchvision/transforms/functional.py:417: UserWarning: Argument 'interpolation' of type int is deprecated since 0.13 and will be removed in 0.15. Please use InterpolationMode enum.\n",
      "  warnings.warn(\n",
      "/home/irfan/Desktop/Code/Linux-IO/python_38/lib/python3.8/site-packages/torchvision/transforms/functional.py:417: UserWarning: Argument 'interpolation' of type int is deprecated since 0.13 and will be removed in 0.15. Please use InterpolationMode enum.\n",
      "  warnings.warn(\n"
     ]
    },
    {
     "name": "stdout",
     "output_type": "stream",
     "text": [
      "Epoch 61, Itrs 10990/30000, Loss=0.188432\n",
      "Epoch 61, Itrs 11000/30000, Loss=0.236419\n",
      "Model saved as checkpoints/latest_deeplabv3plus_mobilenet_voc_os16.pth\n",
      "validation...\n"
     ]
    },
    {
     "name": "stderr",
     "output_type": "stream",
     "text": [
      "1449it [00:59, 24.47it/s]\n"
     ]
    },
    {
     "name": "stdout",
     "output_type": "stream",
     "text": [
      "\n",
      "Overall Acc: 0.898537\n",
      "Mean Acc: 0.675349\n",
      "FreqW Acc: 0.821281\n",
      "Mean IoU: 0.584173\n",
      "\n",
      "Epoch 61, Itrs 11010/30000, Loss=0.245186\n",
      "Epoch 61, Itrs 11020/30000, Loss=0.330757\n",
      "Epoch 61, Itrs 11030/30000, Loss=0.198651\n",
      "Epoch 61, Itrs 11040/30000, Loss=0.244987\n",
      "Epoch 61, Itrs 11050/30000, Loss=0.226499\n",
      "Epoch 61, Itrs 11060/30000, Loss=0.228533\n",
      "Epoch 61, Itrs 11070/30000, Loss=0.232475\n",
      "Epoch 61, Itrs 11080/30000, Loss=0.269851\n",
      "Epoch 61, Itrs 11090/30000, Loss=0.297688\n",
      "Epoch 61, Itrs 11100/30000, Loss=0.251154\n",
      "Model saved as checkpoints/latest_deeplabv3plus_mobilenet_voc_os16.pth\n",
      "validation...\n"
     ]
    },
    {
     "name": "stderr",
     "output_type": "stream",
     "text": [
      "1449it [01:01, 23.72it/s]\n"
     ]
    },
    {
     "name": "stdout",
     "output_type": "stream",
     "text": [
      "\n",
      "Overall Acc: 0.899514\n",
      "Mean Acc: 0.690776\n",
      "FreqW Acc: 0.824578\n",
      "Mean IoU: 0.589979\n",
      "\n",
      "Epoch 61, Itrs 11110/30000, Loss=0.255062\n",
      "Epoch 61, Itrs 11120/30000, Loss=0.215137\n",
      "Epoch 61, Itrs 11130/30000, Loss=0.220159\n",
      "Epoch 61, Itrs 11140/30000, Loss=0.286824\n",
      "Epoch 61, Itrs 11150/30000, Loss=0.263910\n",
      "Epoch 61, Itrs 11160/30000, Loss=0.339127\n"
     ]
    },
    {
     "name": "stderr",
     "output_type": "stream",
     "text": [
      "/home/irfan/Desktop/Code/Linux-IO/python_38/lib/python3.8/site-packages/torchvision/transforms/functional.py:417: UserWarning: Argument 'interpolation' of type int is deprecated since 0.13 and will be removed in 0.15. Please use InterpolationMode enum.\n",
      "  warnings.warn(\n",
      "/home/irfan/Desktop/Code/Linux-IO/python_38/lib/python3.8/site-packages/torchvision/transforms/functional.py:417: UserWarning: Argument 'interpolation' of type int is deprecated since 0.13 and will be removed in 0.15. Please use InterpolationMode enum.\n",
      "  warnings.warn(\n"
     ]
    },
    {
     "name": "stdout",
     "output_type": "stream",
     "text": [
      "Epoch 62, Itrs 11170/30000, Loss=0.264849\n",
      "Epoch 62, Itrs 11180/30000, Loss=0.261076\n",
      "Epoch 62, Itrs 11190/30000, Loss=0.183124\n",
      "Epoch 62, Itrs 11200/30000, Loss=0.260948\n",
      "Model saved as checkpoints/latest_deeplabv3plus_mobilenet_voc_os16.pth\n",
      "validation...\n"
     ]
    },
    {
     "name": "stderr",
     "output_type": "stream",
     "text": [
      "1449it [01:00, 24.13it/s]\n"
     ]
    },
    {
     "name": "stdout",
     "output_type": "stream",
     "text": [
      "\n",
      "Overall Acc: 0.899789\n",
      "Mean Acc: 0.683772\n",
      "FreqW Acc: 0.824469\n",
      "Mean IoU: 0.592454\n",
      "\n",
      "Epoch 62, Itrs 11210/30000, Loss=0.301391\n",
      "Epoch 62, Itrs 11220/30000, Loss=0.199179\n",
      "Epoch 62, Itrs 11230/30000, Loss=0.211432\n",
      "Epoch 62, Itrs 11240/30000, Loss=0.255034\n",
      "Epoch 62, Itrs 11250/30000, Loss=0.262977\n",
      "Epoch 62, Itrs 11260/30000, Loss=0.218240\n",
      "Epoch 62, Itrs 11270/30000, Loss=0.229539\n",
      "Epoch 62, Itrs 11280/30000, Loss=0.211361\n",
      "Epoch 62, Itrs 11290/30000, Loss=0.224753\n",
      "Epoch 62, Itrs 11300/30000, Loss=0.208790\n",
      "Model saved as checkpoints/latest_deeplabv3plus_mobilenet_voc_os16.pth\n",
      "validation...\n"
     ]
    },
    {
     "name": "stderr",
     "output_type": "stream",
     "text": [
      "1449it [01:00, 23.92it/s]\n"
     ]
    },
    {
     "name": "stdout",
     "output_type": "stream",
     "text": [
      "\n",
      "Overall Acc: 0.896566\n",
      "Mean Acc: 0.684885\n",
      "FreqW Acc: 0.820580\n",
      "Mean IoU: 0.587411\n",
      "\n",
      "Epoch 62, Itrs 11310/30000, Loss=0.270140\n",
      "Epoch 62, Itrs 11320/30000, Loss=0.253522\n",
      "Epoch 62, Itrs 11330/30000, Loss=0.243386\n",
      "Epoch 62, Itrs 11340/30000, Loss=0.432697\n"
     ]
    },
    {
     "name": "stderr",
     "output_type": "stream",
     "text": [
      "/home/irfan/Desktop/Code/Linux-IO/python_38/lib/python3.8/site-packages/torchvision/transforms/functional.py:417: UserWarning: Argument 'interpolation' of type int is deprecated since 0.13 and will be removed in 0.15. Please use InterpolationMode enum.\n",
      "  warnings.warn(\n",
      "/home/irfan/Desktop/Code/Linux-IO/python_38/lib/python3.8/site-packages/torchvision/transforms/functional.py:417: UserWarning: Argument 'interpolation' of type int is deprecated since 0.13 and will be removed in 0.15. Please use InterpolationMode enum.\n",
      "  warnings.warn(\n"
     ]
    },
    {
     "name": "stdout",
     "output_type": "stream",
     "text": [
      "Epoch 63, Itrs 11350/30000, Loss=0.305156\n",
      "Epoch 63, Itrs 11360/30000, Loss=0.264394\n",
      "Epoch 63, Itrs 11370/30000, Loss=0.218439\n",
      "Epoch 63, Itrs 11380/30000, Loss=0.242320\n",
      "Epoch 63, Itrs 11390/30000, Loss=0.358987\n",
      "Epoch 63, Itrs 11400/30000, Loss=0.203501\n",
      "Model saved as checkpoints/latest_deeplabv3plus_mobilenet_voc_os16.pth\n",
      "validation...\n"
     ]
    },
    {
     "name": "stderr",
     "output_type": "stream",
     "text": [
      "1449it [01:01, 23.49it/s]\n"
     ]
    },
    {
     "name": "stdout",
     "output_type": "stream",
     "text": [
      "\n",
      "Overall Acc: 0.887310\n",
      "Mean Acc: 0.705577\n",
      "FreqW Acc: 0.813122\n",
      "Mean IoU: 0.582025\n",
      "\n",
      "Epoch 63, Itrs 11410/30000, Loss=0.250077\n",
      "Epoch 63, Itrs 11420/30000, Loss=0.218683\n",
      "Epoch 63, Itrs 11430/30000, Loss=0.254732\n",
      "Epoch 63, Itrs 11440/30000, Loss=0.254654\n",
      "Epoch 63, Itrs 11450/30000, Loss=0.296808\n",
      "Epoch 63, Itrs 11460/30000, Loss=0.286693\n",
      "Epoch 63, Itrs 11470/30000, Loss=0.279013\n",
      "Epoch 63, Itrs 11480/30000, Loss=0.245484\n",
      "Epoch 63, Itrs 11490/30000, Loss=0.264411\n",
      "Epoch 63, Itrs 11500/30000, Loss=0.331311\n",
      "Model saved as checkpoints/latest_deeplabv3plus_mobilenet_voc_os16.pth\n",
      "validation...\n"
     ]
    },
    {
     "name": "stderr",
     "output_type": "stream",
     "text": [
      "1449it [01:03, 22.81it/s]\n"
     ]
    },
    {
     "name": "stdout",
     "output_type": "stream",
     "text": [
      "\n",
      "Overall Acc: 0.897455\n",
      "Mean Acc: 0.698587\n",
      "FreqW Acc: 0.823218\n",
      "Mean IoU: 0.587879\n",
      "\n",
      "Epoch 63, Itrs 11510/30000, Loss=0.245990\n",
      "Epoch 63, Itrs 11520/30000, Loss=0.300651\n"
     ]
    },
    {
     "name": "stderr",
     "output_type": "stream",
     "text": [
      "/home/irfan/Desktop/Code/Linux-IO/python_38/lib/python3.8/site-packages/torchvision/transforms/functional.py:417: UserWarning: Argument 'interpolation' of type int is deprecated since 0.13 and will be removed in 0.15. Please use InterpolationMode enum.\n",
      "  warnings.warn(\n",
      "/home/irfan/Desktop/Code/Linux-IO/python_38/lib/python3.8/site-packages/torchvision/transforms/functional.py:417: UserWarning: Argument 'interpolation' of type int is deprecated since 0.13 and will be removed in 0.15. Please use InterpolationMode enum.\n",
      "  warnings.warn(\n"
     ]
    },
    {
     "name": "stdout",
     "output_type": "stream",
     "text": [
      "Epoch 64, Itrs 11530/30000, Loss=0.216563\n",
      "Epoch 64, Itrs 11540/30000, Loss=0.235445\n",
      "Epoch 64, Itrs 11550/30000, Loss=0.231210\n",
      "Epoch 64, Itrs 11560/30000, Loss=0.216135\n",
      "Epoch 64, Itrs 11570/30000, Loss=0.234986\n",
      "Epoch 64, Itrs 11580/30000, Loss=0.330820\n",
      "Epoch 64, Itrs 11590/30000, Loss=0.288176\n",
      "Epoch 64, Itrs 11600/30000, Loss=0.239887\n",
      "Model saved as checkpoints/latest_deeplabv3plus_mobilenet_voc_os16.pth\n",
      "validation...\n"
     ]
    },
    {
     "name": "stderr",
     "output_type": "stream",
     "text": [
      "1449it [01:02, 23.09it/s]\n"
     ]
    },
    {
     "name": "stdout",
     "output_type": "stream",
     "text": [
      "\n",
      "Overall Acc: 0.899035\n",
      "Mean Acc: 0.713939\n",
      "FreqW Acc: 0.826929\n",
      "Mean IoU: 0.599966\n",
      "\n",
      "Model saved as checkpoints/best_deeplabv3plus_mobilenet_voc_os16.pth\n",
      "Epoch 64, Itrs 11610/30000, Loss=0.171933\n",
      "Epoch 64, Itrs 11620/30000, Loss=0.253818\n",
      "Epoch 64, Itrs 11630/30000, Loss=0.299998\n",
      "Epoch 64, Itrs 11640/30000, Loss=0.234252\n",
      "Epoch 64, Itrs 11650/30000, Loss=0.290851\n",
      "Epoch 64, Itrs 11660/30000, Loss=0.185804\n",
      "Epoch 64, Itrs 11670/30000, Loss=0.229036\n",
      "Epoch 64, Itrs 11680/30000, Loss=0.249389\n",
      "Epoch 64, Itrs 11690/30000, Loss=0.243854\n",
      "Epoch 64, Itrs 11700/30000, Loss=0.223663\n",
      "Model saved as checkpoints/latest_deeplabv3plus_mobilenet_voc_os16.pth\n",
      "validation...\n"
     ]
    },
    {
     "name": "stderr",
     "output_type": "stream",
     "text": [
      "1449it [01:01, 23.74it/s]\n"
     ]
    },
    {
     "name": "stdout",
     "output_type": "stream",
     "text": [
      "\n",
      "Overall Acc: 0.900873\n",
      "Mean Acc: 0.700269\n",
      "FreqW Acc: 0.826807\n",
      "Mean IoU: 0.600551\n",
      "\n",
      "Model saved as checkpoints/best_deeplabv3plus_mobilenet_voc_os16.pth\n",
      "Epoch 64, Itrs 11710/30000, Loss=0.172766\n"
     ]
    },
    {
     "name": "stderr",
     "output_type": "stream",
     "text": [
      "/home/irfan/Desktop/Code/Linux-IO/python_38/lib/python3.8/site-packages/torchvision/transforms/functional.py:417: UserWarning: Argument 'interpolation' of type int is deprecated since 0.13 and will be removed in 0.15. Please use InterpolationMode enum.\n",
      "  warnings.warn(\n",
      "/home/irfan/Desktop/Code/Linux-IO/python_38/lib/python3.8/site-packages/torchvision/transforms/functional.py:417: UserWarning: Argument 'interpolation' of type int is deprecated since 0.13 and will be removed in 0.15. Please use InterpolationMode enum.\n",
      "  warnings.warn(\n"
     ]
    },
    {
     "name": "stdout",
     "output_type": "stream",
     "text": [
      "Epoch 65, Itrs 11720/30000, Loss=0.279901\n",
      "Epoch 65, Itrs 11730/30000, Loss=0.231015\n",
      "Epoch 65, Itrs 11740/30000, Loss=0.183232\n",
      "Epoch 65, Itrs 11750/30000, Loss=0.256812\n",
      "Epoch 65, Itrs 11760/30000, Loss=0.247798\n",
      "Epoch 65, Itrs 11770/30000, Loss=0.338065\n",
      "Epoch 65, Itrs 11780/30000, Loss=0.345983\n",
      "Epoch 65, Itrs 11790/30000, Loss=0.315821\n",
      "Epoch 65, Itrs 11800/30000, Loss=0.242849\n",
      "Model saved as checkpoints/latest_deeplabv3plus_mobilenet_voc_os16.pth\n",
      "validation...\n"
     ]
    },
    {
     "name": "stderr",
     "output_type": "stream",
     "text": [
      "1449it [01:01, 23.57it/s]\n"
     ]
    },
    {
     "name": "stdout",
     "output_type": "stream",
     "text": [
      "\n",
      "Overall Acc: 0.889626\n",
      "Mean Acc: 0.663462\n",
      "FreqW Acc: 0.812951\n",
      "Mean IoU: 0.567089\n",
      "\n",
      "Epoch 65, Itrs 11810/30000, Loss=0.212881\n",
      "Epoch 65, Itrs 11820/30000, Loss=0.294012\n",
      "Epoch 65, Itrs 11830/30000, Loss=0.208842\n",
      "Epoch 65, Itrs 11840/30000, Loss=0.168751\n",
      "Epoch 65, Itrs 11850/30000, Loss=0.255068\n",
      "Epoch 65, Itrs 11860/30000, Loss=0.249122\n",
      "Epoch 65, Itrs 11870/30000, Loss=0.185341\n",
      "Epoch 65, Itrs 11880/30000, Loss=0.207285\n",
      "Epoch 65, Itrs 11890/30000, Loss=0.185862\n"
     ]
    },
    {
     "name": "stderr",
     "output_type": "stream",
     "text": [
      "/home/irfan/Desktop/Code/Linux-IO/python_38/lib/python3.8/site-packages/torchvision/transforms/functional.py:417: UserWarning: Argument 'interpolation' of type int is deprecated since 0.13 and will be removed in 0.15. Please use InterpolationMode enum.\n",
      "  warnings.warn(\n",
      "/home/irfan/Desktop/Code/Linux-IO/python_38/lib/python3.8/site-packages/torchvision/transforms/functional.py:417: UserWarning: Argument 'interpolation' of type int is deprecated since 0.13 and will be removed in 0.15. Please use InterpolationMode enum.\n",
      "  warnings.warn(\n"
     ]
    },
    {
     "name": "stdout",
     "output_type": "stream",
     "text": [
      "Epoch 66, Itrs 11900/30000, Loss=0.235510\n",
      "Model saved as checkpoints/latest_deeplabv3plus_mobilenet_voc_os16.pth\n",
      "validation...\n"
     ]
    },
    {
     "name": "stderr",
     "output_type": "stream",
     "text": [
      "1449it [01:08, 21.27it/s]\n"
     ]
    },
    {
     "name": "stdout",
     "output_type": "stream",
     "text": [
      "\n",
      "Overall Acc: 0.898582\n",
      "Mean Acc: 0.668954\n",
      "FreqW Acc: 0.821380\n",
      "Mean IoU: 0.588668\n",
      "\n",
      "Epoch 66, Itrs 11910/30000, Loss=0.151728\n",
      "Epoch 66, Itrs 11920/30000, Loss=0.238286\n",
      "Epoch 66, Itrs 11930/30000, Loss=0.235012\n",
      "Epoch 66, Itrs 11940/30000, Loss=0.247090\n",
      "Epoch 66, Itrs 11950/30000, Loss=0.205691\n",
      "Epoch 66, Itrs 11960/30000, Loss=0.255291\n",
      "Epoch 66, Itrs 11970/30000, Loss=0.265193\n",
      "Epoch 66, Itrs 11980/30000, Loss=0.200905\n",
      "Epoch 66, Itrs 11990/30000, Loss=0.218678\n",
      "Epoch 66, Itrs 12000/30000, Loss=0.233672\n",
      "Model saved as checkpoints/latest_deeplabv3plus_mobilenet_voc_os16.pth\n",
      "validation...\n"
     ]
    },
    {
     "name": "stderr",
     "output_type": "stream",
     "text": [
      "1449it [01:09, 20.89it/s]\n"
     ]
    },
    {
     "name": "stdout",
     "output_type": "stream",
     "text": [
      "\n",
      "Overall Acc: 0.900732\n",
      "Mean Acc: 0.700441\n",
      "FreqW Acc: 0.828611\n",
      "Mean IoU: 0.604793\n",
      "\n",
      "Model saved as checkpoints/best_deeplabv3plus_mobilenet_voc_os16.pth\n",
      "Epoch 66, Itrs 12010/30000, Loss=0.203572\n",
      "Epoch 66, Itrs 12020/30000, Loss=0.185285\n",
      "Epoch 66, Itrs 12030/30000, Loss=0.238617\n",
      "Epoch 66, Itrs 12040/30000, Loss=0.312238\n",
      "Epoch 66, Itrs 12050/30000, Loss=0.239164\n",
      "Epoch 66, Itrs 12060/30000, Loss=0.212155\n",
      "Epoch 66, Itrs 12070/30000, Loss=0.264392\n"
     ]
    },
    {
     "name": "stderr",
     "output_type": "stream",
     "text": [
      "/home/irfan/Desktop/Code/Linux-IO/python_38/lib/python3.8/site-packages/torchvision/transforms/functional.py:417: UserWarning: Argument 'interpolation' of type int is deprecated since 0.13 and will be removed in 0.15. Please use InterpolationMode enum.\n",
      "  warnings.warn(\n",
      "/home/irfan/Desktop/Code/Linux-IO/python_38/lib/python3.8/site-packages/torchvision/transforms/functional.py:417: UserWarning: Argument 'interpolation' of type int is deprecated since 0.13 and will be removed in 0.15. Please use InterpolationMode enum.\n",
      "  warnings.warn(\n"
     ]
    },
    {
     "name": "stdout",
     "output_type": "stream",
     "text": [
      "Epoch 67, Itrs 12080/30000, Loss=0.338044\n",
      "Epoch 67, Itrs 12090/30000, Loss=0.252250\n",
      "Epoch 67, Itrs 12100/30000, Loss=0.183751\n",
      "Model saved as checkpoints/latest_deeplabv3plus_mobilenet_voc_os16.pth\n",
      "validation...\n"
     ]
    },
    {
     "name": "stderr",
     "output_type": "stream",
     "text": [
      "1449it [01:07, 21.47it/s]\n"
     ]
    },
    {
     "name": "stdout",
     "output_type": "stream",
     "text": [
      "\n",
      "Overall Acc: 0.896945\n",
      "Mean Acc: 0.665938\n",
      "FreqW Acc: 0.820338\n",
      "Mean IoU: 0.583879\n",
      "\n",
      "Epoch 67, Itrs 12110/30000, Loss=0.237879\n",
      "Epoch 67, Itrs 12120/30000, Loss=0.216142\n",
      "Epoch 67, Itrs 12130/30000, Loss=0.211995\n",
      "Epoch 67, Itrs 12140/30000, Loss=0.231033\n",
      "Epoch 67, Itrs 12150/30000, Loss=0.249778\n",
      "Epoch 67, Itrs 12160/30000, Loss=0.312364\n",
      "Epoch 67, Itrs 12170/30000, Loss=0.283453\n",
      "Epoch 67, Itrs 12180/30000, Loss=0.260000\n",
      "Epoch 67, Itrs 12190/30000, Loss=0.281378\n",
      "Epoch 67, Itrs 12200/30000, Loss=0.175261\n",
      "Model saved as checkpoints/latest_deeplabv3plus_mobilenet_voc_os16.pth\n",
      "validation...\n"
     ]
    },
    {
     "name": "stderr",
     "output_type": "stream",
     "text": [
      "1449it [01:14, 19.36it/s]\n"
     ]
    },
    {
     "name": "stdout",
     "output_type": "stream",
     "text": [
      "\n",
      "Overall Acc: 0.897432\n",
      "Mean Acc: 0.718015\n",
      "FreqW Acc: 0.823456\n",
      "Mean IoU: 0.595685\n",
      "\n",
      "Epoch 67, Itrs 12210/30000, Loss=0.176207\n",
      "Epoch 67, Itrs 12220/30000, Loss=0.282169\n",
      "Epoch 67, Itrs 12230/30000, Loss=0.213199\n",
      "Epoch 67, Itrs 12240/30000, Loss=0.200050\n",
      "Epoch 67, Itrs 12250/30000, Loss=0.292973\n",
      "Epoch 67, Itrs 12260/30000, Loss=0.192557\n"
     ]
    },
    {
     "name": "stderr",
     "output_type": "stream",
     "text": [
      "/home/irfan/Desktop/Code/Linux-IO/python_38/lib/python3.8/site-packages/torchvision/transforms/functional.py:417: UserWarning: Argument 'interpolation' of type int is deprecated since 0.13 and will be removed in 0.15. Please use InterpolationMode enum.\n",
      "  warnings.warn(\n",
      "/home/irfan/Desktop/Code/Linux-IO/python_38/lib/python3.8/site-packages/torchvision/transforms/functional.py:417: UserWarning: Argument 'interpolation' of type int is deprecated since 0.13 and will be removed in 0.15. Please use InterpolationMode enum.\n",
      "  warnings.warn(\n"
     ]
    },
    {
     "name": "stdout",
     "output_type": "stream",
     "text": [
      "Epoch 68, Itrs 12270/30000, Loss=0.165025\n",
      "Epoch 68, Itrs 12280/30000, Loss=0.244615\n",
      "Epoch 68, Itrs 12290/30000, Loss=0.244142\n",
      "Epoch 68, Itrs 12300/30000, Loss=0.186933\n",
      "Model saved as checkpoints/latest_deeplabv3plus_mobilenet_voc_os16.pth\n",
      "validation...\n"
     ]
    },
    {
     "name": "stderr",
     "output_type": "stream",
     "text": [
      "1449it [01:09, 20.80it/s]\n"
     ]
    },
    {
     "name": "stdout",
     "output_type": "stream",
     "text": [
      "\n",
      "Overall Acc: 0.895078\n",
      "Mean Acc: 0.702760\n",
      "FreqW Acc: 0.820422\n",
      "Mean IoU: 0.600915\n",
      "\n",
      "Epoch 68, Itrs 12310/30000, Loss=0.235523\n",
      "Epoch 68, Itrs 12320/30000, Loss=0.204157\n",
      "Epoch 68, Itrs 12330/30000, Loss=0.270335\n",
      "Epoch 68, Itrs 12340/30000, Loss=0.201426\n",
      "Epoch 68, Itrs 12350/30000, Loss=0.228516\n",
      "Epoch 68, Itrs 12360/30000, Loss=0.172318\n",
      "Epoch 68, Itrs 12370/30000, Loss=0.214548\n",
      "Epoch 68, Itrs 12380/30000, Loss=0.299560\n",
      "Epoch 68, Itrs 12390/30000, Loss=0.212899\n",
      "Epoch 68, Itrs 12400/30000, Loss=0.210447\n",
      "Model saved as checkpoints/latest_deeplabv3plus_mobilenet_voc_os16.pth\n",
      "validation...\n"
     ]
    },
    {
     "name": "stderr",
     "output_type": "stream",
     "text": [
      "1449it [00:51, 28.09it/s]\n"
     ]
    },
    {
     "name": "stdout",
     "output_type": "stream",
     "text": [
      "\n",
      "Overall Acc: 0.903076\n",
      "Mean Acc: 0.725056\n",
      "FreqW Acc: 0.832558\n",
      "Mean IoU: 0.615351\n",
      "\n",
      "Model saved as checkpoints/best_deeplabv3plus_mobilenet_voc_os16.pth\n",
      "Epoch 68, Itrs 12410/30000, Loss=0.188626\n",
      "Epoch 68, Itrs 12420/30000, Loss=0.268390\n",
      "Epoch 68, Itrs 12430/30000, Loss=0.224275\n",
      "Epoch 68, Itrs 12440/30000, Loss=0.167016\n"
     ]
    },
    {
     "name": "stderr",
     "output_type": "stream",
     "text": [
      "/home/irfan/Desktop/Code/Linux-IO/python_38/lib/python3.8/site-packages/torchvision/transforms/functional.py:417: UserWarning: Argument 'interpolation' of type int is deprecated since 0.13 and will be removed in 0.15. Please use InterpolationMode enum.\n",
      "  warnings.warn(\n",
      "/home/irfan/Desktop/Code/Linux-IO/python_38/lib/python3.8/site-packages/torchvision/transforms/functional.py:417: UserWarning: Argument 'interpolation' of type int is deprecated since 0.13 and will be removed in 0.15. Please use InterpolationMode enum.\n",
      "  warnings.warn(\n"
     ]
    },
    {
     "name": "stdout",
     "output_type": "stream",
     "text": [
      "Epoch 69, Itrs 12450/30000, Loss=0.256567\n",
      "Epoch 69, Itrs 12460/30000, Loss=0.228187\n",
      "Epoch 69, Itrs 12470/30000, Loss=0.194246\n",
      "Epoch 69, Itrs 12480/30000, Loss=0.290261\n",
      "Epoch 69, Itrs 12490/30000, Loss=0.303688\n",
      "Epoch 69, Itrs 12500/30000, Loss=0.291559\n",
      "Model saved as checkpoints/latest_deeplabv3plus_mobilenet_voc_os16.pth\n",
      "validation...\n"
     ]
    },
    {
     "name": "stderr",
     "output_type": "stream",
     "text": [
      "1449it [00:46, 31.21it/s]\n"
     ]
    },
    {
     "name": "stdout",
     "output_type": "stream",
     "text": [
      "\n",
      "Overall Acc: 0.897651\n",
      "Mean Acc: 0.704656\n",
      "FreqW Acc: 0.825522\n",
      "Mean IoU: 0.592684\n",
      "\n",
      "Epoch 69, Itrs 12510/30000, Loss=0.193338\n",
      "Epoch 69, Itrs 12520/30000, Loss=0.241449\n",
      "Epoch 69, Itrs 12530/30000, Loss=0.196544\n",
      "Epoch 69, Itrs 12540/30000, Loss=0.213639\n",
      "Epoch 69, Itrs 12550/30000, Loss=0.173706\n",
      "Epoch 69, Itrs 12560/30000, Loss=0.172041\n",
      "Epoch 69, Itrs 12570/30000, Loss=0.240839\n",
      "Epoch 69, Itrs 12580/30000, Loss=0.259992\n",
      "Epoch 69, Itrs 12590/30000, Loss=0.362782\n",
      "Epoch 69, Itrs 12600/30000, Loss=0.258152\n",
      "Model saved as checkpoints/latest_deeplabv3plus_mobilenet_voc_os16.pth\n",
      "validation...\n"
     ]
    },
    {
     "name": "stderr",
     "output_type": "stream",
     "text": [
      "1449it [00:46, 31.40it/s]\n"
     ]
    },
    {
     "name": "stdout",
     "output_type": "stream",
     "text": [
      "\n",
      "Overall Acc: 0.891997\n",
      "Mean Acc: 0.705251\n",
      "FreqW Acc: 0.817435\n",
      "Mean IoU: 0.579969\n",
      "\n",
      "Epoch 69, Itrs 12610/30000, Loss=0.239984\n",
      "Epoch 69, Itrs 12620/30000, Loss=0.188900\n"
     ]
    },
    {
     "name": "stderr",
     "output_type": "stream",
     "text": [
      "/home/irfan/Desktop/Code/Linux-IO/python_38/lib/python3.8/site-packages/torchvision/transforms/functional.py:417: UserWarning: Argument 'interpolation' of type int is deprecated since 0.13 and will be removed in 0.15. Please use InterpolationMode enum.\n",
      "  warnings.warn(\n",
      "/home/irfan/Desktop/Code/Linux-IO/python_38/lib/python3.8/site-packages/torchvision/transforms/functional.py:417: UserWarning: Argument 'interpolation' of type int is deprecated since 0.13 and will be removed in 0.15. Please use InterpolationMode enum.\n",
      "  warnings.warn(\n"
     ]
    },
    {
     "name": "stdout",
     "output_type": "stream",
     "text": [
      "Epoch 70, Itrs 12630/30000, Loss=0.196470\n",
      "Epoch 70, Itrs 12640/30000, Loss=0.180076\n",
      "Epoch 70, Itrs 12650/30000, Loss=0.292205\n",
      "Epoch 70, Itrs 12660/30000, Loss=0.246020\n",
      "Epoch 70, Itrs 12670/30000, Loss=0.260728\n",
      "Epoch 70, Itrs 12680/30000, Loss=0.222211\n",
      "Epoch 70, Itrs 12690/30000, Loss=0.271660\n",
      "Epoch 70, Itrs 12700/30000, Loss=0.281392\n",
      "Model saved as checkpoints/latest_deeplabv3plus_mobilenet_voc_os16.pth\n",
      "validation...\n"
     ]
    },
    {
     "name": "stderr",
     "output_type": "stream",
     "text": [
      "1449it [00:43, 33.22it/s]\n"
     ]
    },
    {
     "name": "stdout",
     "output_type": "stream",
     "text": [
      "\n",
      "Overall Acc: 0.890581\n",
      "Mean Acc: 0.698673\n",
      "FreqW Acc: 0.814022\n",
      "Mean IoU: 0.578187\n",
      "\n",
      "Epoch 70, Itrs 12710/30000, Loss=0.218220\n",
      "Epoch 70, Itrs 12720/30000, Loss=0.294587\n",
      "Epoch 70, Itrs 12730/30000, Loss=0.195481\n",
      "Epoch 70, Itrs 12740/30000, Loss=0.227349\n",
      "Epoch 70, Itrs 12750/30000, Loss=0.234788\n",
      "Epoch 70, Itrs 12760/30000, Loss=0.249793\n",
      "Epoch 70, Itrs 12770/30000, Loss=0.212304\n",
      "Epoch 70, Itrs 12780/30000, Loss=0.182387\n",
      "Epoch 70, Itrs 12790/30000, Loss=0.322070\n",
      "Epoch 70, Itrs 12800/30000, Loss=0.288090\n",
      "Model saved as checkpoints/latest_deeplabv3plus_mobilenet_voc_os16.pth\n",
      "validation...\n"
     ]
    },
    {
     "name": "stderr",
     "output_type": "stream",
     "text": [
      "1449it [00:41, 34.92it/s]\n"
     ]
    },
    {
     "name": "stdout",
     "output_type": "stream",
     "text": [
      "\n",
      "Overall Acc: 0.894717\n",
      "Mean Acc: 0.707608\n",
      "FreqW Acc: 0.820889\n",
      "Mean IoU: 0.590737\n",
      "\n",
      "Epoch 70, Itrs 12810/30000, Loss=0.264448\n"
     ]
    },
    {
     "name": "stderr",
     "output_type": "stream",
     "text": [
      "/home/irfan/Desktop/Code/Linux-IO/python_38/lib/python3.8/site-packages/torchvision/transforms/functional.py:417: UserWarning: Argument 'interpolation' of type int is deprecated since 0.13 and will be removed in 0.15. Please use InterpolationMode enum.\n",
      "  warnings.warn(\n",
      "/home/irfan/Desktop/Code/Linux-IO/python_38/lib/python3.8/site-packages/torchvision/transforms/functional.py:417: UserWarning: Argument 'interpolation' of type int is deprecated since 0.13 and will be removed in 0.15. Please use InterpolationMode enum.\n",
      "  warnings.warn(\n"
     ]
    },
    {
     "name": "stdout",
     "output_type": "stream",
     "text": [
      "Epoch 71, Itrs 12820/30000, Loss=0.287047\n",
      "Epoch 71, Itrs 12830/30000, Loss=0.172030\n",
      "Epoch 71, Itrs 12840/30000, Loss=0.238241\n",
      "Epoch 71, Itrs 12850/30000, Loss=0.210048\n",
      "Epoch 71, Itrs 12860/30000, Loss=0.253572\n",
      "Epoch 71, Itrs 12870/30000, Loss=0.204113\n",
      "Epoch 71, Itrs 12880/30000, Loss=0.225679\n",
      "Epoch 71, Itrs 12890/30000, Loss=0.220305\n",
      "Epoch 71, Itrs 12900/30000, Loss=0.239364\n",
      "Model saved as checkpoints/latest_deeplabv3plus_mobilenet_voc_os16.pth\n",
      "validation...\n"
     ]
    },
    {
     "name": "stderr",
     "output_type": "stream",
     "text": [
      "1449it [00:43, 33.61it/s]\n"
     ]
    },
    {
     "name": "stdout",
     "output_type": "stream",
     "text": [
      "\n",
      "Overall Acc: 0.900718\n",
      "Mean Acc: 0.686313\n",
      "FreqW Acc: 0.825585\n",
      "Mean IoU: 0.595548\n",
      "\n",
      "Epoch 71, Itrs 12910/30000, Loss=0.201507\n",
      "Epoch 71, Itrs 12920/30000, Loss=0.197685\n",
      "Epoch 71, Itrs 12930/30000, Loss=0.228852\n",
      "Epoch 71, Itrs 12940/30000, Loss=0.285107\n",
      "Epoch 71, Itrs 12950/30000, Loss=0.223195\n",
      "Epoch 71, Itrs 12960/30000, Loss=0.226903\n",
      "Epoch 71, Itrs 12970/30000, Loss=0.214173\n",
      "Epoch 71, Itrs 12980/30000, Loss=0.266716\n",
      "Epoch 71, Itrs 12990/30000, Loss=0.315390\n"
     ]
    },
    {
     "name": "stderr",
     "output_type": "stream",
     "text": [
      "/home/irfan/Desktop/Code/Linux-IO/python_38/lib/python3.8/site-packages/torchvision/transforms/functional.py:417: UserWarning: Argument 'interpolation' of type int is deprecated since 0.13 and will be removed in 0.15. Please use InterpolationMode enum.\n",
      "  warnings.warn(\n",
      "/home/irfan/Desktop/Code/Linux-IO/python_38/lib/python3.8/site-packages/torchvision/transforms/functional.py:417: UserWarning: Argument 'interpolation' of type int is deprecated since 0.13 and will be removed in 0.15. Please use InterpolationMode enum.\n",
      "  warnings.warn(\n"
     ]
    },
    {
     "name": "stdout",
     "output_type": "stream",
     "text": [
      "Epoch 72, Itrs 13000/30000, Loss=0.242521\n",
      "Model saved as checkpoints/latest_deeplabv3plus_mobilenet_voc_os16.pth\n",
      "validation...\n"
     ]
    },
    {
     "name": "stderr",
     "output_type": "stream",
     "text": [
      "1449it [00:41, 34.93it/s]\n"
     ]
    },
    {
     "name": "stdout",
     "output_type": "stream",
     "text": [
      "\n",
      "Overall Acc: 0.898657\n",
      "Mean Acc: 0.716203\n",
      "FreqW Acc: 0.826578\n",
      "Mean IoU: 0.600552\n",
      "\n",
      "Epoch 72, Itrs 13010/30000, Loss=0.217826\n",
      "Epoch 72, Itrs 13020/30000, Loss=0.233773\n",
      "Epoch 72, Itrs 13030/30000, Loss=0.319951\n",
      "Epoch 72, Itrs 13040/30000, Loss=0.195255\n",
      "Epoch 72, Itrs 13050/30000, Loss=0.207672\n",
      "Epoch 72, Itrs 13060/30000, Loss=0.183501\n",
      "Epoch 72, Itrs 13070/30000, Loss=0.226271\n",
      "Epoch 72, Itrs 13080/30000, Loss=0.157547\n",
      "Epoch 72, Itrs 13090/30000, Loss=0.190283\n",
      "Epoch 72, Itrs 13100/30000, Loss=0.206606\n",
      "Model saved as checkpoints/latest_deeplabv3plus_mobilenet_voc_os16.pth\n",
      "validation...\n"
     ]
    },
    {
     "name": "stderr",
     "output_type": "stream",
     "text": [
      "1449it [00:42, 34.00it/s]\n"
     ]
    },
    {
     "name": "stdout",
     "output_type": "stream",
     "text": [
      "\n",
      "Overall Acc: 0.897233\n",
      "Mean Acc: 0.706824\n",
      "FreqW Acc: 0.823547\n",
      "Mean IoU: 0.596086\n",
      "\n",
      "Epoch 72, Itrs 13110/30000, Loss=0.259786\n",
      "Epoch 72, Itrs 13120/30000, Loss=0.236242\n",
      "Epoch 72, Itrs 13130/30000, Loss=0.250219\n",
      "Epoch 72, Itrs 13140/30000, Loss=0.221333\n",
      "Epoch 72, Itrs 13150/30000, Loss=0.289173\n",
      "Epoch 72, Itrs 13160/30000, Loss=0.246272\n",
      "Epoch 72, Itrs 13170/30000, Loss=0.299273\n"
     ]
    },
    {
     "name": "stderr",
     "output_type": "stream",
     "text": [
      "/home/irfan/Desktop/Code/Linux-IO/python_38/lib/python3.8/site-packages/torchvision/transforms/functional.py:417: UserWarning: Argument 'interpolation' of type int is deprecated since 0.13 and will be removed in 0.15. Please use InterpolationMode enum.\n",
      "  warnings.warn(\n",
      "/home/irfan/Desktop/Code/Linux-IO/python_38/lib/python3.8/site-packages/torchvision/transforms/functional.py:417: UserWarning: Argument 'interpolation' of type int is deprecated since 0.13 and will be removed in 0.15. Please use InterpolationMode enum.\n",
      "  warnings.warn(\n"
     ]
    },
    {
     "name": "stdout",
     "output_type": "stream",
     "text": [
      "Epoch 73, Itrs 13180/30000, Loss=0.277179\n",
      "Epoch 73, Itrs 13190/30000, Loss=0.288482\n",
      "Epoch 73, Itrs 13200/30000, Loss=0.163527\n",
      "Model saved as checkpoints/latest_deeplabv3plus_mobilenet_voc_os16.pth\n",
      "validation...\n"
     ]
    },
    {
     "name": "stderr",
     "output_type": "stream",
     "text": [
      "1449it [00:41, 35.18it/s]\n"
     ]
    },
    {
     "name": "stdout",
     "output_type": "stream",
     "text": [
      "\n",
      "Overall Acc: 0.897776\n",
      "Mean Acc: 0.679209\n",
      "FreqW Acc: 0.820749\n",
      "Mean IoU: 0.588688\n",
      "\n",
      "Epoch 73, Itrs 13210/30000, Loss=0.385901\n",
      "Epoch 73, Itrs 13220/30000, Loss=0.209603\n",
      "Epoch 73, Itrs 13230/30000, Loss=0.225551\n",
      "Epoch 73, Itrs 13240/30000, Loss=0.268887\n",
      "Epoch 73, Itrs 13250/30000, Loss=0.210362\n",
      "Epoch 73, Itrs 13260/30000, Loss=0.175365\n",
      "Epoch 73, Itrs 13270/30000, Loss=0.176188\n",
      "Epoch 73, Itrs 13280/30000, Loss=0.189783\n",
      "Epoch 73, Itrs 13290/30000, Loss=0.210676\n",
      "Epoch 73, Itrs 13300/30000, Loss=0.236553\n",
      "Model saved as checkpoints/latest_deeplabv3plus_mobilenet_voc_os16.pth\n",
      "validation...\n"
     ]
    },
    {
     "name": "stderr",
     "output_type": "stream",
     "text": [
      "1449it [00:42, 34.43it/s]\n"
     ]
    },
    {
     "name": "stdout",
     "output_type": "stream",
     "text": [
      "\n",
      "Overall Acc: 0.899133\n",
      "Mean Acc: 0.709602\n",
      "FreqW Acc: 0.825397\n",
      "Mean IoU: 0.599623\n",
      "\n",
      "Epoch 73, Itrs 13310/30000, Loss=0.216861\n",
      "Epoch 73, Itrs 13320/30000, Loss=0.240075\n",
      "Epoch 73, Itrs 13330/30000, Loss=0.259350\n",
      "Epoch 73, Itrs 13340/30000, Loss=0.226954\n",
      "Epoch 73, Itrs 13350/30000, Loss=0.223486\n"
     ]
    },
    {
     "name": "stderr",
     "output_type": "stream",
     "text": [
      "/home/irfan/Desktop/Code/Linux-IO/python_38/lib/python3.8/site-packages/torchvision/transforms/functional.py:417: UserWarning: Argument 'interpolation' of type int is deprecated since 0.13 and will be removed in 0.15. Please use InterpolationMode enum.\n",
      "  warnings.warn(\n",
      "/home/irfan/Desktop/Code/Linux-IO/python_38/lib/python3.8/site-packages/torchvision/transforms/functional.py:417: UserWarning: Argument 'interpolation' of type int is deprecated since 0.13 and will be removed in 0.15. Please use InterpolationMode enum.\n",
      "  warnings.warn(\n"
     ]
    },
    {
     "name": "stdout",
     "output_type": "stream",
     "text": [
      "Epoch 74, Itrs 13360/30000, Loss=0.304306\n",
      "Epoch 74, Itrs 13370/30000, Loss=0.186345\n",
      "Epoch 74, Itrs 13380/30000, Loss=0.191610\n",
      "Epoch 74, Itrs 13390/30000, Loss=0.207894\n",
      "Epoch 74, Itrs 13400/30000, Loss=0.238451\n",
      "Model saved as checkpoints/latest_deeplabv3plus_mobilenet_voc_os16.pth\n",
      "validation...\n"
     ]
    },
    {
     "name": "stderr",
     "output_type": "stream",
     "text": [
      "1449it [00:45, 31.85it/s]\n"
     ]
    },
    {
     "name": "stdout",
     "output_type": "stream",
     "text": [
      "\n",
      "Overall Acc: 0.891555\n",
      "Mean Acc: 0.715003\n",
      "FreqW Acc: 0.818293\n",
      "Mean IoU: 0.586946\n",
      "\n",
      "Epoch 74, Itrs 13410/30000, Loss=0.301253\n",
      "Epoch 74, Itrs 13420/30000, Loss=0.168449\n",
      "Epoch 74, Itrs 13430/30000, Loss=0.193225\n",
      "Epoch 74, Itrs 13440/30000, Loss=0.199216\n",
      "Epoch 74, Itrs 13450/30000, Loss=0.244286\n",
      "Epoch 74, Itrs 13460/30000, Loss=0.159097\n",
      "Epoch 74, Itrs 13470/30000, Loss=0.186452\n",
      "Epoch 74, Itrs 13480/30000, Loss=0.213503\n",
      "Epoch 74, Itrs 13490/30000, Loss=0.234907\n",
      "Epoch 74, Itrs 13500/30000, Loss=0.193277\n",
      "Model saved as checkpoints/latest_deeplabv3plus_mobilenet_voc_os16.pth\n",
      "validation...\n"
     ]
    },
    {
     "name": "stderr",
     "output_type": "stream",
     "text": [
      "1449it [00:44, 32.55it/s]\n"
     ]
    },
    {
     "name": "stdout",
     "output_type": "stream",
     "text": [
      "\n",
      "Overall Acc: 0.897630\n",
      "Mean Acc: 0.689714\n",
      "FreqW Acc: 0.822668\n",
      "Mean IoU: 0.590641\n",
      "\n",
      "Epoch 74, Itrs 13510/30000, Loss=0.208437\n",
      "Epoch 74, Itrs 13520/30000, Loss=0.257562\n",
      "Epoch 74, Itrs 13530/30000, Loss=0.198550\n",
      "Epoch 74, Itrs 13540/30000, Loss=0.196301\n"
     ]
    },
    {
     "name": "stderr",
     "output_type": "stream",
     "text": [
      "/home/irfan/Desktop/Code/Linux-IO/python_38/lib/python3.8/site-packages/torchvision/transforms/functional.py:417: UserWarning: Argument 'interpolation' of type int is deprecated since 0.13 and will be removed in 0.15. Please use InterpolationMode enum.\n",
      "  warnings.warn(\n",
      "/home/irfan/Desktop/Code/Linux-IO/python_38/lib/python3.8/site-packages/torchvision/transforms/functional.py:417: UserWarning: Argument 'interpolation' of type int is deprecated since 0.13 and will be removed in 0.15. Please use InterpolationMode enum.\n",
      "  warnings.warn(\n"
     ]
    },
    {
     "name": "stdout",
     "output_type": "stream",
     "text": [
      "Epoch 75, Itrs 13550/30000, Loss=0.172748\n",
      "Epoch 75, Itrs 13560/30000, Loss=0.261342\n",
      "Epoch 75, Itrs 13570/30000, Loss=0.265720\n",
      "Epoch 75, Itrs 13580/30000, Loss=0.167703\n",
      "Epoch 75, Itrs 13590/30000, Loss=0.178094\n",
      "Epoch 75, Itrs 13600/30000, Loss=0.213544\n",
      "Model saved as checkpoints/latest_deeplabv3plus_mobilenet_voc_os16.pth\n",
      "validation...\n"
     ]
    },
    {
     "name": "stderr",
     "output_type": "stream",
     "text": [
      "1449it [00:43, 33.56it/s]\n"
     ]
    },
    {
     "name": "stdout",
     "output_type": "stream",
     "text": [
      "\n",
      "Overall Acc: 0.894569\n",
      "Mean Acc: 0.701379\n",
      "FreqW Acc: 0.819841\n",
      "Mean IoU: 0.595346\n",
      "\n",
      "Epoch 75, Itrs 13610/30000, Loss=0.249059\n",
      "Epoch 75, Itrs 13620/30000, Loss=0.218179\n",
      "Epoch 75, Itrs 13630/30000, Loss=0.188517\n",
      "Epoch 75, Itrs 13640/30000, Loss=0.169056\n",
      "Epoch 75, Itrs 13650/30000, Loss=0.199394\n",
      "Epoch 75, Itrs 13660/30000, Loss=0.196503\n",
      "Epoch 75, Itrs 13670/30000, Loss=0.297936\n",
      "Epoch 75, Itrs 13680/30000, Loss=0.163437\n",
      "Epoch 75, Itrs 13690/30000, Loss=0.238900\n",
      "Epoch 75, Itrs 13700/30000, Loss=0.179573\n",
      "Model saved as checkpoints/latest_deeplabv3plus_mobilenet_voc_os16.pth\n",
      "validation...\n"
     ]
    },
    {
     "name": "stderr",
     "output_type": "stream",
     "text": [
      "1449it [00:42, 34.47it/s]\n"
     ]
    },
    {
     "name": "stdout",
     "output_type": "stream",
     "text": [
      "\n",
      "Overall Acc: 0.897897\n",
      "Mean Acc: 0.695213\n",
      "FreqW Acc: 0.823548\n",
      "Mean IoU: 0.596573\n",
      "\n",
      "Epoch 75, Itrs 13710/30000, Loss=0.177485\n",
      "Epoch 75, Itrs 13720/30000, Loss=0.224554\n"
     ]
    },
    {
     "name": "stderr",
     "output_type": "stream",
     "text": [
      "/home/irfan/Desktop/Code/Linux-IO/python_38/lib/python3.8/site-packages/torchvision/transforms/functional.py:417: UserWarning: Argument 'interpolation' of type int is deprecated since 0.13 and will be removed in 0.15. Please use InterpolationMode enum.\n",
      "  warnings.warn(\n",
      "/home/irfan/Desktop/Code/Linux-IO/python_38/lib/python3.8/site-packages/torchvision/transforms/functional.py:417: UserWarning: Argument 'interpolation' of type int is deprecated since 0.13 and will be removed in 0.15. Please use InterpolationMode enum.\n",
      "  warnings.warn(\n"
     ]
    },
    {
     "name": "stdout",
     "output_type": "stream",
     "text": [
      "Epoch 76, Itrs 13730/30000, Loss=0.193926\n",
      "Epoch 76, Itrs 13740/30000, Loss=0.254695\n",
      "Epoch 76, Itrs 13750/30000, Loss=0.145501\n",
      "Epoch 76, Itrs 13760/30000, Loss=0.193215\n",
      "Epoch 76, Itrs 13770/30000, Loss=0.198387\n",
      "Epoch 76, Itrs 13780/30000, Loss=0.238779\n",
      "Epoch 76, Itrs 13790/30000, Loss=0.267893\n",
      "Epoch 76, Itrs 13800/30000, Loss=0.260495\n",
      "Model saved as checkpoints/latest_deeplabv3plus_mobilenet_voc_os16.pth\n",
      "validation...\n"
     ]
    },
    {
     "name": "stderr",
     "output_type": "stream",
     "text": [
      "1449it [00:41, 35.20it/s]\n"
     ]
    },
    {
     "name": "stdout",
     "output_type": "stream",
     "text": [
      "\n",
      "Overall Acc: 0.891517\n",
      "Mean Acc: 0.706897\n",
      "FreqW Acc: 0.818099\n",
      "Mean IoU: 0.587122\n",
      "\n",
      "Epoch 76, Itrs 13810/30000, Loss=0.267305\n",
      "Epoch 76, Itrs 13820/30000, Loss=0.208203\n",
      "Epoch 76, Itrs 13830/30000, Loss=0.257266\n",
      "Epoch 76, Itrs 13840/30000, Loss=0.243869\n",
      "Epoch 76, Itrs 13850/30000, Loss=0.210301\n",
      "Epoch 76, Itrs 13860/30000, Loss=0.253858\n",
      "Epoch 76, Itrs 13870/30000, Loss=0.241613\n",
      "Epoch 76, Itrs 13880/30000, Loss=0.277725\n",
      "Epoch 76, Itrs 13890/30000, Loss=0.217390\n",
      "Epoch 76, Itrs 13900/30000, Loss=0.273841\n",
      "Model saved as checkpoints/latest_deeplabv3plus_mobilenet_voc_os16.pth\n",
      "validation...\n"
     ]
    },
    {
     "name": "stderr",
     "output_type": "stream",
     "text": [
      "1449it [00:45, 31.76it/s]\n"
     ]
    },
    {
     "name": "stdout",
     "output_type": "stream",
     "text": [
      "\n",
      "Overall Acc: 0.892355\n",
      "Mean Acc: 0.707988\n",
      "FreqW Acc: 0.818301\n",
      "Mean IoU: 0.584949\n",
      "\n"
     ]
    },
    {
     "name": "stderr",
     "output_type": "stream",
     "text": [
      "/home/irfan/Desktop/Code/Linux-IO/python_38/lib/python3.8/site-packages/torchvision/transforms/functional.py:417: UserWarning: Argument 'interpolation' of type int is deprecated since 0.13 and will be removed in 0.15. Please use InterpolationMode enum.\n",
      "  warnings.warn(\n",
      "/home/irfan/Desktop/Code/Linux-IO/python_38/lib/python3.8/site-packages/torchvision/transforms/functional.py:417: UserWarning: Argument 'interpolation' of type int is deprecated since 0.13 and will be removed in 0.15. Please use InterpolationMode enum.\n",
      "  warnings.warn(\n"
     ]
    },
    {
     "name": "stdout",
     "output_type": "stream",
     "text": [
      "Epoch 77, Itrs 13910/30000, Loss=0.233445\n",
      "Epoch 77, Itrs 13920/30000, Loss=0.171975\n",
      "Epoch 77, Itrs 13930/30000, Loss=0.222093\n",
      "Epoch 77, Itrs 13940/30000, Loss=0.223578\n",
      "Epoch 77, Itrs 13950/30000, Loss=0.251893\n",
      "Epoch 77, Itrs 13960/30000, Loss=0.241427\n",
      "Epoch 77, Itrs 13970/30000, Loss=0.202465\n",
      "Epoch 77, Itrs 13980/30000, Loss=0.152210\n",
      "Epoch 77, Itrs 13990/30000, Loss=0.257828\n",
      "Epoch 77, Itrs 14000/30000, Loss=0.234245\n",
      "Model saved as checkpoints/latest_deeplabv3plus_mobilenet_voc_os16.pth\n",
      "validation...\n"
     ]
    },
    {
     "name": "stderr",
     "output_type": "stream",
     "text": [
      "1449it [00:57, 25.22it/s]\n"
     ]
    },
    {
     "name": "stdout",
     "output_type": "stream",
     "text": [
      "\n",
      "Overall Acc: 0.899824\n",
      "Mean Acc: 0.723900\n",
      "FreqW Acc: 0.828531\n",
      "Mean IoU: 0.610101\n",
      "\n",
      "Epoch 77, Itrs 14010/30000, Loss=0.335295\n",
      "Epoch 77, Itrs 14020/30000, Loss=0.196248\n",
      "Epoch 77, Itrs 14030/30000, Loss=0.214470\n",
      "Epoch 77, Itrs 14040/30000, Loss=0.226960\n",
      "Epoch 77, Itrs 14050/30000, Loss=0.159281\n",
      "Epoch 77, Itrs 14060/30000, Loss=0.186554\n",
      "Epoch 77, Itrs 14070/30000, Loss=0.250265\n",
      "Epoch 77, Itrs 14080/30000, Loss=0.274068\n",
      "Epoch 77, Itrs 14090/30000, Loss=0.196102\n"
     ]
    },
    {
     "name": "stderr",
     "output_type": "stream",
     "text": [
      "/home/irfan/Desktop/Code/Linux-IO/python_38/lib/python3.8/site-packages/torchvision/transforms/functional.py:417: UserWarning: Argument 'interpolation' of type int is deprecated since 0.13 and will be removed in 0.15. Please use InterpolationMode enum.\n",
      "  warnings.warn(\n",
      "/home/irfan/Desktop/Code/Linux-IO/python_38/lib/python3.8/site-packages/torchvision/transforms/functional.py:417: UserWarning: Argument 'interpolation' of type int is deprecated since 0.13 and will be removed in 0.15. Please use InterpolationMode enum.\n",
      "  warnings.warn(\n"
     ]
    },
    {
     "name": "stdout",
     "output_type": "stream",
     "text": [
      "Epoch 78, Itrs 14100/30000, Loss=0.237873\n",
      "Model saved as checkpoints/latest_deeplabv3plus_mobilenet_voc_os16.pth\n",
      "validation...\n"
     ]
    },
    {
     "name": "stderr",
     "output_type": "stream",
     "text": [
      "1449it [00:48, 30.13it/s]\n"
     ]
    },
    {
     "name": "stdout",
     "output_type": "stream",
     "text": [
      "\n",
      "Overall Acc: 0.901625\n",
      "Mean Acc: 0.720030\n",
      "FreqW Acc: 0.830568\n",
      "Mean IoU: 0.610653\n",
      "\n",
      "Epoch 78, Itrs 14110/30000, Loss=0.207517\n",
      "Epoch 78, Itrs 14120/30000, Loss=0.178200\n",
      "Epoch 78, Itrs 14130/30000, Loss=0.275719\n",
      "Epoch 78, Itrs 14140/30000, Loss=0.268860\n",
      "Epoch 78, Itrs 14150/30000, Loss=0.244610\n",
      "Epoch 78, Itrs 14160/30000, Loss=0.217685\n",
      "Epoch 78, Itrs 14170/30000, Loss=0.241617\n",
      "Epoch 78, Itrs 14180/30000, Loss=0.197914\n",
      "Epoch 78, Itrs 14190/30000, Loss=0.229904\n",
      "Epoch 78, Itrs 14200/30000, Loss=0.177478\n",
      "Model saved as checkpoints/latest_deeplabv3plus_mobilenet_voc_os16.pth\n",
      "validation...\n"
     ]
    },
    {
     "name": "stderr",
     "output_type": "stream",
     "text": [
      "1449it [00:49, 29.23it/s]\n"
     ]
    },
    {
     "name": "stdout",
     "output_type": "stream",
     "text": [
      "\n",
      "Overall Acc: 0.894545\n",
      "Mean Acc: 0.698248\n",
      "FreqW Acc: 0.817636\n",
      "Mean IoU: 0.584970\n",
      "\n",
      "Epoch 78, Itrs 14210/30000, Loss=0.264907\n",
      "Epoch 78, Itrs 14220/30000, Loss=0.318773\n",
      "Epoch 78, Itrs 14230/30000, Loss=0.223386\n",
      "Epoch 78, Itrs 14240/30000, Loss=0.343792\n",
      "Epoch 78, Itrs 14250/30000, Loss=0.195619\n",
      "Epoch 78, Itrs 14260/30000, Loss=0.185438\n",
      "Epoch 78, Itrs 14270/30000, Loss=0.193258\n"
     ]
    },
    {
     "name": "stderr",
     "output_type": "stream",
     "text": [
      "/home/irfan/Desktop/Code/Linux-IO/python_38/lib/python3.8/site-packages/torchvision/transforms/functional.py:417: UserWarning: Argument 'interpolation' of type int is deprecated since 0.13 and will be removed in 0.15. Please use InterpolationMode enum.\n",
      "  warnings.warn(\n",
      "/home/irfan/Desktop/Code/Linux-IO/python_38/lib/python3.8/site-packages/torchvision/transforms/functional.py:417: UserWarning: Argument 'interpolation' of type int is deprecated since 0.13 and will be removed in 0.15. Please use InterpolationMode enum.\n",
      "  warnings.warn(\n"
     ]
    },
    {
     "name": "stdout",
     "output_type": "stream",
     "text": [
      "Epoch 79, Itrs 14280/30000, Loss=0.254224\n",
      "Epoch 79, Itrs 14290/30000, Loss=0.248756\n",
      "Epoch 79, Itrs 14300/30000, Loss=0.215935\n",
      "Model saved as checkpoints/latest_deeplabv3plus_mobilenet_voc_os16.pth\n",
      "validation...\n"
     ]
    },
    {
     "name": "stderr",
     "output_type": "stream",
     "text": [
      "1449it [00:53, 27.10it/s]\n"
     ]
    },
    {
     "name": "stdout",
     "output_type": "stream",
     "text": [
      "\n",
      "Overall Acc: 0.904032\n",
      "Mean Acc: 0.711300\n",
      "FreqW Acc: 0.831805\n",
      "Mean IoU: 0.609991\n",
      "\n",
      "Epoch 79, Itrs 14310/30000, Loss=0.219790\n",
      "Epoch 79, Itrs 14320/30000, Loss=0.271528\n",
      "Epoch 79, Itrs 14330/30000, Loss=0.169154\n",
      "Epoch 79, Itrs 14340/30000, Loss=0.192934\n",
      "Epoch 79, Itrs 14350/30000, Loss=0.200929\n",
      "Epoch 79, Itrs 14360/30000, Loss=0.212754\n",
      "Epoch 79, Itrs 14370/30000, Loss=0.236907\n",
      "Epoch 79, Itrs 14380/30000, Loss=0.205434\n",
      "Epoch 79, Itrs 14390/30000, Loss=0.217892\n",
      "Epoch 79, Itrs 14400/30000, Loss=0.217091\n",
      "Model saved as checkpoints/latest_deeplabv3plus_mobilenet_voc_os16.pth\n",
      "validation...\n"
     ]
    },
    {
     "name": "stderr",
     "output_type": "stream",
     "text": [
      "1449it [00:52, 27.79it/s]\n"
     ]
    },
    {
     "name": "stdout",
     "output_type": "stream",
     "text": [
      "\n",
      "Overall Acc: 0.903356\n",
      "Mean Acc: 0.683164\n",
      "FreqW Acc: 0.828783\n",
      "Mean IoU: 0.601217\n",
      "\n",
      "Epoch 79, Itrs 14410/30000, Loss=0.238140\n",
      "Epoch 79, Itrs 14420/30000, Loss=0.192837\n",
      "Epoch 79, Itrs 14430/30000, Loss=0.199839\n",
      "Epoch 79, Itrs 14440/30000, Loss=0.243920\n",
      "Epoch 79, Itrs 14450/30000, Loss=0.173450\n"
     ]
    },
    {
     "name": "stderr",
     "output_type": "stream",
     "text": [
      "/home/irfan/Desktop/Code/Linux-IO/python_38/lib/python3.8/site-packages/torchvision/transforms/functional.py:417: UserWarning: Argument 'interpolation' of type int is deprecated since 0.13 and will be removed in 0.15. Please use InterpolationMode enum.\n",
      "  warnings.warn(\n",
      "/home/irfan/Desktop/Code/Linux-IO/python_38/lib/python3.8/site-packages/torchvision/transforms/functional.py:417: UserWarning: Argument 'interpolation' of type int is deprecated since 0.13 and will be removed in 0.15. Please use InterpolationMode enum.\n",
      "  warnings.warn(\n"
     ]
    },
    {
     "name": "stdout",
     "output_type": "stream",
     "text": [
      "Epoch 80, Itrs 14460/30000, Loss=0.185357\n",
      "Epoch 80, Itrs 14470/30000, Loss=0.206031\n",
      "Epoch 80, Itrs 14480/30000, Loss=0.249297\n",
      "Epoch 80, Itrs 14490/30000, Loss=0.250743\n",
      "Epoch 80, Itrs 14500/30000, Loss=0.143607\n",
      "Model saved as checkpoints/latest_deeplabv3plus_mobilenet_voc_os16.pth\n",
      "validation...\n"
     ]
    },
    {
     "name": "stderr",
     "output_type": "stream",
     "text": [
      "1449it [00:52, 27.53it/s]\n"
     ]
    },
    {
     "name": "stdout",
     "output_type": "stream",
     "text": [
      "\n",
      "Overall Acc: 0.899867\n",
      "Mean Acc: 0.694072\n",
      "FreqW Acc: 0.826422\n",
      "Mean IoU: 0.599115\n",
      "\n",
      "Epoch 80, Itrs 14510/30000, Loss=0.243714\n",
      "Epoch 80, Itrs 14520/30000, Loss=0.291897\n",
      "Epoch 80, Itrs 14530/30000, Loss=0.236179\n",
      "Epoch 80, Itrs 14540/30000, Loss=0.256954\n",
      "Epoch 80, Itrs 14550/30000, Loss=0.184882\n",
      "Epoch 80, Itrs 14560/30000, Loss=0.169731\n",
      "Epoch 80, Itrs 14570/30000, Loss=0.154393\n",
      "Epoch 80, Itrs 14580/30000, Loss=0.265842\n",
      "Epoch 80, Itrs 14590/30000, Loss=0.259090\n",
      "Epoch 80, Itrs 14600/30000, Loss=0.230785\n",
      "Model saved as checkpoints/latest_deeplabv3plus_mobilenet_voc_os16.pth\n",
      "validation...\n"
     ]
    },
    {
     "name": "stderr",
     "output_type": "stream",
     "text": [
      "1449it [00:57, 24.99it/s]\n"
     ]
    },
    {
     "name": "stdout",
     "output_type": "stream",
     "text": [
      "\n",
      "Overall Acc: 0.904427\n",
      "Mean Acc: 0.704710\n",
      "FreqW Acc: 0.832301\n",
      "Mean IoU: 0.611339\n",
      "\n",
      "Epoch 80, Itrs 14610/30000, Loss=0.193988\n",
      "Epoch 80, Itrs 14620/30000, Loss=0.210344\n",
      "Epoch 80, Itrs 14630/30000, Loss=0.228107\n",
      "Epoch 80, Itrs 14640/30000, Loss=0.225524\n"
     ]
    },
    {
     "name": "stderr",
     "output_type": "stream",
     "text": [
      "/home/irfan/Desktop/Code/Linux-IO/python_38/lib/python3.8/site-packages/torchvision/transforms/functional.py:417: UserWarning: Argument 'interpolation' of type int is deprecated since 0.13 and will be removed in 0.15. Please use InterpolationMode enum.\n",
      "  warnings.warn(\n",
      "/home/irfan/Desktop/Code/Linux-IO/python_38/lib/python3.8/site-packages/torchvision/transforms/functional.py:417: UserWarning: Argument 'interpolation' of type int is deprecated since 0.13 and will be removed in 0.15. Please use InterpolationMode enum.\n",
      "  warnings.warn(\n"
     ]
    },
    {
     "name": "stdout",
     "output_type": "stream",
     "text": [
      "Epoch 81, Itrs 14650/30000, Loss=0.317522\n",
      "Epoch 81, Itrs 14660/30000, Loss=0.192350\n",
      "Epoch 81, Itrs 14670/30000, Loss=0.290445\n",
      "Epoch 81, Itrs 14680/30000, Loss=0.142128\n",
      "Epoch 81, Itrs 14690/30000, Loss=0.257120\n",
      "Epoch 81, Itrs 14700/30000, Loss=0.202034\n",
      "Model saved as checkpoints/latest_deeplabv3plus_mobilenet_voc_os16.pth\n",
      "validation...\n"
     ]
    },
    {
     "name": "stderr",
     "output_type": "stream",
     "text": [
      "1449it [01:27, 16.65it/s]\n"
     ]
    },
    {
     "name": "stdout",
     "output_type": "stream",
     "text": [
      "\n",
      "Overall Acc: 0.901303\n",
      "Mean Acc: 0.712114\n",
      "FreqW Acc: 0.828213\n",
      "Mean IoU: 0.608973\n",
      "\n",
      "Epoch 81, Itrs 14710/30000, Loss=0.187661\n",
      "Epoch 81, Itrs 14720/30000, Loss=0.201766\n",
      "Epoch 81, Itrs 14730/30000, Loss=0.203904\n",
      "Epoch 81, Itrs 14740/30000, Loss=0.176614\n",
      "Epoch 81, Itrs 14750/30000, Loss=0.207096\n",
      "Epoch 81, Itrs 14760/30000, Loss=0.212915\n",
      "Epoch 81, Itrs 14770/30000, Loss=0.224209\n",
      "Epoch 81, Itrs 14780/30000, Loss=0.238809\n",
      "Epoch 81, Itrs 14790/30000, Loss=0.195797\n",
      "Epoch 81, Itrs 14800/30000, Loss=0.161377\n",
      "Model saved as checkpoints/latest_deeplabv3plus_mobilenet_voc_os16.pth\n",
      "validation...\n"
     ]
    },
    {
     "name": "stderr",
     "output_type": "stream",
     "text": [
      "1449it [01:21, 17.81it/s]\n"
     ]
    },
    {
     "name": "stdout",
     "output_type": "stream",
     "text": [
      "\n",
      "Overall Acc: 0.904343\n",
      "Mean Acc: 0.709483\n",
      "FreqW Acc: 0.833238\n",
      "Mean IoU: 0.616438\n",
      "\n",
      "Model saved as checkpoints/best_deeplabv3plus_mobilenet_voc_os16.pth\n",
      "Epoch 81, Itrs 14810/30000, Loss=0.182638\n",
      "Epoch 81, Itrs 14820/30000, Loss=0.179992\n"
     ]
    },
    {
     "name": "stderr",
     "output_type": "stream",
     "text": [
      "/home/irfan/Desktop/Code/Linux-IO/python_38/lib/python3.8/site-packages/torchvision/transforms/functional.py:417: UserWarning: Argument 'interpolation' of type int is deprecated since 0.13 and will be removed in 0.15. Please use InterpolationMode enum.\n",
      "  warnings.warn(\n",
      "/home/irfan/Desktop/Code/Linux-IO/python_38/lib/python3.8/site-packages/torchvision/transforms/functional.py:417: UserWarning: Argument 'interpolation' of type int is deprecated since 0.13 and will be removed in 0.15. Please use InterpolationMode enum.\n",
      "  warnings.warn(\n"
     ]
    },
    {
     "name": "stdout",
     "output_type": "stream",
     "text": [
      "Epoch 82, Itrs 14830/30000, Loss=0.190379\n",
      "Epoch 82, Itrs 14840/30000, Loss=0.240837\n",
      "Epoch 82, Itrs 14850/30000, Loss=0.207031\n",
      "Epoch 82, Itrs 14860/30000, Loss=0.193276\n",
      "Epoch 82, Itrs 14870/30000, Loss=0.210096\n",
      "Epoch 82, Itrs 14880/30000, Loss=0.174683\n",
      "Epoch 82, Itrs 14890/30000, Loss=0.165367\n",
      "Epoch 82, Itrs 14900/30000, Loss=0.256804\n",
      "Model saved as checkpoints/latest_deeplabv3plus_mobilenet_voc_os16.pth\n",
      "validation...\n"
     ]
    },
    {
     "name": "stderr",
     "output_type": "stream",
     "text": [
      "1449it [01:15, 19.19it/s]\n"
     ]
    },
    {
     "name": "stdout",
     "output_type": "stream",
     "text": [
      "\n",
      "Overall Acc: 0.905860\n",
      "Mean Acc: 0.697220\n",
      "FreqW Acc: 0.833683\n",
      "Mean IoU: 0.608000\n",
      "\n",
      "Epoch 82, Itrs 14910/30000, Loss=0.191495\n",
      "Epoch 82, Itrs 14920/30000, Loss=0.214956\n",
      "Epoch 82, Itrs 14930/30000, Loss=0.262774\n",
      "Epoch 82, Itrs 14940/30000, Loss=0.194208\n",
      "Epoch 82, Itrs 14950/30000, Loss=0.215803\n",
      "Epoch 82, Itrs 14960/30000, Loss=0.209996\n",
      "Epoch 82, Itrs 14970/30000, Loss=0.251584\n",
      "Epoch 82, Itrs 14980/30000, Loss=0.161668\n",
      "Epoch 82, Itrs 14990/30000, Loss=0.224035\n",
      "Epoch 82, Itrs 15000/30000, Loss=0.187499\n",
      "Model saved as checkpoints/latest_deeplabv3plus_mobilenet_voc_os16.pth\n",
      "validation...\n"
     ]
    },
    {
     "name": "stderr",
     "output_type": "stream",
     "text": [
      "1449it [01:40, 14.46it/s]\n"
     ]
    },
    {
     "name": "stdout",
     "output_type": "stream",
     "text": [
      "\n",
      "Overall Acc: 0.903576\n",
      "Mean Acc: 0.707118\n",
      "FreqW Acc: 0.831740\n",
      "Mean IoU: 0.608186\n",
      "\n"
     ]
    },
    {
     "name": "stderr",
     "output_type": "stream",
     "text": [
      "/home/irfan/Desktop/Code/Linux-IO/python_38/lib/python3.8/site-packages/torchvision/transforms/functional.py:417: UserWarning: Argument 'interpolation' of type int is deprecated since 0.13 and will be removed in 0.15. Please use InterpolationMode enum.\n",
      "  warnings.warn(\n",
      "/home/irfan/Desktop/Code/Linux-IO/python_38/lib/python3.8/site-packages/torchvision/transforms/functional.py:417: UserWarning: Argument 'interpolation' of type int is deprecated since 0.13 and will be removed in 0.15. Please use InterpolationMode enum.\n",
      "  warnings.warn(\n"
     ]
    },
    {
     "name": "stdout",
     "output_type": "stream",
     "text": [
      "Epoch 83, Itrs 15010/30000, Loss=0.245334\n",
      "Epoch 83, Itrs 15020/30000, Loss=0.223838\n",
      "Epoch 83, Itrs 15030/30000, Loss=0.189543\n",
      "Epoch 83, Itrs 15040/30000, Loss=0.150167\n",
      "Epoch 83, Itrs 15050/30000, Loss=0.154957\n",
      "Epoch 83, Itrs 15060/30000, Loss=0.202179\n",
      "Epoch 83, Itrs 15070/30000, Loss=0.125464\n",
      "Epoch 83, Itrs 15080/30000, Loss=0.211101\n",
      "Epoch 83, Itrs 15090/30000, Loss=0.160645\n",
      "Epoch 83, Itrs 15100/30000, Loss=0.155728\n",
      "Model saved as checkpoints/latest_deeplabv3plus_mobilenet_voc_os16.pth\n",
      "validation...\n"
     ]
    },
    {
     "name": "stderr",
     "output_type": "stream",
     "text": [
      "1449it [01:49, 13.24it/s]\n"
     ]
    },
    {
     "name": "stdout",
     "output_type": "stream",
     "text": [
      "\n",
      "Overall Acc: 0.903153\n",
      "Mean Acc: 0.696590\n",
      "FreqW Acc: 0.829601\n",
      "Mean IoU: 0.605584\n",
      "\n",
      "Epoch 83, Itrs 15110/30000, Loss=0.196084\n",
      "Epoch 83, Itrs 15120/30000, Loss=0.173903\n",
      "Epoch 83, Itrs 15130/30000, Loss=0.182279\n",
      "Epoch 83, Itrs 15140/30000, Loss=0.203099\n",
      "Epoch 83, Itrs 15150/30000, Loss=0.162778\n",
      "Epoch 83, Itrs 15160/30000, Loss=0.205431\n",
      "Epoch 83, Itrs 15170/30000, Loss=0.209154\n",
      "Epoch 83, Itrs 15180/30000, Loss=0.253655\n"
     ]
    },
    {
     "name": "stderr",
     "output_type": "stream",
     "text": [
      "/home/irfan/Desktop/Code/Linux-IO/python_38/lib/python3.8/site-packages/torchvision/transforms/functional.py:417: UserWarning: Argument 'interpolation' of type int is deprecated since 0.13 and will be removed in 0.15. Please use InterpolationMode enum.\n",
      "  warnings.warn(\n",
      "/home/irfan/Desktop/Code/Linux-IO/python_38/lib/python3.8/site-packages/torchvision/transforms/functional.py:417: UserWarning: Argument 'interpolation' of type int is deprecated since 0.13 and will be removed in 0.15. Please use InterpolationMode enum.\n",
      "  warnings.warn(\n"
     ]
    },
    {
     "name": "stdout",
     "output_type": "stream",
     "text": [
      "Epoch 84, Itrs 15190/30000, Loss=0.219487\n",
      "Epoch 84, Itrs 15200/30000, Loss=0.230592\n",
      "Model saved as checkpoints/latest_deeplabv3plus_mobilenet_voc_os16.pth\n",
      "validation...\n"
     ]
    },
    {
     "name": "stderr",
     "output_type": "stream",
     "text": [
      "1449it [01:19, 18.34it/s]\n"
     ]
    },
    {
     "name": "stdout",
     "output_type": "stream",
     "text": [
      "\n",
      "Overall Acc: 0.902776\n",
      "Mean Acc: 0.715370\n",
      "FreqW Acc: 0.830317\n",
      "Mean IoU: 0.606836\n",
      "\n",
      "Epoch 84, Itrs 15210/30000, Loss=0.181813\n",
      "Epoch 84, Itrs 15220/30000, Loss=0.186103\n",
      "Epoch 84, Itrs 15230/30000, Loss=0.156967\n",
      "Epoch 84, Itrs 15240/30000, Loss=0.158892\n",
      "Epoch 84, Itrs 15250/30000, Loss=0.263544\n",
      "Epoch 84, Itrs 15260/30000, Loss=0.240600\n",
      "Epoch 84, Itrs 15270/30000, Loss=0.290572\n",
      "Epoch 84, Itrs 15280/30000, Loss=0.164323\n",
      "Epoch 84, Itrs 15290/30000, Loss=0.235873\n",
      "Epoch 84, Itrs 15300/30000, Loss=0.178275\n",
      "Model saved as checkpoints/latest_deeplabv3plus_mobilenet_voc_os16.pth\n",
      "validation...\n"
     ]
    },
    {
     "name": "stderr",
     "output_type": "stream",
     "text": [
      "1449it [01:31, 15.81it/s]\n"
     ]
    },
    {
     "name": "stdout",
     "output_type": "stream",
     "text": [
      "\n",
      "Overall Acc: 0.901904\n",
      "Mean Acc: 0.680209\n",
      "FreqW Acc: 0.827457\n",
      "Mean IoU: 0.593572\n",
      "\n",
      "Epoch 84, Itrs 15310/30000, Loss=0.252169\n",
      "Epoch 84, Itrs 15320/30000, Loss=0.225792\n",
      "Epoch 84, Itrs 15330/30000, Loss=0.188993\n",
      "Epoch 84, Itrs 15340/30000, Loss=0.243046\n",
      "Epoch 84, Itrs 15350/30000, Loss=0.268547\n",
      "Epoch 84, Itrs 15360/30000, Loss=0.194615\n",
      "Epoch 84, Itrs 15370/30000, Loss=0.215748\n"
     ]
    },
    {
     "name": "stderr",
     "output_type": "stream",
     "text": [
      "/home/irfan/Desktop/Code/Linux-IO/python_38/lib/python3.8/site-packages/torchvision/transforms/functional.py:417: UserWarning: Argument 'interpolation' of type int is deprecated since 0.13 and will be removed in 0.15. Please use InterpolationMode enum.\n",
      "  warnings.warn(\n",
      "/home/irfan/Desktop/Code/Linux-IO/python_38/lib/python3.8/site-packages/torchvision/transforms/functional.py:417: UserWarning: Argument 'interpolation' of type int is deprecated since 0.13 and will be removed in 0.15. Please use InterpolationMode enum.\n",
      "  warnings.warn(\n"
     ]
    },
    {
     "name": "stdout",
     "output_type": "stream",
     "text": [
      "Epoch 85, Itrs 15380/30000, Loss=0.190575\n",
      "Epoch 85, Itrs 15390/30000, Loss=0.239507\n",
      "Epoch 85, Itrs 15400/30000, Loss=0.196858\n",
      "Model saved as checkpoints/latest_deeplabv3plus_mobilenet_voc_os16.pth\n",
      "validation...\n"
     ]
    },
    {
     "name": "stderr",
     "output_type": "stream",
     "text": [
      "1449it [01:36, 15.06it/s]\n"
     ]
    },
    {
     "name": "stdout",
     "output_type": "stream",
     "text": [
      "\n",
      "Overall Acc: 0.903673\n",
      "Mean Acc: 0.692840\n",
      "FreqW Acc: 0.830531\n",
      "Mean IoU: 0.604061\n",
      "\n",
      "Epoch 85, Itrs 15410/30000, Loss=0.254150\n",
      "Epoch 85, Itrs 15420/30000, Loss=0.215898\n",
      "Epoch 85, Itrs 15430/30000, Loss=0.196988\n",
      "Epoch 85, Itrs 15440/30000, Loss=0.229099\n",
      "Epoch 85, Itrs 15450/30000, Loss=0.201961\n",
      "Epoch 85, Itrs 15460/30000, Loss=0.169269\n",
      "Epoch 85, Itrs 15470/30000, Loss=0.262196\n",
      "Epoch 85, Itrs 15480/30000, Loss=0.165552\n",
      "Epoch 85, Itrs 15490/30000, Loss=0.155959\n",
      "Epoch 85, Itrs 15500/30000, Loss=0.248390\n",
      "Model saved as checkpoints/latest_deeplabv3plus_mobilenet_voc_os16.pth\n",
      "validation...\n"
     ]
    },
    {
     "name": "stderr",
     "output_type": "stream",
     "text": [
      "1449it [01:48, 13.30it/s]\n"
     ]
    },
    {
     "name": "stdout",
     "output_type": "stream",
     "text": [
      "\n",
      "Overall Acc: 0.904192\n",
      "Mean Acc: 0.698745\n",
      "FreqW Acc: 0.831327\n",
      "Mean IoU: 0.607032\n",
      "\n",
      "Epoch 85, Itrs 15510/30000, Loss=0.169423\n",
      "Epoch 85, Itrs 15520/30000, Loss=0.204182\n",
      "Epoch 85, Itrs 15530/30000, Loss=0.191864\n",
      "Epoch 85, Itrs 15540/30000, Loss=0.216305\n",
      "Epoch 85, Itrs 15550/30000, Loss=0.182249\n"
     ]
    },
    {
     "name": "stderr",
     "output_type": "stream",
     "text": [
      "/home/irfan/Desktop/Code/Linux-IO/python_38/lib/python3.8/site-packages/torchvision/transforms/functional.py:417: UserWarning: Argument 'interpolation' of type int is deprecated since 0.13 and will be removed in 0.15. Please use InterpolationMode enum.\n",
      "  warnings.warn(\n",
      "/home/irfan/Desktop/Code/Linux-IO/python_38/lib/python3.8/site-packages/torchvision/transforms/functional.py:417: UserWarning: Argument 'interpolation' of type int is deprecated since 0.13 and will be removed in 0.15. Please use InterpolationMode enum.\n",
      "  warnings.warn(\n"
     ]
    },
    {
     "name": "stdout",
     "output_type": "stream",
     "text": [
      "Epoch 86, Itrs 15560/30000, Loss=0.143971\n",
      "Epoch 86, Itrs 15570/30000, Loss=0.198222\n",
      "Epoch 86, Itrs 15580/30000, Loss=0.212133\n",
      "Epoch 86, Itrs 15590/30000, Loss=0.167608\n",
      "Epoch 86, Itrs 15600/30000, Loss=0.224674\n",
      "Model saved as checkpoints/latest_deeplabv3plus_mobilenet_voc_os16.pth\n",
      "validation...\n"
     ]
    },
    {
     "name": "stderr",
     "output_type": "stream",
     "text": [
      "1449it [01:53, 12.80it/s]\n"
     ]
    },
    {
     "name": "stdout",
     "output_type": "stream",
     "text": [
      "\n",
      "Overall Acc: 0.905077\n",
      "Mean Acc: 0.717850\n",
      "FreqW Acc: 0.835611\n",
      "Mean IoU: 0.617391\n",
      "\n",
      "Model saved as checkpoints/best_deeplabv3plus_mobilenet_voc_os16.pth\n",
      "Epoch 86, Itrs 15610/30000, Loss=0.220979\n",
      "Epoch 86, Itrs 15620/30000, Loss=0.164048\n",
      "Epoch 86, Itrs 15630/30000, Loss=0.219424\n",
      "Epoch 86, Itrs 15640/30000, Loss=0.182723\n",
      "Epoch 86, Itrs 15650/30000, Loss=0.190695\n",
      "Epoch 86, Itrs 15660/30000, Loss=0.183061\n",
      "Epoch 86, Itrs 15670/30000, Loss=0.217155\n",
      "Epoch 86, Itrs 15680/30000, Loss=0.178774\n",
      "Epoch 86, Itrs 15690/30000, Loss=0.184914\n",
      "Epoch 86, Itrs 15700/30000, Loss=0.255900\n",
      "Model saved as checkpoints/latest_deeplabv3plus_mobilenet_voc_os16.pth\n",
      "validation...\n"
     ]
    },
    {
     "name": "stderr",
     "output_type": "stream",
     "text": [
      "1449it [01:39, 14.53it/s]\n"
     ]
    },
    {
     "name": "stdout",
     "output_type": "stream",
     "text": [
      "\n",
      "Overall Acc: 0.905235\n",
      "Mean Acc: 0.697962\n",
      "FreqW Acc: 0.833830\n",
      "Mean IoU: 0.611093\n",
      "\n",
      "Epoch 86, Itrs 15710/30000, Loss=0.177062\n",
      "Epoch 86, Itrs 15720/30000, Loss=0.165607\n",
      "Epoch 86, Itrs 15730/30000, Loss=0.214647\n"
     ]
    },
    {
     "name": "stderr",
     "output_type": "stream",
     "text": [
      "/home/irfan/Desktop/Code/Linux-IO/python_38/lib/python3.8/site-packages/torchvision/transforms/functional.py:417: UserWarning: Argument 'interpolation' of type int is deprecated since 0.13 and will be removed in 0.15. Please use InterpolationMode enum.\n",
      "  warnings.warn(\n",
      "/home/irfan/Desktop/Code/Linux-IO/python_38/lib/python3.8/site-packages/torchvision/transforms/functional.py:417: UserWarning: Argument 'interpolation' of type int is deprecated since 0.13 and will be removed in 0.15. Please use InterpolationMode enum.\n",
      "  warnings.warn(\n"
     ]
    },
    {
     "name": "stdout",
     "output_type": "stream",
     "text": [
      "Epoch 87, Itrs 15740/30000, Loss=0.251104\n",
      "Epoch 87, Itrs 15750/30000, Loss=0.236054\n",
      "Epoch 87, Itrs 15760/30000, Loss=0.219258\n",
      "Epoch 87, Itrs 15770/30000, Loss=0.181105\n",
      "Epoch 87, Itrs 15780/30000, Loss=0.167318\n",
      "Epoch 87, Itrs 15790/30000, Loss=0.162967\n",
      "Epoch 87, Itrs 15800/30000, Loss=0.195287\n",
      "Model saved as checkpoints/latest_deeplabv3plus_mobilenet_voc_os16.pth\n",
      "validation...\n"
     ]
    },
    {
     "name": "stderr",
     "output_type": "stream",
     "text": [
      "1449it [01:49, 13.25it/s]\n"
     ]
    },
    {
     "name": "stdout",
     "output_type": "stream",
     "text": [
      "\n",
      "Overall Acc: 0.902096\n",
      "Mean Acc: 0.684120\n",
      "FreqW Acc: 0.827615\n",
      "Mean IoU: 0.598366\n",
      "\n",
      "Epoch 87, Itrs 15810/30000, Loss=0.186658\n",
      "Epoch 87, Itrs 15820/30000, Loss=0.262016\n",
      "Epoch 87, Itrs 15830/30000, Loss=0.190962\n",
      "Epoch 87, Itrs 15840/30000, Loss=0.165859\n",
      "Epoch 87, Itrs 15850/30000, Loss=0.211624\n",
      "Epoch 87, Itrs 15860/30000, Loss=0.215746\n",
      "Epoch 87, Itrs 15870/30000, Loss=0.226094\n",
      "Epoch 87, Itrs 15880/30000, Loss=0.170785\n",
      "Epoch 87, Itrs 15890/30000, Loss=0.196144\n",
      "Epoch 87, Itrs 15900/30000, Loss=0.210413\n",
      "Model saved as checkpoints/latest_deeplabv3plus_mobilenet_voc_os16.pth\n",
      "validation...\n"
     ]
    },
    {
     "name": "stderr",
     "output_type": "stream",
     "text": [
      "1449it [01:34, 15.27it/s]\n"
     ]
    },
    {
     "name": "stdout",
     "output_type": "stream",
     "text": [
      "\n",
      "Overall Acc: 0.903427\n",
      "Mean Acc: 0.720920\n",
      "FreqW Acc: 0.833384\n",
      "Mean IoU: 0.616678\n",
      "\n",
      "Epoch 87, Itrs 15910/30000, Loss=0.250158\n",
      "Epoch 87, Itrs 15920/30000, Loss=0.211558\n"
     ]
    },
    {
     "name": "stderr",
     "output_type": "stream",
     "text": [
      "/home/irfan/Desktop/Code/Linux-IO/python_38/lib/python3.8/site-packages/torchvision/transforms/functional.py:417: UserWarning: Argument 'interpolation' of type int is deprecated since 0.13 and will be removed in 0.15. Please use InterpolationMode enum.\n",
      "  warnings.warn(\n",
      "/home/irfan/Desktop/Code/Linux-IO/python_38/lib/python3.8/site-packages/torchvision/transforms/functional.py:417: UserWarning: Argument 'interpolation' of type int is deprecated since 0.13 and will be removed in 0.15. Please use InterpolationMode enum.\n",
      "  warnings.warn(\n"
     ]
    },
    {
     "name": "stdout",
     "output_type": "stream",
     "text": [
      "Epoch 88, Itrs 15930/30000, Loss=0.198702\n",
      "Epoch 88, Itrs 15940/30000, Loss=0.187176\n",
      "Epoch 88, Itrs 15950/30000, Loss=0.199515\n",
      "Epoch 88, Itrs 15960/30000, Loss=0.231677\n",
      "Epoch 88, Itrs 15970/30000, Loss=0.204327\n",
      "Epoch 88, Itrs 15980/30000, Loss=0.245123\n",
      "Epoch 88, Itrs 15990/30000, Loss=0.191859\n",
      "Epoch 88, Itrs 16000/30000, Loss=0.200481\n",
      "Model saved as checkpoints/latest_deeplabv3plus_mobilenet_voc_os16.pth\n",
      "validation...\n"
     ]
    },
    {
     "name": "stderr",
     "output_type": "stream",
     "text": [
      "1449it [01:01, 23.60it/s]\n"
     ]
    },
    {
     "name": "stdout",
     "output_type": "stream",
     "text": [
      "\n",
      "Overall Acc: 0.902966\n",
      "Mean Acc: 0.705274\n",
      "FreqW Acc: 0.830555\n",
      "Mean IoU: 0.608051\n",
      "\n",
      "Epoch 88, Itrs 16010/30000, Loss=0.201260\n",
      "Epoch 88, Itrs 16020/30000, Loss=0.230571\n",
      "Epoch 88, Itrs 16030/30000, Loss=0.182724\n",
      "Epoch 88, Itrs 16040/30000, Loss=0.194253\n",
      "Epoch 88, Itrs 16050/30000, Loss=0.205344\n",
      "Epoch 88, Itrs 16060/30000, Loss=0.162965\n",
      "Epoch 88, Itrs 16070/30000, Loss=0.239053\n",
      "Epoch 88, Itrs 16080/30000, Loss=0.167525\n",
      "Epoch 88, Itrs 16090/30000, Loss=0.201489\n",
      "Epoch 88, Itrs 16100/30000, Loss=0.177791\n",
      "Model saved as checkpoints/latest_deeplabv3plus_mobilenet_voc_os16.pth\n",
      "validation...\n"
     ]
    },
    {
     "name": "stderr",
     "output_type": "stream",
     "text": [
      "1449it [01:01, 23.61it/s]\n"
     ]
    },
    {
     "name": "stdout",
     "output_type": "stream",
     "text": [
      "\n",
      "Overall Acc: 0.900640\n",
      "Mean Acc: 0.719472\n",
      "FreqW Acc: 0.829300\n",
      "Mean IoU: 0.606271\n",
      "\n"
     ]
    },
    {
     "name": "stderr",
     "output_type": "stream",
     "text": [
      "/home/irfan/Desktop/Code/Linux-IO/python_38/lib/python3.8/site-packages/torchvision/transforms/functional.py:417: UserWarning: Argument 'interpolation' of type int is deprecated since 0.13 and will be removed in 0.15. Please use InterpolationMode enum.\n",
      "  warnings.warn(\n",
      "/home/irfan/Desktop/Code/Linux-IO/python_38/lib/python3.8/site-packages/torchvision/transforms/functional.py:417: UserWarning: Argument 'interpolation' of type int is deprecated since 0.13 and will be removed in 0.15. Please use InterpolationMode enum.\n",
      "  warnings.warn(\n"
     ]
    },
    {
     "name": "stdout",
     "output_type": "stream",
     "text": [
      "Epoch 89, Itrs 16110/30000, Loss=0.191657\n",
      "Epoch 89, Itrs 16120/30000, Loss=0.220772\n",
      "Epoch 89, Itrs 16130/30000, Loss=0.193116\n",
      "Epoch 89, Itrs 16140/30000, Loss=0.179085\n",
      "Epoch 89, Itrs 16150/30000, Loss=0.243827\n",
      "Epoch 89, Itrs 16160/30000, Loss=0.191491\n",
      "Epoch 89, Itrs 16170/30000, Loss=0.239062\n",
      "Epoch 89, Itrs 16180/30000, Loss=0.191938\n",
      "Epoch 89, Itrs 16190/30000, Loss=0.183871\n",
      "Epoch 89, Itrs 16200/30000, Loss=0.234174\n",
      "Model saved as checkpoints/latest_deeplabv3plus_mobilenet_voc_os16.pth\n",
      "validation...\n"
     ]
    },
    {
     "name": "stderr",
     "output_type": "stream",
     "text": [
      "1449it [01:04, 22.48it/s]\n"
     ]
    },
    {
     "name": "stdout",
     "output_type": "stream",
     "text": [
      "\n",
      "Overall Acc: 0.900730\n",
      "Mean Acc: 0.714019\n",
      "FreqW Acc: 0.829054\n",
      "Mean IoU: 0.599976\n",
      "\n",
      "Epoch 89, Itrs 16210/30000, Loss=0.259649\n",
      "Epoch 89, Itrs 16220/30000, Loss=0.145044\n",
      "Epoch 89, Itrs 16230/30000, Loss=0.182212\n",
      "Epoch 89, Itrs 16240/30000, Loss=0.174216\n",
      "Epoch 89, Itrs 16250/30000, Loss=0.166529\n",
      "Epoch 89, Itrs 16260/30000, Loss=0.217322\n",
      "Epoch 89, Itrs 16270/30000, Loss=0.191142\n",
      "Epoch 89, Itrs 16280/30000, Loss=0.168671\n"
     ]
    },
    {
     "name": "stderr",
     "output_type": "stream",
     "text": [
      "/home/irfan/Desktop/Code/Linux-IO/python_38/lib/python3.8/site-packages/torchvision/transforms/functional.py:417: UserWarning: Argument 'interpolation' of type int is deprecated since 0.13 and will be removed in 0.15. Please use InterpolationMode enum.\n",
      "  warnings.warn(\n",
      "/home/irfan/Desktop/Code/Linux-IO/python_38/lib/python3.8/site-packages/torchvision/transforms/functional.py:417: UserWarning: Argument 'interpolation' of type int is deprecated since 0.13 and will be removed in 0.15. Please use InterpolationMode enum.\n",
      "  warnings.warn(\n"
     ]
    },
    {
     "name": "stdout",
     "output_type": "stream",
     "text": [
      "Epoch 90, Itrs 16290/30000, Loss=0.193015\n",
      "Epoch 90, Itrs 16300/30000, Loss=0.160347\n",
      "Model saved as checkpoints/latest_deeplabv3plus_mobilenet_voc_os16.pth\n",
      "validation...\n"
     ]
    },
    {
     "name": "stderr",
     "output_type": "stream",
     "text": [
      "1449it [01:05, 22.07it/s]\n"
     ]
    },
    {
     "name": "stdout",
     "output_type": "stream",
     "text": [
      "\n",
      "Overall Acc: 0.905618\n",
      "Mean Acc: 0.712652\n",
      "FreqW Acc: 0.835300\n",
      "Mean IoU: 0.617402\n",
      "\n",
      "Model saved as checkpoints/best_deeplabv3plus_mobilenet_voc_os16.pth\n",
      "Epoch 90, Itrs 16310/30000, Loss=0.150480\n",
      "Epoch 90, Itrs 16320/30000, Loss=0.253460\n",
      "Epoch 90, Itrs 16330/30000, Loss=0.170983\n",
      "Epoch 90, Itrs 16340/30000, Loss=0.211213\n",
      "Epoch 90, Itrs 16350/30000, Loss=0.229311\n",
      "Epoch 90, Itrs 16360/30000, Loss=0.194243\n",
      "Epoch 90, Itrs 16370/30000, Loss=0.218099\n",
      "Epoch 90, Itrs 16380/30000, Loss=0.156095\n",
      "Epoch 90, Itrs 16390/30000, Loss=0.215742\n",
      "Epoch 90, Itrs 16400/30000, Loss=0.168928\n",
      "Model saved as checkpoints/latest_deeplabv3plus_mobilenet_voc_os16.pth\n",
      "validation...\n"
     ]
    },
    {
     "name": "stderr",
     "output_type": "stream",
     "text": [
      "1449it [01:06, 21.67it/s]\n"
     ]
    },
    {
     "name": "stdout",
     "output_type": "stream",
     "text": [
      "\n",
      "Overall Acc: 0.903198\n",
      "Mean Acc: 0.717971\n",
      "FreqW Acc: 0.832406\n",
      "Mean IoU: 0.609575\n",
      "\n",
      "Epoch 90, Itrs 16410/30000, Loss=0.229037\n",
      "Epoch 90, Itrs 16420/30000, Loss=0.168364\n",
      "Epoch 90, Itrs 16430/30000, Loss=0.217367\n",
      "Epoch 90, Itrs 16440/30000, Loss=0.142565\n",
      "Epoch 90, Itrs 16450/30000, Loss=0.316744\n",
      "Epoch 90, Itrs 16460/30000, Loss=0.166631\n",
      "Epoch 90, Itrs 16470/30000, Loss=0.175146\n"
     ]
    },
    {
     "name": "stderr",
     "output_type": "stream",
     "text": [
      "/home/irfan/Desktop/Code/Linux-IO/python_38/lib/python3.8/site-packages/torchvision/transforms/functional.py:417: UserWarning: Argument 'interpolation' of type int is deprecated since 0.13 and will be removed in 0.15. Please use InterpolationMode enum.\n",
      "  warnings.warn(\n",
      "/home/irfan/Desktop/Code/Linux-IO/python_38/lib/python3.8/site-packages/torchvision/transforms/functional.py:417: UserWarning: Argument 'interpolation' of type int is deprecated since 0.13 and will be removed in 0.15. Please use InterpolationMode enum.\n",
      "  warnings.warn(\n"
     ]
    },
    {
     "name": "stdout",
     "output_type": "stream",
     "text": [
      "Epoch 91, Itrs 16480/30000, Loss=0.154417\n",
      "Epoch 91, Itrs 16490/30000, Loss=0.168770\n",
      "Epoch 91, Itrs 16500/30000, Loss=0.183512\n",
      "Model saved as checkpoints/latest_deeplabv3plus_mobilenet_voc_os16.pth\n",
      "validation...\n"
     ]
    },
    {
     "name": "stderr",
     "output_type": "stream",
     "text": [
      "1449it [01:05, 21.99it/s]\n"
     ]
    },
    {
     "name": "stdout",
     "output_type": "stream",
     "text": [
      "\n",
      "Overall Acc: 0.904408\n",
      "Mean Acc: 0.699044\n",
      "FreqW Acc: 0.831381\n",
      "Mean IoU: 0.609174\n",
      "\n",
      "Epoch 91, Itrs 16510/30000, Loss=0.243722\n",
      "Epoch 91, Itrs 16520/30000, Loss=0.208151\n",
      "Epoch 91, Itrs 16530/30000, Loss=0.222582\n",
      "Epoch 91, Itrs 16540/30000, Loss=0.203689\n",
      "Epoch 91, Itrs 16550/30000, Loss=0.196813\n",
      "Epoch 91, Itrs 16560/30000, Loss=0.227931\n",
      "Epoch 91, Itrs 16570/30000, Loss=0.220429\n",
      "Epoch 91, Itrs 16580/30000, Loss=0.194703\n",
      "Epoch 91, Itrs 16590/30000, Loss=0.172383\n",
      "Epoch 91, Itrs 16600/30000, Loss=0.196591\n",
      "Model saved as checkpoints/latest_deeplabv3plus_mobilenet_voc_os16.pth\n",
      "validation...\n"
     ]
    },
    {
     "name": "stderr",
     "output_type": "stream",
     "text": [
      "1449it [01:06, 21.73it/s]\n"
     ]
    },
    {
     "name": "stdout",
     "output_type": "stream",
     "text": [
      "\n",
      "Overall Acc: 0.902792\n",
      "Mean Acc: 0.708248\n",
      "FreqW Acc: 0.830830\n",
      "Mean IoU: 0.608667\n",
      "\n",
      "Epoch 91, Itrs 16610/30000, Loss=0.189533\n",
      "Epoch 91, Itrs 16620/30000, Loss=0.203817\n",
      "Epoch 91, Itrs 16630/30000, Loss=0.171071\n",
      "Epoch 91, Itrs 16640/30000, Loss=0.267822\n",
      "Epoch 91, Itrs 16650/30000, Loss=0.186588\n"
     ]
    },
    {
     "name": "stderr",
     "output_type": "stream",
     "text": [
      "/home/irfan/Desktop/Code/Linux-IO/python_38/lib/python3.8/site-packages/torchvision/transforms/functional.py:417: UserWarning: Argument 'interpolation' of type int is deprecated since 0.13 and will be removed in 0.15. Please use InterpolationMode enum.\n",
      "  warnings.warn(\n",
      "/home/irfan/Desktop/Code/Linux-IO/python_38/lib/python3.8/site-packages/torchvision/transforms/functional.py:417: UserWarning: Argument 'interpolation' of type int is deprecated since 0.13 and will be removed in 0.15. Please use InterpolationMode enum.\n",
      "  warnings.warn(\n"
     ]
    },
    {
     "name": "stdout",
     "output_type": "stream",
     "text": [
      "Epoch 92, Itrs 16660/30000, Loss=0.219728\n",
      "Epoch 92, Itrs 16670/30000, Loss=0.237236\n",
      "Epoch 92, Itrs 16680/30000, Loss=0.143682\n",
      "Epoch 92, Itrs 16690/30000, Loss=0.193418\n",
      "Epoch 92, Itrs 16700/30000, Loss=0.160992\n",
      "Model saved as checkpoints/latest_deeplabv3plus_mobilenet_voc_os16.pth\n",
      "validation...\n"
     ]
    },
    {
     "name": "stderr",
     "output_type": "stream",
     "text": [
      "1449it [01:06, 21.76it/s]\n"
     ]
    },
    {
     "name": "stdout",
     "output_type": "stream",
     "text": [
      "\n",
      "Overall Acc: 0.905000\n",
      "Mean Acc: 0.724074\n",
      "FreqW Acc: 0.835091\n",
      "Mean IoU: 0.617925\n",
      "\n",
      "Model saved as checkpoints/best_deeplabv3plus_mobilenet_voc_os16.pth\n",
      "Epoch 92, Itrs 16710/30000, Loss=0.213854\n",
      "Epoch 92, Itrs 16720/30000, Loss=0.216012\n",
      "Epoch 92, Itrs 16730/30000, Loss=0.171507\n",
      "Epoch 92, Itrs 16740/30000, Loss=0.203377\n",
      "Epoch 92, Itrs 16750/30000, Loss=0.154533\n",
      "Epoch 92, Itrs 16760/30000, Loss=0.158486\n",
      "Epoch 92, Itrs 16770/30000, Loss=0.174629\n",
      "Epoch 92, Itrs 16780/30000, Loss=0.204285\n",
      "Epoch 92, Itrs 16790/30000, Loss=0.187999\n",
      "Epoch 92, Itrs 16800/30000, Loss=0.176022\n",
      "Model saved as checkpoints/latest_deeplabv3plus_mobilenet_voc_os16.pth\n",
      "validation...\n"
     ]
    },
    {
     "name": "stderr",
     "output_type": "stream",
     "text": [
      "1449it [01:09, 20.77it/s]\n"
     ]
    },
    {
     "name": "stdout",
     "output_type": "stream",
     "text": [
      "\n",
      "Overall Acc: 0.905560\n",
      "Mean Acc: 0.701695\n",
      "FreqW Acc: 0.833497\n",
      "Mean IoU: 0.613042\n",
      "\n",
      "Epoch 92, Itrs 16810/30000, Loss=0.230393\n",
      "Epoch 92, Itrs 16820/30000, Loss=0.187483\n",
      "Epoch 92, Itrs 16830/30000, Loss=0.217886\n"
     ]
    },
    {
     "name": "stderr",
     "output_type": "stream",
     "text": [
      "/home/irfan/Desktop/Code/Linux-IO/python_38/lib/python3.8/site-packages/torchvision/transforms/functional.py:417: UserWarning: Argument 'interpolation' of type int is deprecated since 0.13 and will be removed in 0.15. Please use InterpolationMode enum.\n",
      "  warnings.warn(\n",
      "/home/irfan/Desktop/Code/Linux-IO/python_38/lib/python3.8/site-packages/torchvision/transforms/functional.py:417: UserWarning: Argument 'interpolation' of type int is deprecated since 0.13 and will be removed in 0.15. Please use InterpolationMode enum.\n",
      "  warnings.warn(\n"
     ]
    },
    {
     "name": "stdout",
     "output_type": "stream",
     "text": [
      "Epoch 93, Itrs 16840/30000, Loss=0.178067\n",
      "Epoch 93, Itrs 16850/30000, Loss=0.214123\n",
      "Epoch 93, Itrs 16860/30000, Loss=0.196193\n",
      "Epoch 93, Itrs 16870/30000, Loss=0.180938\n",
      "Epoch 93, Itrs 16880/30000, Loss=0.197034\n",
      "Epoch 93, Itrs 16890/30000, Loss=0.165504\n",
      "Epoch 93, Itrs 16900/30000, Loss=0.204074\n",
      "Model saved as checkpoints/latest_deeplabv3plus_mobilenet_voc_os16.pth\n",
      "validation...\n"
     ]
    },
    {
     "name": "stderr",
     "output_type": "stream",
     "text": [
      "1449it [01:06, 21.64it/s]\n"
     ]
    },
    {
     "name": "stdout",
     "output_type": "stream",
     "text": [
      "\n",
      "Overall Acc: 0.904877\n",
      "Mean Acc: 0.708136\n",
      "FreqW Acc: 0.833199\n",
      "Mean IoU: 0.614814\n",
      "\n",
      "Epoch 93, Itrs 16910/30000, Loss=0.229119\n",
      "Epoch 93, Itrs 16920/30000, Loss=0.142879\n",
      "Epoch 93, Itrs 16930/30000, Loss=0.157762\n",
      "Epoch 93, Itrs 16940/30000, Loss=0.223382\n",
      "Epoch 93, Itrs 16950/30000, Loss=0.181392\n",
      "Epoch 93, Itrs 16960/30000, Loss=0.255134\n",
      "Epoch 93, Itrs 16970/30000, Loss=0.176985\n",
      "Epoch 93, Itrs 16980/30000, Loss=0.180458\n",
      "Epoch 93, Itrs 16990/30000, Loss=0.234279\n",
      "Epoch 93, Itrs 17000/30000, Loss=0.176817\n",
      "Model saved as checkpoints/latest_deeplabv3plus_mobilenet_voc_os16.pth\n",
      "validation...\n"
     ]
    },
    {
     "name": "stderr",
     "output_type": "stream",
     "text": [
      "1449it [01:06, 21.65it/s]\n"
     ]
    },
    {
     "name": "stdout",
     "output_type": "stream",
     "text": [
      "\n",
      "Overall Acc: 0.903988\n",
      "Mean Acc: 0.686333\n",
      "FreqW Acc: 0.829902\n",
      "Mean IoU: 0.605156\n",
      "\n",
      "Epoch 93, Itrs 17010/30000, Loss=0.170404\n"
     ]
    },
    {
     "name": "stderr",
     "output_type": "stream",
     "text": [
      "/home/irfan/Desktop/Code/Linux-IO/python_38/lib/python3.8/site-packages/torchvision/transforms/functional.py:417: UserWarning: Argument 'interpolation' of type int is deprecated since 0.13 and will be removed in 0.15. Please use InterpolationMode enum.\n",
      "  warnings.warn(\n",
      "/home/irfan/Desktop/Code/Linux-IO/python_38/lib/python3.8/site-packages/torchvision/transforms/functional.py:417: UserWarning: Argument 'interpolation' of type int is deprecated since 0.13 and will be removed in 0.15. Please use InterpolationMode enum.\n",
      "  warnings.warn(\n"
     ]
    },
    {
     "name": "stdout",
     "output_type": "stream",
     "text": [
      "Epoch 94, Itrs 17020/30000, Loss=0.198711\n",
      "Epoch 94, Itrs 17030/30000, Loss=0.173376\n",
      "Epoch 94, Itrs 17040/30000, Loss=0.240719\n",
      "Epoch 94, Itrs 17050/30000, Loss=0.184959\n",
      "Epoch 94, Itrs 17060/30000, Loss=0.204871\n",
      "Epoch 94, Itrs 17070/30000, Loss=0.170875\n",
      "Epoch 94, Itrs 17080/30000, Loss=0.217360\n",
      "Epoch 94, Itrs 17090/30000, Loss=0.164247\n",
      "Epoch 94, Itrs 17100/30000, Loss=0.164594\n",
      "Model saved as checkpoints/latest_deeplabv3plus_mobilenet_voc_os16.pth\n",
      "validation...\n"
     ]
    },
    {
     "name": "stderr",
     "output_type": "stream",
     "text": [
      "1449it [01:10, 20.62it/s]\n"
     ]
    },
    {
     "name": "stdout",
     "output_type": "stream",
     "text": [
      "\n",
      "Overall Acc: 0.901867\n",
      "Mean Acc: 0.709073\n",
      "FreqW Acc: 0.830489\n",
      "Mean IoU: 0.606216\n",
      "\n",
      "Epoch 94, Itrs 17110/30000, Loss=0.182625\n",
      "Epoch 94, Itrs 17120/30000, Loss=0.181675\n",
      "Epoch 94, Itrs 17130/30000, Loss=0.194837\n",
      "Epoch 94, Itrs 17140/30000, Loss=0.196482\n",
      "Epoch 94, Itrs 17150/30000, Loss=0.234681\n",
      "Epoch 94, Itrs 17160/30000, Loss=0.186218\n",
      "Epoch 94, Itrs 17170/30000, Loss=0.145101\n",
      "Epoch 94, Itrs 17180/30000, Loss=0.126944\n",
      "Epoch 94, Itrs 17190/30000, Loss=0.165300\n",
      "Epoch 94, Itrs 17200/30000, Loss=0.191789\n",
      "Model saved as checkpoints/latest_deeplabv3plus_mobilenet_voc_os16.pth\n",
      "validation...\n"
     ]
    },
    {
     "name": "stderr",
     "output_type": "stream",
     "text": [
      "1449it [01:12, 19.92it/s]\n"
     ]
    },
    {
     "name": "stdout",
     "output_type": "stream",
     "text": [
      "\n",
      "Overall Acc: 0.904307\n",
      "Mean Acc: 0.705108\n",
      "FreqW Acc: 0.832651\n",
      "Mean IoU: 0.612445\n",
      "\n"
     ]
    },
    {
     "name": "stderr",
     "output_type": "stream",
     "text": [
      "/home/irfan/Desktop/Code/Linux-IO/python_38/lib/python3.8/site-packages/torchvision/transforms/functional.py:417: UserWarning: Argument 'interpolation' of type int is deprecated since 0.13 and will be removed in 0.15. Please use InterpolationMode enum.\n",
      "  warnings.warn(\n",
      "/home/irfan/Desktop/Code/Linux-IO/python_38/lib/python3.8/site-packages/torchvision/transforms/functional.py:417: UserWarning: Argument 'interpolation' of type int is deprecated since 0.13 and will be removed in 0.15. Please use InterpolationMode enum.\n",
      "  warnings.warn(\n"
     ]
    },
    {
     "name": "stdout",
     "output_type": "stream",
     "text": [
      "Epoch 95, Itrs 17210/30000, Loss=0.168979\n",
      "Epoch 95, Itrs 17220/30000, Loss=0.180518\n",
      "Epoch 95, Itrs 17230/30000, Loss=0.153787\n",
      "Epoch 95, Itrs 17240/30000, Loss=0.197067\n",
      "Epoch 95, Itrs 17250/30000, Loss=0.174928\n",
      "Epoch 95, Itrs 17260/30000, Loss=0.167089\n",
      "Epoch 95, Itrs 17270/30000, Loss=0.160943\n",
      "Epoch 95, Itrs 17280/30000, Loss=0.144237\n",
      "Epoch 95, Itrs 17290/30000, Loss=0.184662\n",
      "Epoch 95, Itrs 17300/30000, Loss=0.188755\n",
      "Model saved as checkpoints/latest_deeplabv3plus_mobilenet_voc_os16.pth\n",
      "validation...\n"
     ]
    },
    {
     "name": "stderr",
     "output_type": "stream",
     "text": [
      "1449it [01:11, 20.39it/s]\n"
     ]
    },
    {
     "name": "stdout",
     "output_type": "stream",
     "text": [
      "\n",
      "Overall Acc: 0.904806\n",
      "Mean Acc: 0.700737\n",
      "FreqW Acc: 0.833102\n",
      "Mean IoU: 0.608701\n",
      "\n",
      "Epoch 95, Itrs 17310/30000, Loss=0.167801\n",
      "Epoch 95, Itrs 17320/30000, Loss=0.243447\n",
      "Epoch 95, Itrs 17330/30000, Loss=0.282462\n",
      "Epoch 95, Itrs 17340/30000, Loss=0.226993\n",
      "Epoch 95, Itrs 17350/30000, Loss=0.186827\n",
      "Epoch 95, Itrs 17360/30000, Loss=0.166709\n",
      "Epoch 95, Itrs 17370/30000, Loss=0.148915\n",
      "Epoch 95, Itrs 17380/30000, Loss=0.156704\n"
     ]
    },
    {
     "name": "stderr",
     "output_type": "stream",
     "text": [
      "/home/irfan/Desktop/Code/Linux-IO/python_38/lib/python3.8/site-packages/torchvision/transforms/functional.py:417: UserWarning: Argument 'interpolation' of type int is deprecated since 0.13 and will be removed in 0.15. Please use InterpolationMode enum.\n",
      "  warnings.warn(\n",
      "/home/irfan/Desktop/Code/Linux-IO/python_38/lib/python3.8/site-packages/torchvision/transforms/functional.py:417: UserWarning: Argument 'interpolation' of type int is deprecated since 0.13 and will be removed in 0.15. Please use InterpolationMode enum.\n",
      "  warnings.warn(\n"
     ]
    },
    {
     "name": "stdout",
     "output_type": "stream",
     "text": [
      "Epoch 96, Itrs 17390/30000, Loss=0.159443\n",
      "Epoch 96, Itrs 17400/30000, Loss=0.180752\n",
      "Model saved as checkpoints/latest_deeplabv3plus_mobilenet_voc_os16.pth\n",
      "validation...\n"
     ]
    },
    {
     "name": "stderr",
     "output_type": "stream",
     "text": [
      "1449it [01:07, 21.38it/s]\n"
     ]
    },
    {
     "name": "stdout",
     "output_type": "stream",
     "text": [
      "\n",
      "Overall Acc: 0.902667\n",
      "Mean Acc: 0.694876\n",
      "FreqW Acc: 0.829620\n",
      "Mean IoU: 0.603425\n",
      "\n",
      "Epoch 96, Itrs 17410/30000, Loss=0.147340\n",
      "Epoch 96, Itrs 17420/30000, Loss=0.204995\n",
      "Epoch 96, Itrs 17430/30000, Loss=0.172509\n",
      "Epoch 96, Itrs 17440/30000, Loss=0.187747\n",
      "Epoch 96, Itrs 17450/30000, Loss=0.236175\n",
      "Epoch 96, Itrs 17460/30000, Loss=0.161804\n",
      "Epoch 96, Itrs 17470/30000, Loss=0.205497\n",
      "Epoch 96, Itrs 17480/30000, Loss=0.157841\n",
      "Epoch 96, Itrs 17490/30000, Loss=0.193299\n",
      "Epoch 96, Itrs 17500/30000, Loss=0.163653\n",
      "Model saved as checkpoints/latest_deeplabv3plus_mobilenet_voc_os16.pth\n",
      "validation...\n"
     ]
    },
    {
     "name": "stderr",
     "output_type": "stream",
     "text": [
      "1449it [01:09, 20.91it/s]\n"
     ]
    },
    {
     "name": "stdout",
     "output_type": "stream",
     "text": [
      "\n",
      "Overall Acc: 0.907107\n",
      "Mean Acc: 0.718341\n",
      "FreqW Acc: 0.837154\n",
      "Mean IoU: 0.618696\n",
      "\n",
      "Model saved as checkpoints/best_deeplabv3plus_mobilenet_voc_os16.pth\n",
      "Epoch 96, Itrs 17510/30000, Loss=0.174806\n",
      "Epoch 96, Itrs 17520/30000, Loss=0.131949\n",
      "Epoch 96, Itrs 17530/30000, Loss=0.189602\n",
      "Epoch 96, Itrs 17540/30000, Loss=0.148485\n",
      "Epoch 96, Itrs 17550/30000, Loss=0.239127\n",
      "Epoch 96, Itrs 17560/30000, Loss=0.182577\n"
     ]
    },
    {
     "name": "stderr",
     "output_type": "stream",
     "text": [
      "/home/irfan/Desktop/Code/Linux-IO/python_38/lib/python3.8/site-packages/torchvision/transforms/functional.py:417: UserWarning: Argument 'interpolation' of type int is deprecated since 0.13 and will be removed in 0.15. Please use InterpolationMode enum.\n",
      "  warnings.warn(\n",
      "/home/irfan/Desktop/Code/Linux-IO/python_38/lib/python3.8/site-packages/torchvision/transforms/functional.py:417: UserWarning: Argument 'interpolation' of type int is deprecated since 0.13 and will be removed in 0.15. Please use InterpolationMode enum.\n",
      "  warnings.warn(\n"
     ]
    },
    {
     "name": "stdout",
     "output_type": "stream",
     "text": [
      "Epoch 97, Itrs 17570/30000, Loss=0.188971\n",
      "Epoch 97, Itrs 17580/30000, Loss=0.209707\n",
      "Epoch 97, Itrs 17590/30000, Loss=0.173591\n",
      "Epoch 97, Itrs 17600/30000, Loss=0.167067\n",
      "Model saved as checkpoints/latest_deeplabv3plus_mobilenet_voc_os16.pth\n",
      "validation...\n"
     ]
    },
    {
     "name": "stderr",
     "output_type": "stream",
     "text": [
      "1449it [01:09, 20.72it/s]\n"
     ]
    },
    {
     "name": "stdout",
     "output_type": "stream",
     "text": [
      "\n",
      "Overall Acc: 0.904653\n",
      "Mean Acc: 0.681973\n",
      "FreqW Acc: 0.830072\n",
      "Mean IoU: 0.603419\n",
      "\n",
      "Epoch 97, Itrs 17610/30000, Loss=0.189161\n",
      "Epoch 97, Itrs 17620/30000, Loss=0.157142\n",
      "Epoch 97, Itrs 17630/30000, Loss=0.188246\n",
      "Epoch 97, Itrs 17640/30000, Loss=0.254100\n",
      "Epoch 97, Itrs 17650/30000, Loss=0.243121\n",
      "Epoch 97, Itrs 17660/30000, Loss=0.206621\n",
      "Epoch 97, Itrs 17670/30000, Loss=0.172148\n",
      "Epoch 97, Itrs 17680/30000, Loss=0.195233\n",
      "Epoch 97, Itrs 17690/30000, Loss=0.176609\n",
      "Epoch 97, Itrs 17700/30000, Loss=0.184919\n",
      "Model saved as checkpoints/latest_deeplabv3plus_mobilenet_voc_os16.pth\n",
      "validation...\n"
     ]
    },
    {
     "name": "stderr",
     "output_type": "stream",
     "text": [
      "1449it [01:11, 20.32it/s]\n"
     ]
    },
    {
     "name": "stdout",
     "output_type": "stream",
     "text": [
      "\n",
      "Overall Acc: 0.900939\n",
      "Mean Acc: 0.668155\n",
      "FreqW Acc: 0.824352\n",
      "Mean IoU: 0.587299\n",
      "\n",
      "Epoch 97, Itrs 17710/30000, Loss=0.202523\n",
      "Epoch 97, Itrs 17720/30000, Loss=0.170693\n",
      "Epoch 97, Itrs 17730/30000, Loss=0.228350\n",
      "Epoch 97, Itrs 17740/30000, Loss=0.223362\n",
      "Epoch 97, Itrs 17750/30000, Loss=0.196223\n"
     ]
    },
    {
     "name": "stderr",
     "output_type": "stream",
     "text": [
      "/home/irfan/Desktop/Code/Linux-IO/python_38/lib/python3.8/site-packages/torchvision/transforms/functional.py:417: UserWarning: Argument 'interpolation' of type int is deprecated since 0.13 and will be removed in 0.15. Please use InterpolationMode enum.\n",
      "  warnings.warn(\n",
      "/home/irfan/Desktop/Code/Linux-IO/python_38/lib/python3.8/site-packages/torchvision/transforms/functional.py:417: UserWarning: Argument 'interpolation' of type int is deprecated since 0.13 and will be removed in 0.15. Please use InterpolationMode enum.\n",
      "  warnings.warn(\n"
     ]
    },
    {
     "name": "stdout",
     "output_type": "stream",
     "text": [
      "Epoch 98, Itrs 17760/30000, Loss=0.274768\n",
      "Epoch 98, Itrs 17770/30000, Loss=0.183102\n",
      "Epoch 98, Itrs 17780/30000, Loss=0.231740\n",
      "Epoch 98, Itrs 17790/30000, Loss=0.162367\n",
      "Epoch 98, Itrs 17800/30000, Loss=0.137095\n",
      "Model saved as checkpoints/latest_deeplabv3plus_mobilenet_voc_os16.pth\n",
      "validation...\n"
     ]
    },
    {
     "name": "stderr",
     "output_type": "stream",
     "text": [
      "1449it [01:17, 18.65it/s]\n"
     ]
    },
    {
     "name": "stdout",
     "output_type": "stream",
     "text": [
      "\n",
      "Overall Acc: 0.903924\n",
      "Mean Acc: 0.707617\n",
      "FreqW Acc: 0.833287\n",
      "Mean IoU: 0.610554\n",
      "\n",
      "Epoch 98, Itrs 17810/30000, Loss=0.194683\n",
      "Epoch 98, Itrs 17820/30000, Loss=0.219511\n",
      "Epoch 98, Itrs 17830/30000, Loss=0.175889\n",
      "Epoch 98, Itrs 17840/30000, Loss=0.252626\n",
      "Epoch 98, Itrs 17850/30000, Loss=0.180878\n",
      "Epoch 98, Itrs 17860/30000, Loss=0.144352\n",
      "Epoch 98, Itrs 17870/30000, Loss=0.164213\n",
      "Epoch 98, Itrs 17880/30000, Loss=0.158276\n",
      "Epoch 98, Itrs 17890/30000, Loss=0.245805\n",
      "Epoch 98, Itrs 17900/30000, Loss=0.173571\n",
      "Model saved as checkpoints/latest_deeplabv3plus_mobilenet_voc_os16.pth\n",
      "validation...\n"
     ]
    },
    {
     "name": "stderr",
     "output_type": "stream",
     "text": [
      "1449it [01:10, 20.46it/s]\n"
     ]
    },
    {
     "name": "stdout",
     "output_type": "stream",
     "text": [
      "\n",
      "Overall Acc: 0.903134\n",
      "Mean Acc: 0.688044\n",
      "FreqW Acc: 0.828149\n",
      "Mean IoU: 0.600612\n",
      "\n",
      "Epoch 98, Itrs 17910/30000, Loss=0.172282\n",
      "Epoch 98, Itrs 17920/30000, Loss=0.228075\n",
      "Epoch 98, Itrs 17930/30000, Loss=0.160641\n"
     ]
    },
    {
     "name": "stderr",
     "output_type": "stream",
     "text": [
      "/home/irfan/Desktop/Code/Linux-IO/python_38/lib/python3.8/site-packages/torchvision/transforms/functional.py:417: UserWarning: Argument 'interpolation' of type int is deprecated since 0.13 and will be removed in 0.15. Please use InterpolationMode enum.\n",
      "  warnings.warn(\n",
      "/home/irfan/Desktop/Code/Linux-IO/python_38/lib/python3.8/site-packages/torchvision/transforms/functional.py:417: UserWarning: Argument 'interpolation' of type int is deprecated since 0.13 and will be removed in 0.15. Please use InterpolationMode enum.\n",
      "  warnings.warn(\n"
     ]
    },
    {
     "name": "stdout",
     "output_type": "stream",
     "text": [
      "Epoch 99, Itrs 17940/30000, Loss=0.222502\n",
      "Epoch 99, Itrs 17950/30000, Loss=0.254776\n",
      "Epoch 99, Itrs 17960/30000, Loss=0.199666\n",
      "Epoch 99, Itrs 17970/30000, Loss=0.153413\n",
      "Epoch 99, Itrs 17980/30000, Loss=0.171245\n",
      "Epoch 99, Itrs 17990/30000, Loss=0.202505\n",
      "Epoch 99, Itrs 18000/30000, Loss=0.212354\n",
      "Model saved as checkpoints/latest_deeplabv3plus_mobilenet_voc_os16.pth\n",
      "validation...\n"
     ]
    },
    {
     "name": "stderr",
     "output_type": "stream",
     "text": [
      "1449it [01:07, 21.61it/s]\n"
     ]
    },
    {
     "name": "stdout",
     "output_type": "stream",
     "text": [
      "\n",
      "Overall Acc: 0.906055\n",
      "Mean Acc: 0.682754\n",
      "FreqW Acc: 0.832386\n",
      "Mean IoU: 0.606265\n",
      "\n",
      "Epoch 99, Itrs 18010/30000, Loss=0.156663\n",
      "Epoch 99, Itrs 18020/30000, Loss=0.268847\n",
      "Epoch 99, Itrs 18030/30000, Loss=0.212427\n",
      "Epoch 99, Itrs 18040/30000, Loss=0.200305\n",
      "Epoch 99, Itrs 18050/30000, Loss=0.212581\n",
      "Epoch 99, Itrs 18060/30000, Loss=0.245019\n",
      "Epoch 99, Itrs 18070/30000, Loss=0.162322\n",
      "Epoch 99, Itrs 18080/30000, Loss=0.170870\n",
      "Epoch 99, Itrs 18090/30000, Loss=0.193939\n",
      "Epoch 99, Itrs 18100/30000, Loss=0.160677\n",
      "Model saved as checkpoints/latest_deeplabv3plus_mobilenet_voc_os16.pth\n",
      "validation...\n"
     ]
    },
    {
     "name": "stderr",
     "output_type": "stream",
     "text": [
      "1449it [01:13, 19.74it/s]\n"
     ]
    },
    {
     "name": "stdout",
     "output_type": "stream",
     "text": [
      "\n",
      "Overall Acc: 0.905702\n",
      "Mean Acc: 0.677107\n",
      "FreqW Acc: 0.831996\n",
      "Mean IoU: 0.601921\n",
      "\n",
      "Epoch 99, Itrs 18110/30000, Loss=0.166450\n"
     ]
    },
    {
     "name": "stderr",
     "output_type": "stream",
     "text": [
      "/home/irfan/Desktop/Code/Linux-IO/python_38/lib/python3.8/site-packages/torchvision/transforms/functional.py:417: UserWarning: Argument 'interpolation' of type int is deprecated since 0.13 and will be removed in 0.15. Please use InterpolationMode enum.\n",
      "  warnings.warn(\n",
      "/home/irfan/Desktop/Code/Linux-IO/python_38/lib/python3.8/site-packages/torchvision/transforms/functional.py:417: UserWarning: Argument 'interpolation' of type int is deprecated since 0.13 and will be removed in 0.15. Please use InterpolationMode enum.\n",
      "  warnings.warn(\n"
     ]
    },
    {
     "name": "stdout",
     "output_type": "stream",
     "text": [
      "Epoch 100, Itrs 18120/30000, Loss=0.170306\n",
      "Epoch 100, Itrs 18130/30000, Loss=0.196043\n",
      "Epoch 100, Itrs 18140/30000, Loss=0.193023\n",
      "Epoch 100, Itrs 18150/30000, Loss=0.143206\n",
      "Epoch 100, Itrs 18160/30000, Loss=0.189092\n",
      "Epoch 100, Itrs 18170/30000, Loss=0.205983\n",
      "Epoch 100, Itrs 18180/30000, Loss=0.164958\n",
      "Epoch 100, Itrs 18190/30000, Loss=0.189802\n",
      "Epoch 100, Itrs 18200/30000, Loss=0.158314\n",
      "Model saved as checkpoints/latest_deeplabv3plus_mobilenet_voc_os16.pth\n",
      "validation...\n"
     ]
    },
    {
     "name": "stderr",
     "output_type": "stream",
     "text": [
      "1449it [01:13, 19.71it/s]\n"
     ]
    },
    {
     "name": "stdout",
     "output_type": "stream",
     "text": [
      "\n",
      "Overall Acc: 0.903787\n",
      "Mean Acc: 0.695110\n",
      "FreqW Acc: 0.830073\n",
      "Mean IoU: 0.606398\n",
      "\n",
      "Epoch 100, Itrs 18210/30000, Loss=0.244685\n",
      "Epoch 100, Itrs 18220/30000, Loss=0.141510\n",
      "Epoch 100, Itrs 18230/30000, Loss=0.164299\n",
      "Epoch 100, Itrs 18240/30000, Loss=0.210656\n",
      "Epoch 100, Itrs 18250/30000, Loss=0.216415\n",
      "Epoch 100, Itrs 18260/30000, Loss=0.183010\n",
      "Epoch 100, Itrs 18270/30000, Loss=0.214379\n",
      "Epoch 100, Itrs 18280/30000, Loss=0.198412\n",
      "Epoch 100, Itrs 18290/30000, Loss=0.152871\n",
      "Epoch 100, Itrs 18300/30000, Loss=0.218197\n",
      "Model saved as checkpoints/latest_deeplabv3plus_mobilenet_voc_os16.pth\n",
      "validation...\n"
     ]
    },
    {
     "name": "stderr",
     "output_type": "stream",
     "text": [
      "1449it [01:11, 20.40it/s]\n"
     ]
    },
    {
     "name": "stdout",
     "output_type": "stream",
     "text": [
      "\n",
      "Overall Acc: 0.904381\n",
      "Mean Acc: 0.697405\n",
      "FreqW Acc: 0.831627\n",
      "Mean IoU: 0.603113\n",
      "\n"
     ]
    },
    {
     "name": "stderr",
     "output_type": "stream",
     "text": [
      "/home/irfan/Desktop/Code/Linux-IO/python_38/lib/python3.8/site-packages/torchvision/transforms/functional.py:417: UserWarning: Argument 'interpolation' of type int is deprecated since 0.13 and will be removed in 0.15. Please use InterpolationMode enum.\n",
      "  warnings.warn(\n",
      "/home/irfan/Desktop/Code/Linux-IO/python_38/lib/python3.8/site-packages/torchvision/transforms/functional.py:417: UserWarning: Argument 'interpolation' of type int is deprecated since 0.13 and will be removed in 0.15. Please use InterpolationMode enum.\n",
      "  warnings.warn(\n"
     ]
    },
    {
     "name": "stdout",
     "output_type": "stream",
     "text": [
      "Epoch 101, Itrs 18310/30000, Loss=0.199724\n",
      "Epoch 101, Itrs 18320/30000, Loss=0.209263\n",
      "Epoch 101, Itrs 18330/30000, Loss=0.150868\n",
      "Epoch 101, Itrs 18340/30000, Loss=0.145724\n",
      "Epoch 101, Itrs 18350/30000, Loss=0.142905\n",
      "Epoch 101, Itrs 18360/30000, Loss=0.254970\n",
      "Epoch 101, Itrs 18370/30000, Loss=0.234492\n",
      "Epoch 101, Itrs 18380/30000, Loss=0.137811\n",
      "Epoch 101, Itrs 18390/30000, Loss=0.144826\n",
      "Epoch 101, Itrs 18400/30000, Loss=0.242410\n",
      "Model saved as checkpoints/latest_deeplabv3plus_mobilenet_voc_os16.pth\n",
      "validation...\n"
     ]
    },
    {
     "name": "stderr",
     "output_type": "stream",
     "text": [
      "1449it [01:16, 18.95it/s]\n"
     ]
    },
    {
     "name": "stdout",
     "output_type": "stream",
     "text": [
      "\n",
      "Overall Acc: 0.902530\n",
      "Mean Acc: 0.692569\n",
      "FreqW Acc: 0.828352\n",
      "Mean IoU: 0.602645\n",
      "\n",
      "Epoch 101, Itrs 18410/30000, Loss=0.182200\n",
      "Epoch 101, Itrs 18420/30000, Loss=0.177810\n",
      "Epoch 101, Itrs 18430/30000, Loss=0.163656\n",
      "Epoch 101, Itrs 18440/30000, Loss=0.162503\n",
      "Epoch 101, Itrs 18450/30000, Loss=0.165811\n",
      "Epoch 101, Itrs 18460/30000, Loss=0.230763\n",
      "Epoch 101, Itrs 18470/30000, Loss=0.185390\n",
      "Epoch 101, Itrs 18480/30000, Loss=0.161807\n"
     ]
    },
    {
     "name": "stderr",
     "output_type": "stream",
     "text": [
      "/home/irfan/Desktop/Code/Linux-IO/python_38/lib/python3.8/site-packages/torchvision/transforms/functional.py:417: UserWarning: Argument 'interpolation' of type int is deprecated since 0.13 and will be removed in 0.15. Please use InterpolationMode enum.\n",
      "  warnings.warn(\n",
      "/home/irfan/Desktop/Code/Linux-IO/python_38/lib/python3.8/site-packages/torchvision/transforms/functional.py:417: UserWarning: Argument 'interpolation' of type int is deprecated since 0.13 and will be removed in 0.15. Please use InterpolationMode enum.\n",
      "  warnings.warn(\n"
     ]
    },
    {
     "name": "stdout",
     "output_type": "stream",
     "text": [
      "Epoch 102, Itrs 18490/30000, Loss=0.212123\n",
      "Epoch 102, Itrs 18500/30000, Loss=0.148812\n",
      "Model saved as checkpoints/latest_deeplabv3plus_mobilenet_voc_os16.pth\n",
      "validation...\n"
     ]
    },
    {
     "name": "stderr",
     "output_type": "stream",
     "text": [
      "1449it [01:14, 19.55it/s]\n"
     ]
    },
    {
     "name": "stdout",
     "output_type": "stream",
     "text": [
      "\n",
      "Overall Acc: 0.903110\n",
      "Mean Acc: 0.681425\n",
      "FreqW Acc: 0.830037\n",
      "Mean IoU: 0.603696\n",
      "\n",
      "Epoch 102, Itrs 18510/30000, Loss=0.163647\n",
      "Epoch 102, Itrs 18520/30000, Loss=0.158060\n",
      "Epoch 102, Itrs 18530/30000, Loss=0.194802\n",
      "Epoch 102, Itrs 18540/30000, Loss=0.168673\n",
      "Epoch 102, Itrs 18550/30000, Loss=0.156981\n",
      "Epoch 102, Itrs 18560/30000, Loss=0.327131\n",
      "Epoch 102, Itrs 18570/30000, Loss=0.161739\n",
      "Epoch 102, Itrs 18580/30000, Loss=0.190372\n",
      "Epoch 102, Itrs 18590/30000, Loss=0.214152\n",
      "Epoch 102, Itrs 18600/30000, Loss=0.197890\n",
      "Model saved as checkpoints/latest_deeplabv3plus_mobilenet_voc_os16.pth\n",
      "validation...\n"
     ]
    },
    {
     "name": "stderr",
     "output_type": "stream",
     "text": [
      "1449it [01:13, 19.67it/s]\n"
     ]
    },
    {
     "name": "stdout",
     "output_type": "stream",
     "text": [
      "\n",
      "Overall Acc: 0.903967\n",
      "Mean Acc: 0.680747\n",
      "FreqW Acc: 0.830228\n",
      "Mean IoU: 0.603300\n",
      "\n",
      "Epoch 102, Itrs 18610/30000, Loss=0.229423\n",
      "Epoch 102, Itrs 18620/30000, Loss=0.156509\n",
      "Epoch 102, Itrs 18630/30000, Loss=0.133576\n",
      "Epoch 102, Itrs 18640/30000, Loss=0.318526\n",
      "Epoch 102, Itrs 18650/30000, Loss=0.191451\n",
      "Epoch 102, Itrs 18660/30000, Loss=0.246599\n"
     ]
    },
    {
     "name": "stderr",
     "output_type": "stream",
     "text": [
      "/home/irfan/Desktop/Code/Linux-IO/python_38/lib/python3.8/site-packages/torchvision/transforms/functional.py:417: UserWarning: Argument 'interpolation' of type int is deprecated since 0.13 and will be removed in 0.15. Please use InterpolationMode enum.\n",
      "  warnings.warn(\n",
      "/home/irfan/Desktop/Code/Linux-IO/python_38/lib/python3.8/site-packages/torchvision/transforms/functional.py:417: UserWarning: Argument 'interpolation' of type int is deprecated since 0.13 and will be removed in 0.15. Please use InterpolationMode enum.\n",
      "  warnings.warn(\n"
     ]
    },
    {
     "name": "stdout",
     "output_type": "stream",
     "text": [
      "Epoch 103, Itrs 18670/30000, Loss=0.147356\n",
      "Epoch 103, Itrs 18680/30000, Loss=0.305921\n",
      "Epoch 103, Itrs 18690/30000, Loss=0.170151\n",
      "Epoch 103, Itrs 18700/30000, Loss=0.216495\n",
      "Model saved as checkpoints/latest_deeplabv3plus_mobilenet_voc_os16.pth\n",
      "validation...\n"
     ]
    },
    {
     "name": "stderr",
     "output_type": "stream",
     "text": [
      "1449it [01:12, 20.01it/s]\n"
     ]
    },
    {
     "name": "stdout",
     "output_type": "stream",
     "text": [
      "\n",
      "Overall Acc: 0.903071\n",
      "Mean Acc: 0.693020\n",
      "FreqW Acc: 0.829010\n",
      "Mean IoU: 0.602341\n",
      "\n",
      "Epoch 103, Itrs 18710/30000, Loss=0.170672\n",
      "Epoch 103, Itrs 18720/30000, Loss=0.249541\n",
      "Epoch 103, Itrs 18730/30000, Loss=0.208258\n",
      "Epoch 103, Itrs 18740/30000, Loss=0.206915\n",
      "Epoch 103, Itrs 18750/30000, Loss=0.230241\n",
      "Epoch 103, Itrs 18760/30000, Loss=0.308506\n",
      "Epoch 103, Itrs 18770/30000, Loss=0.222618\n",
      "Epoch 103, Itrs 18780/30000, Loss=0.238850\n",
      "Epoch 103, Itrs 18790/30000, Loss=0.188745\n",
      "Epoch 103, Itrs 18800/30000, Loss=0.113217\n",
      "Model saved as checkpoints/latest_deeplabv3plus_mobilenet_voc_os16.pth\n",
      "validation...\n"
     ]
    },
    {
     "name": "stderr",
     "output_type": "stream",
     "text": [
      "1449it [01:09, 20.88it/s]\n"
     ]
    },
    {
     "name": "stdout",
     "output_type": "stream",
     "text": [
      "\n",
      "Overall Acc: 0.900656\n",
      "Mean Acc: 0.683595\n",
      "FreqW Acc: 0.824648\n",
      "Mean IoU: 0.597012\n",
      "\n",
      "Epoch 103, Itrs 18810/30000, Loss=0.137062\n",
      "Epoch 103, Itrs 18820/30000, Loss=0.247966\n",
      "Epoch 103, Itrs 18830/30000, Loss=0.188408\n",
      "Epoch 103, Itrs 18840/30000, Loss=0.211278\n"
     ]
    },
    {
     "name": "stderr",
     "output_type": "stream",
     "text": [
      "/home/irfan/Desktop/Code/Linux-IO/python_38/lib/python3.8/site-packages/torchvision/transforms/functional.py:417: UserWarning: Argument 'interpolation' of type int is deprecated since 0.13 and will be removed in 0.15. Please use InterpolationMode enum.\n",
      "  warnings.warn(\n",
      "/home/irfan/Desktop/Code/Linux-IO/python_38/lib/python3.8/site-packages/torchvision/transforms/functional.py:417: UserWarning: Argument 'interpolation' of type int is deprecated since 0.13 and will be removed in 0.15. Please use InterpolationMode enum.\n",
      "  warnings.warn(\n"
     ]
    },
    {
     "name": "stdout",
     "output_type": "stream",
     "text": [
      "Epoch 104, Itrs 18850/30000, Loss=0.148450\n",
      "Epoch 104, Itrs 18860/30000, Loss=0.232508\n",
      "Epoch 104, Itrs 18870/30000, Loss=0.179124\n",
      "Epoch 104, Itrs 18880/30000, Loss=0.157172\n",
      "Epoch 104, Itrs 18890/30000, Loss=0.154614\n",
      "Epoch 104, Itrs 18900/30000, Loss=0.242411\n",
      "Model saved as checkpoints/latest_deeplabv3plus_mobilenet_voc_os16.pth\n",
      "validation...\n"
     ]
    },
    {
     "name": "stderr",
     "output_type": "stream",
     "text": [
      "1449it [01:11, 20.25it/s]\n"
     ]
    },
    {
     "name": "stdout",
     "output_type": "stream",
     "text": [
      "\n",
      "Overall Acc: 0.905956\n",
      "Mean Acc: 0.698345\n",
      "FreqW Acc: 0.833091\n",
      "Mean IoU: 0.611313\n",
      "\n",
      "Epoch 104, Itrs 18910/30000, Loss=0.162763\n",
      "Epoch 104, Itrs 18920/30000, Loss=0.177071\n",
      "Epoch 104, Itrs 18930/30000, Loss=0.183627\n",
      "Epoch 104, Itrs 18940/30000, Loss=0.181028\n",
      "Epoch 104, Itrs 18950/30000, Loss=0.171527\n",
      "Epoch 104, Itrs 18960/30000, Loss=0.195358\n",
      "Epoch 104, Itrs 18970/30000, Loss=0.189720\n",
      "Epoch 104, Itrs 18980/30000, Loss=0.213140\n",
      "Epoch 104, Itrs 18990/30000, Loss=0.175504\n",
      "Epoch 104, Itrs 19000/30000, Loss=0.166682\n",
      "Model saved as checkpoints/latest_deeplabv3plus_mobilenet_voc_os16.pth\n",
      "validation...\n"
     ]
    },
    {
     "name": "stderr",
     "output_type": "stream",
     "text": [
      "1449it [01:11, 20.15it/s]\n"
     ]
    },
    {
     "name": "stdout",
     "output_type": "stream",
     "text": [
      "\n",
      "Overall Acc: 0.904475\n",
      "Mean Acc: 0.706674\n",
      "FreqW Acc: 0.832596\n",
      "Mean IoU: 0.611812\n",
      "\n",
      "Epoch 104, Itrs 19010/30000, Loss=0.128987\n",
      "Epoch 104, Itrs 19020/30000, Loss=0.196233\n",
      "Epoch 104, Itrs 19030/30000, Loss=0.203432\n"
     ]
    },
    {
     "name": "stderr",
     "output_type": "stream",
     "text": [
      "/home/irfan/Desktop/Code/Linux-IO/python_38/lib/python3.8/site-packages/torchvision/transforms/functional.py:417: UserWarning: Argument 'interpolation' of type int is deprecated since 0.13 and will be removed in 0.15. Please use InterpolationMode enum.\n",
      "  warnings.warn(\n",
      "/home/irfan/Desktop/Code/Linux-IO/python_38/lib/python3.8/site-packages/torchvision/transforms/functional.py:417: UserWarning: Argument 'interpolation' of type int is deprecated since 0.13 and will be removed in 0.15. Please use InterpolationMode enum.\n",
      "  warnings.warn(\n"
     ]
    },
    {
     "name": "stdout",
     "output_type": "stream",
     "text": [
      "Epoch 105, Itrs 19040/30000, Loss=0.148666\n",
      "Epoch 105, Itrs 19050/30000, Loss=0.168471\n",
      "Epoch 105, Itrs 19060/30000, Loss=0.159882\n",
      "Epoch 105, Itrs 19070/30000, Loss=0.225556\n",
      "Epoch 105, Itrs 19080/30000, Loss=0.202413\n",
      "Epoch 105, Itrs 19090/30000, Loss=0.164210\n",
      "Epoch 105, Itrs 19100/30000, Loss=0.152954\n",
      "Model saved as checkpoints/latest_deeplabv3plus_mobilenet_voc_os16.pth\n",
      "validation...\n"
     ]
    },
    {
     "name": "stderr",
     "output_type": "stream",
     "text": [
      "1449it [01:18, 18.38it/s]\n"
     ]
    },
    {
     "name": "stdout",
     "output_type": "stream",
     "text": [
      "\n",
      "Overall Acc: 0.902879\n",
      "Mean Acc: 0.695506\n",
      "FreqW Acc: 0.829685\n",
      "Mean IoU: 0.599769\n",
      "\n",
      "Epoch 105, Itrs 19110/30000, Loss=0.166389\n",
      "Epoch 105, Itrs 19120/30000, Loss=0.141162\n",
      "Epoch 105, Itrs 19130/30000, Loss=0.210642\n",
      "Epoch 105, Itrs 19140/30000, Loss=0.174191\n",
      "Epoch 105, Itrs 19150/30000, Loss=0.250000\n",
      "Epoch 105, Itrs 19160/30000, Loss=0.237817\n",
      "Epoch 105, Itrs 19170/30000, Loss=0.182706\n",
      "Epoch 105, Itrs 19180/30000, Loss=0.262497\n",
      "Epoch 105, Itrs 19190/30000, Loss=0.195170\n",
      "Epoch 105, Itrs 19200/30000, Loss=0.182574\n",
      "Model saved as checkpoints/latest_deeplabv3plus_mobilenet_voc_os16.pth\n",
      "validation...\n"
     ]
    },
    {
     "name": "stderr",
     "output_type": "stream",
     "text": [
      "1449it [01:09, 20.98it/s]\n"
     ]
    },
    {
     "name": "stdout",
     "output_type": "stream",
     "text": [
      "\n",
      "Overall Acc: 0.905795\n",
      "Mean Acc: 0.688857\n",
      "FreqW Acc: 0.832291\n",
      "Mean IoU: 0.608632\n",
      "\n",
      "Epoch 105, Itrs 19210/30000, Loss=0.221374\n"
     ]
    },
    {
     "name": "stderr",
     "output_type": "stream",
     "text": [
      "/home/irfan/Desktop/Code/Linux-IO/python_38/lib/python3.8/site-packages/torchvision/transforms/functional.py:417: UserWarning: Argument 'interpolation' of type int is deprecated since 0.13 and will be removed in 0.15. Please use InterpolationMode enum.\n",
      "  warnings.warn(\n",
      "/home/irfan/Desktop/Code/Linux-IO/python_38/lib/python3.8/site-packages/torchvision/transforms/functional.py:417: UserWarning: Argument 'interpolation' of type int is deprecated since 0.13 and will be removed in 0.15. Please use InterpolationMode enum.\n",
      "  warnings.warn(\n"
     ]
    },
    {
     "name": "stdout",
     "output_type": "stream",
     "text": [
      "Epoch 106, Itrs 19220/30000, Loss=0.161332\n",
      "Epoch 106, Itrs 19230/30000, Loss=0.163920\n",
      "Epoch 106, Itrs 19240/30000, Loss=0.185616\n",
      "Epoch 106, Itrs 19250/30000, Loss=0.180645\n",
      "Epoch 106, Itrs 19260/30000, Loss=0.139200\n",
      "Epoch 106, Itrs 19270/30000, Loss=0.175272\n",
      "Epoch 106, Itrs 19280/30000, Loss=0.157327\n",
      "Epoch 106, Itrs 19290/30000, Loss=0.197697\n",
      "Epoch 106, Itrs 19300/30000, Loss=0.160115\n",
      "Model saved as checkpoints/latest_deeplabv3plus_mobilenet_voc_os16.pth\n",
      "validation...\n"
     ]
    },
    {
     "name": "stderr",
     "output_type": "stream",
     "text": [
      "1449it [01:13, 19.63it/s]\n"
     ]
    },
    {
     "name": "stdout",
     "output_type": "stream",
     "text": [
      "\n",
      "Overall Acc: 0.906305\n",
      "Mean Acc: 0.689980\n",
      "FreqW Acc: 0.833798\n",
      "Mean IoU: 0.612193\n",
      "\n",
      "Epoch 106, Itrs 19310/30000, Loss=0.175701\n",
      "Epoch 106, Itrs 19320/30000, Loss=0.155499\n",
      "Epoch 106, Itrs 19330/30000, Loss=0.250112\n",
      "Epoch 106, Itrs 19340/30000, Loss=0.156226\n",
      "Epoch 106, Itrs 19350/30000, Loss=0.150485\n",
      "Epoch 106, Itrs 19360/30000, Loss=0.147951\n",
      "Epoch 106, Itrs 19370/30000, Loss=0.156780\n",
      "Epoch 106, Itrs 19380/30000, Loss=0.166205\n",
      "Epoch 106, Itrs 19390/30000, Loss=0.165105\n"
     ]
    },
    {
     "name": "stderr",
     "output_type": "stream",
     "text": [
      "/home/irfan/Desktop/Code/Linux-IO/python_38/lib/python3.8/site-packages/torchvision/transforms/functional.py:417: UserWarning: Argument 'interpolation' of type int is deprecated since 0.13 and will be removed in 0.15. Please use InterpolationMode enum.\n",
      "  warnings.warn(\n",
      "/home/irfan/Desktop/Code/Linux-IO/python_38/lib/python3.8/site-packages/torchvision/transforms/functional.py:417: UserWarning: Argument 'interpolation' of type int is deprecated since 0.13 and will be removed in 0.15. Please use InterpolationMode enum.\n",
      "  warnings.warn(\n"
     ]
    },
    {
     "name": "stdout",
     "output_type": "stream",
     "text": [
      "Epoch 107, Itrs 19400/30000, Loss=0.169728\n",
      "Model saved as checkpoints/latest_deeplabv3plus_mobilenet_voc_os16.pth\n",
      "validation...\n"
     ]
    },
    {
     "name": "stderr",
     "output_type": "stream",
     "text": [
      "1449it [01:10, 20.60it/s]\n"
     ]
    },
    {
     "name": "stdout",
     "output_type": "stream",
     "text": [
      "\n",
      "Overall Acc: 0.907355\n",
      "Mean Acc: 0.700905\n",
      "FreqW Acc: 0.835111\n",
      "Mean IoU: 0.615490\n",
      "\n",
      "Epoch 107, Itrs 19410/30000, Loss=0.148938\n",
      "Epoch 107, Itrs 19420/30000, Loss=0.184517\n",
      "Epoch 107, Itrs 19430/30000, Loss=0.191443\n",
      "Epoch 107, Itrs 19440/30000, Loss=0.195469\n",
      "Epoch 107, Itrs 19450/30000, Loss=0.170375\n",
      "Epoch 107, Itrs 19460/30000, Loss=0.180491\n",
      "Epoch 107, Itrs 19470/30000, Loss=0.168090\n",
      "Epoch 107, Itrs 19480/30000, Loss=0.169310\n",
      "Epoch 107, Itrs 19490/30000, Loss=0.189908\n",
      "Epoch 107, Itrs 19500/30000, Loss=0.162351\n",
      "Model saved as checkpoints/latest_deeplabv3plus_mobilenet_voc_os16.pth\n",
      "validation...\n"
     ]
    },
    {
     "name": "stderr",
     "output_type": "stream",
     "text": [
      "1449it [01:13, 19.60it/s]\n"
     ]
    },
    {
     "name": "stdout",
     "output_type": "stream",
     "text": [
      "\n",
      "Overall Acc: 0.905267\n",
      "Mean Acc: 0.703778\n",
      "FreqW Acc: 0.833480\n",
      "Mean IoU: 0.613167\n",
      "\n",
      "Epoch 107, Itrs 19510/30000, Loss=0.184432\n",
      "Epoch 107, Itrs 19520/30000, Loss=0.131817\n",
      "Epoch 107, Itrs 19530/30000, Loss=0.213584\n",
      "Epoch 107, Itrs 19540/30000, Loss=0.157986\n",
      "Epoch 107, Itrs 19550/30000, Loss=0.170521\n",
      "Epoch 107, Itrs 19560/30000, Loss=0.188630\n",
      "Epoch 107, Itrs 19570/30000, Loss=0.150518\n",
      "Epoch 107, Itrs 19580/30000, Loss=0.156765\n"
     ]
    },
    {
     "name": "stderr",
     "output_type": "stream",
     "text": [
      "/home/irfan/Desktop/Code/Linux-IO/python_38/lib/python3.8/site-packages/torchvision/transforms/functional.py:417: UserWarning: Argument 'interpolation' of type int is deprecated since 0.13 and will be removed in 0.15. Please use InterpolationMode enum.\n",
      "  warnings.warn(\n",
      "/home/irfan/Desktop/Code/Linux-IO/python_38/lib/python3.8/site-packages/torchvision/transforms/functional.py:417: UserWarning: Argument 'interpolation' of type int is deprecated since 0.13 and will be removed in 0.15. Please use InterpolationMode enum.\n",
      "  warnings.warn(\n"
     ]
    },
    {
     "name": "stdout",
     "output_type": "stream",
     "text": [
      "Epoch 108, Itrs 19590/30000, Loss=0.221405\n",
      "Epoch 108, Itrs 19600/30000, Loss=0.337439\n",
      "Model saved as checkpoints/latest_deeplabv3plus_mobilenet_voc_os16.pth\n",
      "validation...\n"
     ]
    },
    {
     "name": "stderr",
     "output_type": "stream",
     "text": [
      "1449it [01:11, 20.37it/s]\n"
     ]
    },
    {
     "name": "stdout",
     "output_type": "stream",
     "text": [
      "\n",
      "Overall Acc: 0.906319\n",
      "Mean Acc: 0.704328\n",
      "FreqW Acc: 0.834962\n",
      "Mean IoU: 0.617143\n",
      "\n",
      "Epoch 108, Itrs 19610/30000, Loss=0.188633\n",
      "Epoch 108, Itrs 19620/30000, Loss=0.208495\n",
      "Epoch 108, Itrs 19630/30000, Loss=0.244323\n",
      "Epoch 108, Itrs 19640/30000, Loss=0.186403\n",
      "Epoch 108, Itrs 19650/30000, Loss=0.200117\n",
      "Epoch 108, Itrs 19660/30000, Loss=0.177567\n",
      "Epoch 108, Itrs 19670/30000, Loss=0.160718\n",
      "Epoch 108, Itrs 19680/30000, Loss=0.153011\n",
      "Epoch 108, Itrs 19690/30000, Loss=0.166819\n",
      "Epoch 108, Itrs 19700/30000, Loss=0.149021\n",
      "Model saved as checkpoints/latest_deeplabv3plus_mobilenet_voc_os16.pth\n",
      "validation...\n"
     ]
    },
    {
     "name": "stderr",
     "output_type": "stream",
     "text": [
      "1449it [01:09, 20.93it/s]\n"
     ]
    },
    {
     "name": "stdout",
     "output_type": "stream",
     "text": [
      "\n",
      "Overall Acc: 0.905844\n",
      "Mean Acc: 0.681720\n",
      "FreqW Acc: 0.831460\n",
      "Mean IoU: 0.608614\n",
      "\n",
      "Epoch 108, Itrs 19710/30000, Loss=0.235405\n",
      "Epoch 108, Itrs 19720/30000, Loss=0.211286\n",
      "Epoch 108, Itrs 19730/30000, Loss=0.140015\n",
      "Epoch 108, Itrs 19740/30000, Loss=0.158344\n",
      "Epoch 108, Itrs 19750/30000, Loss=0.146152\n",
      "Epoch 108, Itrs 19760/30000, Loss=0.193970\n"
     ]
    },
    {
     "name": "stderr",
     "output_type": "stream",
     "text": [
      "/home/irfan/Desktop/Code/Linux-IO/python_38/lib/python3.8/site-packages/torchvision/transforms/functional.py:417: UserWarning: Argument 'interpolation' of type int is deprecated since 0.13 and will be removed in 0.15. Please use InterpolationMode enum.\n",
      "  warnings.warn(\n",
      "/home/irfan/Desktop/Code/Linux-IO/python_38/lib/python3.8/site-packages/torchvision/transforms/functional.py:417: UserWarning: Argument 'interpolation' of type int is deprecated since 0.13 and will be removed in 0.15. Please use InterpolationMode enum.\n",
      "  warnings.warn(\n"
     ]
    },
    {
     "name": "stdout",
     "output_type": "stream",
     "text": [
      "Epoch 109, Itrs 19770/30000, Loss=0.210949\n",
      "Epoch 109, Itrs 19780/30000, Loss=0.171826\n",
      "Epoch 109, Itrs 19790/30000, Loss=0.228286\n",
      "Epoch 109, Itrs 19800/30000, Loss=0.187599\n",
      "Model saved as checkpoints/latest_deeplabv3plus_mobilenet_voc_os16.pth\n",
      "validation...\n"
     ]
    },
    {
     "name": "stderr",
     "output_type": "stream",
     "text": [
      "1449it [01:12, 20.08it/s]\n"
     ]
    },
    {
     "name": "stdout",
     "output_type": "stream",
     "text": [
      "\n",
      "Overall Acc: 0.906524\n",
      "Mean Acc: 0.714435\n",
      "FreqW Acc: 0.836268\n",
      "Mean IoU: 0.618787\n",
      "\n",
      "Model saved as checkpoints/best_deeplabv3plus_mobilenet_voc_os16.pth\n",
      "Epoch 109, Itrs 19810/30000, Loss=0.176763\n",
      "Epoch 109, Itrs 19820/30000, Loss=0.197779\n",
      "Epoch 109, Itrs 19830/30000, Loss=0.217918\n",
      "Epoch 109, Itrs 19840/30000, Loss=0.118091\n",
      "Epoch 109, Itrs 19850/30000, Loss=0.140470\n",
      "Epoch 109, Itrs 19860/30000, Loss=0.131502\n",
      "Epoch 109, Itrs 19870/30000, Loss=0.157920\n",
      "Epoch 109, Itrs 19880/30000, Loss=0.146216\n",
      "Epoch 109, Itrs 19890/30000, Loss=0.150481\n",
      "Epoch 109, Itrs 19900/30000, Loss=0.176562\n",
      "Model saved as checkpoints/latest_deeplabv3plus_mobilenet_voc_os16.pth\n",
      "validation...\n"
     ]
    },
    {
     "name": "stderr",
     "output_type": "stream",
     "text": [
      "1449it [01:12, 19.91it/s]\n"
     ]
    },
    {
     "name": "stdout",
     "output_type": "stream",
     "text": [
      "\n",
      "Overall Acc: 0.906183\n",
      "Mean Acc: 0.697818\n",
      "FreqW Acc: 0.833906\n",
      "Mean IoU: 0.614405\n",
      "\n",
      "Epoch 109, Itrs 19910/30000, Loss=0.171480\n",
      "Epoch 109, Itrs 19920/30000, Loss=0.166525\n",
      "Epoch 109, Itrs 19930/30000, Loss=0.182526\n",
      "Epoch 109, Itrs 19940/30000, Loss=0.163752\n"
     ]
    },
    {
     "name": "stderr",
     "output_type": "stream",
     "text": [
      "/home/irfan/Desktop/Code/Linux-IO/python_38/lib/python3.8/site-packages/torchvision/transforms/functional.py:417: UserWarning: Argument 'interpolation' of type int is deprecated since 0.13 and will be removed in 0.15. Please use InterpolationMode enum.\n",
      "  warnings.warn(\n",
      "/home/irfan/Desktop/Code/Linux-IO/python_38/lib/python3.8/site-packages/torchvision/transforms/functional.py:417: UserWarning: Argument 'interpolation' of type int is deprecated since 0.13 and will be removed in 0.15. Please use InterpolationMode enum.\n",
      "  warnings.warn(\n"
     ]
    },
    {
     "name": "stdout",
     "output_type": "stream",
     "text": [
      "Epoch 110, Itrs 19950/30000, Loss=0.241630\n",
      "Epoch 110, Itrs 19960/30000, Loss=0.175478\n",
      "Epoch 110, Itrs 19970/30000, Loss=0.228510\n",
      "Epoch 110, Itrs 19980/30000, Loss=0.190161\n",
      "Epoch 110, Itrs 19990/30000, Loss=0.190413\n",
      "Epoch 110, Itrs 20000/30000, Loss=0.125462\n",
      "Model saved as checkpoints/latest_deeplabv3plus_mobilenet_voc_os16.pth\n",
      "validation...\n"
     ]
    },
    {
     "name": "stderr",
     "output_type": "stream",
     "text": [
      "1449it [01:06, 21.75it/s]\n"
     ]
    },
    {
     "name": "stdout",
     "output_type": "stream",
     "text": [
      "\n",
      "Overall Acc: 0.905400\n",
      "Mean Acc: 0.694765\n",
      "FreqW Acc: 0.832707\n",
      "Mean IoU: 0.613079\n",
      "\n",
      "Epoch 110, Itrs 20010/30000, Loss=0.186480\n",
      "Epoch 110, Itrs 20020/30000, Loss=0.262930\n",
      "Epoch 110, Itrs 20030/30000, Loss=0.121296\n",
      "Epoch 110, Itrs 20040/30000, Loss=0.242265\n",
      "Epoch 110, Itrs 20050/30000, Loss=0.172094\n",
      "Epoch 110, Itrs 20060/30000, Loss=0.183682\n",
      "Epoch 110, Itrs 20070/30000, Loss=0.154906\n",
      "Epoch 110, Itrs 20080/30000, Loss=0.152002\n",
      "Epoch 110, Itrs 20090/30000, Loss=0.195128\n",
      "Epoch 110, Itrs 20100/30000, Loss=0.146356\n",
      "Model saved as checkpoints/latest_deeplabv3plus_mobilenet_voc_os16.pth\n",
      "validation...\n"
     ]
    },
    {
     "name": "stderr",
     "output_type": "stream",
     "text": [
      "1449it [01:10, 20.68it/s]\n"
     ]
    },
    {
     "name": "stdout",
     "output_type": "stream",
     "text": [
      "\n",
      "Overall Acc: 0.908108\n",
      "Mean Acc: 0.697563\n",
      "FreqW Acc: 0.835629\n",
      "Mean IoU: 0.617718\n",
      "\n",
      "Epoch 110, Itrs 20110/30000, Loss=0.156842\n",
      "Epoch 110, Itrs 20120/30000, Loss=0.205685\n",
      "Epoch 110, Itrs 20130/30000, Loss=0.291110\n"
     ]
    },
    {
     "name": "stderr",
     "output_type": "stream",
     "text": [
      "/home/irfan/Desktop/Code/Linux-IO/python_38/lib/python3.8/site-packages/torchvision/transforms/functional.py:417: UserWarning: Argument 'interpolation' of type int is deprecated since 0.13 and will be removed in 0.15. Please use InterpolationMode enum.\n",
      "  warnings.warn(\n",
      "/home/irfan/Desktop/Code/Linux-IO/python_38/lib/python3.8/site-packages/torchvision/transforms/functional.py:417: UserWarning: Argument 'interpolation' of type int is deprecated since 0.13 and will be removed in 0.15. Please use InterpolationMode enum.\n",
      "  warnings.warn(\n"
     ]
    },
    {
     "name": "stdout",
     "output_type": "stream",
     "text": [
      "Epoch 111, Itrs 20140/30000, Loss=0.164179\n",
      "Epoch 111, Itrs 20150/30000, Loss=0.165825\n",
      "Epoch 111, Itrs 20160/30000, Loss=0.203551\n",
      "Epoch 111, Itrs 20170/30000, Loss=0.234087\n",
      "Epoch 111, Itrs 20180/30000, Loss=0.230185\n",
      "Epoch 111, Itrs 20190/30000, Loss=0.261017\n",
      "Epoch 111, Itrs 20200/30000, Loss=0.160005\n",
      "Model saved as checkpoints/latest_deeplabv3plus_mobilenet_voc_os16.pth\n",
      "validation...\n"
     ]
    },
    {
     "name": "stderr",
     "output_type": "stream",
     "text": [
      "1449it [01:14, 19.57it/s]\n"
     ]
    },
    {
     "name": "stdout",
     "output_type": "stream",
     "text": [
      "\n",
      "Overall Acc: 0.907107\n",
      "Mean Acc: 0.718265\n",
      "FreqW Acc: 0.837280\n",
      "Mean IoU: 0.623183\n",
      "\n",
      "Model saved as checkpoints/best_deeplabv3plus_mobilenet_voc_os16.pth\n",
      "Epoch 111, Itrs 20210/30000, Loss=0.229859\n",
      "Epoch 111, Itrs 20220/30000, Loss=0.224672\n",
      "Epoch 111, Itrs 20230/30000, Loss=0.183739\n",
      "Epoch 111, Itrs 20240/30000, Loss=0.151579\n",
      "Epoch 111, Itrs 20250/30000, Loss=0.274495\n",
      "Epoch 111, Itrs 20260/30000, Loss=0.176925\n",
      "Epoch 111, Itrs 20270/30000, Loss=0.137971\n",
      "Epoch 111, Itrs 20280/30000, Loss=0.224166\n",
      "Epoch 111, Itrs 20290/30000, Loss=0.140963\n",
      "Epoch 111, Itrs 20300/30000, Loss=0.141043\n",
      "Model saved as checkpoints/latest_deeplabv3plus_mobilenet_voc_os16.pth\n",
      "validation...\n"
     ]
    },
    {
     "name": "stderr",
     "output_type": "stream",
     "text": [
      "1449it [01:10, 20.70it/s]\n"
     ]
    },
    {
     "name": "stdout",
     "output_type": "stream",
     "text": [
      "\n",
      "Overall Acc: 0.905586\n",
      "Mean Acc: 0.721113\n",
      "FreqW Acc: 0.835035\n",
      "Mean IoU: 0.622201\n",
      "\n",
      "Epoch 111, Itrs 20310/30000, Loss=0.211812\n"
     ]
    },
    {
     "name": "stderr",
     "output_type": "stream",
     "text": [
      "/home/irfan/Desktop/Code/Linux-IO/python_38/lib/python3.8/site-packages/torchvision/transforms/functional.py:417: UserWarning: Argument 'interpolation' of type int is deprecated since 0.13 and will be removed in 0.15. Please use InterpolationMode enum.\n",
      "  warnings.warn(\n",
      "/home/irfan/Desktop/Code/Linux-IO/python_38/lib/python3.8/site-packages/torchvision/transforms/functional.py:417: UserWarning: Argument 'interpolation' of type int is deprecated since 0.13 and will be removed in 0.15. Please use InterpolationMode enum.\n",
      "  warnings.warn(\n"
     ]
    },
    {
     "name": "stdout",
     "output_type": "stream",
     "text": [
      "Epoch 112, Itrs 20320/30000, Loss=0.143901\n",
      "Epoch 112, Itrs 20330/30000, Loss=0.218688\n",
      "Epoch 112, Itrs 20340/30000, Loss=0.137313\n",
      "Epoch 112, Itrs 20350/30000, Loss=0.184786\n",
      "Epoch 112, Itrs 20360/30000, Loss=0.210449\n",
      "Epoch 112, Itrs 20370/30000, Loss=0.159267\n",
      "Epoch 112, Itrs 20380/30000, Loss=0.136948\n",
      "Epoch 112, Itrs 20390/30000, Loss=0.136190\n",
      "Epoch 112, Itrs 20400/30000, Loss=0.177789\n",
      "Model saved as checkpoints/latest_deeplabv3plus_mobilenet_voc_os16.pth\n",
      "validation...\n"
     ]
    },
    {
     "name": "stderr",
     "output_type": "stream",
     "text": [
      "1449it [01:12, 20.06it/s]\n"
     ]
    },
    {
     "name": "stdout",
     "output_type": "stream",
     "text": [
      "\n",
      "Overall Acc: 0.906713\n",
      "Mean Acc: 0.710219\n",
      "FreqW Acc: 0.835541\n",
      "Mean IoU: 0.620391\n",
      "\n",
      "Epoch 112, Itrs 20410/30000, Loss=0.181316\n",
      "Epoch 112, Itrs 20420/30000, Loss=0.156872\n",
      "Epoch 112, Itrs 20430/30000, Loss=0.207472\n",
      "Epoch 112, Itrs 20440/30000, Loss=0.205914\n",
      "Epoch 112, Itrs 20450/30000, Loss=0.205136\n",
      "Epoch 112, Itrs 20460/30000, Loss=0.182461\n",
      "Epoch 112, Itrs 20470/30000, Loss=0.192840\n",
      "Epoch 112, Itrs 20480/30000, Loss=0.205540\n",
      "Epoch 112, Itrs 20490/30000, Loss=0.148358\n"
     ]
    },
    {
     "name": "stderr",
     "output_type": "stream",
     "text": [
      "/home/irfan/Desktop/Code/Linux-IO/python_38/lib/python3.8/site-packages/torchvision/transforms/functional.py:417: UserWarning: Argument 'interpolation' of type int is deprecated since 0.13 and will be removed in 0.15. Please use InterpolationMode enum.\n",
      "  warnings.warn(\n",
      "/home/irfan/Desktop/Code/Linux-IO/python_38/lib/python3.8/site-packages/torchvision/transforms/functional.py:417: UserWarning: Argument 'interpolation' of type int is deprecated since 0.13 and will be removed in 0.15. Please use InterpolationMode enum.\n",
      "  warnings.warn(\n"
     ]
    },
    {
     "name": "stdout",
     "output_type": "stream",
     "text": [
      "Epoch 113, Itrs 20500/30000, Loss=0.159547\n",
      "Model saved as checkpoints/latest_deeplabv3plus_mobilenet_voc_os16.pth\n",
      "validation...\n"
     ]
    },
    {
     "name": "stderr",
     "output_type": "stream",
     "text": [
      "1449it [01:11, 20.32it/s]\n"
     ]
    },
    {
     "name": "stdout",
     "output_type": "stream",
     "text": [
      "\n",
      "Overall Acc: 0.905099\n",
      "Mean Acc: 0.705980\n",
      "FreqW Acc: 0.833418\n",
      "Mean IoU: 0.613939\n",
      "\n",
      "Epoch 113, Itrs 20510/30000, Loss=0.187030\n",
      "Epoch 113, Itrs 20520/30000, Loss=0.233280\n",
      "Epoch 113, Itrs 20530/30000, Loss=0.159790\n",
      "Epoch 113, Itrs 20540/30000, Loss=0.243319\n",
      "Epoch 113, Itrs 20550/30000, Loss=0.174920\n",
      "Epoch 113, Itrs 20560/30000, Loss=0.166374\n",
      "Epoch 113, Itrs 20570/30000, Loss=0.153335\n",
      "Epoch 113, Itrs 20580/30000, Loss=0.142758\n",
      "Epoch 113, Itrs 20590/30000, Loss=0.169400\n",
      "Epoch 113, Itrs 20600/30000, Loss=0.211308\n",
      "Model saved as checkpoints/latest_deeplabv3plus_mobilenet_voc_os16.pth\n",
      "validation...\n"
     ]
    },
    {
     "name": "stderr",
     "output_type": "stream",
     "text": [
      "1449it [01:07, 21.46it/s]\n"
     ]
    },
    {
     "name": "stdout",
     "output_type": "stream",
     "text": [
      "\n",
      "Overall Acc: 0.905697\n",
      "Mean Acc: 0.715562\n",
      "FreqW Acc: 0.835156\n",
      "Mean IoU: 0.616528\n",
      "\n",
      "Epoch 113, Itrs 20610/30000, Loss=0.164906\n",
      "Epoch 113, Itrs 20620/30000, Loss=0.198308\n",
      "Epoch 113, Itrs 20630/30000, Loss=0.216307\n",
      "Epoch 113, Itrs 20640/30000, Loss=0.165486\n",
      "Epoch 113, Itrs 20650/30000, Loss=0.159493\n",
      "Epoch 113, Itrs 20660/30000, Loss=0.169682\n",
      "Epoch 113, Itrs 20670/30000, Loss=0.154256\n"
     ]
    },
    {
     "name": "stderr",
     "output_type": "stream",
     "text": [
      "/home/irfan/Desktop/Code/Linux-IO/python_38/lib/python3.8/site-packages/torchvision/transforms/functional.py:417: UserWarning: Argument 'interpolation' of type int is deprecated since 0.13 and will be removed in 0.15. Please use InterpolationMode enum.\n",
      "  warnings.warn(\n",
      "/home/irfan/Desktop/Code/Linux-IO/python_38/lib/python3.8/site-packages/torchvision/transforms/functional.py:417: UserWarning: Argument 'interpolation' of type int is deprecated since 0.13 and will be removed in 0.15. Please use InterpolationMode enum.\n",
      "  warnings.warn(\n"
     ]
    },
    {
     "name": "stdout",
     "output_type": "stream",
     "text": [
      "Epoch 114, Itrs 20680/30000, Loss=0.123153\n",
      "Epoch 114, Itrs 20690/30000, Loss=0.227975\n",
      "Epoch 114, Itrs 20700/30000, Loss=0.150183\n",
      "Model saved as checkpoints/latest_deeplabv3plus_mobilenet_voc_os16.pth\n",
      "validation...\n"
     ]
    },
    {
     "name": "stderr",
     "output_type": "stream",
     "text": [
      "1449it [01:14, 19.36it/s]\n"
     ]
    },
    {
     "name": "stdout",
     "output_type": "stream",
     "text": [
      "\n",
      "Overall Acc: 0.907826\n",
      "Mean Acc: 0.706801\n",
      "FreqW Acc: 0.836657\n",
      "Mean IoU: 0.622607\n",
      "\n",
      "Epoch 114, Itrs 20710/30000, Loss=0.142506\n",
      "Epoch 114, Itrs 20720/30000, Loss=0.125500\n",
      "Epoch 114, Itrs 20730/30000, Loss=0.172083\n",
      "Epoch 114, Itrs 20740/30000, Loss=0.159847\n",
      "Epoch 114, Itrs 20750/30000, Loss=0.174102\n",
      "Epoch 114, Itrs 20760/30000, Loss=0.160446\n",
      "Epoch 114, Itrs 20770/30000, Loss=0.151932\n",
      "Epoch 114, Itrs 20780/30000, Loss=0.172701\n",
      "Epoch 114, Itrs 20790/30000, Loss=0.132890\n",
      "Epoch 114, Itrs 20800/30000, Loss=0.144755\n",
      "Model saved as checkpoints/latest_deeplabv3plus_mobilenet_voc_os16.pth\n",
      "validation...\n"
     ]
    },
    {
     "name": "stderr",
     "output_type": "stream",
     "text": [
      "1449it [01:12, 19.92it/s]\n"
     ]
    },
    {
     "name": "stdout",
     "output_type": "stream",
     "text": [
      "\n",
      "Overall Acc: 0.908176\n",
      "Mean Acc: 0.712698\n",
      "FreqW Acc: 0.837037\n",
      "Mean IoU: 0.624116\n",
      "\n",
      "Model saved as checkpoints/best_deeplabv3plus_mobilenet_voc_os16.pth\n",
      "Epoch 114, Itrs 20810/30000, Loss=0.263808\n",
      "Epoch 114, Itrs 20820/30000, Loss=0.197141\n",
      "Epoch 114, Itrs 20830/30000, Loss=0.176130\n",
      "Epoch 114, Itrs 20840/30000, Loss=0.179634\n",
      "Epoch 114, Itrs 20850/30000, Loss=0.140303\n",
      "Epoch 114, Itrs 20860/30000, Loss=0.172250\n"
     ]
    },
    {
     "name": "stderr",
     "output_type": "stream",
     "text": [
      "/home/irfan/Desktop/Code/Linux-IO/python_38/lib/python3.8/site-packages/torchvision/transforms/functional.py:417: UserWarning: Argument 'interpolation' of type int is deprecated since 0.13 and will be removed in 0.15. Please use InterpolationMode enum.\n",
      "  warnings.warn(\n",
      "/home/irfan/Desktop/Code/Linux-IO/python_38/lib/python3.8/site-packages/torchvision/transforms/functional.py:417: UserWarning: Argument 'interpolation' of type int is deprecated since 0.13 and will be removed in 0.15. Please use InterpolationMode enum.\n",
      "  warnings.warn(\n"
     ]
    },
    {
     "name": "stdout",
     "output_type": "stream",
     "text": [
      "Epoch 115, Itrs 20870/30000, Loss=0.151696\n",
      "Epoch 115, Itrs 20880/30000, Loss=0.220416\n",
      "Epoch 115, Itrs 20890/30000, Loss=0.163185\n",
      "Epoch 115, Itrs 20900/30000, Loss=0.167688\n",
      "Model saved as checkpoints/latest_deeplabv3plus_mobilenet_voc_os16.pth\n",
      "validation...\n"
     ]
    },
    {
     "name": "stderr",
     "output_type": "stream",
     "text": [
      "1449it [01:11, 20.15it/s]\n"
     ]
    },
    {
     "name": "stdout",
     "output_type": "stream",
     "text": [
      "\n",
      "Overall Acc: 0.906517\n",
      "Mean Acc: 0.698816\n",
      "FreqW Acc: 0.834390\n",
      "Mean IoU: 0.615609\n",
      "\n",
      "Epoch 115, Itrs 20910/30000, Loss=0.169582\n",
      "Epoch 115, Itrs 20920/30000, Loss=0.145167\n",
      "Epoch 115, Itrs 20930/30000, Loss=0.188713\n",
      "Epoch 115, Itrs 20940/30000, Loss=0.127790\n",
      "Epoch 115, Itrs 20950/30000, Loss=0.175677\n",
      "Epoch 115, Itrs 20960/30000, Loss=0.149397\n",
      "Epoch 115, Itrs 20970/30000, Loss=0.122067\n",
      "Epoch 115, Itrs 20980/30000, Loss=0.149332\n",
      "Epoch 115, Itrs 20990/30000, Loss=0.139883\n",
      "Epoch 115, Itrs 21000/30000, Loss=0.202917\n",
      "Model saved as checkpoints/latest_deeplabv3plus_mobilenet_voc_os16.pth\n",
      "validation...\n"
     ]
    },
    {
     "name": "stderr",
     "output_type": "stream",
     "text": [
      "1449it [01:07, 21.35it/s]\n"
     ]
    },
    {
     "name": "stdout",
     "output_type": "stream",
     "text": [
      "\n",
      "Overall Acc: 0.907352\n",
      "Mean Acc: 0.706942\n",
      "FreqW Acc: 0.836939\n",
      "Mean IoU: 0.620033\n",
      "\n",
      "Epoch 115, Itrs 21010/30000, Loss=0.232570\n",
      "Epoch 115, Itrs 21020/30000, Loss=0.153375\n",
      "Epoch 115, Itrs 21030/30000, Loss=0.161124\n",
      "Epoch 115, Itrs 21040/30000, Loss=0.195340\n"
     ]
    },
    {
     "name": "stderr",
     "output_type": "stream",
     "text": [
      "/home/irfan/Desktop/Code/Linux-IO/python_38/lib/python3.8/site-packages/torchvision/transforms/functional.py:417: UserWarning: Argument 'interpolation' of type int is deprecated since 0.13 and will be removed in 0.15. Please use InterpolationMode enum.\n",
      "  warnings.warn(\n",
      "/home/irfan/Desktop/Code/Linux-IO/python_38/lib/python3.8/site-packages/torchvision/transforms/functional.py:417: UserWarning: Argument 'interpolation' of type int is deprecated since 0.13 and will be removed in 0.15. Please use InterpolationMode enum.\n",
      "  warnings.warn(\n"
     ]
    },
    {
     "name": "stdout",
     "output_type": "stream",
     "text": [
      "Epoch 116, Itrs 21050/30000, Loss=0.173215\n",
      "Epoch 116, Itrs 21060/30000, Loss=0.173026\n",
      "Epoch 116, Itrs 21070/30000, Loss=0.132469\n",
      "Epoch 116, Itrs 21080/30000, Loss=0.216733\n",
      "Epoch 116, Itrs 21090/30000, Loss=0.175903\n",
      "Epoch 116, Itrs 21100/30000, Loss=0.155916\n",
      "Model saved as checkpoints/latest_deeplabv3plus_mobilenet_voc_os16.pth\n",
      "validation...\n"
     ]
    },
    {
     "name": "stderr",
     "output_type": "stream",
     "text": [
      "1449it [01:13, 19.60it/s]\n"
     ]
    },
    {
     "name": "stdout",
     "output_type": "stream",
     "text": [
      "\n",
      "Overall Acc: 0.907556\n",
      "Mean Acc: 0.692004\n",
      "FreqW Acc: 0.834674\n",
      "Mean IoU: 0.617101\n",
      "\n",
      "Epoch 116, Itrs 21110/30000, Loss=0.170961\n",
      "Epoch 116, Itrs 21120/30000, Loss=0.193249\n",
      "Epoch 116, Itrs 21130/30000, Loss=0.134900\n",
      "Epoch 116, Itrs 21140/30000, Loss=0.159397\n",
      "Epoch 116, Itrs 21150/30000, Loss=0.172626\n",
      "Epoch 116, Itrs 21160/30000, Loss=0.135547\n",
      "Epoch 116, Itrs 21170/30000, Loss=0.126198\n",
      "Epoch 116, Itrs 21180/30000, Loss=0.117217\n",
      "Epoch 116, Itrs 21190/30000, Loss=0.212219\n",
      "Epoch 116, Itrs 21200/30000, Loss=0.150067\n",
      "Model saved as checkpoints/latest_deeplabv3plus_mobilenet_voc_os16.pth\n",
      "validation...\n"
     ]
    },
    {
     "name": "stderr",
     "output_type": "stream",
     "text": [
      "1449it [01:15, 19.19it/s]\n"
     ]
    },
    {
     "name": "stdout",
     "output_type": "stream",
     "text": [
      "\n",
      "Overall Acc: 0.907411\n",
      "Mean Acc: 0.713092\n",
      "FreqW Acc: 0.836523\n",
      "Mean IoU: 0.624154\n",
      "\n",
      "Model saved as checkpoints/best_deeplabv3plus_mobilenet_voc_os16.pth\n",
      "Epoch 116, Itrs 21210/30000, Loss=0.144515\n",
      "Epoch 116, Itrs 21220/30000, Loss=0.140245\n"
     ]
    },
    {
     "name": "stderr",
     "output_type": "stream",
     "text": [
      "/home/irfan/Desktop/Code/Linux-IO/python_38/lib/python3.8/site-packages/torchvision/transforms/functional.py:417: UserWarning: Argument 'interpolation' of type int is deprecated since 0.13 and will be removed in 0.15. Please use InterpolationMode enum.\n",
      "  warnings.warn(\n",
      "/home/irfan/Desktop/Code/Linux-IO/python_38/lib/python3.8/site-packages/torchvision/transforms/functional.py:417: UserWarning: Argument 'interpolation' of type int is deprecated since 0.13 and will be removed in 0.15. Please use InterpolationMode enum.\n",
      "  warnings.warn(\n"
     ]
    },
    {
     "name": "stdout",
     "output_type": "stream",
     "text": [
      "Epoch 117, Itrs 21230/30000, Loss=0.162505\n",
      "Epoch 117, Itrs 21240/30000, Loss=0.151308\n",
      "Epoch 117, Itrs 21250/30000, Loss=0.141095\n",
      "Epoch 117, Itrs 21260/30000, Loss=0.141073\n",
      "Epoch 117, Itrs 21270/30000, Loss=0.203957\n",
      "Epoch 117, Itrs 21280/30000, Loss=0.142587\n",
      "Epoch 117, Itrs 21290/30000, Loss=0.132995\n",
      "Epoch 117, Itrs 21300/30000, Loss=0.171039\n",
      "Model saved as checkpoints/latest_deeplabv3plus_mobilenet_voc_os16.pth\n",
      "validation...\n"
     ]
    },
    {
     "name": "stderr",
     "output_type": "stream",
     "text": [
      "1449it [01:10, 20.42it/s]\n"
     ]
    },
    {
     "name": "stdout",
     "output_type": "stream",
     "text": [
      "\n",
      "Overall Acc: 0.908150\n",
      "Mean Acc: 0.701296\n",
      "FreqW Acc: 0.836078\n",
      "Mean IoU: 0.621815\n",
      "\n",
      "Epoch 117, Itrs 21310/30000, Loss=0.128384\n",
      "Epoch 117, Itrs 21320/30000, Loss=0.165887\n",
      "Epoch 117, Itrs 21330/30000, Loss=0.145881\n",
      "Epoch 117, Itrs 21340/30000, Loss=0.158501\n",
      "Epoch 117, Itrs 21350/30000, Loss=0.166892\n",
      "Epoch 117, Itrs 21360/30000, Loss=0.151538\n",
      "Epoch 117, Itrs 21370/30000, Loss=0.159387\n",
      "Epoch 117, Itrs 21380/30000, Loss=0.210950\n",
      "Epoch 117, Itrs 21390/30000, Loss=0.193288\n",
      "Epoch 117, Itrs 21400/30000, Loss=0.174679\n",
      "Model saved as checkpoints/latest_deeplabv3plus_mobilenet_voc_os16.pth\n",
      "validation...\n"
     ]
    },
    {
     "name": "stderr",
     "output_type": "stream",
     "text": [
      "1449it [01:17, 18.79it/s]\n"
     ]
    },
    {
     "name": "stdout",
     "output_type": "stream",
     "text": [
      "\n",
      "Overall Acc: 0.904603\n",
      "Mean Acc: 0.730387\n",
      "FreqW Acc: 0.834804\n",
      "Mean IoU: 0.624127\n",
      "\n",
      "Epoch 117, Itrs 21410/30000, Loss=0.195453\n"
     ]
    },
    {
     "name": "stderr",
     "output_type": "stream",
     "text": [
      "/home/irfan/Desktop/Code/Linux-IO/python_38/lib/python3.8/site-packages/torchvision/transforms/functional.py:417: UserWarning: Argument 'interpolation' of type int is deprecated since 0.13 and will be removed in 0.15. Please use InterpolationMode enum.\n",
      "  warnings.warn(\n",
      "/home/irfan/Desktop/Code/Linux-IO/python_38/lib/python3.8/site-packages/torchvision/transforms/functional.py:417: UserWarning: Argument 'interpolation' of type int is deprecated since 0.13 and will be removed in 0.15. Please use InterpolationMode enum.\n",
      "  warnings.warn(\n"
     ]
    },
    {
     "name": "stdout",
     "output_type": "stream",
     "text": [
      "Epoch 118, Itrs 21420/30000, Loss=0.136357\n",
      "Epoch 118, Itrs 21430/30000, Loss=0.133980\n",
      "Epoch 118, Itrs 21440/30000, Loss=0.137409\n",
      "Epoch 118, Itrs 21450/30000, Loss=0.183222\n",
      "Epoch 118, Itrs 21460/30000, Loss=0.144452\n",
      "Epoch 118, Itrs 21470/30000, Loss=0.195676\n",
      "Epoch 118, Itrs 21480/30000, Loss=0.169830\n",
      "Epoch 118, Itrs 21490/30000, Loss=0.148035\n",
      "Epoch 118, Itrs 21500/30000, Loss=0.156851\n",
      "Model saved as checkpoints/latest_deeplabv3plus_mobilenet_voc_os16.pth\n",
      "validation...\n"
     ]
    },
    {
     "name": "stderr",
     "output_type": "stream",
     "text": [
      "1449it [01:13, 19.70it/s]\n"
     ]
    },
    {
     "name": "stdout",
     "output_type": "stream",
     "text": [
      "\n",
      "Overall Acc: 0.908462\n",
      "Mean Acc: 0.710253\n",
      "FreqW Acc: 0.837719\n",
      "Mean IoU: 0.623081\n",
      "\n",
      "Epoch 118, Itrs 21510/30000, Loss=0.150316\n",
      "Epoch 118, Itrs 21520/30000, Loss=0.158716\n",
      "Epoch 118, Itrs 21530/30000, Loss=0.163353\n",
      "Epoch 118, Itrs 21540/30000, Loss=0.216120\n",
      "Epoch 118, Itrs 21550/30000, Loss=0.153904\n",
      "Epoch 118, Itrs 21560/30000, Loss=0.124191\n",
      "Epoch 118, Itrs 21570/30000, Loss=0.166175\n",
      "Epoch 118, Itrs 21580/30000, Loss=0.149727\n",
      "Epoch 118, Itrs 21590/30000, Loss=0.154947\n"
     ]
    },
    {
     "name": "stderr",
     "output_type": "stream",
     "text": [
      "/home/irfan/Desktop/Code/Linux-IO/python_38/lib/python3.8/site-packages/torchvision/transforms/functional.py:417: UserWarning: Argument 'interpolation' of type int is deprecated since 0.13 and will be removed in 0.15. Please use InterpolationMode enum.\n",
      "  warnings.warn(\n",
      "/home/irfan/Desktop/Code/Linux-IO/python_38/lib/python3.8/site-packages/torchvision/transforms/functional.py:417: UserWarning: Argument 'interpolation' of type int is deprecated since 0.13 and will be removed in 0.15. Please use InterpolationMode enum.\n",
      "  warnings.warn(\n"
     ]
    },
    {
     "name": "stdout",
     "output_type": "stream",
     "text": [
      "Epoch 119, Itrs 21600/30000, Loss=0.165377\n",
      "Model saved as checkpoints/latest_deeplabv3plus_mobilenet_voc_os16.pth\n",
      "validation...\n"
     ]
    },
    {
     "name": "stderr",
     "output_type": "stream",
     "text": [
      "1449it [01:14, 19.54it/s]\n"
     ]
    },
    {
     "name": "stdout",
     "output_type": "stream",
     "text": [
      "\n",
      "Overall Acc: 0.909433\n",
      "Mean Acc: 0.710717\n",
      "FreqW Acc: 0.839299\n",
      "Mean IoU: 0.626403\n",
      "\n",
      "Model saved as checkpoints/best_deeplabv3plus_mobilenet_voc_os16.pth\n",
      "Epoch 119, Itrs 21610/30000, Loss=0.160036\n",
      "Epoch 119, Itrs 21620/30000, Loss=0.159154\n",
      "Epoch 119, Itrs 21630/30000, Loss=0.182109\n",
      "Epoch 119, Itrs 21640/30000, Loss=0.216750\n",
      "Epoch 119, Itrs 21650/30000, Loss=0.197227\n",
      "Epoch 119, Itrs 21660/30000, Loss=0.158843\n",
      "Epoch 119, Itrs 21670/30000, Loss=0.245787\n",
      "Epoch 119, Itrs 21680/30000, Loss=0.171180\n",
      "Epoch 119, Itrs 21690/30000, Loss=0.152527\n",
      "Epoch 119, Itrs 21700/30000, Loss=0.247884\n",
      "Model saved as checkpoints/latest_deeplabv3plus_mobilenet_voc_os16.pth\n",
      "validation...\n"
     ]
    },
    {
     "name": "stderr",
     "output_type": "stream",
     "text": [
      "1449it [01:12, 19.93it/s]\n"
     ]
    },
    {
     "name": "stdout",
     "output_type": "stream",
     "text": [
      "\n",
      "Overall Acc: 0.904948\n",
      "Mean Acc: 0.719968\n",
      "FreqW Acc: 0.834430\n",
      "Mean IoU: 0.617365\n",
      "\n",
      "Epoch 119, Itrs 21710/30000, Loss=0.170049\n",
      "Epoch 119, Itrs 21720/30000, Loss=0.127270\n",
      "Epoch 119, Itrs 21730/30000, Loss=0.248596\n",
      "Epoch 119, Itrs 21740/30000, Loss=0.165002\n",
      "Epoch 119, Itrs 21750/30000, Loss=0.250827\n",
      "Epoch 119, Itrs 21760/30000, Loss=0.190312\n",
      "Epoch 119, Itrs 21770/30000, Loss=0.157660\n"
     ]
    },
    {
     "name": "stderr",
     "output_type": "stream",
     "text": [
      "/home/irfan/Desktop/Code/Linux-IO/python_38/lib/python3.8/site-packages/torchvision/transforms/functional.py:417: UserWarning: Argument 'interpolation' of type int is deprecated since 0.13 and will be removed in 0.15. Please use InterpolationMode enum.\n",
      "  warnings.warn(\n",
      "/home/irfan/Desktop/Code/Linux-IO/python_38/lib/python3.8/site-packages/torchvision/transforms/functional.py:417: UserWarning: Argument 'interpolation' of type int is deprecated since 0.13 and will be removed in 0.15. Please use InterpolationMode enum.\n",
      "  warnings.warn(\n"
     ]
    },
    {
     "name": "stdout",
     "output_type": "stream",
     "text": [
      "Epoch 120, Itrs 21780/30000, Loss=0.123286\n",
      "Epoch 120, Itrs 21790/30000, Loss=0.239727\n",
      "Epoch 120, Itrs 21800/30000, Loss=0.134518\n",
      "Model saved as checkpoints/latest_deeplabv3plus_mobilenet_voc_os16.pth\n",
      "validation...\n"
     ]
    },
    {
     "name": "stderr",
     "output_type": "stream",
     "text": [
      "1449it [01:12, 19.99it/s]\n"
     ]
    },
    {
     "name": "stdout",
     "output_type": "stream",
     "text": [
      "\n",
      "Overall Acc: 0.905613\n",
      "Mean Acc: 0.716489\n",
      "FreqW Acc: 0.835248\n",
      "Mean IoU: 0.617291\n",
      "\n",
      "Epoch 120, Itrs 21810/30000, Loss=0.153951\n",
      "Epoch 120, Itrs 21820/30000, Loss=0.149661\n",
      "Epoch 120, Itrs 21830/30000, Loss=0.146402\n",
      "Epoch 120, Itrs 21840/30000, Loss=0.152676\n",
      "Epoch 120, Itrs 21850/30000, Loss=0.147147\n",
      "Epoch 120, Itrs 21860/30000, Loss=0.155981\n",
      "Epoch 120, Itrs 21870/30000, Loss=0.171272\n",
      "Epoch 120, Itrs 21880/30000, Loss=0.156638\n",
      "Epoch 120, Itrs 21890/30000, Loss=0.145008\n",
      "Epoch 120, Itrs 21900/30000, Loss=0.159079\n",
      "Model saved as checkpoints/latest_deeplabv3plus_mobilenet_voc_os16.pth\n",
      "validation...\n"
     ]
    },
    {
     "name": "stderr",
     "output_type": "stream",
     "text": [
      "1449it [01:09, 20.76it/s]\n"
     ]
    },
    {
     "name": "stdout",
     "output_type": "stream",
     "text": [
      "\n",
      "Overall Acc: 0.907398\n",
      "Mean Acc: 0.707411\n",
      "FreqW Acc: 0.836317\n",
      "Mean IoU: 0.617828\n",
      "\n",
      "Epoch 120, Itrs 21910/30000, Loss=0.159170\n",
      "Epoch 120, Itrs 21920/30000, Loss=0.192740\n",
      "Epoch 120, Itrs 21930/30000, Loss=0.196919\n",
      "Epoch 120, Itrs 21940/30000, Loss=0.146328\n",
      "Epoch 120, Itrs 21950/30000, Loss=0.240671\n",
      "Epoch 120, Itrs 21960/30000, Loss=0.155385\n"
     ]
    },
    {
     "name": "stderr",
     "output_type": "stream",
     "text": [
      "/home/irfan/Desktop/Code/Linux-IO/python_38/lib/python3.8/site-packages/torchvision/transforms/functional.py:417: UserWarning: Argument 'interpolation' of type int is deprecated since 0.13 and will be removed in 0.15. Please use InterpolationMode enum.\n",
      "  warnings.warn(\n",
      "/home/irfan/Desktop/Code/Linux-IO/python_38/lib/python3.8/site-packages/torchvision/transforms/functional.py:417: UserWarning: Argument 'interpolation' of type int is deprecated since 0.13 and will be removed in 0.15. Please use InterpolationMode enum.\n",
      "  warnings.warn(\n"
     ]
    },
    {
     "name": "stdout",
     "output_type": "stream",
     "text": [
      "Epoch 121, Itrs 21970/30000, Loss=0.173145\n",
      "Epoch 121, Itrs 21980/30000, Loss=0.141220\n",
      "Epoch 121, Itrs 21990/30000, Loss=0.134228\n",
      "Epoch 121, Itrs 22000/30000, Loss=0.118054\n",
      "Model saved as checkpoints/latest_deeplabv3plus_mobilenet_voc_os16.pth\n",
      "validation...\n"
     ]
    },
    {
     "name": "stderr",
     "output_type": "stream",
     "text": [
      "1449it [01:05, 22.21it/s]\n"
     ]
    },
    {
     "name": "stdout",
     "output_type": "stream",
     "text": [
      "\n",
      "Overall Acc: 0.908456\n",
      "Mean Acc: 0.697960\n",
      "FreqW Acc: 0.836481\n",
      "Mean IoU: 0.619949\n",
      "\n",
      "Epoch 121, Itrs 22010/30000, Loss=0.199908\n",
      "Epoch 121, Itrs 22020/30000, Loss=0.177847\n",
      "Epoch 121, Itrs 22030/30000, Loss=0.174274\n",
      "Epoch 121, Itrs 22040/30000, Loss=0.155500\n",
      "Epoch 121, Itrs 22050/30000, Loss=0.109567\n",
      "Epoch 121, Itrs 22060/30000, Loss=0.132139\n",
      "Epoch 121, Itrs 22070/30000, Loss=0.134223\n",
      "Epoch 121, Itrs 22080/30000, Loss=0.187538\n",
      "Epoch 121, Itrs 22090/30000, Loss=0.109788\n",
      "Epoch 121, Itrs 22100/30000, Loss=0.147344\n",
      "Model saved as checkpoints/latest_deeplabv3plus_mobilenet_voc_os16.pth\n",
      "validation...\n"
     ]
    },
    {
     "name": "stderr",
     "output_type": "stream",
     "text": [
      "1449it [01:08, 21.23it/s]\n"
     ]
    },
    {
     "name": "stdout",
     "output_type": "stream",
     "text": [
      "\n",
      "Overall Acc: 0.908671\n",
      "Mean Acc: 0.699875\n",
      "FreqW Acc: 0.837524\n",
      "Mean IoU: 0.619425\n",
      "\n",
      "Epoch 121, Itrs 22110/30000, Loss=0.165946\n",
      "Epoch 121, Itrs 22120/30000, Loss=0.169991\n",
      "Epoch 121, Itrs 22130/30000, Loss=0.179184\n",
      "Epoch 121, Itrs 22140/30000, Loss=0.172537\n"
     ]
    },
    {
     "name": "stderr",
     "output_type": "stream",
     "text": [
      "/home/irfan/Desktop/Code/Linux-IO/python_38/lib/python3.8/site-packages/torchvision/transforms/functional.py:417: UserWarning: Argument 'interpolation' of type int is deprecated since 0.13 and will be removed in 0.15. Please use InterpolationMode enum.\n",
      "  warnings.warn(\n",
      "/home/irfan/Desktop/Code/Linux-IO/python_38/lib/python3.8/site-packages/torchvision/transforms/functional.py:417: UserWarning: Argument 'interpolation' of type int is deprecated since 0.13 and will be removed in 0.15. Please use InterpolationMode enum.\n",
      "  warnings.warn(\n"
     ]
    },
    {
     "name": "stdout",
     "output_type": "stream",
     "text": [
      "Epoch 122, Itrs 22150/30000, Loss=0.172606\n",
      "Epoch 122, Itrs 22160/30000, Loss=0.129188\n",
      "Epoch 122, Itrs 22170/30000, Loss=0.114179\n",
      "Epoch 122, Itrs 22180/30000, Loss=0.144017\n",
      "Epoch 122, Itrs 22190/30000, Loss=0.143821\n",
      "Epoch 122, Itrs 22200/30000, Loss=0.166350\n",
      "Model saved as checkpoints/latest_deeplabv3plus_mobilenet_voc_os16.pth\n",
      "validation...\n"
     ]
    },
    {
     "name": "stderr",
     "output_type": "stream",
     "text": [
      "1449it [01:09, 20.90it/s]\n"
     ]
    },
    {
     "name": "stdout",
     "output_type": "stream",
     "text": [
      "\n",
      "Overall Acc: 0.907589\n",
      "Mean Acc: 0.702041\n",
      "FreqW Acc: 0.835544\n",
      "Mean IoU: 0.618801\n",
      "\n",
      "Epoch 122, Itrs 22210/30000, Loss=0.157650\n",
      "Epoch 122, Itrs 22220/30000, Loss=0.147261\n",
      "Epoch 122, Itrs 22230/30000, Loss=0.154180\n",
      "Epoch 122, Itrs 22240/30000, Loss=0.133794\n",
      "Epoch 122, Itrs 22250/30000, Loss=0.194417\n",
      "Epoch 122, Itrs 22260/30000, Loss=0.165225\n",
      "Epoch 122, Itrs 22270/30000, Loss=0.220438\n",
      "Epoch 122, Itrs 22280/30000, Loss=0.179716\n",
      "Epoch 122, Itrs 22290/30000, Loss=0.136260\n",
      "Epoch 122, Itrs 22300/30000, Loss=0.177720\n",
      "Model saved as checkpoints/latest_deeplabv3plus_mobilenet_voc_os16.pth\n",
      "validation...\n"
     ]
    },
    {
     "name": "stderr",
     "output_type": "stream",
     "text": [
      "1449it [01:04, 22.33it/s]\n"
     ]
    },
    {
     "name": "stdout",
     "output_type": "stream",
     "text": [
      "\n",
      "Overall Acc: 0.907285\n",
      "Mean Acc: 0.713710\n",
      "FreqW Acc: 0.836701\n",
      "Mean IoU: 0.623439\n",
      "\n",
      "Epoch 122, Itrs 22310/30000, Loss=0.170120\n",
      "Epoch 122, Itrs 22320/30000, Loss=0.166093\n"
     ]
    },
    {
     "name": "stderr",
     "output_type": "stream",
     "text": [
      "/home/irfan/Desktop/Code/Linux-IO/python_38/lib/python3.8/site-packages/torchvision/transforms/functional.py:417: UserWarning: Argument 'interpolation' of type int is deprecated since 0.13 and will be removed in 0.15. Please use InterpolationMode enum.\n",
      "  warnings.warn(\n",
      "/home/irfan/Desktop/Code/Linux-IO/python_38/lib/python3.8/site-packages/torchvision/transforms/functional.py:417: UserWarning: Argument 'interpolation' of type int is deprecated since 0.13 and will be removed in 0.15. Please use InterpolationMode enum.\n",
      "  warnings.warn(\n"
     ]
    },
    {
     "name": "stdout",
     "output_type": "stream",
     "text": [
      "Epoch 123, Itrs 22330/30000, Loss=0.160645\n",
      "Epoch 123, Itrs 22340/30000, Loss=0.114702\n",
      "Epoch 123, Itrs 22350/30000, Loss=0.118574\n",
      "Epoch 123, Itrs 22360/30000, Loss=0.136422\n",
      "Epoch 123, Itrs 22370/30000, Loss=0.198594\n",
      "Epoch 123, Itrs 22380/30000, Loss=0.140461\n",
      "Epoch 123, Itrs 22390/30000, Loss=0.138504\n",
      "Epoch 123, Itrs 22400/30000, Loss=0.120082\n",
      "Model saved as checkpoints/latest_deeplabv3plus_mobilenet_voc_os16.pth\n",
      "validation...\n"
     ]
    },
    {
     "name": "stderr",
     "output_type": "stream",
     "text": [
      "1449it [01:09, 20.93it/s]\n"
     ]
    },
    {
     "name": "stdout",
     "output_type": "stream",
     "text": [
      "\n",
      "Overall Acc: 0.907998\n",
      "Mean Acc: 0.706260\n",
      "FreqW Acc: 0.836918\n",
      "Mean IoU: 0.622292\n",
      "\n",
      "Epoch 123, Itrs 22410/30000, Loss=0.130036\n",
      "Epoch 123, Itrs 22420/30000, Loss=0.119898\n",
      "Epoch 123, Itrs 22430/30000, Loss=0.182156\n",
      "Epoch 123, Itrs 22440/30000, Loss=0.165168\n",
      "Epoch 123, Itrs 22450/30000, Loss=0.136172\n",
      "Epoch 123, Itrs 22460/30000, Loss=0.144705\n",
      "Epoch 123, Itrs 22470/30000, Loss=0.204640\n",
      "Epoch 123, Itrs 22480/30000, Loss=0.214259\n",
      "Epoch 123, Itrs 22490/30000, Loss=0.165897\n",
      "Epoch 123, Itrs 22500/30000, Loss=0.170669\n",
      "Model saved as checkpoints/latest_deeplabv3plus_mobilenet_voc_os16.pth\n",
      "validation...\n"
     ]
    },
    {
     "name": "stderr",
     "output_type": "stream",
     "text": [
      "1449it [01:08, 21.17it/s]\n"
     ]
    },
    {
     "name": "stdout",
     "output_type": "stream",
     "text": [
      "\n",
      "Overall Acc: 0.908823\n",
      "Mean Acc: 0.710175\n",
      "FreqW Acc: 0.838947\n",
      "Mean IoU: 0.624625\n",
      "\n"
     ]
    },
    {
     "name": "stderr",
     "output_type": "stream",
     "text": [
      "/home/irfan/Desktop/Code/Linux-IO/python_38/lib/python3.8/site-packages/torchvision/transforms/functional.py:417: UserWarning: Argument 'interpolation' of type int is deprecated since 0.13 and will be removed in 0.15. Please use InterpolationMode enum.\n",
      "  warnings.warn(\n",
      "/home/irfan/Desktop/Code/Linux-IO/python_38/lib/python3.8/site-packages/torchvision/transforms/functional.py:417: UserWarning: Argument 'interpolation' of type int is deprecated since 0.13 and will be removed in 0.15. Please use InterpolationMode enum.\n",
      "  warnings.warn(\n"
     ]
    },
    {
     "name": "stdout",
     "output_type": "stream",
     "text": [
      "Epoch 124, Itrs 22510/30000, Loss=0.166589\n",
      "Epoch 124, Itrs 22520/30000, Loss=0.166830\n",
      "Epoch 124, Itrs 22530/30000, Loss=0.143107\n",
      "Epoch 124, Itrs 22540/30000, Loss=0.204673\n",
      "Epoch 124, Itrs 22550/30000, Loss=0.148413\n",
      "Epoch 124, Itrs 22560/30000, Loss=0.159149\n",
      "Epoch 124, Itrs 22570/30000, Loss=0.124149\n",
      "Epoch 124, Itrs 22580/30000, Loss=0.138271\n",
      "Epoch 124, Itrs 22590/30000, Loss=0.182282\n",
      "Epoch 124, Itrs 22600/30000, Loss=0.166362\n",
      "Model saved as checkpoints/latest_deeplabv3plus_mobilenet_voc_os16.pth\n",
      "validation...\n"
     ]
    },
    {
     "name": "stderr",
     "output_type": "stream",
     "text": [
      "1449it [01:09, 20.82it/s]\n"
     ]
    },
    {
     "name": "stdout",
     "output_type": "stream",
     "text": [
      "\n",
      "Overall Acc: 0.909390\n",
      "Mean Acc: 0.715042\n",
      "FreqW Acc: 0.839461\n",
      "Mean IoU: 0.625804\n",
      "\n",
      "Epoch 124, Itrs 22610/30000, Loss=0.160025\n",
      "Epoch 124, Itrs 22620/30000, Loss=0.179349\n",
      "Epoch 124, Itrs 22630/30000, Loss=0.148150\n",
      "Epoch 124, Itrs 22640/30000, Loss=0.148552\n",
      "Epoch 124, Itrs 22650/30000, Loss=0.133775\n",
      "Epoch 124, Itrs 22660/30000, Loss=0.157525\n",
      "Epoch 124, Itrs 22670/30000, Loss=0.127336\n",
      "Epoch 124, Itrs 22680/30000, Loss=0.126122\n",
      "Epoch 124, Itrs 22690/30000, Loss=0.180566\n"
     ]
    },
    {
     "name": "stderr",
     "output_type": "stream",
     "text": [
      "/home/irfan/Desktop/Code/Linux-IO/python_38/lib/python3.8/site-packages/torchvision/transforms/functional.py:417: UserWarning: Argument 'interpolation' of type int is deprecated since 0.13 and will be removed in 0.15. Please use InterpolationMode enum.\n",
      "  warnings.warn(\n",
      "/home/irfan/Desktop/Code/Linux-IO/python_38/lib/python3.8/site-packages/torchvision/transforms/functional.py:417: UserWarning: Argument 'interpolation' of type int is deprecated since 0.13 and will be removed in 0.15. Please use InterpolationMode enum.\n",
      "  warnings.warn(\n"
     ]
    },
    {
     "name": "stdout",
     "output_type": "stream",
     "text": [
      "Epoch 125, Itrs 22700/30000, Loss=0.192816\n",
      "Model saved as checkpoints/latest_deeplabv3plus_mobilenet_voc_os16.pth\n",
      "validation...\n"
     ]
    },
    {
     "name": "stderr",
     "output_type": "stream",
     "text": [
      "1449it [01:07, 21.61it/s]\n"
     ]
    },
    {
     "name": "stdout",
     "output_type": "stream",
     "text": [
      "\n",
      "Overall Acc: 0.907777\n",
      "Mean Acc: 0.710784\n",
      "FreqW Acc: 0.837048\n",
      "Mean IoU: 0.621033\n",
      "\n",
      "Epoch 125, Itrs 22710/30000, Loss=0.166873\n",
      "Epoch 125, Itrs 22720/30000, Loss=0.186263\n",
      "Epoch 125, Itrs 22730/30000, Loss=0.184839\n",
      "Epoch 125, Itrs 22740/30000, Loss=0.248064\n",
      "Epoch 125, Itrs 22750/30000, Loss=0.213541\n",
      "Epoch 125, Itrs 22760/30000, Loss=0.154717\n",
      "Epoch 125, Itrs 22770/30000, Loss=0.176660\n",
      "Epoch 125, Itrs 22780/30000, Loss=0.146238\n",
      "Epoch 125, Itrs 22790/30000, Loss=0.182888\n",
      "Epoch 125, Itrs 22800/30000, Loss=0.121241\n",
      "Model saved as checkpoints/latest_deeplabv3plus_mobilenet_voc_os16.pth\n",
      "validation...\n"
     ]
    },
    {
     "name": "stderr",
     "output_type": "stream",
     "text": [
      "1449it [01:06, 21.64it/s]\n"
     ]
    },
    {
     "name": "stdout",
     "output_type": "stream",
     "text": [
      "\n",
      "Overall Acc: 0.907753\n",
      "Mean Acc: 0.718952\n",
      "FreqW Acc: 0.837785\n",
      "Mean IoU: 0.622953\n",
      "\n",
      "Epoch 125, Itrs 22810/30000, Loss=0.155766\n",
      "Epoch 125, Itrs 22820/30000, Loss=0.141028\n",
      "Epoch 125, Itrs 22830/30000, Loss=0.223388\n",
      "Epoch 125, Itrs 22840/30000, Loss=0.127004\n",
      "Epoch 125, Itrs 22850/30000, Loss=0.187643\n",
      "Epoch 125, Itrs 22860/30000, Loss=0.154254\n",
      "Epoch 125, Itrs 22870/30000, Loss=0.156093\n"
     ]
    },
    {
     "name": "stderr",
     "output_type": "stream",
     "text": [
      "/home/irfan/Desktop/Code/Linux-IO/python_38/lib/python3.8/site-packages/torchvision/transforms/functional.py:417: UserWarning: Argument 'interpolation' of type int is deprecated since 0.13 and will be removed in 0.15. Please use InterpolationMode enum.\n",
      "  warnings.warn(\n",
      "/home/irfan/Desktop/Code/Linux-IO/python_38/lib/python3.8/site-packages/torchvision/transforms/functional.py:417: UserWarning: Argument 'interpolation' of type int is deprecated since 0.13 and will be removed in 0.15. Please use InterpolationMode enum.\n",
      "  warnings.warn(\n"
     ]
    },
    {
     "name": "stdout",
     "output_type": "stream",
     "text": [
      "Epoch 126, Itrs 22880/30000, Loss=0.151267\n",
      "Epoch 126, Itrs 22890/30000, Loss=0.173812\n",
      "Epoch 126, Itrs 22900/30000, Loss=0.155862\n",
      "Model saved as checkpoints/latest_deeplabv3plus_mobilenet_voc_os16.pth\n",
      "validation...\n"
     ]
    },
    {
     "name": "stderr",
     "output_type": "stream",
     "text": [
      "1449it [01:04, 22.47it/s]\n"
     ]
    },
    {
     "name": "stdout",
     "output_type": "stream",
     "text": [
      "\n",
      "Overall Acc: 0.907824\n",
      "Mean Acc: 0.705509\n",
      "FreqW Acc: 0.836799\n",
      "Mean IoU: 0.619542\n",
      "\n",
      "Epoch 126, Itrs 22910/30000, Loss=0.157174\n",
      "Epoch 126, Itrs 22920/30000, Loss=0.140941\n",
      "Epoch 126, Itrs 22930/30000, Loss=0.143097\n",
      "Epoch 126, Itrs 22940/30000, Loss=0.202132\n",
      "Epoch 126, Itrs 22950/30000, Loss=0.124076\n",
      "Epoch 126, Itrs 22960/30000, Loss=0.164907\n",
      "Epoch 126, Itrs 22970/30000, Loss=0.139739\n",
      "Epoch 126, Itrs 22980/30000, Loss=0.183306\n",
      "Epoch 126, Itrs 22990/30000, Loss=0.198330\n",
      "Epoch 126, Itrs 23000/30000, Loss=0.164712\n",
      "Model saved as checkpoints/latest_deeplabv3plus_mobilenet_voc_os16.pth\n",
      "validation...\n"
     ]
    },
    {
     "name": "stderr",
     "output_type": "stream",
     "text": [
      "1449it [01:09, 20.93it/s]\n"
     ]
    },
    {
     "name": "stdout",
     "output_type": "stream",
     "text": [
      "\n",
      "Overall Acc: 0.902421\n",
      "Mean Acc: 0.707383\n",
      "FreqW Acc: 0.829590\n",
      "Mean IoU: 0.606768\n",
      "\n",
      "Epoch 126, Itrs 23010/30000, Loss=0.161083\n",
      "Epoch 126, Itrs 23020/30000, Loss=0.151490\n",
      "Epoch 126, Itrs 23030/30000, Loss=0.163939\n",
      "Epoch 126, Itrs 23040/30000, Loss=0.114371\n",
      "Epoch 126, Itrs 23050/30000, Loss=0.166255\n"
     ]
    },
    {
     "name": "stderr",
     "output_type": "stream",
     "text": [
      "/home/irfan/Desktop/Code/Linux-IO/python_38/lib/python3.8/site-packages/torchvision/transforms/functional.py:417: UserWarning: Argument 'interpolation' of type int is deprecated since 0.13 and will be removed in 0.15. Please use InterpolationMode enum.\n",
      "  warnings.warn(\n",
      "/home/irfan/Desktop/Code/Linux-IO/python_38/lib/python3.8/site-packages/torchvision/transforms/functional.py:417: UserWarning: Argument 'interpolation' of type int is deprecated since 0.13 and will be removed in 0.15. Please use InterpolationMode enum.\n",
      "  warnings.warn(\n"
     ]
    },
    {
     "name": "stdout",
     "output_type": "stream",
     "text": [
      "Epoch 127, Itrs 23060/30000, Loss=0.131660\n",
      "Epoch 127, Itrs 23070/30000, Loss=0.167840\n",
      "Epoch 127, Itrs 23080/30000, Loss=0.154570\n",
      "Epoch 127, Itrs 23090/30000, Loss=0.196007\n",
      "Epoch 127, Itrs 23100/30000, Loss=0.167120\n",
      "Model saved as checkpoints/latest_deeplabv3plus_mobilenet_voc_os16.pth\n",
      "validation...\n"
     ]
    },
    {
     "name": "stderr",
     "output_type": "stream",
     "text": [
      "1449it [01:06, 21.74it/s]\n"
     ]
    },
    {
     "name": "stdout",
     "output_type": "stream",
     "text": [
      "\n",
      "Overall Acc: 0.907327\n",
      "Mean Acc: 0.702403\n",
      "FreqW Acc: 0.835249\n",
      "Mean IoU: 0.617678\n",
      "\n",
      "Epoch 127, Itrs 23110/30000, Loss=0.153496\n",
      "Epoch 127, Itrs 23120/30000, Loss=0.126968\n",
      "Epoch 127, Itrs 23130/30000, Loss=0.215110\n",
      "Epoch 127, Itrs 23140/30000, Loss=0.158284\n",
      "Epoch 127, Itrs 23150/30000, Loss=0.202359\n",
      "Epoch 127, Itrs 23160/30000, Loss=0.170791\n",
      "Epoch 127, Itrs 23170/30000, Loss=0.166848\n",
      "Epoch 127, Itrs 23180/30000, Loss=0.159154\n",
      "Epoch 127, Itrs 23190/30000, Loss=0.135354\n",
      "Epoch 127, Itrs 23200/30000, Loss=0.122925\n",
      "Model saved as checkpoints/latest_deeplabv3plus_mobilenet_voc_os16.pth\n",
      "validation...\n"
     ]
    },
    {
     "name": "stderr",
     "output_type": "stream",
     "text": [
      "1449it [01:04, 22.46it/s]\n"
     ]
    },
    {
     "name": "stdout",
     "output_type": "stream",
     "text": [
      "\n",
      "Overall Acc: 0.907015\n",
      "Mean Acc: 0.693532\n",
      "FreqW Acc: 0.834198\n",
      "Mean IoU: 0.616761\n",
      "\n",
      "Epoch 127, Itrs 23210/30000, Loss=0.226547\n",
      "Epoch 127, Itrs 23220/30000, Loss=0.187267\n",
      "Epoch 127, Itrs 23230/30000, Loss=0.151997\n",
      "Epoch 127, Itrs 23240/30000, Loss=0.204683\n"
     ]
    },
    {
     "name": "stderr",
     "output_type": "stream",
     "text": [
      "/home/irfan/Desktop/Code/Linux-IO/python_38/lib/python3.8/site-packages/torchvision/transforms/functional.py:417: UserWarning: Argument 'interpolation' of type int is deprecated since 0.13 and will be removed in 0.15. Please use InterpolationMode enum.\n",
      "  warnings.warn(\n",
      "/home/irfan/Desktop/Code/Linux-IO/python_38/lib/python3.8/site-packages/torchvision/transforms/functional.py:417: UserWarning: Argument 'interpolation' of type int is deprecated since 0.13 and will be removed in 0.15. Please use InterpolationMode enum.\n",
      "  warnings.warn(\n"
     ]
    },
    {
     "name": "stdout",
     "output_type": "stream",
     "text": [
      "Epoch 128, Itrs 23250/30000, Loss=0.155906\n",
      "Epoch 128, Itrs 23260/30000, Loss=0.143968\n",
      "Epoch 128, Itrs 23270/30000, Loss=0.172352\n",
      "Epoch 128, Itrs 23280/30000, Loss=0.127715\n",
      "Epoch 128, Itrs 23290/30000, Loss=0.175707\n",
      "Epoch 128, Itrs 23300/30000, Loss=0.132259\n",
      "Model saved as checkpoints/latest_deeplabv3plus_mobilenet_voc_os16.pth\n",
      "validation...\n"
     ]
    },
    {
     "name": "stderr",
     "output_type": "stream",
     "text": [
      "1449it [01:07, 21.49it/s]\n"
     ]
    },
    {
     "name": "stdout",
     "output_type": "stream",
     "text": [
      "\n",
      "Overall Acc: 0.906523\n",
      "Mean Acc: 0.704342\n",
      "FreqW Acc: 0.834855\n",
      "Mean IoU: 0.617886\n",
      "\n",
      "Epoch 128, Itrs 23310/30000, Loss=0.160236\n",
      "Epoch 128, Itrs 23320/30000, Loss=0.159198\n",
      "Epoch 128, Itrs 23330/30000, Loss=0.192777\n",
      "Epoch 128, Itrs 23340/30000, Loss=0.194498\n",
      "Epoch 128, Itrs 23350/30000, Loss=0.139335\n",
      "Epoch 128, Itrs 23360/30000, Loss=0.122562\n",
      "Epoch 128, Itrs 23370/30000, Loss=0.154464\n",
      "Epoch 128, Itrs 23380/30000, Loss=0.169624\n",
      "Epoch 128, Itrs 23390/30000, Loss=0.144349\n",
      "Epoch 128, Itrs 23400/30000, Loss=0.191077\n",
      "Model saved as checkpoints/latest_deeplabv3plus_mobilenet_voc_os16.pth\n",
      "validation...\n"
     ]
    },
    {
     "name": "stderr",
     "output_type": "stream",
     "text": [
      "1449it [01:04, 22.30it/s]\n"
     ]
    },
    {
     "name": "stdout",
     "output_type": "stream",
     "text": [
      "\n",
      "Overall Acc: 0.905962\n",
      "Mean Acc: 0.696046\n",
      "FreqW Acc: 0.833241\n",
      "Mean IoU: 0.613544\n",
      "\n",
      "Epoch 128, Itrs 23410/30000, Loss=0.135634\n",
      "Epoch 128, Itrs 23420/30000, Loss=0.140266\n"
     ]
    },
    {
     "name": "stderr",
     "output_type": "stream",
     "text": [
      "/home/irfan/Desktop/Code/Linux-IO/python_38/lib/python3.8/site-packages/torchvision/transforms/functional.py:417: UserWarning: Argument 'interpolation' of type int is deprecated since 0.13 and will be removed in 0.15. Please use InterpolationMode enum.\n",
      "  warnings.warn(\n",
      "/home/irfan/Desktop/Code/Linux-IO/python_38/lib/python3.8/site-packages/torchvision/transforms/functional.py:417: UserWarning: Argument 'interpolation' of type int is deprecated since 0.13 and will be removed in 0.15. Please use InterpolationMode enum.\n",
      "  warnings.warn(\n"
     ]
    },
    {
     "name": "stdout",
     "output_type": "stream",
     "text": [
      "Epoch 129, Itrs 23430/30000, Loss=0.211488\n",
      "Epoch 129, Itrs 23440/30000, Loss=0.271812\n",
      "Epoch 129, Itrs 23450/30000, Loss=0.155317\n",
      "Epoch 129, Itrs 23460/30000, Loss=0.190097\n",
      "Epoch 129, Itrs 23470/30000, Loss=0.190952\n",
      "Epoch 129, Itrs 23480/30000, Loss=0.184501\n",
      "Epoch 129, Itrs 23490/30000, Loss=0.136795\n",
      "Epoch 129, Itrs 23500/30000, Loss=0.134862\n",
      "Model saved as checkpoints/latest_deeplabv3plus_mobilenet_voc_os16.pth\n",
      "validation...\n"
     ]
    },
    {
     "name": "stderr",
     "output_type": "stream",
     "text": [
      "1449it [01:04, 22.57it/s]\n"
     ]
    },
    {
     "name": "stdout",
     "output_type": "stream",
     "text": [
      "\n",
      "Overall Acc: 0.906074\n",
      "Mean Acc: 0.711137\n",
      "FreqW Acc: 0.835425\n",
      "Mean IoU: 0.618488\n",
      "\n",
      "Epoch 129, Itrs 23510/30000, Loss=0.131369\n",
      "Epoch 129, Itrs 23520/30000, Loss=0.147799\n",
      "Epoch 129, Itrs 23530/30000, Loss=0.155314\n",
      "Epoch 129, Itrs 23540/30000, Loss=0.109099\n",
      "Epoch 129, Itrs 23550/30000, Loss=0.150533\n",
      "Epoch 129, Itrs 23560/30000, Loss=0.205609\n",
      "Epoch 129, Itrs 23570/30000, Loss=0.148797\n",
      "Epoch 129, Itrs 23580/30000, Loss=0.166236\n",
      "Epoch 129, Itrs 23590/30000, Loss=0.146118\n",
      "Epoch 129, Itrs 23600/30000, Loss=0.245638\n",
      "Model saved as checkpoints/latest_deeplabv3plus_mobilenet_voc_os16.pth\n",
      "validation...\n"
     ]
    },
    {
     "name": "stderr",
     "output_type": "stream",
     "text": [
      "1449it [01:07, 21.49it/s]\n"
     ]
    },
    {
     "name": "stdout",
     "output_type": "stream",
     "text": [
      "\n",
      "Overall Acc: 0.907233\n",
      "Mean Acc: 0.706496\n",
      "FreqW Acc: 0.836224\n",
      "Mean IoU: 0.618999\n",
      "\n"
     ]
    },
    {
     "name": "stderr",
     "output_type": "stream",
     "text": [
      "/home/irfan/Desktop/Code/Linux-IO/python_38/lib/python3.8/site-packages/torchvision/transforms/functional.py:417: UserWarning: Argument 'interpolation' of type int is deprecated since 0.13 and will be removed in 0.15. Please use InterpolationMode enum.\n",
      "  warnings.warn(\n",
      "/home/irfan/Desktop/Code/Linux-IO/python_38/lib/python3.8/site-packages/torchvision/transforms/functional.py:417: UserWarning: Argument 'interpolation' of type int is deprecated since 0.13 and will be removed in 0.15. Please use InterpolationMode enum.\n",
      "  warnings.warn(\n"
     ]
    },
    {
     "name": "stdout",
     "output_type": "stream",
     "text": [
      "Epoch 130, Itrs 23610/30000, Loss=0.129774\n",
      "Epoch 130, Itrs 23620/30000, Loss=0.143416\n",
      "Epoch 130, Itrs 23630/30000, Loss=0.131746\n",
      "Epoch 130, Itrs 23640/30000, Loss=0.163992\n",
      "Epoch 130, Itrs 23650/30000, Loss=0.141239\n",
      "Epoch 130, Itrs 23660/30000, Loss=0.192597\n",
      "Epoch 130, Itrs 23670/30000, Loss=0.224317\n",
      "Epoch 130, Itrs 23680/30000, Loss=0.164211\n",
      "Epoch 130, Itrs 23690/30000, Loss=0.159886\n",
      "Epoch 130, Itrs 23700/30000, Loss=0.136912\n",
      "Model saved as checkpoints/latest_deeplabv3plus_mobilenet_voc_os16.pth\n",
      "validation...\n"
     ]
    },
    {
     "name": "stderr",
     "output_type": "stream",
     "text": [
      "1449it [01:10, 20.51it/s]\n"
     ]
    },
    {
     "name": "stdout",
     "output_type": "stream",
     "text": [
      "\n",
      "Overall Acc: 0.907197\n",
      "Mean Acc: 0.705333\n",
      "FreqW Acc: 0.836650\n",
      "Mean IoU: 0.620002\n",
      "\n",
      "Epoch 130, Itrs 23710/30000, Loss=0.192191\n",
      "Epoch 130, Itrs 23720/30000, Loss=0.189068\n",
      "Epoch 130, Itrs 23730/30000, Loss=0.160654\n",
      "Epoch 130, Itrs 23740/30000, Loss=0.199621\n",
      "Epoch 130, Itrs 23750/30000, Loss=0.144791\n",
      "Epoch 130, Itrs 23760/30000, Loss=0.132583\n",
      "Epoch 130, Itrs 23770/30000, Loss=0.199533\n",
      "Epoch 130, Itrs 23780/30000, Loss=0.153857\n",
      "Epoch 130, Itrs 23790/30000, Loss=0.131532\n"
     ]
    },
    {
     "name": "stderr",
     "output_type": "stream",
     "text": [
      "/home/irfan/Desktop/Code/Linux-IO/python_38/lib/python3.8/site-packages/torchvision/transforms/functional.py:417: UserWarning: Argument 'interpolation' of type int is deprecated since 0.13 and will be removed in 0.15. Please use InterpolationMode enum.\n",
      "  warnings.warn(\n",
      "/home/irfan/Desktop/Code/Linux-IO/python_38/lib/python3.8/site-packages/torchvision/transforms/functional.py:417: UserWarning: Argument 'interpolation' of type int is deprecated since 0.13 and will be removed in 0.15. Please use InterpolationMode enum.\n",
      "  warnings.warn(\n"
     ]
    },
    {
     "name": "stdout",
     "output_type": "stream",
     "text": [
      "Epoch 131, Itrs 23800/30000, Loss=0.115176\n",
      "Model saved as checkpoints/latest_deeplabv3plus_mobilenet_voc_os16.pth\n",
      "validation...\n"
     ]
    },
    {
     "name": "stderr",
     "output_type": "stream",
     "text": [
      "1449it [01:08, 21.12it/s]\n"
     ]
    },
    {
     "name": "stdout",
     "output_type": "stream",
     "text": [
      "\n",
      "Overall Acc: 0.906326\n",
      "Mean Acc: 0.703314\n",
      "FreqW Acc: 0.834764\n",
      "Mean IoU: 0.617395\n",
      "\n",
      "Epoch 131, Itrs 23810/30000, Loss=0.189889\n",
      "Epoch 131, Itrs 23820/30000, Loss=0.180595\n",
      "Epoch 131, Itrs 23830/30000, Loss=0.186234\n",
      "Epoch 131, Itrs 23840/30000, Loss=0.154764\n",
      "Epoch 131, Itrs 23850/30000, Loss=0.156722\n",
      "Epoch 131, Itrs 23860/30000, Loss=0.150600\n",
      "Epoch 131, Itrs 23870/30000, Loss=0.152391\n",
      "Epoch 131, Itrs 23880/30000, Loss=0.140429\n",
      "Epoch 131, Itrs 23890/30000, Loss=0.195569\n",
      "Epoch 131, Itrs 23900/30000, Loss=0.142973\n",
      "Model saved as checkpoints/latest_deeplabv3plus_mobilenet_voc_os16.pth\n",
      "validation...\n"
     ]
    },
    {
     "name": "stderr",
     "output_type": "stream",
     "text": [
      "1449it [01:09, 20.87it/s]\n"
     ]
    },
    {
     "name": "stdout",
     "output_type": "stream",
     "text": [
      "\n",
      "Overall Acc: 0.907908\n",
      "Mean Acc: 0.714039\n",
      "FreqW Acc: 0.838468\n",
      "Mean IoU: 0.626089\n",
      "\n",
      "Epoch 131, Itrs 23910/30000, Loss=0.162091\n",
      "Epoch 131, Itrs 23920/30000, Loss=0.183059\n",
      "Epoch 131, Itrs 23930/30000, Loss=0.117393\n",
      "Epoch 131, Itrs 23940/30000, Loss=0.163430\n",
      "Epoch 131, Itrs 23950/30000, Loss=0.140367\n",
      "Epoch 131, Itrs 23960/30000, Loss=0.183811\n",
      "Epoch 131, Itrs 23970/30000, Loss=0.135751\n"
     ]
    },
    {
     "name": "stderr",
     "output_type": "stream",
     "text": [
      "/home/irfan/Desktop/Code/Linux-IO/python_38/lib/python3.8/site-packages/torchvision/transforms/functional.py:417: UserWarning: Argument 'interpolation' of type int is deprecated since 0.13 and will be removed in 0.15. Please use InterpolationMode enum.\n",
      "  warnings.warn(\n",
      "/home/irfan/Desktop/Code/Linux-IO/python_38/lib/python3.8/site-packages/torchvision/transforms/functional.py:417: UserWarning: Argument 'interpolation' of type int is deprecated since 0.13 and will be removed in 0.15. Please use InterpolationMode enum.\n",
      "  warnings.warn(\n"
     ]
    },
    {
     "name": "stdout",
     "output_type": "stream",
     "text": [
      "Epoch 132, Itrs 23980/30000, Loss=0.112181\n",
      "Epoch 132, Itrs 23990/30000, Loss=0.173389\n",
      "Epoch 132, Itrs 24000/30000, Loss=0.195324\n",
      "Model saved as checkpoints/latest_deeplabv3plus_mobilenet_voc_os16.pth\n",
      "validation...\n"
     ]
    },
    {
     "name": "stderr",
     "output_type": "stream",
     "text": [
      "1449it [01:11, 20.35it/s]\n"
     ]
    },
    {
     "name": "stdout",
     "output_type": "stream",
     "text": [
      "\n",
      "Overall Acc: 0.905364\n",
      "Mean Acc: 0.703702\n",
      "FreqW Acc: 0.833614\n",
      "Mean IoU: 0.615928\n",
      "\n",
      "Epoch 132, Itrs 24010/30000, Loss=0.161843\n",
      "Epoch 132, Itrs 24020/30000, Loss=0.140304\n",
      "Epoch 132, Itrs 24030/30000, Loss=0.147531\n",
      "Epoch 132, Itrs 24040/30000, Loss=0.122463\n",
      "Epoch 132, Itrs 24050/30000, Loss=0.164882\n",
      "Epoch 132, Itrs 24060/30000, Loss=0.144371\n",
      "Epoch 132, Itrs 24070/30000, Loss=0.163315\n",
      "Epoch 132, Itrs 24080/30000, Loss=0.188100\n",
      "Epoch 132, Itrs 24090/30000, Loss=0.200807\n",
      "Epoch 132, Itrs 24100/30000, Loss=0.129804\n",
      "Model saved as checkpoints/latest_deeplabv3plus_mobilenet_voc_os16.pth\n",
      "validation...\n"
     ]
    },
    {
     "name": "stderr",
     "output_type": "stream",
     "text": [
      "1449it [01:06, 21.86it/s]\n"
     ]
    },
    {
     "name": "stdout",
     "output_type": "stream",
     "text": [
      "\n",
      "Overall Acc: 0.906543\n",
      "Mean Acc: 0.687119\n",
      "FreqW Acc: 0.833015\n",
      "Mean IoU: 0.612161\n",
      "\n",
      "Epoch 132, Itrs 24110/30000, Loss=0.167493\n",
      "Epoch 132, Itrs 24120/30000, Loss=0.135952\n",
      "Epoch 132, Itrs 24130/30000, Loss=0.212781\n",
      "Epoch 132, Itrs 24140/30000, Loss=0.201898\n",
      "Epoch 132, Itrs 24150/30000, Loss=0.155900\n"
     ]
    },
    {
     "name": "stderr",
     "output_type": "stream",
     "text": [
      "/home/irfan/Desktop/Code/Linux-IO/python_38/lib/python3.8/site-packages/torchvision/transforms/functional.py:417: UserWarning: Argument 'interpolation' of type int is deprecated since 0.13 and will be removed in 0.15. Please use InterpolationMode enum.\n",
      "  warnings.warn(\n",
      "/home/irfan/Desktop/Code/Linux-IO/python_38/lib/python3.8/site-packages/torchvision/transforms/functional.py:417: UserWarning: Argument 'interpolation' of type int is deprecated since 0.13 and will be removed in 0.15. Please use InterpolationMode enum.\n",
      "  warnings.warn(\n"
     ]
    },
    {
     "name": "stdout",
     "output_type": "stream",
     "text": [
      "Epoch 133, Itrs 24160/30000, Loss=0.140457\n",
      "Epoch 133, Itrs 24170/30000, Loss=0.141576\n",
      "Epoch 133, Itrs 24180/30000, Loss=0.134383\n",
      "Epoch 133, Itrs 24190/30000, Loss=0.141751\n",
      "Epoch 133, Itrs 24200/30000, Loss=0.171668\n",
      "Model saved as checkpoints/latest_deeplabv3plus_mobilenet_voc_os16.pth\n",
      "validation...\n"
     ]
    },
    {
     "name": "stderr",
     "output_type": "stream",
     "text": [
      "1449it [01:12, 20.01it/s]\n"
     ]
    },
    {
     "name": "stdout",
     "output_type": "stream",
     "text": [
      "\n",
      "Overall Acc: 0.907479\n",
      "Mean Acc: 0.698687\n",
      "FreqW Acc: 0.836335\n",
      "Mean IoU: 0.618800\n",
      "\n",
      "Epoch 133, Itrs 24210/30000, Loss=0.169972\n",
      "Epoch 133, Itrs 24220/30000, Loss=0.148719\n",
      "Epoch 133, Itrs 24230/30000, Loss=0.156642\n",
      "Epoch 133, Itrs 24240/30000, Loss=0.134156\n",
      "Epoch 133, Itrs 24250/30000, Loss=0.143928\n",
      "Epoch 133, Itrs 24260/30000, Loss=0.142910\n",
      "Epoch 133, Itrs 24270/30000, Loss=0.114299\n",
      "Epoch 133, Itrs 24280/30000, Loss=0.104740\n",
      "Epoch 133, Itrs 24290/30000, Loss=0.123657\n",
      "Epoch 133, Itrs 24300/30000, Loss=0.191999\n",
      "Model saved as checkpoints/latest_deeplabv3plus_mobilenet_voc_os16.pth\n",
      "validation...\n"
     ]
    },
    {
     "name": "stderr",
     "output_type": "stream",
     "text": [
      "1449it [01:13, 19.65it/s]\n"
     ]
    },
    {
     "name": "stdout",
     "output_type": "stream",
     "text": [
      "\n",
      "Overall Acc: 0.906715\n",
      "Mean Acc: 0.695855\n",
      "FreqW Acc: 0.834575\n",
      "Mean IoU: 0.619620\n",
      "\n",
      "Epoch 133, Itrs 24310/30000, Loss=0.143877\n",
      "Epoch 133, Itrs 24320/30000, Loss=0.192824\n",
      "Epoch 133, Itrs 24330/30000, Loss=0.138085\n"
     ]
    },
    {
     "name": "stderr",
     "output_type": "stream",
     "text": [
      "/home/irfan/Desktop/Code/Linux-IO/python_38/lib/python3.8/site-packages/torchvision/transforms/functional.py:417: UserWarning: Argument 'interpolation' of type int is deprecated since 0.13 and will be removed in 0.15. Please use InterpolationMode enum.\n",
      "  warnings.warn(\n",
      "/home/irfan/Desktop/Code/Linux-IO/python_38/lib/python3.8/site-packages/torchvision/transforms/functional.py:417: UserWarning: Argument 'interpolation' of type int is deprecated since 0.13 and will be removed in 0.15. Please use InterpolationMode enum.\n",
      "  warnings.warn(\n"
     ]
    },
    {
     "name": "stdout",
     "output_type": "stream",
     "text": [
      "Epoch 134, Itrs 24340/30000, Loss=0.172636\n",
      "Epoch 134, Itrs 24350/30000, Loss=0.110008\n",
      "Epoch 134, Itrs 24360/30000, Loss=0.131604\n",
      "Epoch 134, Itrs 24370/30000, Loss=0.190081\n",
      "Epoch 134, Itrs 24380/30000, Loss=0.153310\n",
      "Epoch 134, Itrs 24390/30000, Loss=0.166359\n",
      "Epoch 134, Itrs 24400/30000, Loss=0.147735\n",
      "Model saved as checkpoints/latest_deeplabv3plus_mobilenet_voc_os16.pth\n",
      "validation...\n"
     ]
    },
    {
     "name": "stderr",
     "output_type": "stream",
     "text": [
      "1449it [01:07, 21.32it/s]\n"
     ]
    },
    {
     "name": "stdout",
     "output_type": "stream",
     "text": [
      "\n",
      "Overall Acc: 0.906425\n",
      "Mean Acc: 0.711011\n",
      "FreqW Acc: 0.835867\n",
      "Mean IoU: 0.623238\n",
      "\n",
      "Epoch 134, Itrs 24410/30000, Loss=0.136390\n",
      "Epoch 134, Itrs 24420/30000, Loss=0.184872\n",
      "Epoch 134, Itrs 24430/30000, Loss=0.147098\n",
      "Epoch 134, Itrs 24440/30000, Loss=0.163694\n",
      "Epoch 134, Itrs 24450/30000, Loss=0.159247\n",
      "Epoch 134, Itrs 24460/30000, Loss=0.173223\n",
      "Epoch 134, Itrs 24470/30000, Loss=0.141656\n",
      "Epoch 134, Itrs 24480/30000, Loss=0.137910\n",
      "Epoch 134, Itrs 24490/30000, Loss=0.207120\n",
      "Epoch 134, Itrs 24500/30000, Loss=0.135206\n",
      "Model saved as checkpoints/latest_deeplabv3plus_mobilenet_voc_os16.pth\n",
      "validation...\n"
     ]
    },
    {
     "name": "stderr",
     "output_type": "stream",
     "text": [
      "1449it [01:13, 19.75it/s]\n"
     ]
    },
    {
     "name": "stdout",
     "output_type": "stream",
     "text": [
      "\n",
      "Overall Acc: 0.907987\n",
      "Mean Acc: 0.711804\n",
      "FreqW Acc: 0.837423\n",
      "Mean IoU: 0.623033\n",
      "\n",
      "Epoch 134, Itrs 24510/30000, Loss=0.146269\n",
      "Epoch 134, Itrs 24520/30000, Loss=0.154568\n"
     ]
    },
    {
     "name": "stderr",
     "output_type": "stream",
     "text": [
      "/home/irfan/Desktop/Code/Linux-IO/python_38/lib/python3.8/site-packages/torchvision/transforms/functional.py:417: UserWarning: Argument 'interpolation' of type int is deprecated since 0.13 and will be removed in 0.15. Please use InterpolationMode enum.\n",
      "  warnings.warn(\n",
      "/home/irfan/Desktop/Code/Linux-IO/python_38/lib/python3.8/site-packages/torchvision/transforms/functional.py:417: UserWarning: Argument 'interpolation' of type int is deprecated since 0.13 and will be removed in 0.15. Please use InterpolationMode enum.\n",
      "  warnings.warn(\n"
     ]
    },
    {
     "name": "stdout",
     "output_type": "stream",
     "text": [
      "Epoch 135, Itrs 24530/30000, Loss=0.168899\n",
      "Epoch 135, Itrs 24540/30000, Loss=0.152015\n",
      "Epoch 135, Itrs 24550/30000, Loss=0.178233\n",
      "Epoch 135, Itrs 24560/30000, Loss=0.139388\n",
      "Epoch 135, Itrs 24570/30000, Loss=0.226124\n",
      "Epoch 135, Itrs 24580/30000, Loss=0.170753\n",
      "Epoch 135, Itrs 24590/30000, Loss=0.152744\n",
      "Epoch 135, Itrs 24600/30000, Loss=0.136964\n",
      "Model saved as checkpoints/latest_deeplabv3plus_mobilenet_voc_os16.pth\n",
      "validation...\n"
     ]
    },
    {
     "name": "stderr",
     "output_type": "stream",
     "text": [
      "1449it [01:09, 20.86it/s]\n"
     ]
    },
    {
     "name": "stdout",
     "output_type": "stream",
     "text": [
      "\n",
      "Overall Acc: 0.907807\n",
      "Mean Acc: 0.708447\n",
      "FreqW Acc: 0.837584\n",
      "Mean IoU: 0.624813\n",
      "\n",
      "Epoch 135, Itrs 24610/30000, Loss=0.164914\n",
      "Epoch 135, Itrs 24620/30000, Loss=0.118682\n",
      "Epoch 135, Itrs 24630/30000, Loss=0.164178\n",
      "Epoch 135, Itrs 24640/30000, Loss=0.127588\n",
      "Epoch 135, Itrs 24650/30000, Loss=0.196347\n",
      "Epoch 135, Itrs 24660/30000, Loss=0.118687\n",
      "Epoch 135, Itrs 24670/30000, Loss=0.142250\n",
      "Epoch 135, Itrs 24680/30000, Loss=0.173616\n",
      "Epoch 135, Itrs 24690/30000, Loss=0.153195\n",
      "Epoch 135, Itrs 24700/30000, Loss=0.255821\n",
      "Model saved as checkpoints/latest_deeplabv3plus_mobilenet_voc_os16.pth\n",
      "validation...\n"
     ]
    },
    {
     "name": "stderr",
     "output_type": "stream",
     "text": [
      "1449it [01:09, 20.77it/s]\n"
     ]
    },
    {
     "name": "stdout",
     "output_type": "stream",
     "text": [
      "\n",
      "Overall Acc: 0.908614\n",
      "Mean Acc: 0.708419\n",
      "FreqW Acc: 0.838415\n",
      "Mean IoU: 0.625519\n",
      "\n"
     ]
    },
    {
     "name": "stderr",
     "output_type": "stream",
     "text": [
      "/home/irfan/Desktop/Code/Linux-IO/python_38/lib/python3.8/site-packages/torchvision/transforms/functional.py:417: UserWarning: Argument 'interpolation' of type int is deprecated since 0.13 and will be removed in 0.15. Please use InterpolationMode enum.\n",
      "  warnings.warn(\n",
      "/home/irfan/Desktop/Code/Linux-IO/python_38/lib/python3.8/site-packages/torchvision/transforms/functional.py:417: UserWarning: Argument 'interpolation' of type int is deprecated since 0.13 and will be removed in 0.15. Please use InterpolationMode enum.\n",
      "  warnings.warn(\n"
     ]
    },
    {
     "name": "stdout",
     "output_type": "stream",
     "text": [
      "Epoch 136, Itrs 24710/30000, Loss=0.141765\n",
      "Epoch 136, Itrs 24720/30000, Loss=0.121696\n",
      "Epoch 136, Itrs 24730/30000, Loss=0.214081\n",
      "Epoch 136, Itrs 24740/30000, Loss=0.120321\n",
      "Epoch 136, Itrs 24750/30000, Loss=0.162078\n",
      "Epoch 136, Itrs 24760/30000, Loss=0.150815\n",
      "Epoch 136, Itrs 24770/30000, Loss=0.197132\n",
      "Epoch 136, Itrs 24780/30000, Loss=0.169230\n",
      "Epoch 136, Itrs 24790/30000, Loss=0.149640\n",
      "Epoch 136, Itrs 24800/30000, Loss=0.151593\n",
      "Model saved as checkpoints/latest_deeplabv3plus_mobilenet_voc_os16.pth\n",
      "validation...\n"
     ]
    },
    {
     "name": "stderr",
     "output_type": "stream",
     "text": [
      "1449it [01:14, 19.35it/s]\n"
     ]
    },
    {
     "name": "stdout",
     "output_type": "stream",
     "text": [
      "\n",
      "Overall Acc: 0.908377\n",
      "Mean Acc: 0.709164\n",
      "FreqW Acc: 0.837878\n",
      "Mean IoU: 0.623764\n",
      "\n",
      "Epoch 136, Itrs 24810/30000, Loss=0.155690\n",
      "Epoch 136, Itrs 24820/30000, Loss=0.135137\n",
      "Epoch 136, Itrs 24830/30000, Loss=0.134152\n",
      "Epoch 136, Itrs 24840/30000, Loss=0.186765\n",
      "Epoch 136, Itrs 24850/30000, Loss=0.150722\n",
      "Epoch 136, Itrs 24860/30000, Loss=0.151096\n",
      "Epoch 136, Itrs 24870/30000, Loss=0.135180\n",
      "Epoch 136, Itrs 24880/30000, Loss=0.143832\n"
     ]
    },
    {
     "name": "stderr",
     "output_type": "stream",
     "text": [
      "/home/irfan/Desktop/Code/Linux-IO/python_38/lib/python3.8/site-packages/torchvision/transforms/functional.py:417: UserWarning: Argument 'interpolation' of type int is deprecated since 0.13 and will be removed in 0.15. Please use InterpolationMode enum.\n",
      "  warnings.warn(\n",
      "/home/irfan/Desktop/Code/Linux-IO/python_38/lib/python3.8/site-packages/torchvision/transforms/functional.py:417: UserWarning: Argument 'interpolation' of type int is deprecated since 0.13 and will be removed in 0.15. Please use InterpolationMode enum.\n",
      "  warnings.warn(\n"
     ]
    },
    {
     "name": "stdout",
     "output_type": "stream",
     "text": [
      "Epoch 137, Itrs 24890/30000, Loss=0.140402\n",
      "Epoch 137, Itrs 24900/30000, Loss=0.226057\n",
      "Model saved as checkpoints/latest_deeplabv3plus_mobilenet_voc_os16.pth\n",
      "validation...\n"
     ]
    },
    {
     "name": "stderr",
     "output_type": "stream",
     "text": [
      "1449it [01:08, 21.08it/s]\n"
     ]
    },
    {
     "name": "stdout",
     "output_type": "stream",
     "text": [
      "\n",
      "Overall Acc: 0.908441\n",
      "Mean Acc: 0.707219\n",
      "FreqW Acc: 0.837973\n",
      "Mean IoU: 0.623062\n",
      "\n",
      "Epoch 137, Itrs 24910/30000, Loss=0.109016\n",
      "Epoch 137, Itrs 24920/30000, Loss=0.147824\n",
      "Epoch 137, Itrs 24930/30000, Loss=0.148836\n",
      "Epoch 137, Itrs 24940/30000, Loss=0.162521\n",
      "Epoch 137, Itrs 24950/30000, Loss=0.150465\n",
      "Epoch 137, Itrs 24960/30000, Loss=0.163239\n",
      "Epoch 137, Itrs 24970/30000, Loss=0.177169\n",
      "Epoch 137, Itrs 24980/30000, Loss=0.163451\n",
      "Epoch 137, Itrs 24990/30000, Loss=0.178279\n",
      "Epoch 137, Itrs 25000/30000, Loss=0.159491\n",
      "Model saved as checkpoints/latest_deeplabv3plus_mobilenet_voc_os16.pth\n",
      "validation...\n"
     ]
    },
    {
     "name": "stderr",
     "output_type": "stream",
     "text": [
      "1449it [01:13, 19.83it/s]\n"
     ]
    },
    {
     "name": "stdout",
     "output_type": "stream",
     "text": [
      "\n",
      "Overall Acc: 0.908771\n",
      "Mean Acc: 0.714542\n",
      "FreqW Acc: 0.838822\n",
      "Mean IoU: 0.626546\n",
      "\n",
      "Model saved as checkpoints/best_deeplabv3plus_mobilenet_voc_os16.pth\n",
      "Epoch 137, Itrs 25010/30000, Loss=0.142749\n",
      "Epoch 137, Itrs 25020/30000, Loss=0.142087\n",
      "Epoch 137, Itrs 25030/30000, Loss=0.143880\n",
      "Epoch 137, Itrs 25040/30000, Loss=0.165316\n",
      "Epoch 137, Itrs 25050/30000, Loss=0.134113\n",
      "Epoch 137, Itrs 25060/30000, Loss=0.152783\n",
      "Epoch 137, Itrs 25070/30000, Loss=0.186897\n"
     ]
    },
    {
     "name": "stderr",
     "output_type": "stream",
     "text": [
      "/home/irfan/Desktop/Code/Linux-IO/python_38/lib/python3.8/site-packages/torchvision/transforms/functional.py:417: UserWarning: Argument 'interpolation' of type int is deprecated since 0.13 and will be removed in 0.15. Please use InterpolationMode enum.\n",
      "  warnings.warn(\n",
      "/home/irfan/Desktop/Code/Linux-IO/python_38/lib/python3.8/site-packages/torchvision/transforms/functional.py:417: UserWarning: Argument 'interpolation' of type int is deprecated since 0.13 and will be removed in 0.15. Please use InterpolationMode enum.\n",
      "  warnings.warn(\n"
     ]
    },
    {
     "name": "stdout",
     "output_type": "stream",
     "text": [
      "Epoch 138, Itrs 25080/30000, Loss=0.152968\n",
      "Epoch 138, Itrs 25090/30000, Loss=0.121303\n",
      "Epoch 138, Itrs 25100/30000, Loss=0.134210\n",
      "Model saved as checkpoints/latest_deeplabv3plus_mobilenet_voc_os16.pth\n",
      "validation...\n"
     ]
    },
    {
     "name": "stderr",
     "output_type": "stream",
     "text": [
      "1449it [01:11, 20.39it/s]\n"
     ]
    },
    {
     "name": "stdout",
     "output_type": "stream",
     "text": [
      "\n",
      "Overall Acc: 0.909594\n",
      "Mean Acc: 0.698497\n",
      "FreqW Acc: 0.838422\n",
      "Mean IoU: 0.622413\n",
      "\n",
      "Epoch 138, Itrs 25110/30000, Loss=0.151247\n",
      "Epoch 138, Itrs 25120/30000, Loss=0.158046\n",
      "Epoch 138, Itrs 25130/30000, Loss=0.134876\n",
      "Epoch 138, Itrs 25140/30000, Loss=0.180567\n",
      "Epoch 138, Itrs 25150/30000, Loss=0.196206\n",
      "Epoch 138, Itrs 25160/30000, Loss=0.146222\n",
      "Epoch 138, Itrs 25170/30000, Loss=0.158573\n",
      "Epoch 138, Itrs 25180/30000, Loss=0.119292\n",
      "Epoch 138, Itrs 25190/30000, Loss=0.156177\n",
      "Epoch 138, Itrs 25200/30000, Loss=0.133523\n",
      "Model saved as checkpoints/latest_deeplabv3plus_mobilenet_voc_os16.pth\n",
      "validation...\n"
     ]
    },
    {
     "name": "stderr",
     "output_type": "stream",
     "text": [
      "1449it [01:14, 19.36it/s]\n"
     ]
    },
    {
     "name": "stdout",
     "output_type": "stream",
     "text": [
      "\n",
      "Overall Acc: 0.908574\n",
      "Mean Acc: 0.707271\n",
      "FreqW Acc: 0.837662\n",
      "Mean IoU: 0.624265\n",
      "\n",
      "Epoch 138, Itrs 25210/30000, Loss=0.166404\n",
      "Epoch 138, Itrs 25220/30000, Loss=0.144124\n",
      "Epoch 138, Itrs 25230/30000, Loss=0.163495\n",
      "Epoch 138, Itrs 25240/30000, Loss=0.138191\n",
      "Epoch 138, Itrs 25250/30000, Loss=0.172456\n"
     ]
    },
    {
     "name": "stderr",
     "output_type": "stream",
     "text": [
      "/home/irfan/Desktop/Code/Linux-IO/python_38/lib/python3.8/site-packages/torchvision/transforms/functional.py:417: UserWarning: Argument 'interpolation' of type int is deprecated since 0.13 and will be removed in 0.15. Please use InterpolationMode enum.\n",
      "  warnings.warn(\n",
      "/home/irfan/Desktop/Code/Linux-IO/python_38/lib/python3.8/site-packages/torchvision/transforms/functional.py:417: UserWarning: Argument 'interpolation' of type int is deprecated since 0.13 and will be removed in 0.15. Please use InterpolationMode enum.\n",
      "  warnings.warn(\n"
     ]
    },
    {
     "name": "stdout",
     "output_type": "stream",
     "text": [
      "Epoch 139, Itrs 25260/30000, Loss=0.128011\n",
      "Epoch 139, Itrs 25270/30000, Loss=0.159789\n",
      "Epoch 139, Itrs 25280/30000, Loss=0.158986\n",
      "Epoch 139, Itrs 25290/30000, Loss=0.169154\n",
      "Epoch 139, Itrs 25300/30000, Loss=0.114298\n",
      "Model saved as checkpoints/latest_deeplabv3plus_mobilenet_voc_os16.pth\n",
      "validation...\n"
     ]
    },
    {
     "name": "stderr",
     "output_type": "stream",
     "text": [
      "1449it [01:10, 20.47it/s]\n"
     ]
    },
    {
     "name": "stdout",
     "output_type": "stream",
     "text": [
      "\n",
      "Overall Acc: 0.908596\n",
      "Mean Acc: 0.710572\n",
      "FreqW Acc: 0.838847\n",
      "Mean IoU: 0.625308\n",
      "\n",
      "Epoch 139, Itrs 25310/30000, Loss=0.168081\n",
      "Epoch 139, Itrs 25320/30000, Loss=0.174131\n",
      "Epoch 139, Itrs 25330/30000, Loss=0.114758\n",
      "Epoch 139, Itrs 25340/30000, Loss=0.200536\n",
      "Epoch 139, Itrs 25350/30000, Loss=0.121307\n",
      "Epoch 139, Itrs 25360/30000, Loss=0.148180\n",
      "Epoch 139, Itrs 25370/30000, Loss=0.155085\n",
      "Epoch 139, Itrs 25380/30000, Loss=0.125049\n",
      "Epoch 139, Itrs 25390/30000, Loss=0.111611\n",
      "Epoch 139, Itrs 25400/30000, Loss=0.161319\n",
      "Model saved as checkpoints/latest_deeplabv3plus_mobilenet_voc_os16.pth\n",
      "validation...\n"
     ]
    },
    {
     "name": "stderr",
     "output_type": "stream",
     "text": [
      "1449it [01:04, 22.61it/s]\n"
     ]
    },
    {
     "name": "stdout",
     "output_type": "stream",
     "text": [
      "\n",
      "Overall Acc: 0.908694\n",
      "Mean Acc: 0.696443\n",
      "FreqW Acc: 0.837348\n",
      "Mean IoU: 0.620568\n",
      "\n",
      "Epoch 139, Itrs 25410/30000, Loss=0.151462\n",
      "Epoch 139, Itrs 25420/30000, Loss=0.125174\n",
      "Epoch 139, Itrs 25430/30000, Loss=0.107872\n"
     ]
    },
    {
     "name": "stderr",
     "output_type": "stream",
     "text": [
      "/home/irfan/Desktop/Code/Linux-IO/python_38/lib/python3.8/site-packages/torchvision/transforms/functional.py:417: UserWarning: Argument 'interpolation' of type int is deprecated since 0.13 and will be removed in 0.15. Please use InterpolationMode enum.\n",
      "  warnings.warn(\n",
      "/home/irfan/Desktop/Code/Linux-IO/python_38/lib/python3.8/site-packages/torchvision/transforms/functional.py:417: UserWarning: Argument 'interpolation' of type int is deprecated since 0.13 and will be removed in 0.15. Please use InterpolationMode enum.\n",
      "  warnings.warn(\n"
     ]
    },
    {
     "name": "stdout",
     "output_type": "stream",
     "text": [
      "Epoch 140, Itrs 25440/30000, Loss=0.171069\n",
      "Epoch 140, Itrs 25450/30000, Loss=0.204202\n",
      "Epoch 140, Itrs 25460/30000, Loss=0.115020\n",
      "Epoch 140, Itrs 25470/30000, Loss=0.165053\n",
      "Epoch 140, Itrs 25480/30000, Loss=0.143683\n",
      "Epoch 140, Itrs 25490/30000, Loss=0.108120\n",
      "Epoch 140, Itrs 25500/30000, Loss=0.180024\n",
      "Model saved as checkpoints/latest_deeplabv3plus_mobilenet_voc_os16.pth\n",
      "validation...\n"
     ]
    },
    {
     "name": "stderr",
     "output_type": "stream",
     "text": [
      "1449it [01:09, 20.79it/s]\n"
     ]
    },
    {
     "name": "stdout",
     "output_type": "stream",
     "text": [
      "\n",
      "Overall Acc: 0.907988\n",
      "Mean Acc: 0.699279\n",
      "FreqW Acc: 0.836615\n",
      "Mean IoU: 0.619805\n",
      "\n",
      "Epoch 140, Itrs 25510/30000, Loss=0.136067\n",
      "Epoch 140, Itrs 25520/30000, Loss=0.184731\n",
      "Epoch 140, Itrs 25530/30000, Loss=0.170183\n",
      "Epoch 140, Itrs 25540/30000, Loss=0.175178\n",
      "Epoch 140, Itrs 25550/30000, Loss=0.153764\n",
      "Epoch 140, Itrs 25560/30000, Loss=0.188213\n",
      "Epoch 140, Itrs 25570/30000, Loss=0.146509\n",
      "Epoch 140, Itrs 25580/30000, Loss=0.204758\n",
      "Epoch 140, Itrs 25590/30000, Loss=0.154081\n",
      "Epoch 140, Itrs 25600/30000, Loss=0.132896\n",
      "Model saved as checkpoints/latest_deeplabv3plus_mobilenet_voc_os16.pth\n",
      "validation...\n"
     ]
    },
    {
     "name": "stderr",
     "output_type": "stream",
     "text": [
      "1449it [01:10, 20.62it/s]\n"
     ]
    },
    {
     "name": "stdout",
     "output_type": "stream",
     "text": [
      "\n",
      "Overall Acc: 0.907874\n",
      "Mean Acc: 0.704034\n",
      "FreqW Acc: 0.837033\n",
      "Mean IoU: 0.621234\n",
      "\n",
      "Epoch 140, Itrs 25610/30000, Loss=0.120825\n",
      "Epoch 140, Itrs 25620/30000, Loss=0.169164\n"
     ]
    },
    {
     "name": "stderr",
     "output_type": "stream",
     "text": [
      "/home/irfan/Desktop/Code/Linux-IO/python_38/lib/python3.8/site-packages/torchvision/transforms/functional.py:417: UserWarning: Argument 'interpolation' of type int is deprecated since 0.13 and will be removed in 0.15. Please use InterpolationMode enum.\n",
      "  warnings.warn(\n",
      "/home/irfan/Desktop/Code/Linux-IO/python_38/lib/python3.8/site-packages/torchvision/transforms/functional.py:417: UserWarning: Argument 'interpolation' of type int is deprecated since 0.13 and will be removed in 0.15. Please use InterpolationMode enum.\n",
      "  warnings.warn(\n"
     ]
    },
    {
     "name": "stdout",
     "output_type": "stream",
     "text": [
      "Epoch 141, Itrs 25630/30000, Loss=0.155195\n",
      "Epoch 141, Itrs 25640/30000, Loss=0.162095\n",
      "Epoch 141, Itrs 25650/30000, Loss=0.159052\n",
      "Epoch 141, Itrs 25660/30000, Loss=0.129211\n",
      "Epoch 141, Itrs 25670/30000, Loss=0.190929\n",
      "Epoch 141, Itrs 25680/30000, Loss=0.123847\n",
      "Epoch 141, Itrs 25690/30000, Loss=0.110165\n",
      "Epoch 141, Itrs 25700/30000, Loss=0.106759\n",
      "Model saved as checkpoints/latest_deeplabv3plus_mobilenet_voc_os16.pth\n",
      "validation...\n"
     ]
    },
    {
     "name": "stderr",
     "output_type": "stream",
     "text": [
      "1449it [01:07, 21.61it/s]\n"
     ]
    },
    {
     "name": "stdout",
     "output_type": "stream",
     "text": [
      "\n",
      "Overall Acc: 0.908857\n",
      "Mean Acc: 0.706231\n",
      "FreqW Acc: 0.838330\n",
      "Mean IoU: 0.623914\n",
      "\n",
      "Epoch 141, Itrs 25710/30000, Loss=0.194190\n",
      "Epoch 141, Itrs 25720/30000, Loss=0.164705\n",
      "Epoch 141, Itrs 25730/30000, Loss=0.157697\n",
      "Epoch 141, Itrs 25740/30000, Loss=0.115928\n",
      "Epoch 141, Itrs 25750/30000, Loss=0.155485\n",
      "Epoch 141, Itrs 25760/30000, Loss=0.151372\n",
      "Epoch 141, Itrs 25770/30000, Loss=0.151950\n",
      "Epoch 141, Itrs 25780/30000, Loss=0.134474\n",
      "Epoch 141, Itrs 25790/30000, Loss=0.174204\n",
      "Epoch 141, Itrs 25800/30000, Loss=0.170137\n",
      "Model saved as checkpoints/latest_deeplabv3plus_mobilenet_voc_os16.pth\n",
      "validation...\n"
     ]
    },
    {
     "name": "stderr",
     "output_type": "stream",
     "text": [
      "1449it [01:11, 20.29it/s]\n"
     ]
    },
    {
     "name": "stdout",
     "output_type": "stream",
     "text": [
      "\n",
      "Overall Acc: 0.907996\n",
      "Mean Acc: 0.710880\n",
      "FreqW Acc: 0.838009\n",
      "Mean IoU: 0.624254\n",
      "\n"
     ]
    },
    {
     "name": "stderr",
     "output_type": "stream",
     "text": [
      "/home/irfan/Desktop/Code/Linux-IO/python_38/lib/python3.8/site-packages/torchvision/transforms/functional.py:417: UserWarning: Argument 'interpolation' of type int is deprecated since 0.13 and will be removed in 0.15. Please use InterpolationMode enum.\n",
      "  warnings.warn(\n",
      "/home/irfan/Desktop/Code/Linux-IO/python_38/lib/python3.8/site-packages/torchvision/transforms/functional.py:417: UserWarning: Argument 'interpolation' of type int is deprecated since 0.13 and will be removed in 0.15. Please use InterpolationMode enum.\n",
      "  warnings.warn(\n"
     ]
    },
    {
     "name": "stdout",
     "output_type": "stream",
     "text": [
      "Epoch 142, Itrs 25810/30000, Loss=0.131681\n",
      "Epoch 142, Itrs 25820/30000, Loss=0.128989\n",
      "Epoch 142, Itrs 25830/30000, Loss=0.174394\n",
      "Epoch 142, Itrs 25840/30000, Loss=0.134397\n",
      "Epoch 142, Itrs 25850/30000, Loss=0.127567\n",
      "Epoch 142, Itrs 25860/30000, Loss=0.128565\n",
      "Epoch 142, Itrs 25870/30000, Loss=0.180041\n",
      "Epoch 142, Itrs 25880/30000, Loss=0.106675\n",
      "Epoch 142, Itrs 25890/30000, Loss=0.176590\n",
      "Epoch 142, Itrs 25900/30000, Loss=0.204255\n",
      "Model saved as checkpoints/latest_deeplabv3plus_mobilenet_voc_os16.pth\n",
      "validation...\n"
     ]
    },
    {
     "name": "stderr",
     "output_type": "stream",
     "text": [
      "1449it [01:07, 21.36it/s]\n"
     ]
    },
    {
     "name": "stdout",
     "output_type": "stream",
     "text": [
      "\n",
      "Overall Acc: 0.907921\n",
      "Mean Acc: 0.721376\n",
      "FreqW Acc: 0.838597\n",
      "Mean IoU: 0.626370\n",
      "\n",
      "Epoch 142, Itrs 25910/30000, Loss=0.142646\n",
      "Epoch 142, Itrs 25920/30000, Loss=0.156229\n",
      "Epoch 142, Itrs 25930/30000, Loss=0.149184\n",
      "Epoch 142, Itrs 25940/30000, Loss=0.135438\n",
      "Epoch 142, Itrs 25950/30000, Loss=0.173297\n",
      "Epoch 142, Itrs 25960/30000, Loss=0.168864\n",
      "Epoch 142, Itrs 25970/30000, Loss=0.111783\n",
      "Epoch 142, Itrs 25980/30000, Loss=0.116525\n"
     ]
    },
    {
     "name": "stderr",
     "output_type": "stream",
     "text": [
      "/home/irfan/Desktop/Code/Linux-IO/python_38/lib/python3.8/site-packages/torchvision/transforms/functional.py:417: UserWarning: Argument 'interpolation' of type int is deprecated since 0.13 and will be removed in 0.15. Please use InterpolationMode enum.\n",
      "  warnings.warn(\n",
      "/home/irfan/Desktop/Code/Linux-IO/python_38/lib/python3.8/site-packages/torchvision/transforms/functional.py:417: UserWarning: Argument 'interpolation' of type int is deprecated since 0.13 and will be removed in 0.15. Please use InterpolationMode enum.\n",
      "  warnings.warn(\n"
     ]
    },
    {
     "name": "stdout",
     "output_type": "stream",
     "text": [
      "Epoch 143, Itrs 25990/30000, Loss=0.129102\n",
      "Epoch 143, Itrs 26000/30000, Loss=0.128067\n",
      "Model saved as checkpoints/latest_deeplabv3plus_mobilenet_voc_os16.pth\n",
      "validation...\n"
     ]
    },
    {
     "name": "stderr",
     "output_type": "stream",
     "text": [
      "1449it [01:09, 20.99it/s]\n"
     ]
    },
    {
     "name": "stdout",
     "output_type": "stream",
     "text": [
      "\n",
      "Overall Acc: 0.909961\n",
      "Mean Acc: 0.707356\n",
      "FreqW Acc: 0.840044\n",
      "Mean IoU: 0.626627\n",
      "\n",
      "Model saved as checkpoints/best_deeplabv3plus_mobilenet_voc_os16.pth\n",
      "Epoch 143, Itrs 26010/30000, Loss=0.140096\n",
      "Epoch 143, Itrs 26020/30000, Loss=0.158056\n",
      "Epoch 143, Itrs 26030/30000, Loss=0.229536\n",
      "Epoch 143, Itrs 26040/30000, Loss=0.132561\n",
      "Epoch 143, Itrs 26050/30000, Loss=0.165533\n",
      "Epoch 143, Itrs 26060/30000, Loss=0.139261\n",
      "Epoch 143, Itrs 26070/30000, Loss=0.190695\n",
      "Epoch 143, Itrs 26080/30000, Loss=0.139591\n",
      "Epoch 143, Itrs 26090/30000, Loss=0.167040\n",
      "Epoch 143, Itrs 26100/30000, Loss=0.108477\n",
      "Model saved as checkpoints/latest_deeplabv3plus_mobilenet_voc_os16.pth\n",
      "validation...\n"
     ]
    },
    {
     "name": "stderr",
     "output_type": "stream",
     "text": [
      "1449it [01:08, 21.07it/s]\n"
     ]
    },
    {
     "name": "stdout",
     "output_type": "stream",
     "text": [
      "\n",
      "Overall Acc: 0.909907\n",
      "Mean Acc: 0.718834\n",
      "FreqW Acc: 0.840868\n",
      "Mean IoU: 0.630175\n",
      "\n",
      "Model saved as checkpoints/best_deeplabv3plus_mobilenet_voc_os16.pth\n",
      "Epoch 143, Itrs 26110/30000, Loss=0.137452\n",
      "Epoch 143, Itrs 26120/30000, Loss=0.136786\n",
      "Epoch 143, Itrs 26130/30000, Loss=0.119825\n",
      "Epoch 143, Itrs 26140/30000, Loss=0.276047\n",
      "Epoch 143, Itrs 26150/30000, Loss=0.174525\n",
      "Epoch 143, Itrs 26160/30000, Loss=0.200282\n"
     ]
    },
    {
     "name": "stderr",
     "output_type": "stream",
     "text": [
      "/home/irfan/Desktop/Code/Linux-IO/python_38/lib/python3.8/site-packages/torchvision/transforms/functional.py:417: UserWarning: Argument 'interpolation' of type int is deprecated since 0.13 and will be removed in 0.15. Please use InterpolationMode enum.\n",
      "  warnings.warn(\n",
      "/home/irfan/Desktop/Code/Linux-IO/python_38/lib/python3.8/site-packages/torchvision/transforms/functional.py:417: UserWarning: Argument 'interpolation' of type int is deprecated since 0.13 and will be removed in 0.15. Please use InterpolationMode enum.\n",
      "  warnings.warn(\n"
     ]
    },
    {
     "name": "stdout",
     "output_type": "stream",
     "text": [
      "Epoch 144, Itrs 26170/30000, Loss=0.120574\n",
      "Epoch 144, Itrs 26180/30000, Loss=0.135176\n",
      "Epoch 144, Itrs 26190/30000, Loss=0.153535\n",
      "Epoch 144, Itrs 26200/30000, Loss=0.140363\n",
      "Model saved as checkpoints/latest_deeplabv3plus_mobilenet_voc_os16.pth\n",
      "validation...\n"
     ]
    },
    {
     "name": "stderr",
     "output_type": "stream",
     "text": [
      "1449it [01:11, 20.21it/s]\n"
     ]
    },
    {
     "name": "stdout",
     "output_type": "stream",
     "text": [
      "\n",
      "Overall Acc: 0.909237\n",
      "Mean Acc: 0.722813\n",
      "FreqW Acc: 0.840453\n",
      "Mean IoU: 0.630059\n",
      "\n",
      "Epoch 144, Itrs 26210/30000, Loss=0.134263\n",
      "Epoch 144, Itrs 26220/30000, Loss=0.151913\n",
      "Epoch 144, Itrs 26230/30000, Loss=0.158730\n",
      "Epoch 144, Itrs 26240/30000, Loss=0.167880\n",
      "Epoch 144, Itrs 26250/30000, Loss=0.177282\n",
      "Epoch 144, Itrs 26260/30000, Loss=0.109184\n",
      "Epoch 144, Itrs 26270/30000, Loss=0.130750\n",
      "Epoch 144, Itrs 26280/30000, Loss=0.166880\n",
      "Epoch 144, Itrs 26290/30000, Loss=0.118445\n",
      "Epoch 144, Itrs 26300/30000, Loss=0.137050\n",
      "Model saved as checkpoints/latest_deeplabv3plus_mobilenet_voc_os16.pth\n",
      "validation...\n"
     ]
    },
    {
     "name": "stderr",
     "output_type": "stream",
     "text": [
      "1449it [01:10, 20.66it/s]\n"
     ]
    },
    {
     "name": "stdout",
     "output_type": "stream",
     "text": [
      "\n",
      "Overall Acc: 0.908786\n",
      "Mean Acc: 0.711813\n",
      "FreqW Acc: 0.838705\n",
      "Mean IoU: 0.626868\n",
      "\n",
      "Epoch 144, Itrs 26310/30000, Loss=0.181921\n",
      "Epoch 144, Itrs 26320/30000, Loss=0.142392\n",
      "Epoch 144, Itrs 26330/30000, Loss=0.136516\n",
      "Epoch 144, Itrs 26340/30000, Loss=0.161436\n",
      "Epoch 144, Itrs 26350/30000, Loss=0.167085\n"
     ]
    },
    {
     "name": "stderr",
     "output_type": "stream",
     "text": [
      "/home/irfan/Desktop/Code/Linux-IO/python_38/lib/python3.8/site-packages/torchvision/transforms/functional.py:417: UserWarning: Argument 'interpolation' of type int is deprecated since 0.13 and will be removed in 0.15. Please use InterpolationMode enum.\n",
      "  warnings.warn(\n",
      "/home/irfan/Desktop/Code/Linux-IO/python_38/lib/python3.8/site-packages/torchvision/transforms/functional.py:417: UserWarning: Argument 'interpolation' of type int is deprecated since 0.13 and will be removed in 0.15. Please use InterpolationMode enum.\n",
      "  warnings.warn(\n"
     ]
    },
    {
     "name": "stdout",
     "output_type": "stream",
     "text": [
      "Epoch 145, Itrs 26360/30000, Loss=0.135681\n",
      "Epoch 145, Itrs 26370/30000, Loss=0.124110\n",
      "Epoch 145, Itrs 26380/30000, Loss=0.132597\n",
      "Epoch 145, Itrs 26390/30000, Loss=0.132551\n",
      "Epoch 145, Itrs 26400/30000, Loss=0.147888\n",
      "Model saved as checkpoints/latest_deeplabv3plus_mobilenet_voc_os16.pth\n",
      "validation...\n"
     ]
    },
    {
     "name": "stderr",
     "output_type": "stream",
     "text": [
      "1449it [01:09, 20.98it/s]\n"
     ]
    },
    {
     "name": "stdout",
     "output_type": "stream",
     "text": [
      "\n",
      "Overall Acc: 0.908563\n",
      "Mean Acc: 0.714242\n",
      "FreqW Acc: 0.838442\n",
      "Mean IoU: 0.627244\n",
      "\n",
      "Epoch 145, Itrs 26410/30000, Loss=0.134622\n",
      "Epoch 145, Itrs 26420/30000, Loss=0.180363\n",
      "Epoch 145, Itrs 26430/30000, Loss=0.160762\n",
      "Epoch 145, Itrs 26440/30000, Loss=0.132881\n",
      "Epoch 145, Itrs 26450/30000, Loss=0.140574\n",
      "Epoch 145, Itrs 26460/30000, Loss=0.141310\n",
      "Epoch 145, Itrs 26470/30000, Loss=0.168080\n",
      "Epoch 145, Itrs 26480/30000, Loss=0.144664\n",
      "Epoch 145, Itrs 26490/30000, Loss=0.153353\n",
      "Epoch 145, Itrs 26500/30000, Loss=0.121760\n",
      "Model saved as checkpoints/latest_deeplabv3plus_mobilenet_voc_os16.pth\n",
      "validation...\n"
     ]
    },
    {
     "name": "stderr",
     "output_type": "stream",
     "text": [
      "1449it [01:06, 21.64it/s]\n"
     ]
    },
    {
     "name": "stdout",
     "output_type": "stream",
     "text": [
      "\n",
      "Overall Acc: 0.908572\n",
      "Mean Acc: 0.714110\n",
      "FreqW Acc: 0.838373\n",
      "Mean IoU: 0.626829\n",
      "\n",
      "Epoch 145, Itrs 26510/30000, Loss=0.159808\n",
      "Epoch 145, Itrs 26520/30000, Loss=0.169162\n",
      "Epoch 145, Itrs 26530/30000, Loss=0.192534\n"
     ]
    },
    {
     "name": "stderr",
     "output_type": "stream",
     "text": [
      "/home/irfan/Desktop/Code/Linux-IO/python_38/lib/python3.8/site-packages/torchvision/transforms/functional.py:417: UserWarning: Argument 'interpolation' of type int is deprecated since 0.13 and will be removed in 0.15. Please use InterpolationMode enum.\n",
      "  warnings.warn(\n",
      "/home/irfan/Desktop/Code/Linux-IO/python_38/lib/python3.8/site-packages/torchvision/transforms/functional.py:417: UserWarning: Argument 'interpolation' of type int is deprecated since 0.13 and will be removed in 0.15. Please use InterpolationMode enum.\n",
      "  warnings.warn(\n"
     ]
    },
    {
     "name": "stdout",
     "output_type": "stream",
     "text": [
      "Epoch 146, Itrs 26540/30000, Loss=0.141843\n",
      "Epoch 146, Itrs 26550/30000, Loss=0.146737\n",
      "Epoch 146, Itrs 26560/30000, Loss=0.201063\n",
      "Epoch 146, Itrs 26570/30000, Loss=0.149092\n",
      "Epoch 146, Itrs 26580/30000, Loss=0.135939\n",
      "Epoch 146, Itrs 26590/30000, Loss=0.137532\n",
      "Epoch 146, Itrs 26600/30000, Loss=0.117922\n",
      "Model saved as checkpoints/latest_deeplabv3plus_mobilenet_voc_os16.pth\n",
      "validation...\n"
     ]
    },
    {
     "name": "stderr",
     "output_type": "stream",
     "text": [
      "1449it [01:10, 20.68it/s]\n"
     ]
    },
    {
     "name": "stdout",
     "output_type": "stream",
     "text": [
      "\n",
      "Overall Acc: 0.909683\n",
      "Mean Acc: 0.711855\n",
      "FreqW Acc: 0.839702\n",
      "Mean IoU: 0.628496\n",
      "\n",
      "Epoch 146, Itrs 26610/30000, Loss=0.114654\n",
      "Epoch 146, Itrs 26620/30000, Loss=0.133928\n",
      "Epoch 146, Itrs 26630/30000, Loss=0.167603\n",
      "Epoch 146, Itrs 26640/30000, Loss=0.164794\n",
      "Epoch 146, Itrs 26650/30000, Loss=0.157974\n",
      "Epoch 146, Itrs 26660/30000, Loss=0.156574\n",
      "Epoch 146, Itrs 26670/30000, Loss=0.131388\n",
      "Epoch 146, Itrs 26680/30000, Loss=0.121945\n",
      "Epoch 146, Itrs 26690/30000, Loss=0.169703\n",
      "Epoch 146, Itrs 26700/30000, Loss=0.129814\n",
      "Model saved as checkpoints/latest_deeplabv3plus_mobilenet_voc_os16.pth\n",
      "validation...\n"
     ]
    },
    {
     "name": "stderr",
     "output_type": "stream",
     "text": [
      "1449it [01:09, 20.84it/s]\n"
     ]
    },
    {
     "name": "stdout",
     "output_type": "stream",
     "text": [
      "\n",
      "Overall Acc: 0.909418\n",
      "Mean Acc: 0.708270\n",
      "FreqW Acc: 0.838870\n",
      "Mean IoU: 0.626762\n",
      "\n",
      "Epoch 146, Itrs 26710/30000, Loss=0.132784\n"
     ]
    },
    {
     "name": "stderr",
     "output_type": "stream",
     "text": [
      "/home/irfan/Desktop/Code/Linux-IO/python_38/lib/python3.8/site-packages/torchvision/transforms/functional.py:417: UserWarning: Argument 'interpolation' of type int is deprecated since 0.13 and will be removed in 0.15. Please use InterpolationMode enum.\n",
      "  warnings.warn(\n",
      "/home/irfan/Desktop/Code/Linux-IO/python_38/lib/python3.8/site-packages/torchvision/transforms/functional.py:417: UserWarning: Argument 'interpolation' of type int is deprecated since 0.13 and will be removed in 0.15. Please use InterpolationMode enum.\n",
      "  warnings.warn(\n"
     ]
    },
    {
     "name": "stdout",
     "output_type": "stream",
     "text": [
      "Epoch 147, Itrs 26720/30000, Loss=0.101477\n",
      "Epoch 147, Itrs 26730/30000, Loss=0.134826\n",
      "Epoch 147, Itrs 26740/30000, Loss=0.155507\n",
      "Epoch 147, Itrs 26750/30000, Loss=0.128349\n",
      "Epoch 147, Itrs 26760/30000, Loss=0.134252\n",
      "Epoch 147, Itrs 26770/30000, Loss=0.149257\n",
      "Epoch 147, Itrs 26780/30000, Loss=0.185690\n",
      "Epoch 147, Itrs 26790/30000, Loss=0.161892\n",
      "Epoch 147, Itrs 26800/30000, Loss=0.158976\n",
      "Model saved as checkpoints/latest_deeplabv3plus_mobilenet_voc_os16.pth\n",
      "validation...\n"
     ]
    },
    {
     "name": "stderr",
     "output_type": "stream",
     "text": [
      "1449it [01:12, 19.96it/s]\n"
     ]
    },
    {
     "name": "stdout",
     "output_type": "stream",
     "text": [
      "\n",
      "Overall Acc: 0.909177\n",
      "Mean Acc: 0.717033\n",
      "FreqW Acc: 0.839366\n",
      "Mean IoU: 0.629082\n",
      "\n",
      "Epoch 147, Itrs 26810/30000, Loss=0.161845\n",
      "Epoch 147, Itrs 26820/30000, Loss=0.155615\n",
      "Epoch 147, Itrs 26830/30000, Loss=0.151227\n",
      "Epoch 147, Itrs 26840/30000, Loss=0.137139\n",
      "Epoch 147, Itrs 26850/30000, Loss=0.157379\n",
      "Epoch 147, Itrs 26860/30000, Loss=0.119234\n",
      "Epoch 147, Itrs 26870/30000, Loss=0.156718\n",
      "Epoch 147, Itrs 26880/30000, Loss=0.143637\n",
      "Epoch 147, Itrs 26890/30000, Loss=0.152184\n",
      "Epoch 147, Itrs 26900/30000, Loss=0.160487\n",
      "Model saved as checkpoints/latest_deeplabv3plus_mobilenet_voc_os16.pth\n",
      "validation...\n"
     ]
    },
    {
     "name": "stderr",
     "output_type": "stream",
     "text": [
      "1449it [01:15, 19.31it/s]\n"
     ]
    },
    {
     "name": "stdout",
     "output_type": "stream",
     "text": [
      "\n",
      "Overall Acc: 0.909970\n",
      "Mean Acc: 0.715708\n",
      "FreqW Acc: 0.840307\n",
      "Mean IoU: 0.630236\n",
      "\n",
      "Model saved as checkpoints/best_deeplabv3plus_mobilenet_voc_os16.pth\n"
     ]
    },
    {
     "name": "stderr",
     "output_type": "stream",
     "text": [
      "/home/irfan/Desktop/Code/Linux-IO/python_38/lib/python3.8/site-packages/torchvision/transforms/functional.py:417: UserWarning: Argument 'interpolation' of type int is deprecated since 0.13 and will be removed in 0.15. Please use InterpolationMode enum.\n",
      "  warnings.warn(\n",
      "/home/irfan/Desktop/Code/Linux-IO/python_38/lib/python3.8/site-packages/torchvision/transforms/functional.py:417: UserWarning: Argument 'interpolation' of type int is deprecated since 0.13 and will be removed in 0.15. Please use InterpolationMode enum.\n",
      "  warnings.warn(\n"
     ]
    },
    {
     "name": "stdout",
     "output_type": "stream",
     "text": [
      "Epoch 148, Itrs 26910/30000, Loss=0.183518\n",
      "Epoch 148, Itrs 26920/30000, Loss=0.169733\n",
      "Epoch 148, Itrs 26930/30000, Loss=0.124302\n",
      "Epoch 148, Itrs 26940/30000, Loss=0.184116\n",
      "Epoch 148, Itrs 26950/30000, Loss=0.184389\n",
      "Epoch 148, Itrs 26960/30000, Loss=0.160793\n",
      "Epoch 148, Itrs 26970/30000, Loss=0.177982\n",
      "Epoch 148, Itrs 26980/30000, Loss=0.121440\n",
      "Epoch 148, Itrs 26990/30000, Loss=0.127669\n",
      "Epoch 148, Itrs 27000/30000, Loss=0.161219\n",
      "Model saved as checkpoints/latest_deeplabv3plus_mobilenet_voc_os16.pth\n",
      "validation...\n"
     ]
    },
    {
     "name": "stderr",
     "output_type": "stream",
     "text": [
      "1449it [01:08, 21.27it/s]\n"
     ]
    },
    {
     "name": "stdout",
     "output_type": "stream",
     "text": [
      "\n",
      "Overall Acc: 0.908975\n",
      "Mean Acc: 0.713768\n",
      "FreqW Acc: 0.839051\n",
      "Mean IoU: 0.628803\n",
      "\n",
      "Epoch 148, Itrs 27010/30000, Loss=0.125597\n",
      "Epoch 148, Itrs 27020/30000, Loss=0.173533\n",
      "Epoch 148, Itrs 27030/30000, Loss=0.153424\n",
      "Epoch 148, Itrs 27040/30000, Loss=0.127477\n",
      "Epoch 148, Itrs 27050/30000, Loss=0.127855\n",
      "Epoch 148, Itrs 27060/30000, Loss=0.182307\n",
      "Epoch 148, Itrs 27070/30000, Loss=0.161609\n",
      "Epoch 148, Itrs 27080/30000, Loss=0.138103\n"
     ]
    },
    {
     "name": "stderr",
     "output_type": "stream",
     "text": [
      "/home/irfan/Desktop/Code/Linux-IO/python_38/lib/python3.8/site-packages/torchvision/transforms/functional.py:417: UserWarning: Argument 'interpolation' of type int is deprecated since 0.13 and will be removed in 0.15. Please use InterpolationMode enum.\n",
      "  warnings.warn(\n",
      "/home/irfan/Desktop/Code/Linux-IO/python_38/lib/python3.8/site-packages/torchvision/transforms/functional.py:417: UserWarning: Argument 'interpolation' of type int is deprecated since 0.13 and will be removed in 0.15. Please use InterpolationMode enum.\n",
      "  warnings.warn(\n"
     ]
    },
    {
     "name": "stdout",
     "output_type": "stream",
     "text": [
      "Epoch 149, Itrs 27090/30000, Loss=0.144342\n",
      "Epoch 149, Itrs 27100/30000, Loss=0.137064\n",
      "Model saved as checkpoints/latest_deeplabv3plus_mobilenet_voc_os16.pth\n",
      "validation...\n"
     ]
    },
    {
     "name": "stderr",
     "output_type": "stream",
     "text": [
      "1449it [01:08, 21.15it/s]\n"
     ]
    },
    {
     "name": "stdout",
     "output_type": "stream",
     "text": [
      "\n",
      "Overall Acc: 0.908469\n",
      "Mean Acc: 0.715120\n",
      "FreqW Acc: 0.838499\n",
      "Mean IoU: 0.628993\n",
      "\n",
      "Epoch 149, Itrs 27110/30000, Loss=0.165966\n",
      "Epoch 149, Itrs 27120/30000, Loss=0.123955\n",
      "Epoch 149, Itrs 27130/30000, Loss=0.172915\n",
      "Epoch 149, Itrs 27140/30000, Loss=0.125679\n",
      "Epoch 149, Itrs 27150/30000, Loss=0.120755\n",
      "Epoch 149, Itrs 27160/30000, Loss=0.115842\n",
      "Epoch 149, Itrs 27170/30000, Loss=0.130721\n",
      "Epoch 149, Itrs 27180/30000, Loss=0.143528\n",
      "Epoch 149, Itrs 27190/30000, Loss=0.138188\n",
      "Epoch 149, Itrs 27200/30000, Loss=0.129006\n",
      "Model saved as checkpoints/latest_deeplabv3plus_mobilenet_voc_os16.pth\n",
      "validation...\n"
     ]
    },
    {
     "name": "stderr",
     "output_type": "stream",
     "text": [
      "1449it [01:11, 20.15it/s]\n"
     ]
    },
    {
     "name": "stdout",
     "output_type": "stream",
     "text": [
      "\n",
      "Overall Acc: 0.908743\n",
      "Mean Acc: 0.701866\n",
      "FreqW Acc: 0.837887\n",
      "Mean IoU: 0.625251\n",
      "\n",
      "Epoch 149, Itrs 27210/30000, Loss=0.145613\n",
      "Epoch 149, Itrs 27220/30000, Loss=0.142466\n",
      "Epoch 149, Itrs 27230/30000, Loss=0.146708\n",
      "Epoch 149, Itrs 27240/30000, Loss=0.158486\n",
      "Epoch 149, Itrs 27250/30000, Loss=0.143318\n",
      "Epoch 149, Itrs 27260/30000, Loss=0.158564\n"
     ]
    },
    {
     "name": "stderr",
     "output_type": "stream",
     "text": [
      "/home/irfan/Desktop/Code/Linux-IO/python_38/lib/python3.8/site-packages/torchvision/transforms/functional.py:417: UserWarning: Argument 'interpolation' of type int is deprecated since 0.13 and will be removed in 0.15. Please use InterpolationMode enum.\n",
      "  warnings.warn(\n",
      "/home/irfan/Desktop/Code/Linux-IO/python_38/lib/python3.8/site-packages/torchvision/transforms/functional.py:417: UserWarning: Argument 'interpolation' of type int is deprecated since 0.13 and will be removed in 0.15. Please use InterpolationMode enum.\n",
      "  warnings.warn(\n"
     ]
    },
    {
     "name": "stdout",
     "output_type": "stream",
     "text": [
      "Epoch 150, Itrs 27270/30000, Loss=0.192213\n",
      "Epoch 150, Itrs 27280/30000, Loss=0.144700\n",
      "Epoch 150, Itrs 27290/30000, Loss=0.148199\n",
      "Epoch 150, Itrs 27300/30000, Loss=0.154486\n",
      "Model saved as checkpoints/latest_deeplabv3plus_mobilenet_voc_os16.pth\n",
      "validation...\n"
     ]
    },
    {
     "name": "stderr",
     "output_type": "stream",
     "text": [
      "1449it [01:14, 19.34it/s]\n"
     ]
    },
    {
     "name": "stdout",
     "output_type": "stream",
     "text": [
      "\n",
      "Overall Acc: 0.910163\n",
      "Mean Acc: 0.713685\n",
      "FreqW Acc: 0.840674\n",
      "Mean IoU: 0.631784\n",
      "\n",
      "Model saved as checkpoints/best_deeplabv3plus_mobilenet_voc_os16.pth\n",
      "Epoch 150, Itrs 27310/30000, Loss=0.153609\n",
      "Epoch 150, Itrs 27320/30000, Loss=0.178439\n",
      "Epoch 150, Itrs 27330/30000, Loss=0.120206\n",
      "Epoch 150, Itrs 27340/30000, Loss=0.132916\n",
      "Epoch 150, Itrs 27350/30000, Loss=0.130650\n",
      "Epoch 150, Itrs 27360/30000, Loss=0.164133\n",
      "Epoch 150, Itrs 27370/30000, Loss=0.212964\n",
      "Epoch 150, Itrs 27380/30000, Loss=0.157985\n",
      "Epoch 150, Itrs 27390/30000, Loss=0.127967\n",
      "Epoch 150, Itrs 27400/30000, Loss=0.127783\n",
      "Model saved as checkpoints/latest_deeplabv3plus_mobilenet_voc_os16.pth\n",
      "validation...\n"
     ]
    },
    {
     "name": "stderr",
     "output_type": "stream",
     "text": [
      "1449it [01:05, 21.98it/s]\n"
     ]
    },
    {
     "name": "stdout",
     "output_type": "stream",
     "text": [
      "\n",
      "Overall Acc: 0.911010\n",
      "Mean Acc: 0.718005\n",
      "FreqW Acc: 0.842056\n",
      "Mean IoU: 0.633396\n",
      "\n",
      "Model saved as checkpoints/best_deeplabv3plus_mobilenet_voc_os16.pth\n",
      "Epoch 150, Itrs 27410/30000, Loss=0.159037\n",
      "Epoch 150, Itrs 27420/30000, Loss=0.173697\n",
      "Epoch 150, Itrs 27430/30000, Loss=0.163603\n",
      "Epoch 150, Itrs 27440/30000, Loss=0.104827\n",
      "Epoch 150, Itrs 27450/30000, Loss=0.199963\n"
     ]
    },
    {
     "name": "stderr",
     "output_type": "stream",
     "text": [
      "/home/irfan/Desktop/Code/Linux-IO/python_38/lib/python3.8/site-packages/torchvision/transforms/functional.py:417: UserWarning: Argument 'interpolation' of type int is deprecated since 0.13 and will be removed in 0.15. Please use InterpolationMode enum.\n",
      "  warnings.warn(\n",
      "/home/irfan/Desktop/Code/Linux-IO/python_38/lib/python3.8/site-packages/torchvision/transforms/functional.py:417: UserWarning: Argument 'interpolation' of type int is deprecated since 0.13 and will be removed in 0.15. Please use InterpolationMode enum.\n",
      "  warnings.warn(\n"
     ]
    },
    {
     "name": "stdout",
     "output_type": "stream",
     "text": [
      "Epoch 151, Itrs 27460/30000, Loss=0.137501\n",
      "Epoch 151, Itrs 27470/30000, Loss=0.108038\n",
      "Epoch 151, Itrs 27480/30000, Loss=0.164402\n",
      "Epoch 151, Itrs 27490/30000, Loss=0.118855\n",
      "Epoch 151, Itrs 27500/30000, Loss=0.134078\n",
      "Model saved as checkpoints/latest_deeplabv3plus_mobilenet_voc_os16.pth\n",
      "validation...\n"
     ]
    },
    {
     "name": "stderr",
     "output_type": "stream",
     "text": [
      "1449it [01:11, 20.35it/s]\n"
     ]
    },
    {
     "name": "stdout",
     "output_type": "stream",
     "text": [
      "\n",
      "Overall Acc: 0.910457\n",
      "Mean Acc: 0.713724\n",
      "FreqW Acc: 0.840865\n",
      "Mean IoU: 0.631408\n",
      "\n",
      "Epoch 151, Itrs 27510/30000, Loss=0.151378\n",
      "Epoch 151, Itrs 27520/30000, Loss=0.145897\n",
      "Epoch 151, Itrs 27530/30000, Loss=0.169539\n",
      "Epoch 151, Itrs 27540/30000, Loss=0.126831\n",
      "Epoch 151, Itrs 27550/30000, Loss=0.119745\n",
      "Epoch 151, Itrs 27560/30000, Loss=0.158863\n",
      "Epoch 151, Itrs 27570/30000, Loss=0.165802\n",
      "Epoch 151, Itrs 27580/30000, Loss=0.140203\n",
      "Epoch 151, Itrs 27590/30000, Loss=0.141743\n",
      "Epoch 151, Itrs 27600/30000, Loss=0.136371\n",
      "Model saved as checkpoints/latest_deeplabv3plus_mobilenet_voc_os16.pth\n",
      "validation...\n"
     ]
    },
    {
     "name": "stderr",
     "output_type": "stream",
     "text": [
      "1449it [01:10, 20.57it/s]\n"
     ]
    },
    {
     "name": "stdout",
     "output_type": "stream",
     "text": [
      "\n",
      "Overall Acc: 0.909706\n",
      "Mean Acc: 0.707033\n",
      "FreqW Acc: 0.839270\n",
      "Mean IoU: 0.628073\n",
      "\n",
      "Epoch 151, Itrs 27610/30000, Loss=0.127707\n",
      "Epoch 151, Itrs 27620/30000, Loss=0.153216\n",
      "Epoch 151, Itrs 27630/30000, Loss=0.138214\n"
     ]
    },
    {
     "name": "stderr",
     "output_type": "stream",
     "text": [
      "/home/irfan/Desktop/Code/Linux-IO/python_38/lib/python3.8/site-packages/torchvision/transforms/functional.py:417: UserWarning: Argument 'interpolation' of type int is deprecated since 0.13 and will be removed in 0.15. Please use InterpolationMode enum.\n",
      "  warnings.warn(\n",
      "/home/irfan/Desktop/Code/Linux-IO/python_38/lib/python3.8/site-packages/torchvision/transforms/functional.py:417: UserWarning: Argument 'interpolation' of type int is deprecated since 0.13 and will be removed in 0.15. Please use InterpolationMode enum.\n",
      "  warnings.warn(\n"
     ]
    },
    {
     "name": "stdout",
     "output_type": "stream",
     "text": [
      "Epoch 152, Itrs 27640/30000, Loss=0.174099\n",
      "Epoch 152, Itrs 27650/30000, Loss=0.190806\n",
      "Epoch 152, Itrs 27660/30000, Loss=0.146673\n",
      "Epoch 152, Itrs 27670/30000, Loss=0.175228\n",
      "Epoch 152, Itrs 27680/30000, Loss=0.122874\n",
      "Epoch 152, Itrs 27690/30000, Loss=0.146324\n",
      "Epoch 152, Itrs 27700/30000, Loss=0.116121\n",
      "Model saved as checkpoints/latest_deeplabv3plus_mobilenet_voc_os16.pth\n",
      "validation...\n"
     ]
    },
    {
     "name": "stderr",
     "output_type": "stream",
     "text": [
      "1449it [01:10, 20.57it/s]\n"
     ]
    },
    {
     "name": "stdout",
     "output_type": "stream",
     "text": [
      "\n",
      "Overall Acc: 0.909126\n",
      "Mean Acc: 0.702525\n",
      "FreqW Acc: 0.838195\n",
      "Mean IoU: 0.624849\n",
      "\n",
      "Epoch 152, Itrs 27710/30000, Loss=0.134427\n",
      "Epoch 152, Itrs 27720/30000, Loss=0.136428\n",
      "Epoch 152, Itrs 27730/30000, Loss=0.131918\n",
      "Epoch 152, Itrs 27740/30000, Loss=0.184156\n",
      "Epoch 152, Itrs 27750/30000, Loss=0.212870\n",
      "Epoch 152, Itrs 27760/30000, Loss=0.152957\n",
      "Epoch 152, Itrs 27770/30000, Loss=0.156515\n",
      "Epoch 152, Itrs 27780/30000, Loss=0.143624\n",
      "Epoch 152, Itrs 27790/30000, Loss=0.132197\n",
      "Epoch 152, Itrs 27800/30000, Loss=0.208794\n",
      "Model saved as checkpoints/latest_deeplabv3plus_mobilenet_voc_os16.pth\n",
      "validation...\n"
     ]
    },
    {
     "name": "stderr",
     "output_type": "stream",
     "text": [
      "1449it [01:13, 19.83it/s]\n"
     ]
    },
    {
     "name": "stdout",
     "output_type": "stream",
     "text": [
      "\n",
      "Overall Acc: 0.909758\n",
      "Mean Acc: 0.722775\n",
      "FreqW Acc: 0.841155\n",
      "Mean IoU: 0.632530\n",
      "\n",
      "Epoch 152, Itrs 27810/30000, Loss=0.119687\n"
     ]
    },
    {
     "name": "stderr",
     "output_type": "stream",
     "text": [
      "/home/irfan/Desktop/Code/Linux-IO/python_38/lib/python3.8/site-packages/torchvision/transforms/functional.py:417: UserWarning: Argument 'interpolation' of type int is deprecated since 0.13 and will be removed in 0.15. Please use InterpolationMode enum.\n",
      "  warnings.warn(\n",
      "/home/irfan/Desktop/Code/Linux-IO/python_38/lib/python3.8/site-packages/torchvision/transforms/functional.py:417: UserWarning: Argument 'interpolation' of type int is deprecated since 0.13 and will be removed in 0.15. Please use InterpolationMode enum.\n",
      "  warnings.warn(\n"
     ]
    },
    {
     "name": "stdout",
     "output_type": "stream",
     "text": [
      "Epoch 153, Itrs 27820/30000, Loss=0.130454\n",
      "Epoch 153, Itrs 27830/30000, Loss=0.165951\n",
      "Epoch 153, Itrs 27840/30000, Loss=0.129790\n",
      "Epoch 153, Itrs 27850/30000, Loss=0.132267\n",
      "Epoch 153, Itrs 27860/30000, Loss=0.183932\n",
      "Epoch 153, Itrs 27870/30000, Loss=0.128904\n",
      "Epoch 153, Itrs 27880/30000, Loss=0.186388\n",
      "Epoch 153, Itrs 27890/30000, Loss=0.114093\n",
      "Epoch 153, Itrs 27900/30000, Loss=0.125245\n",
      "Model saved as checkpoints/latest_deeplabv3plus_mobilenet_voc_os16.pth\n",
      "validation...\n"
     ]
    },
    {
     "name": "stderr",
     "output_type": "stream",
     "text": [
      "1449it [01:08, 21.05it/s]\n"
     ]
    },
    {
     "name": "stdout",
     "output_type": "stream",
     "text": [
      "\n",
      "Overall Acc: 0.909611\n",
      "Mean Acc: 0.717302\n",
      "FreqW Acc: 0.839868\n",
      "Mean IoU: 0.629830\n",
      "\n",
      "Epoch 153, Itrs 27910/30000, Loss=0.119886\n",
      "Epoch 153, Itrs 27920/30000, Loss=0.120274\n",
      "Epoch 153, Itrs 27930/30000, Loss=0.138528\n",
      "Epoch 153, Itrs 27940/30000, Loss=0.164919\n",
      "Epoch 153, Itrs 27950/30000, Loss=0.155182\n",
      "Epoch 153, Itrs 27960/30000, Loss=0.183107\n",
      "Epoch 153, Itrs 27970/30000, Loss=0.167766\n",
      "Epoch 153, Itrs 27980/30000, Loss=0.164713\n",
      "Epoch 153, Itrs 27990/30000, Loss=0.166223\n"
     ]
    },
    {
     "name": "stderr",
     "output_type": "stream",
     "text": [
      "/home/irfan/Desktop/Code/Linux-IO/python_38/lib/python3.8/site-packages/torchvision/transforms/functional.py:417: UserWarning: Argument 'interpolation' of type int is deprecated since 0.13 and will be removed in 0.15. Please use InterpolationMode enum.\n",
      "  warnings.warn(\n",
      "/home/irfan/Desktop/Code/Linux-IO/python_38/lib/python3.8/site-packages/torchvision/transforms/functional.py:417: UserWarning: Argument 'interpolation' of type int is deprecated since 0.13 and will be removed in 0.15. Please use InterpolationMode enum.\n",
      "  warnings.warn(\n"
     ]
    },
    {
     "name": "stdout",
     "output_type": "stream",
     "text": [
      "Epoch 154, Itrs 28000/30000, Loss=0.192216\n",
      "Model saved as checkpoints/latest_deeplabv3plus_mobilenet_voc_os16.pth\n",
      "validation...\n"
     ]
    },
    {
     "name": "stderr",
     "output_type": "stream",
     "text": [
      "1449it [01:10, 20.48it/s]\n"
     ]
    },
    {
     "name": "stdout",
     "output_type": "stream",
     "text": [
      "\n",
      "Overall Acc: 0.909642\n",
      "Mean Acc: 0.712653\n",
      "FreqW Acc: 0.839868\n",
      "Mean IoU: 0.628965\n",
      "\n",
      "Epoch 154, Itrs 28010/30000, Loss=0.142052\n",
      "Epoch 154, Itrs 28020/30000, Loss=0.139066\n",
      "Epoch 154, Itrs 28030/30000, Loss=0.179791\n",
      "Epoch 154, Itrs 28040/30000, Loss=0.141419\n",
      "Epoch 154, Itrs 28050/30000, Loss=0.117191\n",
      "Epoch 154, Itrs 28060/30000, Loss=0.145120\n",
      "Epoch 154, Itrs 28070/30000, Loss=0.195050\n",
      "Epoch 154, Itrs 28080/30000, Loss=0.170305\n",
      "Epoch 154, Itrs 28090/30000, Loss=0.101724\n",
      "Epoch 154, Itrs 28100/30000, Loss=0.165283\n",
      "Model saved as checkpoints/latest_deeplabv3plus_mobilenet_voc_os16.pth\n",
      "validation...\n"
     ]
    },
    {
     "name": "stderr",
     "output_type": "stream",
     "text": [
      "1449it [01:07, 21.41it/s]\n"
     ]
    },
    {
     "name": "stdout",
     "output_type": "stream",
     "text": [
      "\n",
      "Overall Acc: 0.910230\n",
      "Mean Acc: 0.712670\n",
      "FreqW Acc: 0.840719\n",
      "Mean IoU: 0.629438\n",
      "\n",
      "Epoch 154, Itrs 28110/30000, Loss=0.174887\n",
      "Epoch 154, Itrs 28120/30000, Loss=0.174850\n",
      "Epoch 154, Itrs 28130/30000, Loss=0.207103\n",
      "Epoch 154, Itrs 28140/30000, Loss=0.159590\n",
      "Epoch 154, Itrs 28150/30000, Loss=0.107223\n",
      "Epoch 154, Itrs 28160/30000, Loss=0.134531\n",
      "Epoch 154, Itrs 28170/30000, Loss=0.105576\n",
      "Epoch 154, Itrs 28180/30000, Loss=0.125693\n"
     ]
    },
    {
     "name": "stderr",
     "output_type": "stream",
     "text": [
      "/home/irfan/Desktop/Code/Linux-IO/python_38/lib/python3.8/site-packages/torchvision/transforms/functional.py:417: UserWarning: Argument 'interpolation' of type int is deprecated since 0.13 and will be removed in 0.15. Please use InterpolationMode enum.\n",
      "  warnings.warn(\n",
      "/home/irfan/Desktop/Code/Linux-IO/python_38/lib/python3.8/site-packages/torchvision/transforms/functional.py:417: UserWarning: Argument 'interpolation' of type int is deprecated since 0.13 and will be removed in 0.15. Please use InterpolationMode enum.\n",
      "  warnings.warn(\n"
     ]
    },
    {
     "name": "stdout",
     "output_type": "stream",
     "text": [
      "Epoch 155, Itrs 28190/30000, Loss=0.116294\n",
      "Epoch 155, Itrs 28200/30000, Loss=0.129585\n",
      "Model saved as checkpoints/latest_deeplabv3plus_mobilenet_voc_os16.pth\n",
      "validation...\n"
     ]
    },
    {
     "name": "stderr",
     "output_type": "stream",
     "text": [
      "1449it [01:04, 22.54it/s]\n"
     ]
    },
    {
     "name": "stdout",
     "output_type": "stream",
     "text": [
      "\n",
      "Overall Acc: 0.910509\n",
      "Mean Acc: 0.715409\n",
      "FreqW Acc: 0.841365\n",
      "Mean IoU: 0.631531\n",
      "\n",
      "Epoch 155, Itrs 28210/30000, Loss=0.157801\n",
      "Epoch 155, Itrs 28220/30000, Loss=0.119709\n",
      "Epoch 155, Itrs 28230/30000, Loss=0.100970\n",
      "Epoch 155, Itrs 28240/30000, Loss=0.121376\n",
      "Epoch 155, Itrs 28250/30000, Loss=0.146782\n",
      "Epoch 155, Itrs 28260/30000, Loss=0.136110\n",
      "Epoch 155, Itrs 28270/30000, Loss=0.163228\n",
      "Epoch 155, Itrs 28280/30000, Loss=0.140944\n",
      "Epoch 155, Itrs 28290/30000, Loss=0.105597\n",
      "Epoch 155, Itrs 28300/30000, Loss=0.099725\n",
      "Model saved as checkpoints/latest_deeplabv3plus_mobilenet_voc_os16.pth\n",
      "validation...\n"
     ]
    },
    {
     "name": "stderr",
     "output_type": "stream",
     "text": [
      "1449it [01:06, 21.86it/s]\n"
     ]
    },
    {
     "name": "stdout",
     "output_type": "stream",
     "text": [
      "\n",
      "Overall Acc: 0.910170\n",
      "Mean Acc: 0.713713\n",
      "FreqW Acc: 0.840691\n",
      "Mean IoU: 0.630605\n",
      "\n",
      "Epoch 155, Itrs 28310/30000, Loss=0.136702\n",
      "Epoch 155, Itrs 28320/30000, Loss=0.156997\n",
      "Epoch 155, Itrs 28330/30000, Loss=0.155773\n",
      "Epoch 155, Itrs 28340/30000, Loss=0.153586\n",
      "Epoch 155, Itrs 28350/30000, Loss=0.115993\n",
      "Epoch 155, Itrs 28360/30000, Loss=0.190275\n"
     ]
    },
    {
     "name": "stderr",
     "output_type": "stream",
     "text": [
      "/home/irfan/Desktop/Code/Linux-IO/python_38/lib/python3.8/site-packages/torchvision/transforms/functional.py:417: UserWarning: Argument 'interpolation' of type int is deprecated since 0.13 and will be removed in 0.15. Please use InterpolationMode enum.\n",
      "  warnings.warn(\n",
      "/home/irfan/Desktop/Code/Linux-IO/python_38/lib/python3.8/site-packages/torchvision/transforms/functional.py:417: UserWarning: Argument 'interpolation' of type int is deprecated since 0.13 and will be removed in 0.15. Please use InterpolationMode enum.\n",
      "  warnings.warn(\n"
     ]
    },
    {
     "name": "stdout",
     "output_type": "stream",
     "text": [
      "Epoch 156, Itrs 28370/30000, Loss=0.170505\n",
      "Epoch 156, Itrs 28380/30000, Loss=0.104539\n",
      "Epoch 156, Itrs 28390/30000, Loss=0.124049\n",
      "Epoch 156, Itrs 28400/30000, Loss=0.128015\n",
      "Model saved as checkpoints/latest_deeplabv3plus_mobilenet_voc_os16.pth\n",
      "validation...\n"
     ]
    },
    {
     "name": "stderr",
     "output_type": "stream",
     "text": [
      "1449it [01:08, 21.06it/s]\n"
     ]
    },
    {
     "name": "stdout",
     "output_type": "stream",
     "text": [
      "\n",
      "Overall Acc: 0.909446\n",
      "Mean Acc: 0.714868\n",
      "FreqW Acc: 0.840074\n",
      "Mean IoU: 0.629032\n",
      "\n",
      "Epoch 156, Itrs 28410/30000, Loss=0.168823\n",
      "Epoch 156, Itrs 28420/30000, Loss=0.131163\n",
      "Epoch 156, Itrs 28430/30000, Loss=0.149347\n",
      "Epoch 156, Itrs 28440/30000, Loss=0.107664\n",
      "Epoch 156, Itrs 28450/30000, Loss=0.211736\n",
      "Epoch 156, Itrs 28460/30000, Loss=0.124751\n",
      "Epoch 156, Itrs 28470/30000, Loss=0.121545\n",
      "Epoch 156, Itrs 28480/30000, Loss=0.160231\n",
      "Epoch 156, Itrs 28490/30000, Loss=0.137267\n",
      "Epoch 156, Itrs 28500/30000, Loss=0.165747\n",
      "Model saved as checkpoints/latest_deeplabv3plus_mobilenet_voc_os16.pth\n",
      "validation...\n"
     ]
    },
    {
     "name": "stderr",
     "output_type": "stream",
     "text": [
      "1449it [01:40, 14.47it/s]\n"
     ]
    },
    {
     "name": "stdout",
     "output_type": "stream",
     "text": [
      "\n",
      "Overall Acc: 0.909869\n",
      "Mean Acc: 0.715940\n",
      "FreqW Acc: 0.840428\n",
      "Mean IoU: 0.629366\n",
      "\n",
      "Epoch 156, Itrs 28510/30000, Loss=0.109410\n",
      "Epoch 156, Itrs 28520/30000, Loss=0.112837\n",
      "Epoch 156, Itrs 28530/30000, Loss=0.144068\n",
      "Epoch 156, Itrs 28540/30000, Loss=0.150487\n"
     ]
    },
    {
     "name": "stderr",
     "output_type": "stream",
     "text": [
      "/home/irfan/Desktop/Code/Linux-IO/python_38/lib/python3.8/site-packages/torchvision/transforms/functional.py:417: UserWarning: Argument 'interpolation' of type int is deprecated since 0.13 and will be removed in 0.15. Please use InterpolationMode enum.\n",
      "  warnings.warn(\n",
      "/home/irfan/Desktop/Code/Linux-IO/python_38/lib/python3.8/site-packages/torchvision/transforms/functional.py:417: UserWarning: Argument 'interpolation' of type int is deprecated since 0.13 and will be removed in 0.15. Please use InterpolationMode enum.\n",
      "  warnings.warn(\n"
     ]
    },
    {
     "name": "stdout",
     "output_type": "stream",
     "text": [
      "Epoch 157, Itrs 28550/30000, Loss=0.161946\n",
      "Epoch 157, Itrs 28560/30000, Loss=0.137731\n",
      "Epoch 157, Itrs 28570/30000, Loss=0.157947\n",
      "Epoch 157, Itrs 28580/30000, Loss=0.127203\n",
      "Epoch 157, Itrs 28590/30000, Loss=0.158342\n",
      "Epoch 157, Itrs 28600/30000, Loss=0.142036\n",
      "Model saved as checkpoints/latest_deeplabv3plus_mobilenet_voc_os16.pth\n",
      "validation...\n"
     ]
    },
    {
     "name": "stderr",
     "output_type": "stream",
     "text": [
      "1449it [01:11, 20.32it/s]\n"
     ]
    },
    {
     "name": "stdout",
     "output_type": "stream",
     "text": [
      "\n",
      "Overall Acc: 0.909905\n",
      "Mean Acc: 0.710525\n",
      "FreqW Acc: 0.840013\n",
      "Mean IoU: 0.629134\n",
      "\n",
      "Epoch 157, Itrs 28610/30000, Loss=0.129560\n",
      "Epoch 157, Itrs 28620/30000, Loss=0.126618\n",
      "Epoch 157, Itrs 28630/30000, Loss=0.117992\n",
      "Epoch 157, Itrs 28640/30000, Loss=0.153359\n",
      "Epoch 157, Itrs 28650/30000, Loss=0.140918\n",
      "Epoch 157, Itrs 28660/30000, Loss=0.153650\n",
      "Epoch 157, Itrs 28670/30000, Loss=0.159408\n",
      "Epoch 157, Itrs 28680/30000, Loss=0.162712\n",
      "Epoch 157, Itrs 28690/30000, Loss=0.159407\n",
      "Epoch 157, Itrs 28700/30000, Loss=0.161183\n",
      "Model saved as checkpoints/latest_deeplabv3plus_mobilenet_voc_os16.pth\n",
      "validation...\n"
     ]
    },
    {
     "name": "stderr",
     "output_type": "stream",
     "text": [
      "1449it [01:10, 20.57it/s]\n"
     ]
    },
    {
     "name": "stdout",
     "output_type": "stream",
     "text": [
      "\n",
      "Overall Acc: 0.909634\n",
      "Mean Acc: 0.714725\n",
      "FreqW Acc: 0.839952\n",
      "Mean IoU: 0.628864\n",
      "\n",
      "Epoch 157, Itrs 28710/30000, Loss=0.168317\n",
      "Epoch 157, Itrs 28720/30000, Loss=0.113337\n",
      "Epoch 157, Itrs 28730/30000, Loss=0.133295\n"
     ]
    },
    {
     "name": "stderr",
     "output_type": "stream",
     "text": [
      "/home/irfan/Desktop/Code/Linux-IO/python_38/lib/python3.8/site-packages/torchvision/transforms/functional.py:417: UserWarning: Argument 'interpolation' of type int is deprecated since 0.13 and will be removed in 0.15. Please use InterpolationMode enum.\n",
      "  warnings.warn(\n",
      "/home/irfan/Desktop/Code/Linux-IO/python_38/lib/python3.8/site-packages/torchvision/transforms/functional.py:417: UserWarning: Argument 'interpolation' of type int is deprecated since 0.13 and will be removed in 0.15. Please use InterpolationMode enum.\n",
      "  warnings.warn(\n"
     ]
    },
    {
     "name": "stdout",
     "output_type": "stream",
     "text": [
      "Epoch 158, Itrs 28740/30000, Loss=0.109078\n",
      "Epoch 158, Itrs 28750/30000, Loss=0.133679\n",
      "Epoch 158, Itrs 28760/30000, Loss=0.147031\n",
      "Epoch 158, Itrs 28770/30000, Loss=0.140186\n",
      "Epoch 158, Itrs 28780/30000, Loss=0.133748\n",
      "Epoch 158, Itrs 28790/30000, Loss=0.213696\n",
      "Epoch 158, Itrs 28800/30000, Loss=0.162451\n",
      "Model saved as checkpoints/latest_deeplabv3plus_mobilenet_voc_os16.pth\n",
      "validation...\n"
     ]
    },
    {
     "name": "stderr",
     "output_type": "stream",
     "text": [
      "1449it [01:07, 21.39it/s]\n"
     ]
    },
    {
     "name": "stdout",
     "output_type": "stream",
     "text": [
      "\n",
      "Overall Acc: 0.910083\n",
      "Mean Acc: 0.712969\n",
      "FreqW Acc: 0.840316\n",
      "Mean IoU: 0.629845\n",
      "\n",
      "Epoch 158, Itrs 28810/30000, Loss=0.119290\n",
      "Epoch 158, Itrs 28820/30000, Loss=0.152554\n",
      "Epoch 158, Itrs 28830/30000, Loss=0.117038\n",
      "Epoch 158, Itrs 28840/30000, Loss=0.145660\n",
      "Epoch 158, Itrs 28850/30000, Loss=0.120160\n",
      "Epoch 158, Itrs 28860/30000, Loss=0.131033\n",
      "Epoch 158, Itrs 28870/30000, Loss=0.120602\n",
      "Epoch 158, Itrs 28880/30000, Loss=0.178244\n",
      "Epoch 158, Itrs 28890/30000, Loss=0.163998\n",
      "Epoch 158, Itrs 28900/30000, Loss=0.149338\n",
      "Model saved as checkpoints/latest_deeplabv3plus_mobilenet_voc_os16.pth\n",
      "validation...\n"
     ]
    },
    {
     "name": "stderr",
     "output_type": "stream",
     "text": [
      "1449it [01:08, 21.06it/s]\n"
     ]
    },
    {
     "name": "stdout",
     "output_type": "stream",
     "text": [
      "\n",
      "Overall Acc: 0.909117\n",
      "Mean Acc: 0.703456\n",
      "FreqW Acc: 0.838365\n",
      "Mean IoU: 0.623951\n",
      "\n",
      "Epoch 158, Itrs 28910/30000, Loss=0.115701\n"
     ]
    },
    {
     "name": "stderr",
     "output_type": "stream",
     "text": [
      "/home/irfan/Desktop/Code/Linux-IO/python_38/lib/python3.8/site-packages/torchvision/transforms/functional.py:417: UserWarning: Argument 'interpolation' of type int is deprecated since 0.13 and will be removed in 0.15. Please use InterpolationMode enum.\n",
      "  warnings.warn(\n",
      "/home/irfan/Desktop/Code/Linux-IO/python_38/lib/python3.8/site-packages/torchvision/transforms/functional.py:417: UserWarning: Argument 'interpolation' of type int is deprecated since 0.13 and will be removed in 0.15. Please use InterpolationMode enum.\n",
      "  warnings.warn(\n"
     ]
    },
    {
     "name": "stdout",
     "output_type": "stream",
     "text": [
      "Epoch 159, Itrs 28920/30000, Loss=0.148306\n",
      "Epoch 159, Itrs 28930/30000, Loss=0.198353\n",
      "Epoch 159, Itrs 28940/30000, Loss=0.125278\n",
      "Epoch 159, Itrs 28950/30000, Loss=0.130964\n",
      "Epoch 159, Itrs 28960/30000, Loss=0.152305\n",
      "Epoch 159, Itrs 28970/30000, Loss=0.238405\n",
      "Epoch 159, Itrs 28980/30000, Loss=0.172627\n",
      "Epoch 159, Itrs 28990/30000, Loss=0.152304\n",
      "Epoch 159, Itrs 29000/30000, Loss=0.124727\n",
      "Model saved as checkpoints/latest_deeplabv3plus_mobilenet_voc_os16.pth\n",
      "validation...\n"
     ]
    },
    {
     "name": "stderr",
     "output_type": "stream",
     "text": [
      "1449it [01:24, 17.16it/s]\n"
     ]
    },
    {
     "name": "stdout",
     "output_type": "stream",
     "text": [
      "\n",
      "Overall Acc: 0.909987\n",
      "Mean Acc: 0.710225\n",
      "FreqW Acc: 0.839884\n",
      "Mean IoU: 0.628232\n",
      "\n",
      "Epoch 159, Itrs 29010/30000, Loss=0.132612\n",
      "Epoch 159, Itrs 29020/30000, Loss=0.108237\n",
      "Epoch 159, Itrs 29030/30000, Loss=0.143546\n",
      "Epoch 159, Itrs 29040/30000, Loss=0.135100\n",
      "Epoch 159, Itrs 29050/30000, Loss=0.174379\n",
      "Epoch 159, Itrs 29060/30000, Loss=0.141717\n",
      "Epoch 159, Itrs 29070/30000, Loss=0.135126\n",
      "Epoch 159, Itrs 29080/30000, Loss=0.106283\n",
      "Epoch 159, Itrs 29090/30000, Loss=0.164717\n"
     ]
    },
    {
     "name": "stderr",
     "output_type": "stream",
     "text": [
      "/home/irfan/Desktop/Code/Linux-IO/python_38/lib/python3.8/site-packages/torchvision/transforms/functional.py:417: UserWarning: Argument 'interpolation' of type int is deprecated since 0.13 and will be removed in 0.15. Please use InterpolationMode enum.\n",
      "  warnings.warn(\n",
      "/home/irfan/Desktop/Code/Linux-IO/python_38/lib/python3.8/site-packages/torchvision/transforms/functional.py:417: UserWarning: Argument 'interpolation' of type int is deprecated since 0.13 and will be removed in 0.15. Please use InterpolationMode enum.\n",
      "  warnings.warn(\n"
     ]
    },
    {
     "name": "stdout",
     "output_type": "stream",
     "text": [
      "Epoch 160, Itrs 29100/30000, Loss=0.140261\n",
      "Model saved as checkpoints/latest_deeplabv3plus_mobilenet_voc_os16.pth\n",
      "validation...\n"
     ]
    },
    {
     "name": "stderr",
     "output_type": "stream",
     "text": [
      "1449it [01:06, 21.76it/s]\n"
     ]
    },
    {
     "name": "stdout",
     "output_type": "stream",
     "text": [
      "\n",
      "Overall Acc: 0.910044\n",
      "Mean Acc: 0.708676\n",
      "FreqW Acc: 0.839848\n",
      "Mean IoU: 0.628129\n",
      "\n",
      "Epoch 160, Itrs 29110/30000, Loss=0.138729\n",
      "Epoch 160, Itrs 29120/30000, Loss=0.132999\n",
      "Epoch 160, Itrs 29130/30000, Loss=0.125021\n",
      "Epoch 160, Itrs 29140/30000, Loss=0.141157\n",
      "Epoch 160, Itrs 29150/30000, Loss=0.133993\n",
      "Epoch 160, Itrs 29160/30000, Loss=0.125722\n",
      "Epoch 160, Itrs 29170/30000, Loss=0.187886\n",
      "Epoch 160, Itrs 29180/30000, Loss=0.161248\n",
      "Epoch 160, Itrs 29190/30000, Loss=0.148041\n",
      "Epoch 160, Itrs 29200/30000, Loss=0.173097\n",
      "Model saved as checkpoints/latest_deeplabv3plus_mobilenet_voc_os16.pth\n",
      "validation...\n"
     ]
    },
    {
     "name": "stderr",
     "output_type": "stream",
     "text": [
      "1449it [01:09, 20.94it/s]\n"
     ]
    },
    {
     "name": "stdout",
     "output_type": "stream",
     "text": [
      "\n",
      "Overall Acc: 0.910034\n",
      "Mean Acc: 0.710771\n",
      "FreqW Acc: 0.840018\n",
      "Mean IoU: 0.628178\n",
      "\n",
      "Epoch 160, Itrs 29210/30000, Loss=0.132391\n",
      "Epoch 160, Itrs 29220/30000, Loss=0.136578\n",
      "Epoch 160, Itrs 29230/30000, Loss=0.151828\n",
      "Epoch 160, Itrs 29240/30000, Loss=0.132182\n",
      "Epoch 160, Itrs 29250/30000, Loss=0.174267\n",
      "Epoch 160, Itrs 29260/30000, Loss=0.133415\n",
      "Epoch 160, Itrs 29270/30000, Loss=0.139927\n",
      "Epoch 160, Itrs 29280/30000, Loss=0.101153\n"
     ]
    },
    {
     "name": "stderr",
     "output_type": "stream",
     "text": [
      "/home/irfan/Desktop/Code/Linux-IO/python_38/lib/python3.8/site-packages/torchvision/transforms/functional.py:417: UserWarning: Argument 'interpolation' of type int is deprecated since 0.13 and will be removed in 0.15. Please use InterpolationMode enum.\n",
      "  warnings.warn(\n",
      "/home/irfan/Desktop/Code/Linux-IO/python_38/lib/python3.8/site-packages/torchvision/transforms/functional.py:417: UserWarning: Argument 'interpolation' of type int is deprecated since 0.13 and will be removed in 0.15. Please use InterpolationMode enum.\n",
      "  warnings.warn(\n"
     ]
    },
    {
     "name": "stdout",
     "output_type": "stream",
     "text": [
      "Epoch 161, Itrs 29290/30000, Loss=0.164306\n",
      "Epoch 161, Itrs 29300/30000, Loss=0.159423\n",
      "Model saved as checkpoints/latest_deeplabv3plus_mobilenet_voc_os16.pth\n",
      "validation...\n"
     ]
    },
    {
     "name": "stderr",
     "output_type": "stream",
     "text": [
      "1449it [01:09, 20.78it/s]\n"
     ]
    },
    {
     "name": "stdout",
     "output_type": "stream",
     "text": [
      "\n",
      "Overall Acc: 0.909989\n",
      "Mean Acc: 0.706984\n",
      "FreqW Acc: 0.839825\n",
      "Mean IoU: 0.627453\n",
      "\n",
      "Epoch 161, Itrs 29310/30000, Loss=0.116753\n",
      "Epoch 161, Itrs 29320/30000, Loss=0.133554\n",
      "Epoch 161, Itrs 29330/30000, Loss=0.124381\n",
      "Epoch 161, Itrs 29340/30000, Loss=0.111449\n",
      "Epoch 161, Itrs 29350/30000, Loss=0.118744\n",
      "Epoch 161, Itrs 29360/30000, Loss=0.177409\n",
      "Epoch 161, Itrs 29370/30000, Loss=0.122347\n",
      "Epoch 161, Itrs 29380/30000, Loss=0.162039\n",
      "Epoch 161, Itrs 29390/30000, Loss=0.144042\n",
      "Epoch 161, Itrs 29400/30000, Loss=0.152043\n",
      "Model saved as checkpoints/latest_deeplabv3plus_mobilenet_voc_os16.pth\n",
      "validation...\n"
     ]
    },
    {
     "name": "stderr",
     "output_type": "stream",
     "text": [
      "1449it [01:12, 20.00it/s]\n"
     ]
    },
    {
     "name": "stdout",
     "output_type": "stream",
     "text": [
      "\n",
      "Overall Acc: 0.910217\n",
      "Mean Acc: 0.709499\n",
      "FreqW Acc: 0.840136\n",
      "Mean IoU: 0.627994\n",
      "\n",
      "Epoch 161, Itrs 29410/30000, Loss=0.133669\n",
      "Epoch 161, Itrs 29420/30000, Loss=0.143879\n",
      "Epoch 161, Itrs 29430/30000, Loss=0.148191\n",
      "Epoch 161, Itrs 29440/30000, Loss=0.137071\n",
      "Epoch 161, Itrs 29450/30000, Loss=0.109850\n",
      "Epoch 161, Itrs 29460/30000, Loss=0.156614\n"
     ]
    },
    {
     "name": "stderr",
     "output_type": "stream",
     "text": [
      "/home/irfan/Desktop/Code/Linux-IO/python_38/lib/python3.8/site-packages/torchvision/transforms/functional.py:417: UserWarning: Argument 'interpolation' of type int is deprecated since 0.13 and will be removed in 0.15. Please use InterpolationMode enum.\n",
      "  warnings.warn(\n",
      "/home/irfan/Desktop/Code/Linux-IO/python_38/lib/python3.8/site-packages/torchvision/transforms/functional.py:417: UserWarning: Argument 'interpolation' of type int is deprecated since 0.13 and will be removed in 0.15. Please use InterpolationMode enum.\n",
      "  warnings.warn(\n"
     ]
    },
    {
     "name": "stdout",
     "output_type": "stream",
     "text": [
      "Epoch 162, Itrs 29470/30000, Loss=0.141766\n",
      "Epoch 162, Itrs 29480/30000, Loss=0.114692\n",
      "Epoch 162, Itrs 29490/30000, Loss=0.149623\n",
      "Epoch 162, Itrs 29500/30000, Loss=0.111316\n",
      "Model saved as checkpoints/latest_deeplabv3plus_mobilenet_voc_os16.pth\n",
      "validation...\n"
     ]
    },
    {
     "name": "stderr",
     "output_type": "stream",
     "text": [
      "1449it [01:01, 23.47it/s]\n"
     ]
    },
    {
     "name": "stdout",
     "output_type": "stream",
     "text": [
      "\n",
      "Overall Acc: 0.909676\n",
      "Mean Acc: 0.709072\n",
      "FreqW Acc: 0.839287\n",
      "Mean IoU: 0.627357\n",
      "\n",
      "Epoch 162, Itrs 29510/30000, Loss=0.101656\n",
      "Epoch 162, Itrs 29520/30000, Loss=0.131128\n",
      "Epoch 162, Itrs 29530/30000, Loss=0.161545\n",
      "Epoch 162, Itrs 29540/30000, Loss=0.149417\n",
      "Epoch 162, Itrs 29550/30000, Loss=0.140408\n",
      "Epoch 162, Itrs 29560/30000, Loss=0.147861\n",
      "Epoch 162, Itrs 29570/30000, Loss=0.130961\n",
      "Epoch 162, Itrs 29580/30000, Loss=0.122427\n",
      "Epoch 162, Itrs 29590/30000, Loss=0.148374\n",
      "Epoch 162, Itrs 29600/30000, Loss=0.134771\n",
      "Model saved as checkpoints/latest_deeplabv3plus_mobilenet_voc_os16.pth\n",
      "validation...\n"
     ]
    },
    {
     "name": "stderr",
     "output_type": "stream",
     "text": [
      "1449it [01:09, 20.81it/s]\n"
     ]
    },
    {
     "name": "stdout",
     "output_type": "stream",
     "text": [
      "\n",
      "Overall Acc: 0.910706\n",
      "Mean Acc: 0.714604\n",
      "FreqW Acc: 0.841340\n",
      "Mean IoU: 0.631221\n",
      "\n",
      "Epoch 162, Itrs 29610/30000, Loss=0.141793\n",
      "Epoch 162, Itrs 29620/30000, Loss=0.155594\n",
      "Epoch 162, Itrs 29630/30000, Loss=0.169808\n",
      "Epoch 162, Itrs 29640/30000, Loss=0.168700\n"
     ]
    },
    {
     "name": "stderr",
     "output_type": "stream",
     "text": [
      "/home/irfan/Desktop/Code/Linux-IO/python_38/lib/python3.8/site-packages/torchvision/transforms/functional.py:417: UserWarning: Argument 'interpolation' of type int is deprecated since 0.13 and will be removed in 0.15. Please use InterpolationMode enum.\n",
      "  warnings.warn(\n",
      "/home/irfan/Desktop/Code/Linux-IO/python_38/lib/python3.8/site-packages/torchvision/transforms/functional.py:417: UserWarning: Argument 'interpolation' of type int is deprecated since 0.13 and will be removed in 0.15. Please use InterpolationMode enum.\n",
      "  warnings.warn(\n"
     ]
    },
    {
     "name": "stdout",
     "output_type": "stream",
     "text": [
      "Epoch 163, Itrs 29650/30000, Loss=0.192754\n",
      "Epoch 163, Itrs 29660/30000, Loss=0.116956\n",
      "Epoch 163, Itrs 29670/30000, Loss=0.154396\n",
      "Epoch 163, Itrs 29680/30000, Loss=0.109953\n",
      "Epoch 163, Itrs 29690/30000, Loss=0.125492\n",
      "Epoch 163, Itrs 29700/30000, Loss=0.148698\n",
      "Model saved as checkpoints/latest_deeplabv3plus_mobilenet_voc_os16.pth\n",
      "validation...\n"
     ]
    },
    {
     "name": "stderr",
     "output_type": "stream",
     "text": [
      "1449it [01:09, 20.96it/s]\n"
     ]
    },
    {
     "name": "stdout",
     "output_type": "stream",
     "text": [
      "\n",
      "Overall Acc: 0.910831\n",
      "Mean Acc: 0.716151\n",
      "FreqW Acc: 0.841623\n",
      "Mean IoU: 0.632296\n",
      "\n",
      "Epoch 163, Itrs 29710/30000, Loss=0.146591\n",
      "Epoch 163, Itrs 29720/30000, Loss=0.121082\n",
      "Epoch 163, Itrs 29730/30000, Loss=0.139712\n",
      "Epoch 163, Itrs 29740/30000, Loss=0.123898\n",
      "Epoch 163, Itrs 29750/30000, Loss=0.156522\n",
      "Epoch 163, Itrs 29760/30000, Loss=0.115104\n",
      "Epoch 163, Itrs 29770/30000, Loss=0.136881\n",
      "Epoch 163, Itrs 29780/30000, Loss=0.159381\n",
      "Epoch 163, Itrs 29790/30000, Loss=0.135139\n",
      "Epoch 163, Itrs 29800/30000, Loss=0.104933\n",
      "Model saved as checkpoints/latest_deeplabv3plus_mobilenet_voc_os16.pth\n",
      "validation...\n"
     ]
    },
    {
     "name": "stderr",
     "output_type": "stream",
     "text": [
      "1449it [01:07, 21.43it/s]\n"
     ]
    },
    {
     "name": "stdout",
     "output_type": "stream",
     "text": [
      "\n",
      "Overall Acc: 0.910635\n",
      "Mean Acc: 0.721477\n",
      "FreqW Acc: 0.841873\n",
      "Mean IoU: 0.633222\n",
      "\n",
      "Epoch 163, Itrs 29810/30000, Loss=0.148825\n",
      "Epoch 163, Itrs 29820/30000, Loss=0.143428\n"
     ]
    },
    {
     "name": "stderr",
     "output_type": "stream",
     "text": [
      "/home/irfan/Desktop/Code/Linux-IO/python_38/lib/python3.8/site-packages/torchvision/transforms/functional.py:417: UserWarning: Argument 'interpolation' of type int is deprecated since 0.13 and will be removed in 0.15. Please use InterpolationMode enum.\n",
      "  warnings.warn(\n",
      "/home/irfan/Desktop/Code/Linux-IO/python_38/lib/python3.8/site-packages/torchvision/transforms/functional.py:417: UserWarning: Argument 'interpolation' of type int is deprecated since 0.13 and will be removed in 0.15. Please use InterpolationMode enum.\n",
      "  warnings.warn(\n"
     ]
    },
    {
     "name": "stdout",
     "output_type": "stream",
     "text": [
      "Epoch 164, Itrs 29830/30000, Loss=0.178523\n",
      "Epoch 164, Itrs 29840/30000, Loss=0.143769\n",
      "Epoch 164, Itrs 29850/30000, Loss=0.118139\n",
      "Epoch 164, Itrs 29860/30000, Loss=0.152600\n",
      "Epoch 164, Itrs 29870/30000, Loss=0.170948\n",
      "Epoch 164, Itrs 29880/30000, Loss=0.155786\n",
      "Epoch 164, Itrs 29890/30000, Loss=0.143721\n",
      "Epoch 164, Itrs 29900/30000, Loss=0.122199\n",
      "Model saved as checkpoints/latest_deeplabv3plus_mobilenet_voc_os16.pth\n",
      "validation...\n"
     ]
    },
    {
     "name": "stderr",
     "output_type": "stream",
     "text": [
      "1449it [01:09, 20.77it/s]\n"
     ]
    },
    {
     "name": "stdout",
     "output_type": "stream",
     "text": [
      "\n",
      "Overall Acc: 0.909808\n",
      "Mean Acc: 0.711453\n",
      "FreqW Acc: 0.839798\n",
      "Mean IoU: 0.628053\n",
      "\n",
      "Epoch 164, Itrs 29910/30000, Loss=0.151492\n",
      "Epoch 164, Itrs 29920/30000, Loss=0.117262\n",
      "Epoch 164, Itrs 29930/30000, Loss=0.135368\n",
      "Epoch 164, Itrs 29940/30000, Loss=0.166892\n",
      "Epoch 164, Itrs 29950/30000, Loss=0.117924\n",
      "Epoch 164, Itrs 29960/30000, Loss=0.131190\n",
      "Epoch 164, Itrs 29970/30000, Loss=0.118044\n",
      "Epoch 164, Itrs 29980/30000, Loss=0.115913\n",
      "Epoch 164, Itrs 29990/30000, Loss=0.161390\n",
      "Epoch 164, Itrs 30000/30000, Loss=0.154327\n",
      "Model saved as checkpoints/latest_deeplabv3plus_mobilenet_voc_os16.pth\n",
      "validation...\n"
     ]
    },
    {
     "name": "stderr",
     "output_type": "stream",
     "text": [
      "1449it [01:08, 21.30it/s]\n"
     ]
    },
    {
     "name": "stdout",
     "output_type": "stream",
     "text": [
      "\n",
      "Overall Acc: 0.910782\n",
      "Mean Acc: 0.713468\n",
      "FreqW Acc: 0.841134\n",
      "Mean IoU: 0.631050\n",
      "\n"
     ]
    }
   ],
   "source": [
    "from tqdm import tqdm\n",
    "import network\n",
    "import utils\n",
    "import os\n",
    "import random\n",
    "import argparse\n",
    "import numpy as np\n",
    "\n",
    "from torch.utils import data\n",
    "from datasets import VOCSegmentation, Cityscapes\n",
    "from utils import ext_transforms as et\n",
    "from metrics import StreamSegMetrics\n",
    "\n",
    "import torch\n",
    "import torch.nn as nn\n",
    "from utils.visualizer import Visualizer\n",
    "\n",
    "from PIL import Image\n",
    "import matplotlib\n",
    "import matplotlib.pyplot as plt\n",
    "\n",
    "os.environ['PYTORCH_CUDA_ALLOC_CONF']='max_split_size_mb:4096'\n",
    "\n",
    "class Params:\n",
    "    def __init__(self):\n",
    "        # Datset Options\n",
    "        self.data_root ='/home/irfan/Desktop/Data/VOCtrainval_11-May-2012'#VOCdevkit/VOC2012/'                  \n",
    "        self.dataset ='voc'\n",
    "        self.num_classes =None\n",
    "\n",
    "        # Deeplab Options\n",
    "        available_models = sorted(name for name in network.modeling.__dict__ if name.islower() and \\\n",
    "                                  not (name.startswith(\"__\") or name.startswith('_')) and callable(\n",
    "                                  network.modeling.__dict__[name])\n",
    "                                  )\n",
    "        self.model = 'deeplabv3plus_mobilenet'\n",
    "        self.separable_conv = False\n",
    "        self.output_stride  = 16\n",
    "        # Train Options\n",
    "        self.test_only      = False\n",
    "        self.save_val_results = False\n",
    "        self.total_itrs     = 30e3\n",
    "        self.lr             = 0.01\n",
    "        self.lr_policy      = 'poly'\n",
    "\n",
    "        self.step_size      = 10000\n",
    "        self.crop_val       = False\n",
    "        self.batch_size     = 8\n",
    "        self.val_batch_size = 2\n",
    "        self.crop_size      = 256\n",
    "        self.ckpt           = None\n",
    "        self.continue_training = False\n",
    "\n",
    "        self.loss_type      = 'cross_entropy'\n",
    "        self.gpu_id         = '0'\n",
    "        self.weight_decay   = 1e-4\n",
    "        self.random_seed    = 1\n",
    "        self.print_interval = 10\n",
    "        self.val_interval   = 100\n",
    "        self.download       = False\n",
    "        # PASCAL VOC Options\n",
    "        self.year           ='2012'\n",
    "\n",
    "        # Visdom options\n",
    "        self.enable_vis     = False              \n",
    "        self.vis_port       ='13570'\n",
    "        self.vis_env        ='main'\n",
    "        self.vis_num_samples =8\n",
    "        \n",
    "def get_dataset(opts):\n",
    "    \"\"\" Dataset And Augmentation\n",
    "    \"\"\"\n",
    "    if opts.dataset == 'voc':\n",
    "        train_transform = et.ExtCompose([\n",
    "            # et.ExtResize(size=opts.crop_size),\n",
    "            et.ExtRandomScale((0.5, 2.0)),\n",
    "            et.ExtRandomCrop(size=(opts.crop_size, opts.crop_size), pad_if_needed=True),\n",
    "            et.ExtRandomHorizontalFlip(),\n",
    "            et.ExtToTensor(),\n",
    "            et.ExtNormalize(mean=[0.485, 0.456, 0.406],\n",
    "                            std=[0.229, 0.224, 0.225]),\n",
    "        ])\n",
    "        if opts.crop_val:\n",
    "            val_transform = et.ExtCompose([\n",
    "                et.ExtResize(opts.crop_size),\n",
    "                et.ExtCenterCrop(opts.crop_size),\n",
    "                et.ExtToTensor(),\n",
    "                et.ExtNormalize(mean=[0.485, 0.456, 0.406],\n",
    "                                std=[0.229, 0.224, 0.225]),\n",
    "            ])\n",
    "        else:\n",
    "            val_transform = et.ExtCompose([\n",
    "                et.ExtToTensor(),\n",
    "                et.ExtNormalize(mean=[0.485, 0.456, 0.406],\n",
    "                                std=[0.229, 0.224, 0.225]),\n",
    "            ])\n",
    "        train_dst = VOCSegmentation(root=opts.data_root, year=opts.year,\n",
    "                                    image_set='train', download=opts.download, transform=train_transform)\n",
    "        val_dst = VOCSegmentation(root=opts.data_root, year=opts.year,\n",
    "                                  image_set='val', download=False, transform=val_transform)\n",
    "\n",
    "    if opts.dataset == 'cityscapes':\n",
    "        train_transform = et.ExtCompose([\n",
    "            # et.ExtResize( 512 ),\n",
    "            et.ExtRandomCrop(size=(opts.crop_size, opts.crop_size)),\n",
    "            et.ExtColorJitter(brightness=0.5, contrast=0.5, saturation=0.5),\n",
    "            et.ExtRandomHorizontalFlip(),\n",
    "            et.ExtToTensor(),\n",
    "            et.ExtNormalize(mean=[0.485, 0.456, 0.406],\n",
    "                            std=[0.229, 0.224, 0.225]),\n",
    "        ])\n",
    "\n",
    "        val_transform = et.ExtCompose([\n",
    "            # et.ExtResize( 512 ),\n",
    "            et.ExtToTensor(),\n",
    "            et.ExtNormalize(mean=[0.485, 0.456, 0.406],\n",
    "                            std=[0.229, 0.224, 0.225]),\n",
    "        ])\n",
    "\n",
    "        train_dst = Cityscapes(root=opts.data_root,\n",
    "                               split='train', transform=train_transform)\n",
    "        val_dst = Cityscapes(root=opts.data_root,\n",
    "                             split='val', transform=val_transform)\n",
    "    return train_dst, val_dst\n",
    "\n",
    "\n",
    "def validate(opts, model, loader, device, metrics, ret_samples_ids=None):\n",
    "    \"\"\"Do validation and return specified samples\"\"\"\n",
    "    metrics.reset()\n",
    "    ret_samples = []\n",
    "    if opts.save_val_results:\n",
    "        if not os.path.exists('results'):\n",
    "            os.mkdir('results')\n",
    "        denorm = utils.Denormalize(mean=[0.485, 0.456, 0.406],\n",
    "                                   std=[0.229, 0.224, 0.225])\n",
    "        img_id = 0\n",
    "\n",
    "    with torch.no_grad():\n",
    "        for i, (images, labels) in tqdm(enumerate(loader)):\n",
    "\n",
    "            images = images.to(device, dtype=torch.float32)\n",
    "            labels = labels.to(device, dtype=torch.long)\n",
    "\n",
    "            outputs = model(images)\n",
    "            preds = outputs.detach().max(dim=1)[1].cpu().numpy()\n",
    "            targets = labels.cpu().numpy()\n",
    "\n",
    "            metrics.update(targets, preds)\n",
    "            if ret_samples_ids is not None and i in ret_samples_ids:  # get vis samples\n",
    "                ret_samples.append(\n",
    "                    (images[0].detach().cpu().numpy(), targets[0], preds[0]))\n",
    "\n",
    "            if opts.save_val_results:\n",
    "                for i in range(len(images)):\n",
    "                    image = images[i].detach().cpu().numpy()\n",
    "                    target = targets[i]\n",
    "                    pred = preds[i]\n",
    "\n",
    "                    image = (denorm(image) * 255).transpose(1, 2, 0).astype(np.uint8)\n",
    "                    target = loader.dataset.decode_target(target).astype(np.uint8)\n",
    "                    pred = loader.dataset.decode_target(pred).astype(np.uint8)\n",
    "\n",
    "                    Image.fromarray(image).save('results/%d_image.png' % img_id)\n",
    "                    Image.fromarray(target).save('results/%d_target.png' % img_id)\n",
    "                    Image.fromarray(pred).save('results/%d_pred.png' % img_id)\n",
    "\n",
    "                    fig = plt.figure()\n",
    "                    plt.imshow(image)\n",
    "                    plt.axis('off')\n",
    "                    plt.imshow(pred, alpha=0.7)\n",
    "                    ax = plt.gca()\n",
    "                    ax.xaxis.set_major_locator(matplotlib.ticker.NullLocator())\n",
    "                    ax.yaxis.set_major_locator(matplotlib.ticker.NullLocator())\n",
    "                    plt.savefig('results/%d_overlay.png' % img_id, bbox_inches='tight', pad_inches=0)\n",
    "                    plt.close()\n",
    "                    img_id += 1\n",
    "\n",
    "        score = metrics.get_results()\n",
    "    return score, ret_samples\n",
    "\n",
    "\n",
    "def main(opts):\n",
    "    #opts = get_argparser().parse_args()\n",
    "    if opts.dataset.lower() == 'voc':\n",
    "        opts.num_classes = 21\n",
    "    elif opts.dataset.lower() == 'cityscapes':\n",
    "        opts.num_classes = 19\n",
    "\n",
    "    # Setup visualization\n",
    "    vis = Visualizer(port=opts.vis_port,\n",
    "                     env=opts.vis_env) if opts.enable_vis else None\n",
    "    if vis is not None:  # display options\n",
    "        vis.vis_table(\"Options\", vars(opts))\n",
    "\n",
    "    os.environ['CUDA_VISIBLE_DEVICES'] = opts.gpu_id\n",
    "    device = torch.device('cuda' if torch.cuda.is_available() else 'cpu')\n",
    "    print(\"Device: %s\" % device)\n",
    "\n",
    "    # Setup random seed\n",
    "    torch.manual_seed(opts.random_seed)\n",
    "    np.random.seed(opts.random_seed)\n",
    "    random.seed(opts.random_seed)\n",
    "\n",
    "    # Setup dataloader\n",
    "    if opts.dataset == 'voc' and not opts.crop_val:\n",
    "        opts.val_batch_size = 1\n",
    "\n",
    "    train_dst, val_dst = get_dataset(opts)\n",
    "    train_loader = data.DataLoader(\n",
    "        train_dst, batch_size=opts.batch_size, shuffle=True, num_workers=2,\n",
    "        drop_last=True)  # drop_last=True to ignore single-image batches.\n",
    "    val_loader = data.DataLoader(\n",
    "        val_dst, batch_size=opts.val_batch_size, shuffle=True, num_workers=2)\n",
    "    print(\"Dataset: %s, Train set: %d, Val set: %d\" %\n",
    "          (opts.dataset, len(train_dst), len(val_dst)))\n",
    "\n",
    "    # Set up model (all models are 'constructed at network.modeling)\n",
    "    model = network.modeling.__dict__[opts.model](num_classes=opts.num_classes, output_stride=opts.output_stride)\n",
    "    if opts.separable_conv and 'plus' in opts.model:\n",
    "        network.convert_to_separable_conv(model.classifier)\n",
    "    utils.set_bn_momentum(model.backbone, momentum=0.01)\n",
    "\n",
    "    # Set up metrics\n",
    "    metrics = StreamSegMetrics(opts.num_classes)\n",
    "\n",
    "    # Set up optimizer\n",
    "    optimizer = torch.optim.SGD(params=[\n",
    "        {'params': model.backbone.parameters(), 'lr': 0.1 * opts.lr},\n",
    "        {'params': model.classifier.parameters(), 'lr': opts.lr},\n",
    "    ], lr=opts.lr, momentum=0.9, weight_decay=opts.weight_decay)\n",
    "    # optimizer = torch.optim.SGD(params=model.parameters(), lr=opts.lr, momentum=0.9, weight_decay=opts.weight_decay)\n",
    "    # torch.optim.lr_scheduler.StepLR(optimizer, step_size=opts.lr_decay_step, gamma=opts.lr_decay_factor)\n",
    "    if opts.lr_policy == 'poly':\n",
    "        scheduler = utils.PolyLR(optimizer, opts.total_itrs, power=0.9)\n",
    "    elif opts.lr_policy == 'step':\n",
    "        scheduler = torch.optim.lr_scheduler.StepLR(optimizer, step_size=opts.step_size, gamma=0.1)\n",
    "\n",
    "    # Set up criterion\n",
    "    # criterion = utils.get_loss(opts.loss_type)\n",
    "    if opts.loss_type == 'focal_loss':\n",
    "        criterion = utils.FocalLoss(ignore_index=255, size_average=True)\n",
    "    elif opts.loss_type == 'cross_entropy':\n",
    "        criterion = nn.CrossEntropyLoss(ignore_index=255, reduction='mean')\n",
    "\n",
    "    def save_ckpt(path):\n",
    "        \"\"\" save current model\n",
    "        \"\"\"\n",
    "        torch.save({\n",
    "            \"cur_itrs\": cur_itrs,\n",
    "            \"model_state\": model.module.state_dict(),\n",
    "            \"optimizer_state\": optimizer.state_dict(),\n",
    "            \"scheduler_state\": scheduler.state_dict(),\n",
    "            \"best_score\": best_score,\n",
    "        }, path)\n",
    "        print(\"Model saved as %s\" % path)\n",
    "\n",
    "    utils.mkdir('checkpoints')\n",
    "    # Restore\n",
    "    best_score = 0.0\n",
    "    cur_itrs = 0\n",
    "    cur_epochs = 0\n",
    "    if opts.ckpt is not None and os.path.isfile(opts.ckpt):\n",
    "        # https://github.com/VainF/DeepLabV3Plus-Pytorch/issues/8#issuecomment-605601402, @PytaichukBohdan\n",
    "        checkpoint = torch.load(opts.ckpt, map_location=torch.device('cpu'))\n",
    "        model.load_state_dict(checkpoint[\"model_state\"])\n",
    "        model = nn.DataParallel(model)\n",
    "        model.to(device)\n",
    "        if opts.continue_training:\n",
    "            optimizer.load_state_dict(checkpoint[\"optimizer_state\"])\n",
    "            scheduler.load_state_dict(checkpoint[\"scheduler_state\"])\n",
    "            cur_itrs = checkpoint[\"cur_itrs\"]\n",
    "            best_score = checkpoint['best_score']\n",
    "            print(\"Training state restored from %s\" % opts.ckpt)\n",
    "        print(\"Model restored from %s\" % opts.ckpt)\n",
    "        del checkpoint  # free memory\n",
    "    else:\n",
    "        print(\"[!] Retrain\")\n",
    "        model = nn.DataParallel(model)\n",
    "        model.to(device)\n",
    "\n",
    "    # ==========   Train Loop   ==========#\n",
    "    vis_sample_id = np.random.randint(0, len(val_loader), opts.vis_num_samples,\n",
    "                                      np.int32) if opts.enable_vis else None  # sample idxs for visualization\n",
    "    denorm = utils.Denormalize(mean=[0.485, 0.456, 0.406], std=[0.229, 0.224, 0.225])  # denormalization for ori images\n",
    "\n",
    "    if opts.test_only:\n",
    "        model.eval()\n",
    "        val_score, ret_samples = validate(\n",
    "            opts=opts, model=model, loader=val_loader, device=device, metrics=metrics, ret_samples_ids=vis_sample_id)\n",
    "        print(metrics.to_str(val_score))\n",
    "        return\n",
    "\n",
    "    interval_loss = 0\n",
    "    while True:  # cur_itrs < opts.total_itrs:\n",
    "        # =====  Train  =====\n",
    "        model.train()\n",
    "        cur_epochs += 1\n",
    "        for (images, labels) in train_loader:\n",
    "            cur_itrs += 1\n",
    "\n",
    "            images = images.to(device, dtype=torch.float32)\n",
    "            labels = labels.to(device, dtype=torch.long)\n",
    "\n",
    "            optimizer.zero_grad()\n",
    "            outputs = model(images)\n",
    "            loss = criterion(outputs, labels)\n",
    "            loss.backward()\n",
    "            optimizer.step()\n",
    "\n",
    "            np_loss = loss.detach().cpu().numpy()\n",
    "            interval_loss += np_loss\n",
    "            if vis is not None:\n",
    "                vis.vis_scalar('Loss', cur_itrs, np_loss)\n",
    "\n",
    "            if (cur_itrs) % 10 == 0:\n",
    "                interval_loss = interval_loss / 10\n",
    "                print(\"Epoch %d, Itrs %d/%d, Loss=%f\" %\n",
    "                      (cur_epochs, cur_itrs, opts.total_itrs, interval_loss))\n",
    "                interval_loss = 0.0\n",
    "\n",
    "            if (cur_itrs) % opts.val_interval == 0:\n",
    "                save_ckpt('checkpoints/latest_%s_%s_os%d.pth' %\n",
    "                          (opts.model, opts.dataset, opts.output_stride))\n",
    "                print(\"validation...\")\n",
    "                model.eval()\n",
    "                val_score, ret_samples = validate(\n",
    "                    opts=opts, model=model, loader=val_loader, device=device, metrics=metrics,\n",
    "                    ret_samples_ids=vis_sample_id)\n",
    "                print(metrics.to_str(val_score))\n",
    "                if val_score['Mean IoU'] > best_score:  # save best model\n",
    "                    best_score = val_score['Mean IoU']\n",
    "                    save_ckpt('checkpoints/best_%s_%s_os%d.pth' %\n",
    "                              (opts.model, opts.dataset, opts.output_stride))\n",
    "\n",
    "                if vis is not None:  # visualize validation score and samples\n",
    "                    vis.vis_scalar(\"[Val] Overall Acc\", cur_itrs, val_score['Overall Acc'])\n",
    "                    vis.vis_scalar(\"[Val] Mean IoU\", cur_itrs, val_score['Mean IoU'])\n",
    "                    vis.vis_table(\"[Val] Class IoU\", val_score['Class IoU'])\n",
    "\n",
    "                    for k, (img, target, lbl) in enumerate(ret_samples):\n",
    "                        img = (denorm(img) * 255).astype(np.uint8)\n",
    "                        target = train_dst.decode_target(target).transpose(2, 0, 1).astype(np.uint8)\n",
    "                        lbl = train_dst.decode_target(lbl).transpose(2, 0, 1).astype(np.uint8)\n",
    "                        concat_img = np.concatenate((img, target, lbl), axis=2)  # concat along width\n",
    "                        vis.vis_image('Sample %d' % k, concat_img)\n",
    "                model.train()\n",
    "            scheduler.step()\n",
    "\n",
    "            if cur_itrs >= opts.total_itrs:\n",
    "                return\n",
    "\n",
    "#torch.cuda.memory._record_memory_history()\n",
    "params = Params()\n",
    "main(params)"
   ]
  },
  {
   "cell_type": "code",
   "execution_count": 2,
   "id": "5320e58e-a496-4874-8d19-3eb7c124b414",
   "metadata": {},
   "outputs": [],
   "source": [
    "torch.cuda.memory._dump_snapshot(\"my_snapshot.pickle\")"
   ]
  }
 ],
 "metadata": {
  "kernelspec": {
   "display_name": "python_38",
   "language": "python",
   "name": "python_38"
  },
  "language_info": {
   "codemirror_mode": {
    "name": "ipython",
    "version": 3
   },
   "file_extension": ".py",
   "mimetype": "text/x-python",
   "name": "python",
   "nbconvert_exporter": "python",
   "pygments_lexer": "ipython3",
   "version": "3.8.10"
  }
 },
 "nbformat": 4,
 "nbformat_minor": 5
}
