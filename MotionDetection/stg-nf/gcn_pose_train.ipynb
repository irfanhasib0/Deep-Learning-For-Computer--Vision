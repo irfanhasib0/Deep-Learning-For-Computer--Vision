{
 "cells": [
  {
   "cell_type": "code",
   "execution_count": 1,
   "id": "5b09b13b-915d-4ced-9e38-efbb0107403d",
   "metadata": {},
   "outputs": [],
   "source": [
    "import os\n",
    "import json\n",
    "import cv2\n",
    "import pickle\n",
    "from tqdm import tqdm\n",
    "\n",
    "import torch\n",
    "import random\n",
    "import numpy as np\n",
    "from matplotlib import pyplot as plt\n",
    "from pose_data import PoseGraph\n",
    "from training import Trainer, Logger\n",
    "from torch.utils.data import DataLoader"
   ]
  },
  {
   "cell_type": "code",
   "execution_count": 2,
   "id": "61a36838-921b-466f-b1b6-1b7c47eb7a47",
   "metadata": {},
   "outputs": [],
   "source": [
    "#from gpec_models.gcae import GCAE\n",
    "from nf_models.model_pose import STG_NF\n",
    "from nf_models.graph import Graph\n",
    "#model.load_state_dict(torch.load('checkpoints/ShanghaiTech_85_9.tar')['state_dict'])\n",
    "from vae import VAE, vae_loss, ae_loss"
   ]
  },
  {
   "cell_type": "raw",
   "id": "02541beb-4918-4d79-a042-a7129de62350",
   "metadata": {},
   "source": [
    "import sys\n",
    "sys.path.append('../')\n",
    "from gepc.utils.pose_ad_argparse import init_stc_parser, init_stc_sub_args\n",
    "from gepc.models.fe.fe_model import init_fenet\n",
    "parser = init_stc_parser()\n",
    "parser.add_argument('-f')\n",
    "args = parser.parse_args()\n",
    "model = init_fenet(args,None)"
   ]
  },
  {
   "cell_type": "code",
   "execution_count": 3,
   "id": "d5cd9abc-17c1-4cb3-b378-5793b0e453b0",
   "metadata": {},
   "outputs": [],
   "source": [
    "#83 , 1.21 sec/itr"
   ]
  },
  {
   "cell_type": "code",
   "execution_count": 4,
   "id": "36003c28-7922-4275-b5e3-4c36514e6bd3",
   "metadata": {
    "scrolled": true,
    "tags": []
   },
   "outputs": [],
   "source": [
    "args = {\n",
    "'exp_name'    : 'exp-arch-3_81632',\n",
    "'no_of_files' : 330,\n",
    "'channel'     : 2,\n",
    "'seg_len'     : 24,\n",
    "'no_of_kps'   : 18,\n",
    "'seg_stride'  : 1,\n",
    "'train_stride': 30,#30\n",
    "'seg_conf_thr': 0,\n",
    "'seed'        : 0,\n",
    "'lr'          : 0.000001,\n",
    "'bsize'       : 256,\n",
    "'device'      : 'cuda:0',\n",
    "'hdims'       : [8,16,32],\n",
    "'num_heads'   :  1,\n",
    "'num_embd_lyrs': 1,\n",
    "'num_deep_lyrs': 1,\n",
    "'latent_dim'   : 128,\n",
    "'ksize'       : 3,\n",
    "'vid_res'     : [856, 480],\n",
    "'json_dir'    : {\n",
    "    'train' : '/home/irfan/Desktop/Data/Pose_JSON_Data/ShanghaiTech/pose/train', \n",
    "    'valid' : '/home/irfan/Desktop/Data/Pose_JSON_Data/ShanghaiTech/pose/test' \n",
    "},\n",
    "'gt_dir'      : {\n",
    "    'valid'    :\n",
    "    {\n",
    "    'mask_dir'  : '/home/irfan/Desktop/Data/Pose_JSON_Data/ShanghaiTech/gt/test/test_frame_mask/',\n",
    "    'frame_dir' : '/home/irfan/Desktop/Data/Pose_JSON_Data/ShanghaiTech/gt/test/frames/'\n",
    "    },\n",
    "    'train'    :\n",
    "    {\n",
    "    'mask_dir'  : '/home/irfan/Desktop/Data/Pose_JSON_Data/ShanghaiTech/gt/train/train_frame_mask/',\n",
    "    'frame_dir' : '/home/irfan/Desktop/Data/Pose_JSON_Data/ShanghaiTech/train/frames/'\n",
    "    }\n",
    "}\n",
    "}\n",
    "\n",
    "'''\n",
    "train_dataset = PoseGraph(args,split='train')\n",
    "valid_dataset = PoseGraph(args,split='valid')\n",
    "\n",
    "with open('st_data.pkl','wb') as file:\n",
    "    pickle.dump([train_dataset,valid_dataset],file)\n",
    "''' \n",
    "with open('st_data.pkl','rb') as file:\n",
    "    [train_dataset,valid_dataset] = pickle.load(file)\n",
    "    \n",
    "train_loader  = DataLoader(train_dataset,args['bsize'])\n",
    "valid_loader  = DataLoader(valid_dataset,args['bsize'])\n",
    "\n",
    "#model = STG_NF()\n",
    "#model = GCAE(in_channels=3)\n",
    "model   = VAE(args,2,hidden_dims=args['hdims'])#[24,48,96,192]\n",
    "\n",
    "trainer = Trainer(model,\n",
    "                  train_loader,\n",
    "                  valid_loader,\n",
    "                  loss_func = vae_loss,#stg_nf_loss,#ae_loss,#model.loss_function,\n",
    "                  epochs    = 5,\n",
    "                  lr        = args['lr'])\n"
   ]
  },
  {
   "cell_type": "code",
   "execution_count": 5,
   "id": "85ba156a-802d-48ef-b5ae-3d54806af95d",
   "metadata": {
    "scrolled": true,
    "tags": []
   },
   "outputs": [
    {
     "data": {
      "text/plain": [
       "VAE(\n",
       "  (encoder): ModuleList(\n",
       "    (0): StGcn(\n",
       "      (layer_embd): ModuleList(\n",
       "        (0): Sequential(\n",
       "          (0): Conv2d(2, 8, kernel_size=(3, 1), stride=(2, 1), padding=(1, 0))\n",
       "          (1): BatchNorm2d(8, eps=1e-05, momentum=0.1, affine=True, track_running_stats=True)\n",
       "          (2): ReLU()\n",
       "        )\n",
       "      )\n",
       "      (conv_qry): ModuleList(\n",
       "        (0): Conv2d(8, 8, kernel_size=(1, 1), stride=(1, 1))\n",
       "      )\n",
       "      (conv_key): ModuleList(\n",
       "        (0): Conv2d(8, 8, kernel_size=(1, 1), stride=(1, 1))\n",
       "      )\n",
       "      (conv_exp): ModuleList()\n",
       "      (conv_val): ModuleList(\n",
       "        (0): Conv2d(8, 8, kernel_size=(1, 1), stride=(1, 1))\n",
       "      )\n",
       "      (layer_deep): ModuleList(\n",
       "        (0): Sequential(\n",
       "          (0): Conv2d(8, 8, kernel_size=(3, 3), stride=(1, 1), padding=(1, 1))\n",
       "          (1): BatchNorm2d(8, eps=1e-05, momentum=0.1, affine=True, track_running_stats=True)\n",
       "        )\n",
       "      )\n",
       "    )\n",
       "    (1): StGcn(\n",
       "      (residual): Sequential(\n",
       "        (0): Conv2d(8, 16, kernel_size=(1, 1), stride=(2, 1))\n",
       "        (1): BatchNorm2d(16, eps=1e-05, momentum=0.1, affine=True, track_running_stats=True)\n",
       "      )\n",
       "      (layer_embd): ModuleList(\n",
       "        (0): Sequential(\n",
       "          (0): Conv2d(8, 16, kernel_size=(3, 1), stride=(2, 1), padding=(1, 0))\n",
       "          (1): BatchNorm2d(16, eps=1e-05, momentum=0.1, affine=True, track_running_stats=True)\n",
       "          (2): ReLU()\n",
       "        )\n",
       "      )\n",
       "      (conv_qry): ModuleList(\n",
       "        (0): Conv2d(16, 16, kernel_size=(1, 1), stride=(1, 1))\n",
       "      )\n",
       "      (conv_key): ModuleList(\n",
       "        (0): Conv2d(16, 16, kernel_size=(1, 1), stride=(1, 1))\n",
       "      )\n",
       "      (conv_exp): ModuleList()\n",
       "      (conv_val): ModuleList(\n",
       "        (0): Conv2d(16, 16, kernel_size=(1, 1), stride=(1, 1))\n",
       "      )\n",
       "      (layer_deep): ModuleList(\n",
       "        (0): Sequential(\n",
       "          (0): Conv2d(16, 16, kernel_size=(3, 3), stride=(1, 1), padding=(1, 1))\n",
       "          (1): BatchNorm2d(16, eps=1e-05, momentum=0.1, affine=True, track_running_stats=True)\n",
       "        )\n",
       "      )\n",
       "    )\n",
       "    (2): StGcn(\n",
       "      (residual): Sequential(\n",
       "        (0): Conv2d(16, 32, kernel_size=(1, 1), stride=(2, 1))\n",
       "        (1): BatchNorm2d(32, eps=1e-05, momentum=0.1, affine=True, track_running_stats=True)\n",
       "      )\n",
       "      (layer_embd): ModuleList(\n",
       "        (0): Sequential(\n",
       "          (0): Conv2d(16, 32, kernel_size=(3, 1), stride=(2, 1), padding=(1, 0))\n",
       "          (1): BatchNorm2d(32, eps=1e-05, momentum=0.1, affine=True, track_running_stats=True)\n",
       "          (2): ReLU()\n",
       "        )\n",
       "      )\n",
       "      (conv_qry): ModuleList(\n",
       "        (0): Conv2d(32, 32, kernel_size=(1, 1), stride=(1, 1))\n",
       "      )\n",
       "      (conv_key): ModuleList(\n",
       "        (0): Conv2d(32, 32, kernel_size=(1, 1), stride=(1, 1))\n",
       "      )\n",
       "      (conv_exp): ModuleList()\n",
       "      (conv_val): ModuleList(\n",
       "        (0): Conv2d(32, 32, kernel_size=(1, 1), stride=(1, 1))\n",
       "      )\n",
       "      (layer_deep): ModuleList(\n",
       "        (0): Sequential(\n",
       "          (0): Conv2d(32, 32, kernel_size=(3, 3), stride=(1, 1), padding=(1, 1))\n",
       "          (1): BatchNorm2d(32, eps=1e-05, momentum=0.1, affine=True, track_running_stats=True)\n",
       "        )\n",
       "      )\n",
       "    )\n",
       "  )\n",
       "  (fc_mu): Linear(in_features=1728, out_features=128, bias=True)\n",
       "  (fc_var): Linear(in_features=1728, out_features=128, bias=True)\n",
       "  (decoder_input): Linear(in_features=128, out_features=1728, bias=True)\n",
       "  (decoder): ModuleList(\n",
       "    (0): StGcn(\n",
       "      (layer_embd): ModuleList(\n",
       "        (0): Sequential(\n",
       "          (0): ConvTranspose2d(32, 16, kernel_size=(3, 1), stride=(2, 1), padding=(1, 0), output_padding=(1, 0))\n",
       "          (1): BatchNorm2d(16, eps=1e-05, momentum=0.1, affine=True, track_running_stats=True)\n",
       "          (2): ReLU()\n",
       "        )\n",
       "      )\n",
       "      (conv_qry): ModuleList(\n",
       "        (0): Conv2d(16, 16, kernel_size=(1, 1), stride=(1, 1))\n",
       "      )\n",
       "      (conv_key): ModuleList(\n",
       "        (0): Conv2d(16, 16, kernel_size=(1, 1), stride=(1, 1))\n",
       "      )\n",
       "      (conv_exp): ModuleList()\n",
       "      (conv_val): ModuleList(\n",
       "        (0): Conv2d(16, 16, kernel_size=(1, 1), stride=(1, 1))\n",
       "      )\n",
       "      (layer_deep): ModuleList(\n",
       "        (0): Sequential(\n",
       "          (0): Conv2d(16, 16, kernel_size=(3, 3), stride=(1, 1), padding=(1, 1))\n",
       "          (1): BatchNorm2d(16, eps=1e-05, momentum=0.1, affine=True, track_running_stats=True)\n",
       "        )\n",
       "      )\n",
       "    )\n",
       "    (1): StGcn(\n",
       "      (layer_embd): ModuleList(\n",
       "        (0): Sequential(\n",
       "          (0): ConvTranspose2d(16, 8, kernel_size=(3, 1), stride=(2, 1), padding=(1, 0), output_padding=(1, 0))\n",
       "          (1): BatchNorm2d(8, eps=1e-05, momentum=0.1, affine=True, track_running_stats=True)\n",
       "          (2): ReLU()\n",
       "        )\n",
       "      )\n",
       "      (conv_qry): ModuleList(\n",
       "        (0): Conv2d(8, 8, kernel_size=(1, 1), stride=(1, 1))\n",
       "      )\n",
       "      (conv_key): ModuleList(\n",
       "        (0): Conv2d(8, 8, kernel_size=(1, 1), stride=(1, 1))\n",
       "      )\n",
       "      (conv_exp): ModuleList()\n",
       "      (conv_val): ModuleList(\n",
       "        (0): Conv2d(8, 8, kernel_size=(1, 1), stride=(1, 1))\n",
       "      )\n",
       "      (layer_deep): ModuleList(\n",
       "        (0): Sequential(\n",
       "          (0): Conv2d(8, 8, kernel_size=(3, 3), stride=(1, 1), padding=(1, 1))\n",
       "          (1): BatchNorm2d(8, eps=1e-05, momentum=0.1, affine=True, track_running_stats=True)\n",
       "        )\n",
       "      )\n",
       "    )\n",
       "    (2): StGcn(\n",
       "      (layer_embd): ModuleList(\n",
       "        (0): Sequential(\n",
       "          (0): ConvTranspose2d(8, 2, kernel_size=(3, 1), stride=(2, 1), padding=(1, 0), output_padding=(1, 0))\n",
       "          (1): BatchNorm2d(2, eps=1e-05, momentum=0.1, affine=True, track_running_stats=True)\n",
       "          (2): ReLU()\n",
       "        )\n",
       "      )\n",
       "      (conv_qry): ModuleList(\n",
       "        (0): Conv2d(2, 2, kernel_size=(1, 1), stride=(1, 1))\n",
       "      )\n",
       "      (conv_key): ModuleList(\n",
       "        (0): Conv2d(2, 2, kernel_size=(1, 1), stride=(1, 1))\n",
       "      )\n",
       "      (conv_exp): ModuleList()\n",
       "      (conv_val): ModuleList(\n",
       "        (0): Conv2d(2, 2, kernel_size=(1, 1), stride=(1, 1))\n",
       "      )\n",
       "      (layer_deep): ModuleList(\n",
       "        (0): Sequential(\n",
       "          (0): Conv2d(2, 2, kernel_size=(3, 3), stride=(1, 1), padding=(1, 1))\n",
       "          (1): BatchNorm2d(2, eps=1e-05, momentum=0.1, affine=True, track_running_stats=True)\n",
       "        )\n",
       "      )\n",
       "    )\n",
       "  )\n",
       "  (final_layer): Sequential(\n",
       "    (0): Tanh()\n",
       "  )\n",
       ")"
      ]
     },
     "execution_count": 5,
     "metadata": {},
     "output_type": "execute_result"
    }
   ],
   "source": [
    "model"
   ]
  },
  {
   "cell_type": "code",
   "execution_count": 6,
   "id": "d1518d64-b4e4-44a7-ad0e-f2cf7b403427",
   "metadata": {
    "scrolled": true,
    "tags": []
   },
   "outputs": [
    {
     "name": "stderr",
     "output_type": "stream",
     "text": [
      "Loss: 0.8945306539535522: 100%|██████████████████████████████████████████████████████████████████████████████████████████████████████████████████████████████████████████| 119/119 [00:08<00:00, 14.29it/s]\n",
      "  1%|█▏                                                                                                                                                                    | 4/566 [00:00<00:16, 33.40it/s]"
     ]
    },
    {
     "name": "stdout",
     "output_type": "stream",
     "text": [
      "Starting Test Eval\n"
     ]
    },
    {
     "name": "stderr",
     "output_type": "stream",
     "text": [
      "100%|████████████████████████████████████████████████████████████████████████████████████████████████████████████████████████████████████████████████████████████████████| 566/566 [00:17<00:00, 31.77it/s]\n"
     ]
    },
    {
     "name": "stdout",
     "output_type": "stream",
     "text": [
      "Scoring 107 clips\n"
     ]
    },
    {
     "name": "stderr",
     "output_type": "stream",
     "text": [
      "100%|██████████████████████████████████████████████████████████████████████████████████████████████████████████████████████████████████████████████████████████████████| 107/107 [00:00<00:00, 1102.81it/s]\n",
      "rm: cannot remove '{self.model_dir}*': No such file or directory\n"
     ]
    },
    {
     "name": "stdout",
     "output_type": "stream",
     "text": [
      "    train_loss   val_acc\n",
      "0  954867.3125  0.783489\n"
     ]
    },
    {
     "name": "stderr",
     "output_type": "stream",
     "text": [
      "Loss: 0.7896232604980469: 100%|██████████████████████████████████████████████████████████████████████████████████████████████████████████████████████████████████████████| 119/119 [00:06<00:00, 17.30it/s]\n",
      "  1%|█▏                                                                                                                                                                    | 4/566 [00:00<00:16, 34.31it/s]"
     ]
    },
    {
     "name": "stdout",
     "output_type": "stream",
     "text": [
      "Starting Test Eval\n"
     ]
    },
    {
     "name": "stderr",
     "output_type": "stream",
     "text": [
      "100%|████████████████████████████████████████████████████████████████████████████████████████████████████████████████████████████████████████████████████████████████████| 566/566 [00:16<00:00, 34.86it/s]\n"
     ]
    },
    {
     "name": "stdout",
     "output_type": "stream",
     "text": [
      "Scoring 107 clips\n"
     ]
    },
    {
     "name": "stderr",
     "output_type": "stream",
     "text": [
      "100%|███████████████████████████████████████████████████████████████████████████████████████████████████████████████████████████████████████████████████████████████████| 107/107 [00:00<00:00, 977.08it/s]\n",
      "rm: cannot remove '{self.model_dir}*': No such file or directory\n"
     ]
    },
    {
     "name": "stdout",
     "output_type": "stream",
     "text": [
      "  train_loss   val_acc\n",
      "1   3.912526  0.785043\n"
     ]
    },
    {
     "name": "stderr",
     "output_type": "stream",
     "text": [
      "Loss: 1.711298942565918: 100%|███████████████████████████████████████████████████████████████████████████████████████████████████████████████████████████████████████████| 119/119 [00:06<00:00, 18.66it/s]\n",
      "  1%|▉                                                                                                                                                                     | 3/566 [00:00<00:21, 26.24it/s]"
     ]
    },
    {
     "name": "stdout",
     "output_type": "stream",
     "text": [
      "Starting Test Eval\n"
     ]
    },
    {
     "name": "stderr",
     "output_type": "stream",
     "text": [
      "100%|████████████████████████████████████████████████████████████████████████████████████████████████████████████████████████████████████████████████████████████████████| 566/566 [00:18<00:00, 30.28it/s]\n"
     ]
    },
    {
     "name": "stdout",
     "output_type": "stream",
     "text": [
      "Scoring 107 clips\n"
     ]
    },
    {
     "name": "stderr",
     "output_type": "stream",
     "text": [
      "100%|███████████████████████████████████████████████████████████████████████████████████████████████████████████████████████████████████████████████████████████████████| 107/107 [00:00<00:00, 552.06it/s]\n"
     ]
    },
    {
     "name": "stdout",
     "output_type": "stream",
     "text": [
      "  train_loss   val_acc\n",
      "2   0.878561  0.784745\n"
     ]
    },
    {
     "name": "stderr",
     "output_type": "stream",
     "text": [
      "Loss: 0.7139257788658142: 100%|██████████████████████████████████████████████████████████████████████████████████████████████████████████████████████████████████████████| 119/119 [00:06<00:00, 17.77it/s]\n",
      "  1%|█▏                                                                                                                                                                    | 4/566 [00:00<00:16, 33.49it/s]"
     ]
    },
    {
     "name": "stdout",
     "output_type": "stream",
     "text": [
      "Starting Test Eval\n"
     ]
    },
    {
     "name": "stderr",
     "output_type": "stream",
     "text": [
      "100%|████████████████████████████████████████████████████████████████████████████████████████████████████████████████████████████████████████████████████████████████████| 566/566 [00:19<00:00, 29.44it/s]\n"
     ]
    },
    {
     "name": "stdout",
     "output_type": "stream",
     "text": [
      "Scoring 107 clips\n"
     ]
    },
    {
     "name": "stderr",
     "output_type": "stream",
     "text": [
      "100%|███████████████████████████████████████████████████████████████████████████████████████████████████████████████████████████████████████████████████████████████████| 107/107 [00:00<00:00, 857.08it/s]\n",
      "rm: cannot remove '{self.model_dir}*': No such file or directory\n"
     ]
    },
    {
     "name": "stdout",
     "output_type": "stream",
     "text": [
      "  train_loss   val_acc\n",
      "3   0.609839  0.787937\n"
     ]
    },
    {
     "name": "stderr",
     "output_type": "stream",
     "text": [
      "Loss: 0.6589437127113342: 100%|██████████████████████████████████████████████████████████████████████████████████████████████████████████████████████████████████████████| 119/119 [00:06<00:00, 17.45it/s]\n",
      "  1%|▉                                                                                                                                                                     | 3/566 [00:00<00:20, 27.71it/s]"
     ]
    },
    {
     "name": "stdout",
     "output_type": "stream",
     "text": [
      "Starting Test Eval\n"
     ]
    },
    {
     "name": "stderr",
     "output_type": "stream",
     "text": [
      "100%|████████████████████████████████████████████████████████████████████████████████████████████████████████████████████████████████████████████████████████████████████| 566/566 [00:18<00:00, 30.24it/s]\n"
     ]
    },
    {
     "name": "stdout",
     "output_type": "stream",
     "text": [
      "Scoring 107 clips\n"
     ]
    },
    {
     "name": "stderr",
     "output_type": "stream",
     "text": [
      "100%|███████████████████████████████████████████████████████████████████████████████████████████████████████████████████████████████████████████████████████████████████| 107/107 [00:00<00:00, 792.06it/s]\n"
     ]
    },
    {
     "name": "stdout",
     "output_type": "stream",
     "text": [
      "  train_loss   val_acc\n",
      "4   1.418309  0.785673\n"
     ]
    },
    {
     "name": "stderr",
     "output_type": "stream",
     "text": [
      "Loss: 0.5453078746795654: 100%|██████████████████████████████████████████████████████████████████████████████████████████████████████████████████████████████████████████| 119/119 [00:07<00:00, 15.62it/s]\n",
      "  1%|▉                                                                                                                                                                     | 3/566 [00:00<00:20, 27.11it/s]"
     ]
    },
    {
     "name": "stdout",
     "output_type": "stream",
     "text": [
      "Starting Test Eval\n"
     ]
    },
    {
     "name": "stderr",
     "output_type": "stream",
     "text": [
      "100%|████████████████████████████████████████████████████████████████████████████████████████████████████████████████████████████████████████████████████████████████████| 566/566 [00:18<00:00, 30.42it/s]\n"
     ]
    },
    {
     "name": "stdout",
     "output_type": "stream",
     "text": [
      "Scoring 107 clips\n"
     ]
    },
    {
     "name": "stderr",
     "output_type": "stream",
     "text": [
      "100%|███████████████████████████████████████████████████████████████████████████████████████████████████████████████████████████████████████████████████████████████████| 107/107 [00:00<00:00, 766.39it/s]\n",
      "rm: cannot remove '{self.model_dir}*': No such file or directory\n"
     ]
    },
    {
     "name": "stdout",
     "output_type": "stream",
     "text": [
      "  train_loss   val_acc\n",
      "5   0.548872  0.814443\n"
     ]
    },
    {
     "name": "stderr",
     "output_type": "stream",
     "text": [
      "Loss: 0.22199410200119019: 100%|█████████████████████████████████████████████████████████████████████████████████████████████████████████████████████████████████████████| 119/119 [00:07<00:00, 15.92it/s]\n",
      "  1%|▉                                                                                                                                                                     | 3/566 [00:00<00:22, 25.12it/s]"
     ]
    },
    {
     "name": "stdout",
     "output_type": "stream",
     "text": [
      "Starting Test Eval\n"
     ]
    },
    {
     "name": "stderr",
     "output_type": "stream",
     "text": [
      "100%|████████████████████████████████████████████████████████████████████████████████████████████████████████████████████████████████████████████████████████████████████| 566/566 [00:20<00:00, 27.12it/s]\n"
     ]
    },
    {
     "name": "stdout",
     "output_type": "stream",
     "text": [
      "Scoring 107 clips\n"
     ]
    },
    {
     "name": "stderr",
     "output_type": "stream",
     "text": [
      "100%|███████████████████████████████████████████████████████████████████████████████████████████████████████████████████████████████████████████████████████████████████| 107/107 [00:00<00:00, 714.87it/s]\n"
     ]
    },
    {
     "name": "stdout",
     "output_type": "stream",
     "text": [
      "   train_loss  val_acc\n",
      "6  577443.625  0.80162\n"
     ]
    },
    {
     "name": "stderr",
     "output_type": "stream",
     "text": [
      "Loss: 0.19703413546085358: 100%|█████████████████████████████████████████████████████████████████████████████████████████████████████████████████████████████████████████| 119/119 [00:07<00:00, 16.96it/s]\n",
      "  1%|█▏                                                                                                                                                                    | 4/566 [00:00<00:17, 33.00it/s]"
     ]
    },
    {
     "name": "stdout",
     "output_type": "stream",
     "text": [
      "Starting Test Eval\n"
     ]
    },
    {
     "name": "stderr",
     "output_type": "stream",
     "text": [
      "100%|████████████████████████████████████████████████████████████████████████████████████████████████████████████████████████████████████████████████████████████████████| 566/566 [00:20<00:00, 28.26it/s]\n"
     ]
    },
    {
     "name": "stdout",
     "output_type": "stream",
     "text": [
      "Scoring 107 clips\n"
     ]
    },
    {
     "name": "stderr",
     "output_type": "stream",
     "text": [
      "100%|███████████████████████████████████████████████████████████████████████████████████████████████████████████████████████████████████████████████████████████████████| 107/107 [00:00<00:00, 794.52it/s]\n",
      "rm: cannot remove '{self.model_dir}*': No such file or directory\n"
     ]
    },
    {
     "name": "stdout",
     "output_type": "stream",
     "text": [
      "  train_loss   val_acc\n",
      "7   0.163999  0.838949\n"
     ]
    },
    {
     "name": "stderr",
     "output_type": "stream",
     "text": [
      "Loss: 0.1768788993358612: 100%|██████████████████████████████████████████████████████████████████████████████████████████████████████████████████████████████████████████| 119/119 [00:07<00:00, 16.57it/s]\n",
      "  1%|█▏                                                                                                                                                                    | 4/566 [00:00<00:17, 31.95it/s]"
     ]
    },
    {
     "name": "stdout",
     "output_type": "stream",
     "text": [
      "Starting Test Eval\n"
     ]
    },
    {
     "name": "stderr",
     "output_type": "stream",
     "text": [
      "100%|████████████████████████████████████████████████████████████████████████████████████████████████████████████████████████████████████████████████████████████████████| 566/566 [00:19<00:00, 28.58it/s]\n"
     ]
    },
    {
     "name": "stdout",
     "output_type": "stream",
     "text": [
      "Scoring 107 clips\n"
     ]
    },
    {
     "name": "stderr",
     "output_type": "stream",
     "text": [
      "100%|███████████████████████████████████████████████████████████████████████████████████████████████████████████████████████████████████████████████████████████████████| 107/107 [00:00<00:00, 603.98it/s]\n",
      "rm: cannot remove '{self.model_dir}*': No such file or directory\n"
     ]
    },
    {
     "name": "stdout",
     "output_type": "stream",
     "text": [
      "  train_loss   val_acc\n",
      "8   0.148732  0.844277\n"
     ]
    },
    {
     "name": "stderr",
     "output_type": "stream",
     "text": [
      "Loss: 0.17952388525009155: 100%|█████████████████████████████████████████████████████████████████████████████████████████████████████████████████████████████████████████| 119/119 [00:06<00:00, 17.18it/s]\n",
      "  1%|▉                                                                                                                                                                     | 3/566 [00:00<00:20, 27.44it/s]"
     ]
    },
    {
     "name": "stdout",
     "output_type": "stream",
     "text": [
      "Starting Test Eval\n"
     ]
    },
    {
     "name": "stderr",
     "output_type": "stream",
     "text": [
      "100%|████████████████████████████████████████████████████████████████████████████████████████████████████████████████████████████████████████████████████████████████████| 566/566 [00:20<00:00, 27.45it/s]\n"
     ]
    },
    {
     "name": "stdout",
     "output_type": "stream",
     "text": [
      "Scoring 107 clips\n"
     ]
    },
    {
     "name": "stderr",
     "output_type": "stream",
     "text": [
      "100%|███████████████████████████████████████████████████████████████████████████████████████████████████████████████████████████████████████████████████████████████████| 107/107 [00:00<00:00, 760.37it/s]\n",
      "rm: cannot remove '{self.model_dir}*': No such file or directory\n"
     ]
    },
    {
     "name": "stdout",
     "output_type": "stream",
     "text": [
      "  train_loss   val_acc\n",
      "9   0.136683  0.848206\n"
     ]
    },
    {
     "name": "stderr",
     "output_type": "stream",
     "text": [
      "Loss: 0.1642317771911621: 100%|██████████████████████████████████████████████████████████████████████████████████████████████████████████████████████████████████████████| 119/119 [00:07<00:00, 15.74it/s]\n",
      "  1%|▉                                                                                                                                                                     | 3/566 [00:00<00:23, 24.19it/s]"
     ]
    },
    {
     "name": "stdout",
     "output_type": "stream",
     "text": [
      "Starting Test Eval\n"
     ]
    },
    {
     "name": "stderr",
     "output_type": "stream",
     "text": [
      "100%|████████████████████████████████████████████████████████████████████████████████████████████████████████████████████████████████████████████████████████████████████| 566/566 [00:20<00:00, 27.14it/s]\n"
     ]
    },
    {
     "name": "stdout",
     "output_type": "stream",
     "text": [
      "Scoring 107 clips\n"
     ]
    },
    {
     "name": "stderr",
     "output_type": "stream",
     "text": [
      "100%|███████████████████████████████████████████████████████████████████████████████████████████████████████████████████████████████████████████████████████████████████| 107/107 [00:00<00:00, 935.42it/s]\n"
     ]
    },
    {
     "name": "stdout",
     "output_type": "stream",
     "text": [
      "   train_loss   val_acc\n",
      "10   0.131268  0.837759\n"
     ]
    },
    {
     "name": "stderr",
     "output_type": "stream",
     "text": [
      "Loss: 0.21127508580684662: 100%|█████████████████████████████████████████████████████████████████████████████████████████████████████████████████████████████████████████| 119/119 [00:07<00:00, 15.75it/s]\n",
      "  1%|▉                                                                                                                                                                     | 3/566 [00:00<00:19, 29.14it/s]"
     ]
    },
    {
     "name": "stdout",
     "output_type": "stream",
     "text": [
      "Starting Test Eval\n"
     ]
    },
    {
     "name": "stderr",
     "output_type": "stream",
     "text": [
      "100%|████████████████████████████████████████████████████████████████████████████████████████████████████████████████████████████████████████████████████████████████████| 566/566 [00:19<00:00, 29.65it/s]\n"
     ]
    },
    {
     "name": "stdout",
     "output_type": "stream",
     "text": [
      "Scoring 107 clips\n"
     ]
    },
    {
     "name": "stderr",
     "output_type": "stream",
     "text": [
      "100%|███████████████████████████████████████████████████████████████████████████████████████████████████████████████████████████████████████████████████████████████████| 107/107 [00:00<00:00, 735.86it/s]\n"
     ]
    },
    {
     "name": "stdout",
     "output_type": "stream",
     "text": [
      "   train_loss   val_acc\n",
      "11   0.157819  0.846106\n"
     ]
    },
    {
     "name": "stderr",
     "output_type": "stream",
     "text": [
      "Loss: 0.18187913298606873: 100%|█████████████████████████████████████████████████████████████████████████████████████████████████████████████████████████████████████████| 119/119 [00:07<00:00, 16.57it/s]\n",
      "  1%|▉                                                                                                                                                                     | 3/566 [00:00<00:23, 24.05it/s]"
     ]
    },
    {
     "name": "stdout",
     "output_type": "stream",
     "text": [
      "Starting Test Eval\n"
     ]
    },
    {
     "name": "stderr",
     "output_type": "stream",
     "text": [
      "100%|████████████████████████████████████████████████████████████████████████████████████████████████████████████████████████████████████████████████████████████████████| 566/566 [00:20<00:00, 27.31it/s]\n"
     ]
    },
    {
     "name": "stdout",
     "output_type": "stream",
     "text": [
      "Scoring 107 clips\n"
     ]
    },
    {
     "name": "stderr",
     "output_type": "stream",
     "text": [
      "100%|███████████████████████████████████████████████████████████████████████████████████████████████████████████████████████████████████████████████████████████████████| 107/107 [00:00<00:00, 742.00it/s]\n"
     ]
    },
    {
     "name": "stdout",
     "output_type": "stream",
     "text": [
      "   train_loss   val_acc\n",
      "12   0.147202  0.829228\n"
     ]
    },
    {
     "name": "stderr",
     "output_type": "stream",
     "text": [
      "Loss: 0.15943115949630737: 100%|█████████████████████████████████████████████████████████████████████████████████████████████████████████████████████████████████████████| 119/119 [00:08<00:00, 14.50it/s]\n",
      "  1%|▉                                                                                                                                                                     | 3/566 [00:00<00:22, 25.25it/s]"
     ]
    },
    {
     "name": "stdout",
     "output_type": "stream",
     "text": [
      "Starting Test Eval\n"
     ]
    },
    {
     "name": "stderr",
     "output_type": "stream",
     "text": [
      "100%|████████████████████████████████████████████████████████████████████████████████████████████████████████████████████████████████████████████████████████████████████| 566/566 [00:20<00:00, 27.36it/s]\n"
     ]
    },
    {
     "name": "stdout",
     "output_type": "stream",
     "text": [
      "Scoring 107 clips\n"
     ]
    },
    {
     "name": "stderr",
     "output_type": "stream",
     "text": [
      "100%|███████████████████████████████████████████████████████████████████████████████████████████████████████████████████████████████████████████████████████████████████| 107/107 [00:00<00:00, 829.34it/s]\n"
     ]
    },
    {
     "name": "stdout",
     "output_type": "stream",
     "text": [
      "   train_loss   val_acc\n",
      "13   0.133707  0.840676\n"
     ]
    },
    {
     "name": "stderr",
     "output_type": "stream",
     "text": [
      "Loss: 0.14473305642604828: 100%|█████████████████████████████████████████████████████████████████████████████████████████████████████████████████████████████████████████| 119/119 [00:07<00:00, 16.09it/s]\n",
      "  1%|▉                                                                                                                                                                     | 3/566 [00:00<00:19, 28.97it/s]"
     ]
    },
    {
     "name": "stdout",
     "output_type": "stream",
     "text": [
      "Starting Test Eval\n"
     ]
    },
    {
     "name": "stderr",
     "output_type": "stream",
     "text": [
      "100%|████████████████████████████████████████████████████████████████████████████████████████████████████████████████████████████████████████████████████████████████████| 566/566 [00:21<00:00, 25.87it/s]\n"
     ]
    },
    {
     "name": "stdout",
     "output_type": "stream",
     "text": [
      "Scoring 107 clips\n"
     ]
    },
    {
     "name": "stderr",
     "output_type": "stream",
     "text": [
      "100%|███████████████████████████████████████████████████████████████████████████████████████████████████████████████████████████████████████████████████████████████████| 107/107 [00:00<00:00, 825.92it/s]\n",
      "rm: cannot remove '{self.model_dir}*': No such file or directory\n"
     ]
    },
    {
     "name": "stdout",
     "output_type": "stream",
     "text": [
      "   train_loss   val_acc\n",
      "14   0.123909  0.851233\n"
     ]
    },
    {
     "name": "stderr",
     "output_type": "stream",
     "text": [
      "Loss: 0.13404978811740875: 100%|█████████████████████████████████████████████████████████████████████████████████████████████████████████████████████████████████████████| 119/119 [00:07<00:00, 15.56it/s]\n",
      "  1%|▉                                                                                                                                                                     | 3/566 [00:00<00:22, 24.66it/s]"
     ]
    },
    {
     "name": "stdout",
     "output_type": "stream",
     "text": [
      "Starting Test Eval\n"
     ]
    },
    {
     "name": "stderr",
     "output_type": "stream",
     "text": [
      "100%|████████████████████████████████████████████████████████████████████████████████████████████████████████████████████████████████████████████████████████████████████| 566/566 [00:23<00:00, 24.50it/s]\n"
     ]
    },
    {
     "name": "stdout",
     "output_type": "stream",
     "text": [
      "Scoring 107 clips\n"
     ]
    },
    {
     "name": "stderr",
     "output_type": "stream",
     "text": [
      "100%|███████████████████████████████████████████████████████████████████████████████████████████████████████████████████████████████████████████████████████████████████| 107/107 [00:00<00:00, 627.97it/s]\n"
     ]
    },
    {
     "name": "stdout",
     "output_type": "stream",
     "text": [
      "   train_loss   val_acc\n",
      "15   0.119456  0.846413\n"
     ]
    },
    {
     "name": "stderr",
     "output_type": "stream",
     "text": [
      "Loss: 0.13901694118976593: 100%|█████████████████████████████████████████████████████████████████████████████████████████████████████████████████████████████████████████| 119/119 [00:07<00:00, 16.51it/s]\n",
      "  0%|▌                                                                                                                                                                     | 2/566 [00:00<00:29, 19.08it/s]"
     ]
    },
    {
     "name": "stdout",
     "output_type": "stream",
     "text": [
      "Starting Test Eval\n"
     ]
    },
    {
     "name": "stderr",
     "output_type": "stream",
     "text": [
      "100%|████████████████████████████████████████████████████████████████████████████████████████████████████████████████████████████████████████████████████████████████████| 566/566 [00:23<00:00, 24.48it/s]\n"
     ]
    },
    {
     "name": "stdout",
     "output_type": "stream",
     "text": [
      "Scoring 107 clips\n"
     ]
    },
    {
     "name": "stderr",
     "output_type": "stream",
     "text": [
      "100%|███████████████████████████████████████████████████████████████████████████████████████████████████████████████████████████████████████████████████████████████████| 107/107 [00:00<00:00, 554.65it/s]\n"
     ]
    },
    {
     "name": "stdout",
     "output_type": "stream",
     "text": [
      "   train_loss   val_acc\n",
      "16   0.114329  0.842253\n"
     ]
    },
    {
     "name": "stderr",
     "output_type": "stream",
     "text": [
      "Loss: 0.13150577247142792: 100%|█████████████████████████████████████████████████████████████████████████████████████████████████████████████████████████████████████████| 119/119 [00:08<00:00, 14.53it/s]\n",
      "  1%|▉                                                                                                                                                                     | 3/566 [00:00<00:20, 27.18it/s]"
     ]
    },
    {
     "name": "stdout",
     "output_type": "stream",
     "text": [
      "Starting Test Eval\n"
     ]
    },
    {
     "name": "stderr",
     "output_type": "stream",
     "text": [
      "100%|████████████████████████████████████████████████████████████████████████████████████████████████████████████████████████████████████████████████████████████████████| 566/566 [00:23<00:00, 24.20it/s]\n"
     ]
    },
    {
     "name": "stdout",
     "output_type": "stream",
     "text": [
      "Scoring 107 clips\n"
     ]
    },
    {
     "name": "stderr",
     "output_type": "stream",
     "text": [
      "100%|███████████████████████████████████████████████████████████████████████████████████████████████████████████████████████████████████████████████████████████████████| 107/107 [00:00<00:00, 761.14it/s]\n"
     ]
    },
    {
     "name": "stdout",
     "output_type": "stream",
     "text": [
      "   train_loss   val_acc\n",
      "17   0.112735  0.845144\n"
     ]
    },
    {
     "name": "stderr",
     "output_type": "stream",
     "text": [
      "Loss: 0.16927342116832733: 100%|█████████████████████████████████████████████████████████████████████████████████████████████████████████████████████████████████████████| 119/119 [00:07<00:00, 15.26it/s]\n",
      "  1%|▉                                                                                                                                                                     | 3/566 [00:00<00:22, 25.48it/s]"
     ]
    },
    {
     "name": "stdout",
     "output_type": "stream",
     "text": [
      "Starting Test Eval\n"
     ]
    },
    {
     "name": "stderr",
     "output_type": "stream",
     "text": [
      "100%|████████████████████████████████████████████████████████████████████████████████████████████████████████████████████████████████████████████████████████████████████| 566/566 [00:22<00:00, 25.23it/s]\n"
     ]
    },
    {
     "name": "stdout",
     "output_type": "stream",
     "text": [
      "Scoring 107 clips\n"
     ]
    },
    {
     "name": "stderr",
     "output_type": "stream",
     "text": [
      "100%|███████████████████████████████████████████████████████████████████████████████████████████████████████████████████████████████████████████████████████████████████| 107/107 [00:00<00:00, 714.39it/s]\n"
     ]
    },
    {
     "name": "stdout",
     "output_type": "stream",
     "text": [
      "   train_loss   val_acc\n",
      "18   0.125109  0.841652\n"
     ]
    },
    {
     "name": "stderr",
     "output_type": "stream",
     "text": [
      "Loss: 0.13414110243320465: 100%|█████████████████████████████████████████████████████████████████████████████████████████████████████████████████████████████████████████| 119/119 [00:08<00:00, 14.46it/s]\n",
      "  0%|▌                                                                                                                                                                     | 2/566 [00:00<00:31, 18.06it/s]"
     ]
    },
    {
     "name": "stdout",
     "output_type": "stream",
     "text": [
      "Starting Test Eval\n"
     ]
    },
    {
     "name": "stderr",
     "output_type": "stream",
     "text": [
      "100%|████████████████████████████████████████████████████████████████████████████████████████████████████████████████████████████████████████████████████████████████████| 566/566 [00:23<00:00, 24.26it/s]\n"
     ]
    },
    {
     "name": "stdout",
     "output_type": "stream",
     "text": [
      "Scoring 107 clips\n"
     ]
    },
    {
     "name": "stderr",
     "output_type": "stream",
     "text": [
      "100%|███████████████████████████████████████████████████████████████████████████████████████████████████████████████████████████████████████████████████████████████████| 107/107 [00:00<00:00, 652.32it/s]\n"
     ]
    },
    {
     "name": "stdout",
     "output_type": "stream",
     "text": [
      "   train_loss   val_acc\n",
      "19   0.114691  0.837468\n"
     ]
    }
   ],
   "source": [
    "from score import Score\n",
    "scr = Score(path='/home/irfan/Desktop/Data/Pose_JSON_Data/ShanghaiTech/gt/test/test_frame_mask/')\n",
    "lgr = Logger(keys=['train_loss','val_acc'], exp_name=args['exp_name'])\n",
    "lgr.save_src()\n",
    "lgr.save_args(args)\n",
    "model.to(args['device'])\n",
    "for epoch in range(20):\n",
    "    state_dict     = trainer.train(lgr=lgr)\n",
    "    tscore ,_,_,_  = trainer.test()\n",
    "    auc,_ = scr.score_dataset(tscore,valid_dataset.meta_data)\n",
    "    lgr.update({'val_acc':auc})\n",
    "    lgr.accumulate(epoch,state_dict)\n",
    "    print(lgr.log_df.tail(1))\n",
    "    lgr.save_logs()"
   ]
  },
  {
   "cell_type": "code",
   "execution_count": 13,
   "id": "6e9d0baf-dc54-451a-b143-9844737fe8a7",
   "metadata": {},
   "outputs": [],
   "source": [
    "import pandas as pd\n",
    "df_1 = pd.read_csv('logs/exp-arch-1_9/results.csv')\n",
    "#df_2 = pd.read_csv('logs/exp-arch-3_4/results.csv')\n",
    "df_2 = pd.read_csv('logs/exp-arch-3_9/results.csv')\n",
    "df_3 = pd.read_csv('logs/exp-arch-3_81632/results.csv')\n",
    "#df_3 = pd.read_csv('logs/exp-arch-5_9/results.csv')\n",
    "#df_5 = pd.read_csv('logs/exp-arch-3_16/results.csv')\n",
    "#df_4 = pd.read_csv('logs/exp-arch-7_9/results.csv')"
   ]
  },
  {
   "cell_type": "code",
   "execution_count": 14,
   "id": "1f1058d8-c236-4bf8-832e-652ad084b675",
   "metadata": {
    "tags": []
   },
   "outputs": [
    {
     "data": {
      "text/html": [
       "<div>\n",
       "<style scoped>\n",
       "    .dataframe tbody tr th:only-of-type {\n",
       "        vertical-align: middle;\n",
       "    }\n",
       "\n",
       "    .dataframe tbody tr th {\n",
       "        vertical-align: top;\n",
       "    }\n",
       "\n",
       "    .dataframe thead th {\n",
       "        text-align: right;\n",
       "    }\n",
       "</style>\n",
       "<table border=\"1\" class=\"dataframe\">\n",
       "  <thead>\n",
       "    <tr style=\"text-align: right;\">\n",
       "      <th></th>\n",
       "      <th>train_loss</th>\n",
       "      <th>val_acc</th>\n",
       "    </tr>\n",
       "  </thead>\n",
       "  <tbody>\n",
       "    <tr>\n",
       "      <th>0</th>\n",
       "      <td>954867.300000</td>\n",
       "      <td>0.783489</td>\n",
       "    </tr>\n",
       "    <tr>\n",
       "      <th>1</th>\n",
       "      <td>3.912526</td>\n",
       "      <td>0.785043</td>\n",
       "    </tr>\n",
       "    <tr>\n",
       "      <th>2</th>\n",
       "      <td>0.878561</td>\n",
       "      <td>0.784745</td>\n",
       "    </tr>\n",
       "    <tr>\n",
       "      <th>3</th>\n",
       "      <td>0.609839</td>\n",
       "      <td>0.787937</td>\n",
       "    </tr>\n",
       "    <tr>\n",
       "      <th>4</th>\n",
       "      <td>1.418309</td>\n",
       "      <td>0.785673</td>\n",
       "    </tr>\n",
       "    <tr>\n",
       "      <th>5</th>\n",
       "      <td>0.548872</td>\n",
       "      <td>0.814443</td>\n",
       "    </tr>\n",
       "    <tr>\n",
       "      <th>6</th>\n",
       "      <td>577443.600000</td>\n",
       "      <td>0.801620</td>\n",
       "    </tr>\n",
       "    <tr>\n",
       "      <th>7</th>\n",
       "      <td>0.163999</td>\n",
       "      <td>0.838949</td>\n",
       "    </tr>\n",
       "    <tr>\n",
       "      <th>8</th>\n",
       "      <td>0.148732</td>\n",
       "      <td>0.844277</td>\n",
       "    </tr>\n",
       "    <tr>\n",
       "      <th>9</th>\n",
       "      <td>0.136683</td>\n",
       "      <td>0.848206</td>\n",
       "    </tr>\n",
       "    <tr>\n",
       "      <th>10</th>\n",
       "      <td>0.131268</td>\n",
       "      <td>0.837759</td>\n",
       "    </tr>\n",
       "    <tr>\n",
       "      <th>11</th>\n",
       "      <td>0.157819</td>\n",
       "      <td>0.846106</td>\n",
       "    </tr>\n",
       "    <tr>\n",
       "      <th>12</th>\n",
       "      <td>0.147202</td>\n",
       "      <td>0.829228</td>\n",
       "    </tr>\n",
       "    <tr>\n",
       "      <th>13</th>\n",
       "      <td>0.133708</td>\n",
       "      <td>0.840676</td>\n",
       "    </tr>\n",
       "    <tr>\n",
       "      <th>14</th>\n",
       "      <td>0.123909</td>\n",
       "      <td>0.851233</td>\n",
       "    </tr>\n",
       "    <tr>\n",
       "      <th>15</th>\n",
       "      <td>0.119456</td>\n",
       "      <td>0.846413</td>\n",
       "    </tr>\n",
       "    <tr>\n",
       "      <th>16</th>\n",
       "      <td>0.114329</td>\n",
       "      <td>0.842253</td>\n",
       "    </tr>\n",
       "    <tr>\n",
       "      <th>17</th>\n",
       "      <td>0.112735</td>\n",
       "      <td>0.845144</td>\n",
       "    </tr>\n",
       "    <tr>\n",
       "      <th>18</th>\n",
       "      <td>0.125109</td>\n",
       "      <td>0.841652</td>\n",
       "    </tr>\n",
       "    <tr>\n",
       "      <th>19</th>\n",
       "      <td>0.114691</td>\n",
       "      <td>0.837468</td>\n",
       "    </tr>\n",
       "  </tbody>\n",
       "</table>\n",
       "</div>"
      ],
      "text/plain": [
       "       train_loss   val_acc\n",
       "0   954867.300000  0.783489\n",
       "1        3.912526  0.785043\n",
       "2        0.878561  0.784745\n",
       "3        0.609839  0.787937\n",
       "4        1.418309  0.785673\n",
       "5        0.548872  0.814443\n",
       "6   577443.600000  0.801620\n",
       "7        0.163999  0.838949\n",
       "8        0.148732  0.844277\n",
       "9        0.136683  0.848206\n",
       "10       0.131268  0.837759\n",
       "11       0.157819  0.846106\n",
       "12       0.147202  0.829228\n",
       "13       0.133708  0.840676\n",
       "14       0.123909  0.851233\n",
       "15       0.119456  0.846413\n",
       "16       0.114329  0.842253\n",
       "17       0.112735  0.845144\n",
       "18       0.125109  0.841652\n",
       "19       0.114691  0.837468"
      ]
     },
     "execution_count": 14,
     "metadata": {},
     "output_type": "execute_result"
    }
   ],
   "source": [
    "df_3"
   ]
  },
  {
   "cell_type": "code",
   "execution_count": 9,
   "id": "8d2d585e-bb94-4e70-9336-33c34150ed21",
   "metadata": {},
   "outputs": [
    {
     "data": {
      "image/png": "[encoded data removed]",
      "text/plain": [
       "<Figure size 640x480 with 1 Axes>"
      ]
     },
     "metadata": {},
     "output_type": "display_data"
    },
    {
     "data": {
      "text/plain": [
       "[<matplotlib.lines.Line2D at 0x7f6ac8a434c0>]"
      ]
     },
     "execution_count": 9,
     "metadata": {},
     "output_type": "execute_result"
    },
    {
     "data": {
      "image/png": "[encoded data removed]",
      "text/plain": [
       "<Figure size 640x480 with 1 Axes>"
      ]
     },
     "metadata": {},
     "output_type": "display_data"
    }
   ],
   "source": [
    "from matplotlib import pyplot as plt\n",
    "plt.plot(df_3.train_loss[5:])\n",
    "plt.show()\n",
    "plt.plot(df_3.val_acc[5:])"
   ]
  },
  {
   "cell_type": "code",
   "execution_count": 10,
   "id": "5abe7bab-02d6-4f42-8130-d27213536204",
   "metadata": {},
   "outputs": [
    {
     "data": {
      "text/plain": [
       "(3, [16, 2])"
      ]
     },
     "execution_count": 10,
     "metadata": {},
     "output_type": "execute_result"
    }
   ],
   "source": [
    "with open('logs/exp-arch-3_16/args.json') as f:\n",
    "    arg = json.load(f)\n",
    "arg['ksize'],arg['hdims']"
   ]
  },
  {
   "cell_type": "code",
   "execution_count": 11,
   "id": "fb3e01c7-c112-4463-acad-9770347a4db8",
   "metadata": {},
   "outputs": [
    {
     "data": {
      "text/plain": [
       "[<matplotlib.lines.Line2D at 0x7f6ac89c0550>]"
      ]
     },
     "execution_count": 11,
     "metadata": {},
     "output_type": "execute_result"
    },
    {
     "data": {
      "image/png": "[encoded data removed]",
      "text/plain": [
       "<Figure size 640x480 with 1 Axes>"
      ]
     },
     "metadata": {},
     "output_type": "display_data"
    }
   ],
   "source": [
    "plt.plot(df_1['val_acc'])\n",
    "plt.plot(df_2['val_acc'])\n",
    "plt.plot(df_3['val_acc'])\n",
    "#plt.plot(df_4['val_acc'])\n",
    "#plt.plot(df_5['val_acc'])"
   ]
  },
  {
   "cell_type": "code",
   "execution_count": 12,
   "id": "f6866287-d193-4d9b-ba6d-2ad5f553c990",
   "metadata": {},
   "outputs": [
    {
     "ename": "SyntaxError",
     "evalue": "invalid syntax (3107218633.py, line 1)",
     "output_type": "error",
     "traceback": [
      "\u001b[0;36m  Cell \u001b[0;32mIn[12], line 1\u001b[0;36m\u001b[0m\n\u001b[0;31m    train_loss   val_acc\u001b[0m\n\u001b[0m                 ^\u001b[0m\n\u001b[0;31mSyntaxError\u001b[0m\u001b[0;31m:\u001b[0m invalid syntax\n"
     ]
    }
   ],
   "source": [
    "train_loss   val_acc\n",
    "10   0.126995  0.823339\n",
    "11   0.123757  0.823653\n",
    "12   0.121868  0.824856\n",
    "13   0.119379  0.823649\n",
    "14   0.117477  0.825782\n",
    "15   0.116145  0.827569\n",
    "16   0.115601  0.826698\n",
    "17   0.113144  0.826345\n",
    "18   0.111893   0.82757\n",
    "19   0.110345  0.827979"
   ]
  },
  {
   "cell_type": "code",
   "execution_count": null,
   "id": "e727b964-1759-4ccc-b51a-5a220e09e68e",
   "metadata": {},
   "outputs": [],
   "source": [
    "model"
   ]
  },
  {
   "cell_type": "code",
   "execution_count": null,
   "id": "4e950e19-1191-456a-9722-37f30cca2276",
   "metadata": {},
   "outputs": [],
   "source": [
    "model.encoder[0].adjs[0]"
   ]
  },
  {
   "cell_type": "raw",
   "id": "9ae6401c-c717-496d-9f13-550bcaa73546",
   "metadata": {},
   "source": [
    "ckpt = torch.load('checkpoints/ShanghaiTech_85_9.tar')\n",
    "model.set_actnorm_init()\n",
    "model.load_state_dict(ckpt['state_dict'])"
   ]
  },
  {
   "cell_type": "code",
   "execution_count": null,
   "id": "defb120e-f690-4707-8378-69fc483f7197",
   "metadata": {
    "tags": []
   },
   "outputs": [],
   "source": [
    "#model = VAE(args,2,128,hidden_dims=[18,36,36,72])#[24,48,96,192]\n",
    "#model.load_state_dict(torch.load('Jan31_2034__checkpoint.pth.tar')['state_dict'])\n",
    "#model.load_state_dict(torch.load('logs/exp-arch-8/model/2_exp-arch-8_0.83.pth')['state_dict'])"
   ]
  },
  {
   "cell_type": "code",
   "execution_count": null,
   "id": "386fddb6-f91e-4c4c-b5df-3ae5c3fe8855",
   "metadata": {},
   "outputs": [],
   "source": [
    "fig,axes = plt.subplots(nrows=1,ncols=4,figsize=(20,4))\n",
    "for i in range(2):\n",
    "    axes[i].imshow(model.encoder[i].adjs[0].detach().cpu().numpy(),cmap='plasma')"
   ]
  },
  {
   "cell_type": "code",
   "execution_count": null,
   "id": "9bba3a7e-345f-4c96-8f9b-078a1324cf6f",
   "metadata": {},
   "outputs": [],
   "source": [
    "torch.nn.Softmax(dim=1)(model.encoder[0].adjs[0].detach().cpu())# == 0.18878561"
   ]
  },
  {
   "cell_type": "code",
   "execution_count": null,
   "id": "8564e16c-2945-4e96-8b42-82b6b3b96a7b",
   "metadata": {
    "scrolled": true,
    "tags": []
   },
   "outputs": [],
   "source": [
    "model.encoder[1].adjs[0].detach().cpu().numpy()we"
   ]
  },
  {
   "cell_type": "code",
   "execution_count": null,
   "id": "4e8ea6cc-09c6-489a-b58f-87212f79cd9f",
   "metadata": {},
   "outputs": [],
   "source": [
    "model = VAE(args,2,128,hidden_dims=[18,36,36,72])#[24,48,96,192]\n",
    "model.load_state_dict(torch.load('logs/exp-101/model/exp-101.pth')['state_dict'])"
   ]
  },
  {
   "cell_type": "code",
   "execution_count": null,
   "id": "40547de7-c6ea-41e9-ab56-904c04961ffd",
   "metadata": {},
   "outputs": [],
   "source": [
    "fig,axes = plt.subplots(nrows=1,ncols=4,figsize=(20,4))\n",
    "for i in range(4):\n",
    "    axes[i].imshow(model.adjs[i][0].detach().cpu().numpy(),cmap='plasma')"
   ]
  },
  {
   "cell_type": "code",
   "execution_count": null,
   "id": "9234e79b-b9b9-4447-bb16-9f444cfe86b8",
   "metadata": {},
   "outputs": [],
   "source": [
    "model.adjs[0][0]"
   ]
  },
  {
   "cell_type": "code",
   "execution_count": null,
   "id": "23eb8732-ef73-4cec-861f-a5263d860567",
   "metadata": {},
   "outputs": [],
   "source": [
    "#from nf_models.graph import Graph\n",
    "#A = Graph(strategy='spatial', max_hop=4).A\n",
    "#from matplotlib import pyplot as plt\n",
    "#plt.imshow(A[0],cmap='plasma')"
   ]
  },
  {
   "cell_type": "code",
   "execution_count": null,
   "id": "d1c36db8-205e-4667-a090-2dce3ec3f02c",
   "metadata": {},
   "outputs": [],
   "source": [
    "Jan31_0034__checkpoint : 0.8355669800715283\n",
    "Jan31_0135__checkpoint : 0.8312216195364168"
   ]
  },
  {
   "cell_type": "code",
   "execution_count": null,
   "id": "45b9f042-2d8c-43ab-bf41-7e4b238499ce",
   "metadata": {
    "scrolled": true,
    "tags": []
   },
   "outputs": [],
   "source": [
    "#score = trainer.test()"
   ]
  },
  {
   "cell_type": "code",
   "execution_count": null,
   "id": "7e6a55ad-52c7-4976-ba64-68c8c6e44e62",
   "metadata": {
    "scrolled": true,
    "tags": []
   },
   "outputs": [],
   "source": [
    "score, mu, std, res = trainer.test(train_loader)"
   ]
  },
  {
   "cell_type": "code",
   "execution_count": null,
   "id": "6d11323c-5a5c-407b-9dea-3ef84476e59d",
   "metadata": {
    "scrolled": true,
    "tags": []
   },
   "outputs": [],
   "source": [
    "tscore, tmu, tstd, tres = trainer.test()"
   ]
  },
  {
   "cell_type": "code",
   "execution_count": null,
   "id": "69bf85f3-f86e-42b5-ada8-8479f5dd8b4d",
   "metadata": {},
   "outputs": [],
   "source": [
    "from sklearn.cluster import KMeans"
   ]
  },
  {
   "cell_type": "code",
   "execution_count": null,
   "id": "63c29e94-7c12-445a-a7a5-5d938a23d1ba",
   "metadata": {},
   "outputs": [],
   "source": [
    "mu  = score[:,None]\n",
    "tmu = tscore[:,None]"
   ]
  },
  {
   "cell_type": "code",
   "execution_count": null,
   "id": "38e66fc9-34e9-4c6a-9bf5-d5b817d98737",
   "metadata": {},
   "outputs": [],
   "source": [
    "kmn = KMeans(n_clusters=1,random_state=0)"
   ]
  },
  {
   "cell_type": "code",
   "execution_count": null,
   "id": "5070ecba-f725-4ff7-9edc-70212516bfc5",
   "metadata": {},
   "outputs": [],
   "source": [
    "kmn.fit(mu)"
   ]
  },
  {
   "cell_type": "code",
   "execution_count": null,
   "id": "e49969b7-26b6-4df4-8c7a-9290f298f8a7",
   "metadata": {
    "scrolled": true,
    "tags": []
   },
   "outputs": [],
   "source": [
    "from scipy.ndimage import gaussian_filter1d\n",
    "import os\n",
    "files = os.listdir('/home/irfan/Desktop/Data/Pose_JSON_Data/ShanghaiTech/gt/test/test_frame_mask/')\n",
    "res1=[]; res2=[];res3=[]\n",
    "thr=10.0\n",
    "preds = []\n",
    "gts   = []\n",
    "for file in files:\n",
    "    scr = Score(path='/home/irfan/Desktop/Data/Pose_JSON_Data/ShanghaiTech/gt/test/test_frame_mask/')\n",
    "    #res = scr.score_dataset(np.uint8(score>thr),valid_dataset.meta_data)\n",
    "    #try:\n",
    "    gt,pred = scr.get_clip_score(tscore, valid_dataset.meta_data,file)\n",
    "    _pred = gaussian_filter1d(pred,sigma=7)\n",
    "    #_dist = gaussian_filter1d(dist,sigma=7)\n",
    "    preds.append(_pred)\n",
    "    gts.append(gt)\n",
    "    #except:\n",
    "    #    print(file)\n",
    "    #    continue\n",
    "    \n",
    "    \n",
    "    \n",
    "    #_dist = _dist/_dist.max()\n",
    "    try    : res1.append(roc_auc_score(gt,_pred))\n",
    "    except : res1.append(0)\n",
    "    '''\n",
    "    #res2.append(dist)\n",
    "    fig,axes = plt.subplots(nrows=2,ncols=3,figsize=(10,3))\n",
    "    axes[0,0].plot(gt);axes[0,0].set_title(str(res1[-1])+f\"{file.split('/')[-1]}\")\n",
    "    axes[0,1].plot(np.uint8(_pred>thr))#;axes[0,1].set_ylim(0,1.0)\n",
    "    axes[0,1].plot(_pred,alpha=0.1)\n",
    "    axes[0,2].plot(_dist);axes[0,2].set_ylim(0,2.2)\n",
    "    axes[1,0].plot(gt)\n",
    "    axes[1,0].plot(np.uint8(_pred>thr))\n",
    "    axes[1,0].plot(_dist)\n",
    "    \n",
    "    gt,pred = scr.get_clip_score(mu, file, valid_dataset.meta_data)\n",
    "    _pred = gaussian_filter1d(pred,sigma=3)\n",
    "    res2.append(roc_auc_score(gt,np.uint8(_pred>0.15)))\n",
    "    axes[1,0].plot(gt)\n",
    "    axes[1,1].plot(_pred);axes[1,1].set_ylim(0,0.8)\n",
    "    axes[1,2].plot(pred)\n",
    "\n",
    "    gt,pred = scr.get_clip_score(std, file, valid_dataset.meta_data)\n",
    "    _pred = gaussian_filter1d(pred,sigma=3)\n",
    "    res3.append(roc_auc_score(gt,np.uint8(_pred>0.15)))\n",
    "    axes[2,0].plot(gt)\n",
    "    axes[2,1].plot(_pred);axes[1,1].set_ylim(0,0.8)\n",
    "    axes[2,2].plot(pred)\n",
    "    '''\n",
    "    \n",
    "plt.close()"
   ]
  },
  {
   "cell_type": "code",
   "execution_count": null,
   "id": "65db2341-6971-489a-b2de-28830ad47aef",
   "metadata": {},
   "outputs": [],
   "source": [
    "len(files)"
   ]
  },
  {
   "cell_type": "code",
   "execution_count": null,
   "id": "3e4d4540-acb8-4dde-8bea-918355247c79",
   "metadata": {},
   "outputs": [],
   "source": [
    "len(preds),len(gts)"
   ]
  },
  {
   "cell_type": "code",
   "execution_count": null,
   "id": "660edac3-9701-4e17-ba1d-74af5b9b60a8",
   "metadata": {},
   "outputs": [],
   "source": [
    "#import pickle\n",
    "#np.save('../tscore_1.npy',tscore)"
   ]
  },
  {
   "cell_type": "code",
   "execution_count": null,
   "id": "4cda870b-7f5f-4da3-a053-2324b1d91357",
   "metadata": {},
   "outputs": [],
   "source": [
    "#np.save('../test_samp_1.npy',valid_dataset.__getitem__(1000)[0])"
   ]
  },
  {
   "cell_type": "code",
   "execution_count": null,
   "id": "a7cd6c4f-3f5f-418f-9814-d731f64971f5",
   "metadata": {},
   "outputs": [],
   "source": [
    "preds_all = np.concatenate(preds)\n",
    "gts_all   = np.concatenate(gts)"
   ]
  },
  {
   "cell_type": "code",
   "execution_count": null,
   "id": "76b2aa16-1884-4db4-9e27-e88cef6bc156",
   "metadata": {},
   "outputs": [],
   "source": [
    "from sklearn.metrics import roc_auc_score\n",
    "\n",
    "def score_auc(scores_np, gt):\n",
    "        scores_np[scores_np == np.inf] = scores_np[scores_np != np.inf].max()\n",
    "        scores_np[scores_np == -1 * np.inf] = scores_np[scores_np != -1 * np.inf].min()\n",
    "        auc = roc_auc_score(gt, scores_np)\n",
    "        return auc\n",
    "preds_all[preds_all==0]=0\n",
    "roc_auc_score(gts_all,preds_all)"
   ]
  },
  {
   "cell_type": "code",
   "execution_count": null,
   "id": "232c16c4-ae6d-48ee-8f27-157406e5bf63",
   "metadata": {},
   "outputs": [],
   "source": [
    "Jan31_2117__checkpoint.pth.tar : 0.8022570480375069 trainable adj\n",
    "Jan31_2122__checkpoint.pth.tar : 0.7935020688732357 fixed adj\n",
    "Jan31_2143__checkpoint.pth.tar : 0.812522547139523  trainabe ones\n",
    "Jan31_2155__checkpoint.pth.tar : 0.808472726578334  fixed ones \n",
    "                                 #0.8137884043910476\n",
    "                                 0.8358595801146931\n",
    "Jan31_2155__checkpoint.pth.tar : 0.8371814883825339"
   ]
  },
  {
   "cell_type": "code",
   "execution_count": null,
   "id": "f4c0e51a-ec24-4bb3-b13d-31ca22b12bce",
   "metadata": {},
   "outputs": [],
   "source": [
    "preds_all.min()"
   ]
  },
  {
   "cell_type": "code",
   "execution_count": null,
   "id": "fd2119f0-437d-43a9-8790-0669bbbe3a5f",
   "metadata": {},
   "outputs": [],
   "source": [
    "preds_all[preds_all != -np.inf].min()"
   ]
  },
  {
   "cell_type": "code",
   "execution_count": null,
   "id": "dbdeb6b5-c93f-4f64-9463-3484e828f318",
   "metadata": {},
   "outputs": [],
   "source": [
    "gt,pred,dist = scr.get_clip_score(tscore,tmu,kmn, files[3], valid_dataset.meta_data)\n",
    "_pred = gaussian_filter1d(pred,sigma=7)"
   ]
  },
  {
   "cell_type": "code",
   "execution_count": null,
   "id": "abc4ae23-ab01-4059-90e7-a96bd8edd6a2",
   "metadata": {},
   "outputs": [],
   "source": [
    "i=1\n",
    "plt.plot(preds[i])\n",
    "plt.plot(gts[i])"
   ]
  },
  {
   "cell_type": "code",
   "execution_count": null,
   "id": "3bd68cea-df1f-4b35-baf1-97ca9988d68f",
   "metadata": {},
   "outputs": [],
   "source": [
    "roc_auc_score(gt,np.clip(_pred)"
   ]
  },
  {
   "cell_type": "code",
   "execution_count": null,
   "id": "f87a62ad-0b82-4b1c-8e64-fb2ea612f17f",
   "metadata": {},
   "outputs": [],
   "source": [
    "np.clip(_pred,0,10)"
   ]
  },
  {
   "cell_type": "code",
   "execution_count": null,
   "id": "0348e4bf-90f7-4164-b30c-366d7c0e541b",
   "metadata": {},
   "outputs": [],
   "source": [
    "np.mean(res1)\n",
    "#0.65761537014756\n",
    "#0.6645533892448818\n",
    "\n",
    "#0.6480286128337436\n",
    "#0.6480286128337436"
   ]
  },
  {
   "cell_type": "code",
   "execution_count": null,
   "id": "383b39ba-e47f-4334-a3ca-ed9af65f36b8",
   "metadata": {
    "scrolled": true,
    "tags": []
   },
   "outputs": [],
   "source": [
    "i=0\n",
    "for elem in train_loader:\n",
    "    print(elem[0].detach().cpu().max())\n",
    "    if i==500 :break\n",
    "    i+=1\n",
    "dt  = elem[0].permute(0,3,1,2)\n",
    "model.to('cuda:0')\n",
    "out = model(dt[:,:,:,:].float().to('cuda:0'))"
   ]
  },
  {
   "cell_type": "code",
   "execution_count": null,
   "id": "4b6b1d61-d4ec-4782-9b44-a1da1ae7dc6f",
   "metadata": {},
   "outputs": [],
   "source": [
    "model.A[0]"
   ]
  },
  {
   "cell_type": "code",
   "execution_count": null,
   "id": "45a411e2-a540-4298-8ac7-ddf29f90f5ae",
   "metadata": {},
   "outputs": [],
   "source": [
    "plt.imshow(elem[0][0,:,:,0].detach().cpu())"
   ]
  },
  {
   "cell_type": "code",
   "execution_count": null,
   "id": "104a14f7-2d77-4b51-b247-075df58ad8c1",
   "metadata": {},
   "outputs": [],
   "source": [
    "model"
   ]
  },
  {
   "cell_type": "code",
   "execution_count": null,
   "id": "f0e92609-1f34-46a0-9e5d-4020a1d4306e",
   "metadata": {},
   "outputs": [],
   "source": [
    "plt.imshow(out[0][0,0,:,:].detach().cpu())"
   ]
  },
  {
   "cell_type": "code",
   "execution_count": null,
   "id": "77d2ff00-daf8-4240-9ba6-aa2b748bc477",
   "metadata": {},
   "outputs": [],
   "source": [
    "out[0][0,0,:,:].detach().cpu()"
   ]
  },
  {
   "cell_type": "code",
   "execution_count": null,
   "id": "a0fc7323-e707-46dc-a9ff-4950a9d0a47d",
   "metadata": {},
   "outputs": [],
   "source": [
    "import torchvision\n",
    "oo = out[0][:,:,:,:].detach().cpu()\n",
    "ot = torchvision.transforms.Resize((32,32))(oo)"
   ]
  },
  {
   "cell_type": "code",
   "execution_count": null,
   "id": "3736ae4b-df9e-45ba-9d8f-851b4f5a0abb",
   "metadata": {},
   "outputs": [],
   "source": [
    "ot.shape"
   ]
  },
  {
   "cell_type": "code",
   "execution_count": null,
   "id": "c12b1942-6f99-4e67-bb0a-f61b3834547f",
   "metadata": {},
   "outputs": [],
   "source": [
    "from gpec_models.gcae.gcae import Encoder\n",
    "from gpec_models.fe.fe_model import init_fenet\n",
    "model = init_fenet(None)"
   ]
  },
  {
   "cell_type": "code",
   "execution_count": null,
   "id": "33ba07c3-4b2d-4b0f-82c1-856b48fe7659",
   "metadata": {},
   "outputs": [],
   "source": [
    "model"
   ]
  },
  {
   "cell_type": "code",
   "execution_count": null,
   "id": "47319837-3d25-4aee-aaa3-06488bdfaccb",
   "metadata": {},
   "outputs": [],
   "source": [
    "import torch\n",
    "torch.resize()"
   ]
  },
  {
   "cell_type": "code",
   "execution_count": null,
   "id": "74c1d080-2744-4972-a034-ce8637cb820a",
   "metadata": {},
   "outputs": [],
   "source": [
    "import torch\n",
    "_dt   = torch.tensor(dt.transpose(2,0,1)[None],dtype=torch.float32).to('cuda:0')\n",
    "model.train()\n",
    "model = model.to('cuda:0')\n",
    "out   = model(_dt)"
   ]
  },
  {
   "cell_type": "code",
   "execution_count": null,
   "id": "7bc696bf-aa7a-4dcb-8c8f-564c9faaf143",
   "metadata": {},
   "outputs": [],
   "source": [
    "out[0][0].shape"
   ]
  },
  {
   "cell_type": "code",
   "execution_count": null,
   "id": "8068266d-948a-420b-8a5e-926be05af2e4",
   "metadata": {},
   "outputs": [],
   "source": [
    "_t = dt\n",
    "fig,axes = plt.subplots(nrows=1,ncols=3,figsize=(10,3))\n",
    "axes[0].imshow(_t[:,:,0])\n",
    "axes[1].imshow(_t[:,:,1])\n",
    "axes[2].imshow(_t[:,:,2])"
   ]
  },
  {
   "cell_type": "code",
   "execution_count": null,
   "id": "a432c579-ad9c-4fcb-bdf7-02b90f1d117d",
   "metadata": {},
   "outputs": [],
   "source": [
    "_t = out[0][0].detach().cpu().numpy().transpose(1,2,0)\n",
    "fig,axes = plt.subplots(nrows=1,ncols=3,figsize=(10,3))\n",
    "axes[0].imshow(_t[:,:,0])\n",
    "axes[1].imshow(_t[:,:,1])\n",
    "axes[2].imshow(_t[:,:,2])"
   ]
  },
  {
   "cell_type": "code",
   "execution_count": null,
   "id": "705fed6f-e9f9-40cc-99b5-d348aae91280",
   "metadata": {},
   "outputs": [],
   "source": [
    "dt,mtd = pg.__getitem__(786)\n",
    "#_dt    = dt.transpose(1,2,0)\n",
    "dt[:,:,0]-=dt[:,:,0].min()\n",
    "dt[:,:,1]-=dt[:,:,1].min()\n",
    "dt[:,:,0]/=dt[:,:,0].max()\n",
    "dt[:,:,1]/=dt[:,:,1].max()\n",
    "dt[:,:,2]/=dt[:,:,2].max()\n",
    "fig,axes = plt.subplots(nrows=1,ncols=3,figsize=(10,4))\n",
    "axes[0].imshow(dt[:,:,0])\n",
    "axes[1].imshow(dt[:,:,1])\n",
    "axes[2].imshow(dt[:,:,2])"
   ]
  },
  {
   "cell_type": "code",
   "execution_count": null,
   "id": "b17ae370-38f7-478f-a900-00e093c49ccb",
   "metadata": {},
   "outputs": [],
   "source": [
    "dt,mtd = pg.__getitem__(400)\n",
    "#_dt    = dt.transpose(1,2,0)\n",
    "dt[:,:,0]-=dt[:,:,0].min()\n",
    "dt[:,:,1]-=dt[:,:,1].min()\n",
    "dt[:,:,0]/=dt[:,:,0].max()\n",
    "dt[:,:,1]/=dt[:,:,1].max()\n",
    "dt[:,:,2]=0\n",
    "fig,axes = plt.subplots(nrows=1,ncols=2,figsize=(10,4))\n",
    "axes[0].imshow(dt[:,:,0])\n",
    "axes[1].imshow(dt[:,:,2])"
   ]
  },
  {
   "cell_type": "code",
   "execution_count": null,
   "id": "a6ad9392-e715-4bb7-a984-05174a58c993",
   "metadata": {},
   "outputs": [],
   "source": [
    "dt[:,:,2].max()"
   ]
  },
  {
   "cell_type": "code",
   "execution_count": null,
   "id": "27d7169c-4f90-4633-8895-34b0ea681e80",
   "metadata": {},
   "outputs": [],
   "source": []
  },
  {
   "cell_type": "code",
   "execution_count": null,
   "id": "adf82800-7cc9-40cf-ad04-18d295405068",
   "metadata": {},
   "outputs": [],
   "source": [
    "dt.min()"
   ]
  },
  {
   "cell_type": "code",
   "execution_count": null,
   "id": "b2c834a8-d3b3-4bca-8c10-4240f0f787b1",
   "metadata": {},
   "outputs": [],
   "source": []
  },
  {
   "cell_type": "code",
   "execution_count": null,
   "id": "c1842d35-d9bf-48a1-876d-98f49bc8238b",
   "metadata": {},
   "outputs": [],
   "source": [
    "plot_pose(dt,mtd)"
   ]
  },
  {
   "cell_type": "code",
   "execution_count": null,
   "id": "3df458f5-da1a-4ff7-a5bd-3e7bc70ccadf",
   "metadata": {},
   "outputs": [],
   "source": [
    "size  = dt.max().astype('int32')\n",
    "frame = np.zeros((size,size,3),dtype=np.uint8)"
   ]
  },
  {
   "cell_type": "code",
   "execution_count": null,
   "id": "3c8b77ae-3e80-4b3b-9e96-32672d8aa49a",
   "metadata": {},
   "outputs": [],
   "source": []
  },
  {
   "cell_type": "code",
   "execution_count": null,
   "id": "effb0ced-6672-46fa-934e-97f7393fb4b2",
   "metadata": {},
   "outputs": [],
   "source": [
    "vis_data(_dt)"
   ]
  },
  {
   "cell_type": "code",
   "execution_count": null,
   "id": "7e517339-39d8-4c0b-b358-1e0dd5cb0606",
   "metadata": {},
   "outputs": [],
   "source": [
    "__dt[:,:,1].max()"
   ]
  },
  {
   "cell_type": "code",
   "execution_count": null,
   "id": "57adb8f3-10e7-4fde-b75a-5d86cc23e202",
   "metadata": {},
   "outputs": [],
   "source": [
    "import argparse\n",
    "import os.path as osp\n",
    "import time\n",
    "import torch\n",
    "import torch_geometric.transforms as T\n",
    "from torch_geometric.datasets import Planetoid\n",
    "from torch_geometric.nn import GAE, VGAE, GCNConv\n",
    "\n",
    "parser = argparse.ArgumentParser()\n",
    "parser.add_argument('-f')\n",
    "parser.add_argument('--variational', action='store_true')\n",
    "parser.add_argument('--linear', action='store_true')\n",
    "parser.add_argument('--dataset', type=str, default='Cora',\n",
    "                    choices=['Cora', 'CiteSeer', 'PubMed'])\n",
    "parser.add_argument('--epochs', type=int, default=400)\n",
    "args = parser.parse_args()\n",
    "\n",
    "if torch.cuda.is_available():\n",
    "    device = torch.device('cuda')\n",
    "elif hasattr(torch.backends, 'mps') and torch.backends.mps.is_available():\n",
    "    device = torch.device('mps')\n",
    "else:\n",
    "    device = torch.device('cpu')\n",
    "\n",
    "transform = T.Compose([\n",
    "    T.NormalizeFeatures(),\n",
    "    T.ToDevice(device),\n",
    "    T.RandomLinkSplit(num_val=0.05, num_test=0.1, is_undirected=True,\n",
    "                      split_labels=True, add_negative_train_samples=False),\n",
    "])\n",
    "path = osp.join(osp.dirname(osp.realpath('.')), '..', 'data', 'Planetoid')\n",
    "dataset = Planetoid(path, args.dataset, transform=transform)\n",
    "train_data, val_data, test_data = dataset[0]\n",
    "\n",
    "\n",
    "class GCNEncoder(torch.nn.Module):\n",
    "    def __init__(self, in_channels, out_channels):\n",
    "        super().__init__()\n",
    "        self.conv1 = GCNConv(in_channels, 2 * out_channels)\n",
    "        self.conv2 = GCNConv(2 * out_channels, out_channels)\n",
    "\n",
    "    def forward(self, x, edge_index):\n",
    "        x = self.conv1(x, edge_index).relu()\n",
    "        return self.conv2(x, edge_index)\n",
    "\n",
    "\n",
    "class VariationalGCNEncoder(torch.nn.Module):\n",
    "    def __init__(self, in_channels, out_channels):\n",
    "        super().__init__()\n",
    "        self.conv1 = GCNConv(in_channels, 2 * out_channels)\n",
    "        self.conv_mu = GCNConv(2 * out_channels, out_channels)\n",
    "        self.conv_logstd = GCNConv(2 * out_channels, out_channels)\n",
    "\n",
    "    def forward(self, x, edge_index):\n",
    "        x = self.conv1(x, edge_index).relu()\n",
    "        return self.conv_mu(x, edge_index), self.conv_logstd(x, edge_index)\n",
    "\n",
    "\n",
    "class LinearEncoder(torch.nn.Module):\n",
    "    def __init__(self, in_channels, out_channels):\n",
    "        super().__init__()\n",
    "        self.conv = GCNConv(in_channels, out_channels)\n",
    "\n",
    "    def forward(self, x, edge_index):\n",
    "        return self.conv(x, edge_index)\n",
    "\n",
    "\n",
    "class VariationalLinearEncoder(torch.nn.Module):\n",
    "    def __init__(self, in_channels, out_channels):\n",
    "        super().__init__()\n",
    "        self.conv_mu = GCNConv(in_channels, out_channels)\n",
    "        self.conv_logstd = GCNConv(in_channels, out_channels)\n",
    "\n",
    "    def forward(self, x, edge_index):\n",
    "        return self.conv_mu(x, edge_index), self.conv_logstd(x, edge_index)\n",
    "\n",
    "\n",
    "in_channels, out_channels = dataset.num_features, 16\n",
    "\n",
    "if not args.variational and not args.linear:\n",
    "    model = GAE(GCNEncoder(in_channels, out_channels))\n",
    "elif not args.variational and args.linear:\n",
    "    model = GAE(LinearEncoder(in_channels, out_channels))\n",
    "elif args.variational and not args.linear:\n",
    "    model = VGAE(VariationalGCNEncoder(in_channels, out_channels))\n",
    "elif args.variational and args.linear:\n",
    "    model = VGAE(VariationalLinearEncoder(in_channels, out_channels))\n",
    "\n",
    "model = model.to(device)\n",
    "optimizer = torch.optim.Adam(model.parameters(), lr=0.01)\n",
    "\n",
    "\n",
    "def train():\n",
    "    model.train()\n",
    "    optimizer.zero_grad()\n",
    "    z = model.encode(train_data.x, train_data.edge_index)\n",
    "    loss = model.recon_loss(z, train_data.pos_edge_label_index)\n",
    "    if args.variational:\n",
    "        loss = loss + (1 / train_data.num_nodes) * model.kl_loss()\n",
    "    loss.backward()\n",
    "    optimizer.step()\n",
    "    return float(loss)\n",
    "\n",
    "\n",
    "@torch.no_grad()\n",
    "def test(data):\n",
    "    model.eval()\n",
    "    z = model.encode(data.x, data.edge_index)\n",
    "    return model.test(z, data.pos_edge_label_index, data.neg_edge_label_index)\n",
    "\n",
    "\n",
    "times = []\n",
    "for epoch in range(1, args.epochs + 1):\n",
    "    start = time.time()\n",
    "    loss = train()\n",
    "    auc, ap = test(test_data)\n",
    "    print(f'Epoch: {epoch:03d}, AUC: {auc:.4f}, AP: {ap:.4f}')\n",
    "    times.append(time.time() - start)\n",
    "print(f\"Median time per epoch: {torch.tensor(times).median():.4f}s\")"
   ]
  }
 ],
 "metadata": {
  "kernelspec": {
   "display_name": "python_38",
   "language": "python",
   "name": "python_38"
  },
  "language_info": {
   "codemirror_mode": {
    "name": "ipython",
    "version": 3
   },
   "file_extension": ".py",
   "mimetype": "text/x-python",
   "name": "python",
   "nbconvert_exporter": "python",
   "pygments_lexer": "ipython3",
   "version": "3.8.10"
  }
 },
 "nbformat": 4,
 "nbformat_minor": 5
}
