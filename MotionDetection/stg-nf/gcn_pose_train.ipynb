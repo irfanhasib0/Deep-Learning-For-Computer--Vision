{
 "cells": [
  {
   "cell_type": "code",
   "execution_count": 1,
   "id": "5b09b13b-915d-4ced-9e38-efbb0107403d",
   "metadata": {},
   "outputs": [],
   "source": [
    "import os\n",
    "import json\n",
    "import cv2\n",
    "from tqdm import tqdm\n",
    "\n",
    "import torch\n",
    "import random\n",
    "import numpy as np\n",
    "from matplotlib import pyplot as plt\n",
    "from pose_data import PoseGraph\n",
    "from training import Trainer\n",
    "from torch.utils.data import DataLoader"
   ]
  },
  {
   "cell_type": "code",
   "execution_count": 2,
   "id": "61a36838-921b-466f-b1b6-1b7c47eb7a47",
   "metadata": {},
   "outputs": [],
   "source": [
    "#from gpec_models.gcae import GCAE\n",
    "from nf_models.model_pose import STG_NF\n",
    "from nf_models.graph import Graph\n",
    "#model.load_state_dict(torch.load('checkpoints/ShanghaiTech_85_9.tar')['state_dict'])\n",
    "from vae import VAE, vae_loss, ae_loss"
   ]
  },
  {
   "cell_type": "code",
   "execution_count": 3,
   "id": "b6eece5d-a2f9-4566-879e-5cf3dc213ef3",
   "metadata": {},
   "outputs": [],
   "source": [
    "def stg_nf_loss(z,nll):\n",
    "    return {'loss': torch.mean(nll)}\n",
    "    "
   ]
  },
  {
   "cell_type": "raw",
   "id": "02541beb-4918-4d79-a042-a7129de62350",
   "metadata": {},
   "source": [
    "import sys\n",
    "sys.path.append('../')\n",
    "from gepc.utils.pose_ad_argparse import init_stc_parser, init_stc_sub_args\n",
    "from gepc.models.fe.fe_model import init_fenet\n",
    "parser = init_stc_parser()\n",
    "parser.add_argument('-f')\n",
    "args = parser.parse_args()\n",
    "model = init_fenet(args,None)"
   ]
  },
  {
   "cell_type": "code",
   "execution_count": 4,
   "id": "d5cd9abc-17c1-4cb3-b378-5793b0e453b0",
   "metadata": {},
   "outputs": [],
   "source": [
    "#83 , 1.21 sec/itr"
   ]
  },
  {
   "cell_type": "code",
   "execution_count": 5,
   "id": "36003c28-7922-4275-b5e3-4c36514e6bd3",
   "metadata": {
    "scrolled": true,
    "tags": []
   },
   "outputs": [
    {
     "name": "stderr",
     "output_type": "stream",
     "text": [
      "100%|████████████████████████████████████████████████████████████████████████████████████████████████████████████████████████████████████████████████████████████████████| 107/107 [00:17<00:00,  6.01it/s]\n",
      "100%|████████████████████████████████████████████████████████████████████████████████████████████████████████████████████████████████████████████████████████████████████| 107/107 [00:09<00:00, 11.82it/s]\n"
     ]
    }
   ],
   "source": [
    "args = {\n",
    "'no_of_files' : 107,\n",
    "'channel'     : 2,\n",
    "'seg_len'     : 24,\n",
    "'no_of_kps'   : 18,\n",
    "'seg_stride'  : 1,\n",
    "'seg_conf_thr': 0,\n",
    "'seed'        : 0,\n",
    "'device'      : 'cuda:0',\n",
    "'vid_res'     : [856, 480],\n",
    "'json_dir'    : {\n",
    "    'train' : '/home/irfan/Desktop/Data/Pose_JSON_Data/ShanghaiTech/pose/train', \n",
    "    'valid' : '/home/irfan/Desktop/Data/Pose_JSON_Data/ShanghaiTech/pose/test' \n",
    "},\n",
    "'gt_dir'      : {\n",
    "    'valid'    :\n",
    "    {\n",
    "    'mask_dir'  : '/home/irfan/Desktop/Data/Pose_JSON_Data/ShanghaiTech/gt/test/test_frame_mask/',\n",
    "    'frame_dir' : '/home/irfan/Desktop/Data/Pose_JSON_Data/ShanghaiTech/gt/test/frames/'\n",
    "    },\n",
    "    'train'    :\n",
    "    {\n",
    "    'mask_dir'  : '/home/irfan/Desktop/Data/Pose_JSON_Data/ShanghaiTech/gt/train/train_frame_mask/',\n",
    "    'frame_dir' : '/home/irfan/Desktop/Data/Pose_JSON_Data/ShanghaiTech/train/frames/'\n",
    "    }\n",
    "}\n",
    "}\n",
    "\n",
    "train_dataset = PoseGraph(args,split='train')\n",
    "valid_dataset = PoseGraph(args,split='valid')\n",
    "train_loader  = DataLoader(train_dataset,128)\n",
    "val_loader    = DataLoader(valid_dataset,256)\n",
    "\n",
    "#model = GCAE(in_channels=3)\n",
    "#model = VAE(args,2,128,hidden_dims=[2,4,8,16])#[24,48,96,192]\n",
    "model = STG_NF()\n",
    "trainer = Trainer(model,\n",
    "                  train_loader,\n",
    "                  val_loader,\n",
    "                  loss_func= stg_nf_loss,#ae_loss,#model.loss_function,\n",
    "                  epochs = 5,\n",
    "                  lr= 0.00001)"
   ]
  },
  {
   "cell_type": "code",
   "execution_count": null,
   "id": "d1518d64-b4e4-44a7-ad0e-f2cf7b403427",
   "metadata": {
    "scrolled": true,
    "tags": []
   },
   "outputs": [],
   "source": [
    "trainer.train()"
   ]
  },
  {
   "cell_type": "code",
   "execution_count": 6,
   "id": "17e419c9-b625-41ef-b0cb-b268f9f70470",
   "metadata": {},
   "outputs": [
    {
     "data": {
      "text/plain": [
       "<All keys matched successfully>"
      ]
     },
     "execution_count": 6,
     "metadata": {},
     "output_type": "execute_result"
    }
   ],
   "source": [
    "ckpt = torch.load('checkpoints/ShanghaiTech_85_9.tar')\n",
    "model.set_actnorm_init()\n",
    "model.load_state_dict(ckpt['state_dict'])"
   ]
  },
  {
   "cell_type": "raw",
   "id": "50ace59d-9322-4ca0-9e60-dc097f349cc4",
   "metadata": {},
   "source": [
    "Jan26_0128__checkpoint 4,4,4,4 : 0.0567 : 0.6678621915484001\n",
    "Jan26_0149__checkpoint 8,8,8,8 : 0.0477 : 0.622825921394857 ; 0.6382557835714835 0.6382557835714835 0.5094642956461025\n",
    "Jan26_0206__checkpoint 16,16,16,16 : 0.0445; 0.6269824491384007\n",
    "Jan26_0219__checkpoint 2,2,2,2 : 0.0511 : 0.6775450770265374\n",
    "Jan26_0225__checkpoint           0.0559 : 0.6784496060678012 (hidden_dim=256)\n",
    "Jan26_0229__checkpoint           0.0596 : 0.6789544228166581 (bs 256)"
   ]
  },
  {
   "cell_type": "code",
   "execution_count": null,
   "id": "8fe85140-b7a8-4b83-bece-c65ed49b0f8f",
   "metadata": {
    "scrolled": true,
    "tags": []
   },
   "outputs": [],
   "source": [
    "model.load_state_dict(torch.load('Jan29_2220__checkpoint.pth.tar')['state_dict'])"
   ]
  },
  {
   "cell_type": "code",
   "execution_count": null,
   "id": "45b9f042-2d8c-43ab-bf41-7e4b238499ce",
   "metadata": {
    "scrolled": true,
    "tags": []
   },
   "outputs": [],
   "source": [
    "#score = trainer.test()"
   ]
  },
  {
   "cell_type": "code",
   "execution_count": 7,
   "id": "7d88f8fe-9ea6-4937-b829-a865ee0f8b2d",
   "metadata": {},
   "outputs": [],
   "source": [
    "def test(loader):\n",
    "    device='cuda:0'\n",
    "    model.eval()\n",
    "    model.to(device)\n",
    "    pbar  = tqdm(loader)\n",
    "    probs = torch.empty(0).to(device)\n",
    "    mu   = torch.empty(0).to(device)\n",
    "    std  = torch.empty(0).to(device)\n",
    "    results = []\n",
    "    print(\"Starting Test Eval\")\n",
    "    for itern, data_arr in enumerate(pbar):\n",
    "        data_arr = [elem.to(device, non_blocking=True) for elem in data_arr]\n",
    "        data     = data_arr[0].permute(0,3,1,2)\n",
    "        scr      = data_arr[2].amin(dim=-1)\n",
    "        with torch.no_grad():\n",
    "            z = model(data[:,:2,:,:],label=torch.ones((data.shape[0])),score=scr)\n",
    "            scores = z[1]#torch.abs(z[0][:,:2] - z[1][:,:2]).mean(dim=[1,2,3])\n",
    "        \n",
    "        probs = torch.cat([probs, scores], dim=0)\n",
    "        #mu  = torch.cat([mu, torch.abs(z[2])], dim=0)\n",
    "        #std = torch.cat([std, torch.abs(z[3])], dim=0)\n",
    "        results.append(z)\n",
    "        \n",
    "    prob_mat_np = probs.cpu().detach().numpy().squeeze().copy(order='C')\n",
    "    mu  = mu.cpu().detach().numpy()#.squeeze().copy(order='C')\n",
    "    std = std.cpu().detach().numpy()#.squeeze().copy(order='C')\n",
    "    \n",
    "    return prob_mat_np, mu, std, results\n",
    "\n",
    "from sklearn.metrics import roc_auc_score\n",
    "\n",
    "def score_auc(scores_np, gt):\n",
    "        scores_np[scores_np == np.inf] = scores_np[scores_np != np.inf].max()\n",
    "        scores_np[scores_np == -1 * np.inf] = scores_np[scores_np != -1 * np.inf].min()\n",
    "        auc = roc_auc_score(gt, scores_np)\n",
    "        return auc"
   ]
  },
  {
   "cell_type": "code",
   "execution_count": 8,
   "id": "7e6a55ad-52c7-4976-ba64-68c8c6e44e62",
   "metadata": {
    "scrolled": true,
    "tags": []
   },
   "outputs": [
    {
     "name": "stderr",
     "output_type": "stream",
     "text": [
      "  0%|                                                                                                                                                                             | 0/1796 [00:00<?, ?it/s]"
     ]
    },
    {
     "name": "stdout",
     "output_type": "stream",
     "text": [
      "Starting Test Eval\n"
     ]
    },
    {
     "name": "stderr",
     "output_type": "stream",
     "text": [
      "100%|██████████████████████████████████████████████████████████████████████████████████████████████████████████████████████████████████████████████████████████████████| 1796/1796 [00:38<00:00, 46.88it/s]\n"
     ]
    }
   ],
   "source": [
    "score, mu, std, res = test(train_loader)"
   ]
  },
  {
   "cell_type": "code",
   "execution_count": 9,
   "id": "6d11323c-5a5c-407b-9dea-3ef84476e59d",
   "metadata": {
    "scrolled": true,
    "tags": []
   },
   "outputs": [
    {
     "name": "stderr",
     "output_type": "stream",
     "text": [
      "  1%|▉                                                                                                                                                                     | 3/530 [00:00<00:24, 21.94it/s]"
     ]
    },
    {
     "name": "stdout",
     "output_type": "stream",
     "text": [
      "Starting Test Eval\n"
     ]
    },
    {
     "name": "stderr",
     "output_type": "stream",
     "text": [
      "100%|████████████████████████████████████████████████████████████████████████████████████████████████████████████████████████████████████████████████████████████████████| 530/530 [00:17<00:00, 30.09it/s]\n"
     ]
    }
   ],
   "source": [
    "tscore, tmu, tstd, tres = test(val_loader)"
   ]
  },
  {
   "cell_type": "code",
   "execution_count": 10,
   "id": "69bf85f3-f86e-42b5-ada8-8479f5dd8b4d",
   "metadata": {},
   "outputs": [],
   "source": [
    "from sklearn.cluster import KMeans"
   ]
  },
  {
   "cell_type": "code",
   "execution_count": 11,
   "id": "63c29e94-7c12-445a-a7a5-5d938a23d1ba",
   "metadata": {},
   "outputs": [],
   "source": [
    "mu  = score[:,None]\n",
    "tmu = tscore[:,None]"
   ]
  },
  {
   "cell_type": "code",
   "execution_count": 12,
   "id": "38e66fc9-34e9-4c6a-9bf5-d5b817d98737",
   "metadata": {},
   "outputs": [],
   "source": [
    "kmn = KMeans(n_clusters=1,random_state=0)"
   ]
  },
  {
   "cell_type": "code",
   "execution_count": 13,
   "id": "5070ecba-f725-4ff7-9edc-70212516bfc5",
   "metadata": {},
   "outputs": [
    {
     "name": "stderr",
     "output_type": "stream",
     "text": [
      "/home/irfan/Desktop/Code/Linux-IO/python_38/lib/python3.8/site-packages/sklearn/cluster/_kmeans.py:870: FutureWarning: The default value of `n_init` will change from 10 to 'auto' in 1.4. Set the value of `n_init` explicitly to suppress the warning\n",
      "  warnings.warn(\n"
     ]
    },
    {
     "data": {
      "text/html": [
       "<style>#sk-container-id-1 {color: black;background-color: white;}#sk-container-id-1 pre{padding: 0;}#sk-container-id-1 div.sk-toggleable {background-color: white;}#sk-container-id-1 label.sk-toggleable__label {cursor: pointer;display: block;width: 100%;margin-bottom: 0;padding: 0.3em;box-sizing: border-box;text-align: center;}#sk-container-id-1 label.sk-toggleable__label-arrow:before {content: \"▸\";float: left;margin-right: 0.25em;color: #696969;}#sk-container-id-1 label.sk-toggleable__label-arrow:hover:before {color: black;}#sk-container-id-1 div.sk-estimator:hover label.sk-toggleable__label-arrow:before {color: black;}#sk-container-id-1 div.sk-toggleable__content {max-height: 0;max-width: 0;overflow: hidden;text-align: left;background-color: #f0f8ff;}#sk-container-id-1 div.sk-toggleable__content pre {margin: 0.2em;color: black;border-radius: 0.25em;background-color: #f0f8ff;}#sk-container-id-1 input.sk-toggleable__control:checked~div.sk-toggleable__content {max-height: 200px;max-width: 100%;overflow: auto;}#sk-container-id-1 input.sk-toggleable__control:checked~label.sk-toggleable__label-arrow:before {content: \"▾\";}#sk-container-id-1 div.sk-estimator input.sk-toggleable__control:checked~label.sk-toggleable__label {background-color: #d4ebff;}#sk-container-id-1 div.sk-label input.sk-toggleable__control:checked~label.sk-toggleable__label {background-color: #d4ebff;}#sk-container-id-1 input.sk-hidden--visually {border: 0;clip: rect(1px 1px 1px 1px);clip: rect(1px, 1px, 1px, 1px);height: 1px;margin: -1px;overflow: hidden;padding: 0;position: absolute;width: 1px;}#sk-container-id-1 div.sk-estimator {font-family: monospace;background-color: #f0f8ff;border: 1px dotted black;border-radius: 0.25em;box-sizing: border-box;margin-bottom: 0.5em;}#sk-container-id-1 div.sk-estimator:hover {background-color: #d4ebff;}#sk-container-id-1 div.sk-parallel-item::after {content: \"\";width: 100%;border-bottom: 1px solid gray;flex-grow: 1;}#sk-container-id-1 div.sk-label:hover label.sk-toggleable__label {background-color: #d4ebff;}#sk-container-id-1 div.sk-serial::before {content: \"\";position: absolute;border-left: 1px solid gray;box-sizing: border-box;top: 0;bottom: 0;left: 50%;z-index: 0;}#sk-container-id-1 div.sk-serial {display: flex;flex-direction: column;align-items: center;background-color: white;padding-right: 0.2em;padding-left: 0.2em;position: relative;}#sk-container-id-1 div.sk-item {position: relative;z-index: 1;}#sk-container-id-1 div.sk-parallel {display: flex;align-items: stretch;justify-content: center;background-color: white;position: relative;}#sk-container-id-1 div.sk-item::before, #sk-container-id-1 div.sk-parallel-item::before {content: \"\";position: absolute;border-left: 1px solid gray;box-sizing: border-box;top: 0;bottom: 0;left: 50%;z-index: -1;}#sk-container-id-1 div.sk-parallel-item {display: flex;flex-direction: column;z-index: 1;position: relative;background-color: white;}#sk-container-id-1 div.sk-parallel-item:first-child::after {align-self: flex-end;width: 50%;}#sk-container-id-1 div.sk-parallel-item:last-child::after {align-self: flex-start;width: 50%;}#sk-container-id-1 div.sk-parallel-item:only-child::after {width: 0;}#sk-container-id-1 div.sk-dashed-wrapped {border: 1px dashed gray;margin: 0 0.4em 0.5em 0.4em;box-sizing: border-box;padding-bottom: 0.4em;background-color: white;}#sk-container-id-1 div.sk-label label {font-family: monospace;font-weight: bold;display: inline-block;line-height: 1.2em;}#sk-container-id-1 div.sk-label-container {text-align: center;}#sk-container-id-1 div.sk-container {/* jupyter's `normalize.less` sets `[hidden] { display: none; }` but bootstrap.min.css set `[hidden] { display: none !important; }` so we also need the `!important` here to be able to override the default hidden behavior on the sphinx rendered scikit-learn.org. See: https://github.com/scikit-learn/scikit-learn/issues/21755 */display: inline-block !important;position: relative;}#sk-container-id-1 div.sk-text-repr-fallback {display: none;}</style><div id=\"sk-container-id-1\" class=\"sk-top-container\"><div class=\"sk-text-repr-fallback\"><pre>KMeans(n_clusters=1, random_state=0)</pre><b>In a Jupyter environment, please rerun this cell to show the HTML representation or trust the notebook. <br />On GitHub, the HTML representation is unable to render, please try loading this page with nbviewer.org.</b></div><div class=\"sk-container\" hidden><div class=\"sk-item\"><div class=\"sk-estimator sk-toggleable\"><input class=\"sk-toggleable__control sk-hidden--visually\" id=\"sk-estimator-id-1\" type=\"checkbox\" checked><label for=\"sk-estimator-id-1\" class=\"sk-toggleable__label sk-toggleable__label-arrow\">KMeans</label><div class=\"sk-toggleable__content\"><pre>KMeans(n_clusters=1, random_state=0)</pre></div></div></div></div></div>"
      ],
      "text/plain": [
       "KMeans(n_clusters=1, random_state=0)"
      ]
     },
     "execution_count": 13,
     "metadata": {},
     "output_type": "execute_result"
    }
   ],
   "source": [
    "kmn.fit(mu)"
   ]
  },
  {
   "cell_type": "code",
   "execution_count": 14,
   "id": "e49969b7-26b6-4df4-8c7a-9290f298f8a7",
   "metadata": {
    "scrolled": true,
    "tags": []
   },
   "outputs": [
    {
     "name": "stdout",
     "output_type": "stream",
     "text": [
      "06_0144.npy\n",
      "06_0145.npy\n",
      "01_0130.npy\n",
      "01_0135.npy\n",
      "01_0136.npy\n",
      "12_0152.npy\n"
     ]
    }
   ],
   "source": [
    "from score import Score\n",
    "from scipy.ndimage import gaussian_filter1d\n",
    "import os\n",
    "files = os.listdir('/home/irfan/Desktop/Data/Pose_JSON_Data/ShanghaiTech/gt/test/test_frame_mask/')\n",
    "res1=[]; res2=[];res3=[]\n",
    "thr=10.0\n",
    "preds = []\n",
    "gts   = []\n",
    "for file in files:\n",
    "    scr = Score(path='/home/irfan/Desktop/Data/Pose_JSON_Data/ShanghaiTech/gt/test/test_frame_mask/')\n",
    "    #res = scr.score_dataset(np.uint8(score>thr),valid_dataset.meta_data)\n",
    "    try:\n",
    "        gt,pred,dist = scr.get_clip_score(tscore,tmu,kmn, file, valid_dataset.meta_data)\n",
    "        _pred = gaussian_filter1d(pred,sigma=7)\n",
    "        _dist = gaussian_filter1d(dist,sigma=7)\n",
    "        preds.append(_pred)\n",
    "        gts.append(gt)\n",
    "    except:\n",
    "        print(file)\n",
    "        continue\n",
    "    \n",
    "    \n",
    "    \n",
    "    #_dist = _dist/_dist.max()\n",
    "    try    : res1.append(roc_auc_score(gt,_pred))\n",
    "    except : res1.append(0)\n",
    "    '''\n",
    "    #res2.append(dist)\n",
    "    fig,axes = plt.subplots(nrows=2,ncols=3,figsize=(10,3))\n",
    "    axes[0,0].plot(gt);axes[0,0].set_title(str(res1[-1])+f\"{file.split('/')[-1]}\")\n",
    "    axes[0,1].plot(np.uint8(_pred>thr))#;axes[0,1].set_ylim(0,1.0)\n",
    "    axes[0,1].plot(_pred,alpha=0.1)\n",
    "    axes[0,2].plot(_dist);axes[0,2].set_ylim(0,2.2)\n",
    "    axes[1,0].plot(gt)\n",
    "    axes[1,0].plot(np.uint8(_pred>thr))\n",
    "    axes[1,0].plot(_dist)\n",
    "    ppp\n",
    "    gt,pred = scr.get_clip_score(mu, file, valid_dataset.meta_data)\n",
    "    _pred = gaussian_filter1d(pred,sigma=3)\n",
    "    res2.append(roc_auc_score(gt,np.uint8(_pred>0.15)))\n",
    "    axes[1,0].plot(gt)\n",
    "    axes[1,1].plot(_pred);axes[1,1].set_ylim(0,0.8)\n",
    "    axes[1,2].plot(pred)\n",
    "\n",
    "    gt,pred = scr.get_clip_score(std, file, valid_dataset.meta_data)\n",
    "    _pred = gaussian_filter1d(pred,sigma=3)\n",
    "    res3.append(roc_auc_score(gt,np.uint8(_pred>0.15)))\n",
    "    axes[2,0].plot(gt)\n",
    "    axes[2,1].plot(_pred);axes[1,1].set_ylim(0,0.8)\n",
    "    axes[2,2].plot(pred)\n",
    "    '''\n",
    "    \n",
    "plt.close()"
   ]
  },
  {
   "cell_type": "code",
   "execution_count": 15,
   "id": "3e4d4540-acb8-4dde-8bea-918355247c79",
   "metadata": {},
   "outputs": [
    {
     "data": {
      "text/plain": [
       "(101, 101)"
      ]
     },
     "execution_count": 15,
     "metadata": {},
     "output_type": "execute_result"
    }
   ],
   "source": [
    "len(preds),len(gts)"
   ]
  },
  {
   "cell_type": "code",
   "execution_count": 16,
   "id": "660edac3-9701-4e17-ba1d-74af5b9b60a8",
   "metadata": {},
   "outputs": [],
   "source": [
    "import pickle\n",
    "np.save('../tscore_1.npy',tscore)"
   ]
  },
  {
   "cell_type": "code",
   "execution_count": 17,
   "id": "4cda870b-7f5f-4da3-a053-2324b1d91357",
   "metadata": {},
   "outputs": [],
   "source": [
    "np.save('../test_samp_1.npy',valid_dataset.__getitem__(1000)[0])"
   ]
  },
  {
   "cell_type": "code",
   "execution_count": 18,
   "id": "a7cd6c4f-3f5f-418f-9814-d731f64971f5",
   "metadata": {},
   "outputs": [],
   "source": [
    "preds_all = np.concatenate(preds)\n",
    "gts_all   = np.concatenate(gts)"
   ]
  },
  {
   "cell_type": "code",
   "execution_count": 19,
   "id": "76b2aa16-1884-4db4-9e27-e88cef6bc156",
   "metadata": {},
   "outputs": [
    {
     "data": {
      "text/plain": [
       "0.8457385332740401"
      ]
     },
     "execution_count": 19,
     "metadata": {},
     "output_type": "execute_result"
    }
   ],
   "source": [
    "preds_all[preds_all==0]=0\n",
    "roc_auc_score(gts_all,preds_all)"
   ]
  },
  {
   "cell_type": "code",
   "execution_count": 19,
   "id": "f4c0e51a-ec24-4bb3-b13d-31ca22b12bce",
   "metadata": {},
   "outputs": [
    {
     "data": {
      "text/plain": [
       "0.0"
      ]
     },
     "execution_count": 19,
     "metadata": {},
     "output_type": "execute_result"
    }
   ],
   "source": [
    "preds_all.min()"
   ]
  },
  {
   "cell_type": "code",
   "execution_count": 20,
   "id": "fd2119f0-437d-43a9-8790-0669bbbe3a5f",
   "metadata": {},
   "outputs": [
    {
     "data": {
      "text/plain": [
       "0.0"
      ]
     },
     "execution_count": 20,
     "metadata": {},
     "output_type": "execute_result"
    }
   ],
   "source": [
    "preds_all[preds_all != -np.inf].min()"
   ]
  },
  {
   "cell_type": "code",
   "execution_count": 35,
   "id": "dbdeb6b5-c93f-4f64-9463-3484e828f318",
   "metadata": {},
   "outputs": [],
   "source": [
    "gt,pred,dist = scr.get_clip_score(tscore,tmu,kmn, files[3], valid_dataset.meta_data)\n",
    "_pred = gaussian_filter1d(pred,sigma=7)"
   ]
  },
  {
   "cell_type": "code",
   "execution_count": 36,
   "id": "abc4ae23-ab01-4059-90e7-a96bd8edd6a2",
   "metadata": {},
   "outputs": [
    {
     "data": {
      "text/plain": [
       "[<matplotlib.lines.Line2D at 0x7fa450083340>]"
      ]
     },
     "execution_count": 36,
     "metadata": {},
     "output_type": "execute_result"
    },
    {
     "data": {
      "image/png": "[encoded data removed]",
      "text/plain": [
       "<Figure size 640x480 with 1 Axes>"
      ]
     },
     "metadata": {},
     "output_type": "display_data"
    }
   ],
   "source": [
    "i=1\n",
    "plt.plot(preds[i])\n",
    "plt.plot(gts[i])"
   ]
  },
  {
   "cell_type": "code",
   "execution_count": null,
   "id": "3bd68cea-df1f-4b35-baf1-97ca9988d68f",
   "metadata": {},
   "outputs": [],
   "source": [
    "roc_auc_score(gt,np.clip(_pred)"
   ]
  },
  {
   "cell_type": "code",
   "execution_count": null,
   "id": "f87a62ad-0b82-4b1c-8e64-fb2ea612f17f",
   "metadata": {},
   "outputs": [],
   "source": [
    "np.clip(_pred,0,10)"
   ]
  },
  {
   "cell_type": "code",
   "execution_count": 22,
   "id": "0348e4bf-90f7-4164-b30c-366d7c0e541b",
   "metadata": {},
   "outputs": [
    {
     "data": {
      "text/plain": [
       "0.8546205875441499"
      ]
     },
     "execution_count": 22,
     "metadata": {},
     "output_type": "execute_result"
    }
   ],
   "source": [
    "np.mean(res1)\n",
    "#0.65761537014756\n",
    "#0.6645533892448818\n",
    "\n",
    "#0.6480286128337436\n",
    "#0.6480286128337436"
   ]
  },
  {
   "cell_type": "code",
   "execution_count": null,
   "id": "383b39ba-e47f-4334-a3ca-ed9af65f36b8",
   "metadata": {
    "scrolled": true,
    "tags": []
   },
   "outputs": [],
   "source": [
    "i=0\n",
    "for elem in train_loader:\n",
    "    print(elem[0].detach().cpu().max())\n",
    "    if i==500 :break\n",
    "    i+=1\n",
    "dt  = elem[0].permute(0,3,1,2)\n",
    "model.to('cuda:0')\n",
    "out = model(dt[:,:,:,:].float().to('cuda:0'))"
   ]
  },
  {
   "cell_type": "code",
   "execution_count": null,
   "id": "4b6b1d61-d4ec-4782-9b44-a1da1ae7dc6f",
   "metadata": {},
   "outputs": [],
   "source": [
    "model.A[0]"
   ]
  },
  {
   "cell_type": "code",
   "execution_count": null,
   "id": "45a411e2-a540-4298-8ac7-ddf29f90f5ae",
   "metadata": {},
   "outputs": [],
   "source": [
    "plt.imshow(elem[0][0,:,:,0].detach().cpu())"
   ]
  },
  {
   "cell_type": "code",
   "execution_count": null,
   "id": "f0e92609-1f34-46a0-9e5d-4020a1d4306e",
   "metadata": {},
   "outputs": [],
   "source": [
    "plt.imshow(out[0][0,0,:,:].detach().cpu())"
   ]
  },
  {
   "cell_type": "code",
   "execution_count": null,
   "id": "77d2ff00-daf8-4240-9ba6-aa2b748bc477",
   "metadata": {},
   "outputs": [],
   "source": [
    "out[0][0,0,:,:].detach().cpu()"
   ]
  },
  {
   "cell_type": "code",
   "execution_count": null,
   "id": "a0fc7323-e707-46dc-a9ff-4950a9d0a47d",
   "metadata": {},
   "outputs": [],
   "source": [
    "import torchvision\n",
    "oo = out[0][:,:,:,:].detach().cpu()\n",
    "ot = torchvision.transforms.Resize((32,32))(oo)"
   ]
  },
  {
   "cell_type": "code",
   "execution_count": null,
   "id": "3736ae4b-df9e-45ba-9d8f-851b4f5a0abb",
   "metadata": {},
   "outputs": [],
   "source": [
    "ot.shape"
   ]
  },
  {
   "cell_type": "code",
   "execution_count": null,
   "id": "c12b1942-6f99-4e67-bb0a-f61b3834547f",
   "metadata": {},
   "outputs": [],
   "source": [
    "from gpec_models.gcae.gcae import Encoder\n",
    "from gpec_models.fe.fe_model import init_fenet\n",
    "model = init_fenet(None)"
   ]
  },
  {
   "cell_type": "code",
   "execution_count": null,
   "id": "33ba07c3-4b2d-4b0f-82c1-856b48fe7659",
   "metadata": {},
   "outputs": [],
   "source": [
    "model"
   ]
  },
  {
   "cell_type": "code",
   "execution_count": null,
   "id": "47319837-3d25-4aee-aaa3-06488bdfaccb",
   "metadata": {},
   "outputs": [],
   "source": [
    "import torch\n",
    "torch.resize()"
   ]
  },
  {
   "cell_type": "code",
   "execution_count": null,
   "id": "74c1d080-2744-4972-a034-ce8637cb820a",
   "metadata": {},
   "outputs": [],
   "source": [
    "import torch\n",
    "_dt   = torch.tensor(dt.transpose(2,0,1)[None],dtype=torch.float32).to('cuda:0')\n",
    "model.train()\n",
    "model = model.to('cuda:0')\n",
    "out   = model(_dt)"
   ]
  },
  {
   "cell_type": "code",
   "execution_count": null,
   "id": "7bc696bf-aa7a-4dcb-8c8f-564c9faaf143",
   "metadata": {},
   "outputs": [],
   "source": [
    "out[0][0].shape"
   ]
  },
  {
   "cell_type": "code",
   "execution_count": null,
   "id": "8068266d-948a-420b-8a5e-926be05af2e4",
   "metadata": {},
   "outputs": [],
   "source": [
    "_t = dt\n",
    "fig,axes = plt.subplots(nrows=1,ncols=3,figsize=(10,3))\n",
    "axes[0].imshow(_t[:,:,0])\n",
    "axes[1].imshow(_t[:,:,1])\n",
    "axes[2].imshow(_t[:,:,2])"
   ]
  },
  {
   "cell_type": "code",
   "execution_count": null,
   "id": "a432c579-ad9c-4fcb-bdf7-02b90f1d117d",
   "metadata": {},
   "outputs": [],
   "source": [
    "_t = out[0][0].detach().cpu().numpy().transpose(1,2,0)\n",
    "fig,axes = plt.subplots(nrows=1,ncols=3,figsize=(10,3))\n",
    "axes[0].imshow(_t[:,:,0])\n",
    "axes[1].imshow(_t[:,:,1])\n",
    "axes[2].imshow(_t[:,:,2])"
   ]
  },
  {
   "cell_type": "code",
   "execution_count": null,
   "id": "705fed6f-e9f9-40cc-99b5-d348aae91280",
   "metadata": {},
   "outputs": [],
   "source": [
    "dt,mtd = pg.__getitem__(786)\n",
    "#_dt    = dt.transpose(1,2,0)\n",
    "dt[:,:,0]-=dt[:,:,0].min()\n",
    "dt[:,:,1]-=dt[:,:,1].min()\n",
    "dt[:,:,0]/=dt[:,:,0].max()\n",
    "dt[:,:,1]/=dt[:,:,1].max()\n",
    "dt[:,:,2]/=dt[:,:,2].max()\n",
    "fig,axes = plt.subplots(nrows=1,ncols=3,figsize=(10,4))\n",
    "axes[0].imshow(dt[:,:,0])\n",
    "axes[1].imshow(dt[:,:,1])\n",
    "axes[2].imshow(dt[:,:,2])"
   ]
  },
  {
   "cell_type": "code",
   "execution_count": null,
   "id": "b17ae370-38f7-478f-a900-00e093c49ccb",
   "metadata": {},
   "outputs": [],
   "source": [
    "dt,mtd = pg.__getitem__(400)\n",
    "#_dt    = dt.transpose(1,2,0)\n",
    "dt[:,:,0]-=dt[:,:,0].min()\n",
    "dt[:,:,1]-=dt[:,:,1].min()\n",
    "dt[:,:,0]/=dt[:,:,0].max()\n",
    "dt[:,:,1]/=dt[:,:,1].max()\n",
    "dt[:,:,2]=0\n",
    "fig,axes = plt.subplots(nrows=1,ncols=2,figsize=(10,4))\n",
    "axes[0].imshow(dt[:,:,0])\n",
    "axes[1].imshow(dt[:,:,2])"
   ]
  },
  {
   "cell_type": "code",
   "execution_count": null,
   "id": "a6ad9392-e715-4bb7-a984-05174a58c993",
   "metadata": {},
   "outputs": [],
   "source": [
    "dt[:,:,2].max()"
   ]
  },
  {
   "cell_type": "code",
   "execution_count": null,
   "id": "27d7169c-4f90-4633-8895-34b0ea681e80",
   "metadata": {},
   "outputs": [],
   "source": []
  },
  {
   "cell_type": "code",
   "execution_count": null,
   "id": "adf82800-7cc9-40cf-ad04-18d295405068",
   "metadata": {},
   "outputs": [],
   "source": [
    "dt.min()"
   ]
  },
  {
   "cell_type": "code",
   "execution_count": null,
   "id": "b2c834a8-d3b3-4bca-8c10-4240f0f787b1",
   "metadata": {},
   "outputs": [],
   "source": []
  },
  {
   "cell_type": "code",
   "execution_count": null,
   "id": "c1842d35-d9bf-48a1-876d-98f49bc8238b",
   "metadata": {},
   "outputs": [],
   "source": [
    "plot_pose(dt,mtd)"
   ]
  },
  {
   "cell_type": "code",
   "execution_count": null,
   "id": "3df458f5-da1a-4ff7-a5bd-3e7bc70ccadf",
   "metadata": {},
   "outputs": [],
   "source": [
    "size  = dt.max().astype('int32')\n",
    "frame = np.zeros((size,size,3),dtype=np.uint8)"
   ]
  },
  {
   "cell_type": "code",
   "execution_count": null,
   "id": "3c8b77ae-3e80-4b3b-9e96-32672d8aa49a",
   "metadata": {},
   "outputs": [],
   "source": []
  },
  {
   "cell_type": "code",
   "execution_count": null,
   "id": "effb0ced-6672-46fa-934e-97f7393fb4b2",
   "metadata": {},
   "outputs": [],
   "source": [
    "vis_data(_dt)"
   ]
  },
  {
   "cell_type": "code",
   "execution_count": null,
   "id": "7e517339-39d8-4c0b-b358-1e0dd5cb0606",
   "metadata": {},
   "outputs": [],
   "source": [
    "__dt[:,:,1].max()"
   ]
  },
  {
   "cell_type": "code",
   "execution_count": null,
   "id": "57adb8f3-10e7-4fde-b75a-5d86cc23e202",
   "metadata": {},
   "outputs": [],
   "source": [
    "import argparse\n",
    "import os.path as osp\n",
    "import time\n",
    "import torch\n",
    "import torch_geometric.transforms as T\n",
    "from torch_geometric.datasets import Planetoid\n",
    "from torch_geometric.nn import GAE, VGAE, GCNConv\n",
    "\n",
    "parser = argparse.ArgumentParser()\n",
    "parser.add_argument('-f')\n",
    "parser.add_argument('--variational', action='store_true')\n",
    "parser.add_argument('--linear', action='store_true')\n",
    "parser.add_argument('--dataset', type=str, default='Cora',\n",
    "                    choices=['Cora', 'CiteSeer', 'PubMed'])\n",
    "parser.add_argument('--epochs', type=int, default=400)\n",
    "args = parser.parse_args()\n",
    "\n",
    "if torch.cuda.is_available():\n",
    "    device = torch.device('cuda')\n",
    "elif hasattr(torch.backends, 'mps') and torch.backends.mps.is_available():\n",
    "    device = torch.device('mps')\n",
    "else:\n",
    "    device = torch.device('cpu')\n",
    "\n",
    "transform = T.Compose([\n",
    "    T.NormalizeFeatures(),\n",
    "    T.ToDevice(device),\n",
    "    T.RandomLinkSplit(num_val=0.05, num_test=0.1, is_undirected=True,\n",
    "                      split_labels=True, add_negative_train_samples=False),\n",
    "])\n",
    "path = osp.join(osp.dirname(osp.realpath('.')), '..', 'data', 'Planetoid')\n",
    "dataset = Planetoid(path, args.dataset, transform=transform)\n",
    "train_data, val_data, test_data = dataset[0]\n",
    "\n",
    "\n",
    "class GCNEncoder(torch.nn.Module):\n",
    "    def __init__(self, in_channels, out_channels):\n",
    "        super().__init__()\n",
    "        self.conv1 = GCNConv(in_channels, 2 * out_channels)\n",
    "        self.conv2 = GCNConv(2 * out_channels, out_channels)\n",
    "\n",
    "    def forward(self, x, edge_index):\n",
    "        x = self.conv1(x, edge_index).relu()\n",
    "        return self.conv2(x, edge_index)\n",
    "\n",
    "\n",
    "class VariationalGCNEncoder(torch.nn.Module):\n",
    "    def __init__(self, in_channels, out_channels):\n",
    "        super().__init__()\n",
    "        self.conv1 = GCNConv(in_channels, 2 * out_channels)\n",
    "        self.conv_mu = GCNConv(2 * out_channels, out_channels)\n",
    "        self.conv_logstd = GCNConv(2 * out_channels, out_channels)\n",
    "\n",
    "    def forward(self, x, edge_index):\n",
    "        x = self.conv1(x, edge_index).relu()\n",
    "        return self.conv_mu(x, edge_index), self.conv_logstd(x, edge_index)\n",
    "\n",
    "\n",
    "class LinearEncoder(torch.nn.Module):\n",
    "    def __init__(self, in_channels, out_channels):\n",
    "        super().__init__()\n",
    "        self.conv = GCNConv(in_channels, out_channels)\n",
    "\n",
    "    def forward(self, x, edge_index):\n",
    "        return self.conv(x, edge_index)\n",
    "\n",
    "\n",
    "class VariationalLinearEncoder(torch.nn.Module):\n",
    "    def __init__(self, in_channels, out_channels):\n",
    "        super().__init__()\n",
    "        self.conv_mu = GCNConv(in_channels, out_channels)\n",
    "        self.conv_logstd = GCNConv(in_channels, out_channels)\n",
    "\n",
    "    def forward(self, x, edge_index):\n",
    "        return self.conv_mu(x, edge_index), self.conv_logstd(x, edge_index)\n",
    "\n",
    "\n",
    "in_channels, out_channels = dataset.num_features, 16\n",
    "\n",
    "if not args.variational and not args.linear:\n",
    "    model = GAE(GCNEncoder(in_channels, out_channels))\n",
    "elif not args.variational and args.linear:\n",
    "    model = GAE(LinearEncoder(in_channels, out_channels))\n",
    "elif args.variational and not args.linear:\n",
    "    model = VGAE(VariationalGCNEncoder(in_channels, out_channels))\n",
    "elif args.variational and args.linear:\n",
    "    model = VGAE(VariationalLinearEncoder(in_channels, out_channels))\n",
    "\n",
    "model = model.to(device)\n",
    "optimizer = torch.optim.Adam(model.parameters(), lr=0.01)\n",
    "\n",
    "\n",
    "def train():\n",
    "    model.train()\n",
    "    optimizer.zero_grad()\n",
    "    z = model.encode(train_data.x, train_data.edge_index)\n",
    "    loss = model.recon_loss(z, train_data.pos_edge_label_index)\n",
    "    if args.variational:\n",
    "        loss = loss + (1 / train_data.num_nodes) * model.kl_loss()\n",
    "    loss.backward()\n",
    "    optimizer.step()\n",
    "    return float(loss)\n",
    "\n",
    "\n",
    "@torch.no_grad()\n",
    "def test(data):\n",
    "    model.eval()\n",
    "    z = model.encode(data.x, data.edge_index)\n",
    "    return model.test(z, data.pos_edge_label_index, data.neg_edge_label_index)\n",
    "\n",
    "\n",
    "times = []\n",
    "for epoch in range(1, args.epochs + 1):\n",
    "    start = time.time()\n",
    "    loss = train()\n",
    "    auc, ap = test(test_data)\n",
    "    print(f'Epoch: {epoch:03d}, AUC: {auc:.4f}, AP: {ap:.4f}')\n",
    "    times.append(time.time() - start)\n",
    "print(f\"Median time per epoch: {torch.tensor(times).median():.4f}s\")"
   ]
  }
 ],
 "metadata": {
  "kernelspec": {
   "display_name": "python_38",
   "language": "python",
   "name": "python_38"
  },
  "language_info": {
   "codemirror_mode": {
    "name": "ipython",
    "version": 3
   },
   "file_extension": ".py",
   "mimetype": "text/x-python",
   "name": "python",
   "nbconvert_exporter": "python",
   "pygments_lexer": "ipython3",
   "version": "3.8.10"
  }
 },
 "nbformat": 4,
 "nbformat_minor": 5
}
