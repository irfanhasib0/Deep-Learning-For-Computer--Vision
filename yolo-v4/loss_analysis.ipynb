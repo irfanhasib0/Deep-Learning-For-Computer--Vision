{
 "cells": [
  {
   "cell_type": "code",
   "execution_count": 1,
   "id": "0c0db596",
   "metadata": {},
   "outputs": [],
   "source": [
    "from matplotlib import pyplot as plt\n",
    "import numpy as np\n",
    "import pandas as pd\n",
    "import seaborn as sns"
   ]
  },
  {
   "cell_type": "code",
   "execution_count": 2,
   "id": "7fddcb21-89a5-40b6-bda3-481f52c30f17",
   "metadata": {},
   "outputs": [
    {
     "name": "stderr",
     "output_type": "stream",
     "text": [
      "2022-08-12 09:39:45.651931: I tensorflow/stream_executor/platform/default/dso_loader.cc:49] Successfully opened dynamic library libcudart.so.11.0\n",
      "2022-08-12 09:39:47.534097: I tensorflow/compiler/jit/xla_cpu_device.cc:41] Not creating XLA devices, tf_xla_enable_xla_devices not set\n",
      "2022-08-12 09:39:47.541585: I tensorflow/stream_executor/platform/default/dso_loader.cc:49] Successfully opened dynamic library libcuda.so.1\n",
      "2022-08-12 09:39:47.576013: I tensorflow/stream_executor/cuda/cuda_gpu_executor.cc:941] successful NUMA node read from SysFS had negative value (-1), but there must be at least one NUMA node, so returning NUMA node zero\n",
      "2022-08-12 09:39:47.576179: I tensorflow/core/common_runtime/gpu/gpu_device.cc:1720] Found device 0 with properties: \n",
      "pciBusID: 0000:01:00.0 name: NVIDIA GeForce GTX 1660 Ti computeCapability: 7.5\n",
      "coreClock: 1.59GHz coreCount: 24 deviceMemorySize: 5.80GiB deviceMemoryBandwidth: 268.26GiB/s\n",
      "2022-08-12 09:39:47.576214: I tensorflow/stream_executor/platform/default/dso_loader.cc:49] Successfully opened dynamic library libcudart.so.11.0\n",
      "2022-08-12 09:39:47.598668: I tensorflow/stream_executor/platform/default/dso_loader.cc:49] Successfully opened dynamic library libcublas.so.11\n",
      "2022-08-12 09:39:47.598744: I tensorflow/stream_executor/platform/default/dso_loader.cc:49] Successfully opened dynamic library libcublasLt.so.11\n",
      "2022-08-12 09:39:47.612912: I tensorflow/stream_executor/platform/default/dso_loader.cc:49] Successfully opened dynamic library libcufft.so.10\n",
      "2022-08-12 09:39:47.622078: I tensorflow/stream_executor/platform/default/dso_loader.cc:49] Successfully opened dynamic library libcurand.so.10\n",
      "2022-08-12 09:39:47.625213: I tensorflow/stream_executor/platform/default/dso_loader.cc:49] Successfully opened dynamic library libcusolver.so.10\n",
      "2022-08-12 09:39:47.631308: I tensorflow/stream_executor/platform/default/dso_loader.cc:49] Successfully opened dynamic library libcusparse.so.11\n",
      "2022-08-12 09:39:47.632072: I tensorflow/stream_executor/platform/default/dso_loader.cc:49] Successfully opened dynamic library libcudnn.so.8\n",
      "2022-08-12 09:39:47.632213: I tensorflow/stream_executor/cuda/cuda_gpu_executor.cc:941] successful NUMA node read from SysFS had negative value (-1), but there must be at least one NUMA node, so returning NUMA node zero\n",
      "2022-08-12 09:39:47.632463: I tensorflow/stream_executor/cuda/cuda_gpu_executor.cc:941] successful NUMA node read from SysFS had negative value (-1), but there must be at least one NUMA node, so returning NUMA node zero\n",
      "2022-08-12 09:39:47.632613: I tensorflow/core/common_runtime/gpu/gpu_device.cc:1862] Adding visible gpu devices: 0\n",
      "2022-08-12 09:39:47.634507: I tensorflow/compiler/jit/xla_gpu_device.cc:99] Not creating XLA devices, tf_xla_enable_xla_devices not set\n",
      "2022-08-12 09:39:47.634659: I tensorflow/stream_executor/cuda/cuda_gpu_executor.cc:941] successful NUMA node read from SysFS had negative value (-1), but there must be at least one NUMA node, so returning NUMA node zero\n",
      "2022-08-12 09:39:47.634827: I tensorflow/core/common_runtime/gpu/gpu_device.cc:1720] Found device 0 with properties: \n",
      "pciBusID: 0000:01:00.0 name: NVIDIA GeForce GTX 1660 Ti computeCapability: 7.5\n",
      "coreClock: 1.59GHz coreCount: 24 deviceMemorySize: 5.80GiB deviceMemoryBandwidth: 268.26GiB/s\n",
      "2022-08-12 09:39:47.634863: I tensorflow/stream_executor/platform/default/dso_loader.cc:49] Successfully opened dynamic library libcudart.so.11.0\n",
      "2022-08-12 09:39:47.634887: I tensorflow/stream_executor/platform/default/dso_loader.cc:49] Successfully opened dynamic library libcublas.so.11\n",
      "2022-08-12 09:39:47.634908: I tensorflow/stream_executor/platform/default/dso_loader.cc:49] Successfully opened dynamic library libcublasLt.so.11\n",
      "2022-08-12 09:39:47.634928: I tensorflow/stream_executor/platform/default/dso_loader.cc:49] Successfully opened dynamic library libcufft.so.10\n",
      "2022-08-12 09:39:47.634949: I tensorflow/stream_executor/platform/default/dso_loader.cc:49] Successfully opened dynamic library libcurand.so.10\n",
      "2022-08-12 09:39:47.634970: I tensorflow/stream_executor/platform/default/dso_loader.cc:49] Successfully opened dynamic library libcusolver.so.10\n",
      "2022-08-12 09:39:47.634990: I tensorflow/stream_executor/platform/default/dso_loader.cc:49] Successfully opened dynamic library libcusparse.so.11\n",
      "2022-08-12 09:39:47.635011: I tensorflow/stream_executor/platform/default/dso_loader.cc:49] Successfully opened dynamic library libcudnn.so.8\n",
      "2022-08-12 09:39:47.635092: I tensorflow/stream_executor/cuda/cuda_gpu_executor.cc:941] successful NUMA node read from SysFS had negative value (-1), but there must be at least one NUMA node, so returning NUMA node zero\n",
      "2022-08-12 09:39:47.635481: I tensorflow/stream_executor/cuda/cuda_gpu_executor.cc:941] successful NUMA node read from SysFS had negative value (-1), but there must be at least one NUMA node, so returning NUMA node zero\n",
      "2022-08-12 09:39:47.635702: I tensorflow/core/common_runtime/gpu/gpu_device.cc:1862] Adding visible gpu devices: 0\n",
      "2022-08-12 09:39:47.636147: I tensorflow/stream_executor/platform/default/dso_loader.cc:49] Successfully opened dynamic library libcudart.so.11.0\n",
      "2022-08-12 09:39:49.056688: I tensorflow/core/common_runtime/gpu/gpu_device.cc:1261] Device interconnect StreamExecutor with strength 1 edge matrix:\n",
      "2022-08-12 09:39:49.056721: I tensorflow/core/common_runtime/gpu/gpu_device.cc:1267]      0 \n",
      "2022-08-12 09:39:49.056730: I tensorflow/core/common_runtime/gpu/gpu_device.cc:1280] 0:   N \n",
      "2022-08-12 09:39:49.057243: I tensorflow/stream_executor/cuda/cuda_gpu_executor.cc:941] successful NUMA node read from SysFS had negative value (-1), but there must be at least one NUMA node, so returning NUMA node zero\n",
      "2022-08-12 09:39:49.057528: I tensorflow/stream_executor/cuda/cuda_gpu_executor.cc:941] successful NUMA node read from SysFS had negative value (-1), but there must be at least one NUMA node, so returning NUMA node zero\n",
      "2022-08-12 09:39:49.057728: I tensorflow/stream_executor/cuda/cuda_gpu_executor.cc:941] successful NUMA node read from SysFS had negative value (-1), but there must be at least one NUMA node, so returning NUMA node zero\n",
      "2022-08-12 09:39:49.057881: I tensorflow/core/common_runtime/gpu/gpu_device.cc:1406] Created TensorFlow device (/job:localhost/replica:0/task:0/device:GPU:0 with 1956 MB memory) -> physical GPU (device: 0, name: NVIDIA GeForce GTX 1660 Ti, pci bus id: 0000:01:00.0, compute capability: 7.5)\n"
     ]
    },
    {
     "data": {
      "text/plain": [
       "<tf.Tensor: shape=(), dtype=float32, numpy=6.0>"
      ]
     },
     "execution_count": 2,
     "metadata": {},
     "output_type": "execute_result"
    }
   ],
   "source": [
    "import tensorflow as tf\n",
    "tf.math.sqrt(36.0)"
   ]
  },
  {
   "cell_type": "code",
   "execution_count": 8,
   "id": "cff36433",
   "metadata": {},
   "outputs": [],
   "source": [
    "path1 = \"logs/exp-MNET_V2_224_BASE_LATEST/loss.csv\"\n",
    "path2 = \"logs/_exp-MNET_V2_224_BASE_LATEST/loss.csv\"\n",
    "#path2 = \"logs/exp-MNET_V2_160_MUL_SIG_5110/loss.csv\"\n",
    "path3 = \"logs/exp-D103_1/loss.csv\""
   ]
  },
  {
   "cell_type": "code",
   "execution_count": 9,
   "id": "50a71fd2",
   "metadata": {},
   "outputs": [],
   "source": [
    "df1 = pd.read_csv(path1)\n",
    "df2 = pd.read_csv(path2)\n",
    "#df3 = pd.read_csv(path3)\n",
    "cols = df2.columns"
   ]
  },
  {
   "cell_type": "code",
   "execution_count": 10,
   "id": "72afd63a",
   "metadata": {},
   "outputs": [
    {
     "data": {
      "text/html": [
       "<div>\n",
       "<style scoped>\n",
       "    .dataframe tbody tr th:only-of-type {\n",
       "        vertical-align: middle;\n",
       "    }\n",
       "\n",
       "    .dataframe tbody tr th {\n",
       "        vertical-align: top;\n",
       "    }\n",
       "\n",
       "    .dataframe thead th {\n",
       "        text-align: right;\n",
       "    }\n",
       "</style>\n",
       "<table border=\"1\" class=\"dataframe\">\n",
       "  <thead>\n",
       "    <tr style=\"text-align: right;\">\n",
       "      <th></th>\n",
       "      <th>Epoch</th>\n",
       "      <th>iou_loss</th>\n",
       "      <th>conf_loss</th>\n",
       "      <th>prob_loss</th>\n",
       "      <th>det_loss</th>\n",
       "      <th>val_iou_loss</th>\n",
       "      <th>val_conf_loss</th>\n",
       "      <th>val_prob_loss</th>\n",
       "      <th>val_det_loss</th>\n",
       "    </tr>\n",
       "  </thead>\n",
       "  <tbody>\n",
       "    <tr>\n",
       "      <th>0</th>\n",
       "      <td>0</td>\n",
       "      <td>8.138720</td>\n",
       "      <td>7.189119</td>\n",
       "      <td>24.999117</td>\n",
       "      <td>25.327486</td>\n",
       "      <td>8.012440</td>\n",
       "      <td>6.056312</td>\n",
       "      <td>18.979872</td>\n",
       "      <td>21.660689</td>\n",
       "    </tr>\n",
       "    <tr>\n",
       "      <th>1</th>\n",
       "      <td>1</td>\n",
       "      <td>7.722439</td>\n",
       "      <td>5.731323</td>\n",
       "      <td>19.716787</td>\n",
       "      <td>21.340477</td>\n",
       "      <td>7.645677</td>\n",
       "      <td>5.474788</td>\n",
       "      <td>17.612806</td>\n",
       "      <td>20.165577</td>\n",
       "    </tr>\n",
       "    <tr>\n",
       "      <th>2</th>\n",
       "      <td>2</td>\n",
       "      <td>7.420513</td>\n",
       "      <td>5.100078</td>\n",
       "      <td>16.395950</td>\n",
       "      <td>19.078971</td>\n",
       "      <td>7.486798</td>\n",
       "      <td>5.018266</td>\n",
       "      <td>15.829839</td>\n",
       "      <td>18.837008</td>\n",
       "    </tr>\n",
       "    <tr>\n",
       "      <th>3</th>\n",
       "      <td>3</td>\n",
       "      <td>7.262906</td>\n",
       "      <td>4.832157</td>\n",
       "      <td>14.908108</td>\n",
       "      <td>18.058307</td>\n",
       "      <td>7.346408</td>\n",
       "      <td>4.871049</td>\n",
       "      <td>15.092323</td>\n",
       "      <td>18.254402</td>\n",
       "    </tr>\n",
       "    <tr>\n",
       "      <th>4</th>\n",
       "      <td>4</td>\n",
       "      <td>7.162924</td>\n",
       "      <td>4.664859</td>\n",
       "      <td>13.935442</td>\n",
       "      <td>17.401960</td>\n",
       "      <td>7.317907</td>\n",
       "      <td>4.780109</td>\n",
       "      <td>14.657058</td>\n",
       "      <td>17.960847</td>\n",
       "    </tr>\n",
       "    <tr>\n",
       "      <th>5</th>\n",
       "      <td>5</td>\n",
       "      <td>7.081374</td>\n",
       "      <td>4.541059</td>\n",
       "      <td>13.198473</td>\n",
       "      <td>16.901822</td>\n",
       "      <td>7.261216</td>\n",
       "      <td>4.696033</td>\n",
       "      <td>14.318547</td>\n",
       "      <td>17.684663</td>\n",
       "    </tr>\n",
       "    <tr>\n",
       "      <th>6</th>\n",
       "      <td>6</td>\n",
       "      <td>7.022507</td>\n",
       "      <td>4.444889</td>\n",
       "      <td>12.592256</td>\n",
       "      <td>16.504299</td>\n",
       "      <td>7.240983</td>\n",
       "      <td>4.695819</td>\n",
       "      <td>14.131784</td>\n",
       "      <td>17.589513</td>\n",
       "    </tr>\n",
       "    <tr>\n",
       "      <th>7</th>\n",
       "      <td>7</td>\n",
       "      <td>6.970920</td>\n",
       "      <td>4.367171</td>\n",
       "      <td>12.105283</td>\n",
       "      <td>16.180204</td>\n",
       "      <td>7.209865</td>\n",
       "      <td>4.660301</td>\n",
       "      <td>14.135003</td>\n",
       "      <td>17.524178</td>\n",
       "    </tr>\n",
       "    <tr>\n",
       "      <th>8</th>\n",
       "      <td>8</td>\n",
       "      <td>6.936835</td>\n",
       "      <td>4.303400</td>\n",
       "      <td>11.688455</td>\n",
       "      <td>15.915617</td>\n",
       "      <td>7.184267</td>\n",
       "      <td>4.645589</td>\n",
       "      <td>14.437156</td>\n",
       "      <td>17.604731</td>\n",
       "    </tr>\n",
       "    <tr>\n",
       "      <th>9</th>\n",
       "      <td>9</td>\n",
       "      <td>6.897354</td>\n",
       "      <td>4.248504</td>\n",
       "      <td>11.324969</td>\n",
       "      <td>15.675846</td>\n",
       "      <td>7.180935</td>\n",
       "      <td>4.644007</td>\n",
       "      <td>14.122519</td>\n",
       "      <td>17.473939</td>\n",
       "    </tr>\n",
       "    <tr>\n",
       "      <th>10</th>\n",
       "      <td>10</td>\n",
       "      <td>6.865552</td>\n",
       "      <td>4.196439</td>\n",
       "      <td>11.022682</td>\n",
       "      <td>15.471064</td>\n",
       "      <td>7.191747</td>\n",
       "      <td>4.672834</td>\n",
       "      <td>14.118908</td>\n",
       "      <td>17.512130</td>\n",
       "    </tr>\n",
       "  </tbody>\n",
       "</table>\n",
       "</div>"
      ],
      "text/plain": [
       "    Epoch  iou_loss  conf_loss  prob_loss   det_loss  val_iou_loss  \\\n",
       "0       0  8.138720   7.189119  24.999117  25.327486      8.012440   \n",
       "1       1  7.722439   5.731323  19.716787  21.340477      7.645677   \n",
       "2       2  7.420513   5.100078  16.395950  19.078971      7.486798   \n",
       "3       3  7.262906   4.832157  14.908108  18.058307      7.346408   \n",
       "4       4  7.162924   4.664859  13.935442  17.401960      7.317907   \n",
       "5       5  7.081374   4.541059  13.198473  16.901822      7.261216   \n",
       "6       6  7.022507   4.444889  12.592256  16.504299      7.240983   \n",
       "7       7  6.970920   4.367171  12.105283  16.180204      7.209865   \n",
       "8       8  6.936835   4.303400  11.688455  15.915617      7.184267   \n",
       "9       9  6.897354   4.248504  11.324969  15.675846      7.180935   \n",
       "10     10  6.865552   4.196439  11.022682  15.471064      7.191747   \n",
       "\n",
       "    val_conf_loss  val_prob_loss  val_det_loss  \n",
       "0        6.056312      18.979872     21.660689  \n",
       "1        5.474788      17.612806     20.165577  \n",
       "2        5.018266      15.829839     18.837008  \n",
       "3        4.871049      15.092323     18.254402  \n",
       "4        4.780109      14.657058     17.960847  \n",
       "5        4.696033      14.318547     17.684663  \n",
       "6        4.695819      14.131784     17.589513  \n",
       "7        4.660301      14.135003     17.524178  \n",
       "8        4.645589      14.437156     17.604731  \n",
       "9        4.644007      14.122519     17.473939  \n",
       "10       4.672834      14.118908     17.512130  "
      ]
     },
     "execution_count": 10,
     "metadata": {},
     "output_type": "execute_result"
    }
   ],
   "source": [
    "df1.tail(15)"
   ]
  },
  {
   "cell_type": "code",
   "execution_count": 11,
   "id": "11123784",
   "metadata": {},
   "outputs": [
    {
     "data": {
      "text/html": [
       "<div>\n",
       "<style scoped>\n",
       "    .dataframe tbody tr th:only-of-type {\n",
       "        vertical-align: middle;\n",
       "    }\n",
       "\n",
       "    .dataframe tbody tr th {\n",
       "        vertical-align: top;\n",
       "    }\n",
       "\n",
       "    .dataframe thead th {\n",
       "        text-align: right;\n",
       "    }\n",
       "</style>\n",
       "<table border=\"1\" class=\"dataframe\">\n",
       "  <thead>\n",
       "    <tr style=\"text-align: right;\">\n",
       "      <th></th>\n",
       "      <th>Epoch</th>\n",
       "      <th>iou_loss</th>\n",
       "      <th>conf_loss</th>\n",
       "      <th>prob_loss</th>\n",
       "      <th>det_loss</th>\n",
       "      <th>val_iou_loss</th>\n",
       "      <th>val_conf_loss</th>\n",
       "      <th>val_prob_loss</th>\n",
       "      <th>val_det_loss</th>\n",
       "    </tr>\n",
       "  </thead>\n",
       "  <tbody>\n",
       "    <tr>\n",
       "      <th>5</th>\n",
       "      <td>5</td>\n",
       "      <td>7.073664</td>\n",
       "      <td>4.532859</td>\n",
       "      <td>13.133660</td>\n",
       "      <td>16.859987</td>\n",
       "      <td>7.251709</td>\n",
       "      <td>4.724141</td>\n",
       "      <td>14.444906</td>\n",
       "      <td>17.753806</td>\n",
       "    </tr>\n",
       "    <tr>\n",
       "      <th>6</th>\n",
       "      <td>6</td>\n",
       "      <td>7.016508</td>\n",
       "      <td>4.437546</td>\n",
       "      <td>12.550539</td>\n",
       "      <td>16.474270</td>\n",
       "      <td>7.225408</td>\n",
       "      <td>4.687167</td>\n",
       "      <td>14.231233</td>\n",
       "      <td>17.605067</td>\n",
       "    </tr>\n",
       "    <tr>\n",
       "      <th>7</th>\n",
       "      <td>7</td>\n",
       "      <td>6.962477</td>\n",
       "      <td>4.357327</td>\n",
       "      <td>12.068924</td>\n",
       "      <td>16.147374</td>\n",
       "      <td>7.211052</td>\n",
       "      <td>4.668532</td>\n",
       "      <td>14.200802</td>\n",
       "      <td>17.559903</td>\n",
       "    </tr>\n",
       "    <tr>\n",
       "      <th>8</th>\n",
       "      <td>8</td>\n",
       "      <td>6.924580</td>\n",
       "      <td>4.294205</td>\n",
       "      <td>11.653021</td>\n",
       "      <td>15.879993</td>\n",
       "      <td>7.205310</td>\n",
       "      <td>4.662647</td>\n",
       "      <td>14.199303</td>\n",
       "      <td>17.547675</td>\n",
       "    </tr>\n",
       "    <tr>\n",
       "      <th>9</th>\n",
       "      <td>9</td>\n",
       "      <td>6.891525</td>\n",
       "      <td>4.239513</td>\n",
       "      <td>11.311063</td>\n",
       "      <td>15.655464</td>\n",
       "      <td>7.173632</td>\n",
       "      <td>4.648997</td>\n",
       "      <td>14.156881</td>\n",
       "      <td>17.485391</td>\n",
       "    </tr>\n",
       "    <tr>\n",
       "      <th>10</th>\n",
       "      <td>10</td>\n",
       "      <td>6.860817</td>\n",
       "      <td>4.189743</td>\n",
       "      <td>10.988482</td>\n",
       "      <td>15.445954</td>\n",
       "      <td>7.163406</td>\n",
       "      <td>4.631660</td>\n",
       "      <td>14.180950</td>\n",
       "      <td>17.467431</td>\n",
       "    </tr>\n",
       "    <tr>\n",
       "      <th>11</th>\n",
       "      <td>11</td>\n",
       "      <td>6.832404</td>\n",
       "      <td>4.144828</td>\n",
       "      <td>10.683936</td>\n",
       "      <td>15.250807</td>\n",
       "      <td>7.155978</td>\n",
       "      <td>4.667036</td>\n",
       "      <td>14.382483</td>\n",
       "      <td>17.576005</td>\n",
       "    </tr>\n",
       "    <tr>\n",
       "      <th>12</th>\n",
       "      <td>12</td>\n",
       "      <td>6.811868</td>\n",
       "      <td>4.105135</td>\n",
       "      <td>10.414316</td>\n",
       "      <td>15.082730</td>\n",
       "      <td>7.145134</td>\n",
       "      <td>4.646183</td>\n",
       "      <td>13.938239</td>\n",
       "      <td>17.366600</td>\n",
       "    </tr>\n",
       "    <tr>\n",
       "      <th>13</th>\n",
       "      <td>13</td>\n",
       "      <td>6.792475</td>\n",
       "      <td>4.067929</td>\n",
       "      <td>10.172604</td>\n",
       "      <td>14.929446</td>\n",
       "      <td>7.157441</td>\n",
       "      <td>4.629713</td>\n",
       "      <td>13.801881</td>\n",
       "      <td>17.307922</td>\n",
       "    </tr>\n",
       "    <tr>\n",
       "      <th>14</th>\n",
       "      <td>14</td>\n",
       "      <td>6.775047</td>\n",
       "      <td>4.036999</td>\n",
       "      <td>9.947911</td>\n",
       "      <td>14.791210</td>\n",
       "      <td>7.182190</td>\n",
       "      <td>4.674436</td>\n",
       "      <td>13.970259</td>\n",
       "      <td>17.444737</td>\n",
       "    </tr>\n",
       "    <tr>\n",
       "      <th>15</th>\n",
       "      <td>15</td>\n",
       "      <td>6.759754</td>\n",
       "      <td>4.005126</td>\n",
       "      <td>9.738028</td>\n",
       "      <td>14.660091</td>\n",
       "      <td>7.222968</td>\n",
       "      <td>4.705099</td>\n",
       "      <td>14.348847</td>\n",
       "      <td>17.667613</td>\n",
       "    </tr>\n",
       "    <tr>\n",
       "      <th>16</th>\n",
       "      <td>16</td>\n",
       "      <td>6.740904</td>\n",
       "      <td>3.971847</td>\n",
       "      <td>9.503125</td>\n",
       "      <td>14.514000</td>\n",
       "      <td>7.171445</td>\n",
       "      <td>4.740116</td>\n",
       "      <td>14.461725</td>\n",
       "      <td>17.696230</td>\n",
       "    </tr>\n",
       "    <tr>\n",
       "      <th>17</th>\n",
       "      <td>17</td>\n",
       "      <td>6.729290</td>\n",
       "      <td>3.945607</td>\n",
       "      <td>9.323210</td>\n",
       "      <td>14.404181</td>\n",
       "      <td>7.154949</td>\n",
       "      <td>4.772240</td>\n",
       "      <td>14.307653</td>\n",
       "      <td>17.650259</td>\n",
       "    </tr>\n",
       "    <tr>\n",
       "      <th>18</th>\n",
       "      <td>18</td>\n",
       "      <td>6.720125</td>\n",
       "      <td>3.919305</td>\n",
       "      <td>9.137141</td>\n",
       "      <td>14.294286</td>\n",
       "      <td>7.174043</td>\n",
       "      <td>4.753838</td>\n",
       "      <td>14.249375</td>\n",
       "      <td>17.627642</td>\n",
       "    </tr>\n",
       "    <tr>\n",
       "      <th>19</th>\n",
       "      <td>19</td>\n",
       "      <td>6.706770</td>\n",
       "      <td>3.895194</td>\n",
       "      <td>8.968075</td>\n",
       "      <td>14.189193</td>\n",
       "      <td>7.179438</td>\n",
       "      <td>4.765211</td>\n",
       "      <td>14.755317</td>\n",
       "      <td>17.846763</td>\n",
       "    </tr>\n",
       "  </tbody>\n",
       "</table>\n",
       "</div>"
      ],
      "text/plain": [
       "    Epoch  iou_loss  conf_loss  prob_loss   det_loss  val_iou_loss  \\\n",
       "5       5  7.073664   4.532859  13.133660  16.859987      7.251709   \n",
       "6       6  7.016508   4.437546  12.550539  16.474270      7.225408   \n",
       "7       7  6.962477   4.357327  12.068924  16.147374      7.211052   \n",
       "8       8  6.924580   4.294205  11.653021  15.879993      7.205310   \n",
       "9       9  6.891525   4.239513  11.311063  15.655464      7.173632   \n",
       "10     10  6.860817   4.189743  10.988482  15.445954      7.163406   \n",
       "11     11  6.832404   4.144828  10.683936  15.250807      7.155978   \n",
       "12     12  6.811868   4.105135  10.414316  15.082730      7.145134   \n",
       "13     13  6.792475   4.067929  10.172604  14.929446      7.157441   \n",
       "14     14  6.775047   4.036999   9.947911  14.791210      7.182190   \n",
       "15     15  6.759754   4.005126   9.738028  14.660091      7.222968   \n",
       "16     16  6.740904   3.971847   9.503125  14.514000      7.171445   \n",
       "17     17  6.729290   3.945607   9.323210  14.404181      7.154949   \n",
       "18     18  6.720125   3.919305   9.137141  14.294286      7.174043   \n",
       "19     19  6.706770   3.895194   8.968075  14.189193      7.179438   \n",
       "\n",
       "    val_conf_loss  val_prob_loss  val_det_loss  \n",
       "5        4.724141      14.444906     17.753806  \n",
       "6        4.687167      14.231233     17.605067  \n",
       "7        4.668532      14.200802     17.559903  \n",
       "8        4.662647      14.199303     17.547675  \n",
       "9        4.648997      14.156881     17.485391  \n",
       "10       4.631660      14.180950     17.467431  \n",
       "11       4.667036      14.382483     17.576005  \n",
       "12       4.646183      13.938239     17.366600  \n",
       "13       4.629713      13.801881     17.307922  \n",
       "14       4.674436      13.970259     17.444737  \n",
       "15       4.705099      14.348847     17.667613  \n",
       "16       4.740116      14.461725     17.696230  \n",
       "17       4.772240      14.307653     17.650259  \n",
       "18       4.753838      14.249375     17.627642  \n",
       "19       4.765211      14.755317     17.846763  "
      ]
     },
     "execution_count": 11,
     "metadata": {},
     "output_type": "execute_result"
    }
   ],
   "source": [
    "df2.tail(15)"
   ]
  },
  {
   "cell_type": "code",
   "execution_count": 12,
   "id": "714638b6",
   "metadata": {},
   "outputs": [
    {
     "data": {
      "image/png": "[encoded data removed]",
      "text/plain": [
       "<Figure size 1080x720 with 10 Axes>"
      ]
     },
     "metadata": {
      "needs_background": "light"
     },
     "output_type": "display_data"
    }
   ],
   "source": [
    "fig,axes = plt.subplots(nrows=5,ncols =2,figsize=(15,10))\n",
    "plt.subplots_adjust(hspace=0.3)\n",
    "for ind,col in enumerate(cols):\n",
    "    try: axes[ind%5,ind//5].plot(df1[col])\n",
    "    except : 0\n",
    "    axes[ind%5,ind//5].plot(df2[col])\n",
    "    #axes[ind%5,ind//5].plot(df3[col])\n",
    "    \n",
    "    axes[ind%5,ind//5].set_title(col)\n",
    "    axes[ind%5,ind//5].grid()"
   ]
  },
  {
   "cell_type": "code",
   "execution_count": 7,
   "id": "598d05f3-194c-41dd-a6aa-ab90b00c64bb",
   "metadata": {},
   "outputs": [
    {
     "ename": "FileNotFoundError",
     "evalue": "[Errno 2] No such file or directory: 'logs/exp-LITE_224_V31_105_0005/loss_rate_matrix.csv'",
     "output_type": "error",
     "traceback": [
      "\u001b[0;31m---------------------------------------------------------------------------\u001b[0m",
      "\u001b[0;31mFileNotFoundError\u001b[0m                         Traceback (most recent call last)",
      "Input \u001b[0;32mIn [7]\u001b[0m, in \u001b[0;36m<module>\u001b[0;34m\u001b[0m\n\u001b[1;32m      1\u001b[0m path \u001b[38;5;241m=\u001b[39m \u001b[38;5;124m\"\u001b[39m\u001b[38;5;124mlogs/exp-LITE_224_V31_105_0005/loss_rate_matrix.csv\u001b[39m\u001b[38;5;124m\"\u001b[39m\n\u001b[0;32m----> 2\u001b[0m df \u001b[38;5;241m=\u001b[39m \u001b[43mpd\u001b[49m\u001b[38;5;241;43m.\u001b[39;49m\u001b[43mread_csv\u001b[49m\u001b[43m(\u001b[49m\u001b[43mpath\u001b[49m\u001b[43m)\u001b[49m\n",
      "File \u001b[0;32m~/Desktop/Mlops-Env/python_38/lib/python3.8/site-packages/pandas/util/_decorators.py:311\u001b[0m, in \u001b[0;36mdeprecate_nonkeyword_arguments.<locals>.decorate.<locals>.wrapper\u001b[0;34m(*args, **kwargs)\u001b[0m\n\u001b[1;32m    305\u001b[0m \u001b[38;5;28;01mif\u001b[39;00m \u001b[38;5;28mlen\u001b[39m(args) \u001b[38;5;241m>\u001b[39m num_allow_args:\n\u001b[1;32m    306\u001b[0m     warnings\u001b[38;5;241m.\u001b[39mwarn(\n\u001b[1;32m    307\u001b[0m         msg\u001b[38;5;241m.\u001b[39mformat(arguments\u001b[38;5;241m=\u001b[39marguments),\n\u001b[1;32m    308\u001b[0m         \u001b[38;5;167;01mFutureWarning\u001b[39;00m,\n\u001b[1;32m    309\u001b[0m         stacklevel\u001b[38;5;241m=\u001b[39mstacklevel,\n\u001b[1;32m    310\u001b[0m     )\n\u001b[0;32m--> 311\u001b[0m \u001b[38;5;28;01mreturn\u001b[39;00m \u001b[43mfunc\u001b[49m\u001b[43m(\u001b[49m\u001b[38;5;241;43m*\u001b[39;49m\u001b[43margs\u001b[49m\u001b[43m,\u001b[49m\u001b[43m \u001b[49m\u001b[38;5;241;43m*\u001b[39;49m\u001b[38;5;241;43m*\u001b[39;49m\u001b[43mkwargs\u001b[49m\u001b[43m)\u001b[49m\n",
      "File \u001b[0;32m~/Desktop/Mlops-Env/python_38/lib/python3.8/site-packages/pandas/io/parsers/readers.py:586\u001b[0m, in \u001b[0;36mread_csv\u001b[0;34m(filepath_or_buffer, sep, delimiter, header, names, index_col, usecols, squeeze, prefix, mangle_dupe_cols, dtype, engine, converters, true_values, false_values, skipinitialspace, skiprows, skipfooter, nrows, na_values, keep_default_na, na_filter, verbose, skip_blank_lines, parse_dates, infer_datetime_format, keep_date_col, date_parser, dayfirst, cache_dates, iterator, chunksize, compression, thousands, decimal, lineterminator, quotechar, quoting, doublequote, escapechar, comment, encoding, encoding_errors, dialect, error_bad_lines, warn_bad_lines, on_bad_lines, delim_whitespace, low_memory, memory_map, float_precision, storage_options)\u001b[0m\n\u001b[1;32m    571\u001b[0m kwds_defaults \u001b[38;5;241m=\u001b[39m _refine_defaults_read(\n\u001b[1;32m    572\u001b[0m     dialect,\n\u001b[1;32m    573\u001b[0m     delimiter,\n\u001b[0;32m   (...)\u001b[0m\n\u001b[1;32m    582\u001b[0m     defaults\u001b[38;5;241m=\u001b[39m{\u001b[38;5;124m\"\u001b[39m\u001b[38;5;124mdelimiter\u001b[39m\u001b[38;5;124m\"\u001b[39m: \u001b[38;5;124m\"\u001b[39m\u001b[38;5;124m,\u001b[39m\u001b[38;5;124m\"\u001b[39m},\n\u001b[1;32m    583\u001b[0m )\n\u001b[1;32m    584\u001b[0m kwds\u001b[38;5;241m.\u001b[39mupdate(kwds_defaults)\n\u001b[0;32m--> 586\u001b[0m \u001b[38;5;28;01mreturn\u001b[39;00m \u001b[43m_read\u001b[49m\u001b[43m(\u001b[49m\u001b[43mfilepath_or_buffer\u001b[49m\u001b[43m,\u001b[49m\u001b[43m \u001b[49m\u001b[43mkwds\u001b[49m\u001b[43m)\u001b[49m\n",
      "File \u001b[0;32m~/Desktop/Mlops-Env/python_38/lib/python3.8/site-packages/pandas/io/parsers/readers.py:482\u001b[0m, in \u001b[0;36m_read\u001b[0;34m(filepath_or_buffer, kwds)\u001b[0m\n\u001b[1;32m    479\u001b[0m _validate_names(kwds\u001b[38;5;241m.\u001b[39mget(\u001b[38;5;124m\"\u001b[39m\u001b[38;5;124mnames\u001b[39m\u001b[38;5;124m\"\u001b[39m, \u001b[38;5;28;01mNone\u001b[39;00m))\n\u001b[1;32m    481\u001b[0m \u001b[38;5;66;03m# Create the parser.\u001b[39;00m\n\u001b[0;32m--> 482\u001b[0m parser \u001b[38;5;241m=\u001b[39m \u001b[43mTextFileReader\u001b[49m\u001b[43m(\u001b[49m\u001b[43mfilepath_or_buffer\u001b[49m\u001b[43m,\u001b[49m\u001b[43m \u001b[49m\u001b[38;5;241;43m*\u001b[39;49m\u001b[38;5;241;43m*\u001b[39;49m\u001b[43mkwds\u001b[49m\u001b[43m)\u001b[49m\n\u001b[1;32m    484\u001b[0m \u001b[38;5;28;01mif\u001b[39;00m chunksize \u001b[38;5;129;01mor\u001b[39;00m iterator:\n\u001b[1;32m    485\u001b[0m     \u001b[38;5;28;01mreturn\u001b[39;00m parser\n",
      "File \u001b[0;32m~/Desktop/Mlops-Env/python_38/lib/python3.8/site-packages/pandas/io/parsers/readers.py:811\u001b[0m, in \u001b[0;36mTextFileReader.__init__\u001b[0;34m(self, f, engine, **kwds)\u001b[0m\n\u001b[1;32m    808\u001b[0m \u001b[38;5;28;01mif\u001b[39;00m \u001b[38;5;124m\"\u001b[39m\u001b[38;5;124mhas_index_names\u001b[39m\u001b[38;5;124m\"\u001b[39m \u001b[38;5;129;01min\u001b[39;00m kwds:\n\u001b[1;32m    809\u001b[0m     \u001b[38;5;28mself\u001b[39m\u001b[38;5;241m.\u001b[39moptions[\u001b[38;5;124m\"\u001b[39m\u001b[38;5;124mhas_index_names\u001b[39m\u001b[38;5;124m\"\u001b[39m] \u001b[38;5;241m=\u001b[39m kwds[\u001b[38;5;124m\"\u001b[39m\u001b[38;5;124mhas_index_names\u001b[39m\u001b[38;5;124m\"\u001b[39m]\n\u001b[0;32m--> 811\u001b[0m \u001b[38;5;28mself\u001b[39m\u001b[38;5;241m.\u001b[39m_engine \u001b[38;5;241m=\u001b[39m \u001b[38;5;28;43mself\u001b[39;49m\u001b[38;5;241;43m.\u001b[39;49m\u001b[43m_make_engine\u001b[49m\u001b[43m(\u001b[49m\u001b[38;5;28;43mself\u001b[39;49m\u001b[38;5;241;43m.\u001b[39;49m\u001b[43mengine\u001b[49m\u001b[43m)\u001b[49m\n",
      "File \u001b[0;32m~/Desktop/Mlops-Env/python_38/lib/python3.8/site-packages/pandas/io/parsers/readers.py:1040\u001b[0m, in \u001b[0;36mTextFileReader._make_engine\u001b[0;34m(self, engine)\u001b[0m\n\u001b[1;32m   1036\u001b[0m     \u001b[38;5;28;01mraise\u001b[39;00m \u001b[38;5;167;01mValueError\u001b[39;00m(\n\u001b[1;32m   1037\u001b[0m         \u001b[38;5;124mf\u001b[39m\u001b[38;5;124m\"\u001b[39m\u001b[38;5;124mUnknown engine: \u001b[39m\u001b[38;5;132;01m{\u001b[39;00mengine\u001b[38;5;132;01m}\u001b[39;00m\u001b[38;5;124m (valid options are \u001b[39m\u001b[38;5;132;01m{\u001b[39;00mmapping\u001b[38;5;241m.\u001b[39mkeys()\u001b[38;5;132;01m}\u001b[39;00m\u001b[38;5;124m)\u001b[39m\u001b[38;5;124m\"\u001b[39m\n\u001b[1;32m   1038\u001b[0m     )\n\u001b[1;32m   1039\u001b[0m \u001b[38;5;66;03m# error: Too many arguments for \"ParserBase\"\u001b[39;00m\n\u001b[0;32m-> 1040\u001b[0m \u001b[38;5;28;01mreturn\u001b[39;00m \u001b[43mmapping\u001b[49m\u001b[43m[\u001b[49m\u001b[43mengine\u001b[49m\u001b[43m]\u001b[49m\u001b[43m(\u001b[49m\u001b[38;5;28;43mself\u001b[39;49m\u001b[38;5;241;43m.\u001b[39;49m\u001b[43mf\u001b[49m\u001b[43m,\u001b[49m\u001b[43m \u001b[49m\u001b[38;5;241;43m*\u001b[39;49m\u001b[38;5;241;43m*\u001b[39;49m\u001b[38;5;28;43mself\u001b[39;49m\u001b[38;5;241;43m.\u001b[39;49m\u001b[43moptions\u001b[49m\u001b[43m)\u001b[49m\n",
      "File \u001b[0;32m~/Desktop/Mlops-Env/python_38/lib/python3.8/site-packages/pandas/io/parsers/c_parser_wrapper.py:51\u001b[0m, in \u001b[0;36mCParserWrapper.__init__\u001b[0;34m(self, src, **kwds)\u001b[0m\n\u001b[1;32m     48\u001b[0m kwds[\u001b[38;5;124m\"\u001b[39m\u001b[38;5;124musecols\u001b[39m\u001b[38;5;124m\"\u001b[39m] \u001b[38;5;241m=\u001b[39m \u001b[38;5;28mself\u001b[39m\u001b[38;5;241m.\u001b[39musecols\n\u001b[1;32m     50\u001b[0m \u001b[38;5;66;03m# open handles\u001b[39;00m\n\u001b[0;32m---> 51\u001b[0m \u001b[38;5;28;43mself\u001b[39;49m\u001b[38;5;241;43m.\u001b[39;49m\u001b[43m_open_handles\u001b[49m\u001b[43m(\u001b[49m\u001b[43msrc\u001b[49m\u001b[43m,\u001b[49m\u001b[43m \u001b[49m\u001b[43mkwds\u001b[49m\u001b[43m)\u001b[49m\n\u001b[1;32m     52\u001b[0m \u001b[38;5;28;01massert\u001b[39;00m \u001b[38;5;28mself\u001b[39m\u001b[38;5;241m.\u001b[39mhandles \u001b[38;5;129;01mis\u001b[39;00m \u001b[38;5;129;01mnot\u001b[39;00m \u001b[38;5;28;01mNone\u001b[39;00m\n\u001b[1;32m     54\u001b[0m \u001b[38;5;66;03m# Have to pass int, would break tests using TextReader directly otherwise :(\u001b[39;00m\n",
      "File \u001b[0;32m~/Desktop/Mlops-Env/python_38/lib/python3.8/site-packages/pandas/io/parsers/base_parser.py:222\u001b[0m, in \u001b[0;36mParserBase._open_handles\u001b[0;34m(self, src, kwds)\u001b[0m\n\u001b[1;32m    218\u001b[0m \u001b[38;5;28;01mdef\u001b[39;00m \u001b[38;5;21m_open_handles\u001b[39m(\u001b[38;5;28mself\u001b[39m, src: FilePathOrBuffer, kwds: \u001b[38;5;28mdict\u001b[39m[\u001b[38;5;28mstr\u001b[39m, Any]) \u001b[38;5;241m-\u001b[39m\u001b[38;5;241m>\u001b[39m \u001b[38;5;28;01mNone\u001b[39;00m:\n\u001b[1;32m    219\u001b[0m     \u001b[38;5;124;03m\"\"\"\u001b[39;00m\n\u001b[1;32m    220\u001b[0m \u001b[38;5;124;03m    Let the readers open IOHandles after they are done with their potential raises.\u001b[39;00m\n\u001b[1;32m    221\u001b[0m \u001b[38;5;124;03m    \"\"\"\u001b[39;00m\n\u001b[0;32m--> 222\u001b[0m     \u001b[38;5;28mself\u001b[39m\u001b[38;5;241m.\u001b[39mhandles \u001b[38;5;241m=\u001b[39m \u001b[43mget_handle\u001b[49m\u001b[43m(\u001b[49m\n\u001b[1;32m    223\u001b[0m \u001b[43m        \u001b[49m\u001b[43msrc\u001b[49m\u001b[43m,\u001b[49m\n\u001b[1;32m    224\u001b[0m \u001b[43m        \u001b[49m\u001b[38;5;124;43m\"\u001b[39;49m\u001b[38;5;124;43mr\u001b[39;49m\u001b[38;5;124;43m\"\u001b[39;49m\u001b[43m,\u001b[49m\n\u001b[1;32m    225\u001b[0m \u001b[43m        \u001b[49m\u001b[43mencoding\u001b[49m\u001b[38;5;241;43m=\u001b[39;49m\u001b[43mkwds\u001b[49m\u001b[38;5;241;43m.\u001b[39;49m\u001b[43mget\u001b[49m\u001b[43m(\u001b[49m\u001b[38;5;124;43m\"\u001b[39;49m\u001b[38;5;124;43mencoding\u001b[39;49m\u001b[38;5;124;43m\"\u001b[39;49m\u001b[43m,\u001b[49m\u001b[43m \u001b[49m\u001b[38;5;28;43;01mNone\u001b[39;49;00m\u001b[43m)\u001b[49m\u001b[43m,\u001b[49m\n\u001b[1;32m    226\u001b[0m \u001b[43m        \u001b[49m\u001b[43mcompression\u001b[49m\u001b[38;5;241;43m=\u001b[39;49m\u001b[43mkwds\u001b[49m\u001b[38;5;241;43m.\u001b[39;49m\u001b[43mget\u001b[49m\u001b[43m(\u001b[49m\u001b[38;5;124;43m\"\u001b[39;49m\u001b[38;5;124;43mcompression\u001b[39;49m\u001b[38;5;124;43m\"\u001b[39;49m\u001b[43m,\u001b[49m\u001b[43m \u001b[49m\u001b[38;5;28;43;01mNone\u001b[39;49;00m\u001b[43m)\u001b[49m\u001b[43m,\u001b[49m\n\u001b[1;32m    227\u001b[0m \u001b[43m        \u001b[49m\u001b[43mmemory_map\u001b[49m\u001b[38;5;241;43m=\u001b[39;49m\u001b[43mkwds\u001b[49m\u001b[38;5;241;43m.\u001b[39;49m\u001b[43mget\u001b[49m\u001b[43m(\u001b[49m\u001b[38;5;124;43m\"\u001b[39;49m\u001b[38;5;124;43mmemory_map\u001b[39;49m\u001b[38;5;124;43m\"\u001b[39;49m\u001b[43m,\u001b[49m\u001b[43m \u001b[49m\u001b[38;5;28;43;01mFalse\u001b[39;49;00m\u001b[43m)\u001b[49m\u001b[43m,\u001b[49m\n\u001b[1;32m    228\u001b[0m \u001b[43m        \u001b[49m\u001b[43mstorage_options\u001b[49m\u001b[38;5;241;43m=\u001b[39;49m\u001b[43mkwds\u001b[49m\u001b[38;5;241;43m.\u001b[39;49m\u001b[43mget\u001b[49m\u001b[43m(\u001b[49m\u001b[38;5;124;43m\"\u001b[39;49m\u001b[38;5;124;43mstorage_options\u001b[39;49m\u001b[38;5;124;43m\"\u001b[39;49m\u001b[43m,\u001b[49m\u001b[43m \u001b[49m\u001b[38;5;28;43;01mNone\u001b[39;49;00m\u001b[43m)\u001b[49m\u001b[43m,\u001b[49m\n\u001b[1;32m    229\u001b[0m \u001b[43m        \u001b[49m\u001b[43merrors\u001b[49m\u001b[38;5;241;43m=\u001b[39;49m\u001b[43mkwds\u001b[49m\u001b[38;5;241;43m.\u001b[39;49m\u001b[43mget\u001b[49m\u001b[43m(\u001b[49m\u001b[38;5;124;43m\"\u001b[39;49m\u001b[38;5;124;43mencoding_errors\u001b[39;49m\u001b[38;5;124;43m\"\u001b[39;49m\u001b[43m,\u001b[49m\u001b[43m \u001b[49m\u001b[38;5;124;43m\"\u001b[39;49m\u001b[38;5;124;43mstrict\u001b[39;49m\u001b[38;5;124;43m\"\u001b[39;49m\u001b[43m)\u001b[49m\u001b[43m,\u001b[49m\n\u001b[1;32m    230\u001b[0m \u001b[43m    \u001b[49m\u001b[43m)\u001b[49m\n",
      "File \u001b[0;32m~/Desktop/Mlops-Env/python_38/lib/python3.8/site-packages/pandas/io/common.py:702\u001b[0m, in \u001b[0;36mget_handle\u001b[0;34m(path_or_buf, mode, encoding, compression, memory_map, is_text, errors, storage_options)\u001b[0m\n\u001b[1;32m    697\u001b[0m \u001b[38;5;28;01melif\u001b[39;00m \u001b[38;5;28misinstance\u001b[39m(handle, \u001b[38;5;28mstr\u001b[39m):\n\u001b[1;32m    698\u001b[0m     \u001b[38;5;66;03m# Check whether the filename is to be opened in binary mode.\u001b[39;00m\n\u001b[1;32m    699\u001b[0m     \u001b[38;5;66;03m# Binary mode does not support 'encoding' and 'newline'.\u001b[39;00m\n\u001b[1;32m    700\u001b[0m     \u001b[38;5;28;01mif\u001b[39;00m ioargs\u001b[38;5;241m.\u001b[39mencoding \u001b[38;5;129;01mand\u001b[39;00m \u001b[38;5;124m\"\u001b[39m\u001b[38;5;124mb\u001b[39m\u001b[38;5;124m\"\u001b[39m \u001b[38;5;129;01mnot\u001b[39;00m \u001b[38;5;129;01min\u001b[39;00m ioargs\u001b[38;5;241m.\u001b[39mmode:\n\u001b[1;32m    701\u001b[0m         \u001b[38;5;66;03m# Encoding\u001b[39;00m\n\u001b[0;32m--> 702\u001b[0m         handle \u001b[38;5;241m=\u001b[39m \u001b[38;5;28;43mopen\u001b[39;49m\u001b[43m(\u001b[49m\n\u001b[1;32m    703\u001b[0m \u001b[43m            \u001b[49m\u001b[43mhandle\u001b[49m\u001b[43m,\u001b[49m\n\u001b[1;32m    704\u001b[0m \u001b[43m            \u001b[49m\u001b[43mioargs\u001b[49m\u001b[38;5;241;43m.\u001b[39;49m\u001b[43mmode\u001b[49m\u001b[43m,\u001b[49m\n\u001b[1;32m    705\u001b[0m \u001b[43m            \u001b[49m\u001b[43mencoding\u001b[49m\u001b[38;5;241;43m=\u001b[39;49m\u001b[43mioargs\u001b[49m\u001b[38;5;241;43m.\u001b[39;49m\u001b[43mencoding\u001b[49m\u001b[43m,\u001b[49m\n\u001b[1;32m    706\u001b[0m \u001b[43m            \u001b[49m\u001b[43merrors\u001b[49m\u001b[38;5;241;43m=\u001b[39;49m\u001b[43merrors\u001b[49m\u001b[43m,\u001b[49m\n\u001b[1;32m    707\u001b[0m \u001b[43m            \u001b[49m\u001b[43mnewline\u001b[49m\u001b[38;5;241;43m=\u001b[39;49m\u001b[38;5;124;43m\"\u001b[39;49m\u001b[38;5;124;43m\"\u001b[39;49m\u001b[43m,\u001b[49m\n\u001b[1;32m    708\u001b[0m \u001b[43m        \u001b[49m\u001b[43m)\u001b[49m\n\u001b[1;32m    709\u001b[0m     \u001b[38;5;28;01melse\u001b[39;00m:\n\u001b[1;32m    710\u001b[0m         \u001b[38;5;66;03m# Binary mode\u001b[39;00m\n\u001b[1;32m    711\u001b[0m         handle \u001b[38;5;241m=\u001b[39m \u001b[38;5;28mopen\u001b[39m(handle, ioargs\u001b[38;5;241m.\u001b[39mmode)\n",
      "\u001b[0;31mFileNotFoundError\u001b[0m: [Errno 2] No such file or directory: 'logs/exp-LITE_224_V31_105_0005/loss_rate_matrix.csv'"
     ]
    }
   ],
   "source": [
    "path = \"logs/exp-LITE_224_V31_105_0005/loss_rate_matrix.csv\"\n",
    "df = pd.read_csv(path)"
   ]
  },
  {
   "cell_type": "code",
   "execution_count": null,
   "id": "c9279814-9dfd-4875-ae82-38ea6a25844b",
   "metadata": {},
   "outputs": [],
   "source": [
    "alpha = 0.2\n",
    "rows  = 224\n",
    "url          = 'https://storage.googleapis.com/tensorflow/keras-applications/mobilenet_v2/'\n",
    "model_name   = ('mobilenet_v2_weights_tf_dim_ordering_tf_kernels_' +str(float(alpha)) + '_' + str(rows) + '.h5')\n",
    "weight_path  = url + model_name\n",
    "#weights_path = data_utils.get_file(model_name, weight_path, cache_subdir='models')"
   ]
  },
  {
   "cell_type": "code",
   "execution_count": null,
   "id": "4edcd975-33a3-451c-9967-509d592d2e8d",
   "metadata": {},
   "outputs": [],
   "source": [
    "weight_path"
   ]
  },
  {
   "cell_type": "code",
   "execution_count": null,
   "id": "7b3e8437-e3dd-4f57-badb-2838ceaea037",
   "metadata": {},
   "outputs": [],
   "source": [
    "from tensorflow.keras.models import load_model\n",
    "from tensorflow.keras.applications import MobileNetV2\n",
    "H = W = 160\n",
    "model = MobileNetV2(\n",
    "    input_shape=(H,W,3),\n",
    "    alpha=0.5,\n",
    "    include_top=True,\n",
    "    weights=\"imagenet\",\n",
    "    input_tensor=None,\n",
    "    pooling=None,\n",
    ")"
   ]
  },
  {
   "cell_type": "code",
   "execution_count": null,
   "id": "03c4cab6-e864-4bfb-8208-48011aab5800",
   "metadata": {},
   "outputs": [],
   "source": [
    "from tensorflow.keras.models import load_model\n",
    "from tensorflow.keras.applications import MobileNetV2\n",
    "H = W = 160\n",
    "model = MobileNetV2(\n",
    "    input_shape=(H,W,3),\n",
    "    alpha=0.5,\n",
    "    include_top=True,\n",
    "    weights=\"imagenet\",\n",
    "    input_tensor=None,\n",
    "    pooling=None,\n",
    ")\n",
    "#model.load_weights(f'model_data/mobilenet_v2_weights_tf_dim_ordering_tf_kernels_0.5_{H}.h5')\n",
    "model.save(f'model_data/mobilenet_v2_0.5_{H}_mod.h5')"
   ]
  },
  {
   "cell_type": "code",
   "execution_count": null,
   "id": "20d756aa-d7e8-47df-b9ff-2a02420c9fcc",
   "metadata": {},
   "outputs": [],
   "source": [
    "#model.summary()"
   ]
  },
  {
   "cell_type": "code",
   "execution_count": null,
   "id": "8d2f3adc-0a8b-4d62-af7c-6173bc5d9914",
   "metadata": {},
   "outputs": [],
   "source": [
    "fig = plt.figure(figsize=(20,4))\n",
    "plt.plot(df.loc[2000:,'0'])\n",
    "plt.plot(df.loc[2000:,'1'])"
   ]
  },
  {
   "cell_type": "code",
   "execution_count": null,
   "id": "a304cc37-e846-4982-b72f-d968e2423499",
   "metadata": {},
   "outputs": [],
   "source": []
  },
  {
   "cell_type": "code",
   "execution_count": null,
   "id": "2917d4b2",
   "metadata": {},
   "outputs": [],
   "source": [
    "import pandas as  pd\n",
    "import numpy as np\n",
    "path = \"E:/Deep-Learning-For-Robotics/DeepDetect-aux/logs/exp-321/loss_rate_matrix.csv\"\n",
    "df = pd.read_csv(path)"
   ]
  },
  {
   "cell_type": "code",
   "execution_count": null,
   "id": "38456ba3-26c1-4439-9e36-6e913a976c0b",
   "metadata": {},
   "outputs": [],
   "source": [
    "#!pip install dnspython\n",
    "import dns.resolver\n",
    "  \n",
    "# Finding A record\n",
    "result = dns.resolver.query('geeksforgeeks.org', 'A')\n",
    "  \n",
    "# Printing record\n",
    "for val in result:\n",
    "    print('A Record : ', val.to_text())"
   ]
  },
  {
   "cell_type": "code",
   "execution_count": null,
   "id": "f1d728a8",
   "metadata": {},
   "outputs": [],
   "source": [
    "from matplotlib import pyplot as plt\n",
    "\n",
    "def norm(x):\n",
    "    _mean = x.mean()\n",
    "    _min = x.min()\n",
    "    _max = x.max()\n",
    "    x = x/_max\n",
    "    return x\n",
    "\n",
    "def moving_average(x, w):\n",
    "    return np.convolve(x, np.ones(w), 'valid') / w\n",
    "\n",
    "def prep(x):\n",
    "    x = norm(x)\n",
    "    x = moving_average(x,50)\n",
    "    return x\n",
    "\n",
    "fig,axes = plt.subplots(nrows=5,ncols=1,figsize=(20,16))\n",
    "A = 1000; B= 5000\n",
    "axes[0].plot(prep(df.det_loss[A:B]))\n",
    "axes[0].plot(prep(df.det_std[A:B]))\n",
    "\n",
    "\n",
    "axes[1].plot(prep(df.seg_loss[A:B]))\n",
    "axes[1].plot(prep(df.seg_std[A:B]))\n",
    "\n",
    "det_ratio = prep(df.det_std[A:B]/df.det_loss[A:B])\n",
    "seg_ratio = prep(df.seg_std[A:B]/df.seg_loss[A:B])\n",
    "axes[2].plot(det_ratio)\n",
    "axes[2].plot(seg_ratio)\n",
    "axes[2].plot(seg_ratio/det_ratio)\n",
    "\n",
    "axes[3].plot(prep(df.det_loss[A:B]))\n",
    "axes[3].plot(prep(df.seg_loss[A:B]))\n",
    "\n",
    "#axes[3].plot(prep(df.det_std[A:B]))\n",
    "#axes[3].plot(prep(df.seg_std[A:B]))"
   ]
  },
  {
   "cell_type": "code",
   "execution_count": null,
   "id": "b909007a",
   "metadata": {},
   "outputs": [],
   "source": [
    "import pandas as pd\n",
    "from matplotlib import pyplot as plt\n",
    "from tqdm import trange\n",
    "import numpy as np"
   ]
  },
  {
   "cell_type": "code",
   "execution_count": null,
   "id": "4da49d54",
   "metadata": {},
   "outputs": [],
   "source": [
    "path1 = \"E:/Deep-Learning-For-Robotics/DeepDetect-aux/logs/exp-331/sample_loss_det.csv\"\n",
    "df1 = pd.read_csv(path1)\n",
    "path2 = \"E:/Deep-Learning-For-Robotics/DeepDetect-aux/logs/exp-331/sample_loss_seg.csv\"\n",
    "df2 = pd.read_csv(path2)\n",
    "def norm(x):\n",
    "    _mean = x.mean()\n",
    "    _min = x.min()\n",
    "    _max = x.max()\n",
    "    x = x/_max\n",
    "    return x\n",
    "\n",
    "def mva(x, w):\n",
    "    return np.convolve(x, np.ones(w), 'valid') / w\n",
    "\n",
    "def prep(x):\n",
    "    #x = norm(x)\n",
    "    #x = moving_average(x,50)\n",
    "    return x\n",
    "confs1 =[]\n",
    "confs2 =[]\n",
    "#for i in range(1834,len(df),1833):\n",
    "def calc_stats(_df,_m):\n",
    "    means=[]\n",
    "    stds=[]\n",
    "    for i in trange(1833,len(_df)):\n",
    "        #fig,axes = plt.subplots(nrows=2,ncols=1,figsize=(20,4))\n",
    "        cols = df1.columns[1:]\n",
    "        _mean   = _df.loc[i-100:i,cols].mean()\n",
    "        losses  = _df.loc[i,cols]/_m #/ _mean\n",
    "        means   += [losses.mean()]\n",
    "        stds    += [losses.std()]\n",
    "    means = np.array(means)\n",
    "    stds = np.array(stds)\n",
    "    ratio = means/stds\n",
    "    return means,stds,ratio"
   ]
  },
  {
   "cell_type": "code",
   "execution_count": null,
   "id": "13b8dec1",
   "metadata": {},
   "outputs": [],
   "source": [
    "m1,m2 = df1.loc[:1833:,df1.columns[1:]].values.mean(), df2.loc[:1833,df2.columns[1:]].values.mean()\n",
    "det_mean,det_std,det_ratio = calc_stats(df1,m1)\n",
    "seg_mean,seg_std,seg_ratio = calc_stats(df2,m2)"
   ]
  },
  {
   "cell_type": "code",
   "execution_count": null,
   "id": "0c3883a4",
   "metadata": {},
   "outputs": [],
   "source": [
    "fig,axes = plt.subplots(nrows=1,ncols=2,figsize=(20,3))\n",
    "axes[0].plot(mva(det_mean,1))\n",
    "axes[0].plot(mva(det_mean,100))\n",
    "\n",
    "axes[1].plot(mva(det_std,1))\n",
    "axes[1].plot(mva(det_std,100))\n",
    "\n",
    "fig,axes = plt.subplots(nrows=1,ncols=2,figsize=(20,3))\n",
    "axes[0].plot(mva(seg_mean,1))\n",
    "axes[0].plot(mva(seg_mean,100))\n",
    "\n",
    "\n",
    "axes[1].plot(mva(seg_std,1))\n",
    "axes[1].plot(mva(seg_std,100))\n",
    "\n",
    "\n",
    "fig,axes = plt.subplots(nrows=1,ncols=2,figsize=(20,3))\n",
    "std_ratio = seg_mean/det_mean\n",
    "axes[0].plot(mva(std_ratio,1))\n",
    "axes[0].plot(mva(std_ratio,100))\n",
    "\n",
    "std_ratio = seg_std/det_std\n",
    "axes[1].plot(mva(std_ratio,1))\n",
    "axes[1].plot(mva(std_ratio,100))\n",
    "plt.show()\n",
    "\n",
    "\n",
    "#plt.plot(stds)"
   ]
  },
  {
   "cell_type": "code",
   "execution_count": null,
   "id": "c1d89c59",
   "metadata": {},
   "outputs": [],
   "source": [
    "plt.plot(np.array(confs1)/np.array(confs2))"
   ]
  },
  {
   "cell_type": "code",
   "execution_count": null,
   "id": "4792a2e4",
   "metadata": {},
   "outputs": [],
   "source": [
    "import tensorflow as tf\n",
    "import pandas as pd\n",
    "from matplotlib import pyplot as plt\n",
    "from tqdm import trange\n",
    "import numpy as np\n",
    "\n",
    "path1 = \"E:/Deep-Learning-For-Robotics/DeepDetect-aux/logs/exp-341/sample_loss_det.csv\"\n",
    "df1 = pd.read_csv(path1)\n",
    "path2 = \"E:/Deep-Learning-For-Robotics/DeepDetect-aux/logs/exp-341/sample_loss_seg.csv\"\n",
    "df2 = pd.read_csv(path2)\n",
    "def norm(x):\n",
    "    _mean = x.mean()\n",
    "    _min = x.min()\n",
    "    _max = x.max()\n",
    "    x = x/_max\n",
    "    return x\n",
    "\n",
    "def mva(x, w):\n",
    "    return np.convolve(x, np.ones(w), 'valid') / w\n",
    "\n",
    "def prep(x):\n",
    "    #x = norm(x)\n",
    "    #x = moving_average(x,50)\n",
    "    return x\n",
    "confs1 =[]\n",
    "confs2 =[]\n",
    "#for i in range(1834,len(df),1833):\n",
    "def calc_stats(_df1,_df2):\n",
    "    csims=[]\n",
    "    stds =[]\n",
    "    kls  =[]\n",
    "    vis =0\n",
    "    for i in trange(0,1000):\n",
    "        cols = df1.columns[1:]\n",
    "        smp1 = _df1.loc[i,cols]\n",
    "        smp_loss1 = smp1 / smp1.max()\n",
    "        y1, x1 = np.histogram(smp_loss1)\n",
    "        x1 = x1[:-1]\n",
    "        \n",
    "        smp2 = _df2.loc[i,cols]\n",
    "        smp_loss2 = smp2 / smp2.max()\n",
    "        y2, x2 = np.histogram(smp_loss2)\n",
    "        x2 = x2[:-1]\n",
    "        if vis:\n",
    "            fig,axes = plt.subplots(nrows=1,ncols=2,figsize=(15,3))\n",
    "            axes[0].plot(smp_loss1)\n",
    "            axes[0].plot(smp_loss2)\n",
    "            axes[0].set_xticks(range(0,64,4))\n",
    "            #axes[0].set_xticklabels(range(0,64,4),rotation=90)\n",
    "\n",
    "            axes[1].plot(x1,y1)\n",
    "            #axes[1].plot(x1,np.log2(y1+0.0001))\n",
    "            axes[1].plot(x2,y2)\n",
    "            #plt.show()\n",
    "        smp_loss1 = np.array(smp_loss1.values,dtype=np.float32)\n",
    "        smp_loss2 = np.array(smp_loss2.values,dtype=np.float32)\n",
    "        csim = -tf.keras.losses.CosineSimilarity()(smp_loss1,smp_loss2).numpy()\n",
    "        csims+=[csim]\n",
    "        std = smp_loss2.std()/smp_loss1.std()\n",
    "        stds+=[std]\n",
    "        kl = tf.keras.losses.KLDivergence()(smp_loss1,smp_loss2).numpy()\n",
    "        kls +=[kl]\n",
    "        #print(csim)\n",
    "    return csims,stds, kls"
   ]
  },
  {
   "cell_type": "code",
   "execution_count": null,
   "id": "0b8906ea",
   "metadata": {},
   "outputs": [],
   "source": [
    "#_,_,_=calc_stats(df1,df2)\n",
    "csims,stds,kls = calc_stats(df1,df2)"
   ]
  },
  {
   "cell_type": "code",
   "execution_count": null,
   "id": "7d06d289",
   "metadata": {},
   "outputs": [],
   "source": [
    "fig = plt.figure(figsize=(15,6))\n",
    "plt.plot(csims[:10000],alpha = 0.5)\n",
    "plt.plot(mva(csims[:10000],100))\n",
    "plt.grid()"
   ]
  },
  {
   "cell_type": "code",
   "execution_count": null,
   "id": "4b755865",
   "metadata": {},
   "outputs": [],
   "source": [
    "fig = plt.figure(figsize=(20,6))\n",
    "plt.plot(kls[:10000],alpha = 0.5)\n",
    "plt.plot(mva(kls[:10000],100))\n",
    "plt.grid()"
   ]
  },
  {
   "cell_type": "code",
   "execution_count": null,
   "id": "e9c70d20",
   "metadata": {},
   "outputs": [],
   "source": [
    "cc = mva(csims[:],1)\n",
    "kk = mva(kls[:],1)"
   ]
  },
  {
   "cell_type": "code",
   "execution_count": null,
   "id": "a7b4c291",
   "metadata": {},
   "outputs": [],
   "source": [
    "fig,axes= plt.subplots(nrows=3,ncols=1,figsize=(15,10))\n",
    "axes[0].plot(norm(cc))\n",
    "axes[0].grid()\n",
    "axes[1].plot(1- kk/100)\n",
    "axes[1].grid()\n",
    "axes[2].plot(norm(cc))\n",
    "axes[2].plot(norm(kk))\n",
    "axes[2].grid()"
   ]
  },
  {
   "cell_type": "code",
   "execution_count": null,
   "id": "a3145d57",
   "metadata": {},
   "outputs": [],
   "source": [
    "kk.max(), kk.min()"
   ]
  },
  {
   "cell_type": "code",
   "execution_count": null,
   "id": "03098888",
   "metadata": {},
   "outputs": [],
   "source": [
    "fig = plt.figure(figsize=(20,6))\n",
    "plt.plot(stds[:10000],alpha = 0.5)\n",
    "plt.plot(mva(stds[:10000],100))\n",
    "plt.grid()"
   ]
  },
  {
   "cell_type": "code",
   "execution_count": null,
   "id": "8c209643",
   "metadata": {},
   "outputs": [],
   "source": [
    "def df_to_table(_df):\n",
    "    cols = _df.columns.tolist()\n",
    "    table_str = []\n",
    "    color_str = [['lightgray']*len(cols)]*len(_df)\n",
    "    color_str = np.array(color_str,dtype=np.object)\n",
    "    color_str[:,0] = 'lightsalmon'\n",
    "    col_widths = [0.1]+[0.3]*(len(_df.columns)-1)\n",
    "    def func(x):\n",
    "        x = round(x,4)\n",
    "        x = str(x)\n",
    "        return x\n",
    "    for ind,row in _df.iterrows():\n",
    "        table_str += [list(map(func,row))]\n",
    "        \n",
    "    fig,axes = plt.subplots(nrows=1,ncols=1,figsize=(25,10))\n",
    "    tbl = axes.table(table_str,\n",
    "                     bbox=[0,0,1,1],\n",
    "                     cellColours=color_str,\n",
    "                     colColours=['lightblue']*len(cols),\n",
    "                     colLabels=_df.columns.tolist(),\n",
    "                     colWidths=col_widths)\n",
    "    axes.axis('tight')\n",
    "    axes.axis('off')\n",
    "    tbl.auto_set_font_size(False)\n",
    "    tbl.set_fontsize(14)\n",
    "    return tbl,fig"
   ]
  },
  {
   "cell_type": "code",
   "execution_count": null,
   "id": "9bd1da86",
   "metadata": {},
   "outputs": [],
   "source": [
    "df_to_table(df1)\n",
    "#df_to_table(df2)"
   ]
  },
  {
   "cell_type": "code",
   "execution_count": null,
   "id": "96efeccf",
   "metadata": {},
   "outputs": [],
   "source": [
    "import cv2\n",
    "img = cv2.imread('sat-map.jpg')"
   ]
  },
  {
   "cell_type": "code",
   "execution_count": null,
   "id": "3430b207",
   "metadata": {},
   "outputs": [],
   "source": [
    "plt.imshow(img)"
   ]
  },
  {
   "cell_type": "code",
   "execution_count": null,
   "id": "9ff8746b",
   "metadata": {},
   "outputs": [],
   "source": []
  },
  {
   "cell_type": "code",
   "execution_count": null,
   "id": "db0028ac",
   "metadata": {},
   "outputs": [],
   "source": [
    "label = np.ones((64,32,32,80))"
   ]
  },
  {
   "cell_type": "code",
   "execution_count": null,
   "id": "26f25e9f",
   "metadata": {},
   "outputs": [],
   "source": [
    "label[:,:,:,super_cats[cat]].max(axis=-1).shape"
   ]
  },
  {
   "cell_type": "code",
   "execution_count": null,
   "id": "dfac171c",
   "metadata": {},
   "outputs": [],
   "source": [
    "super_cats"
   ]
  },
  {
   "cell_type": "code",
   "execution_count": null,
   "id": "38ae57b3",
   "metadata": {},
   "outputs": [],
   "source": [
    "!cp -r ../DeepDetect-aux/*py ../../Deep-Learning-For-Robotics-I/DeepDetect-aux/\n",
    "!cp -r ../DeepDetect-aux/*ipynb ../../Deep-Learning-For-Robotics-I/DeepDetect-aux/\n",
    "!cp -r ../DeepDetect-aux/*sh./../Deep-Learning-For-Robotics-I/DeepDetect-aux/\n",
    "!cp -r ../DeepDetect-aux/yolo ../../Deep-Learning-For-Robotics-I/DeepDetect-aux/\n",
    "!cp -r ../DeepDetect-aux/applications ../../Deep-Learning-For-Robotics-I/DeepDetect-aux/\n",
    "\n",
    "!cd ../ && git add DeepDetect-aux/*ipynb\n",
    "!cd git add DeepDetect-aux/*py\n",
    "!cd git add DeepDetect-aux/yolo\n",
    "!cd git add DeepDetect-aux/*sh\n",
    "!cd git commit -m \"saving working code - v1.0\"\n",
    "!cd git push origin master\n",
    "\n",
    "!cd ../../Deep-Learning-For-Robotics-I/ && git add DeepDetect-aux/*ipynb\n",
    "!cd ../../Deep-Learning-For-Robotics-I/ && git add DeepDetect-aux/applications/*py\n",
    "!cd ../../Deep-Learning-For-Robotics-I/ && git add DeepDetect-aux/*py\n",
    "!cd ../../Deep-Learning-For-Robotics-I/ && git add DeepDetect-aux/yolo\n",
    "!cd ../../Deep-Learning-For-Robotics-I/ && git add DeepDetect-aux/*sh\n",
    "!cd ../../Deep-Learning-For-Robotics-I/ && git commit -m \"saving progress\"\n",
    "!cd ../../Deep-Learning-For-Robotics-I/ && git push origin master"
   ]
  },
  {
   "cell_type": "code",
   "execution_count": null,
   "id": "8349065f-fc94-431d-b455-a3f73cd7a8c9",
   "metadata": {},
   "outputs": [],
   "source": [
    "#!cd ../../Deep-Learning-For-Robotics-I/ && git pull origin master"
   ]
  },
  {
   "cell_type": "code",
   "execution_count": null,
   "id": "b254deb5-240f-4ebd-8dbe-5a087749116c",
   "metadata": {},
   "outputs": [],
   "source": [
    "import tensorflow as tf\n"
   ]
  },
  {
   "cell_type": "code",
   "execution_count": null,
   "id": "fcf7a676-59e2-41e7-b103-38fed80ca264",
   "metadata": {},
   "outputs": [],
   "source": [
    "__version__ = 1.0"
   ]
  },
  {
   "cell_type": "code",
   "execution_count": null,
   "id": "ae793d1d-1573-4977-9456-e3a3aa9badcd",
   "metadata": {},
   "outputs": [],
   "source": [
    "__version__"
   ]
  },
  {
   "cell_type": "code",
   "execution_count": null,
   "id": "9d879fea-701b-4f53-a2e0-554ecea72728",
   "metadata": {
    "scrolled": true,
    "tags": []
   },
   "outputs": [],
   "source": [
    "tf.nn.sigmoid(0.0)"
   ]
  },
  {
   "cell_type": "code",
   "execution_count": null,
   "id": "67c11a9c-3c41-4365-9619-15d7f9aa37fc",
   "metadata": {},
   "outputs": [],
   "source": [
    "import tensorflow as tf\n",
    "output_size = 5\n",
    "batch_size = 3\n",
    "y = tf.range(output_size, dtype=tf.int32)\n",
    "y = tf.expand_dims(y, -1)\n",
    "y = tf.tile(y, [1, output_size])\n",
    "x = tf.range(output_size,dtype=tf.int32)\n",
    "x = tf.expand_dims(x, 0)\n",
    "x = tf.tile(x, [output_size, 1])\n",
    "\n",
    "xy_grid = tf.concat([x[:, :, tf.newaxis], y[:, :, tf.newaxis]], axis=-1)\n",
    "xy_grid = tf.tile(xy_grid[tf.newaxis, :, :, tf.newaxis, :], [batch_size, 1, 1, 3, 1])\n",
    "xy_grid = tf.cast(xy_grid, tf.float32)\n",
    "\n",
    " Calculate the center position of the prediction box:\n",
    "pred_xy = (tf.sigmoid(conv_raw_dxdy) + xy_grid) * STRIDES[i]\n",
    "# Calculate the length and width of the prediction box:\n",
    "pred_wh = (tf.exp(conv_raw_dwdh) * ANCHORS[i]) * STRIDES[i]\n"
   ]
  },
  {
   "cell_type": "code",
   "execution_count": null,
   "id": "d4fccac4-46e1-46d4-bd4a-689887350b48",
   "metadata": {},
   "outputs": [],
   "source": [
    "import numpy as np"
   ]
  },
  {
   "cell_type": "code",
   "execution_count": null,
   "id": "08efaf7c-939e-4673-943e-60f0d3fc1246",
   "metadata": {},
   "outputs": [],
   "source": [
    "np.log(np.array([-1,0,1,2,3])+np.array([0,1,0,0,0]))"
   ]
  },
  {
   "cell_type": "code",
   "execution_count": null,
   "id": "48a786c1-351e-4cd8-87a1-8c7f00ed7cb0",
   "metadata": {},
   "outputs": [],
   "source": [
    "np.exp(0.0000000001)"
   ]
  },
  {
   "cell_type": "code",
   "execution_count": null,
   "id": "1f9e8751-0054-4dd2-8f88-18a89885572c",
   "metadata": {},
   "outputs": [],
   "source": [
    "box1 = [0,0,10,10]\n",
    "box2 = [5,5,15,15]"
   ]
  },
  {
   "cell_type": "code",
   "execution_count": null,
   "id": "cbbd39f2-2c24-42e4-87a1-6a7fb05fa935",
   "metadata": {},
   "outputs": [],
   "source": [
    "def bbox_iou(box1, box2, xywh=True, GIoU=False, DIoU=False, CIoU=False, eps=1e-7):\n",
    "    # Returns Intersection over Union (IoU) of box1(1,4) to box2(n,4)\n",
    "\n",
    "    # Get the coordinates of bounding boxes\n",
    "    if xywh:  # transform from xywh to xyxy\n",
    "        (x1, y1, w1, h1), (x2, y2, w2, h2) = box1.chunk(4, 1), box2.chunk(4, 1)\n",
    "        w1_, h1_, w2_, h2_ = w1 / 2, h1 / 2, w2 / 2, h2 / 2\n",
    "        b1_x1, b1_x2, b1_y1, b1_y2 = x1 - w1_, x1 + w1_, y1 - h1_, y1 + h1_\n",
    "        b2_x1, b2_x2, b2_y1, b2_y2 = x2 - w2_, x2 + w2_, y2 - h2_, y2 + h2_\n",
    "    else:  # x1, y1, x2, y2 = box1\n",
    "        b1_x1, b1_y1, b1_x2, b1_y2 = box1.chunk(4, 1)\n",
    "        b2_x1, b2_y1, b2_x2, b2_y2 = box2.chunk(4, 1)\n",
    "        w1, h1 = b1_x2 - b1_x1, b1_y2 - b1_y1 + eps\n",
    "        w2, h2 = b2_x2 - b2_x1, b2_y2 - b2_y1 + eps\n",
    "\n",
    "    # Intersection area\n",
    "    inter = (torch.min(b1_x2, b2_x2) - torch.max(b1_x1, b2_x1)).clamp(0) * \\\n",
    "            (torch.min(b1_y2, b2_y2) - torch.max(b1_y1, b2_y1)).clamp(0)\n",
    "\n",
    "    # Union Area\n",
    "    union = w1 * h1 + w2 * h2 - inter + eps\n",
    "\n",
    "    # IoU\n",
    "    iou = inter / union\n",
    "    if CIoU or DIoU or GIoU:\n",
    "        cw = torch.max(b1_x2, b2_x2) - torch.min(b1_x1, b2_x1)  # convex (smallest enclosing box) width\n",
    "        ch = torch.max(b1_y2, b2_y2) - torch.min(b1_y1, b2_y1)  # convex height\n",
    "        if CIoU or DIoU:  # Distance or Complete IoU https://arxiv.org/abs/1911.08287v1\n",
    "            c2 = cw ** 2 + ch ** 2 + eps  # convex diagonal squared\n",
    "            rho2 = ((b2_x1 + b2_x2 - b1_x1 - b1_x2) ** 2 + (b2_y1 + b2_y2 - b1_y1 - b1_y2) ** 2) / 4  # center dist ** 2\n",
    "            if CIoU:  # https://github.com/Zzh-tju/DIoU-SSD-pytorch/blob/master/utils/box/box_utils.py#L47\n",
    "                v = (4 / math.pi ** 2) * torch.pow(torch.atan(w2 / h2) - torch.atan(w1 / h1), 2)\n",
    "                with torch.no_grad():\n",
    "                    alpha = v / (v - iou + (1 + eps))\n",
    "                return iou - (rho2 / c2 + v * alpha)  # CIoU\n",
    "            return iou - rho2 / c2  # DIoU\n",
    "        c_area = cw * ch + eps  # convex area\n",
    "        return iou - (c_area - union) / c_area  # GIoU https://arxiv.org/pdf/1902.09630.pdf\n",
    "    return iou  # IoU\n",
    "\n"
   ]
  },
  {
   "cell_type": "code",
   "execution_count": null,
   "id": "b74673bd-9fa5-4c94-8608-9889fc1f2df7",
   "metadata": {},
   "outputs": [],
   "source": [
    "anc = [[[10,  14], [23,   27], [37,   58]],\n",
    "[[81,  82], [135, 169], [344, 319]],\n",
    "[[0,    0], [0,     0], [0,     0]]]"
   ]
  },
  {
   "cell_type": "code",
   "execution_count": null,
   "id": "702496e5-c441-49dc-8407-197276caf025",
   "metadata": {},
   "outputs": [],
   "source": [
    "import numpy as np\n",
    "np.array(anc)/416.0"
   ]
  },
  {
   "cell_type": "code",
   "execution_count": null,
   "id": "da53daa6-f7df-48ae-85d0-134363600a10",
   "metadata": {},
   "outputs": [],
   "source": [
    "[[[0.02403846, 0.03365385], [0.05528846, 0.06490385],[0.08894231, 0.13942308]],\n",
    "[[0.19471154, 0.19711538], [0.32451923, 0.40625   ],[0.82692308, 0.76682692]],\n",
    "[[0.        , 0.        ], [0.        , 0.        ],[0.        , 0.        ]]]"
   ]
  },
  {
   "cell_type": "code",
   "execution_count": null,
   "id": "c2366600-69fc-4216-8e25-a8148acbf5f1",
   "metadata": {},
   "outputs": [],
   "source": [
    "import numpy as np\n",
    "import tensorflow as tf"
   ]
  },
  {
   "cell_type": "code",
   "execution_count": null,
   "id": "e235cc0b-f330-45ac-8c21-ff1653df585f",
   "metadata": {},
   "outputs": [],
   "source": [
    "x = np.linspace(-1,2,100)"
   ]
  },
  {
   "cell_type": "code",
   "execution_count": null,
   "id": "8d386ae1-fa3a-457c-a00d-79ad2f98d62d",
   "metadata": {},
   "outputs": [],
   "source": [
    "from matplotlib import pyplot as plt"
   ]
  },
  {
   "cell_type": "code",
   "execution_count": null,
   "id": "7bea7bef-91e2-4914-830b-be38672ee50d",
   "metadata": {},
   "outputs": [],
   "source": [
    "plt.plot(x,(2*tf.sigmoid(x))**3.0)\n",
    "plt.plot(x,tf.exp(x))"
   ]
  },
  {
   "cell_type": "code",
   "execution_count": null,
   "id": "8a4232c9-c65b-4e02-b530-4e334cd7a703",
   "metadata": {},
   "outputs": [],
   "source": []
  },
  {
   "cell_type": "code",
   "execution_count": null,
   "id": "44d43571-95bb-481e-ba68-84402dfc7179",
   "metadata": {},
   "outputs": [],
   "source": [
    "import numpy as np"
   ]
  },
  {
   "cell_type": "code",
   "execution_count": null,
   "id": "dd73fe79-968b-46c4-a5a5-b61290423e31",
   "metadata": {},
   "outputs": [],
   "source": [
    "np.ones((10))"
   ]
  },
  {
   "cell_type": "code",
   "execution_count": null,
   "id": "d59abe6d-4118-4082-91ca-a54d4cfba060",
   "metadata": {
    "scrolled": true,
    "tags": []
   },
   "outputs": [],
   "source": [
    "from matplotlib import pyplot as plt\n",
    "for i in range(10):\n",
    "    fig,axes = plt.subplots()\n",
    "    x = np.arange(i,i+10)\n",
    "    y = np.sin(x)\n",
    "    plt.plot(x,y)\n",
    "    plt.grid()"
   ]
  },
  {
   "cell_type": "code",
   "execution_count": null,
   "id": "dda0f4a7-d3c0-43de-8622-d8e64952fb13",
   "metadata": {},
   "outputs": [],
   "source": [
    "import numpy as np\n",
    "import zlib\n",
    "arr = np.array([1,0,1,0,0,0,0,0,0,0,0,0,1,0,0,0,0,1,0,0,0,0,0,0,0,0,0,0,0,0,0,0,0,0,0,1])\n",
    "out = np.array(arr,dtype=bool)"
   ]
  },
  {
   "cell_type": "code",
   "execution_count": null,
   "id": "c053dc29-e421-42dd-9501-6813fc176838",
   "metadata": {},
   "outputs": [],
   "source": [
    "of = np.array(arr,dtype=np.float16)"
   ]
  },
  {
   "cell_type": "code",
   "execution_count": null,
   "id": "975e1630-18ef-4cab-b995-3d8ce637c135",
   "metadata": {
    "scrolled": true,
    "tags": []
   },
   "outputs": [],
   "source": [
    "from applications.mobilenet_v2_mod import MobileNetV2\n",
    "N = int(16)\n",
    "net = MobileNetV2(input_shape=(224,224,3),\n",
    "    input_tensor=None,\n",
    "    alpha=1.0,\n",
    "    #include_top=False,\n",
    "    weights='imagenet',\n",
    "    pooling=None,\n",
    "    NUM_CLASS=80,\n",
    "    N=N,\n",
    "    classifier_activation='softmax')"
   ]
  },
  {
   "cell_type": "code",
   "execution_count": null,
   "id": "f75838c4-6de2-4f71-8704-6341462302ac",
   "metadata": {},
   "outputs": [],
   "source": [
    "net.build(input_shape=(None,224,224,3))\n",
    "net.summary()"
   ]
  },
  {
   "cell_type": "code",
   "execution_count": null,
   "id": "48218fa6-7ea9-4d43-a013-e5c445eb5e38",
   "metadata": {},
   "outputs": [],
   "source": [
    "a = [1,2,3][::-1]"
   ]
  },
  {
   "cell_type": "code",
   "execution_count": null,
   "id": "5a8685bc-30b0-45dc-a3f5-79a0456c802a",
   "metadata": {},
   "outputs": [],
   "source": [
    "a"
   ]
  },
  {
   "cell_type": "code",
   "execution_count": null,
   "id": "cf3f3bf4-cffd-4c76-b8e2-7d42fe5bd9ba",
   "metadata": {},
   "outputs": [],
   "source": []
  }
 ],
 "metadata": {
  "kernelspec": {
   "display_name": "Python 3 (ipykernel)",
   "language": "python",
   "name": "python3"
  },
  "language_info": {
   "codemirror_mode": {
    "name": "ipython",
    "version": 3
   },
   "file_extension": ".py",
   "mimetype": "text/x-python",
   "name": "python",
   "nbconvert_exporter": "python",
   "pygments_lexer": "ipython3",
   "version": "3.8.10"
  }
 },
 "nbformat": 4,
 "nbformat_minor": 5
}
