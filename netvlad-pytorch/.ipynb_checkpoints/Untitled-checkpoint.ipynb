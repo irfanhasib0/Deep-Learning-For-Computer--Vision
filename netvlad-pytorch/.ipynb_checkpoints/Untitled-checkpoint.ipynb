{
 "cells": [
  {
   "cell_type": "code",
   "execution_count": 1,
   "id": "9091b7e5-059b-4b90-b0bc-87c2969c9d39",
   "metadata": {},
   "outputs": [
    {
     "name": "stderr",
     "output_type": "stream",
     "text": [
      "/home/irfan/Desktop/Code/Linux-IO/python_38/lib/python3.8/site-packages/torchvision/models/_utils.py:208: UserWarning: The parameter 'pretrained' is deprecated since 0.13 and will be removed in 0.15, please use 'weights' instead.\n",
      "  warnings.warn(\n",
      "/home/irfan/Desktop/Code/Linux-IO/python_38/lib/python3.8/site-packages/torchvision/models/_utils.py:223: UserWarning: Arguments other than a weight enum or `None` for 'weights' are deprecated since 0.13 and will be removed in 0.15. The current behavior is equivalent to passing `weights=ResNet18_Weights.IMAGENET1K_V1`. You can also use `weights=ResNet18_Weights.DEFAULT` to get the most up-to-date weights.\n",
      "  warnings.warn(msg)\n"
     ]
    }
   ],
   "source": [
    "import torch\n",
    "import torch.nn as nn\n",
    "from torch.autograd import Variable\n",
    "\n",
    "from netvlad import NetVLAD\n",
    "from netvlad import EmbedNet\n",
    "from hard_triplet_loss import HardTripletLoss\n",
    "from torchvision.models import resnet18\n",
    "\n",
    "\n",
    "# Discard layers at the end of base network\n",
    "encoder = resnet18(pretrained=True)\n",
    "base_model = nn.Sequential(\n",
    "    encoder.conv1,\n",
    "    encoder.bn1,\n",
    "    encoder.relu,\n",
    "    encoder.maxpool,\n",
    "    encoder.layer1,\n",
    "    encoder.layer2,\n",
    "    encoder.layer3,\n",
    "    encoder.layer4\n",
    ")\n",
    "dim = list(base_model.parameters())[-1].shape[0]  # last channels (512)\n",
    "\n",
    "# Define model for embedding\n",
    "net_vlad = NetVLAD(num_clusters=32, dim=dim, alpha=1.0)\n",
    "model = EmbedNet(base_model, net_vlad).cuda()\n",
    "\n",
    "# Define loss\n",
    "criterion = HardTripletLoss(margin=0.1).cuda()\n",
    "\n",
    "# This is just toy example. Typically, the number of samples in each classes are 4.\n",
    "labels       = torch.randint(0, 10, (40, )).long().cuda()\n",
    "x            = torch.rand(40, 3, 128, 128).cuda()\n",
    "output       = model(x)\n",
    "\n",
    "triplet_loss = criterion(output, labels)"
   ]
  },
  {
   "cell_type": "code",
   "execution_count": 2,
   "id": "f7dd9e5e-b360-4de2-8bc4-d59c3b68b9d3",
   "metadata": {},
   "outputs": [
    {
     "data": {
      "text/plain": [
       "tensor(0.1000, device='cuda:0', grad_fn=<DivBackward0>)"
      ]
     },
     "execution_count": 2,
     "metadata": {},
     "output_type": "execute_result"
    }
   ],
   "source": [
    "triplet_loss"
   ]
  },
  {
   "cell_type": "code",
   "execution_count": 3,
   "id": "a01127e7-35be-40a4-9ed3-29f5724df2b5",
   "metadata": {},
   "outputs": [],
   "source": [
    "#!jupyter nbextension enable --py widgetsnbextension"
   ]
  },
  {
   "cell_type": "code",
   "execution_count": null,
   "id": "02ca7c7d-b5df-4154-b047-151e25eb53a9",
   "metadata": {},
   "outputs": [],
   "source": [
    "triplet_loss"
   ]
  },
  {
   "cell_type": "code",
   "execution_count": null,
   "id": "632f81aa-55b9-44cc-9f24-ccb6be7e35b2",
   "metadata": {},
   "outputs": [],
   "source": []
  }
 ],
 "metadata": {
  "kernelspec": {
   "display_name": "torch-1.12.0",
   "language": "python",
   "name": "torch-1.12.0"
  },
  "language_info": {
   "codemirror_mode": {
    "name": "ipython",
    "version": 3
   },
   "file_extension": ".py",
   "mimetype": "text/x-python",
   "name": "python",
   "nbconvert_exporter": "python",
   "pygments_lexer": "ipython3",
   "version": "3.8.10"
  }
 },
 "nbformat": 4,
 "nbformat_minor": 5
}
