{
 "cells": [
  {
   "cell_type": "code",
   "execution_count": 1,
   "id": "c10eb43a-80ea-4b34-8c99-f1d655b672e3",
   "metadata": {},
   "outputs": [],
   "source": [
    "import torch"
   ]
  },
  {
   "cell_type": "code",
   "execution_count": 2,
   "id": "1e434231-0e19-473f-a53e-a4e1255908b8",
   "metadata": {},
   "outputs": [],
   "source": [
    "mdl = torch.nn.MultiheadAttention(10,1)"
   ]
  },
  {
   "cell_type": "code",
   "execution_count": 3,
   "id": "9f54b9eb-ab13-4e19-8bcb-67971a696c92",
   "metadata": {},
   "outputs": [
    {
     "data": {
      "text/plain": [
       "OrderedDict([('out_proj',\n",
       "              NonDynamicallyQuantizableLinear(in_features=10, out_features=10, bias=True))])"
      ]
     },
     "execution_count": 3,
     "metadata": {},
     "output_type": "execute_result"
    }
   ],
   "source": [
    "mdl._modules"
   ]
  },
  {
   "cell_type": "code",
   "execution_count": null,
   "id": "30a6dc73-9b6e-4046-993a-cb03aa8887ea",
   "metadata": {},
   "outputs": [],
   "source": [
    "NonDynamicallyQuantizableLinear"
   ]
  }
 ],
 "metadata": {
  "kernelspec": {
   "display_name": "python_38",
   "language": "python",
   "name": "python_38"
  },
  "language_info": {
   "codemirror_mode": {
    "name": "ipython",
    "version": 3
   },
   "file_extension": ".py",
   "mimetype": "text/x-python",
   "name": "python",
   "nbconvert_exporter": "python",
   "pygments_lexer": "ipython3",
   "version": "3.8.10"
  }
 },
 "nbformat": 4,
 "nbformat_minor": 5
}
