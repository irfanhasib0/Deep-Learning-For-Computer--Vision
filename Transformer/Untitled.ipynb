{
 "cells": [
  {
   "cell_type": "code",
   "execution_count": null,
   "id": "1985b6bf-8d49-4090-a473-5fbd5d87946e",
   "metadata": {},
   "outputs": [],
   "source": [
    "# Import of libraries\n",
    "import random\n",
    "import imageio\n",
    "import numpy as np\n",
    "from argparse import ArgumentParser\n",
    "\n",
    "from tqdm.auto import tqdm\n",
    "import matplotlib.pyplot as plt\n",
    "\n",
    "import einops\n",
    "import torch\n",
    "import torch.nn as nn\n",
    "from torch.optim import Adam\n",
    "from torch.utils.data import DataLoader\n",
    "\n",
    "from torchvision.transforms import Compose, ToTensor, Lambda\n",
    "from torchvision.datasets.mnist import MNIST, FashionMNIST\n",
    "\n",
    "# Setting reproducibility\n",
    "SEED = 0\n",
    "random.seed(SEED)\n",
    "np.random.seed(SEED)\n",
    "torch.manual_seed(SEED)\n",
    "\n",
    "# Definitions\n",
    "STORE_PATH_MNIST = f\"ddpm_model_mnist.pt\"\n",
    "STORE_PATH_FASHION = f\"ddpm_model_fashion.pt\""
   ]
  },
  {
   "cell_type": "code",
   "execution_count": null,
   "id": "141ee005-118f-4b5f-b3b3-cde30291c1c9",
   "metadata": {},
   "outputs": [],
   "source": [
    "no_train = False\n",
    "fashion = True\n",
    "batch_size = 128\n",
    "n_epochs = 20\n",
    "lr = 0.001"
   ]
  }
 ],
 "metadata": {
  "kernelspec": {
   "display_name": "torch-1.12.0",
   "language": "python",
   "name": "torch-1.12.0"
  },
  "language_info": {
   "codemirror_mode": {
    "name": "ipython",
    "version": 3
   },
   "file_extension": ".py",
   "mimetype": "text/x-python",
   "name": "python",
   "nbconvert_exporter": "python",
   "pygments_lexer": "ipython3",
   "version": "3.8.10"
  }
 },
 "nbformat": 4,
 "nbformat_minor": 5
}
