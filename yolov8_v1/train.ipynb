{
 "cells": [
  {
   "cell_type": "code",
   "execution_count": null,
   "id": "fa6b3676-75fa-4443-a288-35bf6c8dc0b9",
   "metadata": {
    "scrolled": true,
    "tags": []
   },
   "outputs": [
    {
     "name": "stdout",
     "output_type": "stream",
     "text": [
      "\n",
      "                   from  n    params  module                                       arguments                     \n",
      "  0                  -1  1       928  yolov8.nn.modules.conv.Conv                  [3, 32, 3, 2]                 \n",
      "  1                  -1  1     18560  yolov8.nn.modules.conv.Conv                  [32, 64, 3, 2]                \n",
      "  2                  -1  1     29056  yolov8.nn.modules.block.C2f                  [64, 64, 1, True]             \n",
      "  3                  -1  1     73984  yolov8.nn.modules.conv.Conv                  [64, 128, 3, 2]               \n",
      "  4                  -1  2    197632  yolov8.nn.modules.block.C2f                  [128, 128, 2, True]           \n",
      "  5                  -1  1    295424  yolov8.nn.modules.conv.Conv                  [128, 256, 3, 2]              \n",
      "  6                  -1  2    788480  yolov8.nn.modules.block.C2f                  [256, 256, 2, True]           \n",
      "  7                  -1  1   1180672  yolov8.nn.modules.conv.Conv                  [256, 512, 3, 2]              \n",
      "  8                  -1  1   1838080  yolov8.nn.modules.block.C2f                  [512, 512, 1, True]           \n",
      "  9                  -1  1    656896  yolov8.nn.modules.block.SPPF                 [512, 512, 5]                 \n",
      " 10                  -1  1         0  torch.nn.modules.upsampling.Upsample         [None, 2, 'nearest']          \n",
      " 11             [-1, 6]  1         0  yolov8.nn.modules.conv.Concat                [1]                           \n",
      " 12                  -1  1    591360  yolov8.nn.modules.block.C2f                  [768, 256, 1]                 \n",
      " 13                  -1  1         0  torch.nn.modules.upsampling.Upsample         [None, 2, 'nearest']          \n",
      " 14             [-1, 4]  1         0  yolov8.nn.modules.conv.Concat                [1]                           \n",
      " 15                  -1  1    148224  yolov8.nn.modules.block.C2f                  [384, 128, 1]                 \n",
      " 16                  -1  1    147712  yolov8.nn.modules.conv.Conv                  [128, 128, 3, 2]              \n",
      " 17            [-1, 12]  1         0  yolov8.nn.modules.conv.Concat                [1]                           \n",
      " 18                  -1  1    493056  yolov8.nn.modules.block.C2f                  [384, 256, 1]                 \n",
      " 19                  -1  1    590336  yolov8.nn.modules.conv.Conv                  [256, 256, 3, 2]              \n",
      " 20             [-1, 9]  1         0  yolov8.nn.modules.conv.Concat                [1]                           \n",
      " 21                  -1  1   1969152  yolov8.nn.modules.block.C2f                  [768, 512, 1]                 \n",
      " 22        [15, 18, 21]  1   2147008  yolov8.nn.modules.head.Detect                [80, [128, 256, 512]]         \n",
      "YOLOv8s summary: 225 layers, 11166560 parameters, 11166544 gradients, 28.8 GFLOPs\n",
      "\n",
      "Transferred 355/355 items from pretrained weights\n"
     ]
    },
    {
     "name": "stderr",
     "output_type": "stream",
     "text": [
      "rm: cannot remove '/home/irfan/Desktop/Code/Deep-Learning-For-Computer-Vision/logs/exp-v8s/*': No such file or directory\n"
     ]
    },
    {
     "name": "stdout",
     "output_type": "stream",
     "text": [
      "Ultralytics YOLOv8.0.216 🚀 Python-3.8.10 torch-1.12.1+cu116 CUDA:0 (NVIDIA GeForce GTX 1660 Ti, 5945MiB)\n",
      "WARNING ⚠️ Upgrade to torch>=2.0.0 for deterministic training.\n",
      "\u001b[34m\u001b[1mengine/trainer: \u001b[0mtask=detect, mode=train, model=yolov8s.yaml, data=/home/irfan/Desktop/Data/Tools segmentation 2.v3i.yolov8/data.yaml, epochs=1, patience=50, batch=4, imgsz=640, save=True, save_period=-1, cache=False, device=None, workers=8, project=None, name=train, exist_ok=True, pretrained=True, optimizer=auto, verbose=True, seed=0, deterministic=True, single_cls=False, rect=False, cos_lr=False, close_mosaic=10, resume=False, amp=False, fraction=1.0, profile=False, freeze=None, overlap_mask=True, mask_ratio=4, dropout=0.0, val=True, split=val, save_json=False, save_hybrid=False, conf=0.01, iou=0.7, max_det=50, half=False, dnn=False, plots=True, source=None, show=False, save_txt=False, save_conf=False, save_crop=False, show_labels=True, show_conf=True, vid_stride=1, stream_buffer=False, line_width=None, visualize=False, augment=False, agnostic_nms=False, classes=None, retina_masks=False, boxes=True, format=torchscript, keras=False, optimize=False, int8=False, dynamic=False, simplify=False, opset=None, workspace=4, nms=False, lr0=0.01, lrf=0.01, momentum=0.937, weight_decay=0.0005, warmup_epochs=3.0, warmup_momentum=0.8, warmup_bias_lr=0.1, box=7.5, cls=0.5, dfl=1.5, pose=12.0, kobj=1.0, label_smoothing=0.0, nbs=64, hsv_h=0.015, hsv_s=0.7, hsv_v=0.4, degrees=0.0, translate=0.1, scale=0.5, shear=0.0, perspective=0.0, flipud=0.0, fliplr=0.5, mosaic=1.0, mixup=0.0, copy_paste=0.0, cfg=None, tracker=botsort.yaml, save_dir=/home/irfan/Desktop/Code/Deep-Learning-For-Computer-Vision/runs/detect/train\n",
      "Overriding model.yaml nc=80 with nc=17\n",
      "\n",
      "                   from  n    params  module                                       arguments                     \n",
      "  0                  -1  1       928  yolov8.nn.modules.conv.Conv                  [3, 32, 3, 2]                 \n",
      "  1                  -1  1     18560  yolov8.nn.modules.conv.Conv                  [32, 64, 3, 2]                \n",
      "  2                  -1  1     29056  yolov8.nn.modules.block.C2f                  [64, 64, 1, True]             \n",
      "  3                  -1  1     73984  yolov8.nn.modules.conv.Conv                  [64, 128, 3, 2]               \n",
      "  4                  -1  2    197632  yolov8.nn.modules.block.C2f                  [128, 128, 2, True]           \n",
      "  5                  -1  1    295424  yolov8.nn.modules.conv.Conv                  [128, 256, 3, 2]              \n",
      "  6                  -1  2    788480  yolov8.nn.modules.block.C2f                  [256, 256, 2, True]           \n",
      "  7                  -1  1   1180672  yolov8.nn.modules.conv.Conv                  [256, 512, 3, 2]              \n",
      "  8                  -1  1   1838080  yolov8.nn.modules.block.C2f                  [512, 512, 1, True]           \n",
      "  9                  -1  1    656896  yolov8.nn.modules.block.SPPF                 [512, 512, 5]                 \n",
      " 10                  -1  1         0  torch.nn.modules.upsampling.Upsample         [None, 2, 'nearest']          \n",
      " 11             [-1, 6]  1         0  yolov8.nn.modules.conv.Concat                [1]                           \n",
      " 12                  -1  1    591360  yolov8.nn.modules.block.C2f                  [768, 256, 1]                 \n",
      " 13                  -1  1         0  torch.nn.modules.upsampling.Upsample         [None, 2, 'nearest']          \n",
      " 14             [-1, 4]  1         0  yolov8.nn.modules.conv.Concat                [1]                           \n",
      " 15                  -1  1    148224  yolov8.nn.modules.block.C2f                  [384, 128, 1]                 \n",
      " 16                  -1  1    147712  yolov8.nn.modules.conv.Conv                  [128, 128, 3, 2]              \n",
      " 17            [-1, 12]  1         0  yolov8.nn.modules.conv.Concat                [1]                           \n",
      " 18                  -1  1    493056  yolov8.nn.modules.block.C2f                  [384, 256, 1]                 \n",
      " 19                  -1  1    590336  yolov8.nn.modules.conv.Conv                  [256, 256, 3, 2]              \n",
      " 20             [-1, 9]  1         0  yolov8.nn.modules.conv.Concat                [1]                           \n",
      " 21                  -1  1   1969152  yolov8.nn.modules.block.C2f                  [768, 512, 1]                 \n",
      " 22        [15, 18, 21]  1   2122627  yolov8.nn.modules.head.Detect                [17, [128, 256, 512]]         \n",
      "YOLOv8s summary: 225 layers, 11142179 parameters, 11142163 gradients, 28.7 GFLOPs\n",
      "\n",
      "Transferred 349/355 items from pretrained weights\n",
      "WARNING ⚠️ TensorBoard not initialized correctly, not logging this run. module 'numpy' has no attribute 'object'.\n",
      "`np.object` was a deprecated alias for the builtin `object`. To avoid this error in existing code, use `object` by itself. Doing this will not modify any behavior and is safe. \n",
      "The aliases was originally deprecated in NumPy 1.20; for more details and guidance see the original release note at:\n",
      "    https://numpy.org/devdocs/release/1.20.0-notes.html#deprecations\n"
     ]
    },
    {
     "name": "stderr",
     "output_type": "stream",
     "text": [
      "/home/irfan/Desktop/Code/Linux-IO/python_38/lib/python3.8/site-packages/tensorflow/python/framework/dtypes.py:513: FutureWarning: In the future `np.object` will be defined as the corresponding NumPy scalar.\n",
      "  np.object,\n"
     ]
    },
    {
     "name": "stdout",
     "output_type": "stream",
     "text": [
      "Freezing layer 'model.22.dfl.conv.weight'\n"
     ]
    },
    {
     "name": "stderr",
     "output_type": "stream",
     "text": [
      "\u001b[34m\u001b[1mtrain: \u001b[0mScanning /home/irfan/Desktop/Data/Tools segmentation 2.v3i.yolov8/train/labels.cache... 2421 images, 0 backgrounds, 0\u001b[0m\n",
      "\u001b[34m\u001b[1mval: \u001b[0mScanning /home/irfan/Desktop/Data/Tools segmentation 2.v3i.yolov8/valid/labels.cache... 346 images, 0 backgrounds, 0 co\u001b[0m\n"
     ]
    },
    {
     "name": "stdout",
     "output_type": "stream",
     "text": [
      "Plotting labels to /home/irfan/Desktop/Code/Deep-Learning-For-Computer-Vision/logs/exp-v8s/0/train/labels.jpg... \n",
      "\u001b[34m\u001b[1moptimizer:\u001b[0m 'optimizer=auto' found, ignoring 'lr0=0.01' and 'momentum=0.937' and determining best 'optimizer', 'lr0' and 'momentum' automatically... \n",
      "\u001b[34m\u001b[1moptimizer:\u001b[0m AdamW(lr=0.000476, momentum=0.9) with parameter groups 57 weight(decay=0.0), 64 weight(decay=0.0005), 63 bias(decay=0.0)\n",
      "Image sizes 640 train, 640 val\n",
      "Using 4 dataloader workers\n",
      "Logging results to \u001b[1m/home/irfan/Desktop/Code/Deep-Learning-For-Computer-Vision/logs/exp-v8s/0/train\u001b[0m\n",
      "Starting training for 1 epochs...\n",
      "\n",
      "      Epoch    GPU_mem   box_loss   cls_loss   dfl_loss  Instances       Size\n"
     ]
    },
    {
     "name": "stderr",
     "output_type": "stream",
     "text": [
      "        1/1      1.99G       1.12      2.874      1.248          9        640: 100%|██████████| 606/606 [02:14<00:00,  4.50i\n",
      "                 Class     Images  Instances      Box(P          R      mAP50  mAP50-95): 100%|██████████| 44/44 [00:14<00:0"
     ]
    },
    {
     "name": "stdout",
     "output_type": "stream",
     "text": [
      "                   all        346       1645          0          0          0          0\n"
     ]
    },
    {
     "name": "stderr",
     "output_type": "stream",
     "text": [
      "\n"
     ]
    },
    {
     "name": "stdout",
     "output_type": "stream",
     "text": [
      "\n",
      "1 epochs completed in 0.043 hours.\n",
      "Optimizer stripped from /home/irfan/Desktop/Code/Deep-Learning-For-Computer-Vision/logs/exp-v8s/0/train/weights/last.pt, 22.5MB\n",
      "Optimizer stripped from /home/irfan/Desktop/Code/Deep-Learning-For-Computer-Vision/logs/exp-v8s/0/train/weights/best.pt, 22.5MB\n",
      "\n",
      "Validating /home/irfan/Desktop/Code/Deep-Learning-For-Computer-Vision/logs/exp-v8s/0/train/weights/best.pt...\n",
      "Ultralytics YOLOv8.0.216 🚀 Python-3.8.10 torch-1.12.1+cu116 CUDA:0 (NVIDIA GeForce GTX 1660 Ti, 5945MiB)\n",
      "YOLOv8s summary (fused): 168 layers, 11132163 parameters, 0 gradients, 28.5 GFLOPs\n"
     ]
    },
    {
     "name": "stderr",
     "output_type": "stream",
     "text": [
      "                 Class     Images  Instances      Box(P          R      mAP50  mAP50-95): 100%|██████████| 44/44 [00:12<00:0"
     ]
    },
    {
     "name": "stdout",
     "output_type": "stream",
     "text": [
      "                   all        346       1645          0          0          0          0\n"
     ]
    },
    {
     "name": "stderr",
     "output_type": "stream",
     "text": [
      "\n"
     ]
    },
    {
     "name": "stdout",
     "output_type": "stream",
     "text": [
      "Speed: 0.3ms preprocess, 34.8ms inference, 0.0ms loss, 0.4ms postprocess per image\n",
      "Results saved to \u001b[1m/home/irfan/Desktop/Code/Deep-Learning-For-Computer-Vision/logs/exp-v8s/0/train\u001b[0m\n",
      "Ultralytics YOLOv8.0.216 🚀 Python-3.8.10 torch-1.12.1+cu116 CUDA:0 (NVIDIA GeForce GTX 1660 Ti, 5945MiB)\n",
      "YOLOv8s summary (fused): 168 layers, 11132163 parameters, 0 gradients, 28.5 GFLOPs\n"
     ]
    },
    {
     "name": "stderr",
     "output_type": "stream",
     "text": [
      "\u001b[34m\u001b[1mval: \u001b[0mScanning /home/irfan/Desktop/Data/Tools segmentation 2.v3i.yolov8/valid/labels.cache... 346 images, 0 backgrounds, 0 co\u001b[0m\n",
      "                 Class     Images  Instances      Box(P          R      mAP50  mAP50-95): 100%|██████████| 87/87 [00:06<00:0\n"
     ]
    },
    {
     "name": "stdout",
     "output_type": "stream",
     "text": [
      "                   all        346       1645      0.543      0.362      0.345      0.277\n",
      "       -rescent wrench        346        192      0.313      0.922      0.801      0.709\n",
      "               Backsaw        346         33          1          0          0          0\n",
      "              Calipers        346         11      0.708      0.883      0.929      0.621\n",
      "        Cutting pliers        346        106      0.197      0.104     0.0982      0.082\n",
      "                 Drill        346         27          1          0      0.041     0.0369\n",
      "            Gas wrench        346         59      0.146     0.0678     0.0616     0.0525\n",
      "                   Gun        346         34          0          0          0          0\n",
      "                Hammer        346        160       0.34      0.838      0.632      0.521\n",
      "                  Hand        346         44      0.473      0.318      0.419      0.264\n",
      "               Handsaw        346          4          1          0          0          0\n",
      "    Needle-nose pliers        346         95      0.543      0.579      0.576      0.498\n",
      "                Pliers        346         51      0.297      0.392      0.268      0.234\n",
      "               Ratchet        346         71      0.772      0.408      0.521       0.49\n",
      "           Screwdriver        346        447      0.412      0.812      0.691      0.532\n",
      "          Tape measure        346         16      0.757      0.196      0.338      0.273\n",
      "         Utility knife        346         10          1          0     0.0133      0.012\n",
      "                Wrench        346        285      0.268      0.635      0.478      0.382\n",
      "Speed: 0.4ms preprocess, 10.7ms inference, 0.0ms loss, 1.5ms postprocess per image\n",
      "Results saved to \u001b[1m/home/irfan/Desktop/Code/Deep-Learning-For-Computer-Vision/logs/exp-v8s/0/val\u001b[0m\n",
      "Ultralytics YOLOv8.0.216 🚀 Python-3.8.10 torch-1.12.1+cu116 CUDA:0 (NVIDIA GeForce GTX 1660 Ti, 5945MiB)\n",
      "WARNING ⚠️ Upgrade to torch>=2.0.0 for deterministic training.\n",
      "\u001b[34m\u001b[1mengine/trainer: \u001b[0mtask=detect, mode=train, model=yolov8s.yaml, data=/home/irfan/Desktop/Data/Tools segmentation 2.v3i.yolov8/data.yaml, epochs=1, patience=50, batch=4, imgsz=640, save=True, save_period=-1, cache=False, device=None, workers=8, project=None, name=train, exist_ok=True, pretrained=True, optimizer=auto, verbose=True, seed=0, deterministic=True, single_cls=False, rect=False, cos_lr=False, close_mosaic=10, resume=False, amp=False, fraction=1.0, profile=False, freeze=None, overlap_mask=True, mask_ratio=4, dropout=0.0, val=True, split=val, save_json=False, save_hybrid=False, conf=0.01, iou=0.7, max_det=50, half=False, dnn=False, plots=True, source=None, show=False, save_txt=False, save_conf=False, save_crop=False, show_labels=True, show_conf=True, vid_stride=1, stream_buffer=False, line_width=None, visualize=False, augment=False, agnostic_nms=False, classes=None, retina_masks=False, boxes=True, format=torchscript, keras=False, optimize=False, int8=False, dynamic=False, simplify=False, opset=None, workspace=4, nms=False, lr0=0.01, lrf=0.01, momentum=0.937, weight_decay=0.0005, warmup_epochs=3.0, warmup_momentum=0.8, warmup_bias_lr=0.0, box=7.5, cls=0.5, dfl=1.5, pose=12.0, kobj=1.0, label_smoothing=0.0, nbs=64, hsv_h=0.015, hsv_s=0.7, hsv_v=0.4, degrees=0.0, translate=0.1, scale=0.5, shear=0.0, perspective=0.0, flipud=0.0, fliplr=0.5, mosaic=1.0, mixup=0.0, copy_paste=0.0, cfg=None, tracker=botsort.yaml, save_dir=/home/irfan/Desktop/Code/Deep-Learning-For-Computer-Vision/runs/detect/train\n",
      "\n",
      "                   from  n    params  module                                       arguments                     \n",
      "  0                  -1  1       928  yolov8.nn.modules.conv.Conv                  [3, 32, 3, 2]                 \n",
      "  1                  -1  1     18560  yolov8.nn.modules.conv.Conv                  [32, 64, 3, 2]                \n",
      "  2                  -1  1     29056  yolov8.nn.modules.block.C2f                  [64, 64, 1, True]             \n",
      "  3                  -1  1     73984  yolov8.nn.modules.conv.Conv                  [64, 128, 3, 2]               \n",
      "  4                  -1  2    197632  yolov8.nn.modules.block.C2f                  [128, 128, 2, True]           \n",
      "  5                  -1  1    295424  yolov8.nn.modules.conv.Conv                  [128, 256, 3, 2]              \n",
      "  6                  -1  2    788480  yolov8.nn.modules.block.C2f                  [256, 256, 2, True]           \n",
      "  7                  -1  1   1180672  yolov8.nn.modules.conv.Conv                  [256, 512, 3, 2]              \n",
      "  8                  -1  1   1838080  yolov8.nn.modules.block.C2f                  [512, 512, 1, True]           \n",
      "  9                  -1  1    656896  yolov8.nn.modules.block.SPPF                 [512, 512, 5]                 \n",
      " 10                  -1  1         0  torch.nn.modules.upsampling.Upsample         [None, 2, 'nearest']          \n",
      " 11             [-1, 6]  1         0  yolov8.nn.modules.conv.Concat                [1]                           \n",
      " 12                  -1  1    591360  yolov8.nn.modules.block.C2f                  [768, 256, 1]                 \n",
      " 13                  -1  1         0  torch.nn.modules.upsampling.Upsample         [None, 2, 'nearest']          \n",
      " 14             [-1, 4]  1         0  yolov8.nn.modules.conv.Concat                [1]                           \n",
      " 15                  -1  1    148224  yolov8.nn.modules.block.C2f                  [384, 128, 1]                 \n",
      " 16                  -1  1    147712  yolov8.nn.modules.conv.Conv                  [128, 128, 3, 2]              \n",
      " 17            [-1, 12]  1         0  yolov8.nn.modules.conv.Concat                [1]                           \n",
      " 18                  -1  1    493056  yolov8.nn.modules.block.C2f                  [384, 256, 1]                 \n",
      " 19                  -1  1    590336  yolov8.nn.modules.conv.Conv                  [256, 256, 3, 2]              \n",
      " 20             [-1, 9]  1         0  yolov8.nn.modules.conv.Concat                [1]                           \n",
      " 21                  -1  1   1969152  yolov8.nn.modules.block.C2f                  [768, 512, 1]                 \n",
      " 22        [15, 18, 21]  1   2122627  yolov8.nn.modules.head.Detect                [17, [128, 256, 512]]         \n",
      "YOLOv8s summary: 225 layers, 11142179 parameters, 11142163 gradients, 28.7 GFLOPs\n",
      "\n",
      "Transferred 70/355 items from pretrained weights\n",
      "WARNING ⚠️ TensorBoard not initialized correctly, not logging this run. module 'numpy' has no attribute 'object'.\n",
      "`np.object` was a deprecated alias for the builtin `object`. To avoid this error in existing code, use `object` by itself. Doing this will not modify any behavior and is safe. \n",
      "The aliases was originally deprecated in NumPy 1.20; for more details and guidance see the original release note at:\n",
      "    https://numpy.org/devdocs/release/1.20.0-notes.html#deprecations\n",
      "Freezing layer 'model.22.dfl.conv.weight'\n"
     ]
    },
    {
     "name": "stderr",
     "output_type": "stream",
     "text": [
      "\u001b[34m\u001b[1mtrain: \u001b[0mScanning /home/irfan/Desktop/Data/Tools segmentation 2.v3i.yolov8/train/labels.cache... 2421 images, 0 backgrounds, 0\u001b[0m\n",
      "\u001b[34m\u001b[1mval: \u001b[0mScanning /home/irfan/Desktop/Data/Tools segmentation 2.v3i.yolov8/valid/labels.cache... 346 images, 0 backgrounds, 0 co\u001b[0m\n"
     ]
    },
    {
     "name": "stdout",
     "output_type": "stream",
     "text": [
      "Plotting labels to /home/irfan/Desktop/Code/Deep-Learning-For-Computer-Vision/logs/exp-v8s/1/train/labels.jpg... \n",
      "\u001b[34m\u001b[1moptimizer:\u001b[0m 'optimizer=auto' found, ignoring 'lr0=0.01' and 'momentum=0.937' and determining best 'optimizer', 'lr0' and 'momentum' automatically... \n",
      "\u001b[34m\u001b[1moptimizer:\u001b[0m AdamW(lr=0.000476, momentum=0.9) with parameter groups 57 weight(decay=0.0), 64 weight(decay=0.0005), 63 bias(decay=0.0)\n",
      "Image sizes 640 train, 640 val\n",
      "Using 4 dataloader workers\n",
      "Logging results to \u001b[1m/home/irfan/Desktop/Code/Deep-Learning-For-Computer-Vision/logs/exp-v8s/1/train\u001b[0m\n",
      "Starting training for 1 epochs...\n",
      "\n",
      "      Epoch    GPU_mem   box_loss   cls_loss   dfl_loss  Instances       Size\n"
     ]
    },
    {
     "name": "stderr",
     "output_type": "stream",
     "text": [
      "        1/1      1.95G      1.821      3.203      1.744          9        640: 100%|██████████| 606/606 [03:15<00:00,  3.10i\n",
      "                 Class     Images  Instances      Box(P          R      mAP50  mAP50-95): 100%|██████████| 44/44 [00:13<00:0"
     ]
    },
    {
     "name": "stdout",
     "output_type": "stream",
     "text": [
      "                   all        346       1645          0          0          0          0\n"
     ]
    },
    {
     "name": "stderr",
     "output_type": "stream",
     "text": [
      "\n"
     ]
    },
    {
     "name": "stdout",
     "output_type": "stream",
     "text": [
      "\n",
      "1 epochs completed in 0.060 hours.\n",
      "Optimizer stripped from /home/irfan/Desktop/Code/Deep-Learning-For-Computer-Vision/logs/exp-v8s/1/train/weights/last.pt, 22.5MB\n",
      "Optimizer stripped from /home/irfan/Desktop/Code/Deep-Learning-For-Computer-Vision/logs/exp-v8s/1/train/weights/best.pt, 22.5MB\n",
      "\n",
      "Validating /home/irfan/Desktop/Code/Deep-Learning-For-Computer-Vision/logs/exp-v8s/1/train/weights/best.pt...\n",
      "Ultralytics YOLOv8.0.216 🚀 Python-3.8.10 torch-1.12.1+cu116 CUDA:0 (NVIDIA GeForce GTX 1660 Ti, 5945MiB)\n",
      "YOLOv8s summary (fused): 168 layers, 11132163 parameters, 0 gradients, 28.5 GFLOPs\n"
     ]
    },
    {
     "name": "stderr",
     "output_type": "stream",
     "text": [
      "                 Class     Images  Instances      Box(P          R      mAP50  mAP50-95): 100%|██████████| 44/44 [00:13<00:0"
     ]
    },
    {
     "name": "stdout",
     "output_type": "stream",
     "text": [
      "                   all        346       1645          0          0          0          0\n"
     ]
    },
    {
     "name": "stderr",
     "output_type": "stream",
     "text": [
      "\n"
     ]
    },
    {
     "name": "stdout",
     "output_type": "stream",
     "text": [
      "Speed: 0.2ms preprocess, 35.3ms inference, 0.0ms loss, 0.5ms postprocess per image\n",
      "Results saved to \u001b[1m/home/irfan/Desktop/Code/Deep-Learning-For-Computer-Vision/logs/exp-v8s/1/train\u001b[0m\n",
      "Ultralytics YOLOv8.0.216 🚀 Python-3.8.10 torch-1.12.1+cu116 CUDA:0 (NVIDIA GeForce GTX 1660 Ti, 5945MiB)\n",
      "YOLOv8s summary (fused): 168 layers, 11132163 parameters, 0 gradients, 28.5 GFLOPs\n"
     ]
    },
    {
     "name": "stderr",
     "output_type": "stream",
     "text": [
      "\u001b[34m\u001b[1mval: \u001b[0mScanning /home/irfan/Desktop/Data/Tools segmentation 2.v3i.yolov8/valid/labels.cache... 346 images, 0 backgrounds, 0 co\u001b[0m\n",
      "                 Class     Images  Instances      Box(P          R      mAP50  mAP50-95): 100%|██████████| 87/87 [00:09<00:0\n"
     ]
    },
    {
     "name": "stdout",
     "output_type": "stream",
     "text": [
      "                   all        346       1645      0.346      0.287      0.276       0.21\n",
      "       -rescent wrench        346        192      0.388      0.734      0.577      0.515\n",
      "               Backsaw        346         33          0          0          0          0\n",
      "              Calipers        346         11      0.308          1      0.965       0.54\n",
      "        Cutting pliers        346        106          0          0      0.161      0.131\n",
      "                 Drill        346         27          0          0          0          0\n",
      "            Gas wrench        346         59          0          0     0.0624     0.0578\n",
      "                   Gun        346         34          0          0          0          0\n",
      "                Hammer        346        160      0.362        0.5      0.445      0.378\n",
      "                  Hand        346         44          1          0     0.0861     0.0516\n",
      "               Handsaw        346          4          0          0          0          0\n",
      "    Needle-nose pliers        346         95      0.528      0.463      0.426      0.347\n",
      "                Pliers        346         51      0.512      0.412      0.426      0.363\n",
      "               Ratchet        346         71      0.407      0.338      0.282      0.257\n",
      "           Screwdriver        346        447      0.307      0.716      0.445      0.299\n",
      "          Tape measure        346         16      0.632      0.217       0.27      0.187\n",
      "         Utility knife        346         10          1          0     0.0673     0.0626\n",
      "                Wrench        346        285      0.443      0.502       0.48      0.388\n",
      "Speed: 0.6ms preprocess, 14.9ms inference, 0.0ms loss, 2.3ms postprocess per image\n",
      "Results saved to \u001b[1m/home/irfan/Desktop/Code/Deep-Learning-For-Computer-Vision/logs/exp-v8s/1/val\u001b[0m\n",
      "Ultralytics YOLOv8.0.216 🚀 Python-3.8.10 torch-1.12.1+cu116 CUDA:0 (NVIDIA GeForce GTX 1660 Ti, 5945MiB)\n",
      "WARNING ⚠️ Upgrade to torch>=2.0.0 for deterministic training.\n",
      "\u001b[34m\u001b[1mengine/trainer: \u001b[0mtask=detect, mode=train, model=yolov8s.yaml, data=/home/irfan/Desktop/Data/Tools segmentation 2.v3i.yolov8/data.yaml, epochs=1, patience=50, batch=4, imgsz=640, save=True, save_period=-1, cache=False, device=None, workers=8, project=None, name=train, exist_ok=True, pretrained=True, optimizer=auto, verbose=True, seed=0, deterministic=True, single_cls=False, rect=False, cos_lr=False, close_mosaic=10, resume=False, amp=False, fraction=1.0, profile=False, freeze=None, overlap_mask=True, mask_ratio=4, dropout=0.0, val=True, split=val, save_json=False, save_hybrid=False, conf=0.01, iou=0.7, max_det=50, half=False, dnn=False, plots=True, source=None, show=False, save_txt=False, save_conf=False, save_crop=False, show_labels=True, show_conf=True, vid_stride=1, stream_buffer=False, line_width=None, visualize=False, augment=False, agnostic_nms=False, classes=None, retina_masks=False, boxes=True, format=torchscript, keras=False, optimize=False, int8=False, dynamic=False, simplify=False, opset=None, workspace=4, nms=False, lr0=0.01, lrf=0.01, momentum=0.937, weight_decay=0.0005, warmup_epochs=3.0, warmup_momentum=0.8, warmup_bias_lr=0.0, box=7.5, cls=0.5, dfl=1.5, pose=12.0, kobj=1.0, label_smoothing=0.0, nbs=64, hsv_h=0.015, hsv_s=0.7, hsv_v=0.4, degrees=0.0, translate=0.1, scale=0.5, shear=0.0, perspective=0.0, flipud=0.0, fliplr=0.5, mosaic=1.0, mixup=0.0, copy_paste=0.0, cfg=None, tracker=botsort.yaml, save_dir=/home/irfan/Desktop/Code/Deep-Learning-For-Computer-Vision/runs/detect/train\n",
      "\n",
      "                   from  n    params  module                                       arguments                     \n",
      "  0                  -1  1       928  yolov8.nn.modules.conv.Conv                  [3, 32, 3, 2]                 \n",
      "  1                  -1  1     18560  yolov8.nn.modules.conv.Conv                  [32, 64, 3, 2]                \n",
      "  2                  -1  1     29056  yolov8.nn.modules.block.C2f                  [64, 64, 1, True]             \n",
      "  3                  -1  1     73984  yolov8.nn.modules.conv.Conv                  [64, 128, 3, 2]               \n",
      "  4                  -1  2    197632  yolov8.nn.modules.block.C2f                  [128, 128, 2, True]           \n",
      "  5                  -1  1    295424  yolov8.nn.modules.conv.Conv                  [128, 256, 3, 2]              \n",
      "  6                  -1  2    788480  yolov8.nn.modules.block.C2f                  [256, 256, 2, True]           \n",
      "  7                  -1  1   1180672  yolov8.nn.modules.conv.Conv                  [256, 512, 3, 2]              \n",
      "  8                  -1  1   1838080  yolov8.nn.modules.block.C2f                  [512, 512, 1, True]           \n",
      "  9                  -1  1    656896  yolov8.nn.modules.block.SPPF                 [512, 512, 5]                 \n",
      " 10                  -1  1         0  torch.nn.modules.upsampling.Upsample         [None, 2, 'nearest']          \n",
      " 11             [-1, 6]  1         0  yolov8.nn.modules.conv.Concat                [1]                           \n",
      " 12                  -1  1    591360  yolov8.nn.modules.block.C2f                  [768, 256, 1]                 \n",
      " 13                  -1  1         0  torch.nn.modules.upsampling.Upsample         [None, 2, 'nearest']          \n",
      " 14             [-1, 4]  1         0  yolov8.nn.modules.conv.Concat                [1]                           \n",
      " 15                  -1  1    148224  yolov8.nn.modules.block.C2f                  [384, 128, 1]                 \n",
      " 16                  -1  1    147712  yolov8.nn.modules.conv.Conv                  [128, 128, 3, 2]              \n",
      " 17            [-1, 12]  1         0  yolov8.nn.modules.conv.Concat                [1]                           \n",
      " 18                  -1  1    493056  yolov8.nn.modules.block.C2f                  [384, 256, 1]                 \n",
      " 19                  -1  1    590336  yolov8.nn.modules.conv.Conv                  [256, 256, 3, 2]              \n",
      " 20             [-1, 9]  1         0  yolov8.nn.modules.conv.Concat                [1]                           \n",
      " 21                  -1  1   1969152  yolov8.nn.modules.block.C2f                  [768, 512, 1]                 \n",
      " 22        [15, 18, 21]  1   2122627  yolov8.nn.modules.head.Detect                [17, [128, 256, 512]]         \n",
      "YOLOv8s summary: 225 layers, 11142179 parameters, 11142163 gradients, 28.7 GFLOPs\n",
      "\n",
      "Transferred 70/355 items from pretrained weights\n",
      "WARNING ⚠️ TensorBoard not initialized correctly, not logging this run. module 'numpy' has no attribute 'object'.\n",
      "`np.object` was a deprecated alias for the builtin `object`. To avoid this error in existing code, use `object` by itself. Doing this will not modify any behavior and is safe. \n",
      "The aliases was originally deprecated in NumPy 1.20; for more details and guidance see the original release note at:\n",
      "    https://numpy.org/devdocs/release/1.20.0-notes.html#deprecations\n",
      "Freezing layer 'model.22.dfl.conv.weight'\n"
     ]
    },
    {
     "name": "stderr",
     "output_type": "stream",
     "text": [
      "\u001b[34m\u001b[1mtrain: \u001b[0mScanning /home/irfan/Desktop/Data/Tools segmentation 2.v3i.yolov8/train/labels.cache... 2421 images, 0 backgrounds, 0\u001b[0m\n",
      "\u001b[34m\u001b[1mval: \u001b[0mScanning /home/irfan/Desktop/Data/Tools segmentation 2.v3i.yolov8/valid/labels.cache... 346 images, 0 backgrounds, 0 co\u001b[0m\n"
     ]
    },
    {
     "name": "stdout",
     "output_type": "stream",
     "text": [
      "Plotting labels to /home/irfan/Desktop/Code/Deep-Learning-For-Computer-Vision/logs/exp-v8s/2/train/labels.jpg... \n",
      "\u001b[34m\u001b[1moptimizer:\u001b[0m 'optimizer=auto' found, ignoring 'lr0=0.01' and 'momentum=0.937' and determining best 'optimizer', 'lr0' and 'momentum' automatically... \n",
      "\u001b[34m\u001b[1moptimizer:\u001b[0m AdamW(lr=0.000476, momentum=0.9) with parameter groups 57 weight(decay=0.0), 64 weight(decay=0.0005), 63 bias(decay=0.0)\n",
      "Image sizes 640 train, 640 val\n",
      "Using 4 dataloader workers\n",
      "Logging results to \u001b[1m/home/irfan/Desktop/Code/Deep-Learning-For-Computer-Vision/logs/exp-v8s/2/train\u001b[0m\n",
      "Starting training for 1 epochs...\n",
      "\n",
      "      Epoch    GPU_mem   box_loss   cls_loss   dfl_loss  Instances       Size\n"
     ]
    },
    {
     "name": "stderr",
     "output_type": "stream",
     "text": [
      "        1/1      2.02G      1.252      2.307      1.377          9        640: 100%|██████████| 606/606 [04:39<00:00,  2.17i\n",
      "                 Class     Images  Instances      Box(P          R      mAP50  mAP50-95): 100%|██████████| 44/44 [00:21<00:0"
     ]
    },
    {
     "name": "stdout",
     "output_type": "stream",
     "text": [
      "                   all        346       1645          0          0          0          0\n"
     ]
    },
    {
     "name": "stderr",
     "output_type": "stream",
     "text": [
      "\n"
     ]
    },
    {
     "name": "stdout",
     "output_type": "stream",
     "text": [
      "\n",
      "1 epochs completed in 0.086 hours.\n",
      "Optimizer stripped from /home/irfan/Desktop/Code/Deep-Learning-For-Computer-Vision/logs/exp-v8s/2/train/weights/last.pt, 22.5MB\n",
      "Optimizer stripped from /home/irfan/Desktop/Code/Deep-Learning-For-Computer-Vision/logs/exp-v8s/2/train/weights/best.pt, 22.5MB\n",
      "\n",
      "Validating /home/irfan/Desktop/Code/Deep-Learning-For-Computer-Vision/logs/exp-v8s/2/train/weights/best.pt...\n",
      "Ultralytics YOLOv8.0.216 🚀 Python-3.8.10 torch-1.12.1+cu116 CUDA:0 (NVIDIA GeForce GTX 1660 Ti, 5945MiB)\n",
      "YOLOv8s summary (fused): 168 layers, 11132163 parameters, 0 gradients, 28.5 GFLOPs\n"
     ]
    },
    {
     "name": "stderr",
     "output_type": "stream",
     "text": [
      "                 Class     Images  Instances      Box(P          R      mAP50  mAP50-95): 100%|██████████| 44/44 [00:21<00:0"
     ]
    },
    {
     "name": "stdout",
     "output_type": "stream",
     "text": [
      "                   all        346       1645          0          0          0          0\n"
     ]
    },
    {
     "name": "stderr",
     "output_type": "stream",
     "text": [
      "\n"
     ]
    },
    {
     "name": "stdout",
     "output_type": "stream",
     "text": [
      "Speed: 0.3ms preprocess, 59.9ms inference, 0.0ms loss, 0.7ms postprocess per image\n",
      "Results saved to \u001b[1m/home/irfan/Desktop/Code/Deep-Learning-For-Computer-Vision/logs/exp-v8s/2/train\u001b[0m\n",
      "Ultralytics YOLOv8.0.216 🚀 Python-3.8.10 torch-1.12.1+cu116 CUDA:0 (NVIDIA GeForce GTX 1660 Ti, 5945MiB)\n",
      "YOLOv8s summary (fused): 168 layers, 11132163 parameters, 0 gradients, 28.5 GFLOPs\n"
     ]
    },
    {
     "name": "stderr",
     "output_type": "stream",
     "text": [
      "\u001b[34m\u001b[1mval: \u001b[0mScanning /home/irfan/Desktop/Data/Tools segmentation 2.v3i.yolov8/valid/labels.cache... 346 images, 0 backgrounds, 0 co\u001b[0m\n",
      "                 Class     Images  Instances      Box(P          R      mAP50  mAP50-95): 100%|██████████| 87/87 [01:14<00:0\n"
     ]
    },
    {
     "name": "stdout",
     "output_type": "stream",
     "text": [
      "                   all        346       1645      0.623      0.305      0.369        0.3\n",
      "       -rescent wrench        346        192      0.535      0.812      0.743      0.657\n",
      "               Backsaw        346         33          1          0          0          0\n",
      "              Calipers        346         11      0.492          1      0.866      0.574\n",
      "        Cutting pliers        346        106     0.0906    0.00427      0.183      0.153\n",
      "                 Drill        346         27          0          0          0          0\n",
      "            Gas wrench        346         59          1          0      0.089     0.0809\n",
      "                   Gun        346         34          0          0          0          0\n",
      "                Hammer        346        160      0.801      0.669      0.773      0.649\n",
      "                  Hand        346         44          1          0       0.12      0.103\n",
      "               Handsaw        346          4          1          0      0.299      0.269\n",
      "    Needle-nose pliers        346         95      0.607      0.537       0.58      0.492\n",
      "                Pliers        346         51      0.458      0.349      0.414      0.374\n",
      "               Ratchet        346         71      0.974      0.338      0.541      0.492\n",
      "           Screwdriver        346        447       0.55      0.667      0.632      0.452\n",
      "          Tape measure        346         16      0.491       0.25      0.378      0.282\n",
      "         Utility knife        346         10          1          0     0.0516     0.0488\n",
      "                Wrench        346        285      0.597       0.56      0.595      0.467\n",
      "Speed: 0.8ms preprocess, 77.3ms inference, 0.0ms loss, 5.0ms postprocess per image\n",
      "Results saved to \u001b[1m/home/irfan/Desktop/Code/Deep-Learning-For-Computer-Vision/logs/exp-v8s/2/val\u001b[0m\n",
      "Ultralytics YOLOv8.0.216 🚀 Python-3.8.10 torch-1.12.1+cu116 CUDA:0 (NVIDIA GeForce GTX 1660 Ti, 5945MiB)\n",
      "WARNING ⚠️ Upgrade to torch>=2.0.0 for deterministic training.\n",
      "\u001b[34m\u001b[1mengine/trainer: \u001b[0mtask=detect, mode=train, model=yolov8s.yaml, data=/home/irfan/Desktop/Data/Tools segmentation 2.v3i.yolov8/data.yaml, epochs=1, patience=50, batch=4, imgsz=640, save=True, save_period=-1, cache=False, device=None, workers=8, project=None, name=train, exist_ok=True, pretrained=True, optimizer=auto, verbose=True, seed=0, deterministic=True, single_cls=False, rect=False, cos_lr=False, close_mosaic=10, resume=False, amp=False, fraction=1.0, profile=False, freeze=None, overlap_mask=True, mask_ratio=4, dropout=0.0, val=True, split=val, save_json=False, save_hybrid=False, conf=0.01, iou=0.7, max_det=50, half=False, dnn=False, plots=True, source=None, show=False, save_txt=False, save_conf=False, save_crop=False, show_labels=True, show_conf=True, vid_stride=1, stream_buffer=False, line_width=None, visualize=False, augment=False, agnostic_nms=False, classes=None, retina_masks=False, boxes=True, format=torchscript, keras=False, optimize=False, int8=False, dynamic=False, simplify=False, opset=None, workspace=4, nms=False, lr0=0.01, lrf=0.01, momentum=0.937, weight_decay=0.0005, warmup_epochs=3.0, warmup_momentum=0.8, warmup_bias_lr=0.0, box=7.5, cls=0.5, dfl=1.5, pose=12.0, kobj=1.0, label_smoothing=0.0, nbs=64, hsv_h=0.015, hsv_s=0.7, hsv_v=0.4, degrees=0.0, translate=0.1, scale=0.5, shear=0.0, perspective=0.0, flipud=0.0, fliplr=0.5, mosaic=1.0, mixup=0.0, copy_paste=0.0, cfg=None, tracker=botsort.yaml, save_dir=/home/irfan/Desktop/Code/Deep-Learning-For-Computer-Vision/runs/detect/train\n",
      "\n",
      "                   from  n    params  module                                       arguments                     \n",
      "  0                  -1  1       928  yolov8.nn.modules.conv.Conv                  [3, 32, 3, 2]                 \n",
      "  1                  -1  1     18560  yolov8.nn.modules.conv.Conv                  [32, 64, 3, 2]                \n",
      "  2                  -1  1     29056  yolov8.nn.modules.block.C2f                  [64, 64, 1, True]             \n",
      "  3                  -1  1     73984  yolov8.nn.modules.conv.Conv                  [64, 128, 3, 2]               \n",
      "  4                  -1  2    197632  yolov8.nn.modules.block.C2f                  [128, 128, 2, True]           \n",
      "  5                  -1  1    295424  yolov8.nn.modules.conv.Conv                  [128, 256, 3, 2]              \n",
      "  6                  -1  2    788480  yolov8.nn.modules.block.C2f                  [256, 256, 2, True]           \n",
      "  7                  -1  1   1180672  yolov8.nn.modules.conv.Conv                  [256, 512, 3, 2]              \n",
      "  8                  -1  1   1838080  yolov8.nn.modules.block.C2f                  [512, 512, 1, True]           \n",
      "  9                  -1  1    656896  yolov8.nn.modules.block.SPPF                 [512, 512, 5]                 \n",
      " 10                  -1  1         0  torch.nn.modules.upsampling.Upsample         [None, 2, 'nearest']          \n",
      " 11             [-1, 6]  1         0  yolov8.nn.modules.conv.Concat                [1]                           \n",
      " 12                  -1  1    591360  yolov8.nn.modules.block.C2f                  [768, 256, 1]                 \n",
      " 13                  -1  1         0  torch.nn.modules.upsampling.Upsample         [None, 2, 'nearest']          \n",
      " 14             [-1, 4]  1         0  yolov8.nn.modules.conv.Concat                [1]                           \n",
      " 15                  -1  1    148224  yolov8.nn.modules.block.C2f                  [384, 128, 1]                 \n",
      " 16                  -1  1    147712  yolov8.nn.modules.conv.Conv                  [128, 128, 3, 2]              \n",
      " 17            [-1, 12]  1         0  yolov8.nn.modules.conv.Concat                [1]                           \n",
      " 18                  -1  1    493056  yolov8.nn.modules.block.C2f                  [384, 256, 1]                 \n",
      " 19                  -1  1    590336  yolov8.nn.modules.conv.Conv                  [256, 256, 3, 2]              \n",
      " 20             [-1, 9]  1         0  yolov8.nn.modules.conv.Concat                [1]                           \n",
      " 21                  -1  1   1969152  yolov8.nn.modules.block.C2f                  [768, 512, 1]                 \n",
      " 22        [15, 18, 21]  1   2122627  yolov8.nn.modules.head.Detect                [17, [128, 256, 512]]         \n",
      "YOLOv8s summary: 225 layers, 11142179 parameters, 11142163 gradients, 28.7 GFLOPs\n",
      "\n",
      "Transferred 70/355 items from pretrained weights\n",
      "WARNING ⚠️ TensorBoard not initialized correctly, not logging this run. module 'numpy' has no attribute 'object'.\n",
      "`np.object` was a deprecated alias for the builtin `object`. To avoid this error in existing code, use `object` by itself. Doing this will not modify any behavior and is safe. \n",
      "The aliases was originally deprecated in NumPy 1.20; for more details and guidance see the original release note at:\n",
      "    https://numpy.org/devdocs/release/1.20.0-notes.html#deprecations\n",
      "Freezing layer 'model.22.dfl.conv.weight'\n"
     ]
    },
    {
     "name": "stderr",
     "output_type": "stream",
     "text": [
      "\u001b[34m\u001b[1mtrain: \u001b[0mScanning /home/irfan/Desktop/Data/Tools segmentation 2.v3i.yolov8/train/labels.cache... 2421 images, 0 backgrounds, 0\u001b[0m\n",
      "\u001b[34m\u001b[1mval: \u001b[0mScanning /home/irfan/Desktop/Data/Tools segmentation 2.v3i.yolov8/valid/labels.cache... 346 images, 0 backgrounds, 0 co\u001b[0m\n"
     ]
    },
    {
     "name": "stdout",
     "output_type": "stream",
     "text": [
      "Plotting labels to /home/irfan/Desktop/Code/Deep-Learning-For-Computer-Vision/logs/exp-v8s/3/train/labels.jpg... \n",
      "\u001b[34m\u001b[1moptimizer:\u001b[0m 'optimizer=auto' found, ignoring 'lr0=0.01' and 'momentum=0.937' and determining best 'optimizer', 'lr0' and 'momentum' automatically... \n",
      "\u001b[34m\u001b[1moptimizer:\u001b[0m AdamW(lr=0.000476, momentum=0.9) with parameter groups 57 weight(decay=0.0), 64 weight(decay=0.0005), 63 bias(decay=0.0)\n",
      "Image sizes 640 train, 640 val\n",
      "Using 4 dataloader workers\n",
      "Logging results to \u001b[1m/home/irfan/Desktop/Code/Deep-Learning-For-Computer-Vision/logs/exp-v8s/3/train\u001b[0m\n",
      "Starting training for 1 epochs...\n",
      "\n",
      "      Epoch    GPU_mem   box_loss   cls_loss   dfl_loss  Instances       Size\n"
     ]
    },
    {
     "name": "stderr",
     "output_type": "stream",
     "text": [
      "        1/1      1.96G      1.068      1.908      1.268          9        640: 100%|██████████| 606/606 [14:29<00:00,  1.43s\n",
      "                 Class     Images  Instances      Box(P          R      mAP50  mAP50-95): 100%|██████████| 44/44 [02:51<00:0"
     ]
    },
    {
     "name": "stdout",
     "output_type": "stream",
     "text": [
      "                   all        346       1645          0          0          0          0\n"
     ]
    },
    {
     "name": "stderr",
     "output_type": "stream",
     "text": [
      "\n"
     ]
    },
    {
     "name": "stdout",
     "output_type": "stream",
     "text": [
      "\n",
      "1 epochs completed in 0.296 hours.\n",
      "Optimizer stripped from /home/irfan/Desktop/Code/Deep-Learning-For-Computer-Vision/logs/exp-v8s/3/train/weights/last.pt, 22.5MB\n",
      "Optimizer stripped from /home/irfan/Desktop/Code/Deep-Learning-For-Computer-Vision/logs/exp-v8s/3/train/weights/best.pt, 22.5MB\n",
      "\n",
      "Validating /home/irfan/Desktop/Code/Deep-Learning-For-Computer-Vision/logs/exp-v8s/3/train/weights/best.pt...\n",
      "Ultralytics YOLOv8.0.216 🚀 Python-3.8.10 torch-1.12.1+cu116 CUDA:0 (NVIDIA GeForce GTX 1660 Ti, 5945MiB)\n",
      "YOLOv8s summary (fused): 168 layers, 11132163 parameters, 0 gradients, 28.5 GFLOPs\n"
     ]
    },
    {
     "name": "stderr",
     "output_type": "stream",
     "text": [
      "                 Class     Images  Instances      Box(P          R      mAP50  mAP50-95): 100%|██████████| 44/44 [02:36<00:0"
     ]
    },
    {
     "name": "stdout",
     "output_type": "stream",
     "text": [
      "                   all        346       1645          0          0          0          0\n"
     ]
    },
    {
     "name": "stderr",
     "output_type": "stream",
     "text": [
      "\n"
     ]
    },
    {
     "name": "stdout",
     "output_type": "stream",
     "text": [
      "Speed: 1.3ms preprocess, 442.9ms inference, 0.0ms loss, 2.1ms postprocess per image\n",
      "Results saved to \u001b[1m/home/irfan/Desktop/Code/Deep-Learning-For-Computer-Vision/logs/exp-v8s/3/train\u001b[0m\n",
      "Ultralytics YOLOv8.0.216 🚀 Python-3.8.10 torch-1.12.1+cu116 CUDA:0 (NVIDIA GeForce GTX 1660 Ti, 5945MiB)\n",
      "YOLOv8s summary (fused): 168 layers, 11132163 parameters, 0 gradients, 28.5 GFLOPs\n"
     ]
    },
    {
     "name": "stderr",
     "output_type": "stream",
     "text": [
      "\u001b[34m\u001b[1mval: \u001b[0mScanning /home/irfan/Desktop/Data/Tools segmentation 2.v3i.yolov8/valid/labels.cache... 346 images, 0 backgrounds, 0 co\u001b[0m\n",
      "                 Class     Images  Instances      Box(P          R      mAP50  mAP50-95): 100%|██████████| 87/87 [00:32<00:0\n"
     ]
    },
    {
     "name": "stdout",
     "output_type": "stream",
     "text": [
      "                   all        346       1645      0.577      0.381      0.435      0.357\n",
      "       -rescent wrench        346        192      0.421      0.906      0.833      0.737\n",
      "               Backsaw        346         33          1          0      0.136      0.122\n",
      "              Calipers        346         11      0.312          1      0.955      0.711\n",
      "        Cutting pliers        346        106      0.289     0.0189      0.221       0.19\n",
      "                 Drill        346         27          0          0          0          0\n",
      "            Gas wrench        346         59      0.804      0.348      0.463      0.388\n",
      "                   Gun        346         34          0          0          0          0\n",
      "                Hammer        346        160      0.606      0.775      0.792      0.692\n",
      "                  Hand        346         44      0.665     0.0903      0.347      0.225\n",
      "               Handsaw        346          4          1          0      0.136      0.122\n",
      "    Needle-nose pliers        346         95      0.608      0.589      0.655      0.575\n",
      "                Pliers        346         51      0.518      0.471      0.449      0.401\n",
      "               Ratchet        346         71      0.701      0.493      0.558      0.507\n",
      "           Screwdriver        346        447      0.644       0.74      0.722      0.538\n",
      "          Tape measure        346         16      0.633      0.433      0.431      0.305\n",
      "         Utility knife        346         10          1          0     0.0621     0.0555\n",
      "                Wrench        346        285      0.599      0.608      0.629      0.492\n",
      "Speed: 1.8ms preprocess, 62.7ms inference, 0.0ms loss, 6.0ms postprocess per image\n",
      "Results saved to \u001b[1m/home/irfan/Desktop/Code/Deep-Learning-For-Computer-Vision/logs/exp-v8s/3/val\u001b[0m\n",
      "Ultralytics YOLOv8.0.216 🚀 Python-3.8.10 torch-1.12.1+cu116 CUDA:0 (NVIDIA GeForce GTX 1660 Ti, 5945MiB)\n",
      "WARNING ⚠️ Upgrade to torch>=2.0.0 for deterministic training.\n",
      "\u001b[34m\u001b[1mengine/trainer: \u001b[0mtask=detect, mode=train, model=yolov8s.yaml, data=/home/irfan/Desktop/Data/Tools segmentation 2.v3i.yolov8/data.yaml, epochs=1, patience=50, batch=4, imgsz=640, save=True, save_period=-1, cache=False, device=None, workers=8, project=None, name=train, exist_ok=True, pretrained=True, optimizer=auto, verbose=True, seed=0, deterministic=True, single_cls=False, rect=False, cos_lr=False, close_mosaic=10, resume=False, amp=False, fraction=1.0, profile=False, freeze=None, overlap_mask=True, mask_ratio=4, dropout=0.0, val=True, split=val, save_json=False, save_hybrid=False, conf=0.01, iou=0.7, max_det=50, half=False, dnn=False, plots=True, source=None, show=False, save_txt=False, save_conf=False, save_crop=False, show_labels=True, show_conf=True, vid_stride=1, stream_buffer=False, line_width=None, visualize=False, augment=False, agnostic_nms=False, classes=None, retina_masks=False, boxes=True, format=torchscript, keras=False, optimize=False, int8=False, dynamic=False, simplify=False, opset=None, workspace=4, nms=False, lr0=0.01, lrf=0.01, momentum=0.937, weight_decay=0.0005, warmup_epochs=3.0, warmup_momentum=0.8, warmup_bias_lr=0.0, box=7.5, cls=0.5, dfl=1.5, pose=12.0, kobj=1.0, label_smoothing=0.0, nbs=64, hsv_h=0.015, hsv_s=0.7, hsv_v=0.4, degrees=0.0, translate=0.1, scale=0.5, shear=0.0, perspective=0.0, flipud=0.0, fliplr=0.5, mosaic=1.0, mixup=0.0, copy_paste=0.0, cfg=None, tracker=botsort.yaml, save_dir=/home/irfan/Desktop/Code/Deep-Learning-For-Computer-Vision/runs/detect/train\n",
      "\n",
      "                   from  n    params  module                                       arguments                     \n",
      "  0                  -1  1       928  yolov8.nn.modules.conv.Conv                  [3, 32, 3, 2]                 \n",
      "  1                  -1  1     18560  yolov8.nn.modules.conv.Conv                  [32, 64, 3, 2]                \n",
      "  2                  -1  1     29056  yolov8.nn.modules.block.C2f                  [64, 64, 1, True]             \n",
      "  3                  -1  1     73984  yolov8.nn.modules.conv.Conv                  [64, 128, 3, 2]               \n",
      "  4                  -1  2    197632  yolov8.nn.modules.block.C2f                  [128, 128, 2, True]           \n",
      "  5                  -1  1    295424  yolov8.nn.modules.conv.Conv                  [128, 256, 3, 2]              \n",
      "  6                  -1  2    788480  yolov8.nn.modules.block.C2f                  [256, 256, 2, True]           \n",
      "  7                  -1  1   1180672  yolov8.nn.modules.conv.Conv                  [256, 512, 3, 2]              \n",
      "  8                  -1  1   1838080  yolov8.nn.modules.block.C2f                  [512, 512, 1, True]           \n",
      "  9                  -1  1    656896  yolov8.nn.modules.block.SPPF                 [512, 512, 5]                 \n",
      " 10                  -1  1         0  torch.nn.modules.upsampling.Upsample         [None, 2, 'nearest']          \n",
      " 11             [-1, 6]  1         0  yolov8.nn.modules.conv.Concat                [1]                           \n",
      " 12                  -1  1    591360  yolov8.nn.modules.block.C2f                  [768, 256, 1]                 \n",
      " 13                  -1  1         0  torch.nn.modules.upsampling.Upsample         [None, 2, 'nearest']          \n",
      " 14             [-1, 4]  1         0  yolov8.nn.modules.conv.Concat                [1]                           \n",
      " 15                  -1  1    148224  yolov8.nn.modules.block.C2f                  [384, 128, 1]                 \n",
      " 16                  -1  1    147712  yolov8.nn.modules.conv.Conv                  [128, 128, 3, 2]              \n",
      " 17            [-1, 12]  1         0  yolov8.nn.modules.conv.Concat                [1]                           \n",
      " 18                  -1  1    493056  yolov8.nn.modules.block.C2f                  [384, 256, 1]                 \n",
      " 19                  -1  1    590336  yolov8.nn.modules.conv.Conv                  [256, 256, 3, 2]              \n",
      " 20             [-1, 9]  1         0  yolov8.nn.modules.conv.Concat                [1]                           \n",
      " 21                  -1  1   1969152  yolov8.nn.modules.block.C2f                  [768, 512, 1]                 \n",
      " 22        [15, 18, 21]  1   2122627  yolov8.nn.modules.head.Detect                [17, [128, 256, 512]]         \n",
      "YOLOv8s summary: 225 layers, 11142179 parameters, 11142163 gradients, 28.7 GFLOPs\n",
      "\n",
      "Transferred 70/355 items from pretrained weights\n",
      "WARNING ⚠️ TensorBoard not initialized correctly, not logging this run. module 'numpy' has no attribute 'object'.\n",
      "`np.object` was a deprecated alias for the builtin `object`. To avoid this error in existing code, use `object` by itself. Doing this will not modify any behavior and is safe. \n",
      "The aliases was originally deprecated in NumPy 1.20; for more details and guidance see the original release note at:\n",
      "    https://numpy.org/devdocs/release/1.20.0-notes.html#deprecations\n",
      "Freezing layer 'model.22.dfl.conv.weight'\n"
     ]
    },
    {
     "name": "stderr",
     "output_type": "stream",
     "text": [
      "\u001b[34m\u001b[1mtrain: \u001b[0mScanning /home/irfan/Desktop/Data/Tools segmentation 2.v3i.yolov8/train/labels.cache... 2421 images, 0 backgrounds, 0\u001b[0m\n",
      "\u001b[34m\u001b[1mval: \u001b[0mScanning /home/irfan/Desktop/Data/Tools segmentation 2.v3i.yolov8/valid/labels.cache... 346 images, 0 backgrounds, 0 co\u001b[0m\n"
     ]
    },
    {
     "name": "stdout",
     "output_type": "stream",
     "text": [
      "Plotting labels to /home/irfan/Desktop/Code/Deep-Learning-For-Computer-Vision/logs/exp-v8s/4/train/labels.jpg... \n",
      "\u001b[34m\u001b[1moptimizer:\u001b[0m 'optimizer=auto' found, ignoring 'lr0=0.01' and 'momentum=0.937' and determining best 'optimizer', 'lr0' and 'momentum' automatically... \n",
      "\u001b[34m\u001b[1moptimizer:\u001b[0m AdamW(lr=0.000476, momentum=0.9) with parameter groups 57 weight(decay=0.0), 64 weight(decay=0.0005), 63 bias(decay=0.0)\n",
      "Image sizes 640 train, 640 val\n",
      "Using 4 dataloader workers\n",
      "Logging results to \u001b[1m/home/irfan/Desktop/Code/Deep-Learning-For-Computer-Vision/logs/exp-v8s/4/train\u001b[0m\n",
      "Starting training for 1 epochs...\n",
      "\n",
      "      Epoch    GPU_mem   box_loss   cls_loss   dfl_loss  Instances       Size\n"
     ]
    },
    {
     "name": "stderr",
     "output_type": "stream",
     "text": [
      "        1/1      1.96G     0.9609      1.641      1.204          9        640: 100%|██████████| 606/606 [11:06<00:00,  1.10s\n",
      "                 Class     Images  Instances      Box(P          R      mAP50  mAP50-95): 100%|██████████| 44/44 [00:14<00:0"
     ]
    },
    {
     "name": "stdout",
     "output_type": "stream",
     "text": [
      "                   all        346       1645          0          0          0          0\n"
     ]
    },
    {
     "name": "stderr",
     "output_type": "stream",
     "text": [
      "\n"
     ]
    },
    {
     "name": "stdout",
     "output_type": "stream",
     "text": [
      "\n",
      "1 epochs completed in 0.191 hours.\n",
      "Optimizer stripped from /home/irfan/Desktop/Code/Deep-Learning-For-Computer-Vision/logs/exp-v8s/4/train/weights/last.pt, 22.5MB\n",
      "Optimizer stripped from /home/irfan/Desktop/Code/Deep-Learning-For-Computer-Vision/logs/exp-v8s/4/train/weights/best.pt, 22.5MB\n",
      "\n",
      "Validating /home/irfan/Desktop/Code/Deep-Learning-For-Computer-Vision/logs/exp-v8s/4/train/weights/best.pt...\n",
      "Ultralytics YOLOv8.0.216 🚀 Python-3.8.10 torch-1.12.1+cu116 CUDA:0 (NVIDIA GeForce GTX 1660 Ti, 5945MiB)\n",
      "YOLOv8s summary (fused): 168 layers, 11132163 parameters, 0 gradients, 28.5 GFLOPs\n"
     ]
    },
    {
     "name": "stderr",
     "output_type": "stream",
     "text": [
      "                 Class     Images  Instances      Box(P          R      mAP50  mAP50-95): 100%|██████████| 44/44 [00:13<00:0"
     ]
    },
    {
     "name": "stdout",
     "output_type": "stream",
     "text": [
      "                   all        346       1645          0          0          0          0\n"
     ]
    },
    {
     "name": "stderr",
     "output_type": "stream",
     "text": [
      "\n"
     ]
    },
    {
     "name": "stdout",
     "output_type": "stream",
     "text": [
      "Speed: 0.3ms preprocess, 36.6ms inference, 0.0ms loss, 0.4ms postprocess per image\n",
      "Results saved to \u001b[1m/home/irfan/Desktop/Code/Deep-Learning-For-Computer-Vision/logs/exp-v8s/4/train\u001b[0m\n",
      "Ultralytics YOLOv8.0.216 🚀 Python-3.8.10 torch-1.12.1+cu116 CUDA:0 (NVIDIA GeForce GTX 1660 Ti, 5945MiB)\n",
      "YOLOv8s summary (fused): 168 layers, 11132163 parameters, 0 gradients, 28.5 GFLOPs\n"
     ]
    },
    {
     "name": "stderr",
     "output_type": "stream",
     "text": [
      "\u001b[34m\u001b[1mval: \u001b[0mScanning /home/irfan/Desktop/Data/Tools segmentation 2.v3i.yolov8/valid/labels.cache... 346 images, 0 backgrounds, 0 co\u001b[0m\n",
      "                 Class     Images  Instances      Box(P          R      mAP50  mAP50-95): 100%|██████████| 87/87 [00:13<00:0\n"
     ]
    },
    {
     "name": "stdout",
     "output_type": "stream",
     "text": [
      "                   all        346       1645      0.539      0.418      0.492      0.403\n",
      "       -rescent wrench        346        192      0.496      0.917      0.859      0.766\n",
      "               Backsaw        346         33          1          0      0.495       0.44\n",
      "              Calipers        346         11      0.563          1      0.981      0.642\n",
      "        Cutting pliers        346        106      0.295    0.00557      0.191      0.164\n",
      "                 Drill        346         27          1          0      0.259      0.233\n",
      "            Gas wrench        346         59      0.644      0.441      0.461      0.379\n",
      "                   Gun        346         34          0          0          0          0\n",
      "                Hammer        346        160      0.616      0.719       0.75      0.663\n",
      "                  Hand        346         44      0.725       0.24      0.408      0.286\n",
      "               Handsaw        346          4      0.246      0.123      0.187      0.169\n",
      "    Needle-nose pliers        346         95      0.529      0.556      0.581      0.508\n",
      "                Pliers        346         51      0.663      0.424       0.58      0.522\n",
      "               Ratchet        346         71      0.464      0.592      0.601      0.549\n",
      "           Screwdriver        346        447      0.499      0.832      0.761      0.557\n",
      "          Tape measure        346         16      0.662      0.491      0.487      0.356\n",
      "         Utility knife        346         10      0.329        0.1     0.0982     0.0913\n",
      "                Wrench        346        285      0.426       0.67      0.665      0.528\n",
      "Speed: 0.6ms preprocess, 24.8ms inference, 0.0ms loss, 2.5ms postprocess per image\n",
      "Results saved to \u001b[1m/home/irfan/Desktop/Code/Deep-Learning-For-Computer-Vision/logs/exp-v8s/4/val\u001b[0m\n",
      "Ultralytics YOLOv8.0.216 🚀 Python-3.8.10 torch-1.12.1+cu116 CUDA:0 (NVIDIA GeForce GTX 1660 Ti, 5945MiB)\n",
      "WARNING ⚠️ Upgrade to torch>=2.0.0 for deterministic training.\n",
      "\u001b[34m\u001b[1mengine/trainer: \u001b[0mtask=detect, mode=train, model=yolov8s.yaml, data=/home/irfan/Desktop/Data/Tools segmentation 2.v3i.yolov8/data.yaml, epochs=1, patience=50, batch=4, imgsz=640, save=True, save_period=-1, cache=False, device=None, workers=8, project=None, name=train, exist_ok=True, pretrained=True, optimizer=auto, verbose=True, seed=0, deterministic=True, single_cls=False, rect=False, cos_lr=False, close_mosaic=10, resume=False, amp=False, fraction=1.0, profile=False, freeze=None, overlap_mask=True, mask_ratio=4, dropout=0.0, val=True, split=val, save_json=False, save_hybrid=False, conf=0.01, iou=0.7, max_det=50, half=False, dnn=False, plots=True, source=None, show=False, save_txt=False, save_conf=False, save_crop=False, show_labels=True, show_conf=True, vid_stride=1, stream_buffer=False, line_width=None, visualize=False, augment=False, agnostic_nms=False, classes=None, retina_masks=False, boxes=True, format=torchscript, keras=False, optimize=False, int8=False, dynamic=False, simplify=False, opset=None, workspace=4, nms=False, lr0=0.01, lrf=0.01, momentum=0.937, weight_decay=0.0005, warmup_epochs=3.0, warmup_momentum=0.8, warmup_bias_lr=0.0, box=7.5, cls=0.5, dfl=1.5, pose=12.0, kobj=1.0, label_smoothing=0.0, nbs=64, hsv_h=0.015, hsv_s=0.7, hsv_v=0.4, degrees=0.0, translate=0.1, scale=0.5, shear=0.0, perspective=0.0, flipud=0.0, fliplr=0.5, mosaic=1.0, mixup=0.0, copy_paste=0.0, cfg=None, tracker=botsort.yaml, save_dir=/home/irfan/Desktop/Code/Deep-Learning-For-Computer-Vision/runs/detect/train\n",
      "\n",
      "                   from  n    params  module                                       arguments                     \n",
      "  0                  -1  1       928  yolov8.nn.modules.conv.Conv                  [3, 32, 3, 2]                 \n",
      "  1                  -1  1     18560  yolov8.nn.modules.conv.Conv                  [32, 64, 3, 2]                \n",
      "  2                  -1  1     29056  yolov8.nn.modules.block.C2f                  [64, 64, 1, True]             \n",
      "  3                  -1  1     73984  yolov8.nn.modules.conv.Conv                  [64, 128, 3, 2]               \n",
      "  4                  -1  2    197632  yolov8.nn.modules.block.C2f                  [128, 128, 2, True]           \n",
      "  5                  -1  1    295424  yolov8.nn.modules.conv.Conv                  [128, 256, 3, 2]              \n",
      "  6                  -1  2    788480  yolov8.nn.modules.block.C2f                  [256, 256, 2, True]           \n",
      "  7                  -1  1   1180672  yolov8.nn.modules.conv.Conv                  [256, 512, 3, 2]              \n",
      "  8                  -1  1   1838080  yolov8.nn.modules.block.C2f                  [512, 512, 1, True]           \n",
      "  9                  -1  1    656896  yolov8.nn.modules.block.SPPF                 [512, 512, 5]                 \n",
      " 10                  -1  1         0  torch.nn.modules.upsampling.Upsample         [None, 2, 'nearest']          \n",
      " 11             [-1, 6]  1         0  yolov8.nn.modules.conv.Concat                [1]                           \n",
      " 12                  -1  1    591360  yolov8.nn.modules.block.C2f                  [768, 256, 1]                 \n",
      " 13                  -1  1         0  torch.nn.modules.upsampling.Upsample         [None, 2, 'nearest']          \n",
      " 14             [-1, 4]  1         0  yolov8.nn.modules.conv.Concat                [1]                           \n",
      " 15                  -1  1    148224  yolov8.nn.modules.block.C2f                  [384, 128, 1]                 \n",
      " 16                  -1  1    147712  yolov8.nn.modules.conv.Conv                  [128, 128, 3, 2]              \n",
      " 17            [-1, 12]  1         0  yolov8.nn.modules.conv.Concat                [1]                           \n",
      " 18                  -1  1    493056  yolov8.nn.modules.block.C2f                  [384, 256, 1]                 \n",
      " 19                  -1  1    590336  yolov8.nn.modules.conv.Conv                  [256, 256, 3, 2]              \n",
      " 20             [-1, 9]  1         0  yolov8.nn.modules.conv.Concat                [1]                           \n",
      " 21                  -1  1   1969152  yolov8.nn.modules.block.C2f                  [768, 512, 1]                 \n",
      " 22        [15, 18, 21]  1   2122627  yolov8.nn.modules.head.Detect                [17, [128, 256, 512]]         \n",
      "YOLOv8s summary: 225 layers, 11142179 parameters, 11142163 gradients, 28.7 GFLOPs\n",
      "\n",
      "Transferred 70/355 items from pretrained weights\n",
      "WARNING ⚠️ TensorBoard not initialized correctly, not logging this run. module 'numpy' has no attribute 'object'.\n",
      "`np.object` was a deprecated alias for the builtin `object`. To avoid this error in existing code, use `object` by itself. Doing this will not modify any behavior and is safe. \n",
      "The aliases was originally deprecated in NumPy 1.20; for more details and guidance see the original release note at:\n",
      "    https://numpy.org/devdocs/release/1.20.0-notes.html#deprecations\n",
      "Freezing layer 'model.22.dfl.conv.weight'\n"
     ]
    },
    {
     "name": "stderr",
     "output_type": "stream",
     "text": [
      "\u001b[34m\u001b[1mtrain: \u001b[0mScanning /home/irfan/Desktop/Data/Tools segmentation 2.v3i.yolov8/train/labels.cache... 2421 images, 0 backgrounds, 0\u001b[0m\n",
      "\u001b[34m\u001b[1mval: \u001b[0mScanning /home/irfan/Desktop/Data/Tools segmentation 2.v3i.yolov8/valid/labels.cache... 346 images, 0 backgrounds, 0 co\u001b[0m\n"
     ]
    },
    {
     "name": "stdout",
     "output_type": "stream",
     "text": [
      "Plotting labels to /home/irfan/Desktop/Code/Deep-Learning-For-Computer-Vision/logs/exp-v8s/5/train/labels.jpg... \n",
      "\u001b[34m\u001b[1moptimizer:\u001b[0m 'optimizer=auto' found, ignoring 'lr0=0.01' and 'momentum=0.937' and determining best 'optimizer', 'lr0' and 'momentum' automatically... \n",
      "\u001b[34m\u001b[1moptimizer:\u001b[0m AdamW(lr=0.000476, momentum=0.9) with parameter groups 57 weight(decay=0.0), 64 weight(decay=0.0005), 63 bias(decay=0.0)\n",
      "Image sizes 640 train, 640 val\n",
      "Using 4 dataloader workers\n",
      "Logging results to \u001b[1m/home/irfan/Desktop/Code/Deep-Learning-For-Computer-Vision/logs/exp-v8s/5/train\u001b[0m\n",
      "Starting training for 1 epochs...\n",
      "\n",
      "      Epoch    GPU_mem   box_loss   cls_loss   dfl_loss  Instances       Size\n"
     ]
    },
    {
     "name": "stderr",
     "output_type": "stream",
     "text": [
      "        1/1      2.02G     0.8921      1.445      1.162          9        640: 100%|██████████| 606/606 [12:42<00:00,  1.26s\n",
      "                 Class     Images  Instances      Box(P          R      mAP50  mAP50-95): 100%|██████████| 44/44 [00:29<00:0"
     ]
    },
    {
     "name": "stdout",
     "output_type": "stream",
     "text": [
      "                   all        346       1645          0          0          0          0\n"
     ]
    },
    {
     "name": "stderr",
     "output_type": "stream",
     "text": [
      "\n"
     ]
    },
    {
     "name": "stdout",
     "output_type": "stream",
     "text": [
      "\n",
      "1 epochs completed in 0.223 hours.\n",
      "Optimizer stripped from /home/irfan/Desktop/Code/Deep-Learning-For-Computer-Vision/logs/exp-v8s/5/train/weights/last.pt, 22.5MB\n",
      "Optimizer stripped from /home/irfan/Desktop/Code/Deep-Learning-For-Computer-Vision/logs/exp-v8s/5/train/weights/best.pt, 22.5MB\n",
      "\n",
      "Validating /home/irfan/Desktop/Code/Deep-Learning-For-Computer-Vision/logs/exp-v8s/5/train/weights/best.pt...\n",
      "Ultralytics YOLOv8.0.216 🚀 Python-3.8.10 torch-1.12.1+cu116 CUDA:0 (NVIDIA GeForce GTX 1660 Ti, 5945MiB)\n",
      "YOLOv8s summary (fused): 168 layers, 11132163 parameters, 0 gradients, 28.5 GFLOPs\n"
     ]
    },
    {
     "name": "stderr",
     "output_type": "stream",
     "text": [
      "                 Class     Images  Instances      Box(P          R      mAP50  mAP50-95): 100%|██████████| 44/44 [00:26<00:0"
     ]
    },
    {
     "name": "stdout",
     "output_type": "stream",
     "text": [
      "                   all        346       1645          0          0          0          0\n"
     ]
    },
    {
     "name": "stderr",
     "output_type": "stream",
     "text": [
      "\n"
     ]
    },
    {
     "name": "stdout",
     "output_type": "stream",
     "text": [
      "Speed: 0.4ms preprocess, 73.0ms inference, 0.0ms loss, 0.8ms postprocess per image\n",
      "Results saved to \u001b[1m/home/irfan/Desktop/Code/Deep-Learning-For-Computer-Vision/logs/exp-v8s/5/train\u001b[0m\n",
      "Ultralytics YOLOv8.0.216 🚀 Python-3.8.10 torch-1.12.1+cu116 CUDA:0 (NVIDIA GeForce GTX 1660 Ti, 5945MiB)\n",
      "YOLOv8s summary (fused): 168 layers, 11132163 parameters, 0 gradients, 28.5 GFLOPs\n"
     ]
    },
    {
     "name": "stderr",
     "output_type": "stream",
     "text": [
      "\u001b[34m\u001b[1mval: \u001b[0mScanning /home/irfan/Desktop/Data/Tools segmentation 2.v3i.yolov8/valid/labels.cache... 346 images, 0 backgrounds, 0 co\u001b[0m\n",
      "                 Class     Images  Instances      Box(P          R      mAP50  mAP50-95): 100%|██████████| 87/87 [00:30<00:0\n"
     ]
    },
    {
     "name": "stdout",
     "output_type": "stream",
     "text": [
      "                   all        346       1645      0.501      0.439      0.473      0.385\n",
      "       -rescent wrench        346        192      0.481      0.943      0.892      0.793\n",
      "               Backsaw        346         33      0.865      0.182      0.601      0.482\n",
      "              Calipers        346         11      0.787          1      0.988       0.71\n",
      "        Cutting pliers        346        106       0.43     0.0283       0.16      0.136\n",
      "                 Drill        346         27          1          0          0          0\n",
      "            Gas wrench        346         59      0.428      0.441       0.46      0.358\n",
      "                   Gun        346         34          0          0          0          0\n",
      "                Hammer        346        160      0.809      0.505      0.686      0.616\n",
      "                  Hand        346         44      0.598      0.227      0.248      0.171\n",
      "               Handsaw        346          4      0.295      0.147      0.215      0.194\n",
      "    Needle-nose pliers        346         95      0.484      0.568      0.585      0.511\n",
      "                Pliers        346         51      0.644      0.569      0.588      0.538\n",
      "               Ratchet        346         71      0.279      0.803       0.63      0.565\n",
      "           Screwdriver        346        447      0.448      0.855      0.767       0.57\n",
      "          Tape measure        346         16       0.59      0.438      0.479      0.304\n",
      "         Utility knife        346         10          0          0     0.0634     0.0559\n",
      "                Wrench        346        285      0.376      0.751      0.682      0.542\n",
      "Speed: 0.9ms preprocess, 70.3ms inference, 0.0ms loss, 4.4ms postprocess per image\n",
      "Results saved to \u001b[1m/home/irfan/Desktop/Code/Deep-Learning-For-Computer-Vision/logs/exp-v8s/5/val\u001b[0m\n",
      "Ultralytics YOLOv8.0.216 🚀 Python-3.8.10 torch-1.12.1+cu116 CUDA:0 (NVIDIA GeForce GTX 1660 Ti, 5945MiB)\n",
      "WARNING ⚠️ Upgrade to torch>=2.0.0 for deterministic training.\n",
      "\u001b[34m\u001b[1mengine/trainer: \u001b[0mtask=detect, mode=train, model=yolov8s.yaml, data=/home/irfan/Desktop/Data/Tools segmentation 2.v3i.yolov8/data.yaml, epochs=1, patience=50, batch=4, imgsz=640, save=True, save_period=-1, cache=False, device=None, workers=8, project=None, name=train, exist_ok=True, pretrained=True, optimizer=auto, verbose=True, seed=0, deterministic=True, single_cls=False, rect=False, cos_lr=False, close_mosaic=10, resume=False, amp=False, fraction=1.0, profile=False, freeze=None, overlap_mask=True, mask_ratio=4, dropout=0.0, val=True, split=val, save_json=False, save_hybrid=False, conf=0.01, iou=0.7, max_det=50, half=False, dnn=False, plots=True, source=None, show=False, save_txt=False, save_conf=False, save_crop=False, show_labels=True, show_conf=True, vid_stride=1, stream_buffer=False, line_width=None, visualize=False, augment=False, agnostic_nms=False, classes=None, retina_masks=False, boxes=True, format=torchscript, keras=False, optimize=False, int8=False, dynamic=False, simplify=False, opset=None, workspace=4, nms=False, lr0=0.01, lrf=0.01, momentum=0.937, weight_decay=0.0005, warmup_epochs=3.0, warmup_momentum=0.8, warmup_bias_lr=0.0, box=7.5, cls=0.5, dfl=1.5, pose=12.0, kobj=1.0, label_smoothing=0.0, nbs=64, hsv_h=0.015, hsv_s=0.7, hsv_v=0.4, degrees=0.0, translate=0.1, scale=0.5, shear=0.0, perspective=0.0, flipud=0.0, fliplr=0.5, mosaic=1.0, mixup=0.0, copy_paste=0.0, cfg=None, tracker=botsort.yaml, save_dir=/home/irfan/Desktop/Code/Deep-Learning-For-Computer-Vision/runs/detect/train\n",
      "\n",
      "                   from  n    params  module                                       arguments                     \n",
      "  0                  -1  1       928  yolov8.nn.modules.conv.Conv                  [3, 32, 3, 2]                 \n",
      "  1                  -1  1     18560  yolov8.nn.modules.conv.Conv                  [32, 64, 3, 2]                \n",
      "  2                  -1  1     29056  yolov8.nn.modules.block.C2f                  [64, 64, 1, True]             \n",
      "  3                  -1  1     73984  yolov8.nn.modules.conv.Conv                  [64, 128, 3, 2]               \n",
      "  4                  -1  2    197632  yolov8.nn.modules.block.C2f                  [128, 128, 2, True]           \n",
      "  5                  -1  1    295424  yolov8.nn.modules.conv.Conv                  [128, 256, 3, 2]              \n",
      "  6                  -1  2    788480  yolov8.nn.modules.block.C2f                  [256, 256, 2, True]           \n",
      "  7                  -1  1   1180672  yolov8.nn.modules.conv.Conv                  [256, 512, 3, 2]              \n",
      "  8                  -1  1   1838080  yolov8.nn.modules.block.C2f                  [512, 512, 1, True]           \n",
      "  9                  -1  1    656896  yolov8.nn.modules.block.SPPF                 [512, 512, 5]                 \n",
      " 10                  -1  1         0  torch.nn.modules.upsampling.Upsample         [None, 2, 'nearest']          \n",
      " 11             [-1, 6]  1         0  yolov8.nn.modules.conv.Concat                [1]                           \n",
      " 12                  -1  1    591360  yolov8.nn.modules.block.C2f                  [768, 256, 1]                 \n",
      " 13                  -1  1         0  torch.nn.modules.upsampling.Upsample         [None, 2, 'nearest']          \n",
      " 14             [-1, 4]  1         0  yolov8.nn.modules.conv.Concat                [1]                           \n",
      " 15                  -1  1    148224  yolov8.nn.modules.block.C2f                  [384, 128, 1]                 \n",
      " 16                  -1  1    147712  yolov8.nn.modules.conv.Conv                  [128, 128, 3, 2]              \n",
      " 17            [-1, 12]  1         0  yolov8.nn.modules.conv.Concat                [1]                           \n",
      " 18                  -1  1    493056  yolov8.nn.modules.block.C2f                  [384, 256, 1]                 \n",
      " 19                  -1  1    590336  yolov8.nn.modules.conv.Conv                  [256, 256, 3, 2]              \n",
      " 20             [-1, 9]  1         0  yolov8.nn.modules.conv.Concat                [1]                           \n",
      " 21                  -1  1   1969152  yolov8.nn.modules.block.C2f                  [768, 512, 1]                 \n",
      " 22        [15, 18, 21]  1   2122627  yolov8.nn.modules.head.Detect                [17, [128, 256, 512]]         \n",
      "YOLOv8s summary: 225 layers, 11142179 parameters, 11142163 gradients, 28.7 GFLOPs\n",
      "\n",
      "Transferred 70/355 items from pretrained weights\n",
      "WARNING ⚠️ TensorBoard not initialized correctly, not logging this run. module 'numpy' has no attribute 'object'.\n",
      "`np.object` was a deprecated alias for the builtin `object`. To avoid this error in existing code, use `object` by itself. Doing this will not modify any behavior and is safe. \n",
      "The aliases was originally deprecated in NumPy 1.20; for more details and guidance see the original release note at:\n",
      "    https://numpy.org/devdocs/release/1.20.0-notes.html#deprecations\n",
      "Freezing layer 'model.22.dfl.conv.weight'\n"
     ]
    },
    {
     "name": "stderr",
     "output_type": "stream",
     "text": [
      "\u001b[34m\u001b[1mtrain: \u001b[0mScanning /home/irfan/Desktop/Data/Tools segmentation 2.v3i.yolov8/train/labels.cache... 2421 images, 0 backgrounds, 0\u001b[0m\n",
      "\u001b[34m\u001b[1mval: \u001b[0mScanning /home/irfan/Desktop/Data/Tools segmentation 2.v3i.yolov8/valid/labels.cache... 346 images, 0 backgrounds, 0 co\u001b[0m\n"
     ]
    },
    {
     "name": "stdout",
     "output_type": "stream",
     "text": [
      "Plotting labels to /home/irfan/Desktop/Code/Deep-Learning-For-Computer-Vision/logs/exp-v8s/6/train/labels.jpg... \n",
      "\u001b[34m\u001b[1moptimizer:\u001b[0m 'optimizer=auto' found, ignoring 'lr0=0.01' and 'momentum=0.937' and determining best 'optimizer', 'lr0' and 'momentum' automatically... \n",
      "\u001b[34m\u001b[1moptimizer:\u001b[0m AdamW(lr=0.000476, momentum=0.9) with parameter groups 57 weight(decay=0.0), 64 weight(decay=0.0005), 63 bias(decay=0.0)\n",
      "Image sizes 640 train, 640 val\n",
      "Using 4 dataloader workers\n",
      "Logging results to \u001b[1m/home/irfan/Desktop/Code/Deep-Learning-For-Computer-Vision/logs/exp-v8s/6/train\u001b[0m\n",
      "Starting training for 1 epochs...\n",
      "\n",
      "      Epoch    GPU_mem   box_loss   cls_loss   dfl_loss  Instances       Size\n"
     ]
    },
    {
     "name": "stderr",
     "output_type": "stream",
     "text": [
      "        1/1      1.95G     0.8413      1.305      1.132          9        640: 100%|██████████| 606/606 [09:52<00:00,  1.02i\n",
      "                 Class     Images  Instances      Box(P          R      mAP50  mAP50-95): 100%|██████████| 44/44 [00:30<00:0"
     ]
    },
    {
     "name": "stdout",
     "output_type": "stream",
     "text": [
      "                   all        346       1645          0          0          0          0\n"
     ]
    },
    {
     "name": "stderr",
     "output_type": "stream",
     "text": [
      "\n"
     ]
    },
    {
     "name": "stdout",
     "output_type": "stream",
     "text": [
      "\n",
      "1 epochs completed in 0.175 hours.\n",
      "Optimizer stripped from /home/irfan/Desktop/Code/Deep-Learning-For-Computer-Vision/logs/exp-v8s/6/train/weights/last.pt, 22.5MB\n",
      "Optimizer stripped from /home/irfan/Desktop/Code/Deep-Learning-For-Computer-Vision/logs/exp-v8s/6/train/weights/best.pt, 22.5MB\n",
      "\n",
      "Validating /home/irfan/Desktop/Code/Deep-Learning-For-Computer-Vision/logs/exp-v8s/6/train/weights/best.pt...\n",
      "Ultralytics YOLOv8.0.216 🚀 Python-3.8.10 torch-1.12.1+cu116 CUDA:0 (NVIDIA GeForce GTX 1660 Ti, 5945MiB)\n",
      "YOLOv8s summary (fused): 168 layers, 11132163 parameters, 0 gradients, 28.5 GFLOPs\n"
     ]
    },
    {
     "name": "stderr",
     "output_type": "stream",
     "text": [
      "                 Class     Images  Instances      Box(P          R      mAP50  mAP50-95): 100%|██████████| 44/44 [00:22<00:0"
     ]
    },
    {
     "name": "stdout",
     "output_type": "stream",
     "text": [
      "                   all        346       1645          0          0          0          0\n"
     ]
    },
    {
     "name": "stderr",
     "output_type": "stream",
     "text": [
      "\n"
     ]
    },
    {
     "name": "stdout",
     "output_type": "stream",
     "text": [
      "Speed: 0.2ms preprocess, 63.4ms inference, 0.0ms loss, 0.4ms postprocess per image\n",
      "Results saved to \u001b[1m/home/irfan/Desktop/Code/Deep-Learning-For-Computer-Vision/logs/exp-v8s/6/train\u001b[0m\n",
      "Ultralytics YOLOv8.0.216 🚀 Python-3.8.10 torch-1.12.1+cu116 CUDA:0 (NVIDIA GeForce GTX 1660 Ti, 5945MiB)\n",
      "YOLOv8s summary (fused): 168 layers, 11132163 parameters, 0 gradients, 28.5 GFLOPs\n"
     ]
    },
    {
     "name": "stderr",
     "output_type": "stream",
     "text": [
      "\u001b[34m\u001b[1mval: \u001b[0mScanning /home/irfan/Desktop/Data/Tools segmentation 2.v3i.yolov8/valid/labels.cache... 346 images, 0 backgrounds, 0 co\u001b[0m\n",
      "                 Class     Images  Instances      Box(P          R      mAP50  mAP50-95): 100%|██████████| 87/87 [00:24<00:0\n"
     ]
    },
    {
     "name": "stdout",
     "output_type": "stream",
     "text": [
      "                   all        346       1645      0.594      0.437      0.526      0.418\n",
      "       -rescent wrench        346        192      0.419      0.943      0.898      0.796\n",
      "               Backsaw        346         33          1      0.485      0.796      0.393\n",
      "              Calipers        346         11      0.561          1      0.923      0.701\n",
      "        Cutting pliers        346        106      0.465     0.0283      0.218      0.195\n",
      "                 Drill        346         27          1          0     0.0201     0.0181\n",
      "            Gas wrench        346         59      0.402      0.475      0.525      0.439\n",
      "                   Gun        346         34          1          0      0.574      0.549\n",
      "                Hammer        346        160        0.8      0.631      0.763      0.676\n",
      "                  Hand        346         44      0.617       0.25       0.29      0.184\n",
      "               Handsaw        346          4          0          0      0.102     0.0852\n",
      "    Needle-nose pliers        346         95      0.618        0.6      0.678      0.592\n",
      "                Pliers        346         51      0.518      0.421      0.516       0.46\n",
      "               Ratchet        346         71      0.447      0.803      0.676      0.597\n",
      "           Screwdriver        346        447      0.693      0.767      0.786      0.584\n",
      "          Tape measure        346         16      0.827      0.301      0.447      0.278\n",
      "         Utility knife        346         10     0.0942     0.0659     0.0366     0.0302\n",
      "                Wrench        346        285      0.636      0.653      0.694      0.529\n",
      "Speed: 0.6ms preprocess, 61.0ms inference, 0.0ms loss, 2.0ms postprocess per image\n",
      "Results saved to \u001b[1m/home/irfan/Desktop/Code/Deep-Learning-For-Computer-Vision/logs/exp-v8s/6/val\u001b[0m\n",
      "Ultralytics YOLOv8.0.216 🚀 Python-3.8.10 torch-1.12.1+cu116 CUDA:0 (NVIDIA GeForce GTX 1660 Ti, 5945MiB)\n",
      "WARNING ⚠️ Upgrade to torch>=2.0.0 for deterministic training.\n",
      "\u001b[34m\u001b[1mengine/trainer: \u001b[0mtask=detect, mode=train, model=yolov8s.yaml, data=/home/irfan/Desktop/Data/Tools segmentation 2.v3i.yolov8/data.yaml, epochs=1, patience=50, batch=4, imgsz=640, save=True, save_period=-1, cache=False, device=None, workers=8, project=None, name=train, exist_ok=True, pretrained=True, optimizer=auto, verbose=True, seed=0, deterministic=True, single_cls=False, rect=False, cos_lr=False, close_mosaic=10, resume=False, amp=False, fraction=1.0, profile=False, freeze=None, overlap_mask=True, mask_ratio=4, dropout=0.0, val=True, split=val, save_json=False, save_hybrid=False, conf=0.01, iou=0.7, max_det=50, half=False, dnn=False, plots=True, source=None, show=False, save_txt=False, save_conf=False, save_crop=False, show_labels=True, show_conf=True, vid_stride=1, stream_buffer=False, line_width=None, visualize=False, augment=False, agnostic_nms=False, classes=None, retina_masks=False, boxes=True, format=torchscript, keras=False, optimize=False, int8=False, dynamic=False, simplify=False, opset=None, workspace=4, nms=False, lr0=0.01, lrf=0.01, momentum=0.937, weight_decay=0.0005, warmup_epochs=3.0, warmup_momentum=0.8, warmup_bias_lr=0.0, box=7.5, cls=0.5, dfl=1.5, pose=12.0, kobj=1.0, label_smoothing=0.0, nbs=64, hsv_h=0.015, hsv_s=0.7, hsv_v=0.4, degrees=0.0, translate=0.1, scale=0.5, shear=0.0, perspective=0.0, flipud=0.0, fliplr=0.5, mosaic=1.0, mixup=0.0, copy_paste=0.0, cfg=None, tracker=botsort.yaml, save_dir=/home/irfan/Desktop/Code/Deep-Learning-For-Computer-Vision/runs/detect/train\n",
      "\n",
      "                   from  n    params  module                                       arguments                     \n",
      "  0                  -1  1       928  yolov8.nn.modules.conv.Conv                  [3, 32, 3, 2]                 \n",
      "  1                  -1  1     18560  yolov8.nn.modules.conv.Conv                  [32, 64, 3, 2]                \n",
      "  2                  -1  1     29056  yolov8.nn.modules.block.C2f                  [64, 64, 1, True]             \n",
      "  3                  -1  1     73984  yolov8.nn.modules.conv.Conv                  [64, 128, 3, 2]               \n",
      "  4                  -1  2    197632  yolov8.nn.modules.block.C2f                  [128, 128, 2, True]           \n",
      "  5                  -1  1    295424  yolov8.nn.modules.conv.Conv                  [128, 256, 3, 2]              \n",
      "  6                  -1  2    788480  yolov8.nn.modules.block.C2f                  [256, 256, 2, True]           \n",
      "  7                  -1  1   1180672  yolov8.nn.modules.conv.Conv                  [256, 512, 3, 2]              \n",
      "  8                  -1  1   1838080  yolov8.nn.modules.block.C2f                  [512, 512, 1, True]           \n",
      "  9                  -1  1    656896  yolov8.nn.modules.block.SPPF                 [512, 512, 5]                 \n",
      " 10                  -1  1         0  torch.nn.modules.upsampling.Upsample         [None, 2, 'nearest']          \n",
      " 11             [-1, 6]  1         0  yolov8.nn.modules.conv.Concat                [1]                           \n",
      " 12                  -1  1    591360  yolov8.nn.modules.block.C2f                  [768, 256, 1]                 \n",
      " 13                  -1  1         0  torch.nn.modules.upsampling.Upsample         [None, 2, 'nearest']          \n",
      " 14             [-1, 4]  1         0  yolov8.nn.modules.conv.Concat                [1]                           \n",
      " 15                  -1  1    148224  yolov8.nn.modules.block.C2f                  [384, 128, 1]                 \n",
      " 16                  -1  1    147712  yolov8.nn.modules.conv.Conv                  [128, 128, 3, 2]              \n",
      " 17            [-1, 12]  1         0  yolov8.nn.modules.conv.Concat                [1]                           \n",
      " 18                  -1  1    493056  yolov8.nn.modules.block.C2f                  [384, 256, 1]                 \n",
      " 19                  -1  1    590336  yolov8.nn.modules.conv.Conv                  [256, 256, 3, 2]              \n",
      " 20             [-1, 9]  1         0  yolov8.nn.modules.conv.Concat                [1]                           \n",
      " 21                  -1  1   1969152  yolov8.nn.modules.block.C2f                  [768, 512, 1]                 \n",
      " 22        [15, 18, 21]  1   2122627  yolov8.nn.modules.head.Detect                [17, [128, 256, 512]]         \n",
      "YOLOv8s summary: 225 layers, 11142179 parameters, 11142163 gradients, 28.7 GFLOPs\n",
      "\n",
      "Transferred 70/355 items from pretrained weights\n",
      "WARNING ⚠️ TensorBoard not initialized correctly, not logging this run. module 'numpy' has no attribute 'object'.\n",
      "`np.object` was a deprecated alias for the builtin `object`. To avoid this error in existing code, use `object` by itself. Doing this will not modify any behavior and is safe. \n",
      "The aliases was originally deprecated in NumPy 1.20; for more details and guidance see the original release note at:\n",
      "    https://numpy.org/devdocs/release/1.20.0-notes.html#deprecations\n",
      "Freezing layer 'model.22.dfl.conv.weight'\n"
     ]
    },
    {
     "name": "stderr",
     "output_type": "stream",
     "text": [
      "\u001b[34m\u001b[1mtrain: \u001b[0mScanning /home/irfan/Desktop/Data/Tools segmentation 2.v3i.yolov8/train/labels.cache... 2421 images, 0 backgrounds, 0\u001b[0m\n",
      "\u001b[34m\u001b[1mval: \u001b[0mScanning /home/irfan/Desktop/Data/Tools segmentation 2.v3i.yolov8/valid/labels.cache... 346 images, 0 backgrounds, 0 co\u001b[0m\n"
     ]
    },
    {
     "name": "stdout",
     "output_type": "stream",
     "text": [
      "Plotting labels to /home/irfan/Desktop/Code/Deep-Learning-For-Computer-Vision/logs/exp-v8s/7/train/labels.jpg... \n",
      "\u001b[34m\u001b[1moptimizer:\u001b[0m 'optimizer=auto' found, ignoring 'lr0=0.01' and 'momentum=0.937' and determining best 'optimizer', 'lr0' and 'momentum' automatically... \n",
      "\u001b[34m\u001b[1moptimizer:\u001b[0m AdamW(lr=0.000476, momentum=0.9) with parameter groups 57 weight(decay=0.0), 64 weight(decay=0.0005), 63 bias(decay=0.0)\n",
      "Image sizes 640 train, 640 val\n",
      "Using 4 dataloader workers\n",
      "Logging results to \u001b[1m/home/irfan/Desktop/Code/Deep-Learning-For-Computer-Vision/logs/exp-v8s/7/train\u001b[0m\n",
      "Starting training for 1 epochs...\n",
      "\n",
      "      Epoch    GPU_mem   box_loss   cls_loss   dfl_loss  Instances       Size\n"
     ]
    },
    {
     "name": "stderr",
     "output_type": "stream",
     "text": [
      "        1/1      2.02G     0.7964      1.172      1.106          9        640: 100%|██████████| 606/606 [08:01<00:00,  1.26i\n",
      "                 Class     Images  Instances      Box(P          R      mAP50  mAP50-95): 100%|██████████| 44/44 [00:37<00:0"
     ]
    },
    {
     "name": "stdout",
     "output_type": "stream",
     "text": [
      "                   all        346       1645          0          0          0          0\n"
     ]
    },
    {
     "name": "stderr",
     "output_type": "stream",
     "text": [
      "\n"
     ]
    },
    {
     "name": "stdout",
     "output_type": "stream",
     "text": [
      "\n",
      "1 epochs completed in 0.146 hours.\n",
      "Optimizer stripped from /home/irfan/Desktop/Code/Deep-Learning-For-Computer-Vision/logs/exp-v8s/7/train/weights/last.pt, 22.5MB\n",
      "Optimizer stripped from /home/irfan/Desktop/Code/Deep-Learning-For-Computer-Vision/logs/exp-v8s/7/train/weights/best.pt, 22.5MB\n",
      "\n",
      "Validating /home/irfan/Desktop/Code/Deep-Learning-For-Computer-Vision/logs/exp-v8s/7/train/weights/best.pt...\n",
      "Ultralytics YOLOv8.0.216 🚀 Python-3.8.10 torch-1.12.1+cu116 CUDA:0 (NVIDIA GeForce GTX 1660 Ti, 5945MiB)\n",
      "YOLOv8s summary (fused): 168 layers, 11132163 parameters, 0 gradients, 28.5 GFLOPs\n"
     ]
    },
    {
     "name": "stderr",
     "output_type": "stream",
     "text": [
      "                 Class     Images  Instances      Box(P          R      mAP50  mAP50-95): 100%|██████████| 44/44 [00:27<00:0"
     ]
    },
    {
     "name": "stdout",
     "output_type": "stream",
     "text": [
      "                   all        346       1645          0          0          0          0\n"
     ]
    },
    {
     "name": "stderr",
     "output_type": "stream",
     "text": [
      "\n"
     ]
    },
    {
     "name": "stdout",
     "output_type": "stream",
     "text": [
      "Speed: 0.2ms preprocess, 78.3ms inference, 0.0ms loss, 0.5ms postprocess per image\n",
      "Results saved to \u001b[1m/home/irfan/Desktop/Code/Deep-Learning-For-Computer-Vision/logs/exp-v8s/7/train\u001b[0m\n",
      "Ultralytics YOLOv8.0.216 🚀 Python-3.8.10 torch-1.12.1+cu116 CUDA:0 (NVIDIA GeForce GTX 1660 Ti, 5945MiB)\n",
      "YOLOv8s summary (fused): 168 layers, 11132163 parameters, 0 gradients, 28.5 GFLOPs\n"
     ]
    },
    {
     "name": "stderr",
     "output_type": "stream",
     "text": [
      "\u001b[34m\u001b[1mval: \u001b[0mScanning /home/irfan/Desktop/Data/Tools segmentation 2.v3i.yolov8/valid/labels.cache... 346 images, 0 backgrounds, 0 co\u001b[0m\n",
      "                 Class     Images  Instances      Box(P          R      mAP50  mAP50-95): 100%|██████████| 87/87 [00:24<00:0\n"
     ]
    },
    {
     "name": "stdout",
     "output_type": "stream",
     "text": [
      "                   all        346       1645      0.499      0.475       0.53      0.438\n",
      "       -rescent wrench        346        192       0.44      0.953      0.885      0.785\n",
      "               Backsaw        346         33      0.811      0.727      0.822      0.593\n",
      "              Calipers        346         11      0.578          1      0.955      0.744\n",
      "        Cutting pliers        346        106       0.45     0.0849      0.256      0.236\n",
      "                 Drill        346         27          0          0      0.147      0.144\n",
      "            Gas wrench        346         59      0.405      0.492      0.526      0.436\n",
      "                   Gun        346         34          1          0      0.542      0.529\n",
      "                Hammer        346        160      0.621      0.775      0.776      0.689\n",
      "                  Hand        346         44      0.447      0.386      0.356      0.215\n",
      "               Handsaw        346          4      0.303       0.25      0.138      0.124\n",
      "    Needle-nose pliers        346         95      0.647      0.568      0.695      0.635\n",
      "                Pliers        346         51      0.505      0.431        0.5       0.45\n",
      "               Ratchet        346         71      0.354      0.704      0.582      0.512\n",
      "           Screwdriver        346        447      0.733       0.74      0.783      0.576\n",
      "          Tape measure        346         16      0.475       0.25      0.317      0.213\n",
      "         Utility knife        346         10     0.0442        0.1     0.0689     0.0567\n",
      "                Wrench        346        285       0.67      0.604      0.655      0.503\n",
      "Speed: 0.6ms preprocess, 60.3ms inference, 0.0ms loss, 2.6ms postprocess per image\n",
      "Results saved to \u001b[1m/home/irfan/Desktop/Code/Deep-Learning-For-Computer-Vision/logs/exp-v8s/7/val\u001b[0m\n",
      "Ultralytics YOLOv8.0.216 🚀 Python-3.8.10 torch-1.12.1+cu116 CUDA:0 (NVIDIA GeForce GTX 1660 Ti, 5945MiB)\n",
      "WARNING ⚠️ Upgrade to torch>=2.0.0 for deterministic training.\n",
      "\u001b[34m\u001b[1mengine/trainer: \u001b[0mtask=detect, mode=train, model=yolov8s.yaml, data=/home/irfan/Desktop/Data/Tools segmentation 2.v3i.yolov8/data.yaml, epochs=1, patience=50, batch=4, imgsz=640, save=True, save_period=-1, cache=False, device=None, workers=8, project=None, name=train, exist_ok=True, pretrained=True, optimizer=auto, verbose=True, seed=0, deterministic=True, single_cls=False, rect=False, cos_lr=False, close_mosaic=10, resume=False, amp=False, fraction=1.0, profile=False, freeze=None, overlap_mask=True, mask_ratio=4, dropout=0.0, val=True, split=val, save_json=False, save_hybrid=False, conf=0.01, iou=0.7, max_det=50, half=False, dnn=False, plots=True, source=None, show=False, save_txt=False, save_conf=False, save_crop=False, show_labels=True, show_conf=True, vid_stride=1, stream_buffer=False, line_width=None, visualize=False, augment=False, agnostic_nms=False, classes=None, retina_masks=False, boxes=True, format=torchscript, keras=False, optimize=False, int8=False, dynamic=False, simplify=False, opset=None, workspace=4, nms=False, lr0=0.01, lrf=0.01, momentum=0.937, weight_decay=0.0005, warmup_epochs=3.0, warmup_momentum=0.8, warmup_bias_lr=0.0, box=7.5, cls=0.5, dfl=1.5, pose=12.0, kobj=1.0, label_smoothing=0.0, nbs=64, hsv_h=0.015, hsv_s=0.7, hsv_v=0.4, degrees=0.0, translate=0.1, scale=0.5, shear=0.0, perspective=0.0, flipud=0.0, fliplr=0.5, mosaic=1.0, mixup=0.0, copy_paste=0.0, cfg=None, tracker=botsort.yaml, save_dir=/home/irfan/Desktop/Code/Deep-Learning-For-Computer-Vision/runs/detect/train\n",
      "\n",
      "                   from  n    params  module                                       arguments                     \n",
      "  0                  -1  1       928  yolov8.nn.modules.conv.Conv                  [3, 32, 3, 2]                 \n",
      "  1                  -1  1     18560  yolov8.nn.modules.conv.Conv                  [32, 64, 3, 2]                \n",
      "  2                  -1  1     29056  yolov8.nn.modules.block.C2f                  [64, 64, 1, True]             \n",
      "  3                  -1  1     73984  yolov8.nn.modules.conv.Conv                  [64, 128, 3, 2]               \n",
      "  4                  -1  2    197632  yolov8.nn.modules.block.C2f                  [128, 128, 2, True]           \n",
      "  5                  -1  1    295424  yolov8.nn.modules.conv.Conv                  [128, 256, 3, 2]              \n",
      "  6                  -1  2    788480  yolov8.nn.modules.block.C2f                  [256, 256, 2, True]           \n",
      "  7                  -1  1   1180672  yolov8.nn.modules.conv.Conv                  [256, 512, 3, 2]              \n",
      "  8                  -1  1   1838080  yolov8.nn.modules.block.C2f                  [512, 512, 1, True]           \n",
      "  9                  -1  1    656896  yolov8.nn.modules.block.SPPF                 [512, 512, 5]                 \n",
      " 10                  -1  1         0  torch.nn.modules.upsampling.Upsample         [None, 2, 'nearest']          \n",
      " 11             [-1, 6]  1         0  yolov8.nn.modules.conv.Concat                [1]                           \n",
      " 12                  -1  1    591360  yolov8.nn.modules.block.C2f                  [768, 256, 1]                 \n",
      " 13                  -1  1         0  torch.nn.modules.upsampling.Upsample         [None, 2, 'nearest']          \n",
      " 14             [-1, 4]  1         0  yolov8.nn.modules.conv.Concat                [1]                           \n",
      " 15                  -1  1    148224  yolov8.nn.modules.block.C2f                  [384, 128, 1]                 \n",
      " 16                  -1  1    147712  yolov8.nn.modules.conv.Conv                  [128, 128, 3, 2]              \n",
      " 17            [-1, 12]  1         0  yolov8.nn.modules.conv.Concat                [1]                           \n",
      " 18                  -1  1    493056  yolov8.nn.modules.block.C2f                  [384, 256, 1]                 \n",
      " 19                  -1  1    590336  yolov8.nn.modules.conv.Conv                  [256, 256, 3, 2]              \n",
      " 20             [-1, 9]  1         0  yolov8.nn.modules.conv.Concat                [1]                           \n",
      " 21                  -1  1   1969152  yolov8.nn.modules.block.C2f                  [768, 512, 1]                 \n",
      " 22        [15, 18, 21]  1   2122627  yolov8.nn.modules.head.Detect                [17, [128, 256, 512]]         \n",
      "YOLOv8s summary: 225 layers, 11142179 parameters, 11142163 gradients, 28.7 GFLOPs\n",
      "\n",
      "Transferred 70/355 items from pretrained weights\n",
      "WARNING ⚠️ TensorBoard not initialized correctly, not logging this run. module 'numpy' has no attribute 'object'.\n",
      "`np.object` was a deprecated alias for the builtin `object`. To avoid this error in existing code, use `object` by itself. Doing this will not modify any behavior and is safe. \n",
      "The aliases was originally deprecated in NumPy 1.20; for more details and guidance see the original release note at:\n",
      "    https://numpy.org/devdocs/release/1.20.0-notes.html#deprecations\n",
      "Freezing layer 'model.22.dfl.conv.weight'\n"
     ]
    },
    {
     "name": "stderr",
     "output_type": "stream",
     "text": [
      "\u001b[34m\u001b[1mtrain: \u001b[0mScanning /home/irfan/Desktop/Data/Tools segmentation 2.v3i.yolov8/train/labels.cache... 2421 images, 0 backgrounds, 0\u001b[0m\n",
      "\u001b[34m\u001b[1mval: \u001b[0mScanning /home/irfan/Desktop/Data/Tools segmentation 2.v3i.yolov8/valid/labels.cache... 346 images, 0 backgrounds, 0 co\u001b[0m\n"
     ]
    },
    {
     "name": "stdout",
     "output_type": "stream",
     "text": [
      "Plotting labels to /home/irfan/Desktop/Code/Deep-Learning-For-Computer-Vision/logs/exp-v8s/8/train/labels.jpg... \n",
      "\u001b[34m\u001b[1moptimizer:\u001b[0m 'optimizer=auto' found, ignoring 'lr0=0.01' and 'momentum=0.937' and determining best 'optimizer', 'lr0' and 'momentum' automatically... \n",
      "\u001b[34m\u001b[1moptimizer:\u001b[0m AdamW(lr=0.000476, momentum=0.9) with parameter groups 57 weight(decay=0.0), 64 weight(decay=0.0005), 63 bias(decay=0.0)\n",
      "Image sizes 640 train, 640 val\n",
      "Using 4 dataloader workers\n",
      "Logging results to \u001b[1m/home/irfan/Desktop/Code/Deep-Learning-For-Computer-Vision/logs/exp-v8s/8/train\u001b[0m\n",
      "Starting training for 1 epochs...\n",
      "\n",
      "      Epoch    GPU_mem   box_loss   cls_loss   dfl_loss  Instances       Size\n"
     ]
    },
    {
     "name": "stderr",
     "output_type": "stream",
     "text": [
      "        1/1      1.96G     0.7539       1.07      1.083          9        640: 100%|██████████| 606/606 [09:13<00:00,  1.09i\n",
      "                 Class     Images  Instances      Box(P          R      mAP50  mAP50-95): 100%|██████████| 44/44 [00:52<00:0"
     ]
    },
    {
     "name": "stdout",
     "output_type": "stream",
     "text": [
      "                   all        346       1645          0          0          0          0\n"
     ]
    },
    {
     "name": "stderr",
     "output_type": "stream",
     "text": [
      "\n"
     ]
    },
    {
     "name": "stdout",
     "output_type": "stream",
     "text": [
      "\n",
      "1 epochs completed in 0.171 hours.\n",
      "Optimizer stripped from /home/irfan/Desktop/Code/Deep-Learning-For-Computer-Vision/logs/exp-v8s/8/train/weights/last.pt, 22.5MB\n",
      "Optimizer stripped from /home/irfan/Desktop/Code/Deep-Learning-For-Computer-Vision/logs/exp-v8s/8/train/weights/best.pt, 22.5MB\n",
      "\n",
      "Validating /home/irfan/Desktop/Code/Deep-Learning-For-Computer-Vision/logs/exp-v8s/8/train/weights/best.pt...\n",
      "Ultralytics YOLOv8.0.216 🚀 Python-3.8.10 torch-1.12.1+cu116 CUDA:0 (NVIDIA GeForce GTX 1660 Ti, 5945MiB)\n",
      "YOLOv8s summary (fused): 168 layers, 11132163 parameters, 0 gradients, 28.5 GFLOPs\n"
     ]
    },
    {
     "name": "stderr",
     "output_type": "stream",
     "text": [
      "                 Class     Images  Instances      Box(P          R      mAP50  mAP50-95): 100%|██████████| 44/44 [00:37<00:0"
     ]
    },
    {
     "name": "stdout",
     "output_type": "stream",
     "text": [
      "                   all        346       1645          0          0          0          0\n"
     ]
    },
    {
     "name": "stderr",
     "output_type": "stream",
     "text": [
      "\n"
     ]
    },
    {
     "name": "stdout",
     "output_type": "stream",
     "text": [
      "Speed: 0.3ms preprocess, 104.4ms inference, 0.0ms loss, 0.9ms postprocess per image\n",
      "Results saved to \u001b[1m/home/irfan/Desktop/Code/Deep-Learning-For-Computer-Vision/logs/exp-v8s/8/train\u001b[0m\n",
      "Ultralytics YOLOv8.0.216 🚀 Python-3.8.10 torch-1.12.1+cu116 CUDA:0 (NVIDIA GeForce GTX 1660 Ti, 5945MiB)\n",
      "YOLOv8s summary (fused): 168 layers, 11132163 parameters, 0 gradients, 28.5 GFLOPs\n"
     ]
    },
    {
     "name": "stderr",
     "output_type": "stream",
     "text": [
      "\u001b[34m\u001b[1mval: \u001b[0mScanning /home/irfan/Desktop/Data/Tools segmentation 2.v3i.yolov8/valid/labels.cache... 346 images, 0 backgrounds, 0 co\u001b[0m\n",
      "                 Class     Images  Instances      Box(P          R      mAP50  mAP50-95):  76%|███████▌  | 66/87 [00:28<00:1"
     ]
    },
    {
     "name": "stdout",
     "output_type": "stream",
     "text": [
      "WARNING ⚠️ NMS time limit 0.700s exceeded\n"
     ]
    },
    {
     "name": "stderr",
     "output_type": "stream",
     "text": [
      "                 Class     Images  Instances      Box(P          R      mAP50  mAP50-95):  77%|███████▋  | 67/87 [00:40<01:2"
     ]
    },
    {
     "name": "stdout",
     "output_type": "stream",
     "text": [
      "WARNING ⚠️ NMS time limit 0.700s exceeded\n"
     ]
    },
    {
     "name": "stderr",
     "output_type": "stream",
     "text": [
      "                 Class     Images  Instances      Box(P          R      mAP50  mAP50-95):  79%|███████▉  | 69/87 [00:57<01:5"
     ]
    },
    {
     "name": "stdout",
     "output_type": "stream",
     "text": [
      "WARNING ⚠️ NMS time limit 0.700s exceeded\n"
     ]
    },
    {
     "name": "stderr",
     "output_type": "stream",
     "text": [
      "                 Class     Images  Instances      Box(P          R      mAP50  mAP50-95):  80%|████████  | 70/87 [01:17<02:5"
     ]
    },
    {
     "name": "stdout",
     "output_type": "stream",
     "text": [
      "WARNING ⚠️ NMS time limit 0.700s exceeded\n"
     ]
    },
    {
     "name": "stderr",
     "output_type": "stream",
     "text": [
      "                 Class     Images  Instances      Box(P          R      mAP50  mAP50-95):  86%|████████▌ | 75/87 [02:02<02:4"
     ]
    },
    {
     "name": "stdout",
     "output_type": "stream",
     "text": [
      "WARNING ⚠️ NMS time limit 0.700s exceeded\n"
     ]
    },
    {
     "name": "stderr",
     "output_type": "stream",
     "text": [
      "                 Class     Images  Instances      Box(P          R      mAP50  mAP50-95):  89%|████████▊ | 77/87 [03:57<05:3"
     ]
    },
    {
     "name": "stdout",
     "output_type": "stream",
     "text": [
      "WARNING ⚠️ NMS time limit 0.700s exceeded\n"
     ]
    },
    {
     "name": "stderr",
     "output_type": "stream",
     "text": [
      "                 Class     Images  Instances      Box(P          R      mAP50  mAP50-95):  90%|████████▉ | 78/87 [04:34<05:1"
     ]
    },
    {
     "name": "stdout",
     "output_type": "stream",
     "text": [
      "WARNING ⚠️ NMS time limit 0.700s exceeded\n"
     ]
    },
    {
     "name": "stderr",
     "output_type": "stream",
     "text": [
      "                 Class     Images  Instances      Box(P          R      mAP50  mAP50-95):  91%|█████████ | 79/87 [05:01<04:1"
     ]
    },
    {
     "name": "stdout",
     "output_type": "stream",
     "text": [
      "WARNING ⚠️ NMS time limit 0.700s exceeded\n"
     ]
    },
    {
     "name": "stderr",
     "output_type": "stream",
     "text": [
      "                 Class     Images  Instances      Box(P          R      mAP50  mAP50-95):  92%|█████████▏| 80/87 [05:35<03:5"
     ]
    },
    {
     "name": "stdout",
     "output_type": "stream",
     "text": [
      "WARNING ⚠️ NMS time limit 0.700s exceeded\n"
     ]
    },
    {
     "name": "stderr",
     "output_type": "stream",
     "text": [
      "                 Class     Images  Instances      Box(P          R      mAP50  mAP50-95):  93%|█████████▎| 81/87 [06:47<04:2"
     ]
    },
    {
     "name": "stdout",
     "output_type": "stream",
     "text": [
      "WARNING ⚠️ NMS time limit 0.700s exceeded\n"
     ]
    },
    {
     "name": "stderr",
     "output_type": "stream",
     "text": [
      "                 Class     Images  Instances      Box(P          R      mAP50  mAP50-95):  94%|█████████▍| 82/87 [07:46<04:0"
     ]
    },
    {
     "name": "stdout",
     "output_type": "stream",
     "text": [
      "WARNING ⚠️ NMS time limit 0.700s exceeded\n"
     ]
    },
    {
     "name": "stderr",
     "output_type": "stream",
     "text": [
      "                 Class     Images  Instances      Box(P          R      mAP50  mAP50-95):  95%|█████████▌| 83/87 [08:01<02:3"
     ]
    },
    {
     "name": "stdout",
     "output_type": "stream",
     "text": [
      "WARNING ⚠️ NMS time limit 0.700s exceeded\n"
     ]
    },
    {
     "name": "stderr",
     "output_type": "stream",
     "text": [
      "                 Class     Images  Instances      Box(P          R      mAP50  mAP50-95): 100%|██████████| 87/87 [09:37<00:0\n"
     ]
    }
   ],
   "source": [
    "import os\n",
    "import sys\n",
    "import pandas as pd\n",
    "sys.path.append('./yolov8')\n",
    "from yolov8 import YOLO\n",
    "\n",
    "class ResultLogger():\n",
    "    def __init__(self,save_path='log.csv'):\n",
    "        self.log_df = log_df = pd.DataFrame()\n",
    "        self.save_path = save_path\n",
    "    \n",
    "    def update(self,model,val_results,epoch):\n",
    "        self.log_df.loc[epoch,'mAP50']= round(val_results.box.map50,4)\n",
    "        self.log_df.loc[epoch,'mAP75']= round(val_results.box.map75,4)\n",
    "        res = val_results.box\n",
    "        for ind in val_results.box.ap_class_index:\n",
    "            self.log_df.loc[epoch,model.names[ind]] = round(val_results.box.ap50[ind],4)\n",
    "        for ind in range(len(model.trainer.loss_names)):\n",
    "            self.log_df.loc[epoch,model.trainer.loss_names[ind]] = round(model.trainer.tloss[ind].cpu().numpy().item(),4)\n",
    "        self.log_df.to_csv(self.save_path)\n",
    "        \n",
    "# Load a model\n",
    "#model = YOLO('yolov8n.yaml')  # build a new model from YAML\n",
    "#model = YOLO('../models/yolov8n.pt')  # load a pretrained model (recommended for training)\n",
    "model = YOLO('yolov8s.yaml').load('../models/yolov8s.pt')  # build from YAML and transfer weights\n",
    "epochs = 25\n",
    "save_dir = '/home/irfan/Desktop/Code/Deep-Learning-For-Computer-Vision/logs/exp-v8s'\n",
    "data     = '/home/irfan/Desktop/Data/Tools segmentation 2.v3i.yolov8/data.yaml'\n",
    "os.system(f'rm -r {save_dir}/*')\n",
    "result_logger = ResultLogger(save_path=f'{save_dir}/log.csv')\n",
    "for epoch in range(epochs):\n",
    "    os.makedirs(f'{save_dir}/{epoch}/train/',exist_ok=True)\n",
    "    os.makedirs(f'{save_dir}/{epoch}/val/',exist_ok=True)\n",
    "    #results = model.train(data='coco128.yaml', epochs=10, imgsz=640)\n",
    "    train_results = model.train(data=data, save_dir= f'{save_dir}/{epoch}/train/', epochs=1, batch=4, imgsz=640)\n",
    "    val_results   = model.val(imgsz=640,batch=4,save_dir= f'{save_dir}/{epoch}/val/')\n",
    "    result_logger.update(model,val_results,epoch)\n",
    "     \n",
    "    #model.export()\n",
    "#results = model.train(data='coco128.yaml', epochs=10, imgsz=640)"
   ]
  },
  {
   "cell_type": "code",
   "execution_count": 1,
   "id": "a6c88a05-1ba9-4914-b5db-fd6370dc172f",
   "metadata": {},
   "outputs": [
    {
     "ename": "NameError",
     "evalue": "name 'train_results' is not defined",
     "output_type": "error",
     "traceback": [
      "\u001b[0;31m---------------------------------------------------------------------------\u001b[0m",
      "\u001b[0;31mNameError\u001b[0m                                 Traceback (most recent call last)",
      "Cell \u001b[0;32mIn[1], line 1\u001b[0m\n\u001b[0;32m----> 1\u001b[0m \u001b[43mtrain_results\u001b[49m\u001b[38;5;241m.\u001b[39mmean_results\n",
      "\u001b[0;31mNameError\u001b[0m: name 'train_results' is not defined"
     ]
    }
   ],
   "source": [
    "train_results.mean_results"
   ]
  },
  {
   "cell_type": "code",
   "execution_count": 27,
   "id": "b0b58746-d766-459d-ad85-0cfa8c2a2a66",
   "metadata": {},
   "outputs": [
    {
     "data": {
      "text/plain": [
       "['__class__',\n",
       " '__delattr__',\n",
       " '__dict__',\n",
       " '__dir__',\n",
       " '__doc__',\n",
       " '__eq__',\n",
       " '__format__',\n",
       " '__ge__',\n",
       " '__getattr__',\n",
       " '__getattribute__',\n",
       " '__gt__',\n",
       " '__hash__',\n",
       " '__init__',\n",
       " '__init_subclass__',\n",
       " '__le__',\n",
       " '__lt__',\n",
       " '__module__',\n",
       " '__ne__',\n",
       " '__new__',\n",
       " '__reduce__',\n",
       " '__reduce_ex__',\n",
       " '__repr__',\n",
       " '__setattr__',\n",
       " '__sizeof__',\n",
       " '__str__',\n",
       " '__subclasshook__',\n",
       " '__weakref__',\n",
       " 'ap_class_index',\n",
       " 'box',\n",
       " 'class_result',\n",
       " 'confusion_matrix',\n",
       " 'curves',\n",
       " 'curves_results',\n",
       " 'fitness',\n",
       " 'keys',\n",
       " 'maps',\n",
       " 'mean_results',\n",
       " 'names',\n",
       " 'on_plot',\n",
       " 'plot',\n",
       " 'process',\n",
       " 'results_dict',\n",
       " 'save_dir',\n",
       " 'speed',\n",
       " 'task']"
      ]
     },
     "execution_count": 27,
     "metadata": {},
     "output_type": "execute_result"
    }
   ],
   "source": [
    "dir(train_results)"
   ]
  },
  {
   "cell_type": "code",
   "execution_count": 22,
   "id": "996ef827-d704-4b6b-b835-b1985fa1c468",
   "metadata": {},
   "outputs": [
    {
     "data": {
      "text/plain": [
       "1.0481559038162231"
      ]
     },
     "execution_count": 22,
     "metadata": {},
     "output_type": "execute_result"
    }
   ],
   "source": [
    "model.trainer.tloss[ind].cpu().item()#.numpy()"
   ]
  },
  {
   "cell_type": "code",
   "execution_count": 3,
   "id": "a246efca-dc92-43dd-92e2-298b3493d0e0",
   "metadata": {},
   "outputs": [
    {
     "ename": "KeyError",
     "evalue": "'CUDA_VISIBLE_DEVICES'",
     "output_type": "error",
     "traceback": [
      "\u001b[0;31m---------------------------------------------------------------------------\u001b[0m",
      "\u001b[0;31mKeyError\u001b[0m                                  Traceback (most recent call last)",
      "Cell \u001b[0;32mIn[3], line 2\u001b[0m\n\u001b[1;32m      1\u001b[0m \u001b[38;5;28;01mimport\u001b[39;00m \u001b[38;5;21;01mos\u001b[39;00m\n\u001b[0;32m----> 2\u001b[0m \u001b[43mos\u001b[49m\u001b[38;5;241;43m.\u001b[39;49m\u001b[43menviron\u001b[49m\u001b[43m[\u001b[49m\u001b[38;5;124;43m'\u001b[39;49m\u001b[38;5;124;43mCUDA_VISIBLE_DEVICES\u001b[39;49m\u001b[38;5;124;43m'\u001b[39;49m\u001b[43m]\u001b[49m\n",
      "File \u001b[0;32m/usr/lib/python3.8/os.py:675\u001b[0m, in \u001b[0;36m_Environ.__getitem__\u001b[0;34m(self, key)\u001b[0m\n\u001b[1;32m    672\u001b[0m     value \u001b[38;5;241m=\u001b[39m \u001b[38;5;28mself\u001b[39m\u001b[38;5;241m.\u001b[39m_data[\u001b[38;5;28mself\u001b[39m\u001b[38;5;241m.\u001b[39mencodekey(key)]\n\u001b[1;32m    673\u001b[0m \u001b[38;5;28;01mexcept\u001b[39;00m \u001b[38;5;167;01mKeyError\u001b[39;00m:\n\u001b[1;32m    674\u001b[0m     \u001b[38;5;66;03m# raise KeyError with the original key value\u001b[39;00m\n\u001b[0;32m--> 675\u001b[0m     \u001b[38;5;28;01mraise\u001b[39;00m \u001b[38;5;167;01mKeyError\u001b[39;00m(key) \u001b[38;5;28;01mfrom\u001b[39;00m \u001b[38;5;28mNone\u001b[39m\n\u001b[1;32m    676\u001b[0m \u001b[38;5;28;01mreturn\u001b[39;00m \u001b[38;5;28mself\u001b[39m\u001b[38;5;241m.\u001b[39mdecodevalue(value)\n",
      "\u001b[0;31mKeyError\u001b[0m: 'CUDA_VISIBLE_DEVICES'"
     ]
    }
   ],
   "source": [
    "import os\n",
    "os.environ['CUDA_VISIBLE_DEVICES']\n",
    "#sudo rmmod nvidia_uvm\n",
    "#sudo modprobe nvidia_uvm"
   ]
  },
  {
   "cell_type": "code",
   "execution_count": null,
   "id": "9bb453d6-a8cc-4e45-9da8-78f6afc67612",
   "metadata": {},
   "outputs": [],
   "source": [
    "'/home/irfan/Desktop/Data/Tools segmentation 2.v3i.yolov8/train/labels.cache'\n",
    "'/home/irfan/Desktop/Data/Tools segmentation 2.v3i.yolov8/valid/labels.cache'"
   ]
  },
  {
   "cell_type": "code",
   "execution_count": 50,
   "id": "72ca7dc8-39ab-4034-821e-f4699b828549",
   "metadata": {},
   "outputs": [],
   "source": []
  },
  {
   "cell_type": "code",
   "execution_count": 55,
   "id": "3be1c3f9-ffe3-44a8-be26-14844e4bb6bb",
   "metadata": {},
   "outputs": [
    {
     "data": {
      "text/html": [
       "<div>\n",
       "<style scoped>\n",
       "    .dataframe tbody tr th:only-of-type {\n",
       "        vertical-align: middle;\n",
       "    }\n",
       "\n",
       "    .dataframe tbody tr th {\n",
       "        vertical-align: top;\n",
       "    }\n",
       "\n",
       "    .dataframe thead th {\n",
       "        text-align: right;\n",
       "    }\n",
       "</style>\n",
       "<table border=\"1\" class=\"dataframe\">\n",
       "  <thead>\n",
       "    <tr style=\"text-align: right;\">\n",
       "      <th></th>\n",
       "      <th>mAP50</th>\n",
       "      <th>mAP75</th>\n",
       "      <th>mm</th>\n",
       "    </tr>\n",
       "  </thead>\n",
       "  <tbody>\n",
       "    <tr>\n",
       "      <th>0</th>\n",
       "      <td>NaN</td>\n",
       "      <td>NaN</td>\n",
       "      <td>0.0</td>\n",
       "    </tr>\n",
       "  </tbody>\n",
       "</table>\n",
       "</div>"
      ],
      "text/plain": [
       "  mAP50 mAP75   mm\n",
       "0   NaN   NaN  0.0"
      ]
     },
     "execution_count": 55,
     "metadata": {},
     "output_type": "execute_result"
    }
   ],
   "source": [
    "df.columns#append(['mm'])\n",
    "df.loc[0,'mm']=0\n",
    "df"
   ]
  },
  {
   "cell_type": "code",
   "execution_count": 10,
   "id": "222ad9c5-a6be-4c65-b88f-0ed6f064861f",
   "metadata": {},
   "outputs": [],
   "source": [
    "res = val_results.__dict__['box']\n",
    "#dict_keys(['save_dir', 'plot', 'on_plot', 'names', 'box', 'speed', 'task', 'confusion_matrix'])"
   ]
  },
  {
   "cell_type": "code",
   "execution_count": 28,
   "id": "6681daa3-7650-49b9-b35b-58de621bafad",
   "metadata": {},
   "outputs": [
    {
     "data": {
      "text/plain": [
       "(18, 18)"
      ]
     },
     "execution_count": 28,
     "metadata": {},
     "output_type": "execute_result"
    }
   ],
   "source": [
    "val_results.__dict__['confusion_matrix'].__dict__['matrix'].shape\n",
    "#dict_keys(['task', 'matrix', 'nc', 'conf', 'iou_thres'])"
   ]
  },
  {
   "cell_type": "code",
   "execution_count": 15,
   "id": "2a39192e-1301-4a4a-a5db-c5814b9e98c9",
   "metadata": {},
   "outputs": [
    {
     "data": {
      "text/plain": [
       "array([    0.45325,           1,     0.63509,      0.4455,           1,     0.39461,           0,      0.3565,     0.42613,           1,     0.46806,     0.15127,     0.60767,     0.68768,           1,           1,     0.56674])"
      ]
     },
     "execution_count": 15,
     "metadata": {},
     "output_type": "execute_result"
    }
   ],
   "source": [
    "#if not os.path.exists(f'{save_dir}/{epoch}/val/'): \n",
    "res.__dict__['p']\n",
    "#dict_keys(['p', 'r', 'f1', 'all_ap', 'ap_class_index', 'nc', 'p_curve', 'r_curve', 'f1_curve', 'px', 'prec_values'])"
   ]
  },
  {
   "cell_type": "code",
   "execution_count": 40,
   "id": "158fe506-5b44-4c7f-b2d7-dea662d9fda9",
   "metadata": {},
   "outputs": [
    {
     "data": {
      "text/plain": [
       "0.43139553235102196"
      ]
     },
     "execution_count": 40,
     "metadata": {},
     "output_type": "execute_result"
    }
   ],
   "source": [
    "import numpy as np\n",
    "np.mean(res.ap50)"
   ]
  },
  {
   "cell_type": "code",
   "execution_count": 25,
   "id": "888e7ab8-f33b-4750-afb4-4f47433e8c48",
   "metadata": {},
   "outputs": [
    {
     "ename": "NameError",
     "evalue": "name 'val_results' is not defined",
     "output_type": "error",
     "traceback": [
      "\u001b[0;31m---------------------------------------------------------------------------\u001b[0m",
      "\u001b[0;31mNameError\u001b[0m                                 Traceback (most recent call last)",
      "Cell \u001b[0;32mIn[25], line 1\u001b[0m\n\u001b[0;32m----> 1\u001b[0m res \u001b[38;5;241m=\u001b[39m \u001b[43mval_results\u001b[49m\n\u001b[1;32m      2\u001b[0m df\u001b[38;5;241m.\u001b[39mloc[epoch,\u001b[38;5;124m'\u001b[39m\u001b[38;5;124mmAP50\u001b[39m\u001b[38;5;124m'\u001b[39m]\u001b[38;5;241m=\u001b[39m res\u001b[38;5;241m.\u001b[39mmap50\n\u001b[1;32m      3\u001b[0m \u001b[38;5;28;01mfor\u001b[39;00m ind \u001b[38;5;129;01min\u001b[39;00m res\u001b[38;5;241m.\u001b[39map_class_index:\n",
      "\u001b[0;31mNameError\u001b[0m: name 'val_results' is not defined"
     ]
    }
   ],
   "source": []
  },
  {
   "cell_type": "code",
   "execution_count": 26,
   "id": "eea7a2d0-672f-40b5-b67c-623eb0ac9a55",
   "metadata": {},
   "outputs": [
    {
     "ename": "NameError",
     "evalue": "name 'val_results' is not defined",
     "output_type": "error",
     "traceback": [
      "\u001b[0;31m---------------------------------------------------------------------------\u001b[0m",
      "\u001b[0;31mNameError\u001b[0m                                 Traceback (most recent call last)",
      "Cell \u001b[0;32mIn[26], line 1\u001b[0m\n\u001b[0;32m----> 1\u001b[0m \u001b[43mval_results\u001b[49m\n",
      "\u001b[0;31mNameError\u001b[0m: name 'val_results' is not defined"
     ]
    }
   ],
   "source": [
    "val_results"
   ]
  },
  {
   "cell_type": "code",
   "execution_count": 9,
   "id": "33a136cb-6060-477b-84f5-6cb3207067c1",
   "metadata": {},
   "outputs": [],
   "source": [
    "from yolov8.utils import TQDM"
   ]
  },
  {
   "cell_type": "code",
   "execution_count": 6,
   "id": "fecefaa3-e2be-468e-bf3c-95495d7cd128",
   "metadata": {},
   "outputs": [
    {
     "name": "stdout",
     "output_type": "stream",
     "text": [
      "('box_loss', 'cls_loss', 'dfl_loss') tensor([1.0403, 2.4884, 1.2368], device='cuda:0')\n"
     ]
    }
   ],
   "source": []
  },
  {
   "cell_type": "code",
   "execution_count": 23,
   "id": "3286c405-5d1e-4cb4-adbd-10436cbad559",
   "metadata": {},
   "outputs": [
    {
     "name": "stderr",
     "output_type": "stream",
     "text": [
      " 50%|█████     | 5/10 [00:00<00:00, 2884.27it/s]"
     ]
    },
    {
     "name": "stdout",
     "output_type": "stream",
     "text": [
      "0\n",
      "1\n",
      "2\n",
      "3\n",
      "4\n",
      "5\n"
     ]
    },
    {
     "name": "stderr",
     "output_type": "stream",
     "text": [
      "\n"
     ]
    }
   ],
   "source": [
    "pbar = TQDM(enumerate(model.trainer.train_loader), total=10)\n",
    "for i,batch in pbar:\n",
    "    print(i)\n",
    "    if i== 5: break"
   ]
  },
  {
   "cell_type": "code",
   "execution_count": 22,
   "id": "7b0e7137-aa29-4a50-8c65-103da3362eb8",
   "metadata": {},
   "outputs": [
    {
     "ename": "AttributeError",
     "evalue": "'list' object has no attribute 'shape'",
     "output_type": "error",
     "traceback": [
      "\u001b[0;31m---------------------------------------------------------------------------\u001b[0m",
      "\u001b[0;31mAttributeError\u001b[0m                            Traceback (most recent call last)",
      "Cell \u001b[0;32mIn[22], line 1\u001b[0m\n\u001b[0;32m----> 1\u001b[0m \u001b[43mbatch\u001b[49m\u001b[43m[\u001b[49m\u001b[38;5;124;43m'\u001b[39;49m\u001b[38;5;124;43mresized_shape\u001b[39;49m\u001b[38;5;124;43m'\u001b[39;49m\u001b[43m]\u001b[49m\u001b[38;5;241;43m.\u001b[39;49m\u001b[43mshape\u001b[49m\n",
      "\u001b[0;31mAttributeError\u001b[0m: 'list' object has no attribute 'shape'"
     ]
    }
   ],
   "source": [
    "batch['resized_shape'].shape"
   ]
  },
  {
   "cell_type": "code",
   "execution_count": 19,
   "id": "78f4f6ce-ccb8-4c99-a849-cdb06135ab9a",
   "metadata": {},
   "outputs": [
    {
     "data": {
      "text/plain": [
       "dict_keys(['im_file', 'ori_shape', 'resized_shape', 'img', 'cls', 'bboxes', 'batch_idx'])"
      ]
     },
     "execution_count": 19,
     "metadata": {},
     "output_type": "execute_result"
    }
   ],
   "source": [
    "batch.keys()"
   ]
  },
  {
   "cell_type": "code",
   "execution_count": 3,
   "id": "07a4d2f1-5ebb-4d0e-8615-77bcd4f541dd",
   "metadata": {},
   "outputs": [
    {
     "ename": "AttributeError",
     "evalue": "'Metric' object has no attribute 'curves_results'. See valid attributes below.\n\n    Class for computing evaluation metrics for YOLOv8 model.\n\n    Attributes:\n        p (list): Precision for each class. Shape: (nc,).\n        r (list): Recall for each class. Shape: (nc,).\n        f1 (list): F1 score for each class. Shape: (nc,).\n        all_ap (list): AP scores for all classes and all IoU thresholds. Shape: (nc, 10).\n        ap_class_index (list): Index of class for each AP score. Shape: (nc,).\n        nc (int): Number of classes.\n\n    Methods:\n        ap50(): AP at IoU threshold of 0.5 for all classes. Returns: List of AP scores. Shape: (nc,) or [].\n        ap(): AP at IoU thresholds from 0.5 to 0.95 for all classes. Returns: List of AP scores. Shape: (nc,) or [].\n        mp(): Mean precision of all classes. Returns: Float.\n        mr(): Mean recall of all classes. Returns: Float.\n        map50(): Mean AP at IoU threshold of 0.5 for all classes. Returns: Float.\n        map75(): Mean AP at IoU threshold of 0.75 for all classes. Returns: Float.\n        map(): Mean AP at IoU thresholds from 0.5 to 0.95 for all classes. Returns: Float.\n        mean_results(): Mean of results, returns mp, mr, map50, map.\n        class_result(i): Class-aware result, returns p[i], r[i], ap50[i], ap[i].\n        maps(): mAP of each class. Returns: Array of mAP scores, shape: (nc,).\n        fitness(): Model fitness as a weighted combination of metrics. Returns: Float.\n        update(results): Update metric attributes with new evaluation results.\n    ",
     "output_type": "error",
     "traceback": [
      "\u001b[0;31m---------------------------------------------------------------------------\u001b[0m",
      "\u001b[0;31mAttributeError\u001b[0m                            Traceback (most recent call last)",
      "File \u001b[0;32m~/Desktop/Code/Linux-IO/python_38/lib/python3.8/site-packages/IPython/core/formatters.py:706\u001b[0m, in \u001b[0;36mPlainTextFormatter.__call__\u001b[0;34m(self, obj)\u001b[0m\n\u001b[1;32m    699\u001b[0m stream \u001b[38;5;241m=\u001b[39m StringIO()\n\u001b[1;32m    700\u001b[0m printer \u001b[38;5;241m=\u001b[39m pretty\u001b[38;5;241m.\u001b[39mRepresentationPrinter(stream, \u001b[38;5;28mself\u001b[39m\u001b[38;5;241m.\u001b[39mverbose,\n\u001b[1;32m    701\u001b[0m     \u001b[38;5;28mself\u001b[39m\u001b[38;5;241m.\u001b[39mmax_width, \u001b[38;5;28mself\u001b[39m\u001b[38;5;241m.\u001b[39mnewline,\n\u001b[1;32m    702\u001b[0m     max_seq_length\u001b[38;5;241m=\u001b[39m\u001b[38;5;28mself\u001b[39m\u001b[38;5;241m.\u001b[39mmax_seq_length,\n\u001b[1;32m    703\u001b[0m     singleton_pprinters\u001b[38;5;241m=\u001b[39m\u001b[38;5;28mself\u001b[39m\u001b[38;5;241m.\u001b[39msingleton_printers,\n\u001b[1;32m    704\u001b[0m     type_pprinters\u001b[38;5;241m=\u001b[39m\u001b[38;5;28mself\u001b[39m\u001b[38;5;241m.\u001b[39mtype_printers,\n\u001b[1;32m    705\u001b[0m     deferred_pprinters\u001b[38;5;241m=\u001b[39m\u001b[38;5;28mself\u001b[39m\u001b[38;5;241m.\u001b[39mdeferred_printers)\n\u001b[0;32m--> 706\u001b[0m \u001b[43mprinter\u001b[49m\u001b[38;5;241;43m.\u001b[39;49m\u001b[43mpretty\u001b[49m\u001b[43m(\u001b[49m\u001b[43mobj\u001b[49m\u001b[43m)\u001b[49m\n\u001b[1;32m    707\u001b[0m printer\u001b[38;5;241m.\u001b[39mflush()\n\u001b[1;32m    708\u001b[0m \u001b[38;5;28;01mreturn\u001b[39;00m stream\u001b[38;5;241m.\u001b[39mgetvalue()\n",
      "File \u001b[0;32m~/Desktop/Code/Linux-IO/python_38/lib/python3.8/site-packages/IPython/lib/pretty.py:410\u001b[0m, in \u001b[0;36mRepresentationPrinter.pretty\u001b[0;34m(self, obj)\u001b[0m\n\u001b[1;32m    407\u001b[0m                         \u001b[38;5;28;01mreturn\u001b[39;00m meth(obj, \u001b[38;5;28mself\u001b[39m, cycle)\n\u001b[1;32m    408\u001b[0m                 \u001b[38;5;28;01mif\u001b[39;00m \u001b[38;5;28mcls\u001b[39m \u001b[38;5;129;01mis\u001b[39;00m \u001b[38;5;129;01mnot\u001b[39;00m \u001b[38;5;28mobject\u001b[39m \\\n\u001b[1;32m    409\u001b[0m                         \u001b[38;5;129;01mand\u001b[39;00m callable(\u001b[38;5;28mcls\u001b[39m\u001b[38;5;241m.\u001b[39m\u001b[38;5;18m__dict__\u001b[39m\u001b[38;5;241m.\u001b[39mget(\u001b[38;5;124m'\u001b[39m\u001b[38;5;124m__repr__\u001b[39m\u001b[38;5;124m'\u001b[39m)):\n\u001b[0;32m--> 410\u001b[0m                     \u001b[38;5;28;01mreturn\u001b[39;00m \u001b[43m_repr_pprint\u001b[49m\u001b[43m(\u001b[49m\u001b[43mobj\u001b[49m\u001b[43m,\u001b[49m\u001b[43m \u001b[49m\u001b[38;5;28;43mself\u001b[39;49m\u001b[43m,\u001b[49m\u001b[43m \u001b[49m\u001b[43mcycle\u001b[49m\u001b[43m)\u001b[49m\n\u001b[1;32m    412\u001b[0m     \u001b[38;5;28;01mreturn\u001b[39;00m _default_pprint(obj, \u001b[38;5;28mself\u001b[39m, cycle)\n\u001b[1;32m    413\u001b[0m \u001b[38;5;28;01mfinally\u001b[39;00m:\n",
      "File \u001b[0;32m~/Desktop/Code/Linux-IO/python_38/lib/python3.8/site-packages/IPython/lib/pretty.py:778\u001b[0m, in \u001b[0;36m_repr_pprint\u001b[0;34m(obj, p, cycle)\u001b[0m\n\u001b[1;32m    776\u001b[0m \u001b[38;5;250m\u001b[39m\u001b[38;5;124;03m\"\"\"A pprint that just redirects to the normal repr function.\"\"\"\u001b[39;00m\n\u001b[1;32m    777\u001b[0m \u001b[38;5;66;03m# Find newlines and replace them with p.break_()\u001b[39;00m\n\u001b[0;32m--> 778\u001b[0m output \u001b[38;5;241m=\u001b[39m \u001b[38;5;28;43mrepr\u001b[39;49m\u001b[43m(\u001b[49m\u001b[43mobj\u001b[49m\u001b[43m)\u001b[49m\n\u001b[1;32m    779\u001b[0m lines \u001b[38;5;241m=\u001b[39m output\u001b[38;5;241m.\u001b[39msplitlines()\n\u001b[1;32m    780\u001b[0m \u001b[38;5;28;01mwith\u001b[39;00m p\u001b[38;5;241m.\u001b[39mgroup():\n",
      "File \u001b[0;32m~/Desktop/Code/Deep-Learning-For-Computer-Vision/yolov8_v1/yolov8/utils/__init__.py:148\u001b[0m, in \u001b[0;36mSimpleClass.__repr__\u001b[0;34m(self)\u001b[0m\n\u001b[1;32m    146\u001b[0m \u001b[38;5;28;01mdef\u001b[39;00m \u001b[38;5;21m__repr__\u001b[39m(\u001b[38;5;28mself\u001b[39m):\n\u001b[1;32m    147\u001b[0m \u001b[38;5;250m    \u001b[39m\u001b[38;5;124;03m\"\"\"Return a machine-readable string representation of the object.\"\"\"\u001b[39;00m\n\u001b[0;32m--> 148\u001b[0m     \u001b[38;5;28;01mreturn\u001b[39;00m \u001b[38;5;28;43mself\u001b[39;49m\u001b[38;5;241;43m.\u001b[39;49m\u001b[38;5;21;43m__str__\u001b[39;49m\u001b[43m(\u001b[49m\u001b[43m)\u001b[49m\n",
      "File \u001b[0;32m~/Desktop/Code/Deep-Learning-For-Computer-Vision/yolov8_v1/yolov8/utils/__init__.py:136\u001b[0m, in \u001b[0;36mSimpleClass.__str__\u001b[0;34m(self)\u001b[0m\n\u001b[1;32m    134\u001b[0m attr \u001b[38;5;241m=\u001b[39m []\n\u001b[1;32m    135\u001b[0m \u001b[38;5;28;01mfor\u001b[39;00m a \u001b[38;5;129;01min\u001b[39;00m \u001b[38;5;28mdir\u001b[39m(\u001b[38;5;28mself\u001b[39m):\n\u001b[0;32m--> 136\u001b[0m     v \u001b[38;5;241m=\u001b[39m \u001b[38;5;28;43mgetattr\u001b[39;49m\u001b[43m(\u001b[49m\u001b[38;5;28;43mself\u001b[39;49m\u001b[43m,\u001b[49m\u001b[43m \u001b[49m\u001b[43ma\u001b[49m\u001b[43m)\u001b[49m\n\u001b[1;32m    137\u001b[0m     \u001b[38;5;28;01mif\u001b[39;00m \u001b[38;5;129;01mnot\u001b[39;00m callable(v) \u001b[38;5;129;01mand\u001b[39;00m \u001b[38;5;129;01mnot\u001b[39;00m a\u001b[38;5;241m.\u001b[39mstartswith(\u001b[38;5;124m'\u001b[39m\u001b[38;5;124m_\u001b[39m\u001b[38;5;124m'\u001b[39m):\n\u001b[1;32m    138\u001b[0m         \u001b[38;5;28;01mif\u001b[39;00m \u001b[38;5;28misinstance\u001b[39m(v, SimpleClass):\n\u001b[1;32m    139\u001b[0m             \u001b[38;5;66;03m# Display only the module and class name for subclasses\u001b[39;00m\n",
      "File \u001b[0;32m~/Desktop/Code/Deep-Learning-For-Computer-Vision/yolov8_v1/yolov8/utils/__init__.py:153\u001b[0m, in \u001b[0;36mSimpleClass.__getattr__\u001b[0;34m(self, attr)\u001b[0m\n\u001b[1;32m    151\u001b[0m \u001b[38;5;250m\u001b[39m\u001b[38;5;124;03m\"\"\"Custom attribute access error message with helpful information.\"\"\"\u001b[39;00m\n\u001b[1;32m    152\u001b[0m name \u001b[38;5;241m=\u001b[39m \u001b[38;5;28mself\u001b[39m\u001b[38;5;241m.\u001b[39m\u001b[38;5;18m__class__\u001b[39m\u001b[38;5;241m.\u001b[39m\u001b[38;5;18m__name__\u001b[39m\n\u001b[0;32m--> 153\u001b[0m \u001b[38;5;28;01mraise\u001b[39;00m \u001b[38;5;167;01mAttributeError\u001b[39;00m(\u001b[38;5;124mf\u001b[39m\u001b[38;5;124m\"\u001b[39m\u001b[38;5;124m'\u001b[39m\u001b[38;5;132;01m{\u001b[39;00mname\u001b[38;5;132;01m}\u001b[39;00m\u001b[38;5;124m'\u001b[39m\u001b[38;5;124m object has no attribute \u001b[39m\u001b[38;5;124m'\u001b[39m\u001b[38;5;132;01m{\u001b[39;00mattr\u001b[38;5;132;01m}\u001b[39;00m\u001b[38;5;124m'\u001b[39m\u001b[38;5;124m. See valid attributes below.\u001b[39m\u001b[38;5;130;01m\\n\u001b[39;00m\u001b[38;5;132;01m{\u001b[39;00m\u001b[38;5;28mself\u001b[39m\u001b[38;5;241m.\u001b[39m\u001b[38;5;18m__doc__\u001b[39m\u001b[38;5;132;01m}\u001b[39;00m\u001b[38;5;124m\"\u001b[39m)\n",
      "\u001b[0;31mAttributeError\u001b[0m: 'Metric' object has no attribute 'curves_results'. See valid attributes below.\n\n    Class for computing evaluation metrics for YOLOv8 model.\n\n    Attributes:\n        p (list): Precision for each class. Shape: (nc,).\n        r (list): Recall for each class. Shape: (nc,).\n        f1 (list): F1 score for each class. Shape: (nc,).\n        all_ap (list): AP scores for all classes and all IoU thresholds. Shape: (nc, 10).\n        ap_class_index (list): Index of class for each AP score. Shape: (nc,).\n        nc (int): Number of classes.\n\n    Methods:\n        ap50(): AP at IoU threshold of 0.5 for all classes. Returns: List of AP scores. Shape: (nc,) or [].\n        ap(): AP at IoU thresholds from 0.5 to 0.95 for all classes. Returns: List of AP scores. Shape: (nc,) or [].\n        mp(): Mean precision of all classes. Returns: Float.\n        mr(): Mean recall of all classes. Returns: Float.\n        map50(): Mean AP at IoU threshold of 0.5 for all classes. Returns: Float.\n        map75(): Mean AP at IoU threshold of 0.75 for all classes. Returns: Float.\n        map(): Mean AP at IoU thresholds from 0.5 to 0.95 for all classes. Returns: Float.\n        mean_results(): Mean of results, returns mp, mr, map50, map.\n        class_result(i): Class-aware result, returns p[i], r[i], ap50[i], ap[i].\n        maps(): mAP of each class. Returns: Array of mAP scores, shape: (nc,).\n        fitness(): Model fitness as a weighted combination of metrics. Returns: Float.\n        update(results): Update metric attributes with new evaluation results.\n    "
     ]
    }
   ],
   "source": [
    "train_results.box#.__dict__['box']#['box']\n",
    "#dict_keys(['save_dir', 'plot', 'on_plot', 'names', 'box', 'speed', 'task', 'confusion_matrix'])"
   ]
  },
  {
   "cell_type": "code",
   "execution_count": 2,
   "id": "0158e871-6bdd-4d96-a515-938206901c53",
   "metadata": {},
   "outputs": [],
   "source": [
    "from pathlib import Path"
   ]
  },
  {
   "cell_type": "code",
   "execution_count": 9,
   "id": "ab4506ca-6be3-402c-bc41-c65f493707b5",
   "metadata": {},
   "outputs": [
    {
     "data": {
      "text/plain": [
       "True"
      ]
     },
     "execution_count": 9,
     "metadata": {},
     "output_type": "execute_result"
    }
   ],
   "source": [
    "pth = Path('val/train')\n",
    "type('pth/pp')==str"
   ]
  },
  {
   "cell_type": "code",
   "execution_count": 9,
   "id": "542ee2f5-accb-4e6c-a880-ecf949c877b6",
   "metadata": {},
   "outputs": [
    {
     "ename": "TypeError",
     "evalue": "'IterableSimpleNamespace' object is not subscriptable",
     "output_type": "error",
     "traceback": [
      "\u001b[0;31m---------------------------------------------------------------------------\u001b[0m",
      "\u001b[0;31mTypeError\u001b[0m                                 Traceback (most recent call last)",
      "Cell \u001b[0;32mIn[9], line 1\u001b[0m\n\u001b[0;32m----> 1\u001b[0m \u001b[43mmodel\u001b[49m\u001b[38;5;241;43m.\u001b[39;49m\u001b[43mexport\u001b[49m\u001b[43m(\u001b[49m\u001b[43msave_dir\u001b[49m\u001b[38;5;241;43m=\u001b[39;49m\u001b[43m \u001b[49m\u001b[38;5;124;43mf\u001b[39;49m\u001b[38;5;124;43m'\u001b[39;49m\u001b[38;5;132;43;01m{\u001b[39;49;00m\u001b[43msave_dir\u001b[49m\u001b[38;5;132;43;01m}\u001b[39;49;00m\u001b[38;5;124;43m/\u001b[39;49m\u001b[38;5;132;43;01m{\u001b[39;49;00m\u001b[38;5;241;43m1\u001b[39;49m\u001b[38;5;132;43;01m}\u001b[39;49;00m\u001b[38;5;124;43m/train/\u001b[39;49m\u001b[38;5;124;43m'\u001b[39;49m\u001b[43m)\u001b[49m\n",
      "File \u001b[0;32m~/Desktop/Code/Deep-Learning-For-Computer-Vision/yolov8_v1/yolov8/engine/model.py:308\u001b[0m, in \u001b[0;36mModel.export\u001b[0;34m(self, **kwargs)\u001b[0m\n\u001b[1;32m    305\u001b[0m \u001b[38;5;28mself\u001b[39m\u001b[38;5;241m.\u001b[39m_check_is_pytorch_model()\n\u001b[1;32m    306\u001b[0m \u001b[38;5;28;01mfrom\u001b[39;00m \u001b[38;5;21;01m.\u001b[39;00m\u001b[38;5;21;01mexporter\u001b[39;00m \u001b[38;5;28;01mimport\u001b[39;00m Exporter\n\u001b[0;32m--> 308\u001b[0m custom \u001b[38;5;241m=\u001b[39m {\u001b[38;5;124m'\u001b[39m\u001b[38;5;124mimgsz\u001b[39m\u001b[38;5;124m'\u001b[39m: \u001b[38;5;28;43mself\u001b[39;49m\u001b[38;5;241;43m.\u001b[39;49m\u001b[43mmodel\u001b[49m\u001b[38;5;241;43m.\u001b[39;49m\u001b[43margs\u001b[49m\u001b[43m[\u001b[49m\u001b[38;5;124;43m'\u001b[39;49m\u001b[38;5;124;43mimgsz\u001b[39;49m\u001b[38;5;124;43m'\u001b[39;49m\u001b[43m]\u001b[49m, \u001b[38;5;124m'\u001b[39m\u001b[38;5;124mbatch\u001b[39m\u001b[38;5;124m'\u001b[39m: \u001b[38;5;241m1\u001b[39m, \u001b[38;5;124m'\u001b[39m\u001b[38;5;124mdata\u001b[39m\u001b[38;5;124m'\u001b[39m: \u001b[38;5;28;01mNone\u001b[39;00m, \u001b[38;5;124m'\u001b[39m\u001b[38;5;124mverbose\u001b[39m\u001b[38;5;124m'\u001b[39m: \u001b[38;5;28;01mFalse\u001b[39;00m}  \u001b[38;5;66;03m# method defaults\u001b[39;00m\n\u001b[1;32m    309\u001b[0m args \u001b[38;5;241m=\u001b[39m {\u001b[38;5;241m*\u001b[39m\u001b[38;5;241m*\u001b[39m\u001b[38;5;28mself\u001b[39m\u001b[38;5;241m.\u001b[39moverrides, \u001b[38;5;241m*\u001b[39m\u001b[38;5;241m*\u001b[39mcustom, \u001b[38;5;241m*\u001b[39m\u001b[38;5;241m*\u001b[39mkwargs, \u001b[38;5;124m'\u001b[39m\u001b[38;5;124mmode\u001b[39m\u001b[38;5;124m'\u001b[39m: \u001b[38;5;124m'\u001b[39m\u001b[38;5;124mexport\u001b[39m\u001b[38;5;124m'\u001b[39m}  \u001b[38;5;66;03m# highest priority args on the right\u001b[39;00m\n\u001b[1;32m    310\u001b[0m \u001b[38;5;28;01mreturn\u001b[39;00m Exporter(overrides\u001b[38;5;241m=\u001b[39margs, _callbacks\u001b[38;5;241m=\u001b[39m\u001b[38;5;28mself\u001b[39m\u001b[38;5;241m.\u001b[39mcallbacks)(model\u001b[38;5;241m=\u001b[39m\u001b[38;5;28mself\u001b[39m\u001b[38;5;241m.\u001b[39mmodel)\n",
      "\u001b[0;31mTypeError\u001b[0m: 'IterableSimpleNamespace' object is not subscriptable"
     ]
    }
   ],
   "source": [
    "model.export(save_dir= f'{save_dir}/{1}/train/')"
   ]
  },
  {
   "cell_type": "code",
   "execution_count": 3,
   "id": "62b4daa9-a973-42b7-9eb6-1d3f0d80687f",
   "metadata": {
    "scrolled": true,
    "tags": []
   },
   "outputs": [
    {
     "name": "stdout",
     "output_type": "stream",
     "text": [
      "Ultralytics YOLOv8.0.216 🚀 Python-3.8.10 torch-1.12.1+cu116 CUDA:0 (NVIDIA GeForce GTX 1660 Ti, 5945MiB)\n"
     ]
    },
    {
     "name": "stderr",
     "output_type": "stream",
     "text": [
      "\u001b[34m\u001b[1mval: \u001b[0mScanning /home/irfan/Desktop/Data/Tools segmentation 2.v3i.yolov8/valid/lab\u001b[0m\n",
      "                 Class     Images  Instances      Box(P          R      mAP50  m\n"
     ]
    },
    {
     "name": "stdout",
     "output_type": "stream",
     "text": [
      "                   all        346       1645      0.683      0.447      0.544      0.459\n",
      "       -rescent wrench        346        192      0.597      0.911      0.893      0.795\n",
      "               Backsaw        346         33          1          0      0.179      0.162\n",
      "              Calipers        346         11      0.509          1      0.929      0.659\n",
      "        Cutting pliers        346        106      0.541       0.17      0.556      0.511\n",
      "                 Drill        346         27          1          0     0.0597     0.0597\n",
      "            Gas wrench        346         59       0.34      0.797      0.671      0.616\n",
      "                   Gun        346         34          1          0      0.559      0.559\n",
      "                Hammer        346        160      0.851      0.669      0.805      0.718\n",
      "                  Hand        346         44      0.877      0.163       0.39       0.27\n",
      "               Handsaw        346          4          1          0       0.15       0.12\n",
      "    Needle-nose pliers        346         95      0.702      0.589      0.752      0.653\n",
      "                Pliers        346         51      0.492      0.412      0.397      0.351\n",
      "               Ratchet        346         71      0.491      0.817      0.758      0.695\n",
      "           Screwdriver        346        447      0.842       0.74       0.84      0.648\n",
      "          Tape measure        346         16      0.521      0.342      0.389      0.258\n",
      "         Utility knife        346         10      0.119        0.3      0.207      0.173\n",
      "                Wrench        346        285      0.722      0.683      0.716      0.559\n",
      "Speed: 0.3ms preprocess, 18.1ms inference, 0.0ms loss, 0.9ms postprocess per image\n",
      "Results saved to \u001b[1m/home/irfan/Desktop/Code/Deep-Learning-For-Computer-Vision/runs/detect/train\u001b[0m\n"
     ]
    },
    {
     "data": {
      "text/plain": [
       "yolov8.utils.metrics.DetMetrics object with attributes:\n",
       "\n",
       "ap_class_index: array([ 0,  1,  2,  3,  4,  5,  6,  7,  8,  9, 10, 11, 12, 13, 14, 15, 16])\n",
       "box: yolov8.utils.metrics.Metric object\n",
       "confusion_matrix: <yolov8.utils.metrics.ConfusionMatrix object at 0x7fe7d3a6dac0>\n",
       "curves: ['Precision-Recall(B)', 'F1-Confidence(B)', 'Precision-Confidence(B)', 'Recall-Confidence(B)']\n",
       "curves_results: [[array([          0,    0.001001,    0.002002,    0.003003,    0.004004,    0.005005,    0.006006,    0.007007,    0.008008,    0.009009,     0.01001,    0.011011,    0.012012,    0.013013,    0.014014,    0.015015,    0.016016,    0.017017,    0.018018,    0.019019,     0.02002,    0.021021,    0.022022,    0.023023,\n",
       "          0.024024,    0.025025,    0.026026,    0.027027,    0.028028,    0.029029,     0.03003,    0.031031,    0.032032,    0.033033,    0.034034,    0.035035,    0.036036,    0.037037,    0.038038,    0.039039,     0.04004,    0.041041,    0.042042,    0.043043,    0.044044,    0.045045,    0.046046,    0.047047,\n",
       "          0.048048,    0.049049,     0.05005,    0.051051,    0.052052,    0.053053,    0.054054,    0.055055,    0.056056,    0.057057,    0.058058,    0.059059,     0.06006,    0.061061,    0.062062,    0.063063,    0.064064,    0.065065,    0.066066,    0.067067,    0.068068,    0.069069,     0.07007,    0.071071,\n",
       "          0.072072,    0.073073,    0.074074,    0.075075,    0.076076,    0.077077,    0.078078,    0.079079,     0.08008,    0.081081,    0.082082,    0.083083,    0.084084,    0.085085,    0.086086,    0.087087,    0.088088,    0.089089,     0.09009,    0.091091,    0.092092,    0.093093,    0.094094,    0.095095,\n",
       "          0.096096,    0.097097,    0.098098,    0.099099,      0.1001,      0.1011,      0.1021,      0.1031,      0.1041,     0.10511,     0.10611,     0.10711,     0.10811,     0.10911,     0.11011,     0.11111,     0.11211,     0.11311,     0.11411,     0.11512,     0.11612,     0.11712,     0.11812,     0.11912,\n",
       "           0.12012,     0.12112,     0.12212,     0.12312,     0.12412,     0.12513,     0.12613,     0.12713,     0.12813,     0.12913,     0.13013,     0.13113,     0.13213,     0.13313,     0.13413,     0.13514,     0.13614,     0.13714,     0.13814,     0.13914,     0.14014,     0.14114,     0.14214,     0.14314,\n",
       "           0.14414,     0.14515,     0.14615,     0.14715,     0.14815,     0.14915,     0.15015,     0.15115,     0.15215,     0.15315,     0.15415,     0.15516,     0.15616,     0.15716,     0.15816,     0.15916,     0.16016,     0.16116,     0.16216,     0.16316,     0.16416,     0.16517,     0.16617,     0.16717,\n",
       "           0.16817,     0.16917,     0.17017,     0.17117,     0.17217,     0.17317,     0.17417,     0.17518,     0.17618,     0.17718,     0.17818,     0.17918,     0.18018,     0.18118,     0.18218,     0.18318,     0.18418,     0.18519,     0.18619,     0.18719,     0.18819,     0.18919,     0.19019,     0.19119,\n",
       "           0.19219,     0.19319,     0.19419,      0.1952,      0.1962,      0.1972,      0.1982,      0.1992,      0.2002,      0.2012,      0.2022,      0.2032,      0.2042,     0.20521,     0.20621,     0.20721,     0.20821,     0.20921,     0.21021,     0.21121,     0.21221,     0.21321,     0.21421,     0.21522,\n",
       "           0.21622,     0.21722,     0.21822,     0.21922,     0.22022,     0.22122,     0.22222,     0.22322,     0.22422,     0.22523,     0.22623,     0.22723,     0.22823,     0.22923,     0.23023,     0.23123,     0.23223,     0.23323,     0.23423,     0.23524,     0.23624,     0.23724,     0.23824,     0.23924,\n",
       "           0.24024,     0.24124,     0.24224,     0.24324,     0.24424,     0.24525,     0.24625,     0.24725,     0.24825,     0.24925,     0.25025,     0.25125,     0.25225,     0.25325,     0.25425,     0.25526,     0.25626,     0.25726,     0.25826,     0.25926,     0.26026,     0.26126,     0.26226,     0.26326,\n",
       "           0.26426,     0.26527,     0.26627,     0.26727,     0.26827,     0.26927,     0.27027,     0.27127,     0.27227,     0.27327,     0.27427,     0.27528,     0.27628,     0.27728,     0.27828,     0.27928,     0.28028,     0.28128,     0.28228,     0.28328,     0.28428,     0.28529,     0.28629,     0.28729,\n",
       "           0.28829,     0.28929,     0.29029,     0.29129,     0.29229,     0.29329,     0.29429,      0.2953,      0.2963,      0.2973,      0.2983,      0.2993,      0.3003,      0.3013,      0.3023,      0.3033,      0.3043,     0.30531,     0.30631,     0.30731,     0.30831,     0.30931,     0.31031,     0.31131,\n",
       "           0.31231,     0.31331,     0.31431,     0.31532,     0.31632,     0.31732,     0.31832,     0.31932,     0.32032,     0.32132,     0.32232,     0.32332,     0.32432,     0.32533,     0.32633,     0.32733,     0.32833,     0.32933,     0.33033,     0.33133,     0.33233,     0.33333,     0.33433,     0.33534,\n",
       "           0.33634,     0.33734,     0.33834,     0.33934,     0.34034,     0.34134,     0.34234,     0.34334,     0.34434,     0.34535,     0.34635,     0.34735,     0.34835,     0.34935,     0.35035,     0.35135,     0.35235,     0.35335,     0.35435,     0.35536,     0.35636,     0.35736,     0.35836,     0.35936,\n",
       "           0.36036,     0.36136,     0.36236,     0.36336,     0.36436,     0.36537,     0.36637,     0.36737,     0.36837,     0.36937,     0.37037,     0.37137,     0.37237,     0.37337,     0.37437,     0.37538,     0.37638,     0.37738,     0.37838,     0.37938,     0.38038,     0.38138,     0.38238,     0.38338,\n",
       "           0.38438,     0.38539,     0.38639,     0.38739,     0.38839,     0.38939,     0.39039,     0.39139,     0.39239,     0.39339,     0.39439,      0.3954,      0.3964,      0.3974,      0.3984,      0.3994,      0.4004,      0.4014,      0.4024,      0.4034,      0.4044,     0.40541,     0.40641,     0.40741,\n",
       "           0.40841,     0.40941,     0.41041,     0.41141,     0.41241,     0.41341,     0.41441,     0.41542,     0.41642,     0.41742,     0.41842,     0.41942,     0.42042,     0.42142,     0.42242,     0.42342,     0.42442,     0.42543,     0.42643,     0.42743,     0.42843,     0.42943,     0.43043,     0.43143,\n",
       "           0.43243,     0.43343,     0.43443,     0.43544,     0.43644,     0.43744,     0.43844,     0.43944,     0.44044,     0.44144,     0.44244,     0.44344,     0.44444,     0.44545,     0.44645,     0.44745,     0.44845,     0.44945,     0.45045,     0.45145,     0.45245,     0.45345,     0.45445,     0.45546,\n",
       "           0.45646,     0.45746,     0.45846,     0.45946,     0.46046,     0.46146,     0.46246,     0.46346,     0.46446,     0.46547,     0.46647,     0.46747,     0.46847,     0.46947,     0.47047,     0.47147,     0.47247,     0.47347,     0.47447,     0.47548,     0.47648,     0.47748,     0.47848,     0.47948,\n",
       "           0.48048,     0.48148,     0.48248,     0.48348,     0.48448,     0.48549,     0.48649,     0.48749,     0.48849,     0.48949,     0.49049,     0.49149,     0.49249,     0.49349,     0.49449,      0.4955,      0.4965,      0.4975,      0.4985,      0.4995,      0.5005,      0.5015,      0.5025,      0.5035,\n",
       "            0.5045,     0.50551,     0.50651,     0.50751,     0.50851,     0.50951,     0.51051,     0.51151,     0.51251,     0.51351,     0.51451,     0.51552,     0.51652,     0.51752,     0.51852,     0.51952,     0.52052,     0.52152,     0.52252,     0.52352,     0.52452,     0.52553,     0.52653,     0.52753,\n",
       "           0.52853,     0.52953,     0.53053,     0.53153,     0.53253,     0.53353,     0.53453,     0.53554,     0.53654,     0.53754,     0.53854,     0.53954,     0.54054,     0.54154,     0.54254,     0.54354,     0.54454,     0.54555,     0.54655,     0.54755,     0.54855,     0.54955,     0.55055,     0.55155,\n",
       "           0.55255,     0.55355,     0.55455,     0.55556,     0.55656,     0.55756,     0.55856,     0.55956,     0.56056,     0.56156,     0.56256,     0.56356,     0.56456,     0.56557,     0.56657,     0.56757,     0.56857,     0.56957,     0.57057,     0.57157,     0.57257,     0.57357,     0.57457,     0.57558,\n",
       "           0.57658,     0.57758,     0.57858,     0.57958,     0.58058,     0.58158,     0.58258,     0.58358,     0.58458,     0.58559,     0.58659,     0.58759,     0.58859,     0.58959,     0.59059,     0.59159,     0.59259,     0.59359,     0.59459,      0.5956,      0.5966,      0.5976,      0.5986,      0.5996,\n",
       "            0.6006,      0.6016,      0.6026,      0.6036,      0.6046,     0.60561,     0.60661,     0.60761,     0.60861,     0.60961,     0.61061,     0.61161,     0.61261,     0.61361,     0.61461,     0.61562,     0.61662,     0.61762,     0.61862,     0.61962,     0.62062,     0.62162,     0.62262,     0.62362,\n",
       "           0.62462,     0.62563,     0.62663,     0.62763,     0.62863,     0.62963,     0.63063,     0.63163,     0.63263,     0.63363,     0.63463,     0.63564,     0.63664,     0.63764,     0.63864,     0.63964,     0.64064,     0.64164,     0.64264,     0.64364,     0.64464,     0.64565,     0.64665,     0.64765,\n",
       "           0.64865,     0.64965,     0.65065,     0.65165,     0.65265,     0.65365,     0.65465,     0.65566,     0.65666,     0.65766,     0.65866,     0.65966,     0.66066,     0.66166,     0.66266,     0.66366,     0.66466,     0.66567,     0.66667,     0.66767,     0.66867,     0.66967,     0.67067,     0.67167,\n",
       "           0.67267,     0.67367,     0.67467,     0.67568,     0.67668,     0.67768,     0.67868,     0.67968,     0.68068,     0.68168,     0.68268,     0.68368,     0.68468,     0.68569,     0.68669,     0.68769,     0.68869,     0.68969,     0.69069,     0.69169,     0.69269,     0.69369,     0.69469,      0.6957,\n",
       "            0.6967,      0.6977,      0.6987,      0.6997,      0.7007,      0.7017,      0.7027,      0.7037,      0.7047,     0.70571,     0.70671,     0.70771,     0.70871,     0.70971,     0.71071,     0.71171,     0.71271,     0.71371,     0.71471,     0.71572,     0.71672,     0.71772,     0.71872,     0.71972,\n",
       "           0.72072,     0.72172,     0.72272,     0.72372,     0.72472,     0.72573,     0.72673,     0.72773,     0.72873,     0.72973,     0.73073,     0.73173,     0.73273,     0.73373,     0.73473,     0.73574,     0.73674,     0.73774,     0.73874,     0.73974,     0.74074,     0.74174,     0.74274,     0.74374,\n",
       "           0.74474,     0.74575,     0.74675,     0.74775,     0.74875,     0.74975,     0.75075,     0.75175,     0.75275,     0.75375,     0.75475,     0.75576,     0.75676,     0.75776,     0.75876,     0.75976,     0.76076,     0.76176,     0.76276,     0.76376,     0.76476,     0.76577,     0.76677,     0.76777,\n",
       "           0.76877,     0.76977,     0.77077,     0.77177,     0.77277,     0.77377,     0.77477,     0.77578,     0.77678,     0.77778,     0.77878,     0.77978,     0.78078,     0.78178,     0.78278,     0.78378,     0.78478,     0.78579,     0.78679,     0.78779,     0.78879,     0.78979,     0.79079,     0.79179,\n",
       "           0.79279,     0.79379,     0.79479,      0.7958,      0.7968,      0.7978,      0.7988,      0.7998,      0.8008,      0.8018,      0.8028,      0.8038,      0.8048,     0.80581,     0.80681,     0.80781,     0.80881,     0.80981,     0.81081,     0.81181,     0.81281,     0.81381,     0.81481,     0.81582,\n",
       "           0.81682,     0.81782,     0.81882,     0.81982,     0.82082,     0.82182,     0.82282,     0.82382,     0.82482,     0.82583,     0.82683,     0.82783,     0.82883,     0.82983,     0.83083,     0.83183,     0.83283,     0.83383,     0.83483,     0.83584,     0.83684,     0.83784,     0.83884,     0.83984,\n",
       "           0.84084,     0.84184,     0.84284,     0.84384,     0.84484,     0.84585,     0.84685,     0.84785,     0.84885,     0.84985,     0.85085,     0.85185,     0.85285,     0.85385,     0.85485,     0.85586,     0.85686,     0.85786,     0.85886,     0.85986,     0.86086,     0.86186,     0.86286,     0.86386,\n",
       "           0.86486,     0.86587,     0.86687,     0.86787,     0.86887,     0.86987,     0.87087,     0.87187,     0.87287,     0.87387,     0.87487,     0.87588,     0.87688,     0.87788,     0.87888,     0.87988,     0.88088,     0.88188,     0.88288,     0.88388,     0.88488,     0.88589,     0.88689,     0.88789,\n",
       "           0.88889,     0.88989,     0.89089,     0.89189,     0.89289,     0.89389,     0.89489,      0.8959,      0.8969,      0.8979,      0.8989,      0.8999,      0.9009,      0.9019,      0.9029,      0.9039,      0.9049,     0.90591,     0.90691,     0.90791,     0.90891,     0.90991,     0.91091,     0.91191,\n",
       "           0.91291,     0.91391,     0.91491,     0.91592,     0.91692,     0.91792,     0.91892,     0.91992,     0.92092,     0.92192,     0.92292,     0.92392,     0.92492,     0.92593,     0.92693,     0.92793,     0.92893,     0.92993,     0.93093,     0.93193,     0.93293,     0.93393,     0.93493,     0.93594,\n",
       "           0.93694,     0.93794,     0.93894,     0.93994,     0.94094,     0.94194,     0.94294,     0.94394,     0.94494,     0.94595,     0.94695,     0.94795,     0.94895,     0.94995,     0.95095,     0.95195,     0.95295,     0.95395,     0.95495,     0.95596,     0.95696,     0.95796,     0.95896,     0.95996,\n",
       "           0.96096,     0.96196,     0.96296,     0.96396,     0.96496,     0.96597,     0.96697,     0.96797,     0.96897,     0.96997,     0.97097,     0.97197,     0.97297,     0.97397,     0.97497,     0.97598,     0.97698,     0.97798,     0.97898,     0.97998,     0.98098,     0.98198,     0.98298,     0.98398,\n",
       "           0.98498,     0.98599,     0.98699,     0.98799,     0.98899,     0.98999,     0.99099,     0.99199,     0.99299,     0.99399,     0.99499,       0.996,       0.997,       0.998,       0.999,           1]), array([[          1,           1,           1, ...,    0.018018,    0.009009,           0],\n",
       "       [    0.38095,     0.38095,     0.38095, ...,  0.00058988,  0.00029494,           0],\n",
       "       [          1,           1,           1, ...,        0.55,        0.55,           0],\n",
       "       ...,\n",
       "       [          1,           1,           1, ...,  0.00074493,  0.00037247,           0],\n",
       "       [          1,           1,           1, ...,  0.00035434,  0.00017717,           0],\n",
       "       [          1,           1,           1, ...,   0.0041845,   0.0020923,           0]]), 'Recall', 'Precision'], [array([          0,    0.001001,    0.002002,    0.003003,    0.004004,    0.005005,    0.006006,    0.007007,    0.008008,    0.009009,     0.01001,    0.011011,    0.012012,    0.013013,    0.014014,    0.015015,    0.016016,    0.017017,    0.018018,    0.019019,     0.02002,    0.021021,    0.022022,    0.023023,\n",
       "          0.024024,    0.025025,    0.026026,    0.027027,    0.028028,    0.029029,     0.03003,    0.031031,    0.032032,    0.033033,    0.034034,    0.035035,    0.036036,    0.037037,    0.038038,    0.039039,     0.04004,    0.041041,    0.042042,    0.043043,    0.044044,    0.045045,    0.046046,    0.047047,\n",
       "          0.048048,    0.049049,     0.05005,    0.051051,    0.052052,    0.053053,    0.054054,    0.055055,    0.056056,    0.057057,    0.058058,    0.059059,     0.06006,    0.061061,    0.062062,    0.063063,    0.064064,    0.065065,    0.066066,    0.067067,    0.068068,    0.069069,     0.07007,    0.071071,\n",
       "          0.072072,    0.073073,    0.074074,    0.075075,    0.076076,    0.077077,    0.078078,    0.079079,     0.08008,    0.081081,    0.082082,    0.083083,    0.084084,    0.085085,    0.086086,    0.087087,    0.088088,    0.089089,     0.09009,    0.091091,    0.092092,    0.093093,    0.094094,    0.095095,\n",
       "          0.096096,    0.097097,    0.098098,    0.099099,      0.1001,      0.1011,      0.1021,      0.1031,      0.1041,     0.10511,     0.10611,     0.10711,     0.10811,     0.10911,     0.11011,     0.11111,     0.11211,     0.11311,     0.11411,     0.11512,     0.11612,     0.11712,     0.11812,     0.11912,\n",
       "           0.12012,     0.12112,     0.12212,     0.12312,     0.12412,     0.12513,     0.12613,     0.12713,     0.12813,     0.12913,     0.13013,     0.13113,     0.13213,     0.13313,     0.13413,     0.13514,     0.13614,     0.13714,     0.13814,     0.13914,     0.14014,     0.14114,     0.14214,     0.14314,\n",
       "           0.14414,     0.14515,     0.14615,     0.14715,     0.14815,     0.14915,     0.15015,     0.15115,     0.15215,     0.15315,     0.15415,     0.15516,     0.15616,     0.15716,     0.15816,     0.15916,     0.16016,     0.16116,     0.16216,     0.16316,     0.16416,     0.16517,     0.16617,     0.16717,\n",
       "           0.16817,     0.16917,     0.17017,     0.17117,     0.17217,     0.17317,     0.17417,     0.17518,     0.17618,     0.17718,     0.17818,     0.17918,     0.18018,     0.18118,     0.18218,     0.18318,     0.18418,     0.18519,     0.18619,     0.18719,     0.18819,     0.18919,     0.19019,     0.19119,\n",
       "           0.19219,     0.19319,     0.19419,      0.1952,      0.1962,      0.1972,      0.1982,      0.1992,      0.2002,      0.2012,      0.2022,      0.2032,      0.2042,     0.20521,     0.20621,     0.20721,     0.20821,     0.20921,     0.21021,     0.21121,     0.21221,     0.21321,     0.21421,     0.21522,\n",
       "           0.21622,     0.21722,     0.21822,     0.21922,     0.22022,     0.22122,     0.22222,     0.22322,     0.22422,     0.22523,     0.22623,     0.22723,     0.22823,     0.22923,     0.23023,     0.23123,     0.23223,     0.23323,     0.23423,     0.23524,     0.23624,     0.23724,     0.23824,     0.23924,\n",
       "           0.24024,     0.24124,     0.24224,     0.24324,     0.24424,     0.24525,     0.24625,     0.24725,     0.24825,     0.24925,     0.25025,     0.25125,     0.25225,     0.25325,     0.25425,     0.25526,     0.25626,     0.25726,     0.25826,     0.25926,     0.26026,     0.26126,     0.26226,     0.26326,\n",
       "           0.26426,     0.26527,     0.26627,     0.26727,     0.26827,     0.26927,     0.27027,     0.27127,     0.27227,     0.27327,     0.27427,     0.27528,     0.27628,     0.27728,     0.27828,     0.27928,     0.28028,     0.28128,     0.28228,     0.28328,     0.28428,     0.28529,     0.28629,     0.28729,\n",
       "           0.28829,     0.28929,     0.29029,     0.29129,     0.29229,     0.29329,     0.29429,      0.2953,      0.2963,      0.2973,      0.2983,      0.2993,      0.3003,      0.3013,      0.3023,      0.3033,      0.3043,     0.30531,     0.30631,     0.30731,     0.30831,     0.30931,     0.31031,     0.31131,\n",
       "           0.31231,     0.31331,     0.31431,     0.31532,     0.31632,     0.31732,     0.31832,     0.31932,     0.32032,     0.32132,     0.32232,     0.32332,     0.32432,     0.32533,     0.32633,     0.32733,     0.32833,     0.32933,     0.33033,     0.33133,     0.33233,     0.33333,     0.33433,     0.33534,\n",
       "           0.33634,     0.33734,     0.33834,     0.33934,     0.34034,     0.34134,     0.34234,     0.34334,     0.34434,     0.34535,     0.34635,     0.34735,     0.34835,     0.34935,     0.35035,     0.35135,     0.35235,     0.35335,     0.35435,     0.35536,     0.35636,     0.35736,     0.35836,     0.35936,\n",
       "           0.36036,     0.36136,     0.36236,     0.36336,     0.36436,     0.36537,     0.36637,     0.36737,     0.36837,     0.36937,     0.37037,     0.37137,     0.37237,     0.37337,     0.37437,     0.37538,     0.37638,     0.37738,     0.37838,     0.37938,     0.38038,     0.38138,     0.38238,     0.38338,\n",
       "           0.38438,     0.38539,     0.38639,     0.38739,     0.38839,     0.38939,     0.39039,     0.39139,     0.39239,     0.39339,     0.39439,      0.3954,      0.3964,      0.3974,      0.3984,      0.3994,      0.4004,      0.4014,      0.4024,      0.4034,      0.4044,     0.40541,     0.40641,     0.40741,\n",
       "           0.40841,     0.40941,     0.41041,     0.41141,     0.41241,     0.41341,     0.41441,     0.41542,     0.41642,     0.41742,     0.41842,     0.41942,     0.42042,     0.42142,     0.42242,     0.42342,     0.42442,     0.42543,     0.42643,     0.42743,     0.42843,     0.42943,     0.43043,     0.43143,\n",
       "           0.43243,     0.43343,     0.43443,     0.43544,     0.43644,     0.43744,     0.43844,     0.43944,     0.44044,     0.44144,     0.44244,     0.44344,     0.44444,     0.44545,     0.44645,     0.44745,     0.44845,     0.44945,     0.45045,     0.45145,     0.45245,     0.45345,     0.45445,     0.45546,\n",
       "           0.45646,     0.45746,     0.45846,     0.45946,     0.46046,     0.46146,     0.46246,     0.46346,     0.46446,     0.46547,     0.46647,     0.46747,     0.46847,     0.46947,     0.47047,     0.47147,     0.47247,     0.47347,     0.47447,     0.47548,     0.47648,     0.47748,     0.47848,     0.47948,\n",
       "           0.48048,     0.48148,     0.48248,     0.48348,     0.48448,     0.48549,     0.48649,     0.48749,     0.48849,     0.48949,     0.49049,     0.49149,     0.49249,     0.49349,     0.49449,      0.4955,      0.4965,      0.4975,      0.4985,      0.4995,      0.5005,      0.5015,      0.5025,      0.5035,\n",
       "            0.5045,     0.50551,     0.50651,     0.50751,     0.50851,     0.50951,     0.51051,     0.51151,     0.51251,     0.51351,     0.51451,     0.51552,     0.51652,     0.51752,     0.51852,     0.51952,     0.52052,     0.52152,     0.52252,     0.52352,     0.52452,     0.52553,     0.52653,     0.52753,\n",
       "           0.52853,     0.52953,     0.53053,     0.53153,     0.53253,     0.53353,     0.53453,     0.53554,     0.53654,     0.53754,     0.53854,     0.53954,     0.54054,     0.54154,     0.54254,     0.54354,     0.54454,     0.54555,     0.54655,     0.54755,     0.54855,     0.54955,     0.55055,     0.55155,\n",
       "           0.55255,     0.55355,     0.55455,     0.55556,     0.55656,     0.55756,     0.55856,     0.55956,     0.56056,     0.56156,     0.56256,     0.56356,     0.56456,     0.56557,     0.56657,     0.56757,     0.56857,     0.56957,     0.57057,     0.57157,     0.57257,     0.57357,     0.57457,     0.57558,\n",
       "           0.57658,     0.57758,     0.57858,     0.57958,     0.58058,     0.58158,     0.58258,     0.58358,     0.58458,     0.58559,     0.58659,     0.58759,     0.58859,     0.58959,     0.59059,     0.59159,     0.59259,     0.59359,     0.59459,      0.5956,      0.5966,      0.5976,      0.5986,      0.5996,\n",
       "            0.6006,      0.6016,      0.6026,      0.6036,      0.6046,     0.60561,     0.60661,     0.60761,     0.60861,     0.60961,     0.61061,     0.61161,     0.61261,     0.61361,     0.61461,     0.61562,     0.61662,     0.61762,     0.61862,     0.61962,     0.62062,     0.62162,     0.62262,     0.62362,\n",
       "           0.62462,     0.62563,     0.62663,     0.62763,     0.62863,     0.62963,     0.63063,     0.63163,     0.63263,     0.63363,     0.63463,     0.63564,     0.63664,     0.63764,     0.63864,     0.63964,     0.64064,     0.64164,     0.64264,     0.64364,     0.64464,     0.64565,     0.64665,     0.64765,\n",
       "           0.64865,     0.64965,     0.65065,     0.65165,     0.65265,     0.65365,     0.65465,     0.65566,     0.65666,     0.65766,     0.65866,     0.65966,     0.66066,     0.66166,     0.66266,     0.66366,     0.66466,     0.66567,     0.66667,     0.66767,     0.66867,     0.66967,     0.67067,     0.67167,\n",
       "           0.67267,     0.67367,     0.67467,     0.67568,     0.67668,     0.67768,     0.67868,     0.67968,     0.68068,     0.68168,     0.68268,     0.68368,     0.68468,     0.68569,     0.68669,     0.68769,     0.68869,     0.68969,     0.69069,     0.69169,     0.69269,     0.69369,     0.69469,      0.6957,\n",
       "            0.6967,      0.6977,      0.6987,      0.6997,      0.7007,      0.7017,      0.7027,      0.7037,      0.7047,     0.70571,     0.70671,     0.70771,     0.70871,     0.70971,     0.71071,     0.71171,     0.71271,     0.71371,     0.71471,     0.71572,     0.71672,     0.71772,     0.71872,     0.71972,\n",
       "           0.72072,     0.72172,     0.72272,     0.72372,     0.72472,     0.72573,     0.72673,     0.72773,     0.72873,     0.72973,     0.73073,     0.73173,     0.73273,     0.73373,     0.73473,     0.73574,     0.73674,     0.73774,     0.73874,     0.73974,     0.74074,     0.74174,     0.74274,     0.74374,\n",
       "           0.74474,     0.74575,     0.74675,     0.74775,     0.74875,     0.74975,     0.75075,     0.75175,     0.75275,     0.75375,     0.75475,     0.75576,     0.75676,     0.75776,     0.75876,     0.75976,     0.76076,     0.76176,     0.76276,     0.76376,     0.76476,     0.76577,     0.76677,     0.76777,\n",
       "           0.76877,     0.76977,     0.77077,     0.77177,     0.77277,     0.77377,     0.77477,     0.77578,     0.77678,     0.77778,     0.77878,     0.77978,     0.78078,     0.78178,     0.78278,     0.78378,     0.78478,     0.78579,     0.78679,     0.78779,     0.78879,     0.78979,     0.79079,     0.79179,\n",
       "           0.79279,     0.79379,     0.79479,      0.7958,      0.7968,      0.7978,      0.7988,      0.7998,      0.8008,      0.8018,      0.8028,      0.8038,      0.8048,     0.80581,     0.80681,     0.80781,     0.80881,     0.80981,     0.81081,     0.81181,     0.81281,     0.81381,     0.81481,     0.81582,\n",
       "           0.81682,     0.81782,     0.81882,     0.81982,     0.82082,     0.82182,     0.82282,     0.82382,     0.82482,     0.82583,     0.82683,     0.82783,     0.82883,     0.82983,     0.83083,     0.83183,     0.83283,     0.83383,     0.83483,     0.83584,     0.83684,     0.83784,     0.83884,     0.83984,\n",
       "           0.84084,     0.84184,     0.84284,     0.84384,     0.84484,     0.84585,     0.84685,     0.84785,     0.84885,     0.84985,     0.85085,     0.85185,     0.85285,     0.85385,     0.85485,     0.85586,     0.85686,     0.85786,     0.85886,     0.85986,     0.86086,     0.86186,     0.86286,     0.86386,\n",
       "           0.86486,     0.86587,     0.86687,     0.86787,     0.86887,     0.86987,     0.87087,     0.87187,     0.87287,     0.87387,     0.87487,     0.87588,     0.87688,     0.87788,     0.87888,     0.87988,     0.88088,     0.88188,     0.88288,     0.88388,     0.88488,     0.88589,     0.88689,     0.88789,\n",
       "           0.88889,     0.88989,     0.89089,     0.89189,     0.89289,     0.89389,     0.89489,      0.8959,      0.8969,      0.8979,      0.8989,      0.8999,      0.9009,      0.9019,      0.9029,      0.9039,      0.9049,     0.90591,     0.90691,     0.90791,     0.90891,     0.90991,     0.91091,     0.91191,\n",
       "           0.91291,     0.91391,     0.91491,     0.91592,     0.91692,     0.91792,     0.91892,     0.91992,     0.92092,     0.92192,     0.92292,     0.92392,     0.92492,     0.92593,     0.92693,     0.92793,     0.92893,     0.92993,     0.93093,     0.93193,     0.93293,     0.93393,     0.93493,     0.93594,\n",
       "           0.93694,     0.93794,     0.93894,     0.93994,     0.94094,     0.94194,     0.94294,     0.94394,     0.94494,     0.94595,     0.94695,     0.94795,     0.94895,     0.94995,     0.95095,     0.95195,     0.95295,     0.95395,     0.95495,     0.95596,     0.95696,     0.95796,     0.95896,     0.95996,\n",
       "           0.96096,     0.96196,     0.96296,     0.96396,     0.96496,     0.96597,     0.96697,     0.96797,     0.96897,     0.96997,     0.97097,     0.97197,     0.97297,     0.97397,     0.97497,     0.97598,     0.97698,     0.97798,     0.97898,     0.97998,     0.98098,     0.98198,     0.98298,     0.98398,\n",
       "           0.98498,     0.98599,     0.98699,     0.98799,     0.98899,     0.98999,     0.99099,     0.99199,     0.99299,     0.99399,     0.99499,       0.996,       0.997,       0.998,       0.999,           1]), array([[    0.24609,     0.24609,     0.24609, ...,           0,           0,           0],\n",
       "       [    0.24719,     0.24719,     0.24719, ...,           0,           0,           0],\n",
       "       [   0.079422,    0.079422,    0.079422, ...,           0,           0,           0],\n",
       "       ...,\n",
       "       [    0.16552,     0.16552,     0.16552, ...,           0,           0,           0],\n",
       "       [   0.067797,    0.067797,    0.067797, ...,           0,           0,           0],\n",
       "       [    0.35319,     0.35319,     0.35319, ...,           0,           0,           0]]), 'Confidence', 'F1'], [array([          0,    0.001001,    0.002002,    0.003003,    0.004004,    0.005005,    0.006006,    0.007007,    0.008008,    0.009009,     0.01001,    0.011011,    0.012012,    0.013013,    0.014014,    0.015015,    0.016016,    0.017017,    0.018018,    0.019019,     0.02002,    0.021021,    0.022022,    0.023023,\n",
       "          0.024024,    0.025025,    0.026026,    0.027027,    0.028028,    0.029029,     0.03003,    0.031031,    0.032032,    0.033033,    0.034034,    0.035035,    0.036036,    0.037037,    0.038038,    0.039039,     0.04004,    0.041041,    0.042042,    0.043043,    0.044044,    0.045045,    0.046046,    0.047047,\n",
       "          0.048048,    0.049049,     0.05005,    0.051051,    0.052052,    0.053053,    0.054054,    0.055055,    0.056056,    0.057057,    0.058058,    0.059059,     0.06006,    0.061061,    0.062062,    0.063063,    0.064064,    0.065065,    0.066066,    0.067067,    0.068068,    0.069069,     0.07007,    0.071071,\n",
       "          0.072072,    0.073073,    0.074074,    0.075075,    0.076076,    0.077077,    0.078078,    0.079079,     0.08008,    0.081081,    0.082082,    0.083083,    0.084084,    0.085085,    0.086086,    0.087087,    0.088088,    0.089089,     0.09009,    0.091091,    0.092092,    0.093093,    0.094094,    0.095095,\n",
       "          0.096096,    0.097097,    0.098098,    0.099099,      0.1001,      0.1011,      0.1021,      0.1031,      0.1041,     0.10511,     0.10611,     0.10711,     0.10811,     0.10911,     0.11011,     0.11111,     0.11211,     0.11311,     0.11411,     0.11512,     0.11612,     0.11712,     0.11812,     0.11912,\n",
       "           0.12012,     0.12112,     0.12212,     0.12312,     0.12412,     0.12513,     0.12613,     0.12713,     0.12813,     0.12913,     0.13013,     0.13113,     0.13213,     0.13313,     0.13413,     0.13514,     0.13614,     0.13714,     0.13814,     0.13914,     0.14014,     0.14114,     0.14214,     0.14314,\n",
       "           0.14414,     0.14515,     0.14615,     0.14715,     0.14815,     0.14915,     0.15015,     0.15115,     0.15215,     0.15315,     0.15415,     0.15516,     0.15616,     0.15716,     0.15816,     0.15916,     0.16016,     0.16116,     0.16216,     0.16316,     0.16416,     0.16517,     0.16617,     0.16717,\n",
       "           0.16817,     0.16917,     0.17017,     0.17117,     0.17217,     0.17317,     0.17417,     0.17518,     0.17618,     0.17718,     0.17818,     0.17918,     0.18018,     0.18118,     0.18218,     0.18318,     0.18418,     0.18519,     0.18619,     0.18719,     0.18819,     0.18919,     0.19019,     0.19119,\n",
       "           0.19219,     0.19319,     0.19419,      0.1952,      0.1962,      0.1972,      0.1982,      0.1992,      0.2002,      0.2012,      0.2022,      0.2032,      0.2042,     0.20521,     0.20621,     0.20721,     0.20821,     0.20921,     0.21021,     0.21121,     0.21221,     0.21321,     0.21421,     0.21522,\n",
       "           0.21622,     0.21722,     0.21822,     0.21922,     0.22022,     0.22122,     0.22222,     0.22322,     0.22422,     0.22523,     0.22623,     0.22723,     0.22823,     0.22923,     0.23023,     0.23123,     0.23223,     0.23323,     0.23423,     0.23524,     0.23624,     0.23724,     0.23824,     0.23924,\n",
       "           0.24024,     0.24124,     0.24224,     0.24324,     0.24424,     0.24525,     0.24625,     0.24725,     0.24825,     0.24925,     0.25025,     0.25125,     0.25225,     0.25325,     0.25425,     0.25526,     0.25626,     0.25726,     0.25826,     0.25926,     0.26026,     0.26126,     0.26226,     0.26326,\n",
       "           0.26426,     0.26527,     0.26627,     0.26727,     0.26827,     0.26927,     0.27027,     0.27127,     0.27227,     0.27327,     0.27427,     0.27528,     0.27628,     0.27728,     0.27828,     0.27928,     0.28028,     0.28128,     0.28228,     0.28328,     0.28428,     0.28529,     0.28629,     0.28729,\n",
       "           0.28829,     0.28929,     0.29029,     0.29129,     0.29229,     0.29329,     0.29429,      0.2953,      0.2963,      0.2973,      0.2983,      0.2993,      0.3003,      0.3013,      0.3023,      0.3033,      0.3043,     0.30531,     0.30631,     0.30731,     0.30831,     0.30931,     0.31031,     0.31131,\n",
       "           0.31231,     0.31331,     0.31431,     0.31532,     0.31632,     0.31732,     0.31832,     0.31932,     0.32032,     0.32132,     0.32232,     0.32332,     0.32432,     0.32533,     0.32633,     0.32733,     0.32833,     0.32933,     0.33033,     0.33133,     0.33233,     0.33333,     0.33433,     0.33534,\n",
       "           0.33634,     0.33734,     0.33834,     0.33934,     0.34034,     0.34134,     0.34234,     0.34334,     0.34434,     0.34535,     0.34635,     0.34735,     0.34835,     0.34935,     0.35035,     0.35135,     0.35235,     0.35335,     0.35435,     0.35536,     0.35636,     0.35736,     0.35836,     0.35936,\n",
       "           0.36036,     0.36136,     0.36236,     0.36336,     0.36436,     0.36537,     0.36637,     0.36737,     0.36837,     0.36937,     0.37037,     0.37137,     0.37237,     0.37337,     0.37437,     0.37538,     0.37638,     0.37738,     0.37838,     0.37938,     0.38038,     0.38138,     0.38238,     0.38338,\n",
       "           0.38438,     0.38539,     0.38639,     0.38739,     0.38839,     0.38939,     0.39039,     0.39139,     0.39239,     0.39339,     0.39439,      0.3954,      0.3964,      0.3974,      0.3984,      0.3994,      0.4004,      0.4014,      0.4024,      0.4034,      0.4044,     0.40541,     0.40641,     0.40741,\n",
       "           0.40841,     0.40941,     0.41041,     0.41141,     0.41241,     0.41341,     0.41441,     0.41542,     0.41642,     0.41742,     0.41842,     0.41942,     0.42042,     0.42142,     0.42242,     0.42342,     0.42442,     0.42543,     0.42643,     0.42743,     0.42843,     0.42943,     0.43043,     0.43143,\n",
       "           0.43243,     0.43343,     0.43443,     0.43544,     0.43644,     0.43744,     0.43844,     0.43944,     0.44044,     0.44144,     0.44244,     0.44344,     0.44444,     0.44545,     0.44645,     0.44745,     0.44845,     0.44945,     0.45045,     0.45145,     0.45245,     0.45345,     0.45445,     0.45546,\n",
       "           0.45646,     0.45746,     0.45846,     0.45946,     0.46046,     0.46146,     0.46246,     0.46346,     0.46446,     0.46547,     0.46647,     0.46747,     0.46847,     0.46947,     0.47047,     0.47147,     0.47247,     0.47347,     0.47447,     0.47548,     0.47648,     0.47748,     0.47848,     0.47948,\n",
       "           0.48048,     0.48148,     0.48248,     0.48348,     0.48448,     0.48549,     0.48649,     0.48749,     0.48849,     0.48949,     0.49049,     0.49149,     0.49249,     0.49349,     0.49449,      0.4955,      0.4965,      0.4975,      0.4985,      0.4995,      0.5005,      0.5015,      0.5025,      0.5035,\n",
       "            0.5045,     0.50551,     0.50651,     0.50751,     0.50851,     0.50951,     0.51051,     0.51151,     0.51251,     0.51351,     0.51451,     0.51552,     0.51652,     0.51752,     0.51852,     0.51952,     0.52052,     0.52152,     0.52252,     0.52352,     0.52452,     0.52553,     0.52653,     0.52753,\n",
       "           0.52853,     0.52953,     0.53053,     0.53153,     0.53253,     0.53353,     0.53453,     0.53554,     0.53654,     0.53754,     0.53854,     0.53954,     0.54054,     0.54154,     0.54254,     0.54354,     0.54454,     0.54555,     0.54655,     0.54755,     0.54855,     0.54955,     0.55055,     0.55155,\n",
       "           0.55255,     0.55355,     0.55455,     0.55556,     0.55656,     0.55756,     0.55856,     0.55956,     0.56056,     0.56156,     0.56256,     0.56356,     0.56456,     0.56557,     0.56657,     0.56757,     0.56857,     0.56957,     0.57057,     0.57157,     0.57257,     0.57357,     0.57457,     0.57558,\n",
       "           0.57658,     0.57758,     0.57858,     0.57958,     0.58058,     0.58158,     0.58258,     0.58358,     0.58458,     0.58559,     0.58659,     0.58759,     0.58859,     0.58959,     0.59059,     0.59159,     0.59259,     0.59359,     0.59459,      0.5956,      0.5966,      0.5976,      0.5986,      0.5996,\n",
       "            0.6006,      0.6016,      0.6026,      0.6036,      0.6046,     0.60561,     0.60661,     0.60761,     0.60861,     0.60961,     0.61061,     0.61161,     0.61261,     0.61361,     0.61461,     0.61562,     0.61662,     0.61762,     0.61862,     0.61962,     0.62062,     0.62162,     0.62262,     0.62362,\n",
       "           0.62462,     0.62563,     0.62663,     0.62763,     0.62863,     0.62963,     0.63063,     0.63163,     0.63263,     0.63363,     0.63463,     0.63564,     0.63664,     0.63764,     0.63864,     0.63964,     0.64064,     0.64164,     0.64264,     0.64364,     0.64464,     0.64565,     0.64665,     0.64765,\n",
       "           0.64865,     0.64965,     0.65065,     0.65165,     0.65265,     0.65365,     0.65465,     0.65566,     0.65666,     0.65766,     0.65866,     0.65966,     0.66066,     0.66166,     0.66266,     0.66366,     0.66466,     0.66567,     0.66667,     0.66767,     0.66867,     0.66967,     0.67067,     0.67167,\n",
       "           0.67267,     0.67367,     0.67467,     0.67568,     0.67668,     0.67768,     0.67868,     0.67968,     0.68068,     0.68168,     0.68268,     0.68368,     0.68468,     0.68569,     0.68669,     0.68769,     0.68869,     0.68969,     0.69069,     0.69169,     0.69269,     0.69369,     0.69469,      0.6957,\n",
       "            0.6967,      0.6977,      0.6987,      0.6997,      0.7007,      0.7017,      0.7027,      0.7037,      0.7047,     0.70571,     0.70671,     0.70771,     0.70871,     0.70971,     0.71071,     0.71171,     0.71271,     0.71371,     0.71471,     0.71572,     0.71672,     0.71772,     0.71872,     0.71972,\n",
       "           0.72072,     0.72172,     0.72272,     0.72372,     0.72472,     0.72573,     0.72673,     0.72773,     0.72873,     0.72973,     0.73073,     0.73173,     0.73273,     0.73373,     0.73473,     0.73574,     0.73674,     0.73774,     0.73874,     0.73974,     0.74074,     0.74174,     0.74274,     0.74374,\n",
       "           0.74474,     0.74575,     0.74675,     0.74775,     0.74875,     0.74975,     0.75075,     0.75175,     0.75275,     0.75375,     0.75475,     0.75576,     0.75676,     0.75776,     0.75876,     0.75976,     0.76076,     0.76176,     0.76276,     0.76376,     0.76476,     0.76577,     0.76677,     0.76777,\n",
       "           0.76877,     0.76977,     0.77077,     0.77177,     0.77277,     0.77377,     0.77477,     0.77578,     0.77678,     0.77778,     0.77878,     0.77978,     0.78078,     0.78178,     0.78278,     0.78378,     0.78478,     0.78579,     0.78679,     0.78779,     0.78879,     0.78979,     0.79079,     0.79179,\n",
       "           0.79279,     0.79379,     0.79479,      0.7958,      0.7968,      0.7978,      0.7988,      0.7998,      0.8008,      0.8018,      0.8028,      0.8038,      0.8048,     0.80581,     0.80681,     0.80781,     0.80881,     0.80981,     0.81081,     0.81181,     0.81281,     0.81381,     0.81481,     0.81582,\n",
       "           0.81682,     0.81782,     0.81882,     0.81982,     0.82082,     0.82182,     0.82282,     0.82382,     0.82482,     0.82583,     0.82683,     0.82783,     0.82883,     0.82983,     0.83083,     0.83183,     0.83283,     0.83383,     0.83483,     0.83584,     0.83684,     0.83784,     0.83884,     0.83984,\n",
       "           0.84084,     0.84184,     0.84284,     0.84384,     0.84484,     0.84585,     0.84685,     0.84785,     0.84885,     0.84985,     0.85085,     0.85185,     0.85285,     0.85385,     0.85485,     0.85586,     0.85686,     0.85786,     0.85886,     0.85986,     0.86086,     0.86186,     0.86286,     0.86386,\n",
       "           0.86486,     0.86587,     0.86687,     0.86787,     0.86887,     0.86987,     0.87087,     0.87187,     0.87287,     0.87387,     0.87487,     0.87588,     0.87688,     0.87788,     0.87888,     0.87988,     0.88088,     0.88188,     0.88288,     0.88388,     0.88488,     0.88589,     0.88689,     0.88789,\n",
       "           0.88889,     0.88989,     0.89089,     0.89189,     0.89289,     0.89389,     0.89489,      0.8959,      0.8969,      0.8979,      0.8989,      0.8999,      0.9009,      0.9019,      0.9029,      0.9039,      0.9049,     0.90591,     0.90691,     0.90791,     0.90891,     0.90991,     0.91091,     0.91191,\n",
       "           0.91291,     0.91391,     0.91491,     0.91592,     0.91692,     0.91792,     0.91892,     0.91992,     0.92092,     0.92192,     0.92292,     0.92392,     0.92492,     0.92593,     0.92693,     0.92793,     0.92893,     0.92993,     0.93093,     0.93193,     0.93293,     0.93393,     0.93493,     0.93594,\n",
       "           0.93694,     0.93794,     0.93894,     0.93994,     0.94094,     0.94194,     0.94294,     0.94394,     0.94494,     0.94595,     0.94695,     0.94795,     0.94895,     0.94995,     0.95095,     0.95195,     0.95295,     0.95395,     0.95495,     0.95596,     0.95696,     0.95796,     0.95896,     0.95996,\n",
       "           0.96096,     0.96196,     0.96296,     0.96396,     0.96496,     0.96597,     0.96697,     0.96797,     0.96897,     0.96997,     0.97097,     0.97197,     0.97297,     0.97397,     0.97497,     0.97598,     0.97698,     0.97798,     0.97898,     0.97998,     0.98098,     0.98198,     0.98298,     0.98398,\n",
       "           0.98498,     0.98599,     0.98699,     0.98799,     0.98899,     0.98999,     0.99099,     0.99199,     0.99299,     0.99399,     0.99499,       0.996,       0.997,       0.998,       0.999,           1]), array([[    0.14062,     0.14062,     0.14062, ...,           1,           1,           1],\n",
       "       [    0.19643,     0.19643,     0.19643, ...,           1,           1,           1],\n",
       "       [   0.041353,    0.041353,    0.041353, ...,           1,           1,           1],\n",
       "       ...,\n",
       "       [   0.093023,    0.093023,    0.093023, ...,           1,           1,           1],\n",
       "       [   0.035398,    0.035398,    0.035398, ...,           1,           1,           1],\n",
       "       [    0.22002,     0.22002,     0.22002, ...,           1,           1,           1]]), 'Confidence', 'Precision'], [array([          0,    0.001001,    0.002002,    0.003003,    0.004004,    0.005005,    0.006006,    0.007007,    0.008008,    0.009009,     0.01001,    0.011011,    0.012012,    0.013013,    0.014014,    0.015015,    0.016016,    0.017017,    0.018018,    0.019019,     0.02002,    0.021021,    0.022022,    0.023023,\n",
       "          0.024024,    0.025025,    0.026026,    0.027027,    0.028028,    0.029029,     0.03003,    0.031031,    0.032032,    0.033033,    0.034034,    0.035035,    0.036036,    0.037037,    0.038038,    0.039039,     0.04004,    0.041041,    0.042042,    0.043043,    0.044044,    0.045045,    0.046046,    0.047047,\n",
       "          0.048048,    0.049049,     0.05005,    0.051051,    0.052052,    0.053053,    0.054054,    0.055055,    0.056056,    0.057057,    0.058058,    0.059059,     0.06006,    0.061061,    0.062062,    0.063063,    0.064064,    0.065065,    0.066066,    0.067067,    0.068068,    0.069069,     0.07007,    0.071071,\n",
       "          0.072072,    0.073073,    0.074074,    0.075075,    0.076076,    0.077077,    0.078078,    0.079079,     0.08008,    0.081081,    0.082082,    0.083083,    0.084084,    0.085085,    0.086086,    0.087087,    0.088088,    0.089089,     0.09009,    0.091091,    0.092092,    0.093093,    0.094094,    0.095095,\n",
       "          0.096096,    0.097097,    0.098098,    0.099099,      0.1001,      0.1011,      0.1021,      0.1031,      0.1041,     0.10511,     0.10611,     0.10711,     0.10811,     0.10911,     0.11011,     0.11111,     0.11211,     0.11311,     0.11411,     0.11512,     0.11612,     0.11712,     0.11812,     0.11912,\n",
       "           0.12012,     0.12112,     0.12212,     0.12312,     0.12412,     0.12513,     0.12613,     0.12713,     0.12813,     0.12913,     0.13013,     0.13113,     0.13213,     0.13313,     0.13413,     0.13514,     0.13614,     0.13714,     0.13814,     0.13914,     0.14014,     0.14114,     0.14214,     0.14314,\n",
       "           0.14414,     0.14515,     0.14615,     0.14715,     0.14815,     0.14915,     0.15015,     0.15115,     0.15215,     0.15315,     0.15415,     0.15516,     0.15616,     0.15716,     0.15816,     0.15916,     0.16016,     0.16116,     0.16216,     0.16316,     0.16416,     0.16517,     0.16617,     0.16717,\n",
       "           0.16817,     0.16917,     0.17017,     0.17117,     0.17217,     0.17317,     0.17417,     0.17518,     0.17618,     0.17718,     0.17818,     0.17918,     0.18018,     0.18118,     0.18218,     0.18318,     0.18418,     0.18519,     0.18619,     0.18719,     0.18819,     0.18919,     0.19019,     0.19119,\n",
       "           0.19219,     0.19319,     0.19419,      0.1952,      0.1962,      0.1972,      0.1982,      0.1992,      0.2002,      0.2012,      0.2022,      0.2032,      0.2042,     0.20521,     0.20621,     0.20721,     0.20821,     0.20921,     0.21021,     0.21121,     0.21221,     0.21321,     0.21421,     0.21522,\n",
       "           0.21622,     0.21722,     0.21822,     0.21922,     0.22022,     0.22122,     0.22222,     0.22322,     0.22422,     0.22523,     0.22623,     0.22723,     0.22823,     0.22923,     0.23023,     0.23123,     0.23223,     0.23323,     0.23423,     0.23524,     0.23624,     0.23724,     0.23824,     0.23924,\n",
       "           0.24024,     0.24124,     0.24224,     0.24324,     0.24424,     0.24525,     0.24625,     0.24725,     0.24825,     0.24925,     0.25025,     0.25125,     0.25225,     0.25325,     0.25425,     0.25526,     0.25626,     0.25726,     0.25826,     0.25926,     0.26026,     0.26126,     0.26226,     0.26326,\n",
       "           0.26426,     0.26527,     0.26627,     0.26727,     0.26827,     0.26927,     0.27027,     0.27127,     0.27227,     0.27327,     0.27427,     0.27528,     0.27628,     0.27728,     0.27828,     0.27928,     0.28028,     0.28128,     0.28228,     0.28328,     0.28428,     0.28529,     0.28629,     0.28729,\n",
       "           0.28829,     0.28929,     0.29029,     0.29129,     0.29229,     0.29329,     0.29429,      0.2953,      0.2963,      0.2973,      0.2983,      0.2993,      0.3003,      0.3013,      0.3023,      0.3033,      0.3043,     0.30531,     0.30631,     0.30731,     0.30831,     0.30931,     0.31031,     0.31131,\n",
       "           0.31231,     0.31331,     0.31431,     0.31532,     0.31632,     0.31732,     0.31832,     0.31932,     0.32032,     0.32132,     0.32232,     0.32332,     0.32432,     0.32533,     0.32633,     0.32733,     0.32833,     0.32933,     0.33033,     0.33133,     0.33233,     0.33333,     0.33433,     0.33534,\n",
       "           0.33634,     0.33734,     0.33834,     0.33934,     0.34034,     0.34134,     0.34234,     0.34334,     0.34434,     0.34535,     0.34635,     0.34735,     0.34835,     0.34935,     0.35035,     0.35135,     0.35235,     0.35335,     0.35435,     0.35536,     0.35636,     0.35736,     0.35836,     0.35936,\n",
       "           0.36036,     0.36136,     0.36236,     0.36336,     0.36436,     0.36537,     0.36637,     0.36737,     0.36837,     0.36937,     0.37037,     0.37137,     0.37237,     0.37337,     0.37437,     0.37538,     0.37638,     0.37738,     0.37838,     0.37938,     0.38038,     0.38138,     0.38238,     0.38338,\n",
       "           0.38438,     0.38539,     0.38639,     0.38739,     0.38839,     0.38939,     0.39039,     0.39139,     0.39239,     0.39339,     0.39439,      0.3954,      0.3964,      0.3974,      0.3984,      0.3994,      0.4004,      0.4014,      0.4024,      0.4034,      0.4044,     0.40541,     0.40641,     0.40741,\n",
       "           0.40841,     0.40941,     0.41041,     0.41141,     0.41241,     0.41341,     0.41441,     0.41542,     0.41642,     0.41742,     0.41842,     0.41942,     0.42042,     0.42142,     0.42242,     0.42342,     0.42442,     0.42543,     0.42643,     0.42743,     0.42843,     0.42943,     0.43043,     0.43143,\n",
       "           0.43243,     0.43343,     0.43443,     0.43544,     0.43644,     0.43744,     0.43844,     0.43944,     0.44044,     0.44144,     0.44244,     0.44344,     0.44444,     0.44545,     0.44645,     0.44745,     0.44845,     0.44945,     0.45045,     0.45145,     0.45245,     0.45345,     0.45445,     0.45546,\n",
       "           0.45646,     0.45746,     0.45846,     0.45946,     0.46046,     0.46146,     0.46246,     0.46346,     0.46446,     0.46547,     0.46647,     0.46747,     0.46847,     0.46947,     0.47047,     0.47147,     0.47247,     0.47347,     0.47447,     0.47548,     0.47648,     0.47748,     0.47848,     0.47948,\n",
       "           0.48048,     0.48148,     0.48248,     0.48348,     0.48448,     0.48549,     0.48649,     0.48749,     0.48849,     0.48949,     0.49049,     0.49149,     0.49249,     0.49349,     0.49449,      0.4955,      0.4965,      0.4975,      0.4985,      0.4995,      0.5005,      0.5015,      0.5025,      0.5035,\n",
       "            0.5045,     0.50551,     0.50651,     0.50751,     0.50851,     0.50951,     0.51051,     0.51151,     0.51251,     0.51351,     0.51451,     0.51552,     0.51652,     0.51752,     0.51852,     0.51952,     0.52052,     0.52152,     0.52252,     0.52352,     0.52452,     0.52553,     0.52653,     0.52753,\n",
       "           0.52853,     0.52953,     0.53053,     0.53153,     0.53253,     0.53353,     0.53453,     0.53554,     0.53654,     0.53754,     0.53854,     0.53954,     0.54054,     0.54154,     0.54254,     0.54354,     0.54454,     0.54555,     0.54655,     0.54755,     0.54855,     0.54955,     0.55055,     0.55155,\n",
       "           0.55255,     0.55355,     0.55455,     0.55556,     0.55656,     0.55756,     0.55856,     0.55956,     0.56056,     0.56156,     0.56256,     0.56356,     0.56456,     0.56557,     0.56657,     0.56757,     0.56857,     0.56957,     0.57057,     0.57157,     0.57257,     0.57357,     0.57457,     0.57558,\n",
       "           0.57658,     0.57758,     0.57858,     0.57958,     0.58058,     0.58158,     0.58258,     0.58358,     0.58458,     0.58559,     0.58659,     0.58759,     0.58859,     0.58959,     0.59059,     0.59159,     0.59259,     0.59359,     0.59459,      0.5956,      0.5966,      0.5976,      0.5986,      0.5996,\n",
       "            0.6006,      0.6016,      0.6026,      0.6036,      0.6046,     0.60561,     0.60661,     0.60761,     0.60861,     0.60961,     0.61061,     0.61161,     0.61261,     0.61361,     0.61461,     0.61562,     0.61662,     0.61762,     0.61862,     0.61962,     0.62062,     0.62162,     0.62262,     0.62362,\n",
       "           0.62462,     0.62563,     0.62663,     0.62763,     0.62863,     0.62963,     0.63063,     0.63163,     0.63263,     0.63363,     0.63463,     0.63564,     0.63664,     0.63764,     0.63864,     0.63964,     0.64064,     0.64164,     0.64264,     0.64364,     0.64464,     0.64565,     0.64665,     0.64765,\n",
       "           0.64865,     0.64965,     0.65065,     0.65165,     0.65265,     0.65365,     0.65465,     0.65566,     0.65666,     0.65766,     0.65866,     0.65966,     0.66066,     0.66166,     0.66266,     0.66366,     0.66466,     0.66567,     0.66667,     0.66767,     0.66867,     0.66967,     0.67067,     0.67167,\n",
       "           0.67267,     0.67367,     0.67467,     0.67568,     0.67668,     0.67768,     0.67868,     0.67968,     0.68068,     0.68168,     0.68268,     0.68368,     0.68468,     0.68569,     0.68669,     0.68769,     0.68869,     0.68969,     0.69069,     0.69169,     0.69269,     0.69369,     0.69469,      0.6957,\n",
       "            0.6967,      0.6977,      0.6987,      0.6997,      0.7007,      0.7017,      0.7027,      0.7037,      0.7047,     0.70571,     0.70671,     0.70771,     0.70871,     0.70971,     0.71071,     0.71171,     0.71271,     0.71371,     0.71471,     0.71572,     0.71672,     0.71772,     0.71872,     0.71972,\n",
       "           0.72072,     0.72172,     0.72272,     0.72372,     0.72472,     0.72573,     0.72673,     0.72773,     0.72873,     0.72973,     0.73073,     0.73173,     0.73273,     0.73373,     0.73473,     0.73574,     0.73674,     0.73774,     0.73874,     0.73974,     0.74074,     0.74174,     0.74274,     0.74374,\n",
       "           0.74474,     0.74575,     0.74675,     0.74775,     0.74875,     0.74975,     0.75075,     0.75175,     0.75275,     0.75375,     0.75475,     0.75576,     0.75676,     0.75776,     0.75876,     0.75976,     0.76076,     0.76176,     0.76276,     0.76376,     0.76476,     0.76577,     0.76677,     0.76777,\n",
       "           0.76877,     0.76977,     0.77077,     0.77177,     0.77277,     0.77377,     0.77477,     0.77578,     0.77678,     0.77778,     0.77878,     0.77978,     0.78078,     0.78178,     0.78278,     0.78378,     0.78478,     0.78579,     0.78679,     0.78779,     0.78879,     0.78979,     0.79079,     0.79179,\n",
       "           0.79279,     0.79379,     0.79479,      0.7958,      0.7968,      0.7978,      0.7988,      0.7998,      0.8008,      0.8018,      0.8028,      0.8038,      0.8048,     0.80581,     0.80681,     0.80781,     0.80881,     0.80981,     0.81081,     0.81181,     0.81281,     0.81381,     0.81481,     0.81582,\n",
       "           0.81682,     0.81782,     0.81882,     0.81982,     0.82082,     0.82182,     0.82282,     0.82382,     0.82482,     0.82583,     0.82683,     0.82783,     0.82883,     0.82983,     0.83083,     0.83183,     0.83283,     0.83383,     0.83483,     0.83584,     0.83684,     0.83784,     0.83884,     0.83984,\n",
       "           0.84084,     0.84184,     0.84284,     0.84384,     0.84484,     0.84585,     0.84685,     0.84785,     0.84885,     0.84985,     0.85085,     0.85185,     0.85285,     0.85385,     0.85485,     0.85586,     0.85686,     0.85786,     0.85886,     0.85986,     0.86086,     0.86186,     0.86286,     0.86386,\n",
       "           0.86486,     0.86587,     0.86687,     0.86787,     0.86887,     0.86987,     0.87087,     0.87187,     0.87287,     0.87387,     0.87487,     0.87588,     0.87688,     0.87788,     0.87888,     0.87988,     0.88088,     0.88188,     0.88288,     0.88388,     0.88488,     0.88589,     0.88689,     0.88789,\n",
       "           0.88889,     0.88989,     0.89089,     0.89189,     0.89289,     0.89389,     0.89489,      0.8959,      0.8969,      0.8979,      0.8989,      0.8999,      0.9009,      0.9019,      0.9029,      0.9039,      0.9049,     0.90591,     0.90691,     0.90791,     0.90891,     0.90991,     0.91091,     0.91191,\n",
       "           0.91291,     0.91391,     0.91491,     0.91592,     0.91692,     0.91792,     0.91892,     0.91992,     0.92092,     0.92192,     0.92292,     0.92392,     0.92492,     0.92593,     0.92693,     0.92793,     0.92893,     0.92993,     0.93093,     0.93193,     0.93293,     0.93393,     0.93493,     0.93594,\n",
       "           0.93694,     0.93794,     0.93894,     0.93994,     0.94094,     0.94194,     0.94294,     0.94394,     0.94494,     0.94595,     0.94695,     0.94795,     0.94895,     0.94995,     0.95095,     0.95195,     0.95295,     0.95395,     0.95495,     0.95596,     0.95696,     0.95796,     0.95896,     0.95996,\n",
       "           0.96096,     0.96196,     0.96296,     0.96396,     0.96496,     0.96597,     0.96697,     0.96797,     0.96897,     0.96997,     0.97097,     0.97197,     0.97297,     0.97397,     0.97497,     0.97598,     0.97698,     0.97798,     0.97898,     0.97998,     0.98098,     0.98198,     0.98298,     0.98398,\n",
       "           0.98498,     0.98599,     0.98699,     0.98799,     0.98899,     0.98999,     0.99099,     0.99199,     0.99299,     0.99399,     0.99499,       0.996,       0.997,       0.998,       0.999,           1]), array([[    0.98438,     0.98438,     0.98438, ...,           0,           0,           0],\n",
       "       [    0.33333,     0.33333,     0.33333, ...,           0,           0,           0],\n",
       "       [          1,           1,           1, ...,           0,           0,           0],\n",
       "       ...,\n",
       "       [       0.75,        0.75,        0.75, ...,           0,           0,           0],\n",
       "       [        0.8,         0.8,         0.8, ...,           0,           0,           0],\n",
       "       [    0.89474,     0.89474,     0.89474, ...,           0,           0,           0]]), 'Confidence', 'Recall']]\n",
       "fitness: 0.46775303870068197\n",
       "keys: ['metrics/precision(B)', 'metrics/recall(B)', 'metrics/mAP50(B)', 'metrics/mAP50-95(B)']\n",
       "maps: array([    0.79545,      0.1621,     0.65891,       0.511,    0.059735,     0.61565,     0.55881,       0.718,        0.27,     0.11971,     0.65277,      0.3514,     0.69493,     0.64841,     0.25814,     0.17337,     0.55898])\n",
       "names: {0: '-rescent wrench', 1: 'Backsaw', 2: 'Calipers', 3: 'Cutting pliers', 4: 'Drill', 5: 'Gas wrench', 6: 'Gun', 7: 'Hammer', 8: 'Hand', 9: 'Handsaw', 10: 'Needle-nose pliers', 11: 'Pliers', 12: 'Ratchet', 13: 'Screwdriver', 14: 'Tape measure', 15: 'Utility knife', 16: 'Wrench'}\n",
       "plot: True\n",
       "results_dict: {'metrics/precision(B)': 0.6827194405991652, 'metrics/recall(B)': 0.446640677750258, 'metrics/mAP50(B)': 0.544215911026451, 'metrics/mAP50-95(B)': 0.45925716399781874, 'fitness': 0.46775303870068197}\n",
       "save_dir: PosixPath('/home/irfan/Desktop/Code/Deep-Learning-For-Computer-Vision/runs/detect/train')\n",
       "speed: {'preprocess': 0.2667242391950133, 'inference': 18.126970770731138, 'loss': 0.002225699452306494, 'postprocess': 0.9027629918445741}\n",
       "task: 'detect'"
      ]
     },
     "execution_count": 3,
     "metadata": {},
     "output_type": "execute_result"
    }
   ],
   "source": [
    "model.val(imgsz=640,batch=4,save_dir= f'{save_dir}/{epoch}/val/')"
   ]
  },
  {
   "cell_type": "code",
   "execution_count": null,
   "id": "cf8ff5a5-2b2a-41b5-b139-5aef7f60cc4b",
   "metadata": {},
   "outputs": [
    {
     "data": {
      "text/plain": [
       "'1.12.1+cu116'"
      ]
     },
     "execution_count": 6,
     "metadata": {},
     "output_type": "execute_result"
    }
   ],
   "source": [
    "import torch\n",
    "torch.__version__"
   ]
  },
  {
   "cell_type": "code",
   "execution_count": 4,
   "id": "ab6978ec-74e5-4e11-8bde-3079f337302e",
   "metadata": {},
   "outputs": [
    {
     "data": {
      "text/plain": [
       "PosixPath('/home/irfan/.config/Ultralytics')"
      ]
     },
     "execution_count": 4,
     "metadata": {},
     "output_type": "execute_result"
    }
   ],
   "source": [
    "from yolov8.utils import DATASETS_DIR, get_user_config_dir\n",
    "DATASETS_DIR\n",
    "get_user_config_dir()"
   ]
  },
  {
   "cell_type": "code",
   "execution_count": 2,
   "id": "01ed481a-74ec-49af-baba-89079d23b695",
   "metadata": {},
   "outputs": [
    {
     "name": "stdout",
     "output_type": "stream",
     "text": [
      "rm: cannot remove '__pycache__': No such file or directory\n"
     ]
    }
   ],
   "source": [
    "!rm -r __pycache__"
   ]
  },
  {
   "cell_type": "code",
   "execution_count": 2,
   "id": "c74bf6f7-33a0-4ee9-a68d-dc966644c5ba",
   "metadata": {},
   "outputs": [
    {
     "data": {
      "text/plain": [
       "{'classify': {'model': yolov8.nn.tasks.ClassificationModel,\n",
       "  'trainer': yolov8.models.yolo.classify.train.ClassificationTrainer,\n",
       "  'validator': yolov8.models.yolo.classify.val.ClassificationValidator,\n",
       "  'predictor': yolov8.models.yolo.classify.predict.ClassificationPredictor},\n",
       " 'detect': {'model': yolov8.nn.tasks.DetectionModel,\n",
       "  'trainer': yolov8.models.yolo.detect.train.DetectionTrainer,\n",
       "  'validator': yolov8.models.yolo.detect.val.DetectionValidator,\n",
       "  'predictor': yolov8.models.yolo.detect.predict.DetectionPredictor},\n",
       " 'segment': {'model': yolov8.nn.tasks.SegmentationModel,\n",
       "  'trainer': yolov8.models.yolo.segment.train.SegmentationTrainer,\n",
       "  'validator': yolov8.models.yolo.segment.val.SegmentationValidator,\n",
       "  'predictor': yolov8.models.yolo.segment.predict.SegmentationPredictor},\n",
       " 'pose': {'model': yolov8.nn.tasks.PoseModel,\n",
       "  'trainer': yolov8.models.yolo.pose.train.PoseTrainer,\n",
       "  'validator': yolov8.models.yolo.pose.val.PoseValidator,\n",
       "  'predictor': yolov8.models.yolo.pose.predict.PosePredictor}}"
      ]
     },
     "execution_count": 2,
     "metadata": {},
     "output_type": "execute_result"
    }
   ],
   "source": [
    "model.task_map"
   ]
  },
  {
   "cell_type": "code",
   "execution_count": null,
   "id": "0d6ed2a4-5718-4b28-afc2-683d35f74990",
   "metadata": {},
   "outputs": [],
   "source": [
    "yolov8.models.yolo.detect.train.DetectionTrainer"
   ]
  },
  {
   "cell_type": "code",
   "execution_count": null,
   "id": "8e72b003-da56-4ab4-9ed2-c317a30833f1",
   "metadata": {},
   "outputs": [],
   "source": [
    "#find ./yolov8/ -type f -exec sed -i 's/ultralytics/yolov8/g' {} \\;\n"
   ]
  },
  {
   "cell_type": "code",
   "execution_count": null,
   "id": "ee86798d-e94a-49ae-a1c7-1e3f1d90f1f5",
   "metadata": {},
   "outputs": [
    {
     "name": "stdout",
     "output_type": "stream",
     "text": [
      "Found existing installation: ultralytics 8.0.216\n",
      "Uninstalling ultralytics-8.0.216:\n",
      "  Would remove:\n",
      "    /home/irfan/Desktop/Code/Linux-IO/python_38/bin/ultralytics\n",
      "    /home/irfan/Desktop/Code/Linux-IO/python_38/bin/yolo\n",
      "    /home/irfan/Desktop/Code/Linux-IO/python_38/lib/python3.8/site-packages/ultralytics-8.0.216.dist-info/*\n",
      "    /home/irfan/Desktop/Code/Linux-IO/python_38/lib/python3.8/site-packages/ultralytics/*\n",
      "Proceed (Y/n)? "
     ]
    }
   ],
   "source": [
    "!"
   ]
  },
  {
   "cell_type": "code",
   "execution_count": null,
   "id": "0b0342a1-7a49-4662-9c75-2cfe762e1b19",
   "metadata": {},
   "outputs": [],
   "source": []
  }
 ],
 "metadata": {
  "kernelspec": {
   "display_name": "python_38",
   "language": "python",
   "name": "python_38"
  },
  "language_info": {
   "codemirror_mode": {
    "name": "ipython",
    "version": 3
   },
   "file_extension": ".py",
   "mimetype": "text/x-python",
   "name": "python",
   "nbconvert_exporter": "python",
   "pygments_lexer": "ipython3",
   "version": "3.8.10"
  }
 },
 "nbformat": 4,
 "nbformat_minor": 5
}
