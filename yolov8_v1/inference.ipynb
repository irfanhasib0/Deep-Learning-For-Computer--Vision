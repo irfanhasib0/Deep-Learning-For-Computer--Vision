{
 "cells": [
  {
   "cell_type": "code",
   "execution_count": 1,
   "id": "7b5d9f8c-e840-4f89-a377-7746a1dffd27",
   "metadata": {},
   "outputs": [],
   "source": [
    "import os\n",
    "import sys\n",
    "import pandas as pd\n",
    "sys.path.append('./yolov8')\n",
    "from yolov8 import YOLO"
   ]
  },
  {
   "cell_type": "code",
   "execution_count": 2,
   "id": "b4a86eb6-e4ce-45d9-b8d1-3c76772dfa62",
   "metadata": {},
   "outputs": [
    {
     "name": "stdout",
     "output_type": "stream",
     "text": [
      "\n",
      "                   from  n    params  module                                       arguments                     \n",
      "  0                  -1  1       464  yolov8.nn.modules.conv.Conv                  [3, 16, 3, 2]                 \n",
      "  1                  -1  1      4672  yolov8.nn.modules.conv.Conv                  [16, 32, 3, 2]                \n",
      "  2                  -1  1      7360  yolov8.nn.modules.block.C2f                  [32, 32, 1, True]             \n",
      "  3                  -1  1     18560  yolov8.nn.modules.conv.Conv                  [32, 64, 3, 2]                \n",
      "  4                  -1  2     49664  yolov8.nn.modules.block.C2f                  [64, 64, 2, True]             \n",
      "  5                  -1  1     73984  yolov8.nn.modules.conv.Conv                  [64, 128, 3, 2]               \n",
      "  6                  -1  2    197632  yolov8.nn.modules.block.C2f                  [128, 128, 2, True]           \n",
      "  7                  -1  1    295424  yolov8.nn.modules.conv.Conv                  [128, 256, 3, 2]              \n",
      "  8                  -1  1    460288  yolov8.nn.modules.block.C2f                  [256, 256, 1, True]           \n",
      "  9                  -1  1    164608  yolov8.nn.modules.block.SPPF                 [256, 256, 5]                 \n",
      " 10                  -1  1         0  torch.nn.modules.upsampling.Upsample         [None, 2, 'nearest']          \n",
      " 11             [-1, 6]  1         0  yolov8.nn.modules.conv.Concat                [1]                           \n",
      " 12                  -1  1    148224  yolov8.nn.modules.block.C2f                  [384, 128, 1]                 \n",
      " 13                  -1  1         0  torch.nn.modules.upsampling.Upsample         [None, 2, 'nearest']          \n",
      " 14             [-1, 4]  1         0  yolov8.nn.modules.conv.Concat                [1]                           \n",
      " 15                  -1  1     37248  yolov8.nn.modules.block.C2f                  [192, 64, 1]                  \n",
      " 16                  -1  1     36992  yolov8.nn.modules.conv.Conv                  [64, 64, 3, 2]                \n",
      " 17            [-1, 12]  1         0  yolov8.nn.modules.conv.Concat                [1]                           \n",
      " 18                  -1  1    123648  yolov8.nn.modules.block.C2f                  [192, 128, 1]                 \n",
      " 19                  -1  1    147712  yolov8.nn.modules.conv.Conv                  [128, 128, 3, 2]              \n",
      " 20             [-1, 9]  1         0  yolov8.nn.modules.conv.Concat                [1]                           \n",
      " 21                  -1  1    493056  yolov8.nn.modules.block.C2f                  [384, 256, 1]                 \n",
      " 22        [15, 18, 21]  1    897664  yolov8.nn.modules.head.Detect                [80, [64, 128, 256]]          \n",
      "YOLOv8n summary: 225 layers, 3157200 parameters, 3157184 gradients, 8.9 GFLOPs\n",
      "\n",
      "Transferred 355/355 items from pretrained weights\n"
     ]
    }
   ],
   "source": [
    "model_name = 'yolov8n'\n",
    "model = YOLO(f'{model_name}.yaml').load(f'../models/{model_name}.pt')  # build from YAML and transfer weights"
   ]
  },
  {
   "cell_type": "code",
   "execution_count": 3,
   "id": "08b40bb1-4f12-4545-9429-9cc9eb82c6fd",
   "metadata": {
    "scrolled": true,
    "tags": []
   },
   "outputs": [
    {
     "name": "stdout",
     "output_type": "stream",
     "text": [
      "Ultralytics YOLOv8.0.216 🚀 Python-3.8.10 torch-1.12.1+cu116 CPU (Intel Core(TM) i7-9750H 2.60GHz)\n",
      "YOLOv8n summary (fused): 168 layers, 3151904 parameters, 0 gradients, 8.7 GFLOPs\n",
      "\n",
      "\u001b[34m\u001b[1mPyTorch:\u001b[0m starting from '../models/yolov8n.onnx' with input shape (1, 3, 640, 640) BCHW and output shape(s) (1, 84, 8400) (0.0 MB)\n",
      "\n",
      "\u001b[34m\u001b[1mONNX:\u001b[0m starting export with onnx 1.15.0 opset 10...\n",
      "\u001b[34m\u001b[1mONNX:\u001b[0m export success ✅ 1.7s, saved as '../models/yolov8n.onnx' (12.2 MB)\n",
      "\n",
      "Export complete (2.1s)\n",
      "Results saved to \u001b[1m/home/irfan/Desktop/Code/Deep-Learning-For-Computer-Vision/models\u001b[0m\n",
      "Predict:         yolo predict task=detect model=../models/yolov8n.onnx imgsz=640  \n",
      "Validate:        yolo val task=detect model=../models/yolov8n.onnx imgsz=640 data=None  \n",
      "Visualize:       https://netron.app\n"
     ]
    },
    {
     "data": {
      "text/plain": [
       "'../models/yolov8n.onnx'"
      ]
     },
     "execution_count": 3,
     "metadata": {},
     "output_type": "execute_result"
    }
   ],
   "source": [
    "model.export(save_dir=f'../models/{model_name}.onnx',format='onnx')"
   ]
  },
  {
   "cell_type": "code",
   "execution_count": 4,
   "id": "8833d3f7-f2a8-46bd-8c05-828f2e49e08b",
   "metadata": {},
   "outputs": [
    {
     "name": "stdout",
     "output_type": "stream",
     "text": [
      "done\n"
     ]
    }
   ],
   "source": [
    "print('done')"
   ]
  },
  {
   "cell_type": "code",
   "execution_count": 1,
   "id": "f854abf5-b457-47ec-b075-1be9cb6611f4",
   "metadata": {},
   "outputs": [],
   "source": [
    "import argparse\n",
    "\n",
    "import cv2\n",
    "import numpy as np\n",
    "import onnxruntime as ort\n",
    "import torch\n",
    "\n",
    "import os\n",
    "import sys\n",
    "import pandas as pd\n",
    "sys.path.append('./yolov8')\n",
    "from yolov8 import YOLO\n",
    "\n",
    "from yolov8.utils import ASSETS, yaml_load\n",
    "from yolov8.utils.checks import check_requirements, check_yaml\n",
    "\n",
    "\n",
    "class YOLOv8:\n",
    "    \"\"\"YOLOv8 object detection model class for handling inference and visualization.\"\"\"\n",
    "\n",
    "    def __init__(self, onnx_model, input_image, confidence_thres, iou_thres):\n",
    "        \"\"\"\n",
    "        Initializes an instance of the YOLOv8 class.\n",
    "\n",
    "        Args:\n",
    "            onnx_model: Path to the ONNX model.\n",
    "            input_image: Path to the input image.\n",
    "            confidence_thres: Confidence threshold for filtering detections.\n",
    "            iou_thres: IoU (Intersection over Union) threshold for non-maximum suppression.\n",
    "        \"\"\"\n",
    "        self.onnx_model = onnx_model\n",
    "        self.input_image = input_image\n",
    "        self.confidence_thres = confidence_thres\n",
    "        self.iou_thres = iou_thres\n",
    "\n",
    "        # Load the class names from the COCO dataset\n",
    "        self.classes = yaml_load(check_yaml('coco128.yaml'))['names']\n",
    "\n",
    "        # Generate a color palette for the classes\n",
    "        self.color_palette = np.random.uniform(0, 255, size=(len(self.classes), 3))\n",
    "\n",
    "    def draw_detections(self, img, box, score, class_id):\n",
    "        \"\"\"\n",
    "        Draws bounding boxes and labels on the input image based on the detected objects.\n",
    "\n",
    "        Args:\n",
    "            img: The input image to draw detections on.\n",
    "            box: Detected bounding box.\n",
    "            score: Corresponding detection score.\n",
    "            class_id: Class ID for the detected object.\n",
    "\n",
    "        Returns:\n",
    "            None\n",
    "        \"\"\"\n",
    "\n",
    "        # Extract the coordinates of the bounding box\n",
    "        x1, y1, w, h = box\n",
    "\n",
    "        # Retrieve the color for the class ID\n",
    "        color = self.color_palette[class_id]\n",
    "\n",
    "        # Draw the bounding box on the image\n",
    "        cv2.rectangle(img, (int(x1), int(y1)), (int(x1 + w), int(y1 + h)), color, 2)\n",
    "\n",
    "        # Create the label text with class name and score\n",
    "        label = f'{self.classes[class_id]}: {score:.2f}'\n",
    "\n",
    "        # Calculate the dimensions of the label text\n",
    "        (label_width, label_height), _ = cv2.getTextSize(label, cv2.FONT_HERSHEY_SIMPLEX, 0.5, 1)\n",
    "\n",
    "        # Calculate the position of the label text\n",
    "        label_x = x1\n",
    "        label_y = y1 - 10 if y1 - 10 > label_height else y1 + 10\n",
    "\n",
    "        # Draw a filled rectangle as the background for the label text\n",
    "        cv2.rectangle(img, (label_x, label_y - label_height), (label_x + label_width, label_y + label_height), color,\n",
    "                      cv2.FILLED)\n",
    "\n",
    "        # Draw the label text on the image\n",
    "        cv2.putText(img, label, (label_x, label_y), cv2.FONT_HERSHEY_SIMPLEX, 0.5, (0, 0, 0), 1, cv2.LINE_AA)\n",
    "\n",
    "    def preprocess(self):\n",
    "        \"\"\"\n",
    "        Preprocesses the input image before performing inference.\n",
    "\n",
    "        Returns:\n",
    "            image_data: Preprocessed image data ready for inference.\n",
    "        \"\"\"\n",
    "        # Read the input image using OpenCV\n",
    "        self.img = cv2.imread(self.input_image)\n",
    "\n",
    "        # Get the height and width of the input image\n",
    "        self.img_height, self.img_width = self.img.shape[:2]\n",
    "\n",
    "        # Convert the image color space from BGR to RGB\n",
    "        img = cv2.cvtColor(self.img, cv2.COLOR_BGR2RGB)\n",
    "\n",
    "        # Resize the image to match the input shape\n",
    "        img = cv2.resize(img, (self.input_width, self.input_height))\n",
    "\n",
    "        # Normalize the image data by dividing it by 255.0\n",
    "        image_data = np.array(img) / 255.0\n",
    "\n",
    "        # Transpose the image to have the channel dimension as the first dimension\n",
    "        image_data = np.transpose(image_data, (2, 0, 1))  # Channel first\n",
    "\n",
    "        # Expand the dimensions of the image data to match the expected input shape\n",
    "        image_data = np.expand_dims(image_data, axis=0).astype(np.float32)\n",
    "\n",
    "        # Return the preprocessed image data\n",
    "        return image_data\n",
    "\n",
    "    def postprocess(self, input_image, output):\n",
    "        \"\"\"\n",
    "        Performs post-processing on the model's output to extract bounding boxes, scores, and class IDs.\n",
    "\n",
    "        Args:\n",
    "            input_image (numpy.ndarray): The input image.\n",
    "            output (numpy.ndarray): The output of the model.\n",
    "\n",
    "        Returns:\n",
    "            numpy.ndarray: The input image with detections drawn on it.\n",
    "        \"\"\"\n",
    "\n",
    "        # Transpose and squeeze the output to match the expected shape\n",
    "        outputs = np.transpose(np.squeeze(output[0]))\n",
    "\n",
    "        # Get the number of rows in the outputs array\n",
    "        rows = outputs.shape[0]\n",
    "\n",
    "        # Lists to store the bounding boxes, scores, and class IDs of the detections\n",
    "        boxes = []\n",
    "        scores = []\n",
    "        class_ids = []\n",
    "\n",
    "        # Calculate the scaling factors for the bounding box coordinates\n",
    "        x_factor = self.img_width / self.input_width\n",
    "        y_factor = self.img_height / self.input_height\n",
    "\n",
    "        # Iterate over each row in the outputs array\n",
    "        for i in range(rows):\n",
    "            # Extract the class scores from the current row\n",
    "            classes_scores = outputs[i][4:]\n",
    "\n",
    "            # Find the maximum score among the class scores\n",
    "            max_score = np.amax(classes_scores)\n",
    "\n",
    "            # If the maximum score is above the confidence threshold\n",
    "            if max_score >= self.confidence_thres:\n",
    "                # Get the class ID with the highest score\n",
    "                class_id = np.argmax(classes_scores)\n",
    "\n",
    "                # Extract the bounding box coordinates from the current row\n",
    "                x, y, w, h = outputs[i][0], outputs[i][1], outputs[i][2], outputs[i][3]\n",
    "\n",
    "                # Calculate the scaled coordinates of the bounding box\n",
    "                left = int((x - w / 2) * x_factor)\n",
    "                top = int((y - h / 2) * y_factor)\n",
    "                width = int(w * x_factor)\n",
    "                height = int(h * y_factor)\n",
    "\n",
    "                # Add the class ID, score, and box coordinates to the respective lists\n",
    "                class_ids.append(class_id)\n",
    "                scores.append(max_score)\n",
    "                boxes.append([left, top, width, height])\n",
    "\n",
    "        # Apply non-maximum suppression to filter out overlapping bounding boxes\n",
    "        indices = cv2.dnn.NMSBoxes(boxes, scores, self.confidence_thres, self.iou_thres)\n",
    "\n",
    "        # Iterate over the selected indices after non-maximum suppression\n",
    "        for i in indices:\n",
    "            # Get the box, score, and class ID corresponding to the index\n",
    "            box = boxes[i]\n",
    "            score = scores[i]\n",
    "            class_id = class_ids[i]\n",
    "\n",
    "            # Draw the detection on the input image\n",
    "            self.draw_detections(input_image, box, score, class_id)\n",
    "\n",
    "        # Return the modified input image\n",
    "        return input_image\n",
    "\n",
    "    def main(self):\n",
    "        \"\"\"\n",
    "        Performs inference using an ONNX model and returns the output image with drawn detections.\n",
    "\n",
    "        Returns:\n",
    "            output_img: The output image with drawn detections.\n",
    "        \"\"\"\n",
    "        # Create an inference session using the ONNX model and specify execution providers\n",
    "        session = ort.InferenceSession(self.onnx_model, providers=['CUDAExecutionProvider', 'CPUExecutionProvider'])\n",
    "\n",
    "        # Get the model inputs\n",
    "        model_inputs = session.get_inputs()\n",
    "\n",
    "        # Store the shape of the input for later use\n",
    "        input_shape = model_inputs[0].shape\n",
    "        self.input_width = input_shape[2]\n",
    "        self.input_height = input_shape[3]\n",
    "\n",
    "        # Preprocess the image data\n",
    "        img_data = self.preprocess()\n",
    "\n",
    "        # Run inference using the preprocessed image data\n",
    "        outputs = session.run(None, {model_inputs[0].name: img_data})\n",
    "\n",
    "        # Perform post-processing on the outputs to obtain output image.\n",
    "        return self.postprocess(self.img, outputs)  # output image\n",
    "\n",
    "\n",
    "def run(args):\n",
    "    # Create an argument parser to handle command-line arguments\n",
    "    '''\n",
    "    parser = argparse.ArgumentParser()\n",
    "    parser.add_argument('--model', type=str, default='yolov8n.onnx', help='Input your ONNX model.')\n",
    "    parser.add_argument('--img', type=str, default=str(ASSETS / 'bus.jpg'), help='Path to input image.')\n",
    "    parser.add_argument('--conf-thres', type=float, default=0.5, help='Confidence threshold')\n",
    "    parser.add_argument('--iou-thres', type=float, default=0.5, help='NMS IoU threshold')\n",
    "    args = parser.parse_args()\n",
    "    '''\n",
    "    # Check the requirements and select the appropriate backend (CPU or GPU)\n",
    "    #check_requirements('onnxruntime-gpu' if torch.cuda.is_available() else 'onnxruntime')\n",
    "\n",
    "    # Create an instance of the YOLOv8 class with the specified arguments\n",
    "    detection = YOLOv8(args.model, args.img, args.conf_thres, args.iou_thres)\n",
    "\n",
    "    # Perform object detection and obtain the output image\n",
    "    output_image = detection.main()\n",
    "\n",
    "    # Display the output image in a window\n",
    "    cv2.namedWindow('Output', cv2.WINDOW_NORMAL)\n",
    "    cv2.imshow('Output', output_image)\n",
    "\n",
    "    # Wait for a key press to exit\n",
    "    cv2.waitKey(0)\n"
   ]
  },
  {
   "cell_type": "code",
   "execution_count": null,
   "id": "2d5971cc-940e-474d-af59-8771e7892093",
   "metadata": {},
   "outputs": [
    {
     "name": "stderr",
     "output_type": "stream",
     "text": [
      "/home/irfan/Desktop/Code/Linux-IO/python_38/lib/python3.8/site-packages/onnxruntime/capi/onnxruntime_inference_collection.py:69: UserWarning: Specified provider 'CUDAExecutionProvider' is not in available provider names.Available providers: 'AzureExecutionProvider, CPUExecutionProvider'\n",
      "  warnings.warn(\n"
     ]
    }
   ],
   "source": [
    "class Params():\n",
    "    def __init__(self):\n",
    "        self.model = '../models/yolov8n.onnx'\n",
    "        self.img   = str('yolov8/assets/bus.jpg')\n",
    "        self.conf_thres = 0.5\n",
    "        self.iou_thres  = 0.5\n",
    "        \n",
    "args = Params()\n",
    "run(args)"
   ]
  },
  {
   "cell_type": "code",
   "execution_count": 2,
   "id": "96851704-57e5-4775-a038-684d9b708d4a",
   "metadata": {},
   "outputs": [],
   "source": [
    "from yolov8.utils import ASSETS, yaml_load"
   ]
  },
  {
   "cell_type": "code",
   "execution_count": 8,
   "id": "c79bf1c0-0b5a-4514-835d-a95262662bb8",
   "metadata": {},
   "outputs": [
    {
     "data": {
      "text/plain": [
       "PosixPath('/home/irfan/Desktop/Code/Deep-Learning-For-Computer-Vision/yolov8_v1/yolov8/assets')"
      ]
     },
     "execution_count": 8,
     "metadata": {},
     "output_type": "execute_result"
    }
   ],
   "source": [
    "ASSETS"
   ]
  },
  {
   "cell_type": "code",
   "execution_count": 12,
   "id": "d588ab57-e124-49b2-a597-76624cb5846e",
   "metadata": {},
   "outputs": [
    {
     "data": {
      "text/plain": [
       "PosixPath('/home/irfan/Desktop/Code/Deep-Learning-For-Computer-Vision/yolov8_v1/yolov8_v1/yolov8/assets')"
      ]
     },
     "execution_count": 12,
     "metadata": {},
     "output_type": "execute_result"
    }
   ],
   "source": [
    "from pathlib import Path\n",
    "pth = Path('yolov8_v1/yolov8/assets')\n",
    "pth.resolve()"
   ]
  },
  {
   "cell_type": "code",
   "execution_count": null,
   "id": "89ed2c28-a838-473b-ba0a-3832f7404fbd",
   "metadata": {},
   "outputs": [],
   "source": []
  }
 ],
 "metadata": {
  "kernelspec": {
   "display_name": "python_38",
   "language": "python",
   "name": "python_38"
  },
  "language_info": {
   "codemirror_mode": {
    "name": "ipython",
    "version": 3
   },
   "file_extension": ".py",
   "mimetype": "text/x-python",
   "name": "python",
   "nbconvert_exporter": "python",
   "pygments_lexer": "ipython3",
   "version": "3.8.10"
  }
 },
 "nbformat": 4,
 "nbformat_minor": 5
}
