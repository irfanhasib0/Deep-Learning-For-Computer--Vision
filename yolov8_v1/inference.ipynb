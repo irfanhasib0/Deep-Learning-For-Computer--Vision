{
 "cells": [
  {
   "cell_type": "code",
   "execution_count": 1,
   "id": "7b5d9f8c-e840-4f89-a377-7746a1dffd27",
   "metadata": {},
   "outputs": [],
   "source": [
    "import os\n",
    "import sys\n",
    "import pandas as pd\n",
    "sys.path.append('./yolov8')\n",
    "from yolov8 import YOLO"
   ]
  },
  {
   "cell_type": "code",
   "execution_count": 2,
   "id": "b4a86eb6-e4ce-45d9-b8d1-3c76772dfa62",
   "metadata": {},
   "outputs": [],
   "source": [
    "model_name = 'yolov8s'\n",
    "imgsz      = 640\n",
    "simplify   = False\n",
    "half       = False\n",
    "save_dir   = f\"../models/toolsv2_{model_name}_{imgsz}{'s' if simplify else ''}{'h' if half else ''}.onnx\"\n",
    "model_file = '/home/irfan/Desktop/Code/Deep-Learning-For-Computer-Vision/logs/exp-v8s/16/train/weights/best.pt'\n",
    "#model_file = f'../models/{model_name}.pt'\n",
    "#model = YOLO(f'{model_name}.yaml').load(model_file)  # build from YAML and transfer weights\n",
    "model = YOLO(model_file)  # build from YAML and transfer weights"
   ]
  },
  {
   "cell_type": "code",
   "execution_count": 3,
   "id": "08b40bb1-4f12-4545-9429-9cc9eb82c6fd",
   "metadata": {
    "scrolled": true,
    "tags": []
   },
   "outputs": [
    {
     "name": "stdout",
     "output_type": "stream",
     "text": [
      "Ultralytics YOLOv8.0.216 🚀 Python-3.8.10 torch-1.12.1+cu116 CPU (Intel Core(TM) i7-9750H 2.60GHz)\n",
      "YOLOv8s summary (fused): 168 layers, 11132163 parameters, 0 gradients, 28.5 GFLOPs\n",
      "\n",
      "\u001b[34m\u001b[1mPyTorch:\u001b[0m starting from '../models/toolsv2_yolov8s_640.onnx' with input shape (1, 3, 640, 640) BCHW and output shape(s) (1, 21, 8400) (0.0 MB)\n",
      "\n",
      "\u001b[34m\u001b[1mONNX:\u001b[0m starting export with onnx 1.15.0 opset 10...\n",
      "\u001b[34m\u001b[1mONNX:\u001b[0m simplifying with onnxsim 0.4.35...\n",
      "\u001b[34m\u001b[1mONNX:\u001b[0m export success ✅ 3.5s, saved as '../models/toolsv2_yolov8s_640.onnx' (42.6 MB)\n",
      "\n",
      "Export complete (4.5s)\n",
      "Results saved to \u001b[1m/home/irfan/Desktop/Code/Deep-Learning-For-Computer-Vision/models\u001b[0m\n",
      "Predict:         yolo predict task=detect model=../models/toolsv2_yolov8s_640.onnx imgsz=640  \n",
      "Validate:        yolo val task=detect model=../models/toolsv2_yolov8s_640.onnx imgsz=640 data=/home/irfan/Desktop/Data/Tools segmentation 2.v3i.yolov8/data.yaml  \n",
      "Visualize:       https://netron.app\n"
     ]
    },
    {
     "data": {
      "text/plain": [
       "'../models/toolsv2_yolov8s_640.onnx'"
      ]
     },
     "execution_count": 3,
     "metadata": {},
     "output_type": "execute_result"
    }
   ],
   "source": [
    "model.export(save_dir=save_dir,\n",
    "             format='onnx',\n",
    "             imgsz=imgsz,\n",
    "             half=False,\n",
    "             simplify=True)"
   ]
  },
  {
   "cell_type": "code",
   "execution_count": 5,
   "id": "8833d3f7-f2a8-46bd-8c05-828f2e49e08b",
   "metadata": {},
   "outputs": [
    {
     "name": "stdout",
     "output_type": "stream",
     "text": [
      "done\n"
     ]
    }
   ],
   "source": [
    "print('done')"
   ]
  },
  {
   "cell_type": "code",
   "execution_count": null,
   "id": "cc3b7595-d479-4b46-bcbc-6b9c952d034b",
   "metadata": {},
   "outputs": [],
   "source": []
  },
  {
   "cell_type": "code",
   "execution_count": 1,
   "id": "f854abf5-b457-47ec-b075-1be9cb6611f4",
   "metadata": {},
   "outputs": [],
   "source": [
    "import argparse\n",
    "\n",
    "import cv2\n",
    "import numpy as np\n",
    "import onnxruntime as ort\n",
    "import torch\n",
    "\n",
    "import os\n",
    "import sys\n",
    "import pandas as pd\n",
    "sys.path.append('./yolov8')\n",
    "from yolov8 import YOLO\n",
    "\n",
    "from yolov8.utils import ASSETS, yaml_load\n",
    "from yolov8.utils.checks import check_requirements, check_yaml\n",
    "\n",
    "\n",
    "class YOLOv8:\n",
    "    \"\"\"YOLOv8 object detection model class for handling inference and visualization.\"\"\"\n",
    "\n",
    "    def __init__(self, onnx_model, conf_thres, iou_thres):\n",
    "        \"\"\"\n",
    "        Initializes an instance of the YOLOv8 class.\n",
    "\n",
    "        Args:\n",
    "            onnx_model: Path to the ONNX model.\n",
    "            input_image: Path to the input image.\n",
    "            conf_thres: Confidence threshold for filtering detections.\n",
    "            iou_thres: IoU (Intersection over Union) threshold for non-maximum suppression.\n",
    "        \"\"\"\n",
    "        self.onnx_model = onnx_model\n",
    "        self.conf_thres = conf_thres\n",
    "        self.iou_thres  = iou_thres\n",
    "\n",
    "        # Load the class names from the COCO dataset\n",
    "        self.classes  = yaml_load(check_yaml('/home/irfan/Desktop/Data/Tools segmentation 2.v3i.yolov8/data.yaml'))['names']\n",
    "        #self.classes = yaml_load(check_yaml('coco128.yaml'))['names']\n",
    "\n",
    "        # Generate a color palette for the classes\n",
    "        self.color_palette = np.random.uniform(0, 255, size=(len(self.classes), 3))\n",
    "\n",
    "    def draw_detections(self, img, box, score, class_id):\n",
    "        \"\"\"\n",
    "        Draws bounding boxes and labels on the input image based on the detected objects.\n",
    "\n",
    "        Args:\n",
    "            img: The input image to draw detections on.\n",
    "            box: Detected bounding box.\n",
    "            score: Corresponding detection score.\n",
    "            class_id: Class ID for the detected object.\n",
    "\n",
    "        Returns:\n",
    "            None\n",
    "        \"\"\"\n",
    "\n",
    "        # Extract the coordinates of the bounding box\n",
    "        x1, y1, w, h = box\n",
    "\n",
    "        # Retrieve the color for the class ID\n",
    "        color = self.color_palette[class_id]\n",
    "\n",
    "        # Draw the bounding box on the image\n",
    "        cv2.rectangle(img, (int(x1), int(y1)), (int(x1 + w), int(y1 + h)), color, 2)\n",
    "\n",
    "        # Create the label text with class name and score\n",
    "        label = f'{self.classes[class_id]}: {score:.2f}'\n",
    "\n",
    "        # Calculate the dimensions of the label text\n",
    "        (label_width, label_height), _ = cv2.getTextSize(label, cv2.FONT_HERSHEY_SIMPLEX, 0.5, 1)\n",
    "\n",
    "        # Calculate the position of the label text\n",
    "        label_x = x1\n",
    "        label_y = y1 - 10 if y1 - 10 > label_height else y1 + 10\n",
    "\n",
    "        # Draw a filled rectangle as the background for the label text\n",
    "        cv2.rectangle(img, (label_x, label_y - label_height), (label_x + label_width, label_y + label_height), color,\n",
    "                      cv2.FILLED)\n",
    "\n",
    "        # Draw the label text on the image\n",
    "        cv2.putText(img, label, (label_x, label_y), cv2.FONT_HERSHEY_SIMPLEX, 0.5, (0, 0, 0), 1, cv2.LINE_AA)\n",
    "\n",
    "    def preprocess(self,img):\n",
    "        \"\"\"\n",
    "        Preprocesses the input image before performing inference.\n",
    "\n",
    "        Returns:\n",
    "            image_data: Preprocessed image data ready for inference.\n",
    "        \"\"\"\n",
    "        # Read the input image using OpenCV\n",
    "        self.img = img\n",
    "\n",
    "        # Get the height and width of the input image\n",
    "        self.img_height, self.img_width = self.img.shape[:2]\n",
    "\n",
    "        # Convert the image color space from BGR to RGB\n",
    "        img = cv2.cvtColor(self.img, cv2.COLOR_BGR2RGB)\n",
    "\n",
    "        # Resize the image to match the input shape\n",
    "        img = cv2.resize(img, (self.input_width, self.input_height))\n",
    "\n",
    "        # Normalize the image data by dividing it by 255.0\n",
    "        image_data = np.array(img) / 255.0\n",
    "\n",
    "        # Transpose the image to have the channel dimension as the first dimension\n",
    "        image_data = np.transpose(image_data, (2, 0, 1))  # Channel first\n",
    "\n",
    "        # Expand the dimensions of the image data to match the expected input shape\n",
    "        image_data = np.expand_dims(image_data, axis=0).astype(np.float32)\n",
    "\n",
    "        # Return the preprocessed image data\n",
    "        return image_data\n",
    "\n",
    "    def postprocess(self, input_image, output):\n",
    "        \"\"\"\n",
    "        Performs post-processing on the model's output to extract bounding boxes, scores, and class IDs.\n",
    "\n",
    "        Args:\n",
    "            input_image (numpy.ndarray): The input image.\n",
    "            output (numpy.ndarray): The output of the model.\n",
    "\n",
    "        Returns:\n",
    "            numpy.ndarray: The input image with detections drawn on it.\n",
    "        \"\"\"\n",
    "\n",
    "        # Transpose and squeeze the output to match the expected shape\n",
    "        outputs = np.transpose(np.squeeze(output[0]))\n",
    "\n",
    "        # Get the number of rows in the outputs array\n",
    "        rows = outputs.shape[0]\n",
    "\n",
    "        # Lists to store the bounding boxes, scores, and class IDs of the detections\n",
    "        boxes = []\n",
    "        scores = []\n",
    "        class_ids = []\n",
    "\n",
    "        # Calculate the scaling factors for the bounding box coordinates\n",
    "        x_factor = self.img_width / self.input_width\n",
    "        y_factor = self.img_height / self.input_height\n",
    "        print(self.img_width, self.img_height , '---', self.input_width, self.input_height )\n",
    "        # Iterate over each row in the outputs array\n",
    "        for i in range(rows):\n",
    "            classes_scores = outputs[i][4:]\n",
    "            max_score = np.amax(classes_scores)\n",
    "\n",
    "            # If the maximum score is above the confidence threshold\n",
    "            if max_score >= self.conf_thres:\n",
    "                class_id = np.argmax(classes_scores)\n",
    "                x, y, w, h = outputs[i][0], outputs[i][1], outputs[i][2], outputs[i][3]\n",
    "\n",
    "                # Calculate the scaled coordinates of the bounding box\n",
    "                left = int((x - w / 2) * x_factor)\n",
    "                top = int((y - h / 2) * y_factor)\n",
    "                width = int(w * x_factor)\n",
    "                height = int(h * y_factor)\n",
    "\n",
    "                # Add the class ID, score, and box coordinates to the respective lists\n",
    "                class_ids.append(class_id)\n",
    "                scores.append(max_score)\n",
    "                boxes.append([left, top, width, height])\n",
    "\n",
    "        # Apply non-maximum suppression to filter out overlapping bounding boxes\n",
    "        indices = cv2.dnn.NMSBoxes(boxes, scores, self.conf_thres, self.iou_thres)\n",
    "\n",
    "        # Iterate over the selected indices after non-maximum suppression\n",
    "        for i in indices:\n",
    "            # Get the box, score, and class ID corresponding to the index\n",
    "            box = boxes[i]\n",
    "            score = scores[i]\n",
    "            class_id = class_ids[i]\n",
    "\n",
    "            # Draw the detection on the input image\n",
    "            self.draw_detections(input_image, box, score, class_id)\n",
    "\n",
    "        # Return the modified input image\n",
    "        return input_image\n",
    "\n",
    "    def main(self,input_image):\n",
    "        session      = ort.InferenceSession(self.onnx_model, providers=['CUDAExecutionProvider', 'CPUExecutionProvider'])\n",
    "        model_inputs = session.get_inputs()\n",
    "        _, _, self.input_width ,  self.input_height  = model_inputs[0].shape\n",
    "        \n",
    "        # Preprocess the image data\n",
    "        img_data = self.preprocess(input_image)\n",
    "        outputs  = session.run(None, {model_inputs[0].name: img_data})\n",
    "        result   = self.postprocess(self.img, outputs)  # output image\n",
    "        \n",
    "        return result\n",
    "\n",
    "\n",
    "def run(args):\n",
    "    '''\n",
    "    parser = argparse.ArgumentParser()\n",
    "    parser.add_argument('--model', type=str, default='yolov8n.onnx', help='Input your ONNX model.')\n",
    "    parser.add_argument('--img', type=str, default=str(ASSETS / 'bus.jpg'), help='Path to input image.')\n",
    "    parser.add_argument('--conf-thres', type=float, default=0.5, help='Confidence threshold')\n",
    "    parser.add_argument('--iou-thres', type=float, default=0.5, help='NMS IoU threshold')\n",
    "    args = parser.parse_args()\n",
    "    '''\n",
    "    # Check the requirements and select the appropriate backend (CPU or GPU)\n",
    "    #check_requirements('onnxruntime-gpu' if torch.cuda.is_available() else 'onnxruntime')\n",
    "\n",
    "    # Create an instance of the YOLOv8 class with the specified arguments\n",
    "    detection = YOLOv8(args.model, args.conf_thres, args.iou_thres)\n",
    "    if args.img:\n",
    "        frame         = cv2.imread(args.img)\n",
    "        output_image  = detection.main(frame)\n",
    "        cv2.namedWindow('Output', cv2.WINDOW_NORMAL)\n",
    "        cv2.imshow('Output', output_image)\n",
    "        cv2.waitKey(0)\n",
    "        cv2.destroyAllWindows()\n",
    "    else:\n",
    "        cap       = cv2.VideoCapture(0 if not args.video else args.video)\n",
    "        success = True\n",
    "        count = 0\n",
    "        while success:\n",
    "            success,frame = cap.read()\n",
    "            count += 1 if count<4 else 0 \n",
    "            if count in [2,3]    : continue\n",
    "            #frame = cv2.resize(frame,)\n",
    "            output_image  = detection.main(frame)\n",
    "            cv2.namedWindow('Output', cv2.WINDOW_NORMAL)\n",
    "            cv2.imshow('Output', output_image)\n",
    "            if cv2.waitKey(1) & 0xFF == ord('q'):\n",
    "                cap.release()\n",
    "                cv2.destroyAllWindows()\n",
    "                break\n"
   ]
  },
  {
   "cell_type": "code",
   "execution_count": 2,
   "id": "2d5971cc-940e-474d-af59-8771e7892093",
   "metadata": {
    "scrolled": true,
    "tags": []
   },
   "outputs": [
    {
     "name": "stdout",
     "output_type": "stream",
     "text": [
      "374 720 --- 640 640\n",
      "374 720 --- 640 640\n",
      "374 720 --- 640 640\n",
      "374 720 --- 640 640\n",
      "374 720 --- 640 640\n",
      "374 720 --- 640 640\n",
      "374 720 --- 640 640\n",
      "374 720 --- 640 640\n",
      "374 720 --- 640 640\n",
      "374 720 --- 640 640\n",
      "374 720 --- 640 640\n",
      "374 720 --- 640 640\n",
      "374 720 --- 640 640\n",
      "374 720 --- 640 640\n",
      "374 720 --- 640 640\n",
      "374 720 --- 640 640\n",
      "374 720 --- 640 640\n",
      "374 720 --- 640 640\n",
      "374 720 --- 640 640\n",
      "374 720 --- 640 640\n"
     ]
    }
   ],
   "source": [
    "import glob\n",
    "files= glob.glob('/home/irfan/Desktop/Data/Tools segmentation 2.v3i.yolov8/valid/images/*')\n",
    "class Params():\n",
    "    def __init__(self):\n",
    "        #self.model = '../models/yolov8n_320sh.onnx'\n",
    "        self.model = '../models/toolsv2_yolov8s_640.onnx'\n",
    "        self.img   = False#files[0]#str('yolov8/assets/bus.jpg')\n",
    "        self.video = '/home/irfan/Desktop/Data/CCTV_Exp/Lock/How to break a door cylinder lock in 10 second.mp4'\n",
    "        self.conf_thres = 0.5\n",
    "        self.iou_thres  = 0.5\n",
    "        \n",
    "args = Params()\n",
    "run(args)"
   ]
  },
  {
   "cell_type": "code",
   "execution_count": 4,
   "id": "ffa7dedf-f3be-4296-91ba-94893b6a4b2f",
   "metadata": {},
   "outputs": [],
   "source": []
  },
  {
   "cell_type": "code",
   "execution_count": 2,
   "id": "96851704-57e5-4775-a038-684d9b708d4a",
   "metadata": {},
   "outputs": [],
   "source": [
    "from yolov8.utils import ASSETS, yaml_load"
   ]
  },
  {
   "cell_type": "code",
   "execution_count": 8,
   "id": "c79bf1c0-0b5a-4514-835d-a95262662bb8",
   "metadata": {},
   "outputs": [
    {
     "data": {
      "text/plain": [
       "PosixPath('/home/irfan/Desktop/Code/Deep-Learning-For-Computer-Vision/yolov8_v1/yolov8/assets')"
      ]
     },
     "execution_count": 8,
     "metadata": {},
     "output_type": "execute_result"
    }
   ],
   "source": [
    "ASSETS"
   ]
  },
  {
   "cell_type": "code",
   "execution_count": 12,
   "id": "d588ab57-e124-49b2-a597-76624cb5846e",
   "metadata": {},
   "outputs": [
    {
     "data": {
      "text/plain": [
       "PosixPath('/home/irfan/Desktop/Code/Deep-Learning-For-Computer-Vision/yolov8_v1/yolov8_v1/yolov8/assets')"
      ]
     },
     "execution_count": 12,
     "metadata": {},
     "output_type": "execute_result"
    }
   ],
   "source": [
    "from pathlib import Path\n",
    "pth = Path('yolov8_v1/yolov8/assets')\n",
    "pth.resolve()"
   ]
  },
  {
   "cell_type": "code",
   "execution_count": null,
   "id": "89ed2c28-a838-473b-ba0a-3832f7404fbd",
   "metadata": {},
   "outputs": [],
   "source": []
  }
 ],
 "metadata": {
  "kernelspec": {
   "display_name": "python_38",
   "language": "python",
   "name": "python_38"
  },
  "language_info": {
   "codemirror_mode": {
    "name": "ipython",
    "version": 3
   },
   "file_extension": ".py",
   "mimetype": "text/x-python",
   "name": "python",
   "nbconvert_exporter": "python",
   "pygments_lexer": "ipython3",
   "version": "3.8.10"
  }
 },
 "nbformat": 4,
 "nbformat_minor": 5
}
